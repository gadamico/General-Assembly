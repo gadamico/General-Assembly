{
 "cells": [
  {
   "cell_type": "code",
   "execution_count": 1,
   "metadata": {},
   "outputs": [],
   "source": [
    "import numpy as np"
   ]
  },
  {
   "cell_type": "code",
   "execution_count": 2,
   "metadata": {},
   "outputs": [],
   "source": [
    "import pandas as pd\n",
    "ak = pd.read_csv('alaska_raw.csv')\n",
    "fl = pd.read_csv('florida_raw.csv')"
   ]
  },
  {
   "cell_type": "code",
   "execution_count": 3,
   "metadata": {},
   "outputs": [],
   "source": [
    "from sklearn.preprocessing import StandardScaler\n",
    "from sklearn.model_selection import train_test_split\n",
    "from sklearn.linear_model import LinearRegression\n",
    "from sklearn.ensemble import RandomForestRegressor\n",
    "import matplotlib.pyplot as plt"
   ]
  },
  {
   "cell_type": "markdown",
   "metadata": {},
   "source": [
    "# Alaskan Tuberculosis"
   ]
  },
  {
   "cell_type": "code",
   "execution_count": 4,
   "metadata": {},
   "outputs": [],
   "source": [
    "y = ak['mx']"
   ]
  },
  {
   "cell_type": "code",
   "execution_count": 5,
   "metadata": {},
   "outputs": [
    {
     "data": {
      "text/plain": [
       "Index(['Unnamed: 0', 'location_name', 'sex', 'year_id', 'mx', 'lower', 'upper',\n",
       "       'Climate', 'Population', 'Rank', 'Borough or Census Area',\n",
       "       'Per capita income', 'Median household income', 'Median family income',\n",
       "       'Number of households', 'Aleutians East Borough',\n",
       "       'Aleutians West Census Area', 'Anchorage Municipality',\n",
       "       'Bethel Census Area', 'Bristol Bay Borough', 'Denali Borough',\n",
       "       'Dillingham Census Area', 'Fairbanks North Star Borough',\n",
       "       'Haines Borough', 'Hoonah-Angoon Census Area',\n",
       "       'Juneau City and Borough', 'Kenai Peninsula Borough',\n",
       "       'Ketchikan Gateway Borough', 'Kodiak Island Borough',\n",
       "       'Kusilvak Census Area', 'Lake and Peninsula Borough',\n",
       "       'Matanuska-Susitna Borough', 'Nome Census Area', 'North Slope Borough',\n",
       "       'Northwest Arctic Borough', 'Petersburg Borough',\n",
       "       'Prince of Wales-Hyder Census Area', 'Sitka City and Borough',\n",
       "       'Skagway Municipality', 'Southeast Fairbanks Census Area',\n",
       "       'Valdez-Cordova Census Area', 'Wrangell City and Borough',\n",
       "       'Yakutat City and Borough', 'Yukon-Koyukuk Census Area',\n",
       "       'Cold semi-arid/Dry-summer subarctic/Subarctic',\n",
       "       'Cold semi-arid/Subarctic', 'Dry-summer subarctic/Subarctic', 'Oceanic',\n",
       "       'Oceanic/Subarctic', 'Subarctic',\n",
       "       'Tundra/Cold semi-arid/Dry-summer subarctic/Subarctic',\n",
       "       'Tundra/Dry-summer subarctic/Subarctic', 'Tundra/Oceanic/Subarctic',\n",
       "       'Tundra/Subarctic'],\n",
       "      dtype='object')"
      ]
     },
     "execution_count": 5,
     "metadata": {},
     "output_type": "execute_result"
    }
   ],
   "source": [
    "ak.columns"
   ]
  },
  {
   "cell_type": "code",
   "execution_count": 6,
   "metadata": {},
   "outputs": [],
   "source": [
    "ak = ak.drop(columns = ['Unnamed: 0', 'Borough or Census Area'])"
   ]
  },
  {
   "cell_type": "code",
   "execution_count": 7,
   "metadata": {},
   "outputs": [
    {
     "data": {
      "text/html": [
       "<div>\n",
       "<style scoped>\n",
       "    .dataframe tbody tr th:only-of-type {\n",
       "        vertical-align: middle;\n",
       "    }\n",
       "\n",
       "    .dataframe tbody tr th {\n",
       "        vertical-align: top;\n",
       "    }\n",
       "\n",
       "    .dataframe thead th {\n",
       "        text-align: right;\n",
       "    }\n",
       "</style>\n",
       "<table border=\"1\" class=\"dataframe\">\n",
       "  <thead>\n",
       "    <tr style=\"text-align: right;\">\n",
       "      <th></th>\n",
       "      <th>location_name</th>\n",
       "      <th>sex</th>\n",
       "      <th>year_id</th>\n",
       "      <th>mx</th>\n",
       "      <th>lower</th>\n",
       "      <th>upper</th>\n",
       "      <th>Climate</th>\n",
       "      <th>Population</th>\n",
       "      <th>Rank</th>\n",
       "      <th>Per capita income</th>\n",
       "      <th>...</th>\n",
       "      <th>Cold semi-arid/Dry-summer subarctic/Subarctic</th>\n",
       "      <th>Cold semi-arid/Subarctic</th>\n",
       "      <th>Dry-summer subarctic/Subarctic</th>\n",
       "      <th>Oceanic</th>\n",
       "      <th>Oceanic/Subarctic</th>\n",
       "      <th>Subarctic</th>\n",
       "      <th>Tundra/Cold semi-arid/Dry-summer subarctic/Subarctic</th>\n",
       "      <th>Tundra/Dry-summer subarctic/Subarctic</th>\n",
       "      <th>Tundra/Oceanic/Subarctic</th>\n",
       "      <th>Tundra/Subarctic</th>\n",
       "    </tr>\n",
       "  </thead>\n",
       "  <tbody>\n",
       "    <tr>\n",
       "      <th>0</th>\n",
       "      <td>Aleutians East Borough</td>\n",
       "      <td>Male</td>\n",
       "      <td>1980</td>\n",
       "      <td>2.439332</td>\n",
       "      <td>0.880294</td>\n",
       "      <td>5.486764</td>\n",
       "      <td>Tundra/Oceanic/Subarctic</td>\n",
       "      <td>3360</td>\n",
       "      <td>22</td>\n",
       "      <td>$22,279</td>\n",
       "      <td>...</td>\n",
       "      <td>0</td>\n",
       "      <td>0</td>\n",
       "      <td>0</td>\n",
       "      <td>0</td>\n",
       "      <td>0</td>\n",
       "      <td>0</td>\n",
       "      <td>0</td>\n",
       "      <td>0</td>\n",
       "      <td>1</td>\n",
       "      <td>0</td>\n",
       "    </tr>\n",
       "    <tr>\n",
       "      <th>1</th>\n",
       "      <td>Aleutians East Borough</td>\n",
       "      <td>Male</td>\n",
       "      <td>1981</td>\n",
       "      <td>2.216467</td>\n",
       "      <td>0.810367</td>\n",
       "      <td>4.925977</td>\n",
       "      <td>Tundra/Oceanic/Subarctic</td>\n",
       "      <td>3360</td>\n",
       "      <td>22</td>\n",
       "      <td>$22,279</td>\n",
       "      <td>...</td>\n",
       "      <td>0</td>\n",
       "      <td>0</td>\n",
       "      <td>0</td>\n",
       "      <td>0</td>\n",
       "      <td>0</td>\n",
       "      <td>0</td>\n",
       "      <td>0</td>\n",
       "      <td>0</td>\n",
       "      <td>1</td>\n",
       "      <td>0</td>\n",
       "    </tr>\n",
       "    <tr>\n",
       "      <th>2</th>\n",
       "      <td>Aleutians East Borough</td>\n",
       "      <td>Male</td>\n",
       "      <td>1982</td>\n",
       "      <td>2.078669</td>\n",
       "      <td>0.793859</td>\n",
       "      <td>4.475446</td>\n",
       "      <td>Tundra/Oceanic/Subarctic</td>\n",
       "      <td>3360</td>\n",
       "      <td>22</td>\n",
       "      <td>$22,279</td>\n",
       "      <td>...</td>\n",
       "      <td>0</td>\n",
       "      <td>0</td>\n",
       "      <td>0</td>\n",
       "      <td>0</td>\n",
       "      <td>0</td>\n",
       "      <td>0</td>\n",
       "      <td>0</td>\n",
       "      <td>0</td>\n",
       "      <td>1</td>\n",
       "      <td>0</td>\n",
       "    </tr>\n",
       "    <tr>\n",
       "      <th>3</th>\n",
       "      <td>Aleutians East Borough</td>\n",
       "      <td>Male</td>\n",
       "      <td>1983</td>\n",
       "      <td>1.959400</td>\n",
       "      <td>0.772705</td>\n",
       "      <td>4.326649</td>\n",
       "      <td>Tundra/Oceanic/Subarctic</td>\n",
       "      <td>3360</td>\n",
       "      <td>22</td>\n",
       "      <td>$22,279</td>\n",
       "      <td>...</td>\n",
       "      <td>0</td>\n",
       "      <td>0</td>\n",
       "      <td>0</td>\n",
       "      <td>0</td>\n",
       "      <td>0</td>\n",
       "      <td>0</td>\n",
       "      <td>0</td>\n",
       "      <td>0</td>\n",
       "      <td>1</td>\n",
       "      <td>0</td>\n",
       "    </tr>\n",
       "    <tr>\n",
       "      <th>4</th>\n",
       "      <td>Aleutians East Borough</td>\n",
       "      <td>Male</td>\n",
       "      <td>1984</td>\n",
       "      <td>1.903574</td>\n",
       "      <td>0.771711</td>\n",
       "      <td>3.986682</td>\n",
       "      <td>Tundra/Oceanic/Subarctic</td>\n",
       "      <td>3360</td>\n",
       "      <td>22</td>\n",
       "      <td>$22,279</td>\n",
       "      <td>...</td>\n",
       "      <td>0</td>\n",
       "      <td>0</td>\n",
       "      <td>0</td>\n",
       "      <td>0</td>\n",
       "      <td>0</td>\n",
       "      <td>0</td>\n",
       "      <td>0</td>\n",
       "      <td>0</td>\n",
       "      <td>1</td>\n",
       "      <td>0</td>\n",
       "    </tr>\n",
       "  </tbody>\n",
       "</table>\n",
       "<p>5 rows × 52 columns</p>\n",
       "</div>"
      ],
      "text/plain": [
       "            location_name   sex  year_id        mx     lower     upper  \\\n",
       "0  Aleutians East Borough  Male     1980  2.439332  0.880294  5.486764   \n",
       "1  Aleutians East Borough  Male     1981  2.216467  0.810367  4.925977   \n",
       "2  Aleutians East Borough  Male     1982  2.078669  0.793859  4.475446   \n",
       "3  Aleutians East Borough  Male     1983  1.959400  0.772705  4.326649   \n",
       "4  Aleutians East Borough  Male     1984  1.903574  0.771711  3.986682   \n",
       "\n",
       "                    Climate  Population  Rank Per capita income  \\\n",
       "0  Tundra/Oceanic/Subarctic        3360    22           $22,279   \n",
       "1  Tundra/Oceanic/Subarctic        3360    22           $22,279   \n",
       "2  Tundra/Oceanic/Subarctic        3360    22           $22,279   \n",
       "3  Tundra/Oceanic/Subarctic        3360    22           $22,279   \n",
       "4  Tundra/Oceanic/Subarctic        3360    22           $22,279   \n",
       "\n",
       "         ...        Cold semi-arid/Dry-summer subarctic/Subarctic  \\\n",
       "0        ...                                                    0   \n",
       "1        ...                                                    0   \n",
       "2        ...                                                    0   \n",
       "3        ...                                                    0   \n",
       "4        ...                                                    0   \n",
       "\n",
       "  Cold semi-arid/Subarctic Dry-summer subarctic/Subarctic  Oceanic  \\\n",
       "0                        0                              0        0   \n",
       "1                        0                              0        0   \n",
       "2                        0                              0        0   \n",
       "3                        0                              0        0   \n",
       "4                        0                              0        0   \n",
       "\n",
       "   Oceanic/Subarctic  Subarctic  \\\n",
       "0                  0          0   \n",
       "1                  0          0   \n",
       "2                  0          0   \n",
       "3                  0          0   \n",
       "4                  0          0   \n",
       "\n",
       "   Tundra/Cold semi-arid/Dry-summer subarctic/Subarctic  \\\n",
       "0                                                  0      \n",
       "1                                                  0      \n",
       "2                                                  0      \n",
       "3                                                  0      \n",
       "4                                                  0      \n",
       "\n",
       "   Tundra/Dry-summer subarctic/Subarctic  Tundra/Oceanic/Subarctic  \\\n",
       "0                                      0                         1   \n",
       "1                                      0                         1   \n",
       "2                                      0                         1   \n",
       "3                                      0                         1   \n",
       "4                                      0                         1   \n",
       "\n",
       "   Tundra/Subarctic  \n",
       "0                 0  \n",
       "1                 0  \n",
       "2                 0  \n",
       "3                 0  \n",
       "4                 0  \n",
       "\n",
       "[5 rows x 52 columns]"
      ]
     },
     "execution_count": 7,
     "metadata": {},
     "output_type": "execute_result"
    }
   ],
   "source": [
    "ak.head()"
   ]
  },
  {
   "cell_type": "code",
   "execution_count": 7,
   "metadata": {},
   "outputs": [],
   "source": [
    "# Let's be more specific about the 'Rank' column before we forget what it is!\n",
    "ak = ak.rename({'Rank': 'Per_Cap_Inc_Rank'}, axis = 1)"
   ]
  },
  {
   "cell_type": "code",
   "execution_count": 8,
   "metadata": {
    "scrolled": true
   },
   "outputs": [],
   "source": [
    "ak['Per capita income'] = ak['Per capita income'].map(lambda x: int(x.replace('$', '').replace(',', '')))\n",
    "\n",
    "ak['Median household income'] = ak['Median household income'].map(lambda x: int(x.replace('$', '').replace(',', '')))\n",
    "\n",
    "ak['Median family income'] = ak['Median family income'].map(lambda x: int(x.replace('$', '').replace(',', '')))\n",
    "\n",
    "ak['Number of households'] = ak['Number of households'].map(lambda x: int(x.replace(',', '')))"
   ]
  },
  {
   "cell_type": "code",
   "execution_count": 9,
   "metadata": {},
   "outputs": [],
   "source": [
    "sex_dums = pd.get_dummies(ak['sex'])\n",
    "ak = pd.concat([ak, sex_dums], axis = 1)\n",
    "\n",
    "ak = ak.drop(columns = ['sex'])"
   ]
  },
  {
   "cell_type": "code",
   "execution_count": 10,
   "metadata": {},
   "outputs": [
    {
     "name": "stdout",
     "output_type": "stream",
     "text": [
      "<class 'pandas.core.frame.DataFrame'>\n",
      "RangeIndex: 3045 entries, 0 to 3044\n",
      "Data columns (total 54 columns):\n",
      "location_name                                           3045 non-null object\n",
      "year_id                                                 3045 non-null int64\n",
      "mx                                                      3045 non-null float64\n",
      "lower                                                   3045 non-null float64\n",
      "upper                                                   3045 non-null float64\n",
      "Climate                                                 3045 non-null object\n",
      "Population                                              3045 non-null int64\n",
      "Per_Cap_Inc_Rank                                        3045 non-null int64\n",
      "Per capita income                                       3045 non-null int64\n",
      "Median household income                                 3045 non-null int64\n",
      "Median family income                                    3045 non-null int64\n",
      "Number of households                                    3045 non-null int64\n",
      "Aleutians East Borough                                  3045 non-null int64\n",
      "Aleutians West Census Area                              3045 non-null int64\n",
      "Anchorage Municipality                                  3045 non-null int64\n",
      "Bethel Census Area                                      3045 non-null int64\n",
      "Bristol Bay Borough                                     3045 non-null int64\n",
      "Denali Borough                                          3045 non-null int64\n",
      "Dillingham Census Area                                  3045 non-null int64\n",
      "Fairbanks North Star Borough                            3045 non-null int64\n",
      "Haines Borough                                          3045 non-null int64\n",
      "Hoonah-Angoon Census Area                               3045 non-null int64\n",
      "Juneau City and Borough                                 3045 non-null int64\n",
      "Kenai Peninsula Borough                                 3045 non-null int64\n",
      "Ketchikan Gateway Borough                               3045 non-null int64\n",
      "Kodiak Island Borough                                   3045 non-null int64\n",
      "Kusilvak Census Area                                    3045 non-null int64\n",
      "Lake and Peninsula Borough                              3045 non-null int64\n",
      "Matanuska-Susitna Borough                               3045 non-null int64\n",
      "Nome Census Area                                        3045 non-null int64\n",
      "North Slope Borough                                     3045 non-null int64\n",
      "Northwest Arctic Borough                                3045 non-null int64\n",
      "Petersburg Borough                                      3045 non-null int64\n",
      "Prince of Wales-Hyder Census Area                       3045 non-null int64\n",
      "Sitka City and Borough                                  3045 non-null int64\n",
      "Skagway Municipality                                    3045 non-null int64\n",
      "Southeast Fairbanks Census Area                         3045 non-null int64\n",
      "Valdez-Cordova Census Area                              3045 non-null int64\n",
      "Wrangell City and Borough                               3045 non-null int64\n",
      "Yakutat City and Borough                                3045 non-null int64\n",
      "Yukon-Koyukuk Census Area                               3045 non-null int64\n",
      "Cold semi-arid/Dry-summer subarctic/Subarctic           3045 non-null int64\n",
      "Cold semi-arid/Subarctic                                3045 non-null int64\n",
      "Dry-summer subarctic/Subarctic                          3045 non-null int64\n",
      "Oceanic                                                 3045 non-null int64\n",
      "Oceanic/Subarctic                                       3045 non-null int64\n",
      "Subarctic                                               3045 non-null int64\n",
      "Tundra/Cold semi-arid/Dry-summer subarctic/Subarctic    3045 non-null int64\n",
      "Tundra/Dry-summer subarctic/Subarctic                   3045 non-null int64\n",
      "Tundra/Oceanic/Subarctic                                3045 non-null int64\n",
      "Tundra/Subarctic                                        3045 non-null int64\n",
      "Both                                                    3045 non-null uint8\n",
      "Female                                                  3045 non-null uint8\n",
      "Male                                                    3045 non-null uint8\n",
      "dtypes: float64(3), int64(46), object(2), uint8(3)\n",
      "memory usage: 1.2+ MB\n"
     ]
    }
   ],
   "source": [
    "ak.info()"
   ]
  },
  {
   "cell_type": "code",
   "execution_count": 11,
   "metadata": {},
   "outputs": [
    {
     "name": "stdout",
     "output_type": "stream",
     "text": [
      "<class 'pandas.core.frame.DataFrame'>\n",
      "RangeIndex: 3045 entries, 0 to 3044\n",
      "Data columns (total 49 columns):\n",
      "year_id                                                 3045 non-null int64\n",
      "Population                                              3045 non-null int64\n",
      "Per_Cap_Inc_Rank                                        3045 non-null int64\n",
      "Per capita income                                       3045 non-null int64\n",
      "Median household income                                 3045 non-null int64\n",
      "Median family income                                    3045 non-null int64\n",
      "Number of households                                    3045 non-null int64\n",
      "Aleutians East Borough                                  3045 non-null int64\n",
      "Aleutians West Census Area                              3045 non-null int64\n",
      "Anchorage Municipality                                  3045 non-null int64\n",
      "Bethel Census Area                                      3045 non-null int64\n",
      "Bristol Bay Borough                                     3045 non-null int64\n",
      "Denali Borough                                          3045 non-null int64\n",
      "Dillingham Census Area                                  3045 non-null int64\n",
      "Fairbanks North Star Borough                            3045 non-null int64\n",
      "Haines Borough                                          3045 non-null int64\n",
      "Hoonah-Angoon Census Area                               3045 non-null int64\n",
      "Juneau City and Borough                                 3045 non-null int64\n",
      "Kenai Peninsula Borough                                 3045 non-null int64\n",
      "Ketchikan Gateway Borough                               3045 non-null int64\n",
      "Kodiak Island Borough                                   3045 non-null int64\n",
      "Kusilvak Census Area                                    3045 non-null int64\n",
      "Lake and Peninsula Borough                              3045 non-null int64\n",
      "Matanuska-Susitna Borough                               3045 non-null int64\n",
      "Nome Census Area                                        3045 non-null int64\n",
      "North Slope Borough                                     3045 non-null int64\n",
      "Northwest Arctic Borough                                3045 non-null int64\n",
      "Petersburg Borough                                      3045 non-null int64\n",
      "Prince of Wales-Hyder Census Area                       3045 non-null int64\n",
      "Sitka City and Borough                                  3045 non-null int64\n",
      "Skagway Municipality                                    3045 non-null int64\n",
      "Southeast Fairbanks Census Area                         3045 non-null int64\n",
      "Valdez-Cordova Census Area                              3045 non-null int64\n",
      "Wrangell City and Borough                               3045 non-null int64\n",
      "Yakutat City and Borough                                3045 non-null int64\n",
      "Yukon-Koyukuk Census Area                               3045 non-null int64\n",
      "Cold semi-arid/Dry-summer subarctic/Subarctic           3045 non-null int64\n",
      "Cold semi-arid/Subarctic                                3045 non-null int64\n",
      "Dry-summer subarctic/Subarctic                          3045 non-null int64\n",
      "Oceanic                                                 3045 non-null int64\n",
      "Oceanic/Subarctic                                       3045 non-null int64\n",
      "Subarctic                                               3045 non-null int64\n",
      "Tundra/Cold semi-arid/Dry-summer subarctic/Subarctic    3045 non-null int64\n",
      "Tundra/Dry-summer subarctic/Subarctic                   3045 non-null int64\n",
      "Tundra/Oceanic/Subarctic                                3045 non-null int64\n",
      "Tundra/Subarctic                                        3045 non-null int64\n",
      "Both                                                    3045 non-null uint8\n",
      "Female                                                  3045 non-null uint8\n",
      "Male                                                    3045 non-null uint8\n",
      "dtypes: int64(46), uint8(3)\n",
      "memory usage: 1.1 MB\n"
     ]
    }
   ],
   "source": [
    "test_columns = [col for col in ak.columns if (col not in ['lower','upper', 'Climate',\n",
    "                                                          'location_name', 'mx'])]\n",
    "X = ak[test_columns]\n",
    "\n",
    "X.info()"
   ]
  },
  {
   "cell_type": "code",
   "execution_count": 13,
   "metadata": {},
   "outputs": [],
   "source": [
    "X_train, X_test, y_train, y_test = train_test_split(X, y, random_state = 42)"
   ]
  },
  {
   "cell_type": "code",
   "execution_count": 14,
   "metadata": {},
   "outputs": [],
   "source": [
    "ss = StandardScaler()\n",
    "X_train_scaled = ss.fit_transform(X_train)\n",
    "X_test_scaled = ss.transform(X_test)"
   ]
  },
  {
   "cell_type": "code",
   "execution_count": 15,
   "metadata": {},
   "outputs": [],
   "source": [
    "lr = LinearRegression().fit(X_train, y_train)"
   ]
  },
  {
   "cell_type": "code",
   "execution_count": 16,
   "metadata": {},
   "outputs": [
    {
     "data": {
      "text/plain": [
       "0.8075661815989752"
      ]
     },
     "execution_count": 16,
     "metadata": {},
     "output_type": "execute_result"
    }
   ],
   "source": [
    "lr.score(X_test, y_test)"
   ]
  },
  {
   "cell_type": "code",
   "execution_count": 17,
   "metadata": {},
   "outputs": [
    {
     "data": {
      "text/plain": [
       "array([-9.42114274e-02,  8.69376872e-05, -8.80752758e-02, -2.36209056e-04,\n",
       "        9.56780688e-05, -8.05211266e-05, -2.50162338e-04, -4.12406184e-01,\n",
       "       -2.68160152e-01,  4.79664008e-01,  1.92799288e+00, -8.19529597e-01,\n",
       "        1.84565618e+00, -1.65610543e-01, -4.36721449e-01,  1.12368126e-01,\n",
       "       -1.04714852e+00,  3.74782492e-01,  7.53104942e-02,  5.33164223e-01,\n",
       "       -4.51659375e-01,  1.72768113e+00, -7.62151742e-01, -1.60084892e+00,\n",
       "        4.44507930e-01, -1.29547066e-01,  1.35978097e-01, -2.83127631e-01,\n",
       "       -7.28216149e-01,  5.15893242e-01,  2.81343390e-01, -5.70636873e-01,\n",
       "       -3.53674063e-01, -8.75680896e-01,  5.23756719e-01, -7.29797471e-02,\n",
       "       -7.29797471e-02, -5.70636873e-01,  3.93711516e-01,  5.26811634e-02,\n",
       "       -4.51659375e-01,  5.61160782e-01, -1.29547066e-01,  4.87803842e-02,\n",
       "       -4.12406184e-01,  5.80895400e-01,  2.26613164e-02,  3.50528579e-02,\n",
       "       -5.77141743e-02])"
      ]
     },
     "execution_count": 17,
     "metadata": {},
     "output_type": "execute_result"
    }
   ],
   "source": [
    "lr.coef_"
   ]
  },
  {
   "cell_type": "code",
   "execution_count": 18,
   "metadata": {},
   "outputs": [
    {
     "data": {
      "text/plain": [
       "(762,)"
      ]
     },
     "execution_count": 18,
     "metadata": {},
     "output_type": "execute_result"
    }
   ],
   "source": [
    "lr.predict(X_test).shape"
   ]
  },
  {
   "cell_type": "code",
   "execution_count": 19,
   "metadata": {},
   "outputs": [
    {
     "data": {
      "text/plain": [
       "mx                          1.000000\n",
       "upper                       0.982067\n",
       "lower                       0.976064\n",
       "Kusilvak Census Area        0.480152\n",
       "Per_Cap_Inc_Rank            0.477818\n",
       "Bethel Census Area          0.324496\n",
       "Nome Census Area            0.215446\n",
       "Northwest Arctic Borough    0.191525\n",
       "Subarctic                   0.147291\n",
       "Dillingham Census Area      0.116542\n",
       "Name: mx, dtype: float64"
      ]
     },
     "execution_count": 19,
     "metadata": {},
     "output_type": "execute_result"
    }
   ],
   "source": [
    "ak.corr()['mx'].nlargest(10)"
   ]
  },
  {
   "cell_type": "code",
   "execution_count": 20,
   "metadata": {},
   "outputs": [
    {
     "data": {
      "text/plain": [
       "Per capita income                -0.523392\n",
       "year_id                          -0.480541\n",
       "Median family income             -0.427072\n",
       "Median household income          -0.279020\n",
       "Number of households             -0.164075\n",
       "Population                       -0.149792\n",
       "Valdez-Cordova Census Area       -0.143564\n",
       "Matanuska-Susitna Borough        -0.136452\n",
       "Kenai Peninsula Borough          -0.135232\n",
       "Dry-summer subarctic/Subarctic   -0.135063\n",
       "Name: mx, dtype: float64"
      ]
     },
     "execution_count": 20,
     "metadata": {},
     "output_type": "execute_result"
    }
   ],
   "source": [
    "ak.corr()['mx'].nsmallest(10)"
   ]
  },
  {
   "cell_type": "markdown",
   "metadata": {},
   "source": [
    "Tuberculosis mortality rates are significantly higher in Kusilvak relative to other counties, and significantly higher for lower incomes. Let's look at where Kusilvak ranks in per capita income."
   ]
  },
  {
   "cell_type": "code",
   "execution_count": 60,
   "metadata": {},
   "outputs": [
    {
     "data": {
      "text/plain": [
       "29"
      ]
     },
     "execution_count": 60,
     "metadata": {},
     "output_type": "execute_result"
    }
   ],
   "source": [
    "ak.loc[ak['location_name'] == 'Kusilvak Census Area', 'Per_Cap_Inc_Rank'][1470]"
   ]
  },
  {
   "cell_type": "markdown",
   "metadata": {},
   "source": [
    "That's dead last."
   ]
  },
  {
   "cell_type": "code",
   "execution_count": 141,
   "metadata": {},
   "outputs": [
    {
     "data": {
      "text/html": [
       "<div>\n",
       "<style scoped>\n",
       "    .dataframe tbody tr th:only-of-type {\n",
       "        vertical-align: middle;\n",
       "    }\n",
       "\n",
       "    .dataframe tbody tr th {\n",
       "        vertical-align: top;\n",
       "    }\n",
       "\n",
       "    .dataframe thead th {\n",
       "        text-align: right;\n",
       "    }\n",
       "</style>\n",
       "<table border=\"1\" class=\"dataframe\">\n",
       "  <thead>\n",
       "    <tr style=\"text-align: right;\">\n",
       "      <th></th>\n",
       "      <th>Population</th>\n",
       "      <th>sex</th>\n",
       "      <th>mx</th>\n",
       "    </tr>\n",
       "  </thead>\n",
       "  <tbody>\n",
       "    <tr>\n",
       "      <th>1504</th>\n",
       "      <td>8010</td>\n",
       "      <td>Male</td>\n",
       "      <td>2.811160</td>\n",
       "    </tr>\n",
       "    <tr>\n",
       "      <th>1539</th>\n",
       "      <td>8010</td>\n",
       "      <td>Female</td>\n",
       "      <td>2.799181</td>\n",
       "    </tr>\n",
       "    <tr>\n",
       "      <th>1574</th>\n",
       "      <td>8010</td>\n",
       "      <td>Both</td>\n",
       "      <td>2.874031</td>\n",
       "    </tr>\n",
       "  </tbody>\n",
       "</table>\n",
       "</div>"
      ],
      "text/plain": [
       "      Population     sex        mx\n",
       "1504        8010    Male  2.811160\n",
       "1539        8010  Female  2.799181\n",
       "1574        8010    Both  2.874031"
      ]
     },
     "execution_count": 141,
     "metadata": {},
     "output_type": "execute_result"
    }
   ],
   "source": [
    "ak.loc[(ak['location_name'] == 'Kusilvak Census Area') & (ak['year_id'] == 2014), ['Population', 'sex', 'mx']]"
   ]
  },
  {
   "cell_type": "markdown",
   "metadata": {},
   "source": [
    "Nearly 3 deaths per 100,000 people in Kusilvak. Let's do some research on Kusilvak."
   ]
  },
  {
   "cell_type": "markdown",
   "metadata": {},
   "source": [
    "This article (https://www.npr.org/sections/health-shots/2012/05/17/152848752/alaska-targets-an-old-foe-tuberculosis) talks about how tuberculosis used to be the \\#1 killer in Alaska half a century ago. It also mentions that small and isolated villages can be hard to reach. According to Wikipedia (https://en.wikipedia.org/wiki/Kusilvak_Census_Area,_Alaska#Demographics), Kusilvak is 93% Native American, with a population of only 8000.\n",
    "GoogleMaps cannot find driving directions to Hooper Bay, AK (the largest city in the county) from Anchorage, AK (https://www.google.com/maps/dir/Anchorage,+AK/Hooper+Bay,+AK/@61.0791257,-166.938305,5z/data=!3m1!4b1!4m14!4m13!1m5!1m1!1s0x56c8917604b33f41:0x257dba5aa78468e3!2m2!1d-149.9002778!2d61.2180556!1m5!1m1!1s0x573cc2a168476ce5:0x6c94fdd4fee12f7b!2m2!1d-166.0966666!2d61.5311111!3e0). Probably the census area is reachable only via plane or dogsled."
   ]
  },
  {
   "cell_type": "markdown",
   "metadata": {},
   "source": [
    "## New Model"
   ]
  },
  {
   "cell_type": "markdown",
   "metadata": {},
   "source": [
    "Now probably our model is a bit overfit, since our betas are huge and there's some redundancy in the columns. For example, we have both the per capita income and the per capita income rank. Also, we're really using too many rows, since our population and income data are relevant only for dates around 2010. So let's try dropping the rows from years before 2006. (That way we'll have a nine-year period with 2010 in the middle.)"
   ]
  },
  {
   "cell_type": "code",
   "execution_count": 21,
   "metadata": {},
   "outputs": [],
   "source": [
    "indices = ak.loc[ak['year_id'] < 2006].index"
   ]
  },
  {
   "cell_type": "code",
   "execution_count": 277,
   "metadata": {},
   "outputs": [],
   "source": [
    "ak2 = ak.drop(indices)"
   ]
  },
  {
   "cell_type": "code",
   "execution_count": 23,
   "metadata": {},
   "outputs": [],
   "source": [
    "test_columns = [col for col in ak2.columns if (col not in ['location_name', 'lower', 'upper',\n",
    "                                                          'Per_Cap_Inc_Rank', 'mx',\n",
    "                                                          'Median household income',\n",
    "                                                          'Median family income',\n",
    "                                                          'Number of households', 'Climate'])]\n",
    "X2 = ak2[test_columns]\n",
    "y2 = ak2['mx']"
   ]
  },
  {
   "cell_type": "code",
   "execution_count": 28,
   "metadata": {},
   "outputs": [],
   "source": [
    "X2_train, X2_test, y2_train, y2_test = train_test_split(X2, y2, random_state = 42)"
   ]
  },
  {
   "cell_type": "code",
   "execution_count": 29,
   "metadata": {},
   "outputs": [],
   "source": [
    "ss = StandardScaler()\n",
    "X2_train_scaled = ss.fit_transform(X2_train)\n",
    "X2_test_scaled = ss.transform(X2_test)"
   ]
  },
  {
   "cell_type": "code",
   "execution_count": 30,
   "metadata": {},
   "outputs": [],
   "source": [
    "lr2 = LinearRegression().fit(X2_train, y2_train)"
   ]
  },
  {
   "cell_type": "code",
   "execution_count": 31,
   "metadata": {},
   "outputs": [
    {
     "data": {
      "text/plain": [
       "0.9296828977615562"
      ]
     },
     "execution_count": 31,
     "metadata": {},
     "output_type": "execute_result"
    }
   ],
   "source": [
    "lr2.score(X2_test, y2_test)"
   ]
  },
  {
   "cell_type": "code",
   "execution_count": 32,
   "metadata": {},
   "outputs": [
    {
     "data": {
      "text/plain": [
       "mx                          1.000000\n",
       "upper                       0.989187\n",
       "lower                       0.988686\n",
       "Kusilvak Census Area        0.646784\n",
       "Per_Cap_Inc_Rank            0.569663\n",
       "Bethel Census Area          0.453325\n",
       "Nome Census Area            0.258941\n",
       "Northwest Arctic Borough    0.187692\n",
       "Subarctic                   0.173938\n",
       "Tundra/Subarctic            0.116370\n",
       "Name: mx, dtype: float64"
      ]
     },
     "execution_count": 32,
     "metadata": {},
     "output_type": "execute_result"
    }
   ],
   "source": [
    "ak2.corr()['mx'].nlargest(10)"
   ]
  },
  {
   "cell_type": "code",
   "execution_count": 33,
   "metadata": {},
   "outputs": [
    {
     "data": {
      "text/plain": [
       "Per capita income                 -0.638392\n",
       "Median family income              -0.521634\n",
       "Median household income           -0.353748\n",
       "year_id                           -0.178917\n",
       "Dry-summer subarctic/Subarctic    -0.163782\n",
       "Number of households              -0.155752\n",
       "Southeast Fairbanks Census Area   -0.155702\n",
       "Cold semi-arid/Subarctic          -0.155702\n",
       "Valdez-Cordova Census Area        -0.153736\n",
       "Kenai Peninsula Borough           -0.145053\n",
       "Name: mx, dtype: float64"
      ]
     },
     "execution_count": 33,
     "metadata": {},
     "output_type": "execute_result"
    }
   ],
   "source": [
    "ak2.corr()['mx'].nsmallest(10)"
   ]
  },
  {
   "cell_type": "markdown",
   "metadata": {},
   "source": [
    "## Random Forest"
   ]
  },
  {
   "cell_type": "code",
   "execution_count": 34,
   "metadata": {},
   "outputs": [],
   "source": [
    "rf = RandomForestRegressor().fit(X2_train, y2_train)"
   ]
  },
  {
   "cell_type": "code",
   "execution_count": 35,
   "metadata": {},
   "outputs": [
    {
     "data": {
      "text/plain": [
       "0.9735093314480908"
      ]
     },
     "execution_count": 35,
     "metadata": {},
     "output_type": "execute_result"
    }
   ],
   "source": [
    "rf.score(X2_test, y2_test)"
   ]
  },
  {
   "cell_type": "code",
   "execution_count": 36,
   "metadata": {},
   "outputs": [
    {
     "data": {
      "text/plain": [
       "array([5.98395802e-02, 1.34082363e-01, 6.33240866e-01, 2.53780586e-05,\n",
       "       1.59716797e-03, 2.01179780e-04, 0.00000000e+00, 3.05313465e-04,\n",
       "       3.92275069e-04, 1.97187898e-02, 2.87780892e-04, 1.09681811e-03,\n",
       "       5.23418772e-05, 8.37581861e-05, 2.18173616e-05, 3.83858282e-04,\n",
       "       1.49930843e-04, 3.96431190e-02, 1.93409144e-04, 1.12270898e-05,\n",
       "       1.02251017e-02, 1.05361579e-05, 4.50926614e-04, 3.51605058e-05,\n",
       "       1.64901414e-04, 3.28624047e-03, 3.89379616e-04, 3.83256596e-04,\n",
       "       6.69883893e-04, 1.32951612e-05, 1.63613577e-04, 4.93058894e-03,\n",
       "       5.05803662e-03, 1.88938544e-03, 6.74704312e-04, 3.92364982e-03,\n",
       "       4.08852297e-05, 1.52705365e-02, 1.04055285e-05, 1.27823548e-02,\n",
       "       1.61761646e-05, 2.63603687e-02, 1.87767329e-03, 1.21068951e-02,\n",
       "       7.93906982e-03])"
      ]
     },
     "execution_count": 36,
     "metadata": {},
     "output_type": "execute_result"
    }
   ],
   "source": [
    "rf.feature_importances_"
   ]
  },
  {
   "cell_type": "markdown",
   "metadata": {},
   "source": [
    "## Neural Network"
   ]
  },
  {
   "cell_type": "code",
   "execution_count": 79,
   "metadata": {
    "scrolled": true
   },
   "outputs": [
    {
     "name": "stderr",
     "output_type": "stream",
     "text": [
      "/Users/gadamico/anaconda3/lib/python3.6/site-packages/h5py/__init__.py:36: FutureWarning: Conversion of the second argument of issubdtype from `float` to `np.floating` is deprecated. In future, it will be treated as `np.float64 == np.dtype(float).type`.\n",
      "  from ._conv import register_converters as _register_converters\n",
      "Using TensorFlow backend.\n"
     ]
    }
   ],
   "source": [
    "from keras.models import Sequential\n",
    "from keras.layers import Dense"
   ]
  },
  {
   "cell_type": "code",
   "execution_count": 80,
   "metadata": {},
   "outputs": [],
   "source": [
    "X_train, X_test, y_train, y_test = train_test_split(X2, y2, random_state = 42)\n",
    "\n",
    "ss = StandardScaler()\n",
    "X_scaled = ss.fit_transform(X_train)\n",
    "X_test = ss.transform(X_test)"
   ]
  },
  {
   "cell_type": "code",
   "execution_count": 81,
   "metadata": {},
   "outputs": [],
   "source": [
    "model = Sequential()\n",
    "model.add(Dense(20, activation = 'relu', input_dim = X_train.shape[1]))\n",
    "model.add(Dense(20, activation = 'relu'))\n",
    "model.add(Dense(1)) # default: activation = None"
   ]
  },
  {
   "cell_type": "code",
   "execution_count": 82,
   "metadata": {},
   "outputs": [],
   "source": [
    "model.compile(loss = 'mean_squared_error', optimizer = 'adam')"
   ]
  },
  {
   "cell_type": "code",
   "execution_count": 83,
   "metadata": {},
   "outputs": [
    {
     "name": "stdout",
     "output_type": "stream",
     "text": [
      "Train on 587 samples, validate on 196 samples\n",
      "Epoch 1/30\n",
      "587/587 [==============================] - 0s 771us/step - loss: 546940.3834 - val_loss: 1.5509\n",
      "Epoch 2/30\n",
      "587/587 [==============================] - 0s 117us/step - loss: 61937.2094 - val_loss: 1.5553\n",
      "Epoch 3/30\n",
      "587/587 [==============================] - 0s 124us/step - loss: 12087.1146 - val_loss: 1.5601\n",
      "Epoch 4/30\n",
      "587/587 [==============================] - 0s 111us/step - loss: 6136.2237 - val_loss: 1.5666\n",
      "Epoch 5/30\n",
      "587/587 [==============================] - 0s 99us/step - loss: 3845.5661 - val_loss: 1.5707\n",
      "Epoch 6/30\n",
      "587/587 [==============================] - 0s 102us/step - loss: 3160.3211 - val_loss: 1.5735\n",
      "Epoch 7/30\n",
      "587/587 [==============================] - 0s 121us/step - loss: 2365.1752 - val_loss: 1.5758\n",
      "Epoch 8/30\n",
      "587/587 [==============================] - 0s 118us/step - loss: 2029.6611 - val_loss: 1.5788\n",
      "Epoch 9/30\n",
      "587/587 [==============================] - 0s 115us/step - loss: 1742.2274 - val_loss: 1.5820\n",
      "Epoch 10/30\n",
      "587/587 [==============================] - 0s 117us/step - loss: 1477.2805 - val_loss: 1.5857\n",
      "Epoch 11/30\n",
      "587/587 [==============================] - 0s 113us/step - loss: 1255.3629 - val_loss: 1.5903\n",
      "Epoch 12/30\n",
      "587/587 [==============================] - 0s 106us/step - loss: 1094.1236 - val_loss: 1.5947\n",
      "Epoch 13/30\n",
      "587/587 [==============================] - 0s 106us/step - loss: 1254.2597 - val_loss: 1.5972\n",
      "Epoch 14/30\n",
      "587/587 [==============================] - 0s 109us/step - loss: 1330.0459 - val_loss: 1.6034\n",
      "Epoch 15/30\n",
      "587/587 [==============================] - 0s 104us/step - loss: 627.3952 - val_loss: 1.6089\n",
      "Epoch 16/30\n",
      "587/587 [==============================] - 0s 113us/step - loss: 497.3106 - val_loss: 1.6121\n",
      "Epoch 17/30\n",
      "587/587 [==============================] - 0s 119us/step - loss: 388.1025 - val_loss: 1.6161\n",
      "Epoch 18/30\n",
      "587/587 [==============================] - 0s 127us/step - loss: 343.9966 - val_loss: 1.6210\n",
      "Epoch 19/30\n",
      "587/587 [==============================] - 0s 123us/step - loss: 270.7641 - val_loss: 1.6243\n",
      "Epoch 20/30\n",
      "587/587 [==============================] - 0s 115us/step - loss: 326.4419 - val_loss: 1.6269\n",
      "Epoch 21/30\n",
      "587/587 [==============================] - 0s 100us/step - loss: 831.3453 - val_loss: 1.6334\n",
      "Epoch 22/30\n",
      "587/587 [==============================] - 0s 97us/step - loss: 2507.9366 - val_loss: 1.6346\n",
      "Epoch 23/30\n",
      "587/587 [==============================] - 0s 108us/step - loss: 498.2059 - val_loss: 1.6412\n",
      "Epoch 24/30\n",
      "587/587 [==============================] - 0s 104us/step - loss: 90.6755 - val_loss: 1.6444\n",
      "Epoch 25/30\n",
      "587/587 [==============================] - 0s 138us/step - loss: 63.5900 - val_loss: 1.6462\n",
      "Epoch 26/30\n",
      "587/587 [==============================] - 0s 119us/step - loss: 75.2763 - val_loss: 1.6493\n",
      "Epoch 27/30\n",
      "587/587 [==============================] - 0s 109us/step - loss: 48.2584 - val_loss: 1.6513\n",
      "Epoch 28/30\n",
      "587/587 [==============================] - 0s 115us/step - loss: 58.3102 - val_loss: 1.6537\n",
      "Epoch 29/30\n",
      "587/587 [==============================] - 0s 121us/step - loss: 32.8411 - val_loss: 1.6559\n",
      "Epoch 30/30\n",
      "587/587 [==============================] - 0s 110us/step - loss: 64.5375 - val_loss: 1.6573\n"
     ]
    }
   ],
   "source": [
    "history = model.fit(X_train, y_train, validation_data = (X_test, y_test), epochs = 30, batch_size = 16)"
   ]
  },
  {
   "cell_type": "code",
   "execution_count": 84,
   "metadata": {},
   "outputs": [
    {
     "data": {
      "text/plain": [
       "<matplotlib.legend.Legend at 0x1a2e238390>"
      ]
     },
     "execution_count": 84,
     "metadata": {},
     "output_type": "execute_result"
    },
    {
     "data": {
      "image/png": "[encoded data removed]",
      "text/plain": [
       "<matplotlib.figure.Figure at 0x1a2e1d19b0>"
      ]
     },
     "metadata": {},
     "output_type": "display_data"
    }
   ],
   "source": [
    "plt.plot(history.history['loss'], label = 'Training Loss')\n",
    "plt.plot(history.history['val_loss'], label = 'Test Loss')\n",
    "plt.legend()"
   ]
  },
  {
   "cell_type": "markdown",
   "metadata": {},
   "source": [
    "## Spatial Correlation"
   ]
  },
  {
   "cell_type": "markdown",
   "metadata": {},
   "source": [
    "Let's test for spatial correlation among the counties with respect to our mortality rate."
   ]
  },
  {
   "cell_type": "code",
   "execution_count": 50,
   "metadata": {},
   "outputs": [
    {
     "data": {
      "text/plain": [
       "0.8960062955209891"
      ]
     },
     "execution_count": 50,
     "metadata": {},
     "output_type": "execute_result"
    }
   ],
   "source": [
    "ak2['mx'].mean()"
   ]
  },
  {
   "cell_type": "code",
   "execution_count": 37,
   "metadata": {},
   "outputs": [
    {
     "data": {
      "text/html": [
       "<div>\n",
       "<style scoped>\n",
       "    .dataframe tbody tr th:only-of-type {\n",
       "        vertical-align: middle;\n",
       "    }\n",
       "\n",
       "    .dataframe tbody tr th {\n",
       "        vertical-align: top;\n",
       "    }\n",
       "\n",
       "    .dataframe thead th {\n",
       "        text-align: right;\n",
       "    }\n",
       "</style>\n",
       "<table border=\"1\" class=\"dataframe\">\n",
       "  <thead>\n",
       "    <tr style=\"text-align: right;\">\n",
       "      <th></th>\n",
       "      <th>year_id</th>\n",
       "      <th>mx</th>\n",
       "      <th>lower</th>\n",
       "      <th>upper</th>\n",
       "      <th>Population</th>\n",
       "      <th>Per_Cap_Inc_Rank</th>\n",
       "      <th>Per capita income</th>\n",
       "      <th>Median household income</th>\n",
       "      <th>Median family income</th>\n",
       "      <th>Number of households</th>\n",
       "      <th>...</th>\n",
       "      <th>Oceanic</th>\n",
       "      <th>Oceanic/Subarctic</th>\n",
       "      <th>Subarctic</th>\n",
       "      <th>Tundra/Cold semi-arid/Dry-summer subarctic/Subarctic</th>\n",
       "      <th>Tundra/Dry-summer subarctic/Subarctic</th>\n",
       "      <th>Tundra/Oceanic/Subarctic</th>\n",
       "      <th>Tundra/Subarctic</th>\n",
       "      <th>Both</th>\n",
       "      <th>Female</th>\n",
       "      <th>Male</th>\n",
       "    </tr>\n",
       "    <tr>\n",
       "      <th>location_name</th>\n",
       "      <th></th>\n",
       "      <th></th>\n",
       "      <th></th>\n",
       "      <th></th>\n",
       "      <th></th>\n",
       "      <th></th>\n",
       "      <th></th>\n",
       "      <th></th>\n",
       "      <th></th>\n",
       "      <th></th>\n",
       "      <th></th>\n",
       "      <th></th>\n",
       "      <th></th>\n",
       "      <th></th>\n",
       "      <th></th>\n",
       "      <th></th>\n",
       "      <th></th>\n",
       "      <th></th>\n",
       "      <th></th>\n",
       "      <th></th>\n",
       "      <th></th>\n",
       "    </tr>\n",
       "  </thead>\n",
       "  <tbody>\n",
       "    <tr>\n",
       "      <th>Aleutians East Borough</th>\n",
       "      <td>2010</td>\n",
       "      <td>0.874231</td>\n",
       "      <td>0.423436</td>\n",
       "      <td>1.614015</td>\n",
       "      <td>3360</td>\n",
       "      <td>22</td>\n",
       "      <td>22279</td>\n",
       "      <td>54375</td>\n",
       "      <td>61250</td>\n",
       "      <td>553</td>\n",
       "      <td>...</td>\n",
       "      <td>0</td>\n",
       "      <td>0</td>\n",
       "      <td>0</td>\n",
       "      <td>0</td>\n",
       "      <td>0</td>\n",
       "      <td>1</td>\n",
       "      <td>0</td>\n",
       "      <td>0.333333</td>\n",
       "      <td>0.333333</td>\n",
       "      <td>0.333333</td>\n",
       "    </tr>\n",
       "    <tr>\n",
       "      <th>Aleutians West Census Area</th>\n",
       "      <td>2010</td>\n",
       "      <td>0.874231</td>\n",
       "      <td>0.423436</td>\n",
       "      <td>1.614015</td>\n",
       "      <td>5750</td>\n",
       "      <td>10</td>\n",
       "      <td>29920</td>\n",
       "      <td>72917</td>\n",
       "      <td>81875</td>\n",
       "      <td>1212</td>\n",
       "      <td>...</td>\n",
       "      <td>1</td>\n",
       "      <td>0</td>\n",
       "      <td>0</td>\n",
       "      <td>0</td>\n",
       "      <td>0</td>\n",
       "      <td>0</td>\n",
       "      <td>0</td>\n",
       "      <td>0.333333</td>\n",
       "      <td>0.333333</td>\n",
       "      <td>0.333333</td>\n",
       "    </tr>\n",
       "    <tr>\n",
       "      <th>Anchorage Municipality</th>\n",
       "      <td>2010</td>\n",
       "      <td>0.638626</td>\n",
       "      <td>0.443512</td>\n",
       "      <td>0.895622</td>\n",
       "      <td>301010</td>\n",
       "      <td>4</td>\n",
       "      <td>34678</td>\n",
       "      <td>73004</td>\n",
       "      <td>85023</td>\n",
       "      <td>107332</td>\n",
       "      <td>...</td>\n",
       "      <td>0</td>\n",
       "      <td>0</td>\n",
       "      <td>1</td>\n",
       "      <td>0</td>\n",
       "      <td>0</td>\n",
       "      <td>0</td>\n",
       "      <td>0</td>\n",
       "      <td>0.333333</td>\n",
       "      <td>0.333333</td>\n",
       "      <td>0.333333</td>\n",
       "    </tr>\n",
       "    <tr>\n",
       "      <th>Bethel Census Area</th>\n",
       "      <td>2010</td>\n",
       "      <td>2.777978</td>\n",
       "      <td>1.776847</td>\n",
       "      <td>4.091589</td>\n",
       "      <td>17868</td>\n",
       "      <td>27</td>\n",
       "      <td>18584</td>\n",
       "      <td>52214</td>\n",
       "      <td>55402</td>\n",
       "      <td>4651</td>\n",
       "      <td>...</td>\n",
       "      <td>0</td>\n",
       "      <td>0</td>\n",
       "      <td>0</td>\n",
       "      <td>0</td>\n",
       "      <td>1</td>\n",
       "      <td>0</td>\n",
       "      <td>0</td>\n",
       "      <td>0.333333</td>\n",
       "      <td>0.333333</td>\n",
       "      <td>0.333333</td>\n",
       "    </tr>\n",
       "    <tr>\n",
       "      <th>Bristol Bay Borough</th>\n",
       "      <td>2010</td>\n",
       "      <td>0.747949</td>\n",
       "      <td>0.246686</td>\n",
       "      <td>1.763773</td>\n",
       "      <td>957</td>\n",
       "      <td>5</td>\n",
       "      <td>31260</td>\n",
       "      <td>84000</td>\n",
       "      <td>92308</td>\n",
       "      <td>423</td>\n",
       "      <td>...</td>\n",
       "      <td>0</td>\n",
       "      <td>0</td>\n",
       "      <td>1</td>\n",
       "      <td>0</td>\n",
       "      <td>0</td>\n",
       "      <td>0</td>\n",
       "      <td>0</td>\n",
       "      <td>0.333333</td>\n",
       "      <td>0.333333</td>\n",
       "      <td>0.333333</td>\n",
       "    </tr>\n",
       "    <tr>\n",
       "      <th>Denali Borough</th>\n",
       "      <td>2010</td>\n",
       "      <td>0.793947</td>\n",
       "      <td>0.485441</td>\n",
       "      <td>1.233525</td>\n",
       "      <td>1921</td>\n",
       "      <td>1</td>\n",
       "      <td>42245</td>\n",
       "      <td>72500</td>\n",
       "      <td>81500</td>\n",
       "      <td>806</td>\n",
       "      <td>...</td>\n",
       "      <td>0</td>\n",
       "      <td>0</td>\n",
       "      <td>1</td>\n",
       "      <td>0</td>\n",
       "      <td>0</td>\n",
       "      <td>0</td>\n",
       "      <td>0</td>\n",
       "      <td>0.333333</td>\n",
       "      <td>0.333333</td>\n",
       "      <td>0.333333</td>\n",
       "    </tr>\n",
       "    <tr>\n",
       "      <th>Dillingham Census Area</th>\n",
       "      <td>2010</td>\n",
       "      <td>1.354956</td>\n",
       "      <td>0.770059</td>\n",
       "      <td>2.228150</td>\n",
       "      <td>4988</td>\n",
       "      <td>21</td>\n",
       "      <td>22597</td>\n",
       "      <td>60800</td>\n",
       "      <td>64113</td>\n",
       "      <td>1563</td>\n",
       "      <td>...</td>\n",
       "      <td>0</td>\n",
       "      <td>0</td>\n",
       "      <td>1</td>\n",
       "      <td>0</td>\n",
       "      <td>0</td>\n",
       "      <td>0</td>\n",
       "      <td>0</td>\n",
       "      <td>0.333333</td>\n",
       "      <td>0.333333</td>\n",
       "      <td>0.333333</td>\n",
       "    </tr>\n",
       "    <tr>\n",
       "      <th>Fairbanks North Star Borough</th>\n",
       "      <td>2010</td>\n",
       "      <td>0.415244</td>\n",
       "      <td>0.234509</td>\n",
       "      <td>0.682390</td>\n",
       "      <td>99357</td>\n",
       "      <td>8</td>\n",
       "      <td>30395</td>\n",
       "      <td>66598</td>\n",
       "      <td>79913</td>\n",
       "      <td>36441</td>\n",
       "      <td>...</td>\n",
       "      <td>0</td>\n",
       "      <td>0</td>\n",
       "      <td>1</td>\n",
       "      <td>0</td>\n",
       "      <td>0</td>\n",
       "      <td>0</td>\n",
       "      <td>0</td>\n",
       "      <td>0.333333</td>\n",
       "      <td>0.333333</td>\n",
       "      <td>0.333333</td>\n",
       "    </tr>\n",
       "    <tr>\n",
       "      <th>Haines Borough</th>\n",
       "      <td>2010</td>\n",
       "      <td>0.295952</td>\n",
       "      <td>0.117098</td>\n",
       "      <td>0.626739</td>\n",
       "      <td>2566</td>\n",
       "      <td>15</td>\n",
       "      <td>27979</td>\n",
       "      <td>47981</td>\n",
       "      <td>69821</td>\n",
       "      <td>1149</td>\n",
       "      <td>...</td>\n",
       "      <td>0</td>\n",
       "      <td>0</td>\n",
       "      <td>0</td>\n",
       "      <td>0</td>\n",
       "      <td>0</td>\n",
       "      <td>0</td>\n",
       "      <td>0</td>\n",
       "      <td>0.333333</td>\n",
       "      <td>0.333333</td>\n",
       "      <td>0.333333</td>\n",
       "    </tr>\n",
       "    <tr>\n",
       "      <th>Hoonah-Angoon Census Area</th>\n",
       "      <td>2010</td>\n",
       "      <td>0.551813</td>\n",
       "      <td>0.293230</td>\n",
       "      <td>0.957262</td>\n",
       "      <td>2082</td>\n",
       "      <td>19</td>\n",
       "      <td>24932</td>\n",
       "      <td>43750</td>\n",
       "      <td>50257</td>\n",
       "      <td>913</td>\n",
       "      <td>...</td>\n",
       "      <td>0</td>\n",
       "      <td>0</td>\n",
       "      <td>1</td>\n",
       "      <td>0</td>\n",
       "      <td>0</td>\n",
       "      <td>0</td>\n",
       "      <td>0</td>\n",
       "      <td>0.333333</td>\n",
       "      <td>0.333333</td>\n",
       "      <td>0.333333</td>\n",
       "    </tr>\n",
       "    <tr>\n",
       "      <th>Juneau City and Borough</th>\n",
       "      <td>2010</td>\n",
       "      <td>0.619250</td>\n",
       "      <td>0.338466</td>\n",
       "      <td>1.036874</td>\n",
       "      <td>32406</td>\n",
       "      <td>3</td>\n",
       "      <td>34923</td>\n",
       "      <td>75517</td>\n",
       "      <td>88536</td>\n",
       "      <td>12187</td>\n",
       "      <td>...</td>\n",
       "      <td>0</td>\n",
       "      <td>0</td>\n",
       "      <td>0</td>\n",
       "      <td>0</td>\n",
       "      <td>0</td>\n",
       "      <td>0</td>\n",
       "      <td>1</td>\n",
       "      <td>0.333333</td>\n",
       "      <td>0.333333</td>\n",
       "      <td>0.333333</td>\n",
       "    </tr>\n",
       "    <tr>\n",
       "      <th>Kenai Peninsula Borough</th>\n",
       "      <td>2010</td>\n",
       "      <td>0.293822</td>\n",
       "      <td>0.178232</td>\n",
       "      <td>0.457539</td>\n",
       "      <td>57477</td>\n",
       "      <td>12</td>\n",
       "      <td>29127</td>\n",
       "      <td>57454</td>\n",
       "      <td>71278</td>\n",
       "      <td>22161</td>\n",
       "      <td>...</td>\n",
       "      <td>0</td>\n",
       "      <td>0</td>\n",
       "      <td>0</td>\n",
       "      <td>0</td>\n",
       "      <td>1</td>\n",
       "      <td>0</td>\n",
       "      <td>0</td>\n",
       "      <td>0.333333</td>\n",
       "      <td>0.333333</td>\n",
       "      <td>0.333333</td>\n",
       "    </tr>\n",
       "    <tr>\n",
       "      <th>Ketchikan Gateway Borough</th>\n",
       "      <td>2010</td>\n",
       "      <td>0.541116</td>\n",
       "      <td>0.288086</td>\n",
       "      <td>0.914030</td>\n",
       "      <td>13787</td>\n",
       "      <td>11</td>\n",
       "      <td>29520</td>\n",
       "      <td>61695</td>\n",
       "      <td>78440</td>\n",
       "      <td>5305</td>\n",
       "      <td>...</td>\n",
       "      <td>1</td>\n",
       "      <td>0</td>\n",
       "      <td>0</td>\n",
       "      <td>0</td>\n",
       "      <td>0</td>\n",
       "      <td>0</td>\n",
       "      <td>0</td>\n",
       "      <td>0.333333</td>\n",
       "      <td>0.333333</td>\n",
       "      <td>0.333333</td>\n",
       "    </tr>\n",
       "    <tr>\n",
       "      <th>Kodiak Island Borough</th>\n",
       "      <td>2010</td>\n",
       "      <td>0.478971</td>\n",
       "      <td>0.234200</td>\n",
       "      <td>0.905350</td>\n",
       "      <td>13986</td>\n",
       "      <td>18</td>\n",
       "      <td>26413</td>\n",
       "      <td>60776</td>\n",
       "      <td>65605</td>\n",
       "      <td>4630</td>\n",
       "      <td>...</td>\n",
       "      <td>0</td>\n",
       "      <td>1</td>\n",
       "      <td>0</td>\n",
       "      <td>0</td>\n",
       "      <td>0</td>\n",
       "      <td>0</td>\n",
       "      <td>0</td>\n",
       "      <td>0.333333</td>\n",
       "      <td>0.333333</td>\n",
       "      <td>0.333333</td>\n",
       "    </tr>\n",
       "    <tr>\n",
       "      <th>Kusilvak Census Area</th>\n",
       "      <td>2010</td>\n",
       "      <td>3.581118</td>\n",
       "      <td>2.164024</td>\n",
       "      <td>5.592863</td>\n",
       "      <td>8010</td>\n",
       "      <td>29</td>\n",
       "      <td>11269</td>\n",
       "      <td>37955</td>\n",
       "      <td>37284</td>\n",
       "      <td>1745</td>\n",
       "      <td>...</td>\n",
       "      <td>0</td>\n",
       "      <td>0</td>\n",
       "      <td>1</td>\n",
       "      <td>0</td>\n",
       "      <td>0</td>\n",
       "      <td>0</td>\n",
       "      <td>0</td>\n",
       "      <td>0.333333</td>\n",
       "      <td>0.333333</td>\n",
       "      <td>0.333333</td>\n",
       "    </tr>\n",
       "    <tr>\n",
       "      <th>Lake and Peninsula Borough</th>\n",
       "      <td>2010</td>\n",
       "      <td>1.354956</td>\n",
       "      <td>0.770059</td>\n",
       "      <td>2.228150</td>\n",
       "      <td>1631</td>\n",
       "      <td>28</td>\n",
       "      <td>15161</td>\n",
       "      <td>40909</td>\n",
       "      <td>47266</td>\n",
       "      <td>553</td>\n",
       "      <td>...</td>\n",
       "      <td>0</td>\n",
       "      <td>0</td>\n",
       "      <td>0</td>\n",
       "      <td>0</td>\n",
       "      <td>0</td>\n",
       "      <td>0</td>\n",
       "      <td>1</td>\n",
       "      <td>0.333333</td>\n",
       "      <td>0.333333</td>\n",
       "      <td>0.333333</td>\n",
       "    </tr>\n",
       "    <tr>\n",
       "      <th>Matanuska-Susitna Borough</th>\n",
       "      <td>2010</td>\n",
       "      <td>0.301895</td>\n",
       "      <td>0.186655</td>\n",
       "      <td>0.465848</td>\n",
       "      <td>97882</td>\n",
       "      <td>16</td>\n",
       "      <td>27910</td>\n",
       "      <td>67703</td>\n",
       "      <td>76247</td>\n",
       "      <td>31824</td>\n",
       "      <td>...</td>\n",
       "      <td>0</td>\n",
       "      <td>0</td>\n",
       "      <td>0</td>\n",
       "      <td>0</td>\n",
       "      <td>1</td>\n",
       "      <td>0</td>\n",
       "      <td>0</td>\n",
       "      <td>0.333333</td>\n",
       "      <td>0.333333</td>\n",
       "      <td>0.333333</td>\n",
       "    </tr>\n",
       "    <tr>\n",
       "      <th>Nome Census Area</th>\n",
       "      <td>2010</td>\n",
       "      <td>1.970994</td>\n",
       "      <td>1.201667</td>\n",
       "      <td>3.081209</td>\n",
       "      <td>9817</td>\n",
       "      <td>25</td>\n",
       "      <td>20549</td>\n",
       "      <td>53899</td>\n",
       "      <td>52694</td>\n",
       "      <td>2815</td>\n",
       "      <td>...</td>\n",
       "      <td>0</td>\n",
       "      <td>0</td>\n",
       "      <td>0</td>\n",
       "      <td>0</td>\n",
       "      <td>0</td>\n",
       "      <td>0</td>\n",
       "      <td>1</td>\n",
       "      <td>0.333333</td>\n",
       "      <td>0.333333</td>\n",
       "      <td>0.333333</td>\n",
       "    </tr>\n",
       "    <tr>\n",
       "      <th>North Slope Borough</th>\n",
       "      <td>2010</td>\n",
       "      <td>0.887835</td>\n",
       "      <td>0.468470</td>\n",
       "      <td>1.534268</td>\n",
       "      <td>9703</td>\n",
       "      <td>23</td>\n",
       "      <td>22109</td>\n",
       "      <td>68517</td>\n",
       "      <td>70650</td>\n",
       "      <td>2029</td>\n",
       "      <td>...</td>\n",
       "      <td>0</td>\n",
       "      <td>0</td>\n",
       "      <td>0</td>\n",
       "      <td>1</td>\n",
       "      <td>0</td>\n",
       "      <td>0</td>\n",
       "      <td>0</td>\n",
       "      <td>0.333333</td>\n",
       "      <td>0.333333</td>\n",
       "      <td>0.333333</td>\n",
       "    </tr>\n",
       "    <tr>\n",
       "      <th>Northwest Arctic Borough</th>\n",
       "      <td>2010</td>\n",
       "      <td>1.675208</td>\n",
       "      <td>0.974373</td>\n",
       "      <td>2.701584</td>\n",
       "      <td>7717</td>\n",
       "      <td>24</td>\n",
       "      <td>21278</td>\n",
       "      <td>55217</td>\n",
       "      <td>52807</td>\n",
       "      <td>1919</td>\n",
       "      <td>...</td>\n",
       "      <td>0</td>\n",
       "      <td>0</td>\n",
       "      <td>1</td>\n",
       "      <td>0</td>\n",
       "      <td>0</td>\n",
       "      <td>0</td>\n",
       "      <td>0</td>\n",
       "      <td>0.333333</td>\n",
       "      <td>0.333333</td>\n",
       "      <td>0.333333</td>\n",
       "    </tr>\n",
       "    <tr>\n",
       "      <th>Petersburg Borough</th>\n",
       "      <td>2010</td>\n",
       "      <td>0.541116</td>\n",
       "      <td>0.288086</td>\n",
       "      <td>0.914030</td>\n",
       "      <td>3160</td>\n",
       "      <td>6</td>\n",
       "      <td>30971</td>\n",
       "      <td>62317</td>\n",
       "      <td>76063</td>\n",
       "      <td>1599</td>\n",
       "      <td>...</td>\n",
       "      <td>0</td>\n",
       "      <td>0</td>\n",
       "      <td>1</td>\n",
       "      <td>0</td>\n",
       "      <td>0</td>\n",
       "      <td>0</td>\n",
       "      <td>0</td>\n",
       "      <td>0.333333</td>\n",
       "      <td>0.333333</td>\n",
       "      <td>0.333333</td>\n",
       "    </tr>\n",
       "    <tr>\n",
       "      <th>Prince of Wales-Hyder Census Area</th>\n",
       "      <td>2010</td>\n",
       "      <td>0.541116</td>\n",
       "      <td>0.288086</td>\n",
       "      <td>0.914030</td>\n",
       "      <td>6396</td>\n",
       "      <td>20</td>\n",
       "      <td>24193</td>\n",
       "      <td>45728</td>\n",
       "      <td>51000</td>\n",
       "      <td>2194</td>\n",
       "      <td>...</td>\n",
       "      <td>1</td>\n",
       "      <td>0</td>\n",
       "      <td>0</td>\n",
       "      <td>0</td>\n",
       "      <td>0</td>\n",
       "      <td>0</td>\n",
       "      <td>0</td>\n",
       "      <td>0.333333</td>\n",
       "      <td>0.333333</td>\n",
       "      <td>0.333333</td>\n",
       "    </tr>\n",
       "    <tr>\n",
       "      <th>Sitka City and Borough</th>\n",
       "      <td>2010</td>\n",
       "      <td>0.925782</td>\n",
       "      <td>0.468058</td>\n",
       "      <td>1.652646</td>\n",
       "      <td>8900</td>\n",
       "      <td>9</td>\n",
       "      <td>29982</td>\n",
       "      <td>62024</td>\n",
       "      <td>70875</td>\n",
       "      <td>3545</td>\n",
       "      <td>...</td>\n",
       "      <td>1</td>\n",
       "      <td>0</td>\n",
       "      <td>0</td>\n",
       "      <td>0</td>\n",
       "      <td>0</td>\n",
       "      <td>0</td>\n",
       "      <td>0</td>\n",
       "      <td>0.333333</td>\n",
       "      <td>0.333333</td>\n",
       "      <td>0.333333</td>\n",
       "    </tr>\n",
       "    <tr>\n",
       "      <th>Skagway Municipality</th>\n",
       "      <td>2010</td>\n",
       "      <td>0.551813</td>\n",
       "      <td>0.293230</td>\n",
       "      <td>0.957262</td>\n",
       "      <td>1036</td>\n",
       "      <td>2</td>\n",
       "      <td>35536</td>\n",
       "      <td>73500</td>\n",
       "      <td>87361</td>\n",
       "      <td>436</td>\n",
       "      <td>...</td>\n",
       "      <td>0</td>\n",
       "      <td>0</td>\n",
       "      <td>0</td>\n",
       "      <td>0</td>\n",
       "      <td>0</td>\n",
       "      <td>0</td>\n",
       "      <td>0</td>\n",
       "      <td>0.333333</td>\n",
       "      <td>0.333333</td>\n",
       "      <td>0.333333</td>\n",
       "    </tr>\n",
       "    <tr>\n",
       "      <th>Southeast Fairbanks Census Area</th>\n",
       "      <td>2010</td>\n",
       "      <td>0.249613</td>\n",
       "      <td>0.130366</td>\n",
       "      <td>0.432093</td>\n",
       "      <td>6931</td>\n",
       "      <td>17</td>\n",
       "      <td>27657</td>\n",
       "      <td>59596</td>\n",
       "      <td>63125</td>\n",
       "      <td>2567</td>\n",
       "      <td>...</td>\n",
       "      <td>0</td>\n",
       "      <td>0</td>\n",
       "      <td>0</td>\n",
       "      <td>0</td>\n",
       "      <td>0</td>\n",
       "      <td>0</td>\n",
       "      <td>0</td>\n",
       "      <td>0.333333</td>\n",
       "      <td>0.333333</td>\n",
       "      <td>0.333333</td>\n",
       "    </tr>\n",
       "    <tr>\n",
       "      <th>Valdez-Cordova Census Area</th>\n",
       "      <td>2010</td>\n",
       "      <td>0.257776</td>\n",
       "      <td>0.142576</td>\n",
       "      <td>0.433112</td>\n",
       "      <td>9488</td>\n",
       "      <td>7</td>\n",
       "      <td>30703</td>\n",
       "      <td>60383</td>\n",
       "      <td>76625</td>\n",
       "      <td>3966</td>\n",
       "      <td>...</td>\n",
       "      <td>0</td>\n",
       "      <td>0</td>\n",
       "      <td>0</td>\n",
       "      <td>0</td>\n",
       "      <td>1</td>\n",
       "      <td>0</td>\n",
       "      <td>0</td>\n",
       "      <td>0.333333</td>\n",
       "      <td>0.333333</td>\n",
       "      <td>0.333333</td>\n",
       "    </tr>\n",
       "    <tr>\n",
       "      <th>Wrangell City and Borough</th>\n",
       "      <td>2010</td>\n",
       "      <td>0.541116</td>\n",
       "      <td>0.288086</td>\n",
       "      <td>0.914030</td>\n",
       "      <td>2364</td>\n",
       "      <td>13</td>\n",
       "      <td>28731</td>\n",
       "      <td>50389</td>\n",
       "      <td>53688</td>\n",
       "      <td>1053</td>\n",
       "      <td>...</td>\n",
       "      <td>0</td>\n",
       "      <td>0</td>\n",
       "      <td>1</td>\n",
       "      <td>0</td>\n",
       "      <td>0</td>\n",
       "      <td>0</td>\n",
       "      <td>0</td>\n",
       "      <td>0.333333</td>\n",
       "      <td>0.333333</td>\n",
       "      <td>0.333333</td>\n",
       "    </tr>\n",
       "    <tr>\n",
       "      <th>Yakutat City and Borough</th>\n",
       "      <td>2010</td>\n",
       "      <td>0.551813</td>\n",
       "      <td>0.293230</td>\n",
       "      <td>0.957262</td>\n",
       "      <td>635</td>\n",
       "      <td>14</td>\n",
       "      <td>28576</td>\n",
       "      <td>65750</td>\n",
       "      <td>90833</td>\n",
       "      <td>270</td>\n",
       "      <td>...</td>\n",
       "      <td>0</td>\n",
       "      <td>0</td>\n",
       "      <td>0</td>\n",
       "      <td>0</td>\n",
       "      <td>0</td>\n",
       "      <td>0</td>\n",
       "      <td>1</td>\n",
       "      <td>0.333333</td>\n",
       "      <td>0.333333</td>\n",
       "      <td>0.333333</td>\n",
       "    </tr>\n",
       "    <tr>\n",
       "      <th>Yukon-Koyukuk Census Area</th>\n",
       "      <td>2010</td>\n",
       "      <td>0.793947</td>\n",
       "      <td>0.485441</td>\n",
       "      <td>1.233525</td>\n",
       "      <td>5547</td>\n",
       "      <td>26</td>\n",
       "      <td>18614</td>\n",
       "      <td>33712</td>\n",
       "      <td>45000</td>\n",
       "      <td>2217</td>\n",
       "      <td>...</td>\n",
       "      <td>0</td>\n",
       "      <td>0</td>\n",
       "      <td>0</td>\n",
       "      <td>0</td>\n",
       "      <td>0</td>\n",
       "      <td>0</td>\n",
       "      <td>0</td>\n",
       "      <td>0.333333</td>\n",
       "      <td>0.333333</td>\n",
       "      <td>0.333333</td>\n",
       "    </tr>\n",
       "  </tbody>\n",
       "</table>\n",
       "<p>29 rows × 52 columns</p>\n",
       "</div>"
      ],
      "text/plain": [
       "                                   year_id        mx     lower     upper  \\\n",
       "location_name                                                              \n",
       "Aleutians East Borough                2010  0.874231  0.423436  1.614015   \n",
       "Aleutians West Census Area            2010  0.874231  0.423436  1.614015   \n",
       "Anchorage Municipality                2010  0.638626  0.443512  0.895622   \n",
       "Bethel Census Area                    2010  2.777978  1.776847  4.091589   \n",
       "Bristol Bay Borough                   2010  0.747949  0.246686  1.763773   \n",
       "Denali Borough                        2010  0.793947  0.485441  1.233525   \n",
       "Dillingham Census Area                2010  1.354956  0.770059  2.228150   \n",
       "Fairbanks North Star Borough          2010  0.415244  0.234509  0.682390   \n",
       "Haines Borough                        2010  0.295952  0.117098  0.626739   \n",
       "Hoonah-Angoon Census Area             2010  0.551813  0.293230  0.957262   \n",
       "Juneau City and Borough               2010  0.619250  0.338466  1.036874   \n",
       "Kenai Peninsula Borough               2010  0.293822  0.178232  0.457539   \n",
       "Ketchikan Gateway Borough             2010  0.541116  0.288086  0.914030   \n",
       "Kodiak Island Borough                 2010  0.478971  0.234200  0.905350   \n",
       "Kusilvak Census Area                  2010  3.581118  2.164024  5.592863   \n",
       "Lake and Peninsula Borough            2010  1.354956  0.770059  2.228150   \n",
       "Matanuska-Susitna Borough             2010  0.301895  0.186655  0.465848   \n",
       "Nome Census Area                      2010  1.970994  1.201667  3.081209   \n",
       "North Slope Borough                   2010  0.887835  0.468470  1.534268   \n",
       "Northwest Arctic Borough              2010  1.675208  0.974373  2.701584   \n",
       "Petersburg Borough                    2010  0.541116  0.288086  0.914030   \n",
       "Prince of Wales-Hyder Census Area     2010  0.541116  0.288086  0.914030   \n",
       "Sitka City and Borough                2010  0.925782  0.468058  1.652646   \n",
       "Skagway Municipality                  2010  0.551813  0.293230  0.957262   \n",
       "Southeast Fairbanks Census Area       2010  0.249613  0.130366  0.432093   \n",
       "Valdez-Cordova Census Area            2010  0.257776  0.142576  0.433112   \n",
       "Wrangell City and Borough             2010  0.541116  0.288086  0.914030   \n",
       "Yakutat City and Borough              2010  0.551813  0.293230  0.957262   \n",
       "Yukon-Koyukuk Census Area             2010  0.793947  0.485441  1.233525   \n",
       "\n",
       "                                   Population  Per_Cap_Inc_Rank  \\\n",
       "location_name                                                     \n",
       "Aleutians East Borough                   3360                22   \n",
       "Aleutians West Census Area               5750                10   \n",
       "Anchorage Municipality                 301010                 4   \n",
       "Bethel Census Area                      17868                27   \n",
       "Bristol Bay Borough                       957                 5   \n",
       "Denali Borough                           1921                 1   \n",
       "Dillingham Census Area                   4988                21   \n",
       "Fairbanks North Star Borough            99357                 8   \n",
       "Haines Borough                           2566                15   \n",
       "Hoonah-Angoon Census Area                2082                19   \n",
       "Juneau City and Borough                 32406                 3   \n",
       "Kenai Peninsula Borough                 57477                12   \n",
       "Ketchikan Gateway Borough               13787                11   \n",
       "Kodiak Island Borough                   13986                18   \n",
       "Kusilvak Census Area                     8010                29   \n",
       "Lake and Peninsula Borough               1631                28   \n",
       "Matanuska-Susitna Borough               97882                16   \n",
       "Nome Census Area                         9817                25   \n",
       "North Slope Borough                      9703                23   \n",
       "Northwest Arctic Borough                 7717                24   \n",
       "Petersburg Borough                       3160                 6   \n",
       "Prince of Wales-Hyder Census Area        6396                20   \n",
       "Sitka City and Borough                   8900                 9   \n",
       "Skagway Municipality                     1036                 2   \n",
       "Southeast Fairbanks Census Area          6931                17   \n",
       "Valdez-Cordova Census Area               9488                 7   \n",
       "Wrangell City and Borough                2364                13   \n",
       "Yakutat City and Borough                  635                14   \n",
       "Yukon-Koyukuk Census Area                5547                26   \n",
       "\n",
       "                                   Per capita income  Median household income  \\\n",
       "location_name                                                                   \n",
       "Aleutians East Borough                         22279                    54375   \n",
       "Aleutians West Census Area                     29920                    72917   \n",
       "Anchorage Municipality                         34678                    73004   \n",
       "Bethel Census Area                             18584                    52214   \n",
       "Bristol Bay Borough                            31260                    84000   \n",
       "Denali Borough                                 42245                    72500   \n",
       "Dillingham Census Area                         22597                    60800   \n",
       "Fairbanks North Star Borough                   30395                    66598   \n",
       "Haines Borough                                 27979                    47981   \n",
       "Hoonah-Angoon Census Area                      24932                    43750   \n",
       "Juneau City and Borough                        34923                    75517   \n",
       "Kenai Peninsula Borough                        29127                    57454   \n",
       "Ketchikan Gateway Borough                      29520                    61695   \n",
       "Kodiak Island Borough                          26413                    60776   \n",
       "Kusilvak Census Area                           11269                    37955   \n",
       "Lake and Peninsula Borough                     15161                    40909   \n",
       "Matanuska-Susitna Borough                      27910                    67703   \n",
       "Nome Census Area                               20549                    53899   \n",
       "North Slope Borough                            22109                    68517   \n",
       "Northwest Arctic Borough                       21278                    55217   \n",
       "Petersburg Borough                             30971                    62317   \n",
       "Prince of Wales-Hyder Census Area              24193                    45728   \n",
       "Sitka City and Borough                         29982                    62024   \n",
       "Skagway Municipality                           35536                    73500   \n",
       "Southeast Fairbanks Census Area                27657                    59596   \n",
       "Valdez-Cordova Census Area                     30703                    60383   \n",
       "Wrangell City and Borough                      28731                    50389   \n",
       "Yakutat City and Borough                       28576                    65750   \n",
       "Yukon-Koyukuk Census Area                      18614                    33712   \n",
       "\n",
       "                                   Median family income  Number of households  \\\n",
       "location_name                                                                   \n",
       "Aleutians East Borough                            61250                   553   \n",
       "Aleutians West Census Area                        81875                  1212   \n",
       "Anchorage Municipality                            85023                107332   \n",
       "Bethel Census Area                                55402                  4651   \n",
       "Bristol Bay Borough                               92308                   423   \n",
       "Denali Borough                                    81500                   806   \n",
       "Dillingham Census Area                            64113                  1563   \n",
       "Fairbanks North Star Borough                      79913                 36441   \n",
       "Haines Borough                                    69821                  1149   \n",
       "Hoonah-Angoon Census Area                         50257                   913   \n",
       "Juneau City and Borough                           88536                 12187   \n",
       "Kenai Peninsula Borough                           71278                 22161   \n",
       "Ketchikan Gateway Borough                         78440                  5305   \n",
       "Kodiak Island Borough                             65605                  4630   \n",
       "Kusilvak Census Area                              37284                  1745   \n",
       "Lake and Peninsula Borough                        47266                   553   \n",
       "Matanuska-Susitna Borough                         76247                 31824   \n",
       "Nome Census Area                                  52694                  2815   \n",
       "North Slope Borough                               70650                  2029   \n",
       "Northwest Arctic Borough                          52807                  1919   \n",
       "Petersburg Borough                                76063                  1599   \n",
       "Prince of Wales-Hyder Census Area                 51000                  2194   \n",
       "Sitka City and Borough                            70875                  3545   \n",
       "Skagway Municipality                              87361                   436   \n",
       "Southeast Fairbanks Census Area                   63125                  2567   \n",
       "Valdez-Cordova Census Area                        76625                  3966   \n",
       "Wrangell City and Borough                         53688                  1053   \n",
       "Yakutat City and Borough                          90833                   270   \n",
       "Yukon-Koyukuk Census Area                         45000                  2217   \n",
       "\n",
       "                                     ...     Oceanic  Oceanic/Subarctic  \\\n",
       "location_name                        ...                                  \n",
       "Aleutians East Borough               ...           0                  0   \n",
       "Aleutians West Census Area           ...           1                  0   \n",
       "Anchorage Municipality               ...           0                  0   \n",
       "Bethel Census Area                   ...           0                  0   \n",
       "Bristol Bay Borough                  ...           0                  0   \n",
       "Denali Borough                       ...           0                  0   \n",
       "Dillingham Census Area               ...           0                  0   \n",
       "Fairbanks North Star Borough         ...           0                  0   \n",
       "Haines Borough                       ...           0                  0   \n",
       "Hoonah-Angoon Census Area            ...           0                  0   \n",
       "Juneau City and Borough              ...           0                  0   \n",
       "Kenai Peninsula Borough              ...           0                  0   \n",
       "Ketchikan Gateway Borough            ...           1                  0   \n",
       "Kodiak Island Borough                ...           0                  1   \n",
       "Kusilvak Census Area                 ...           0                  0   \n",
       "Lake and Peninsula Borough           ...           0                  0   \n",
       "Matanuska-Susitna Borough            ...           0                  0   \n",
       "Nome Census Area                     ...           0                  0   \n",
       "North Slope Borough                  ...           0                  0   \n",
       "Northwest Arctic Borough             ...           0                  0   \n",
       "Petersburg Borough                   ...           0                  0   \n",
       "Prince of Wales-Hyder Census Area    ...           1                  0   \n",
       "Sitka City and Borough               ...           1                  0   \n",
       "Skagway Municipality                 ...           0                  0   \n",
       "Southeast Fairbanks Census Area      ...           0                  0   \n",
       "Valdez-Cordova Census Area           ...           0                  0   \n",
       "Wrangell City and Borough            ...           0                  0   \n",
       "Yakutat City and Borough             ...           0                  0   \n",
       "Yukon-Koyukuk Census Area            ...           0                  0   \n",
       "\n",
       "                                   Subarctic  \\\n",
       "location_name                                  \n",
       "Aleutians East Borough                     0   \n",
       "Aleutians West Census Area                 0   \n",
       "Anchorage Municipality                     1   \n",
       "Bethel Census Area                         0   \n",
       "Bristol Bay Borough                        1   \n",
       "Denali Borough                             1   \n",
       "Dillingham Census Area                     1   \n",
       "Fairbanks North Star Borough               1   \n",
       "Haines Borough                             0   \n",
       "Hoonah-Angoon Census Area                  1   \n",
       "Juneau City and Borough                    0   \n",
       "Kenai Peninsula Borough                    0   \n",
       "Ketchikan Gateway Borough                  0   \n",
       "Kodiak Island Borough                      0   \n",
       "Kusilvak Census Area                       1   \n",
       "Lake and Peninsula Borough                 0   \n",
       "Matanuska-Susitna Borough                  0   \n",
       "Nome Census Area                           0   \n",
       "North Slope Borough                        0   \n",
       "Northwest Arctic Borough                   1   \n",
       "Petersburg Borough                         1   \n",
       "Prince of Wales-Hyder Census Area          0   \n",
       "Sitka City and Borough                     0   \n",
       "Skagway Municipality                       0   \n",
       "Southeast Fairbanks Census Area            0   \n",
       "Valdez-Cordova Census Area                 0   \n",
       "Wrangell City and Borough                  1   \n",
       "Yakutat City and Borough                   0   \n",
       "Yukon-Koyukuk Census Area                  0   \n",
       "\n",
       "                                   Tundra/Cold semi-arid/Dry-summer subarctic/Subarctic  \\\n",
       "location_name                                                                             \n",
       "Aleutians East Borough                                                             0      \n",
       "Aleutians West Census Area                                                         0      \n",
       "Anchorage Municipality                                                             0      \n",
       "Bethel Census Area                                                                 0      \n",
       "Bristol Bay Borough                                                                0      \n",
       "Denali Borough                                                                     0      \n",
       "Dillingham Census Area                                                             0      \n",
       "Fairbanks North Star Borough                                                       0      \n",
       "Haines Borough                                                                     0      \n",
       "Hoonah-Angoon Census Area                                                          0      \n",
       "Juneau City and Borough                                                            0      \n",
       "Kenai Peninsula Borough                                                            0      \n",
       "Ketchikan Gateway Borough                                                          0      \n",
       "Kodiak Island Borough                                                              0      \n",
       "Kusilvak Census Area                                                               0      \n",
       "Lake and Peninsula Borough                                                         0      \n",
       "Matanuska-Susitna Borough                                                          0      \n",
       "Nome Census Area                                                                   0      \n",
       "North Slope Borough                                                                1      \n",
       "Northwest Arctic Borough                                                           0      \n",
       "Petersburg Borough                                                                 0      \n",
       "Prince of Wales-Hyder Census Area                                                  0      \n",
       "Sitka City and Borough                                                             0      \n",
       "Skagway Municipality                                                               0      \n",
       "Southeast Fairbanks Census Area                                                    0      \n",
       "Valdez-Cordova Census Area                                                         0      \n",
       "Wrangell City and Borough                                                          0      \n",
       "Yakutat City and Borough                                                           0      \n",
       "Yukon-Koyukuk Census Area                                                          0      \n",
       "\n",
       "                                   Tundra/Dry-summer subarctic/Subarctic  \\\n",
       "location_name                                                              \n",
       "Aleutians East Borough                                                 0   \n",
       "Aleutians West Census Area                                             0   \n",
       "Anchorage Municipality                                                 0   \n",
       "Bethel Census Area                                                     1   \n",
       "Bristol Bay Borough                                                    0   \n",
       "Denali Borough                                                         0   \n",
       "Dillingham Census Area                                                 0   \n",
       "Fairbanks North Star Borough                                           0   \n",
       "Haines Borough                                                         0   \n",
       "Hoonah-Angoon Census Area                                              0   \n",
       "Juneau City and Borough                                                0   \n",
       "Kenai Peninsula Borough                                                1   \n",
       "Ketchikan Gateway Borough                                              0   \n",
       "Kodiak Island Borough                                                  0   \n",
       "Kusilvak Census Area                                                   0   \n",
       "Lake and Peninsula Borough                                             0   \n",
       "Matanuska-Susitna Borough                                              1   \n",
       "Nome Census Area                                                       0   \n",
       "North Slope Borough                                                    0   \n",
       "Northwest Arctic Borough                                               0   \n",
       "Petersburg Borough                                                     0   \n",
       "Prince of Wales-Hyder Census Area                                      0   \n",
       "Sitka City and Borough                                                 0   \n",
       "Skagway Municipality                                                   0   \n",
       "Southeast Fairbanks Census Area                                        0   \n",
       "Valdez-Cordova Census Area                                             1   \n",
       "Wrangell City and Borough                                              0   \n",
       "Yakutat City and Borough                                               0   \n",
       "Yukon-Koyukuk Census Area                                              0   \n",
       "\n",
       "                                   Tundra/Oceanic/Subarctic  Tundra/Subarctic  \\\n",
       "location_name                                                                   \n",
       "Aleutians East Borough                                    1                 0   \n",
       "Aleutians West Census Area                                0                 0   \n",
       "Anchorage Municipality                                    0                 0   \n",
       "Bethel Census Area                                        0                 0   \n",
       "Bristol Bay Borough                                       0                 0   \n",
       "Denali Borough                                            0                 0   \n",
       "Dillingham Census Area                                    0                 0   \n",
       "Fairbanks North Star Borough                              0                 0   \n",
       "Haines Borough                                            0                 0   \n",
       "Hoonah-Angoon Census Area                                 0                 0   \n",
       "Juneau City and Borough                                   0                 1   \n",
       "Kenai Peninsula Borough                                   0                 0   \n",
       "Ketchikan Gateway Borough                                 0                 0   \n",
       "Kodiak Island Borough                                     0                 0   \n",
       "Kusilvak Census Area                                      0                 0   \n",
       "Lake and Peninsula Borough                                0                 1   \n",
       "Matanuska-Susitna Borough                                 0                 0   \n",
       "Nome Census Area                                          0                 1   \n",
       "North Slope Borough                                       0                 0   \n",
       "Northwest Arctic Borough                                  0                 0   \n",
       "Petersburg Borough                                        0                 0   \n",
       "Prince of Wales-Hyder Census Area                         0                 0   \n",
       "Sitka City and Borough                                    0                 0   \n",
       "Skagway Municipality                                      0                 0   \n",
       "Southeast Fairbanks Census Area                           0                 0   \n",
       "Valdez-Cordova Census Area                                0                 0   \n",
       "Wrangell City and Borough                                 0                 0   \n",
       "Yakutat City and Borough                                  0                 1   \n",
       "Yukon-Koyukuk Census Area                                 0                 0   \n",
       "\n",
       "                                       Both    Female      Male  \n",
       "location_name                                                    \n",
       "Aleutians East Borough             0.333333  0.333333  0.333333  \n",
       "Aleutians West Census Area         0.333333  0.333333  0.333333  \n",
       "Anchorage Municipality             0.333333  0.333333  0.333333  \n",
       "Bethel Census Area                 0.333333  0.333333  0.333333  \n",
       "Bristol Bay Borough                0.333333  0.333333  0.333333  \n",
       "Denali Borough                     0.333333  0.333333  0.333333  \n",
       "Dillingham Census Area             0.333333  0.333333  0.333333  \n",
       "Fairbanks North Star Borough       0.333333  0.333333  0.333333  \n",
       "Haines Borough                     0.333333  0.333333  0.333333  \n",
       "Hoonah-Angoon Census Area          0.333333  0.333333  0.333333  \n",
       "Juneau City and Borough            0.333333  0.333333  0.333333  \n",
       "Kenai Peninsula Borough            0.333333  0.333333  0.333333  \n",
       "Ketchikan Gateway Borough          0.333333  0.333333  0.333333  \n",
       "Kodiak Island Borough              0.333333  0.333333  0.333333  \n",
       "Kusilvak Census Area               0.333333  0.333333  0.333333  \n",
       "Lake and Peninsula Borough         0.333333  0.333333  0.333333  \n",
       "Matanuska-Susitna Borough          0.333333  0.333333  0.333333  \n",
       "Nome Census Area                   0.333333  0.333333  0.333333  \n",
       "North Slope Borough                0.333333  0.333333  0.333333  \n",
       "Northwest Arctic Borough           0.333333  0.333333  0.333333  \n",
       "Petersburg Borough                 0.333333  0.333333  0.333333  \n",
       "Prince of Wales-Hyder Census Area  0.333333  0.333333  0.333333  \n",
       "Sitka City and Borough             0.333333  0.333333  0.333333  \n",
       "Skagway Municipality               0.333333  0.333333  0.333333  \n",
       "Southeast Fairbanks Census Area    0.333333  0.333333  0.333333  \n",
       "Valdez-Cordova Census Area         0.333333  0.333333  0.333333  \n",
       "Wrangell City and Borough          0.333333  0.333333  0.333333  \n",
       "Yakutat City and Borough           0.333333  0.333333  0.333333  \n",
       "Yukon-Koyukuk Census Area          0.333333  0.333333  0.333333  \n",
       "\n",
       "[29 rows x 52 columns]"
      ]
     },
     "execution_count": 37,
     "metadata": {},
     "output_type": "execute_result"
    }
   ],
   "source": [
    "ak2_boroughs = ak2.groupby('location_name').mean()\n",
    "ak2_boroughs"
   ]
  },
  {
   "cell_type": "code",
   "execution_count": 38,
   "metadata": {},
   "outputs": [],
   "source": [
    "ak2_boroughs = ak2_boroughs.reset_index()"
   ]
  },
  {
   "cell_type": "markdown",
   "metadata": {},
   "source": [
    "Let's calculate Moran's I-Statistic by hand. According to wikipedia (https://en.wikipedia.org/wiki/Moran%27s_I),\n",
    "\n",
    "$$\n",
    "I = \\frac{N}{W}\\frac{\\Sigma_i\\Sigma_jw_{ij}(x_i - \\bar{x})(x_j - \\bar{x})}{\\Sigma_i(x_i - \\bar{x})^2}\n",
    "$$"
   ]
  },
  {
   "cell_type": "code",
   "execution_count": 39,
   "metadata": {},
   "outputs": [
    {
     "data": {
      "text/plain": [
       "16.28823143762252"
      ]
     },
     "execution_count": 39,
     "metadata": {},
     "output_type": "execute_result"
    }
   ],
   "source": [
    "((ak2_boroughs['mx'] - ak2_boroughs['mx'].mean()) ** 2).sum()"
   ]
  },
  {
   "cell_type": "markdown",
   "metadata": {},
   "source": [
    "Borders:\n",
    "\n",
    "Aleutians East: Lake and Peninsula\n",
    "\n",
    "(0.874 - 0.896) * (1.355 - 0.896)\n",
    "\n",
    "--\n",
    "\n",
    "Aleutians West: NA\n",
    "\n",
    "--\n",
    "\n",
    "Anchorage: Kenai, Matanuska-Susitna, Valdez-Cordova\n",
    "\n",
    "(0.639 - 0.896) * ((0.294 - 0.896) + (0.302 - 0.896) + (0.258 - 0.896))\n",
    "\n",
    "--\n",
    "\n",
    "Bethel: Dillingham, Kenai, Kusilvak, Lake and Peninsula, Matanuska-Susitna, Yukon-Koyukuk\n",
    "\n",
    "(2.778 - 0.896) * ((1.355 - 0.896) + (0.294 - 0.896) + (3.581 - 0.896) + (1.355 - 0.896) + (0.302 - 0.896) + (0.794 - 0.896))\n",
    "\n",
    "--\n",
    "\n",
    "Bristol Bay: Dillingham, Lake and Peninsula\n",
    "\n",
    "(0.748 - 0.896) * ((1.355 - 0.896) + (1.355 - 0.896))\n",
    "\n",
    "--\n",
    "\n",
    "Denali: Fairbanks North Star, Matanuska-Susitna, Southeast Fairbanks, Yukon-Koyukuk\n",
    "\n",
    "(0.794 - 0.896) * ((0.415 - 0.896) + (0.302 - 0.896) + (0.25 - 0.896) + (0.794 - 0.896))\n",
    "\n",
    "--\n",
    "\n",
    "Dillingham: Bethel, Bristol Bay, Lake and Peninsula\n",
    "\n",
    "(1.355 - 0.896) * (1.355 - 0.896)\n",
    "\n",
    "--\n",
    "\n",
    "Fairbanks North Star: Denali, Southeast Fairbanks, Yukon-Koyukuk\n",
    "\n",
    "(0.415 - 0.896) * ((0.25 - 0.896) + (0.794 - 0.896))\n",
    "\n",
    "--\n",
    "\n",
    "Haines: Hoonah-Angoon, Juneau, Skagway\n",
    "\n",
    "(0.296 - 0.896) * ((0.552 - 0896) + (0.619 - 0.896) + (0.552 - 0.896))\n",
    "\n",
    "--\n",
    "\n",
    "Hoonah-Angoon: Haines, Juneau, Petersburg, Sitka, Wrangell, Yakutat\n",
    "\n",
    "(0.552 - 0.896) * ((0.619 - 0.896) + (0.541 - 0.896) + (0.926 - 0.896) + (0.541 - 0.896) + (0.552 - 0.896))\n",
    "\n",
    "--\n",
    "\n",
    "Juneau: Haines, Hoonah-Angoon\n",
    "\n",
    "--\n",
    "\n",
    "Kenai: Anchorage, Bethel, Kodiak, Lake and Peninsula, Matanuska-Susitna, Valdez-Cordova\n",
    "\n",
    "(0.294 - 0.896) * ((0.479 - 0.896) + (1.355 - 0.896) + (0.302 - 0.896) + (0.258 - 0.896))\n",
    "\n",
    "--\n",
    "\n",
    "Ketchikan: Petersburg, Prince of Wales, Wrangell\n",
    "\n",
    "(0.541 - 0.896) * ((0.541 - 0.896) + (0.541 - 0.896) + (0.541 - 0.896))\n",
    "\n",
    "--\n",
    "\n",
    "Kodiak: Kenai, Lake and Peninsula\n",
    "\n",
    "(0.479 - 0.896) * (1.355 - 0.896)\n",
    "\n",
    "--\n",
    "\n",
    "Kusilvak: Bethel, Nome, Yukon-Koyukuk\n",
    "\n",
    "(3.581 - 0.896) * (0.794 - 0.896)\n",
    "\n",
    "--\n",
    "\n",
    "Lake and Peninsula: Aleutians East, Bethel, Bristol Bay, Dillingham, Kenai, Kodiak\n",
    "\n",
    "--\n",
    "\n",
    "Matanuska-Susitna: Anchorage, Bethel, Denali, Kenai, Southeast Fairbanks, Valdez-Corodva, Yukon-Koyukuk\n",
    "\n",
    "(0.302 - 0.896) * ((0.25 - 0.896) + (0.258 - 0.896) + (0.794 - 0.896))\n",
    "\n",
    "--\n",
    "\n",
    "Nome: Kusilvak, Northwest Arctic, Yukon-Koyukuk\n",
    "\n",
    "(1.971 - 0.896) * ((1.675 - 0.896) + (0.794 - 0.896))\n",
    "\n",
    "--\n",
    "\n",
    "North Slope: Northwest Arctic, Yukon-Koyukuk\n",
    "\n",
    "(0.888 - 0.896) * ((1.675 - 0.896) + (0.794 - 0.896))\n",
    "\n",
    "--\n",
    "\n",
    "Northwest Arctic: Nome, North Slope, Yukon-Koyukuk\n",
    "\n",
    "(1.675 - 0.896) * (0.794 - 0.896)\n",
    "\n",
    "--\n",
    "\n",
    "Petersburg: Hoonah-Angoon, Ketchikan, Prince of Wales, Wrangell\n",
    "\n",
    "(0.541 - 0.896) * ((0.541 - 0.896) + (0.541 - 0.896))\n",
    "\n",
    "--\n",
    "\n",
    "Prince of Wales: Ketchikan, Petersburg, Wrangell\n",
    "\n",
    "(0.541 - 0.896) * (0.541 - 0.896)\n",
    "\n",
    "--\n",
    "\n",
    "Sitka: Hoonah-Angoon\n",
    "\n",
    "--\n",
    "\n",
    "Skagway: Haines\n",
    "\n",
    "--\n",
    "\n",
    "Southeast Fairbanks: Denali, Fairbanks North Star, Matanuska-Susitna, Valdez-Cordova, Yukon-Koyukuk\n",
    "\n",
    "(0.25 - 0.896) * ((0.258 - 0.896) + (0.794 - 0.896))\n",
    "\n",
    "--\n",
    "\n",
    "Valdez-Cordova: Anchorage, Kenai, Matanuska-Susitna, Southeast Fairbanks, Yakutat\n",
    "\n",
    "(0.258 - 0.896) * (0.552 - 0.896)\n",
    "\n",
    "--\n",
    "\n",
    "Wrangell: Hoonah-Angoon, Ketchikan, Petersburg, Prince of Wales\n",
    "\n",
    "--\n",
    "\n",
    "Yakutat: Hoonah-Angoon, Valdez-Cordova\n",
    "\n",
    "--\n",
    "\n",
    "Yukon-Koyukuk: Bethel, Denali, Fairbanks North Star, Kusilvak, Matanuska-Susitna, Nome, North Slope, Northwest Arctic, Southeast Fairbanks\n",
    "\n",
    "--"
   ]
  },
  {
   "cell_type": "markdown",
   "metadata": {},
   "source": [
    "N = 29 and W = 102.\n",
    "\n",
    "After a massive calculation\n",
    "\n",
    "(29 / (51 * 16.288) * ((0.874 - 0.896) * (1.355 - 0.896) + (0.639 - 0.896) * ((0.294 - 0.896) + (0.302 - 0.896) + (0.258 - 0.896)) + (2.778 - 0.896) * ((1.355 - 0.896) + (0.294 - 0.896) + (3.581 - 0.896) + (1.355 - 0.896) + (0.302 - 0.896) + (0.794 - 0.896)) + (0.748 - 0.896) * ((1.355 - 0.896) + (1.355 - 0.896)) + (0.794 - 0.896) * ((0.415 - 0.896) + (0.302 - 0.896) + (0.25 - 0.896) + (0.794 - 0.896)) + (1.355 - 0.896) * (1.355 - 0.896) + (0.415 - 0.896) * ((0.25 - 0.896) + (0.794 - 0.896)) + (0.296 - 0.896) * ((0.552 - 0.896) + (0.619 - 0.896) + (0.552 - 0.896)) + (0.552 - 0.896) * ((0.619 - 0.896) + (0.541 - 0.896) + (0.926 - 0.896) + (0.541 - 0.896) + (0.552 - 0.896)) + (0.294 - 0.896) * ((0.479 - 0.896) + (1.355 - 0.896) + (0.302 - 0.896) + (0.258 - 0.896)) + (0.541 - 0.896) * ((0.541 - 0.896) + (0.541 - 0.896) + (0.541 - 0.896)) + (0.479 - 0.896) * (1.355 - 0.896) + (3.581 - 0.896) * (0.794 - 0.896) + (0.302 - 0.896) * ((0.25 - 0.896) + (0.258 - 0.896) + (0.794 - 0.896)) + (1.971 - 0.896) * ((1.675 - 0.896) + (0.794 - 0.896)) + (0.888 - 0.896) * ((1.675 - 0.896) + (0.794 - 0.896)) + (1.675 - 0.896) * (0.794 - 0.896) + (0.541 - 0.896) * ((0.541 - 0.896) + (0.541 - 0.896)) + (0.541 - 0.896) * (0.541 - 0.896) + (0.25 - 0.896) * ((0.258 - 0.896) + (0.794 - 0.896)) + (0.258 - 0.896) * (0.552 - 0.896)))\n",
    "\n",
    "we find that I = 0.336."
   ]
  },
  {
   "cell_type": "markdown",
   "metadata": {},
   "source": [
    "This is in fact a significant result, since the expected value is only -1 / 28 = -0.036.\n",
    "\n",
    "So we might try building neighbor-relationships into our model. Let's dummy on location_name _again_, this time with the intention of filling in the resulting columns according to _borders_."
   ]
  },
  {
   "cell_type": "code",
   "execution_count": 278,
   "metadata": {},
   "outputs": [],
   "source": [
    "ak2['location_name'] = ak2['location_name'].map(lambda x: x.replace(' ', ''))\n",
    "border_dums = pd.get_dummies(ak2['location_name'])"
   ]
  },
  {
   "cell_type": "code",
   "execution_count": 279,
   "metadata": {},
   "outputs": [],
   "source": [
    "ak2 = pd.concat([ak2, border_dums], axis = 1)"
   ]
  },
  {
   "cell_type": "code",
   "execution_count": 280,
   "metadata": {},
   "outputs": [
    {
     "data": {
      "text/plain": [
       "Index(['location_name', 'year_id', 'mx', 'lower', 'upper', 'Climate',\n",
       "       'Population', 'Per_Cap_Inc_Rank', 'Per capita income',\n",
       "       'Median household income', 'Median family income',\n",
       "       'Number of households', 'Aleutians East Borough',\n",
       "       'Aleutians West Census Area', 'Anchorage Municipality',\n",
       "       'Bethel Census Area', 'Bristol Bay Borough', 'Denali Borough',\n",
       "       'Dillingham Census Area', 'Fairbanks North Star Borough',\n",
       "       'Haines Borough', 'Hoonah-Angoon Census Area',\n",
       "       'Juneau City and Borough', 'Kenai Peninsula Borough',\n",
       "       'Ketchikan Gateway Borough', 'Kodiak Island Borough',\n",
       "       'Kusilvak Census Area', 'Lake and Peninsula Borough',\n",
       "       'Matanuska-Susitna Borough', 'Nome Census Area', 'North Slope Borough',\n",
       "       'Northwest Arctic Borough', 'Petersburg Borough',\n",
       "       'Prince of Wales-Hyder Census Area', 'Sitka City and Borough',\n",
       "       'Skagway Municipality', 'Southeast Fairbanks Census Area',\n",
       "       'Valdez-Cordova Census Area', 'Wrangell City and Borough',\n",
       "       'Yakutat City and Borough', 'Yukon-Koyukuk Census Area',\n",
       "       'Cold semi-arid/Dry-summer subarctic/Subarctic',\n",
       "       'Cold semi-arid/Subarctic', 'Dry-summer subarctic/Subarctic', 'Oceanic',\n",
       "       'Oceanic/Subarctic', 'Subarctic',\n",
       "       'Tundra/Cold semi-arid/Dry-summer subarctic/Subarctic',\n",
       "       'Tundra/Dry-summer subarctic/Subarctic', 'Tundra/Oceanic/Subarctic',\n",
       "       'Tundra/Subarctic', 'Both', 'Female', 'Male', 'AleutiansEastBorough',\n",
       "       'AleutiansWestCensusArea', 'AnchorageMunicipality', 'BethelCensusArea',\n",
       "       'BristolBayBorough', 'DenaliBorough', 'DillinghamCensusArea',\n",
       "       'FairbanksNorthStarBorough', 'HainesBorough', 'Hoonah-AngoonCensusArea',\n",
       "       'JuneauCityandBorough', 'KenaiPeninsulaBorough',\n",
       "       'KetchikanGatewayBorough', 'KodiakIslandBorough', 'KusilvakCensusArea',\n",
       "       'LakeandPeninsulaBorough', 'Matanuska-SusitnaBorough', 'NomeCensusArea',\n",
       "       'NorthSlopeBorough', 'NorthwestArcticBorough', 'PetersburgBorough',\n",
       "       'PrinceofWales-HyderCensusArea', 'SitkaCityandBorough',\n",
       "       'SkagwayMunicipality', 'SoutheastFairbanksCensusArea',\n",
       "       'Valdez-CordovaCensusArea', 'WrangellCityandBorough',\n",
       "       'YakutatCityandBorough', 'Yukon-KoyukukCensusArea'],\n",
       "      dtype='object')"
      ]
     },
     "execution_count": 280,
     "metadata": {},
     "output_type": "execute_result"
    }
   ],
   "source": [
    "ak2.columns"
   ]
  },
  {
   "cell_type": "code",
   "execution_count": 281,
   "metadata": {},
   "outputs": [],
   "source": [
    "def set_borders1(row):\n",
    "    if row['location_name'] == 'LakeandPeninsulaBorough':\n",
    "        return 1\n",
    "    else:\n",
    "        return 0"
   ]
  },
  {
   "cell_type": "code",
   "execution_count": 282,
   "metadata": {},
   "outputs": [],
   "source": [
    "ak2['AleutiansEastBorough'] = ak2.apply(set_borders1, axis = 1)"
   ]
  },
  {
   "cell_type": "code",
   "execution_count": 289,
   "metadata": {},
   "outputs": [],
   "source": [
    "ak2['AleutiansWestCensusArea'] = ak2['AleutiansWestCensusArea'].map(lambda x: 0)"
   ]
  },
  {
   "cell_type": "code",
   "execution_count": 293,
   "metadata": {},
   "outputs": [],
   "source": [
    "def set_borders2(row):\n",
    "    if (row['location_name'] == 'KenaiPeninsulaBorough') | (row['location_name'] == 'Matanuska-SusitnaBorough') | (row['location_name'] == 'Valdez-Cordova'):\n",
    "        return 1\n",
    "    else:\n",
    "        return 0"
   ]
  },
  {
   "cell_type": "code",
   "execution_count": 295,
   "metadata": {},
   "outputs": [],
   "source": [
    "ak2['AnchorageMunicipality'] = ak2.apply(set_borders2, axis = 1)"
   ]
  },
  {
   "cell_type": "code",
   "execution_count": 296,
   "metadata": {},
   "outputs": [],
   "source": [
    "def set_borders3(row):\n",
    "    if (row['location_name'] == 'DillinghamCensusArea') | (row['location_name'] == 'KenaiPeninsulaBorough') | (row['location_name'] == 'KusilvakCensusArea') | (row['location_name'] == 'LakeandPeninsulaBorough') | (row['location_name'] == 'Matanuska-SusitnaBorough') | (row['location_name'] == 'Yukon-KoyukukCensusArea'):\n",
    "        return 1\n",
    "    else:\n",
    "        return 0"
   ]
  },
  {
   "cell_type": "code",
   "execution_count": 297,
   "metadata": {},
   "outputs": [],
   "source": [
    "ak2['BethelCensusArea'] = ak2.apply(set_borders3, axis = 1)"
   ]
  },
  {
   "cell_type": "code",
   "execution_count": 300,
   "metadata": {},
   "outputs": [],
   "source": [
    "def set_borders4(row):\n",
    "    if (row['location_name'] == 'DillinghamCensusArea') | (row['location_name'] == 'LakeandPeninsulaBorough'):\n",
    "        return 1\n",
    "    else:\n",
    "        return 0"
   ]
  },
  {
   "cell_type": "code",
   "execution_count": 301,
   "metadata": {},
   "outputs": [],
   "source": [
    "ak2['BristolBayBorough'] = ak2.apply(set_borders4, axis = 1)"
   ]
  },
  {
   "cell_type": "code",
   "execution_count": 302,
   "metadata": {},
   "outputs": [],
   "source": [
    "def set_borders5(row):\n",
    "    if (row['location_name'] == 'FairbanksNorthStarBorough') | (row['location_name'] == 'Matanuska-SusitnaBorough') | (row['location_name'] == 'SoutheastFairbanksCensusArea') | (row['location_name'] == 'Yukon-KoyukukCensusArea'):\n",
    "        return 1\n",
    "    else:\n",
    "        return 0"
   ]
  },
  {
   "cell_type": "code",
   "execution_count": 303,
   "metadata": {},
   "outputs": [],
   "source": [
    "ak2['DenaliBorough'] = ak2.apply(set_borders5, axis = 1)"
   ]
  },
  {
   "cell_type": "code",
   "execution_count": 304,
   "metadata": {},
   "outputs": [],
   "source": [
    "def set_borders6(row):\n",
    "    if (row['location_name'] == 'BethelCensusArea') | (row['location_name'] == 'BristolBayBorough') | (row['location_name'] == 'LakeandPeninsulaBorough'):\n",
    "        return 1\n",
    "    else:\n",
    "        return 0"
   ]
  },
  {
   "cell_type": "code",
   "execution_count": 305,
   "metadata": {},
   "outputs": [],
   "source": [
    "ak2['DillinghamCensusArea'] = ak2.apply(set_borders6, axis = 1)"
   ]
  },
  {
   "cell_type": "code",
   "execution_count": 306,
   "metadata": {},
   "outputs": [],
   "source": [
    "def set_borders7(row):\n",
    "    if (row['location_name'] == 'DenaliBorough') | (row['location_name'] == 'SoutheastFairbanksCensusArea') | (row['location_name'] == 'Yukon-KoyukukCensusArea'):\n",
    "        return 1\n",
    "    else:\n",
    "        return 0"
   ]
  },
  {
   "cell_type": "code",
   "execution_count": 307,
   "metadata": {},
   "outputs": [],
   "source": [
    "ak2['FairbanksNorthStarBorough'] = ak2.apply(set_borders7, axis = 1)"
   ]
  },
  {
   "cell_type": "code",
   "execution_count": 308,
   "metadata": {},
   "outputs": [],
   "source": [
    "def set_borders8(row):\n",
    "    if (row['location_name'] == 'Hoonah-AngoonCensusArea') | (row['location_name'] == 'JuneauCityandBorough') | (row['location_name'] == 'SkagwayMunicipality'):\n",
    "        return 1\n",
    "    else:\n",
    "        return 0"
   ]
  },
  {
   "cell_type": "code",
   "execution_count": 309,
   "metadata": {},
   "outputs": [],
   "source": [
    "ak2['HainesBorough'] = ak2.apply(set_borders8, axis = 1)"
   ]
  },
  {
   "cell_type": "code",
   "execution_count": 311,
   "metadata": {},
   "outputs": [],
   "source": [
    "def set_borders9(row):\n",
    "    if (row['location_name'] == 'HainesBorough') | (row['location_name'] == 'JuneauCityandBorough') | (row['location_name'] == 'PetersburgBorough') | (row['location_name'] == 'SitkaCityandBorough') | (row['location_name'] == 'WrangellCItyandBorough') | (row['location_name'] == 'YakutatCityandBorough'):\n",
    "        return 1\n",
    "    else:\n",
    "        return 0"
   ]
  },
  {
   "cell_type": "code",
   "execution_count": 312,
   "metadata": {},
   "outputs": [],
   "source": [
    "ak2['Hoonah-AngoonCensusArea'] = ak2.apply(set_borders9, axis = 1)"
   ]
  },
  {
   "cell_type": "code",
   "execution_count": 313,
   "metadata": {},
   "outputs": [],
   "source": [
    "def set_borders10(row):\n",
    "    if (row['location_name'] == 'HainesBorough') | (row['location_name'] == 'Hoonah-AngoonCensusArea'):\n",
    "        return 1\n",
    "    else:\n",
    "        return 0"
   ]
  },
  {
   "cell_type": "code",
   "execution_count": 314,
   "metadata": {},
   "outputs": [],
   "source": [
    "ak2['JuneauCityandBorough'] = ak2.apply(set_borders10, axis = 1)"
   ]
  },
  {
   "cell_type": "code",
   "execution_count": 316,
   "metadata": {},
   "outputs": [],
   "source": [
    "def set_borders11(row):\n",
    "    if (row['location_name'] == 'AnchorageMunicipality') | (row['location_name'] == 'BethelCensusArea') | (row['location_name'] == 'KodiakIslandBorough') | (row['location_name'] == 'LakeandPeninsulaBorough') | (row['location_name'] == 'Matanuska-SusitnaBorough') | (row['location_name'] == 'Valdez-CordovaCensusArea'):\n",
    "        return 1\n",
    "    else:\n",
    "        return 0"
   ]
  },
  {
   "cell_type": "code",
   "execution_count": 317,
   "metadata": {},
   "outputs": [],
   "source": [
    "ak2['KenaiPeninsulaBorough'] = ak2.apply(set_borders11, axis = 1)"
   ]
  },
  {
   "cell_type": "code",
   "execution_count": 318,
   "metadata": {},
   "outputs": [],
   "source": [
    "def set_borders12(row):\n",
    "    if (row['location_name'] == 'PetersburgBorough') | (row['location_name'] == 'PrinceofWales-HyderCensusArea') | (row['location_name'] == 'WrangellCityandBorough'):\n",
    "        return 1\n",
    "    else:\n",
    "        return 0"
   ]
  },
  {
   "cell_type": "code",
   "execution_count": 319,
   "metadata": {},
   "outputs": [],
   "source": [
    "ak2['KetchikanGatewayBorough'] = ak2.apply(set_borders12, axis = 1)"
   ]
  },
  {
   "cell_type": "code",
   "execution_count": 320,
   "metadata": {},
   "outputs": [],
   "source": [
    "def set_borders13(row):\n",
    "    if (row['location_name'] == 'KenaiPeninsulaBorough') | (row['location_name'] == 'LakeandPeninsulaBorough'):\n",
    "        return 1\n",
    "    else:\n",
    "        return 0"
   ]
  },
  {
   "cell_type": "code",
   "execution_count": 321,
   "metadata": {},
   "outputs": [],
   "source": [
    "ak2['KodiakIslandBorough'] = ak2.apply(set_borders13, axis = 1)"
   ]
  },
  {
   "cell_type": "code",
   "execution_count": 322,
   "metadata": {},
   "outputs": [],
   "source": [
    "def set_borders14(row):\n",
    "    if (row['location_name'] == 'BethelCensusArea') | (row['location_name'] == 'NomeCensusArea') | (row['location_name'] == 'Yukon-KoyukukCensusArea'):\n",
    "        return 1\n",
    "    else:\n",
    "        return 0"
   ]
  },
  {
   "cell_type": "code",
   "execution_count": 323,
   "metadata": {},
   "outputs": [],
   "source": [
    "ak2['KusilvakCensusArea'] = ak2.apply(set_borders14, axis = 1)"
   ]
  },
  {
   "cell_type": "code",
   "execution_count": 324,
   "metadata": {},
   "outputs": [],
   "source": [
    "def set_borders15(row):\n",
    "    if (row['location_name'] == 'AleutiansEastBorough') | (row['location_name'] == 'BethelCensusArea') | (row['location_name'] == 'BristolBayBorough') | (row['location_name'] == 'DillinghamCensusArea') | (row['location_name'] == 'KenaiPeninsulaBorough') | (row['location_name'] == 'KodiakIslandBorough'):\n",
    "        return 1\n",
    "    else:\n",
    "        return 0"
   ]
  },
  {
   "cell_type": "code",
   "execution_count": 325,
   "metadata": {},
   "outputs": [],
   "source": [
    "ak2['LakeandPeninsulaBorough'] = ak2.apply(set_borders15, axis = 1)"
   ]
  },
  {
   "cell_type": "code",
   "execution_count": 326,
   "metadata": {},
   "outputs": [],
   "source": [
    "def set_borders16(row):\n",
    "    if (row['location_name'] == 'AnchorageMunicipality') | (row['location_name'] == 'BethelCensusArea') | (row['location_name'] == 'DenaliBorough') | (row['location_name'] == 'KenaiPeninsulaBorough') | (row['location_name'] == 'SoutheastFairbanksCensusArea') | (row['location_name'] == 'Valdez-CordovaCensusArea') | (row['location_name'] == 'Yukon-KoyukukCensusArea'):\n",
    "        return 1\n",
    "    else:\n",
    "        return 0"
   ]
  },
  {
   "cell_type": "code",
   "execution_count": 327,
   "metadata": {},
   "outputs": [],
   "source": [
    "ak2['Matanuska-SusitnaBorough'] = ak2.apply(set_borders16, axis = 1)"
   ]
  },
  {
   "cell_type": "code",
   "execution_count": 328,
   "metadata": {},
   "outputs": [],
   "source": [
    "def set_borders17(row):\n",
    "    if (row['location_name'] == 'KusilvakCensusArea') | (row['location_name'] == 'NorthwestArcticBorough') | (row['location_name'] == 'Yukon-KoyukukCensusArea'):\n",
    "        return 1\n",
    "    else:\n",
    "        return 0"
   ]
  },
  {
   "cell_type": "code",
   "execution_count": 329,
   "metadata": {},
   "outputs": [],
   "source": [
    "ak2['NomeCensusArea'] = ak2.apply(set_borders17, axis = 1)"
   ]
  },
  {
   "cell_type": "code",
   "execution_count": 330,
   "metadata": {},
   "outputs": [],
   "source": [
    "def set_borders18(row):\n",
    "    if (row['location_name'] == 'NorthwestArcticBorough') | (row['location_name'] == 'Yukon-KoyukukCensusArea'):\n",
    "        return 1\n",
    "    else:\n",
    "        return 0"
   ]
  },
  {
   "cell_type": "code",
   "execution_count": 331,
   "metadata": {},
   "outputs": [],
   "source": [
    "ak2['NorthSlopeBorough'] = ak2.apply(set_borders18, axis = 1)"
   ]
  },
  {
   "cell_type": "code",
   "execution_count": 332,
   "metadata": {},
   "outputs": [],
   "source": [
    "def set_borders19(row):\n",
    "    if (row['location_name'] == 'NomeCensusArea') | (row['location_name'] == 'NorthSlopeBorough') | (row['location_name'] == 'Yukon-KoyukukCensusArea'):\n",
    "        return 1\n",
    "    else:\n",
    "        return 0"
   ]
  },
  {
   "cell_type": "code",
   "execution_count": 333,
   "metadata": {},
   "outputs": [],
   "source": [
    "ak2['NorthwestArcticBorough'] = ak2.apply(set_borders19, axis = 1)"
   ]
  },
  {
   "cell_type": "code",
   "execution_count": 334,
   "metadata": {},
   "outputs": [],
   "source": [
    "def set_borders20(row):\n",
    "    if (row['location_name'] == 'Hoonah-AngoonCensusArea') | (row['location_name'] == 'KetchikanGatewayBorough') | (row['location_name'] == 'PrinceofWales-HyderCensusArea') | (row['location_name'] == 'WrangellCityandBorough'):\n",
    "        return 1\n",
    "    else:\n",
    "        return 0"
   ]
  },
  {
   "cell_type": "code",
   "execution_count": 335,
   "metadata": {},
   "outputs": [],
   "source": [
    "ak2['PetersburgBorough'] = ak2.apply(set_borders20, axis = 1)"
   ]
  },
  {
   "cell_type": "code",
   "execution_count": 336,
   "metadata": {},
   "outputs": [],
   "source": [
    "def set_borders21(row):\n",
    "    if (row['location_name'] == 'KetchikanGatewayBorough') | (row['location_name'] == 'PetersburgBorough') | (row['location_name'] == 'WrangellCityandBorough'):\n",
    "        return 1\n",
    "    else:\n",
    "        return 0"
   ]
  },
  {
   "cell_type": "code",
   "execution_count": 337,
   "metadata": {},
   "outputs": [],
   "source": [
    "ak2['PrinceofWales-HyderCensusArea'] = ak2.apply(set_borders21, axis = 1)"
   ]
  },
  {
   "cell_type": "code",
   "execution_count": 338,
   "metadata": {},
   "outputs": [],
   "source": [
    "def set_borders22(row):\n",
    "    if row['location_name'] == 'Hoonah-AngoonCensusArea':\n",
    "        return 1\n",
    "    else:\n",
    "        return 0"
   ]
  },
  {
   "cell_type": "code",
   "execution_count": 339,
   "metadata": {},
   "outputs": [],
   "source": [
    "ak2['SitkaCityandBorough'] = ak2.apply(set_borders22, axis = 1)"
   ]
  },
  {
   "cell_type": "code",
   "execution_count": 340,
   "metadata": {},
   "outputs": [],
   "source": [
    "def set_borders23(row):\n",
    "    if row['location_name'] == 'HainesBorough':\n",
    "        return 1\n",
    "    else:\n",
    "        return 0"
   ]
  },
  {
   "cell_type": "code",
   "execution_count": 341,
   "metadata": {},
   "outputs": [],
   "source": [
    "ak2['SkagwayMunicipality'] = ak2.apply(set_borders23, axis = 1)"
   ]
  },
  {
   "cell_type": "code",
   "execution_count": 342,
   "metadata": {},
   "outputs": [],
   "source": [
    "def set_borders24(row):\n",
    "    if (row['location_name'] == 'DenaliBorough') | (row['location_name'] == 'FairbanksNorthStarBorough') | (row['location_name'] == 'Matanuska-SusitnaBorough') | (row['location_name'] == 'Valdez-CordovaCensusArea') | (row['location_name'] == 'Yukon-KoyukukCensusArea'):\n",
    "        return 1\n",
    "    else:\n",
    "        return 0"
   ]
  },
  {
   "cell_type": "code",
   "execution_count": 343,
   "metadata": {},
   "outputs": [],
   "source": [
    "ak2['SoutheastFairbanksCensusArea'] = ak2.apply(set_borders24, axis = 1)"
   ]
  },
  {
   "cell_type": "code",
   "execution_count": 344,
   "metadata": {},
   "outputs": [],
   "source": [
    "def set_borders25(row):\n",
    "    if (row['location_name'] == 'AnchorageMunicipality') | (row['location_name'] == 'KenaiPeninsulaBorough') | (row['location_name'] == 'Matanuska-SusitnaBorough') | (row['location_name'] == 'SoutheastFairbanksCensusArea') | (row['location_name'] == 'YakutatCityandBorough'):\n",
    "        return 1\n",
    "    else:\n",
    "        return 0"
   ]
  },
  {
   "cell_type": "code",
   "execution_count": 345,
   "metadata": {},
   "outputs": [],
   "source": [
    "ak2['Valdez-CordovaCensusArea'] = ak2.apply(set_borders25, axis = 1)"
   ]
  },
  {
   "cell_type": "code",
   "execution_count": 346,
   "metadata": {},
   "outputs": [],
   "source": [
    "def set_borders26(row):\n",
    "    if (row['location_name'] == 'Hoonah-AngoonCensusArea') | (row['location_name'] == 'KetchikanGatewayBorough') | (row['location_name'] == 'PetersburgBorough') | (row['location_name'] == 'PrinceofWales-HyderCensusArea'):\n",
    "        return 1\n",
    "    else:\n",
    "        return 0"
   ]
  },
  {
   "cell_type": "code",
   "execution_count": 347,
   "metadata": {},
   "outputs": [],
   "source": [
    "ak2['WrangellCityandBorough'] = ak2.apply(set_borders26, axis = 1)"
   ]
  },
  {
   "cell_type": "code",
   "execution_count": 348,
   "metadata": {},
   "outputs": [],
   "source": [
    "def set_borders27(row):\n",
    "    if (row['location_name'] == 'Hoonah-AngoonCensusArea') | (row['location_name'] == 'Valdez-CordovaCensusArea'):\n",
    "        return 1\n",
    "    else:\n",
    "        return 0"
   ]
  },
  {
   "cell_type": "code",
   "execution_count": 349,
   "metadata": {},
   "outputs": [],
   "source": [
    "ak2['YakutatCityandBorough'] = ak2.apply(set_borders27, axis = 1)"
   ]
  },
  {
   "cell_type": "code",
   "execution_count": 351,
   "metadata": {},
   "outputs": [],
   "source": [
    "def set_borders28(row):\n",
    "    if (row['location_name'] == 'BethelCensusArea') | (row['location_name'] == 'DenaliBorough') | (row['location_name'] == 'FairbanksNorthStarBorough') | (row['location_name'] == 'KusilvakCensusArea') | (row['location_name'] == 'Matanuska-SusitnaBorough') | (row['location_name'] == 'NomeCensusArea') | (row['location_name'] == 'NorthSlopeBorough') | (row['location_name'] == 'NorthwestArcticBorough') | (row['location_name'] == 'SoutheastFairbanksCensusArea'):\n",
    "        return 1\n",
    "    else:\n",
    "        return 0"
   ]
  },
  {
   "cell_type": "code",
   "execution_count": 352,
   "metadata": {},
   "outputs": [],
   "source": [
    "ak2['Yukon-KoyukukCensusArea'] = ak2.apply(set_borders28, axis = 1)"
   ]
  },
  {
   "cell_type": "markdown",
   "metadata": {},
   "source": [
    "Let's first try a model with ONLY these new border columns."
   ]
  },
  {
   "cell_type": "code",
   "execution_count": 353,
   "metadata": {},
   "outputs": [],
   "source": [
    "spatial_cols = ['AleutiansEastBorough', 'AleutiansWestCensusArea', 'AnchorageMunicipality',\n",
    "                'BethelCensusArea', 'BristolBayBorough', 'DenaliBorough',\n",
    "                'DillinghamCensusArea', 'FairbanksNorthStarBorough', 'HainesBorough',\n",
    "                'Hoonah-AngoonCensusArea', 'JuneauCityandBorough', 'KenaiPeninsulaBorough',\n",
    "                'KetchikanGatewayBorough', 'KodiakIslandBorough', 'KusilvakCensusArea',\n",
    "                'LakeandPeninsulaBorough', 'Matanuska-SusitnaBorough', 'NomeCensusArea',\n",
    "                'NorthSlopeBorough', 'NorthwestArcticBorough', 'PetersburgBorough',\n",
    "                'PrinceofWales-HyderCensusArea', 'SitkaCityandBorough', 'SkagwayMunicipality',\n",
    "                'SoutheastFairbanksCensusArea', 'Valdez-CordovaCensusArea',\n",
    "                'WrangellCityandBorough', 'YakutatCityandBorough', 'Yukon-KoyukukCensusArea']\n",
    "X3 = ak2[spatial_cols]\n",
    "y3 = ak2['mx']"
   ]
  },
  {
   "cell_type": "code",
   "execution_count": 354,
   "metadata": {},
   "outputs": [],
   "source": [
    "X3_train, X3_test, y3_train, y3_test = train_test_split(X3, y3, random_state = 42)"
   ]
  },
  {
   "cell_type": "code",
   "execution_count": 356,
   "metadata": {},
   "outputs": [],
   "source": [
    "ss = StandardScaler()\n",
    "X3_train_scaled = ss.fit_transform(X3_train)\n",
    "X3_test_scaled = ss.transform(X3_test)"
   ]
  },
  {
   "cell_type": "code",
   "execution_count": 357,
   "metadata": {},
   "outputs": [
    {
     "data": {
      "text/plain": [
       "0.8907618874291245"
      ]
     },
     "execution_count": 357,
     "metadata": {},
     "output_type": "execute_result"
    }
   ],
   "source": [
    "lr = LinearRegression()\n",
    "lr.fit(X3_train_scaled, y3_train)\n",
    "lr.score(X3_test_scaled, y3_test)"
   ]
  },
  {
   "cell_type": "markdown",
   "metadata": {},
   "source": [
    "Not bad! Let's see if we can do even better when we include more columns."
   ]
  },
  {
   "cell_type": "code",
   "execution_count": 358,
   "metadata": {},
   "outputs": [],
   "source": [
    "test_columns = [col for col in ak2.columns if (col not in ['location_name', 'lower', 'upper',\n",
    "                                                          'Per_Cap_Inc_Rank', 'mx',\n",
    "                                                          'Median household income',\n",
    "                                                          'Median family income',\n",
    "                                                          'Number of households', 'Climate'])]\n",
    "X4 = ak2[test_columns]\n",
    "y4 = ak2['mx']"
   ]
  },
  {
   "cell_type": "code",
   "execution_count": 359,
   "metadata": {},
   "outputs": [],
   "source": [
    "X4_train, X4_test, y4_train, y4_test = train_test_split(X4, y4, random_state = 42)"
   ]
  },
  {
   "cell_type": "code",
   "execution_count": 360,
   "metadata": {},
   "outputs": [],
   "source": [
    "ss = StandardScaler()\n",
    "X4_train_scaled = ss.fit_transform(X4_train)\n",
    "X4_test_scaled = ss.transform(X4_test)"
   ]
  },
  {
   "cell_type": "code",
   "execution_count": 361,
   "metadata": {},
   "outputs": [
    {
     "data": {
      "text/plain": [
       "0.9297089318682671"
      ]
     },
     "execution_count": 361,
     "metadata": {},
     "output_type": "execute_result"
    }
   ],
   "source": [
    "lr = LinearRegression()\n",
    "lr.fit(X4_train_scaled, y4_train)\n",
    "lr.score(X4_test_scaled, y4_test)"
   ]
  },
  {
   "cell_type": "markdown",
   "metadata": {},
   "source": [
    "# Floridian HIV / AIDS"
   ]
  },
  {
   "cell_type": "code",
   "execution_count": 81,
   "metadata": {},
   "outputs": [],
   "source": [
    "y = fl['mx']"
   ]
  },
  {
   "cell_type": "code",
   "execution_count": 82,
   "metadata": {},
   "outputs": [
    {
     "data": {
      "text/plain": [
       "Index(['Unnamed: 0', 'location_name', 'sex', 'year_id', 'mx', 'lower', 'upper',\n",
       "       'Climate', 'Rank_x', 'County_x', 'Population', 'Rank_y', 'County_y',\n",
       "       'Per capita income', 'Median household income', 'Median family income',\n",
       "       'Number of households', 'Alachua', 'Baker', 'Bay', 'Bradford',\n",
       "       'Brevard', 'Broward', 'Calhoun', 'Charlotte', 'Citrus', 'Clay',\n",
       "       'Collier', 'Columbia', 'DeSoto', 'Dixie', 'Duval', 'Escambia',\n",
       "       'Flagler', 'Franklin', 'Gadsden', 'Gilchrist', 'Glades', 'Gulf',\n",
       "       'Hamilton', 'Hardee', 'Hendry', 'Hernando', 'Highlands', 'Hillsborough',\n",
       "       'Holmes', 'IndianRiver', 'Jackson', 'Jefferson', 'Lafayette', 'Lake',\n",
       "       'Lee', 'Leon', 'Levy', 'Liberty', 'Madison', 'Manatee', 'Marion',\n",
       "       'Martin', 'Miami-Dade', 'Monroe', 'Nassau', 'Okaloosa', 'Okeechobee',\n",
       "       'Orange', 'Osceola', 'PalmBeach', 'Pasco', 'Pinellas', 'Polk', 'Putnam',\n",
       "       'SantaRosa', 'Sarasota', 'Seminole', 'St.Johns', 'St.Lucie', 'Sumter',\n",
       "       'Suwannee', 'Taylor', 'Union', 'Volusia', 'Wakulla', 'Walton',\n",
       "       'Washington', 'Humid subtropical', 'Monsoon',\n",
       "       'Monsoon/Savanna/Humid subtropical', 'Rainforest/Monsoon/Savanna',\n",
       "       'Savanna'],\n",
       "      dtype='object')"
      ]
     },
     "execution_count": 82,
     "metadata": {},
     "output_type": "execute_result"
    }
   ],
   "source": [
    "fl.columns"
   ]
  },
  {
   "cell_type": "code",
   "execution_count": 85,
   "metadata": {},
   "outputs": [],
   "source": [
    "fl = fl.drop(columns = ['Unnamed: 0', 'County_x', 'County_y'])"
   ]
  },
  {
   "cell_type": "code",
   "execution_count": 86,
   "metadata": {},
   "outputs": [
    {
     "name": "stdout",
     "output_type": "stream",
     "text": [
      "<class 'pandas.core.frame.DataFrame'>\n",
      "RangeIndex: 7035 entries, 0 to 7034\n",
      "Data columns (total 86 columns):\n",
      "location_name                        7035 non-null object\n",
      "sex                                  7035 non-null object\n",
      "year_id                              7035 non-null int64\n",
      "mx                                   7035 non-null float64\n",
      "lower                                7035 non-null float64\n",
      "upper                                7035 non-null float64\n",
      "Climate                              7035 non-null object\n",
      "Rank_x                               7035 non-null int64\n",
      "Population                           7035 non-null object\n",
      "Rank_y                               7035 non-null int64\n",
      "Per capita income                    7035 non-null object\n",
      "Median household income              7035 non-null object\n",
      "Median family income                 7035 non-null object\n",
      "Number of households                 7035 non-null object\n",
      "Alachua                              7035 non-null int64\n",
      "Baker                                7035 non-null int64\n",
      "Bay                                  7035 non-null int64\n",
      "Bradford                             7035 non-null int64\n",
      "Brevard                              7035 non-null int64\n",
      "Broward                              7035 non-null int64\n",
      "Calhoun                              7035 non-null int64\n",
      "Charlotte                            7035 non-null int64\n",
      "Citrus                               7035 non-null int64\n",
      "Clay                                 7035 non-null int64\n",
      "Collier                              7035 non-null int64\n",
      "Columbia                             7035 non-null int64\n",
      "DeSoto                               7035 non-null int64\n",
      "Dixie                                7035 non-null int64\n",
      "Duval                                7035 non-null int64\n",
      "Escambia                             7035 non-null int64\n",
      "Flagler                              7035 non-null int64\n",
      "Franklin                             7035 non-null int64\n",
      "Gadsden                              7035 non-null int64\n",
      "Gilchrist                            7035 non-null int64\n",
      "Glades                               7035 non-null int64\n",
      "Gulf                                 7035 non-null int64\n",
      "Hamilton                             7035 non-null int64\n",
      "Hardee                               7035 non-null int64\n",
      "Hendry                               7035 non-null int64\n",
      "Hernando                             7035 non-null int64\n",
      "Highlands                            7035 non-null int64\n",
      "Hillsborough                         7035 non-null int64\n",
      "Holmes                               7035 non-null int64\n",
      "IndianRiver                          7035 non-null int64\n",
      "Jackson                              7035 non-null int64\n",
      "Jefferson                            7035 non-null int64\n",
      "Lafayette                            7035 non-null int64\n",
      "Lake                                 7035 non-null int64\n",
      "Lee                                  7035 non-null int64\n",
      "Leon                                 7035 non-null int64\n",
      "Levy                                 7035 non-null int64\n",
      "Liberty                              7035 non-null int64\n",
      "Madison                              7035 non-null int64\n",
      "Manatee                              7035 non-null int64\n",
      "Marion                               7035 non-null int64\n",
      "Martin                               7035 non-null int64\n",
      "Miami-Dade                           7035 non-null int64\n",
      "Monroe                               7035 non-null int64\n",
      "Nassau                               7035 non-null int64\n",
      "Okaloosa                             7035 non-null int64\n",
      "Okeechobee                           7035 non-null int64\n",
      "Orange                               7035 non-null int64\n",
      "Osceola                              7035 non-null int64\n",
      "PalmBeach                            7035 non-null int64\n",
      "Pasco                                7035 non-null int64\n",
      "Pinellas                             7035 non-null int64\n",
      "Polk                                 7035 non-null int64\n",
      "Putnam                               7035 non-null int64\n",
      "SantaRosa                            7035 non-null int64\n",
      "Sarasota                             7035 non-null int64\n",
      "Seminole                             7035 non-null int64\n",
      "St.Johns                             7035 non-null int64\n",
      "St.Lucie                             7035 non-null int64\n",
      "Sumter                               7035 non-null int64\n",
      "Suwannee                             7035 non-null int64\n",
      "Taylor                               7035 non-null int64\n",
      "Union                                7035 non-null int64\n",
      "Volusia                              7035 non-null int64\n",
      "Wakulla                              7035 non-null int64\n",
      "Walton                               7035 non-null int64\n",
      "Washington                           7035 non-null int64\n",
      "Humid subtropical                    7035 non-null int64\n",
      "Monsoon                              7035 non-null int64\n",
      "Monsoon/Savanna/Humid subtropical    7035 non-null int64\n",
      "Rainforest/Monsoon/Savanna           7035 non-null int64\n",
      "Savanna                              7035 non-null int64\n",
      "dtypes: float64(3), int64(75), object(8)\n",
      "memory usage: 4.6+ MB\n"
     ]
    }
   ],
   "source": [
    "fl.info()"
   ]
  },
  {
   "cell_type": "code",
   "execution_count": 87,
   "metadata": {},
   "outputs": [
    {
     "data": {
      "text/html": [
       "<div>\n",
       "<style scoped>\n",
       "    .dataframe tbody tr th:only-of-type {\n",
       "        vertical-align: middle;\n",
       "    }\n",
       "\n",
       "    .dataframe tbody tr th {\n",
       "        vertical-align: top;\n",
       "    }\n",
       "\n",
       "    .dataframe thead th {\n",
       "        text-align: right;\n",
       "    }\n",
       "</style>\n",
       "<table border=\"1\" class=\"dataframe\">\n",
       "  <thead>\n",
       "    <tr style=\"text-align: right;\">\n",
       "      <th></th>\n",
       "      <th>location_name</th>\n",
       "      <th>sex</th>\n",
       "      <th>year_id</th>\n",
       "      <th>mx</th>\n",
       "      <th>lower</th>\n",
       "      <th>upper</th>\n",
       "      <th>Climate</th>\n",
       "      <th>Rank_x</th>\n",
       "      <th>Population</th>\n",
       "      <th>Rank_y</th>\n",
       "      <th>...</th>\n",
       "      <th>Union</th>\n",
       "      <th>Volusia</th>\n",
       "      <th>Wakulla</th>\n",
       "      <th>Walton</th>\n",
       "      <th>Washington</th>\n",
       "      <th>Humid subtropical</th>\n",
       "      <th>Monsoon</th>\n",
       "      <th>Monsoon/Savanna/Humid subtropical</th>\n",
       "      <th>Rainforest/Monsoon/Savanna</th>\n",
       "      <th>Savanna</th>\n",
       "    </tr>\n",
       "  </thead>\n",
       "  <tbody>\n",
       "    <tr>\n",
       "      <th>0</th>\n",
       "      <td>Alachua</td>\n",
       "      <td>Male</td>\n",
       "      <td>1980</td>\n",
       "      <td>0.000000</td>\n",
       "      <td>0.000000</td>\n",
       "      <td>0.000000</td>\n",
       "      <td>Humid subtropical</td>\n",
       "      <td>23</td>\n",
       "      <td>266,944</td>\n",
       "      <td>28</td>\n",
       "      <td>...</td>\n",
       "      <td>0</td>\n",
       "      <td>0</td>\n",
       "      <td>0</td>\n",
       "      <td>0</td>\n",
       "      <td>0</td>\n",
       "      <td>1</td>\n",
       "      <td>0</td>\n",
       "      <td>0</td>\n",
       "      <td>0</td>\n",
       "      <td>0</td>\n",
       "    </tr>\n",
       "    <tr>\n",
       "      <th>1</th>\n",
       "      <td>Alachua</td>\n",
       "      <td>Male</td>\n",
       "      <td>1981</td>\n",
       "      <td>0.138703</td>\n",
       "      <td>0.100918</td>\n",
       "      <td>0.187205</td>\n",
       "      <td>Humid subtropical</td>\n",
       "      <td>23</td>\n",
       "      <td>266,944</td>\n",
       "      <td>28</td>\n",
       "      <td>...</td>\n",
       "      <td>0</td>\n",
       "      <td>0</td>\n",
       "      <td>0</td>\n",
       "      <td>0</td>\n",
       "      <td>0</td>\n",
       "      <td>1</td>\n",
       "      <td>0</td>\n",
       "      <td>0</td>\n",
       "      <td>0</td>\n",
       "      <td>0</td>\n",
       "    </tr>\n",
       "    <tr>\n",
       "      <th>2</th>\n",
       "      <td>Alachua</td>\n",
       "      <td>Male</td>\n",
       "      <td>1982</td>\n",
       "      <td>0.232760</td>\n",
       "      <td>0.175992</td>\n",
       "      <td>0.304735</td>\n",
       "      <td>Humid subtropical</td>\n",
       "      <td>23</td>\n",
       "      <td>266,944</td>\n",
       "      <td>28</td>\n",
       "      <td>...</td>\n",
       "      <td>0</td>\n",
       "      <td>0</td>\n",
       "      <td>0</td>\n",
       "      <td>0</td>\n",
       "      <td>0</td>\n",
       "      <td>1</td>\n",
       "      <td>0</td>\n",
       "      <td>0</td>\n",
       "      <td>0</td>\n",
       "      <td>0</td>\n",
       "    </tr>\n",
       "    <tr>\n",
       "      <th>3</th>\n",
       "      <td>Alachua</td>\n",
       "      <td>Male</td>\n",
       "      <td>1983</td>\n",
       "      <td>0.604388</td>\n",
       "      <td>0.476343</td>\n",
       "      <td>0.756813</td>\n",
       "      <td>Humid subtropical</td>\n",
       "      <td>23</td>\n",
       "      <td>266,944</td>\n",
       "      <td>28</td>\n",
       "      <td>...</td>\n",
       "      <td>0</td>\n",
       "      <td>0</td>\n",
       "      <td>0</td>\n",
       "      <td>0</td>\n",
       "      <td>0</td>\n",
       "      <td>1</td>\n",
       "      <td>0</td>\n",
       "      <td>0</td>\n",
       "      <td>0</td>\n",
       "      <td>0</td>\n",
       "    </tr>\n",
       "    <tr>\n",
       "      <th>4</th>\n",
       "      <td>Alachua</td>\n",
       "      <td>Male</td>\n",
       "      <td>1984</td>\n",
       "      <td>1.332036</td>\n",
       "      <td>1.097646</td>\n",
       "      <td>1.597479</td>\n",
       "      <td>Humid subtropical</td>\n",
       "      <td>23</td>\n",
       "      <td>266,944</td>\n",
       "      <td>28</td>\n",
       "      <td>...</td>\n",
       "      <td>0</td>\n",
       "      <td>0</td>\n",
       "      <td>0</td>\n",
       "      <td>0</td>\n",
       "      <td>0</td>\n",
       "      <td>1</td>\n",
       "      <td>0</td>\n",
       "      <td>0</td>\n",
       "      <td>0</td>\n",
       "      <td>0</td>\n",
       "    </tr>\n",
       "  </tbody>\n",
       "</table>\n",
       "<p>5 rows × 86 columns</p>\n",
       "</div>"
      ],
      "text/plain": [
       "  location_name   sex  year_id        mx     lower     upper  \\\n",
       "0       Alachua  Male     1980  0.000000  0.000000  0.000000   \n",
       "1       Alachua  Male     1981  0.138703  0.100918  0.187205   \n",
       "2       Alachua  Male     1982  0.232760  0.175992  0.304735   \n",
       "3       Alachua  Male     1983  0.604388  0.476343  0.756813   \n",
       "4       Alachua  Male     1984  1.332036  1.097646  1.597479   \n",
       "\n",
       "             Climate  Rank_x Population  Rank_y   ...    Union Volusia  \\\n",
       "0  Humid subtropical      23    266,944      28   ...        0       0   \n",
       "1  Humid subtropical      23    266,944      28   ...        0       0   \n",
       "2  Humid subtropical      23    266,944      28   ...        0       0   \n",
       "3  Humid subtropical      23    266,944      28   ...        0       0   \n",
       "4  Humid subtropical      23    266,944      28   ...        0       0   \n",
       "\n",
       "  Wakulla Walton  Washington  Humid subtropical  Monsoon  \\\n",
       "0       0      0           0                  1        0   \n",
       "1       0      0           0                  1        0   \n",
       "2       0      0           0                  1        0   \n",
       "3       0      0           0                  1        0   \n",
       "4       0      0           0                  1        0   \n",
       "\n",
       "   Monsoon/Savanna/Humid subtropical  Rainforest/Monsoon/Savanna  Savanna  \n",
       "0                                  0                           0        0  \n",
       "1                                  0                           0        0  \n",
       "2                                  0                           0        0  \n",
       "3                                  0                           0        0  \n",
       "4                                  0                           0        0  \n",
       "\n",
       "[5 rows x 86 columns]"
      ]
     },
     "execution_count": 87,
     "metadata": {},
     "output_type": "execute_result"
    }
   ],
   "source": [
    "fl.head()"
   ]
  },
  {
   "cell_type": "code",
   "execution_count": 88,
   "metadata": {},
   "outputs": [],
   "source": [
    "fl = fl.rename({'Rank_x': 'Pop_Rank', 'Rank_y': 'Per_Cap_Inc_Rank'}, axis = 1)"
   ]
  },
  {
   "cell_type": "code",
   "execution_count": 89,
   "metadata": {},
   "outputs": [],
   "source": [
    "fl['Per capita income'] = fl['Per capita income'].map(lambda x: int(x.replace('$', '').replace(',', '')))\n",
    "\n",
    "fl['Median household income'] = fl['Median household income'].map(lambda x: int(x.replace('$', '').replace(',', '')))\n",
    "\n",
    "fl['Median family income'] = fl['Median family income'].map(lambda x: int(x.replace('$', '').replace(',', '')))\n",
    "\n",
    "fl['Number of households'] = fl['Number of households'].map(lambda x: int(x.replace(',', '')))"
   ]
  },
  {
   "cell_type": "code",
   "execution_count": 90,
   "metadata": {},
   "outputs": [],
   "source": [
    "sex_dums = pd.get_dummies(fl['sex'])\n",
    "fl = pd.concat([fl, sex_dums], axis = 1)\n",
    "\n",
    "fl = fl.drop(columns = ['sex'])"
   ]
  },
  {
   "cell_type": "code",
   "execution_count": 91,
   "metadata": {},
   "outputs": [
    {
     "name": "stdout",
     "output_type": "stream",
     "text": [
      "<class 'pandas.core.frame.DataFrame'>\n",
      "RangeIndex: 7035 entries, 0 to 7034\n",
      "Data columns (total 88 columns):\n",
      "location_name                        7035 non-null object\n",
      "year_id                              7035 non-null int64\n",
      "mx                                   7035 non-null float64\n",
      "lower                                7035 non-null float64\n",
      "upper                                7035 non-null float64\n",
      "Climate                              7035 non-null object\n",
      "Pop_Rank                             7035 non-null int64\n",
      "Population                           7035 non-null object\n",
      "Per_Cap_Inc_Rank                     7035 non-null int64\n",
      "Per capita income                    7035 non-null int64\n",
      "Median household income              7035 non-null int64\n",
      "Median family income                 7035 non-null int64\n",
      "Number of households                 7035 non-null int64\n",
      "Alachua                              7035 non-null int64\n",
      "Baker                                7035 non-null int64\n",
      "Bay                                  7035 non-null int64\n",
      "Bradford                             7035 non-null int64\n",
      "Brevard                              7035 non-null int64\n",
      "Broward                              7035 non-null int64\n",
      "Calhoun                              7035 non-null int64\n",
      "Charlotte                            7035 non-null int64\n",
      "Citrus                               7035 non-null int64\n",
      "Clay                                 7035 non-null int64\n",
      "Collier                              7035 non-null int64\n",
      "Columbia                             7035 non-null int64\n",
      "DeSoto                               7035 non-null int64\n",
      "Dixie                                7035 non-null int64\n",
      "Duval                                7035 non-null int64\n",
      "Escambia                             7035 non-null int64\n",
      "Flagler                              7035 non-null int64\n",
      "Franklin                             7035 non-null int64\n",
      "Gadsden                              7035 non-null int64\n",
      "Gilchrist                            7035 non-null int64\n",
      "Glades                               7035 non-null int64\n",
      "Gulf                                 7035 non-null int64\n",
      "Hamilton                             7035 non-null int64\n",
      "Hardee                               7035 non-null int64\n",
      "Hendry                               7035 non-null int64\n",
      "Hernando                             7035 non-null int64\n",
      "Highlands                            7035 non-null int64\n",
      "Hillsborough                         7035 non-null int64\n",
      "Holmes                               7035 non-null int64\n",
      "IndianRiver                          7035 non-null int64\n",
      "Jackson                              7035 non-null int64\n",
      "Jefferson                            7035 non-null int64\n",
      "Lafayette                            7035 non-null int64\n",
      "Lake                                 7035 non-null int64\n",
      "Lee                                  7035 non-null int64\n",
      "Leon                                 7035 non-null int64\n",
      "Levy                                 7035 non-null int64\n",
      "Liberty                              7035 non-null int64\n",
      "Madison                              7035 non-null int64\n",
      "Manatee                              7035 non-null int64\n",
      "Marion                               7035 non-null int64\n",
      "Martin                               7035 non-null int64\n",
      "Miami-Dade                           7035 non-null int64\n",
      "Monroe                               7035 non-null int64\n",
      "Nassau                               7035 non-null int64\n",
      "Okaloosa                             7035 non-null int64\n",
      "Okeechobee                           7035 non-null int64\n",
      "Orange                               7035 non-null int64\n",
      "Osceola                              7035 non-null int64\n",
      "PalmBeach                            7035 non-null int64\n",
      "Pasco                                7035 non-null int64\n",
      "Pinellas                             7035 non-null int64\n",
      "Polk                                 7035 non-null int64\n",
      "Putnam                               7035 non-null int64\n",
      "SantaRosa                            7035 non-null int64\n",
      "Sarasota                             7035 non-null int64\n",
      "Seminole                             7035 non-null int64\n",
      "St.Johns                             7035 non-null int64\n",
      "St.Lucie                             7035 non-null int64\n",
      "Sumter                               7035 non-null int64\n",
      "Suwannee                             7035 non-null int64\n",
      "Taylor                               7035 non-null int64\n",
      "Union                                7035 non-null int64\n",
      "Volusia                              7035 non-null int64\n",
      "Wakulla                              7035 non-null int64\n",
      "Walton                               7035 non-null int64\n",
      "Washington                           7035 non-null int64\n",
      "Humid subtropical                    7035 non-null int64\n",
      "Monsoon                              7035 non-null int64\n",
      "Monsoon/Savanna/Humid subtropical    7035 non-null int64\n",
      "Rainforest/Monsoon/Savanna           7035 non-null int64\n",
      "Savanna                              7035 non-null int64\n",
      "Both                                 7035 non-null uint8\n",
      "Female                               7035 non-null uint8\n",
      "Male                                 7035 non-null uint8\n",
      "dtypes: float64(3), int64(79), object(3), uint8(3)\n",
      "memory usage: 4.6+ MB\n"
     ]
    }
   ],
   "source": [
    "fl.info()"
   ]
  },
  {
   "cell_type": "code",
   "execution_count": 93,
   "metadata": {},
   "outputs": [],
   "source": [
    "fl['Population'] = fl['Population'].map(lambda x: int(x.replace(',', '')))"
   ]
  },
  {
   "cell_type": "code",
   "execution_count": 95,
   "metadata": {},
   "outputs": [],
   "source": [
    "indices = fl.loc[fl['year_id'] < 2006].index\n",
    "fl2 = fl.drop(indices)"
   ]
  },
  {
   "cell_type": "code",
   "execution_count": 97,
   "metadata": {},
   "outputs": [],
   "source": [
    "test_columns = [col for col in fl2.columns if (col not in ['location_name', 'lower', 'upper',\n",
    "                                                           'mx', 'Climate'])]\n",
    "X = fl2[test_columns]\n",
    "y = fl2['mx']"
   ]
  },
  {
   "cell_type": "code",
   "execution_count": 99,
   "metadata": {},
   "outputs": [],
   "source": [
    "X_train, X_test, y_train, y_test = train_test_split(X, y, random_state = 42)\n",
    "\n",
    "rf = RandomForestRegressor().fit(X_train, y_train)\n",
    "\n",
    "rf.score(X_test, y_test)"
   ]
  },
  {
   "cell_type": "code",
   "execution_count": 103,
   "metadata": {},
   "outputs": [
    {
     "data": {
      "text/plain": [
       "mx                      1.000000\n",
       "upper                   0.999059\n",
       "lower                   0.998980\n",
       "Union                   0.564942\n",
       "Male                    0.222875\n",
       "Population              0.152050\n",
       "Number of households    0.148893\n",
       "Miami-Dade              0.121470\n",
       "Monsoon                 0.121470\n",
       "Broward                 0.088835\n",
       "Name: mx, dtype: float64"
      ]
     },
     "execution_count": 103,
     "metadata": {},
     "output_type": "execute_result"
    }
   ],
   "source": [
    "fl.corr()['mx'].nlargest(10)"
   ]
  },
  {
   "cell_type": "code",
   "execution_count": 104,
   "metadata": {},
   "outputs": [
    {
     "data": {
      "text/plain": [
       "Female              -0.233465\n",
       "Humid subtropical   -0.143922\n",
       "Per capita income   -0.047419\n",
       "Okaloosa            -0.043219\n",
       "Clay                -0.040231\n",
       "Calhoun             -0.039840\n",
       "SantaRosa           -0.039511\n",
       "Walton              -0.038903\n",
       "Gulf                -0.038434\n",
       "Liberty             -0.038200\n",
       "Name: mx, dtype: float64"
      ]
     },
     "execution_count": 104,
     "metadata": {},
     "output_type": "execute_result"
    }
   ],
   "source": [
    "fl.corr()['mx'].nsmallest(10)"
   ]
  },
  {
   "cell_type": "markdown",
   "metadata": {},
   "source": [
    "The most significant fact here is that HIV/AIDS mortality is significantly positively correlated with Union County. Let's explore Union County."
   ]
  },
  {
   "cell_type": "code",
   "execution_count": 115,
   "metadata": {},
   "outputs": [
    {
     "data": {
      "text/html": [
       "<div>\n",
       "<style scoped>\n",
       "    .dataframe tbody tr th:only-of-type {\n",
       "        vertical-align: middle;\n",
       "    }\n",
       "\n",
       "    .dataframe tbody tr th {\n",
       "        vertical-align: top;\n",
       "    }\n",
       "\n",
       "    .dataframe thead th {\n",
       "        text-align: right;\n",
       "    }\n",
       "</style>\n",
       "<table border=\"1\" class=\"dataframe\">\n",
       "  <thead>\n",
       "    <tr style=\"text-align: right;\">\n",
       "      <th></th>\n",
       "      <th>Pop_Rank</th>\n",
       "      <th>Male</th>\n",
       "      <th>Female</th>\n",
       "      <th>mx</th>\n",
       "    </tr>\n",
       "  </thead>\n",
       "  <tbody>\n",
       "    <tr>\n",
       "      <th>6544</th>\n",
       "      <td>60</td>\n",
       "      <td>1</td>\n",
       "      <td>0</td>\n",
       "      <td>93.332130</td>\n",
       "    </tr>\n",
       "    <tr>\n",
       "      <th>6579</th>\n",
       "      <td>60</td>\n",
       "      <td>0</td>\n",
       "      <td>1</td>\n",
       "      <td>3.689365</td>\n",
       "    </tr>\n",
       "    <tr>\n",
       "      <th>6614</th>\n",
       "      <td>60</td>\n",
       "      <td>0</td>\n",
       "      <td>0</td>\n",
       "      <td>64.871216</td>\n",
       "    </tr>\n",
       "  </tbody>\n",
       "</table>\n",
       "</div>"
      ],
      "text/plain": [
       "      Pop_Rank  Male  Female         mx\n",
       "6544        60     1       0  93.332130\n",
       "6579        60     0       1   3.689365\n",
       "6614        60     0       0  64.871216"
      ]
     },
     "execution_count": 115,
     "metadata": {},
     "output_type": "execute_result"
    }
   ],
   "source": [
    "fl.loc[(fl['Union'] == 1) & (fl['year_id'] == 2014), ['Pop_Rank', 'Male', 'Female', 'mx']]"
   ]
  },
  {
   "cell_type": "markdown",
   "metadata": {},
   "source": [
    "Part of the reason these numbers are so high (nearly 1 in 1000 men!) is that, as this website (https://wtfflorida.com/news/the-state/union-county-leads-country-aids-melanoma-deaths/) points out, there is a big prison hospital in Union County. Also, Union County has a very small population otherwise.\n",
    "\n",
    "But this website (http://www.jacksonville.com/opinion/editorials/2016-02-25/story/florida-must-do-more-address-soaring-rates-hiv-infections) assures us that, _in general_, the numbers for HIV are still unusually high in Florida as a whole. The article points out that rates are particularly high in the African-American population, while calling out Duval County (where Jacksonville) in particular."
   ]
  },
  {
   "cell_type": "code",
   "execution_count": 114,
   "metadata": {},
   "outputs": [
    {
     "data": {
      "text/html": [
       "<div>\n",
       "<style scoped>\n",
       "    .dataframe tbody tr th:only-of-type {\n",
       "        vertical-align: middle;\n",
       "    }\n",
       "\n",
       "    .dataframe tbody tr th {\n",
       "        vertical-align: top;\n",
       "    }\n",
       "\n",
       "    .dataframe thead th {\n",
       "        text-align: right;\n",
       "    }\n",
       "</style>\n",
       "<table border=\"1\" class=\"dataframe\">\n",
       "  <thead>\n",
       "    <tr style=\"text-align: right;\">\n",
       "      <th></th>\n",
       "      <th>Pop_Rank</th>\n",
       "      <th>Male</th>\n",
       "      <th>Female</th>\n",
       "      <th>mx</th>\n",
       "    </tr>\n",
       "  </thead>\n",
       "  <tbody>\n",
       "    <tr>\n",
       "      <th>1504</th>\n",
       "      <td>7</td>\n",
       "      <td>1</td>\n",
       "      <td>0</td>\n",
       "      <td>9.326152</td>\n",
       "    </tr>\n",
       "    <tr>\n",
       "      <th>1539</th>\n",
       "      <td>7</td>\n",
       "      <td>0</td>\n",
       "      <td>1</td>\n",
       "      <td>4.841579</td>\n",
       "    </tr>\n",
       "    <tr>\n",
       "      <th>1574</th>\n",
       "      <td>7</td>\n",
       "      <td>0</td>\n",
       "      <td>0</td>\n",
       "      <td>6.952642</td>\n",
       "    </tr>\n",
       "  </tbody>\n",
       "</table>\n",
       "</div>"
      ],
      "text/plain": [
       "      Pop_Rank  Male  Female        mx\n",
       "1504         7     1       0  9.326152\n",
       "1539         7     0       1  4.841579\n",
       "1574         7     0       0  6.952642"
      ]
     },
     "execution_count": 114,
     "metadata": {},
     "output_type": "execute_result"
    }
   ],
   "source": [
    "fl.loc[(fl['Duval'] == 1) & (fl['year_id'] == 2014), ['Pop_Rank', 'Male', 'Female', 'mx']]"
   ]
  },
  {
   "cell_type": "markdown",
   "metadata": {},
   "source": [
    "One in 10000 men is still high, especially for such a populous county, and Duval doesn't have the prison hospital excuse."
   ]
  },
  {
   "cell_type": "markdown",
   "metadata": {},
   "source": [
    "## Neural Network"
   ]
  },
  {
   "cell_type": "code",
   "execution_count": 116,
   "metadata": {},
   "outputs": [],
   "source": [
    "ss = StandardScaler()\n",
    "X_scaled = ss.fit_transform(X_train)\n",
    "X_test = ss.transform(X_test)"
   ]
  },
  {
   "cell_type": "code",
   "execution_count": 137,
   "metadata": {},
   "outputs": [],
   "source": [
    "model = Sequential()\n",
    "model.add(Dense(40, activation = 'relu', input_dim = X_train.shape[1]))\n",
    "model.add(Dense(20, activation = 'relu'))\n",
    "model.add(Dense(10, activation = 'relu'))\n",
    "model.add(Dense(5, activation = 'relu'))\n",
    "model.add(Dense(1)) # default: activation = None"
   ]
  },
  {
   "cell_type": "code",
   "execution_count": 138,
   "metadata": {},
   "outputs": [],
   "source": [
    "model.compile(loss = 'mean_squared_error', optimizer = 'adam')"
   ]
  },
  {
   "cell_type": "code",
   "execution_count": 139,
   "metadata": {},
   "outputs": [
    {
     "name": "stdout",
     "output_type": "stream",
     "text": [
      "Train on 1356 samples, validate on 453 samples\n",
      "Epoch 1/30\n",
      "1356/1356 [==============================] - 1s 438us/step - loss: 27089.1140 - val_loss: 65.6974\n",
      "Epoch 2/30\n",
      "1356/1356 [==============================] - 0s 120us/step - loss: 101.5098 - val_loss: 65.6650\n",
      "Epoch 3/30\n",
      "1356/1356 [==============================] - 0s 136us/step - loss: 99.8205 - val_loss: 65.6058\n",
      "Epoch 4/30\n",
      "1356/1356 [==============================] - 0s 128us/step - loss: 99.8158 - val_loss: 65.5225\n",
      "Epoch 5/30\n",
      "1356/1356 [==============================] - 0s 125us/step - loss: 99.8654 - val_loss: 65.4312\n",
      "Epoch 6/30\n",
      "1356/1356 [==============================] - 0s 144us/step - loss: 99.9964 - val_loss: 65.3268\n",
      "Epoch 7/30\n",
      "1356/1356 [==============================] - 0s 136us/step - loss: 99.6696 - val_loss: 65.2123\n",
      "Epoch 8/30\n",
      "1356/1356 [==============================] - 0s 128us/step - loss: 99.8144 - val_loss: 65.0851\n",
      "Epoch 9/30\n",
      "1356/1356 [==============================] - 0s 127us/step - loss: 99.6330 - val_loss: 64.9510\n",
      "Epoch 10/30\n",
      "1356/1356 [==============================] - 0s 126us/step - loss: 99.4326 - val_loss: 64.8065\n",
      "Epoch 11/30\n",
      "1356/1356 [==============================] - 0s 136us/step - loss: 99.4674 - val_loss: 64.6510\n",
      "Epoch 12/30\n",
      "1356/1356 [==============================] - 0s 124us/step - loss: 99.3815 - val_loss: 64.4888\n",
      "Epoch 13/30\n",
      "1356/1356 [==============================] - 0s 133us/step - loss: 101.5570 - val_loss: 64.3130\n",
      "Epoch 14/30\n",
      "1356/1356 [==============================] - 0s 157us/step - loss: 99.7144 - val_loss: 64.1422\n",
      "Epoch 15/30\n",
      "1356/1356 [==============================] - 0s 188us/step - loss: 99.9283 - val_loss: 63.9482\n",
      "Epoch 16/30\n",
      "1356/1356 [==============================] - 0s 154us/step - loss: 99.7776 - val_loss: 63.7577\n",
      "Epoch 17/30\n",
      "1356/1356 [==============================] - 0s 164us/step - loss: 99.0338 - val_loss: 63.5512\n",
      "Epoch 18/30\n",
      "1356/1356 [==============================] - 0s 153us/step - loss: 98.5506 - val_loss: 63.3484\n",
      "Epoch 19/30\n",
      "1356/1356 [==============================] - 0s 125us/step - loss: 98.6328 - val_loss: 63.1288\n",
      "Epoch 20/30\n",
      "1356/1356 [==============================] - 0s 138us/step - loss: 99.4847 - val_loss: 62.9020\n",
      "Epoch 21/30\n",
      "1356/1356 [==============================] - 0s 148us/step - loss: 98.8186 - val_loss: 62.6695\n",
      "Epoch 22/30\n",
      "1356/1356 [==============================] - 0s 160us/step - loss: 99.3487 - val_loss: 62.4392\n",
      "Epoch 23/30\n",
      "1356/1356 [==============================] - 0s 172us/step - loss: 98.8549 - val_loss: 62.2058\n",
      "Epoch 24/30\n",
      "1356/1356 [==============================] - 0s 168us/step - loss: 98.3045 - val_loss: 61.9583\n",
      "Epoch 25/30\n",
      "1356/1356 [==============================] - 0s 159us/step - loss: 102.2139 - val_loss: 61.7112\n",
      "Epoch 26/30\n",
      "1356/1356 [==============================] - 0s 144us/step - loss: 102.7280 - val_loss: 61.4468\n",
      "Epoch 27/30\n",
      "1356/1356 [==============================] - 0s 169us/step - loss: 102.7662 - val_loss: 61.1945\n",
      "Epoch 28/30\n",
      "1356/1356 [==============================] - 0s 153us/step - loss: 97.3719 - val_loss: 60.9228\n",
      "Epoch 29/30\n",
      "1356/1356 [==============================] - 0s 162us/step - loss: 107.0586 - val_loss: 60.6518\n",
      "Epoch 30/30\n",
      "1356/1356 [==============================] - 0s 155us/step - loss: 97.7603 - val_loss: 60.3836\n"
     ]
    }
   ],
   "source": [
    "history = model.fit(X_train, y_train, validation_data = (X_test, y_test), epochs = 30, batch_size = 16)"
   ]
  },
  {
   "cell_type": "code",
   "execution_count": 140,
   "metadata": {},
   "outputs": [
    {
     "data": {
      "text/plain": [
       "<matplotlib.legend.Legend at 0x1a29ed1c88>"
      ]
     },
     "execution_count": 140,
     "metadata": {},
     "output_type": "execute_result"
    },
    {
     "data": {
      "image/png": "[encoded data removed]",
      "text/plain": [
       "<matplotlib.figure.Figure at 0x1a29ea19b0>"
      ]
     },
     "metadata": {},
     "output_type": "display_data"
    }
   ],
   "source": [
    "plt.plot(history.history['loss'], label = 'Training Loss')\n",
    "plt.plot(history.history['val_loss'], label = 'Test Loss')\n",
    "plt.legend()"
   ]
  },
  {
   "cell_type": "code",
   "execution_count": null,
   "metadata": {},
   "outputs": [],
   "source": []
  }
 ],
 "metadata": {
  "kernelspec": {
   "display_name": "Python [default]",
   "language": "python",
   "name": "python3"
  },
  "language_info": {
   "codemirror_mode": {
    "name": "ipython",
    "version": 3
   },
   "file_extension": ".py",
   "mimetype": "text/x-python",
   "name": "python",
   "nbconvert_exporter": "python",
   "pygments_lexer": "ipython3",
   "version": "3.6.4"
  }
 },
 "nbformat": 4,
 "nbformat_minor": 2
}
