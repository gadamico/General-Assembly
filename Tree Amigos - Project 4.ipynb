{
 "cells": [
  {
   "cell_type": "code",
   "execution_count": 186,
   "metadata": {},
   "outputs": [],
   "source": [
    "import pandas as pd\n",
    "import numpy as np\n",
    "\n",
    "# Let's read in the datasets.\n",
    "\n",
    "sample = pd.read_csv('Inputs/sampleSubmission.csv')\n",
    "spray = pd.read_csv('Inputs/spray.csv')\n",
    "weather = pd.read_csv('Inputs/weather.csv')\n",
    "train = pd.read_csv('Inputs/train.csv')\n",
    "test = pd.read_csv('Inputs/test.csv')"
   ]
  },
  {
   "cell_type": "code",
   "execution_count": 187,
   "metadata": {},
   "outputs": [
    {
     "data": {
      "text/html": [
       "<div>\n",
       "<style scoped>\n",
       "    .dataframe tbody tr th:only-of-type {\n",
       "        vertical-align: middle;\n",
       "    }\n",
       "\n",
       "    .dataframe tbody tr th {\n",
       "        vertical-align: top;\n",
       "    }\n",
       "\n",
       "    .dataframe thead th {\n",
       "        text-align: right;\n",
       "    }\n",
       "</style>\n",
       "<table border=\"1\" class=\"dataframe\">\n",
       "  <thead>\n",
       "    <tr style=\"text-align: right;\">\n",
       "      <th></th>\n",
       "      <th>Id</th>\n",
       "      <th>WnvPresent</th>\n",
       "    </tr>\n",
       "  </thead>\n",
       "  <tbody>\n",
       "    <tr>\n",
       "      <th>0</th>\n",
       "      <td>1</td>\n",
       "      <td>0</td>\n",
       "    </tr>\n",
       "    <tr>\n",
       "      <th>1</th>\n",
       "      <td>2</td>\n",
       "      <td>0</td>\n",
       "    </tr>\n",
       "    <tr>\n",
       "      <th>2</th>\n",
       "      <td>3</td>\n",
       "      <td>0</td>\n",
       "    </tr>\n",
       "    <tr>\n",
       "      <th>3</th>\n",
       "      <td>4</td>\n",
       "      <td>0</td>\n",
       "    </tr>\n",
       "    <tr>\n",
       "      <th>4</th>\n",
       "      <td>5</td>\n",
       "      <td>0</td>\n",
       "    </tr>\n",
       "  </tbody>\n",
       "</table>\n",
       "</div>"
      ],
      "text/plain": [
       "   Id  WnvPresent\n",
       "0   1           0\n",
       "1   2           0\n",
       "2   3           0\n",
       "3   4           0\n",
       "4   5           0"
      ]
     },
     "execution_count": 187,
     "metadata": {},
     "output_type": "execute_result"
    }
   ],
   "source": [
    "sample.head()"
   ]
  },
  {
   "cell_type": "code",
   "execution_count": 188,
   "metadata": {},
   "outputs": [
    {
     "data": {
      "text/html": [
       "<div>\n",
       "<style scoped>\n",
       "    .dataframe tbody tr th:only-of-type {\n",
       "        vertical-align: middle;\n",
       "    }\n",
       "\n",
       "    .dataframe tbody tr th {\n",
       "        vertical-align: top;\n",
       "    }\n",
       "\n",
       "    .dataframe thead th {\n",
       "        text-align: right;\n",
       "    }\n",
       "</style>\n",
       "<table border=\"1\" class=\"dataframe\">\n",
       "  <thead>\n",
       "    <tr style=\"text-align: right;\">\n",
       "      <th></th>\n",
       "      <th>Id</th>\n",
       "      <th>Date</th>\n",
       "      <th>Address</th>\n",
       "      <th>Species</th>\n",
       "      <th>Block</th>\n",
       "      <th>Street</th>\n",
       "      <th>Trap</th>\n",
       "      <th>AddressNumberAndStreet</th>\n",
       "      <th>Latitude</th>\n",
       "      <th>Longitude</th>\n",
       "      <th>AddressAccuracy</th>\n",
       "    </tr>\n",
       "  </thead>\n",
       "  <tbody>\n",
       "    <tr>\n",
       "      <th>0</th>\n",
       "      <td>1</td>\n",
       "      <td>2008-06-11</td>\n",
       "      <td>4100 North Oak Park Avenue, Chicago, IL 60634,...</td>\n",
       "      <td>CULEX PIPIENS/RESTUANS</td>\n",
       "      <td>41</td>\n",
       "      <td>N OAK PARK AVE</td>\n",
       "      <td>T002</td>\n",
       "      <td>4100  N OAK PARK AVE, Chicago, IL</td>\n",
       "      <td>41.95469</td>\n",
       "      <td>-87.800991</td>\n",
       "      <td>9</td>\n",
       "    </tr>\n",
       "    <tr>\n",
       "      <th>1</th>\n",
       "      <td>2</td>\n",
       "      <td>2008-06-11</td>\n",
       "      <td>4100 North Oak Park Avenue, Chicago, IL 60634,...</td>\n",
       "      <td>CULEX RESTUANS</td>\n",
       "      <td>41</td>\n",
       "      <td>N OAK PARK AVE</td>\n",
       "      <td>T002</td>\n",
       "      <td>4100  N OAK PARK AVE, Chicago, IL</td>\n",
       "      <td>41.95469</td>\n",
       "      <td>-87.800991</td>\n",
       "      <td>9</td>\n",
       "    </tr>\n",
       "  </tbody>\n",
       "</table>\n",
       "</div>"
      ],
      "text/plain": [
       "   Id        Date                                            Address  \\\n",
       "0   1  2008-06-11  4100 North Oak Park Avenue, Chicago, IL 60634,...   \n",
       "1   2  2008-06-11  4100 North Oak Park Avenue, Chicago, IL 60634,...   \n",
       "\n",
       "                  Species  Block           Street  Trap  \\\n",
       "0  CULEX PIPIENS/RESTUANS     41   N OAK PARK AVE  T002   \n",
       "1          CULEX RESTUANS     41   N OAK PARK AVE  T002   \n",
       "\n",
       "              AddressNumberAndStreet  Latitude  Longitude  AddressAccuracy  \n",
       "0  4100  N OAK PARK AVE, Chicago, IL  41.95469 -87.800991                9  \n",
       "1  4100  N OAK PARK AVE, Chicago, IL  41.95469 -87.800991                9  "
      ]
     },
     "execution_count": 188,
     "metadata": {},
     "output_type": "execute_result"
    }
   ],
   "source": [
    "test.head(2)"
   ]
  },
  {
   "cell_type": "code",
   "execution_count": 189,
   "metadata": {},
   "outputs": [
    {
     "data": {
      "text/html": [
       "<div>\n",
       "<style scoped>\n",
       "    .dataframe tbody tr th:only-of-type {\n",
       "        vertical-align: middle;\n",
       "    }\n",
       "\n",
       "    .dataframe tbody tr th {\n",
       "        vertical-align: top;\n",
       "    }\n",
       "\n",
       "    .dataframe thead th {\n",
       "        text-align: right;\n",
       "    }\n",
       "</style>\n",
       "<table border=\"1\" class=\"dataframe\">\n",
       "  <thead>\n",
       "    <tr style=\"text-align: right;\">\n",
       "      <th></th>\n",
       "      <th>Date</th>\n",
       "      <th>Address</th>\n",
       "      <th>Species</th>\n",
       "      <th>Block</th>\n",
       "      <th>Street</th>\n",
       "      <th>Trap</th>\n",
       "      <th>AddressNumberAndStreet</th>\n",
       "      <th>Latitude</th>\n",
       "      <th>Longitude</th>\n",
       "      <th>AddressAccuracy</th>\n",
       "      <th>NumMosquitos</th>\n",
       "      <th>WnvPresent</th>\n",
       "    </tr>\n",
       "  </thead>\n",
       "  <tbody>\n",
       "    <tr>\n",
       "      <th>0</th>\n",
       "      <td>2007-05-29</td>\n",
       "      <td>4100 North Oak Park Avenue, Chicago, IL 60634,...</td>\n",
       "      <td>CULEX PIPIENS/RESTUANS</td>\n",
       "      <td>41</td>\n",
       "      <td>N OAK PARK AVE</td>\n",
       "      <td>T002</td>\n",
       "      <td>4100  N OAK PARK AVE, Chicago, IL</td>\n",
       "      <td>41.954690</td>\n",
       "      <td>-87.800991</td>\n",
       "      <td>9</td>\n",
       "      <td>1</td>\n",
       "      <td>0</td>\n",
       "    </tr>\n",
       "    <tr>\n",
       "      <th>1</th>\n",
       "      <td>2007-05-29</td>\n",
       "      <td>4100 North Oak Park Avenue, Chicago, IL 60634,...</td>\n",
       "      <td>CULEX RESTUANS</td>\n",
       "      <td>41</td>\n",
       "      <td>N OAK PARK AVE</td>\n",
       "      <td>T002</td>\n",
       "      <td>4100  N OAK PARK AVE, Chicago, IL</td>\n",
       "      <td>41.954690</td>\n",
       "      <td>-87.800991</td>\n",
       "      <td>9</td>\n",
       "      <td>1</td>\n",
       "      <td>0</td>\n",
       "    </tr>\n",
       "    <tr>\n",
       "      <th>2</th>\n",
       "      <td>2007-05-29</td>\n",
       "      <td>6200 North Mandell Avenue, Chicago, IL 60646, USA</td>\n",
       "      <td>CULEX RESTUANS</td>\n",
       "      <td>62</td>\n",
       "      <td>N MANDELL AVE</td>\n",
       "      <td>T007</td>\n",
       "      <td>6200  N MANDELL AVE, Chicago, IL</td>\n",
       "      <td>41.994991</td>\n",
       "      <td>-87.769279</td>\n",
       "      <td>9</td>\n",
       "      <td>1</td>\n",
       "      <td>0</td>\n",
       "    </tr>\n",
       "    <tr>\n",
       "      <th>3</th>\n",
       "      <td>2007-05-29</td>\n",
       "      <td>7900 West Foster Avenue, Chicago, IL 60656, USA</td>\n",
       "      <td>CULEX PIPIENS/RESTUANS</td>\n",
       "      <td>79</td>\n",
       "      <td>W FOSTER AVE</td>\n",
       "      <td>T015</td>\n",
       "      <td>7900  W FOSTER AVE, Chicago, IL</td>\n",
       "      <td>41.974089</td>\n",
       "      <td>-87.824812</td>\n",
       "      <td>8</td>\n",
       "      <td>1</td>\n",
       "      <td>0</td>\n",
       "    </tr>\n",
       "    <tr>\n",
       "      <th>4</th>\n",
       "      <td>2007-05-29</td>\n",
       "      <td>7900 West Foster Avenue, Chicago, IL 60656, USA</td>\n",
       "      <td>CULEX RESTUANS</td>\n",
       "      <td>79</td>\n",
       "      <td>W FOSTER AVE</td>\n",
       "      <td>T015</td>\n",
       "      <td>7900  W FOSTER AVE, Chicago, IL</td>\n",
       "      <td>41.974089</td>\n",
       "      <td>-87.824812</td>\n",
       "      <td>8</td>\n",
       "      <td>4</td>\n",
       "      <td>0</td>\n",
       "    </tr>\n",
       "  </tbody>\n",
       "</table>\n",
       "</div>"
      ],
      "text/plain": [
       "         Date                                            Address  \\\n",
       "0  2007-05-29  4100 North Oak Park Avenue, Chicago, IL 60634,...   \n",
       "1  2007-05-29  4100 North Oak Park Avenue, Chicago, IL 60634,...   \n",
       "2  2007-05-29  6200 North Mandell Avenue, Chicago, IL 60646, USA   \n",
       "3  2007-05-29    7900 West Foster Avenue, Chicago, IL 60656, USA   \n",
       "4  2007-05-29    7900 West Foster Avenue, Chicago, IL 60656, USA   \n",
       "\n",
       "                  Species  Block           Street  Trap  \\\n",
       "0  CULEX PIPIENS/RESTUANS     41   N OAK PARK AVE  T002   \n",
       "1          CULEX RESTUANS     41   N OAK PARK AVE  T002   \n",
       "2          CULEX RESTUANS     62    N MANDELL AVE  T007   \n",
       "3  CULEX PIPIENS/RESTUANS     79     W FOSTER AVE  T015   \n",
       "4          CULEX RESTUANS     79     W FOSTER AVE  T015   \n",
       "\n",
       "              AddressNumberAndStreet   Latitude  Longitude  AddressAccuracy  \\\n",
       "0  4100  N OAK PARK AVE, Chicago, IL  41.954690 -87.800991                9   \n",
       "1  4100  N OAK PARK AVE, Chicago, IL  41.954690 -87.800991                9   \n",
       "2   6200  N MANDELL AVE, Chicago, IL  41.994991 -87.769279                9   \n",
       "3    7900  W FOSTER AVE, Chicago, IL  41.974089 -87.824812                8   \n",
       "4    7900  W FOSTER AVE, Chicago, IL  41.974089 -87.824812                8   \n",
       "\n",
       "   NumMosquitos  WnvPresent  \n",
       "0             1           0  \n",
       "1             1           0  \n",
       "2             1           0  \n",
       "3             1           0  \n",
       "4             4           0  "
      ]
     },
     "execution_count": 189,
     "metadata": {},
     "output_type": "execute_result"
    }
   ],
   "source": [
    "train.head()"
   ]
  },
  {
   "cell_type": "code",
   "execution_count": 30,
   "metadata": {},
   "outputs": [
    {
     "name": "stdout",
     "output_type": "stream",
     "text": [
      "<class 'pandas.core.frame.DataFrame'>\n",
      "RangeIndex: 10506 entries, 0 to 10505\n",
      "Data columns (total 12 columns):\n",
      "Date                      10506 non-null object\n",
      "Address                   10506 non-null object\n",
      "Species                   10506 non-null object\n",
      "Block                     10506 non-null int64\n",
      "Street                    10506 non-null object\n",
      "Trap                      10506 non-null object\n",
      "AddressNumberAndStreet    10506 non-null object\n",
      "Latitude                  10506 non-null float64\n",
      "Longitude                 10506 non-null float64\n",
      "AddressAccuracy           10506 non-null int64\n",
      "NumMosquitos              10506 non-null int64\n",
      "WnvPresent                10506 non-null int64\n",
      "dtypes: float64(2), int64(4), object(6)\n",
      "memory usage: 985.0+ KB\n"
     ]
    }
   ],
   "source": [
    "train.info()"
   ]
  },
  {
   "cell_type": "code",
   "execution_count": 31,
   "metadata": {},
   "outputs": [
    {
     "data": {
      "text/html": [
       "<div>\n",
       "<style scoped>\n",
       "    .dataframe tbody tr th:only-of-type {\n",
       "        vertical-align: middle;\n",
       "    }\n",
       "\n",
       "    .dataframe tbody tr th {\n",
       "        vertical-align: top;\n",
       "    }\n",
       "\n",
       "    .dataframe thead th {\n",
       "        text-align: right;\n",
       "    }\n",
       "</style>\n",
       "<table border=\"1\" class=\"dataframe\">\n",
       "  <thead>\n",
       "    <tr style=\"text-align: right;\">\n",
       "      <th></th>\n",
       "      <th>Id</th>\n",
       "      <th>WnvPresent</th>\n",
       "    </tr>\n",
       "  </thead>\n",
       "  <tbody>\n",
       "    <tr>\n",
       "      <th>0</th>\n",
       "      <td>1</td>\n",
       "      <td>0</td>\n",
       "    </tr>\n",
       "    <tr>\n",
       "      <th>1</th>\n",
       "      <td>2</td>\n",
       "      <td>0</td>\n",
       "    </tr>\n",
       "    <tr>\n",
       "      <th>2</th>\n",
       "      <td>3</td>\n",
       "      <td>0</td>\n",
       "    </tr>\n",
       "    <tr>\n",
       "      <th>3</th>\n",
       "      <td>4</td>\n",
       "      <td>0</td>\n",
       "    </tr>\n",
       "    <tr>\n",
       "      <th>4</th>\n",
       "      <td>5</td>\n",
       "      <td>0</td>\n",
       "    </tr>\n",
       "  </tbody>\n",
       "</table>\n",
       "</div>"
      ],
      "text/plain": [
       "   Id  WnvPresent\n",
       "0   1           0\n",
       "1   2           0\n",
       "2   3           0\n",
       "3   4           0\n",
       "4   5           0"
      ]
     },
     "execution_count": 31,
     "metadata": {},
     "output_type": "execute_result"
    }
   ],
   "source": [
    "sample.head()"
   ]
  },
  {
   "cell_type": "code",
   "execution_count": 190,
   "metadata": {},
   "outputs": [],
   "source": [
    "# Our dependent variable is the presence of West Nile Virus.\n",
    "y = train['WnvPresent']"
   ]
  },
  {
   "cell_type": "code",
   "execution_count": 561,
   "metadata": {},
   "outputs": [],
   "source": [
    "# The spray data come from two years: 2011 and 2013."
   ]
  },
  {
   "cell_type": "code",
   "execution_count": 69,
   "metadata": {},
   "outputs": [
    {
     "data": {
      "text/html": [
       "<div>\n",
       "<style scoped>\n",
       "    .dataframe tbody tr th:only-of-type {\n",
       "        vertical-align: middle;\n",
       "    }\n",
       "\n",
       "    .dataframe tbody tr th {\n",
       "        vertical-align: top;\n",
       "    }\n",
       "\n",
       "    .dataframe thead th {\n",
       "        text-align: right;\n",
       "    }\n",
       "</style>\n",
       "<table border=\"1\" class=\"dataframe\">\n",
       "  <thead>\n",
       "    <tr style=\"text-align: right;\">\n",
       "      <th></th>\n",
       "      <th>Date</th>\n",
       "      <th>Time</th>\n",
       "      <th>Latitude</th>\n",
       "      <th>Longitude</th>\n",
       "    </tr>\n",
       "  </thead>\n",
       "  <tbody>\n",
       "    <tr>\n",
       "      <th>0</th>\n",
       "      <td>2011-08-29</td>\n",
       "      <td>6:56:58 PM</td>\n",
       "      <td>42.391623</td>\n",
       "      <td>-88.089163</td>\n",
       "    </tr>\n",
       "    <tr>\n",
       "      <th>1</th>\n",
       "      <td>2011-08-29</td>\n",
       "      <td>6:57:08 PM</td>\n",
       "      <td>42.391348</td>\n",
       "      <td>-88.089163</td>\n",
       "    </tr>\n",
       "    <tr>\n",
       "      <th>2</th>\n",
       "      <td>2011-08-29</td>\n",
       "      <td>6:57:18 PM</td>\n",
       "      <td>42.391022</td>\n",
       "      <td>-88.089157</td>\n",
       "    </tr>\n",
       "    <tr>\n",
       "      <th>3</th>\n",
       "      <td>2011-08-29</td>\n",
       "      <td>6:57:28 PM</td>\n",
       "      <td>42.390637</td>\n",
       "      <td>-88.089158</td>\n",
       "    </tr>\n",
       "    <tr>\n",
       "      <th>4</th>\n",
       "      <td>2011-08-29</td>\n",
       "      <td>6:57:38 PM</td>\n",
       "      <td>42.390410</td>\n",
       "      <td>-88.088858</td>\n",
       "    </tr>\n",
       "  </tbody>\n",
       "</table>\n",
       "</div>"
      ],
      "text/plain": [
       "         Date        Time   Latitude  Longitude\n",
       "0  2011-08-29  6:56:58 PM  42.391623 -88.089163\n",
       "1  2011-08-29  6:57:08 PM  42.391348 -88.089163\n",
       "2  2011-08-29  6:57:18 PM  42.391022 -88.089157\n",
       "3  2011-08-29  6:57:28 PM  42.390637 -88.089158\n",
       "4  2011-08-29  6:57:38 PM  42.390410 -88.088858"
      ]
     },
     "execution_count": 69,
     "metadata": {},
     "output_type": "execute_result"
    }
   ],
   "source": [
    "spray.head()"
   ]
  },
  {
   "cell_type": "code",
   "execution_count": 340,
   "metadata": {},
   "outputs": [
    {
     "data": {
      "text/html": [
       "<div>\n",
       "<style scoped>\n",
       "    .dataframe tbody tr th:only-of-type {\n",
       "        vertical-align: middle;\n",
       "    }\n",
       "\n",
       "    .dataframe tbody tr th {\n",
       "        vertical-align: top;\n",
       "    }\n",
       "\n",
       "    .dataframe thead th {\n",
       "        text-align: right;\n",
       "    }\n",
       "</style>\n",
       "<table border=\"1\" class=\"dataframe\">\n",
       "  <thead>\n",
       "    <tr style=\"text-align: right;\">\n",
       "      <th></th>\n",
       "      <th>Date</th>\n",
       "      <th>Time</th>\n",
       "      <th>Latitude</th>\n",
       "      <th>Longitude</th>\n",
       "    </tr>\n",
       "  </thead>\n",
       "  <tbody>\n",
       "    <tr>\n",
       "      <th>14830</th>\n",
       "      <td>2013-09-05</td>\n",
       "      <td>8:34:11 PM</td>\n",
       "      <td>42.006587</td>\n",
       "      <td>-87.812355</td>\n",
       "    </tr>\n",
       "    <tr>\n",
       "      <th>14831</th>\n",
       "      <td>2013-09-05</td>\n",
       "      <td>8:35:01 PM</td>\n",
       "      <td>42.006192</td>\n",
       "      <td>-87.816015</td>\n",
       "    </tr>\n",
       "    <tr>\n",
       "      <th>14832</th>\n",
       "      <td>2013-09-05</td>\n",
       "      <td>8:35:21 PM</td>\n",
       "      <td>42.006022</td>\n",
       "      <td>-87.817392</td>\n",
       "    </tr>\n",
       "    <tr>\n",
       "      <th>14833</th>\n",
       "      <td>2013-09-05</td>\n",
       "      <td>8:35:31 PM</td>\n",
       "      <td>42.005453</td>\n",
       "      <td>-87.817423</td>\n",
       "    </tr>\n",
       "    <tr>\n",
       "      <th>14834</th>\n",
       "      <td>2013-09-05</td>\n",
       "      <td>8:35:41 PM</td>\n",
       "      <td>42.004805</td>\n",
       "      <td>-87.817460</td>\n",
       "    </tr>\n",
       "  </tbody>\n",
       "</table>\n",
       "</div>"
      ],
      "text/plain": [
       "             Date        Time   Latitude  Longitude\n",
       "14830  2013-09-05  8:34:11 PM  42.006587 -87.812355\n",
       "14831  2013-09-05  8:35:01 PM  42.006192 -87.816015\n",
       "14832  2013-09-05  8:35:21 PM  42.006022 -87.817392\n",
       "14833  2013-09-05  8:35:31 PM  42.005453 -87.817423\n",
       "14834  2013-09-05  8:35:41 PM  42.004805 -87.817460"
      ]
     },
     "execution_count": 340,
     "metadata": {},
     "output_type": "execute_result"
    }
   ],
   "source": [
    "spray.tail()"
   ]
  },
  {
   "cell_type": "code",
   "execution_count": 322,
   "metadata": {},
   "outputs": [
    {
     "data": {
      "text/plain": [
       "2209"
      ]
     },
     "execution_count": 322,
     "metadata": {},
     "output_type": "execute_result"
    }
   ],
   "source": [
    "sprays2011 = spray.loc[spray['Date'] < '2012', :].shape[0]\n",
    "sprays2011"
   ]
  },
  {
   "cell_type": "code",
   "execution_count": 562,
   "metadata": {},
   "outputs": [],
   "source": [
    "# There was a significant outbreak of West Nile in 2012, leading to the\n",
    "# more protracted spraying campaign in 2013 relative to 2011."
   ]
  },
  {
   "cell_type": "code",
   "execution_count": 323,
   "metadata": {},
   "outputs": [
    {
     "data": {
      "text/plain": [
       "12626"
      ]
     },
     "execution_count": 323,
     "metadata": {},
     "output_type": "execute_result"
    }
   ],
   "source": [
    "sprays2013 = spray.loc[spray['Date'] > '2012', :].shape[0]\n",
    "sprays2013"
   ]
  },
  {
   "cell_type": "code",
   "execution_count": 563,
   "metadata": {},
   "outputs": [],
   "source": [
    "# Simple dataframe for the sake of visualization"
   ]
  },
  {
   "cell_type": "code",
   "execution_count": 339,
   "metadata": {},
   "outputs": [
    {
     "data": {
      "text/html": [
       "<div>\n",
       "<style scoped>\n",
       "    .dataframe tbody tr th:only-of-type {\n",
       "        vertical-align: middle;\n",
       "    }\n",
       "\n",
       "    .dataframe tbody tr th {\n",
       "        vertical-align: top;\n",
       "    }\n",
       "\n",
       "    .dataframe thead th {\n",
       "        text-align: right;\n",
       "    }\n",
       "</style>\n",
       "<table border=\"1\" class=\"dataframe\">\n",
       "  <thead>\n",
       "    <tr style=\"text-align: right;\">\n",
       "      <th></th>\n",
       "      <th>Year</th>\n",
       "      <th>Sprays</th>\n",
       "    </tr>\n",
       "  </thead>\n",
       "  <tbody>\n",
       "    <tr>\n",
       "      <th>0</th>\n",
       "      <td>2011</td>\n",
       "      <td>2209</td>\n",
       "    </tr>\n",
       "    <tr>\n",
       "      <th>1</th>\n",
       "      <td>2013</td>\n",
       "      <td>12626</td>\n",
       "    </tr>\n",
       "  </tbody>\n",
       "</table>\n",
       "</div>"
      ],
      "text/plain": [
       "   Year  Sprays\n",
       "0  2011    2209\n",
       "1  2013   12626"
      ]
     },
     "execution_count": 339,
     "metadata": {},
     "output_type": "execute_result"
    }
   ],
   "source": [
    "spraydf = pd.DataFrame([[2011, sprays2011], [2013, sprays2013]], columns = ['Year', 'Sprays'])\n",
    "spraydf"
   ]
  },
  {
   "cell_type": "code",
   "execution_count": 34,
   "metadata": {},
   "outputs": [
    {
     "name": "stdout",
     "output_type": "stream",
     "text": [
      "<class 'pandas.core.frame.DataFrame'>\n",
      "RangeIndex: 14835 entries, 0 to 14834\n",
      "Data columns (total 4 columns):\n",
      "Date         14835 non-null object\n",
      "Time         14251 non-null object\n",
      "Latitude     14835 non-null float64\n",
      "Longitude    14835 non-null float64\n",
      "dtypes: float64(2), object(2)\n",
      "memory usage: 463.7+ KB\n"
     ]
    }
   ],
   "source": [
    "spray.info()"
   ]
  },
  {
   "cell_type": "code",
   "execution_count": 158,
   "metadata": {},
   "outputs": [
    {
     "data": {
      "text/html": [
       "<div>\n",
       "<style scoped>\n",
       "    .dataframe tbody tr th:only-of-type {\n",
       "        vertical-align: middle;\n",
       "    }\n",
       "\n",
       "    .dataframe tbody tr th {\n",
       "        vertical-align: top;\n",
       "    }\n",
       "\n",
       "    .dataframe thead th {\n",
       "        text-align: right;\n",
       "    }\n",
       "</style>\n",
       "<table border=\"1\" class=\"dataframe\">\n",
       "  <thead>\n",
       "    <tr style=\"text-align: right;\">\n",
       "      <th></th>\n",
       "      <th>Station</th>\n",
       "      <th>Date</th>\n",
       "      <th>Tmax</th>\n",
       "      <th>Tmin</th>\n",
       "      <th>Tavg</th>\n",
       "      <th>Depart</th>\n",
       "      <th>DewPoint</th>\n",
       "      <th>WetBulb</th>\n",
       "      <th>Heat</th>\n",
       "      <th>Cool</th>\n",
       "      <th>...</th>\n",
       "      <th>CodeSum</th>\n",
       "      <th>Depth</th>\n",
       "      <th>Water1</th>\n",
       "      <th>SnowFall</th>\n",
       "      <th>PrecipTotal</th>\n",
       "      <th>StnPressure</th>\n",
       "      <th>SeaLevel</th>\n",
       "      <th>ResultSpeed</th>\n",
       "      <th>ResultDir</th>\n",
       "      <th>AvgSpeed</th>\n",
       "    </tr>\n",
       "  </thead>\n",
       "  <tbody>\n",
       "    <tr>\n",
       "      <th>0</th>\n",
       "      <td>1</td>\n",
       "      <td>2007-05-01</td>\n",
       "      <td>83</td>\n",
       "      <td>50</td>\n",
       "      <td>67</td>\n",
       "      <td>14</td>\n",
       "      <td>51</td>\n",
       "      <td>56</td>\n",
       "      <td>0</td>\n",
       "      <td>2</td>\n",
       "      <td>...</td>\n",
       "      <td></td>\n",
       "      <td>0</td>\n",
       "      <td>M</td>\n",
       "      <td>0.0</td>\n",
       "      <td>0.00</td>\n",
       "      <td>29.10</td>\n",
       "      <td>29.82</td>\n",
       "      <td>1.7</td>\n",
       "      <td>27</td>\n",
       "      <td>9.2</td>\n",
       "    </tr>\n",
       "    <tr>\n",
       "      <th>1</th>\n",
       "      <td>2</td>\n",
       "      <td>2007-05-01</td>\n",
       "      <td>84</td>\n",
       "      <td>52</td>\n",
       "      <td>68</td>\n",
       "      <td>M</td>\n",
       "      <td>51</td>\n",
       "      <td>57</td>\n",
       "      <td>0</td>\n",
       "      <td>3</td>\n",
       "      <td>...</td>\n",
       "      <td></td>\n",
       "      <td>M</td>\n",
       "      <td>M</td>\n",
       "      <td>M</td>\n",
       "      <td>0.00</td>\n",
       "      <td>29.18</td>\n",
       "      <td>29.82</td>\n",
       "      <td>2.7</td>\n",
       "      <td>25</td>\n",
       "      <td>9.6</td>\n",
       "    </tr>\n",
       "    <tr>\n",
       "      <th>2</th>\n",
       "      <td>1</td>\n",
       "      <td>2007-05-02</td>\n",
       "      <td>59</td>\n",
       "      <td>42</td>\n",
       "      <td>51</td>\n",
       "      <td>-3</td>\n",
       "      <td>42</td>\n",
       "      <td>47</td>\n",
       "      <td>14</td>\n",
       "      <td>0</td>\n",
       "      <td>...</td>\n",
       "      <td>BR</td>\n",
       "      <td>0</td>\n",
       "      <td>M</td>\n",
       "      <td>0.0</td>\n",
       "      <td>0.00</td>\n",
       "      <td>29.38</td>\n",
       "      <td>30.09</td>\n",
       "      <td>13.0</td>\n",
       "      <td>4</td>\n",
       "      <td>13.4</td>\n",
       "    </tr>\n",
       "    <tr>\n",
       "      <th>3</th>\n",
       "      <td>2</td>\n",
       "      <td>2007-05-02</td>\n",
       "      <td>60</td>\n",
       "      <td>43</td>\n",
       "      <td>52</td>\n",
       "      <td>M</td>\n",
       "      <td>42</td>\n",
       "      <td>47</td>\n",
       "      <td>13</td>\n",
       "      <td>0</td>\n",
       "      <td>...</td>\n",
       "      <td>BR HZ</td>\n",
       "      <td>M</td>\n",
       "      <td>M</td>\n",
       "      <td>M</td>\n",
       "      <td>0.00</td>\n",
       "      <td>29.44</td>\n",
       "      <td>30.08</td>\n",
       "      <td>13.3</td>\n",
       "      <td>2</td>\n",
       "      <td>13.4</td>\n",
       "    </tr>\n",
       "    <tr>\n",
       "      <th>4</th>\n",
       "      <td>1</td>\n",
       "      <td>2007-05-03</td>\n",
       "      <td>66</td>\n",
       "      <td>46</td>\n",
       "      <td>56</td>\n",
       "      <td>2</td>\n",
       "      <td>40</td>\n",
       "      <td>48</td>\n",
       "      <td>9</td>\n",
       "      <td>0</td>\n",
       "      <td>...</td>\n",
       "      <td></td>\n",
       "      <td>0</td>\n",
       "      <td>M</td>\n",
       "      <td>0.0</td>\n",
       "      <td>0.00</td>\n",
       "      <td>29.39</td>\n",
       "      <td>30.12</td>\n",
       "      <td>11.7</td>\n",
       "      <td>7</td>\n",
       "      <td>11.9</td>\n",
       "    </tr>\n",
       "  </tbody>\n",
       "</table>\n",
       "<p>5 rows × 22 columns</p>\n",
       "</div>"
      ],
      "text/plain": [
       "   Station        Date  Tmax  Tmin Tavg Depart  DewPoint WetBulb Heat Cool  \\\n",
       "0        1  2007-05-01    83    50   67     14        51      56    0    2   \n",
       "1        2  2007-05-01    84    52   68      M        51      57    0    3   \n",
       "2        1  2007-05-02    59    42   51     -3        42      47   14    0   \n",
       "3        2  2007-05-02    60    43   52      M        42      47   13    0   \n",
       "4        1  2007-05-03    66    46   56      2        40      48    9    0   \n",
       "\n",
       "     ...    CodeSum Depth Water1 SnowFall PrecipTotal StnPressure SeaLevel  \\\n",
       "0    ...                0      M      0.0        0.00       29.10    29.82   \n",
       "1    ...                M      M        M        0.00       29.18    29.82   \n",
       "2    ...         BR     0      M      0.0        0.00       29.38    30.09   \n",
       "3    ...      BR HZ     M      M        M        0.00       29.44    30.08   \n",
       "4    ...                0      M      0.0        0.00       29.39    30.12   \n",
       "\n",
       "  ResultSpeed ResultDir  AvgSpeed  \n",
       "0         1.7        27       9.2  \n",
       "1         2.7        25       9.6  \n",
       "2        13.0         4      13.4  \n",
       "3        13.3         2      13.4  \n",
       "4        11.7         7      11.9  \n",
       "\n",
       "[5 rows x 22 columns]"
      ]
     },
     "execution_count": 158,
     "metadata": {},
     "output_type": "execute_result"
    }
   ],
   "source": [
    "weather.head()"
   ]
  },
  {
   "cell_type": "code",
   "execution_count": 36,
   "metadata": {},
   "outputs": [
    {
     "name": "stdout",
     "output_type": "stream",
     "text": [
      "<class 'pandas.core.frame.DataFrame'>\n",
      "RangeIndex: 2944 entries, 0 to 2943\n",
      "Data columns (total 22 columns):\n",
      "Station        2944 non-null int64\n",
      "Date           2944 non-null object\n",
      "Tmax           2944 non-null int64\n",
      "Tmin           2944 non-null int64\n",
      "Tavg           2944 non-null object\n",
      "Depart         2944 non-null object\n",
      "DewPoint       2944 non-null int64\n",
      "WetBulb        2944 non-null object\n",
      "Heat           2944 non-null object\n",
      "Cool           2944 non-null object\n",
      "Sunrise        2944 non-null object\n",
      "Sunset         2944 non-null object\n",
      "CodeSum        2944 non-null object\n",
      "Depth          2944 non-null object\n",
      "Water1         2944 non-null object\n",
      "SnowFall       2944 non-null object\n",
      "PrecipTotal    2944 non-null object\n",
      "StnPressure    2944 non-null object\n",
      "SeaLevel       2944 non-null object\n",
      "ResultSpeed    2944 non-null float64\n",
      "ResultDir      2944 non-null int64\n",
      "AvgSpeed       2944 non-null object\n",
      "dtypes: float64(1), int64(5), object(16)\n",
      "memory usage: 506.1+ KB\n"
     ]
    }
   ],
   "source": [
    "weather.info()"
   ]
  },
  {
   "cell_type": "code",
   "execution_count": 37,
   "metadata": {},
   "outputs": [
    {
     "data": {
      "text/plain": [
       "1    1472\n",
       "2    1472\n",
       "Name: Station, dtype: int64"
      ]
     },
     "execution_count": 37,
     "metadata": {},
     "output_type": "execute_result"
    }
   ],
   "source": [
    "weather['Station'].value_counts()"
   ]
  },
  {
   "cell_type": "code",
   "execution_count": 5,
   "metadata": {
    "scrolled": true
   },
   "outputs": [
    {
     "data": {
      "text/plain": [
       "CULEX PIPIENS/RESTUANS    4752\n",
       "CULEX RESTUANS            2740\n",
       "CULEX PIPIENS             2699\n",
       "CULEX TERRITANS            222\n",
       "CULEX SALINARIUS            86\n",
       "CULEX TARSALIS               6\n",
       "CULEX ERRATICUS              1\n",
       "Name: Species, dtype: int64"
      ]
     },
     "execution_count": 5,
     "metadata": {},
     "output_type": "execute_result"
    }
   ],
   "source": [
    "train['Species'].value_counts()"
   ]
  },
  {
   "cell_type": "code",
   "execution_count": 314,
   "metadata": {},
   "outputs": [
    {
     "data": {
      "text/plain": [
       "0"
      ]
     },
     "execution_count": 314,
     "metadata": {},
     "output_type": "execute_result"
    }
   ],
   "source": [
    "train.loc[train['Species'] == 'CULEX TERRITANS', 'WnvPresent'].sum()"
   ]
  },
  {
   "cell_type": "code",
   "execution_count": 315,
   "metadata": {},
   "outputs": [
    {
     "data": {
      "text/plain": [
       "0"
      ]
     },
     "execution_count": 315,
     "metadata": {},
     "output_type": "execute_result"
    }
   ],
   "source": [
    "train.loc[train['Species'] == 'CULEX SALINARIUS', 'WnvPresent'].sum()"
   ]
  },
  {
   "cell_type": "code",
   "execution_count": 316,
   "metadata": {},
   "outputs": [
    {
     "data": {
      "text/plain": [
       "0"
      ]
     },
     "execution_count": 316,
     "metadata": {},
     "output_type": "execute_result"
    }
   ],
   "source": [
    "train.loc[train['Species'] == 'CULEX TARSALIS', 'WnvPresent'].sum()"
   ]
  },
  {
   "cell_type": "code",
   "execution_count": 317,
   "metadata": {},
   "outputs": [
    {
     "data": {
      "text/plain": [
       "0"
      ]
     },
     "execution_count": 317,
     "metadata": {},
     "output_type": "execute_result"
    }
   ],
   "source": [
    "train.loc[train['Species'] == 'CULEX ERRATICUS', 'WnvPresent'].sum()"
   ]
  },
  {
   "cell_type": "code",
   "execution_count": 560,
   "metadata": {},
   "outputs": [],
   "source": [
    "# Culex pipiens and Culex restuans are not only the dominant species in\n",
    "# our dataset but also the only two carriers of the disease.\n",
    "# Let's dummy out species."
   ]
  },
  {
   "cell_type": "code",
   "execution_count": 191,
   "metadata": {},
   "outputs": [],
   "source": [
    "spec_dums = pd.get_dummies(train['Species'])"
   ]
  },
  {
   "cell_type": "code",
   "execution_count": 192,
   "metadata": {},
   "outputs": [
    {
     "data": {
      "text/plain": [
       "Index(['CULEX ERRATICUS', 'CULEX PIPIENS', 'CULEX PIPIENS/RESTUANS',\n",
       "       'CULEX RESTUANS', 'CULEX SALINARIUS', 'CULEX TARSALIS',\n",
       "       'CULEX TERRITANS'],\n",
       "      dtype='object')"
      ]
     },
     "execution_count": 192,
     "metadata": {},
     "output_type": "execute_result"
    }
   ],
   "source": [
    "spec_dums.columns"
   ]
  },
  {
   "cell_type": "code",
   "execution_count": 193,
   "metadata": {},
   "outputs": [],
   "source": [
    "train_with_dums = pd.concat([train, spec_dums], axis = 1)"
   ]
  },
  {
   "cell_type": "code",
   "execution_count": 8,
   "metadata": {},
   "outputs": [
    {
     "data": {
      "text/plain": [
       "WnvPresent                1.000000\n",
       "NumMosquitos              0.196820\n",
       "CULEX PIPIENS             0.096206\n",
       "Latitude                  0.028697\n",
       "CULEX PIPIENS/RESTUANS    0.010960\n",
       "Name: WnvPresent, dtype: float64"
      ]
     },
     "execution_count": 8,
     "metadata": {},
     "output_type": "execute_result"
    }
   ],
   "source": [
    "train_with_dums.corr()['WnvPresent'].nlargest(5)"
   ]
  },
  {
   "cell_type": "code",
   "execution_count": 204,
   "metadata": {},
   "outputs": [
    {
     "data": {
      "text/plain": [
       "12.853512278697886"
      ]
     },
     "execution_count": 204,
     "metadata": {},
     "output_type": "execute_result"
    }
   ],
   "source": [
    "train_with_dums['NumMosquitos'].mean()"
   ]
  },
  {
   "cell_type": "code",
   "execution_count": 559,
   "metadata": {},
   "outputs": [],
   "source": [
    "# I'm going to construct a new pipiens and a new restuans category, adding\n",
    "# in the number from the hybrid-value species of 'CULEX PIPIENS/RESTUANS'."
   ]
  },
  {
   "cell_type": "code",
   "execution_count": 194,
   "metadata": {},
   "outputs": [],
   "source": [
    "train_with_dums['new_pip'] = train_with_dums['CULEX PIPIENS'] + train_with_dums['CULEX PIPIENS/RESTUANS']"
   ]
  },
  {
   "cell_type": "code",
   "execution_count": 195,
   "metadata": {},
   "outputs": [],
   "source": [
    "train_with_dums['new_rest'] = train_with_dums['CULEX RESTUANS'] + train_with_dums['CULEX PIPIENS/RESTUANS']"
   ]
  },
  {
   "cell_type": "code",
   "execution_count": 196,
   "metadata": {},
   "outputs": [],
   "source": [
    "train_adj_dums = train_with_dums.drop(['CULEX RESTUANS', 'CULEX PIPIENS',\n",
    "                                       'CULEX PIPIENS/RESTUANS', 'Species'],\n",
    "                                      axis = 1)"
   ]
  },
  {
   "cell_type": "code",
   "execution_count": 197,
   "metadata": {
    "scrolled": true
   },
   "outputs": [],
   "source": [
    "# Let's dummy out traps as well.\n",
    "trap_dums = pd.get_dummies(train_adj_dums['Trap'])"
   ]
  },
  {
   "cell_type": "code",
   "execution_count": 198,
   "metadata": {},
   "outputs": [],
   "source": [
    "train_traps = pd.concat([train_adj_dums, trap_dums], axis = 1)"
   ]
  },
  {
   "cell_type": "code",
   "execution_count": 10,
   "metadata": {},
   "outputs": [
    {
     "data": {
      "text/plain": [
       "WnvPresent      1.000000\n",
       "NumMosquitos    0.196820\n",
       "new_pip         0.104574\n",
       "T900            0.044220\n",
       "T143            0.034433\n",
       "T003            0.030296\n",
       "Latitude        0.028697\n",
       "T233            0.027159\n",
       "T002            0.026936\n",
       "T006            0.024517\n",
       "Name: WnvPresent, dtype: float64"
      ]
     },
     "execution_count": 10,
     "metadata": {},
     "output_type": "execute_result"
    }
   ],
   "source": [
    "train_traps.corr()['WnvPresent'].nlargest(10)"
   ]
  },
  {
   "cell_type": "code",
   "execution_count": 12,
   "metadata": {},
   "outputs": [
    {
     "data": {
      "text/plain": [
       "1"
      ]
     },
     "execution_count": 12,
     "metadata": {},
     "output_type": "execute_result"
    }
   ],
   "source": [
    "(train_traps.corr()['WnvPresent'] > 0.3).sum()"
   ]
  },
  {
   "cell_type": "code",
   "execution_count": 564,
   "metadata": {},
   "outputs": [],
   "source": [
    "# It will be helpful to have 'Date' in a more usable format."
   ]
  },
  {
   "cell_type": "code",
   "execution_count": 199,
   "metadata": {},
   "outputs": [],
   "source": [
    "train_traps['Date'] = pd.to_datetime(train_traps['Date'])"
   ]
  },
  {
   "cell_type": "code",
   "execution_count": 15,
   "metadata": {},
   "outputs": [
    {
     "data": {
      "text/html": [
       "<div>\n",
       "<style scoped>\n",
       "    .dataframe tbody tr th:only-of-type {\n",
       "        vertical-align: middle;\n",
       "    }\n",
       "\n",
       "    .dataframe tbody tr th {\n",
       "        vertical-align: top;\n",
       "    }\n",
       "\n",
       "    .dataframe thead th {\n",
       "        text-align: right;\n",
       "    }\n",
       "</style>\n",
       "<table border=\"1\" class=\"dataframe\">\n",
       "  <thead>\n",
       "    <tr style=\"text-align: right;\">\n",
       "      <th></th>\n",
       "      <th>Date</th>\n",
       "      <th>new_pip</th>\n",
       "    </tr>\n",
       "  </thead>\n",
       "  <tbody>\n",
       "    <tr>\n",
       "      <th>2</th>\n",
       "      <td>2007-05-29</td>\n",
       "      <td>0</td>\n",
       "    </tr>\n",
       "    <tr>\n",
       "      <th>88</th>\n",
       "      <td>2007-06-26</td>\n",
       "      <td>1</td>\n",
       "    </tr>\n",
       "    <tr>\n",
       "      <th>89</th>\n",
       "      <td>2007-06-26</td>\n",
       "      <td>0</td>\n",
       "    </tr>\n",
       "    <tr>\n",
       "      <th>203</th>\n",
       "      <td>2007-07-02</td>\n",
       "      <td>1</td>\n",
       "    </tr>\n",
       "    <tr>\n",
       "      <th>204</th>\n",
       "      <td>2007-07-02</td>\n",
       "      <td>0</td>\n",
       "    </tr>\n",
       "    <tr>\n",
       "      <th>278</th>\n",
       "      <td>2007-07-11</td>\n",
       "      <td>1</td>\n",
       "    </tr>\n",
       "    <tr>\n",
       "      <th>430</th>\n",
       "      <td>2007-07-18</td>\n",
       "      <td>0</td>\n",
       "    </tr>\n",
       "    <tr>\n",
       "      <th>431</th>\n",
       "      <td>2007-07-18</td>\n",
       "      <td>1</td>\n",
       "    </tr>\n",
       "    <tr>\n",
       "      <th>696</th>\n",
       "      <td>2007-07-27</td>\n",
       "      <td>1</td>\n",
       "    </tr>\n",
       "    <tr>\n",
       "      <th>782</th>\n",
       "      <td>2007-08-01</td>\n",
       "      <td>1</td>\n",
       "    </tr>\n",
       "    <tr>\n",
       "      <th>1472</th>\n",
       "      <td>2007-08-07</td>\n",
       "      <td>1</td>\n",
       "    </tr>\n",
       "    <tr>\n",
       "      <th>1473</th>\n",
       "      <td>2007-08-07</td>\n",
       "      <td>1</td>\n",
       "    </tr>\n",
       "    <tr>\n",
       "      <th>1776</th>\n",
       "      <td>2007-08-15</td>\n",
       "      <td>1</td>\n",
       "    </tr>\n",
       "    <tr>\n",
       "      <th>2522</th>\n",
       "      <td>2007-08-24</td>\n",
       "      <td>1</td>\n",
       "    </tr>\n",
       "    <tr>\n",
       "      <th>2828</th>\n",
       "      <td>2007-09-04</td>\n",
       "      <td>1</td>\n",
       "    </tr>\n",
       "    <tr>\n",
       "      <th>2829</th>\n",
       "      <td>2007-09-04</td>\n",
       "      <td>1</td>\n",
       "    </tr>\n",
       "    <tr>\n",
       "      <th>3061</th>\n",
       "      <td>2007-09-12</td>\n",
       "      <td>1</td>\n",
       "    </tr>\n",
       "    <tr>\n",
       "      <th>3062</th>\n",
       "      <td>2007-09-12</td>\n",
       "      <td>1</td>\n",
       "    </tr>\n",
       "    <tr>\n",
       "      <th>3196</th>\n",
       "      <td>2007-09-18</td>\n",
       "      <td>1</td>\n",
       "    </tr>\n",
       "    <tr>\n",
       "      <th>3197</th>\n",
       "      <td>2007-09-18</td>\n",
       "      <td>1</td>\n",
       "    </tr>\n",
       "    <tr>\n",
       "      <th>3412</th>\n",
       "      <td>2007-09-24</td>\n",
       "      <td>1</td>\n",
       "    </tr>\n",
       "    <tr>\n",
       "      <th>3603</th>\n",
       "      <td>2007-10-04</td>\n",
       "      <td>1</td>\n",
       "    </tr>\n",
       "    <tr>\n",
       "      <th>3604</th>\n",
       "      <td>2007-10-04</td>\n",
       "      <td>1</td>\n",
       "    </tr>\n",
       "  </tbody>\n",
       "</table>\n",
       "</div>"
      ],
      "text/plain": [
       "           Date  new_pip\n",
       "2    2007-05-29        0\n",
       "88   2007-06-26        1\n",
       "89   2007-06-26        0\n",
       "203  2007-07-02        1\n",
       "204  2007-07-02        0\n",
       "278  2007-07-11        1\n",
       "430  2007-07-18        0\n",
       "431  2007-07-18        1\n",
       "696  2007-07-27        1\n",
       "782  2007-08-01        1\n",
       "1472 2007-08-07        1\n",
       "1473 2007-08-07        1\n",
       "1776 2007-08-15        1\n",
       "2522 2007-08-24        1\n",
       "2828 2007-09-04        1\n",
       "2829 2007-09-04        1\n",
       "3061 2007-09-12        1\n",
       "3062 2007-09-12        1\n",
       "3196 2007-09-18        1\n",
       "3197 2007-09-18        1\n",
       "3412 2007-09-24        1\n",
       "3603 2007-10-04        1\n",
       "3604 2007-10-04        1"
      ]
     },
     "execution_count": 15,
     "metadata": {},
     "output_type": "execute_result"
    }
   ],
   "source": [
    "train_traps.loc[train_traps['Address'] == '6200 North Mandell Avenue, Chicago, IL 60646, USA',\n",
    "                ['Date', 'new_pip']]"
   ]
  },
  {
   "cell_type": "markdown",
   "metadata": {},
   "source": [
    "## Combining Weather and Train"
   ]
  },
  {
   "cell_type": "markdown",
   "metadata": {},
   "source": [
    "I add in the nearer station here (O'Hare or Midway). I can't now find the reference, but someone on Kaggle pointed out that it's useful to convert the longitude measures. Since Chicago is significantly far north, a degree of longitude there represents significantly less distance there than does a degree of latitude."
   ]
  },
  {
   "cell_type": "code",
   "execution_count": 200,
   "metadata": {},
   "outputs": [],
   "source": [
    "ord_lat = 41.995\n",
    "ord_long = -87.933"
   ]
  },
  {
   "cell_type": "code",
   "execution_count": 201,
   "metadata": {},
   "outputs": [],
   "source": [
    "mdw_lat = 41.786\n",
    "mdw_long = -87.752"
   ]
  },
  {
   "cell_type": "code",
   "execution_count": 202,
   "metadata": {},
   "outputs": [],
   "source": [
    "# Here's the fancy footwork: Convert latitude to radians, take\n",
    "# the cosine of that angle, and then multiply the difference in\n",
    "# longitudes by that value.\n",
    "\n",
    "train_traps['Station'] = np.where((train_traps['Latitude'] - ord_lat) ** 2 + (np.cos(np.pi / 180 * train_traps['Latitude']) * (train_traps['Longitude'] - ord_long)) ** 2 < (train_traps['Latitude'] - mdw_lat) ** 2 + (np.cos(np.pi / 180 * train_traps['Latitude']) * (train_traps['Longitude'] - ord_long)) ** 2, 1, 2)"
   ]
  },
  {
   "cell_type": "code",
   "execution_count": 203,
   "metadata": {},
   "outputs": [],
   "source": [
    "train_dates = list(train_traps['Date'])"
   ]
  },
  {
   "cell_type": "code",
   "execution_count": 204,
   "metadata": {},
   "outputs": [],
   "source": [
    "weather['Date'] = pd.to_datetime(weather['Date'])"
   ]
  },
  {
   "cell_type": "code",
   "execution_count": 205,
   "metadata": {},
   "outputs": [],
   "source": [
    "match_dates = list(set(train_traps['Date']).intersection(set(weather['Date'])))"
   ]
  },
  {
   "cell_type": "code",
   "execution_count": 206,
   "metadata": {},
   "outputs": [
    {
     "data": {
      "text/plain": [
       "95"
      ]
     },
     "execution_count": 206,
     "metadata": {},
     "output_type": "execute_result"
    }
   ],
   "source": [
    "len(match_dates)"
   ]
  },
  {
   "cell_type": "code",
   "execution_count": 207,
   "metadata": {},
   "outputs": [
    {
     "data": {
      "text/plain": [
       "95"
      ]
     },
     "execution_count": 207,
     "metadata": {},
     "output_type": "execute_result"
    }
   ],
   "source": [
    "train_traps['Date'].unique().shape[0]"
   ]
  },
  {
   "cell_type": "code",
   "execution_count": 208,
   "metadata": {},
   "outputs": [],
   "source": [
    "# Since we now have both 'Date' and 'Station' in our training data,\n",
    "# we can merge the two data frames on those columns.\n",
    "\n",
    "train_weath = pd.merge(train_traps, weather, how = 'left', on = ['Date', 'Station'])"
   ]
  },
  {
   "cell_type": "code",
   "execution_count": 175,
   "metadata": {},
   "outputs": [
    {
     "data": {
      "text/html": [
       "<div>\n",
       "<style scoped>\n",
       "    .dataframe tbody tr th:only-of-type {\n",
       "        vertical-align: middle;\n",
       "    }\n",
       "\n",
       "    .dataframe tbody tr th {\n",
       "        vertical-align: top;\n",
       "    }\n",
       "\n",
       "    .dataframe thead th {\n",
       "        text-align: right;\n",
       "    }\n",
       "</style>\n",
       "<table border=\"1\" class=\"dataframe\">\n",
       "  <thead>\n",
       "    <tr style=\"text-align: right;\">\n",
       "      <th></th>\n",
       "      <th>Date</th>\n",
       "      <th>Address</th>\n",
       "      <th>Block</th>\n",
       "      <th>Street</th>\n",
       "      <th>Trap</th>\n",
       "      <th>AddressNumberAndStreet</th>\n",
       "      <th>Latitude</th>\n",
       "      <th>Longitude</th>\n",
       "      <th>AddressAccuracy</th>\n",
       "      <th>NumMosquitos</th>\n",
       "      <th>...</th>\n",
       "      <th>CodeSum</th>\n",
       "      <th>Depth</th>\n",
       "      <th>Water1</th>\n",
       "      <th>SnowFall</th>\n",
       "      <th>PrecipTotal</th>\n",
       "      <th>StnPressure</th>\n",
       "      <th>SeaLevel</th>\n",
       "      <th>ResultSpeed</th>\n",
       "      <th>ResultDir</th>\n",
       "      <th>AvgSpeed</th>\n",
       "    </tr>\n",
       "  </thead>\n",
       "  <tbody>\n",
       "    <tr>\n",
       "      <th>7</th>\n",
       "      <td>2007-05-29</td>\n",
       "      <td>1100 Roosevelt Road, Chicago, IL 60608, USA</td>\n",
       "      <td>11</td>\n",
       "      <td>W ROOSEVELT</td>\n",
       "      <td>T048</td>\n",
       "      <td>1100  W ROOSEVELT, Chicago, IL</td>\n",
       "      <td>41.867108</td>\n",
       "      <td>-87.654224</td>\n",
       "      <td>8</td>\n",
       "      <td>1</td>\n",
       "      <td>...</td>\n",
       "      <td>BR HZ</td>\n",
       "      <td>M</td>\n",
       "      <td>M</td>\n",
       "      <td>M</td>\n",
       "      <td>0.00</td>\n",
       "      <td>29.44</td>\n",
       "      <td>30.09</td>\n",
       "      <td>5.8</td>\n",
       "      <td>16</td>\n",
       "      <td>7.4</td>\n",
       "    </tr>\n",
       "    <tr>\n",
       "      <th>8</th>\n",
       "      <td>2007-05-29</td>\n",
       "      <td>1100 Roosevelt Road, Chicago, IL 60608, USA</td>\n",
       "      <td>11</td>\n",
       "      <td>W ROOSEVELT</td>\n",
       "      <td>T048</td>\n",
       "      <td>1100  W ROOSEVELT, Chicago, IL</td>\n",
       "      <td>41.867108</td>\n",
       "      <td>-87.654224</td>\n",
       "      <td>8</td>\n",
       "      <td>2</td>\n",
       "      <td>...</td>\n",
       "      <td>BR HZ</td>\n",
       "      <td>M</td>\n",
       "      <td>M</td>\n",
       "      <td>M</td>\n",
       "      <td>0.00</td>\n",
       "      <td>29.44</td>\n",
       "      <td>30.09</td>\n",
       "      <td>5.8</td>\n",
       "      <td>16</td>\n",
       "      <td>7.4</td>\n",
       "    </tr>\n",
       "    <tr>\n",
       "      <th>13</th>\n",
       "      <td>2007-05-29</td>\n",
       "      <td>2200 West 113th Street, Chicago, IL 60643, USA</td>\n",
       "      <td>22</td>\n",
       "      <td>W 113TH ST</td>\n",
       "      <td>T086</td>\n",
       "      <td>2200  W 113TH ST, Chicago, IL</td>\n",
       "      <td>41.688324</td>\n",
       "      <td>-87.676709</td>\n",
       "      <td>8</td>\n",
       "      <td>1</td>\n",
       "      <td>...</td>\n",
       "      <td>BR HZ</td>\n",
       "      <td>M</td>\n",
       "      <td>M</td>\n",
       "      <td>M</td>\n",
       "      <td>0.00</td>\n",
       "      <td>29.44</td>\n",
       "      <td>30.09</td>\n",
       "      <td>5.8</td>\n",
       "      <td>16</td>\n",
       "      <td>7.4</td>\n",
       "    </tr>\n",
       "    <tr>\n",
       "      <th>14</th>\n",
       "      <td>2007-05-29</td>\n",
       "      <td>2200 West 113th Street, Chicago, IL 60643, USA</td>\n",
       "      <td>22</td>\n",
       "      <td>W 113TH ST</td>\n",
       "      <td>T086</td>\n",
       "      <td>2200  W 113TH ST, Chicago, IL</td>\n",
       "      <td>41.688324</td>\n",
       "      <td>-87.676709</td>\n",
       "      <td>8</td>\n",
       "      <td>1</td>\n",
       "      <td>...</td>\n",
       "      <td>BR HZ</td>\n",
       "      <td>M</td>\n",
       "      <td>M</td>\n",
       "      <td>M</td>\n",
       "      <td>0.00</td>\n",
       "      <td>29.44</td>\n",
       "      <td>30.09</td>\n",
       "      <td>5.8</td>\n",
       "      <td>16</td>\n",
       "      <td>7.4</td>\n",
       "    </tr>\n",
       "    <tr>\n",
       "      <th>15</th>\n",
       "      <td>2007-05-29</td>\n",
       "      <td>1100 South Peoria Street, Chicago, IL 60608, USA</td>\n",
       "      <td>11</td>\n",
       "      <td>S PEORIA ST</td>\n",
       "      <td>T091</td>\n",
       "      <td>1100  S PEORIA ST, Chicago, IL</td>\n",
       "      <td>41.862292</td>\n",
       "      <td>-87.648860</td>\n",
       "      <td>8</td>\n",
       "      <td>1</td>\n",
       "      <td>...</td>\n",
       "      <td>BR HZ</td>\n",
       "      <td>M</td>\n",
       "      <td>M</td>\n",
       "      <td>M</td>\n",
       "      <td>0.00</td>\n",
       "      <td>29.44</td>\n",
       "      <td>30.09</td>\n",
       "      <td>5.8</td>\n",
       "      <td>16</td>\n",
       "      <td>7.4</td>\n",
       "    </tr>\n",
       "    <tr>\n",
       "      <th>16</th>\n",
       "      <td>2007-05-29</td>\n",
       "      <td>1700 West 95th Street, Chicago, IL 60643, USA</td>\n",
       "      <td>17</td>\n",
       "      <td>W 95TH ST</td>\n",
       "      <td>T094</td>\n",
       "      <td>1700  W 95TH ST, Chicago, IL</td>\n",
       "      <td>41.720848</td>\n",
       "      <td>-87.666014</td>\n",
       "      <td>9</td>\n",
       "      <td>3</td>\n",
       "      <td>...</td>\n",
       "      <td>BR HZ</td>\n",
       "      <td>M</td>\n",
       "      <td>M</td>\n",
       "      <td>M</td>\n",
       "      <td>0.00</td>\n",
       "      <td>29.44</td>\n",
       "      <td>30.09</td>\n",
       "      <td>5.8</td>\n",
       "      <td>16</td>\n",
       "      <td>7.4</td>\n",
       "    </tr>\n",
       "    <tr>\n",
       "      <th>17</th>\n",
       "      <td>2007-05-29</td>\n",
       "      <td>2200 West 89th Street, Chicago, IL 60643, USA</td>\n",
       "      <td>22</td>\n",
       "      <td>W 89TH ST</td>\n",
       "      <td>T096</td>\n",
       "      <td>2200  W 89TH ST, Chicago, IL</td>\n",
       "      <td>41.731922</td>\n",
       "      <td>-87.677512</td>\n",
       "      <td>8</td>\n",
       "      <td>5</td>\n",
       "      <td>...</td>\n",
       "      <td>BR HZ</td>\n",
       "      <td>M</td>\n",
       "      <td>M</td>\n",
       "      <td>M</td>\n",
       "      <td>0.00</td>\n",
       "      <td>29.44</td>\n",
       "      <td>30.09</td>\n",
       "      <td>5.8</td>\n",
       "      <td>16</td>\n",
       "      <td>7.4</td>\n",
       "    </tr>\n",
       "    <tr>\n",
       "      <th>18</th>\n",
       "      <td>2007-05-29</td>\n",
       "      <td>2200 West 89th Street, Chicago, IL 60643, USA</td>\n",
       "      <td>22</td>\n",
       "      <td>W 89TH ST</td>\n",
       "      <td>T096</td>\n",
       "      <td>2200  W 89TH ST, Chicago, IL</td>\n",
       "      <td>41.731922</td>\n",
       "      <td>-87.677512</td>\n",
       "      <td>8</td>\n",
       "      <td>1</td>\n",
       "      <td>...</td>\n",
       "      <td>BR HZ</td>\n",
       "      <td>M</td>\n",
       "      <td>M</td>\n",
       "      <td>M</td>\n",
       "      <td>0.00</td>\n",
       "      <td>29.44</td>\n",
       "      <td>30.09</td>\n",
       "      <td>5.8</td>\n",
       "      <td>16</td>\n",
       "      <td>7.4</td>\n",
       "    </tr>\n",
       "    <tr>\n",
       "      <th>24</th>\n",
       "      <td>2007-05-29</td>\n",
       "      <td>8900 South Carpenter Street, Chicago, IL 60620...</td>\n",
       "      <td>89</td>\n",
       "      <td>S CARPENTER ST</td>\n",
       "      <td>T159</td>\n",
       "      <td>8900  S CARPENTER ST, Chicago, IL</td>\n",
       "      <td>41.732984</td>\n",
       "      <td>-87.649642</td>\n",
       "      <td>8</td>\n",
       "      <td>1</td>\n",
       "      <td>...</td>\n",
       "      <td>BR HZ</td>\n",
       "      <td>M</td>\n",
       "      <td>M</td>\n",
       "      <td>M</td>\n",
       "      <td>0.00</td>\n",
       "      <td>29.44</td>\n",
       "      <td>30.09</td>\n",
       "      <td>5.8</td>\n",
       "      <td>16</td>\n",
       "      <td>7.4</td>\n",
       "    </tr>\n",
       "  </tbody>\n",
       "</table>\n",
       "<p>9 rows × 174 columns</p>\n",
       "</div>"
      ],
      "text/plain": [
       "         Date                                            Address  Block  \\\n",
       "7  2007-05-29        1100 Roosevelt Road, Chicago, IL 60608, USA     11   \n",
       "8  2007-05-29        1100 Roosevelt Road, Chicago, IL 60608, USA     11   \n",
       "13 2007-05-29     2200 West 113th Street, Chicago, IL 60643, USA     22   \n",
       "14 2007-05-29     2200 West 113th Street, Chicago, IL 60643, USA     22   \n",
       "15 2007-05-29   1100 South Peoria Street, Chicago, IL 60608, USA     11   \n",
       "16 2007-05-29      1700 West 95th Street, Chicago, IL 60643, USA     17   \n",
       "17 2007-05-29      2200 West 89th Street, Chicago, IL 60643, USA     22   \n",
       "18 2007-05-29      2200 West 89th Street, Chicago, IL 60643, USA     22   \n",
       "24 2007-05-29  8900 South Carpenter Street, Chicago, IL 60620...     89   \n",
       "\n",
       "             Street  Trap             AddressNumberAndStreet   Latitude  \\\n",
       "7       W ROOSEVELT  T048     1100  W ROOSEVELT, Chicago, IL  41.867108   \n",
       "8       W ROOSEVELT  T048     1100  W ROOSEVELT, Chicago, IL  41.867108   \n",
       "13       W 113TH ST  T086      2200  W 113TH ST, Chicago, IL  41.688324   \n",
       "14       W 113TH ST  T086      2200  W 113TH ST, Chicago, IL  41.688324   \n",
       "15      S PEORIA ST  T091     1100  S PEORIA ST, Chicago, IL  41.862292   \n",
       "16        W 95TH ST  T094       1700  W 95TH ST, Chicago, IL  41.720848   \n",
       "17        W 89TH ST  T096       2200  W 89TH ST, Chicago, IL  41.731922   \n",
       "18        W 89TH ST  T096       2200  W 89TH ST, Chicago, IL  41.731922   \n",
       "24   S CARPENTER ST  T159  8900  S CARPENTER ST, Chicago, IL  41.732984   \n",
       "\n",
       "    Longitude  AddressAccuracy  NumMosquitos    ...     CodeSum  Depth  \\\n",
       "7  -87.654224                8             1    ...       BR HZ      M   \n",
       "8  -87.654224                8             2    ...       BR HZ      M   \n",
       "13 -87.676709                8             1    ...       BR HZ      M   \n",
       "14 -87.676709                8             1    ...       BR HZ      M   \n",
       "15 -87.648860                8             1    ...       BR HZ      M   \n",
       "16 -87.666014                9             3    ...       BR HZ      M   \n",
       "17 -87.677512                8             5    ...       BR HZ      M   \n",
       "18 -87.677512                8             1    ...       BR HZ      M   \n",
       "24 -87.649642                8             1    ...       BR HZ      M   \n",
       "\n",
       "    Water1  SnowFall  PrecipTotal  StnPressure  SeaLevel  ResultSpeed  \\\n",
       "7        M         M         0.00        29.44     30.09          5.8   \n",
       "8        M         M         0.00        29.44     30.09          5.8   \n",
       "13       M         M         0.00        29.44     30.09          5.8   \n",
       "14       M         M         0.00        29.44     30.09          5.8   \n",
       "15       M         M         0.00        29.44     30.09          5.8   \n",
       "16       M         M         0.00        29.44     30.09          5.8   \n",
       "17       M         M         0.00        29.44     30.09          5.8   \n",
       "18       M         M         0.00        29.44     30.09          5.8   \n",
       "24       M         M         0.00        29.44     30.09          5.8   \n",
       "\n",
       "    ResultDir  AvgSpeed  \n",
       "7          16       7.4  \n",
       "8          16       7.4  \n",
       "13         16       7.4  \n",
       "14         16       7.4  \n",
       "15         16       7.4  \n",
       "16         16       7.4  \n",
       "17         16       7.4  \n",
       "18         16       7.4  \n",
       "24         16       7.4  \n",
       "\n",
       "[9 rows x 174 columns]"
      ]
     },
     "execution_count": 175,
     "metadata": {},
     "output_type": "execute_result"
    }
   ],
   "source": [
    "train_weath.loc[(train_weath['Station'] == 2) & (train_weath['Date'] == pd.to_datetime('2007-05-29'))]"
   ]
  },
  {
   "cell_type": "code",
   "execution_count": 176,
   "metadata": {},
   "outputs": [
    {
     "data": {
      "text/html": [
       "<div>\n",
       "<style scoped>\n",
       "    .dataframe tbody tr th:only-of-type {\n",
       "        vertical-align: middle;\n",
       "    }\n",
       "\n",
       "    .dataframe tbody tr th {\n",
       "        vertical-align: top;\n",
       "    }\n",
       "\n",
       "    .dataframe thead th {\n",
       "        text-align: right;\n",
       "    }\n",
       "</style>\n",
       "<table border=\"1\" class=\"dataframe\">\n",
       "  <thead>\n",
       "    <tr style=\"text-align: right;\">\n",
       "      <th></th>\n",
       "      <th>Station</th>\n",
       "      <th>Date</th>\n",
       "      <th>Tmax</th>\n",
       "      <th>Tmin</th>\n",
       "      <th>Tavg</th>\n",
       "      <th>Depart</th>\n",
       "      <th>DewPoint</th>\n",
       "      <th>WetBulb</th>\n",
       "      <th>Heat</th>\n",
       "      <th>Cool</th>\n",
       "      <th>...</th>\n",
       "      <th>CodeSum</th>\n",
       "      <th>Depth</th>\n",
       "      <th>Water1</th>\n",
       "      <th>SnowFall</th>\n",
       "      <th>PrecipTotal</th>\n",
       "      <th>StnPressure</th>\n",
       "      <th>SeaLevel</th>\n",
       "      <th>ResultSpeed</th>\n",
       "      <th>ResultDir</th>\n",
       "      <th>AvgSpeed</th>\n",
       "    </tr>\n",
       "  </thead>\n",
       "  <tbody>\n",
       "    <tr>\n",
       "      <th>56</th>\n",
       "      <td>1</td>\n",
       "      <td>2007-05-29</td>\n",
       "      <td>88</td>\n",
       "      <td>60</td>\n",
       "      <td>74</td>\n",
       "      <td>10</td>\n",
       "      <td>58</td>\n",
       "      <td>65</td>\n",
       "      <td>0</td>\n",
       "      <td>9</td>\n",
       "      <td>...</td>\n",
       "      <td>BR HZ</td>\n",
       "      <td>0</td>\n",
       "      <td>M</td>\n",
       "      <td>0.0</td>\n",
       "      <td>0.00</td>\n",
       "      <td>29.39</td>\n",
       "      <td>30.11</td>\n",
       "      <td>5.8</td>\n",
       "      <td>18</td>\n",
       "      <td>6.5</td>\n",
       "    </tr>\n",
       "    <tr>\n",
       "      <th>57</th>\n",
       "      <td>2</td>\n",
       "      <td>2007-05-29</td>\n",
       "      <td>88</td>\n",
       "      <td>65</td>\n",
       "      <td>77</td>\n",
       "      <td>M</td>\n",
       "      <td>59</td>\n",
       "      <td>66</td>\n",
       "      <td>0</td>\n",
       "      <td>12</td>\n",
       "      <td>...</td>\n",
       "      <td>BR HZ</td>\n",
       "      <td>M</td>\n",
       "      <td>M</td>\n",
       "      <td>M</td>\n",
       "      <td>0.00</td>\n",
       "      <td>29.44</td>\n",
       "      <td>30.09</td>\n",
       "      <td>5.8</td>\n",
       "      <td>16</td>\n",
       "      <td>7.4</td>\n",
       "    </tr>\n",
       "  </tbody>\n",
       "</table>\n",
       "<p>2 rows × 22 columns</p>\n",
       "</div>"
      ],
      "text/plain": [
       "    Station       Date  Tmax  Tmin Tavg Depart  DewPoint WetBulb Heat Cool  \\\n",
       "56        1 2007-05-29    88    60   74     10        58      65    0    9   \n",
       "57        2 2007-05-29    88    65   77      M        59      66    0   12   \n",
       "\n",
       "      ...    CodeSum Depth Water1 SnowFall PrecipTotal StnPressure SeaLevel  \\\n",
       "56    ...      BR HZ     0      M      0.0        0.00       29.39    30.11   \n",
       "57    ...      BR HZ     M      M        M        0.00       29.44    30.09   \n",
       "\n",
       "   ResultSpeed ResultDir  AvgSpeed  \n",
       "56         5.8        18       6.5  \n",
       "57         5.8        16       7.4  \n",
       "\n",
       "[2 rows x 22 columns]"
      ]
     },
     "execution_count": 176,
     "metadata": {},
     "output_type": "execute_result"
    }
   ],
   "source": [
    "weather.loc[weather['Date'] == pd.to_datetime('2007-05-29')]"
   ]
  },
  {
   "cell_type": "code",
   "execution_count": 27,
   "metadata": {},
   "outputs": [
    {
     "data": {
      "text/plain": [
       "Block               0.004877\n",
       "Latitude            0.028697\n",
       "Longitude          -0.060345\n",
       "AddressAccuracy     0.008064\n",
       "NumMosquitos        0.196820\n",
       "WnvPresent          1.000000\n",
       "CULEX ERRATICUS    -0.002295\n",
       "CULEX SALINARIUS   -0.021373\n",
       "CULEX TARSALIS     -0.005624\n",
       "CULEX TERRITANS    -0.034566\n",
       "new_pip             0.104574\n",
       "new_rest           -0.077339\n",
       "T001               -0.008896\n",
       "T002                0.026936\n",
       "T003                0.030296\n",
       "T004               -0.007956\n",
       "T005                0.014815\n",
       "T006                0.024517\n",
       "T007               -0.011020\n",
       "T008                0.010127\n",
       "T009                0.013273\n",
       "T011                0.015371\n",
       "T012               -0.006468\n",
       "T013                0.019605\n",
       "T014                0.019417\n",
       "T015                0.016038\n",
       "T016                0.019122\n",
       "T017               -0.020347\n",
       "T018               -0.018273\n",
       "T019               -0.011020\n",
       "                      ...   \n",
       "T212               -0.017778\n",
       "T215                0.004184\n",
       "T218               -0.009604\n",
       "T219               -0.010529\n",
       "T220               -0.005062\n",
       "T221                0.012997\n",
       "T222               -0.012164\n",
       "T223                0.020906\n",
       "T224               -0.010939\n",
       "T225                0.024259\n",
       "T226               -0.000192\n",
       "T227               -0.000452\n",
       "T228                0.015321\n",
       "T229               -0.006495\n",
       "T230                0.019554\n",
       "T231                0.012161\n",
       "T232               -0.003861\n",
       "T233                0.027159\n",
       "T235                0.020895\n",
       "T236               -0.005576\n",
       "T237               -0.003976\n",
       "T238               -0.006075\n",
       "T900                0.044220\n",
       "T903                0.009896\n",
       "Station            -0.040617\n",
       "Tmax                0.048352\n",
       "Tmin                0.067305\n",
       "DewPoint            0.086935\n",
       "ResultSpeed        -0.045420\n",
       "ResultDir           0.001707\n",
       "Name: WnvPresent, Length: 154, dtype: float64"
      ]
     },
     "execution_count": 27,
     "metadata": {},
     "output_type": "execute_result"
    }
   ],
   "source": [
    "# Let's look at weather correlations with the virus.\n",
    "train_weath.corr()['WnvPresent']"
   ]
  },
  {
   "cell_type": "code",
   "execution_count": 28,
   "metadata": {},
   "outputs": [
    {
     "data": {
      "text/plain": [
       "Station                 int64\n",
       "Date           datetime64[ns]\n",
       "Tmax                    int64\n",
       "Tmin                    int64\n",
       "Tavg                   object\n",
       "Depart                 object\n",
       "DewPoint                int64\n",
       "WetBulb                object\n",
       "Heat                   object\n",
       "Cool                   object\n",
       "Sunrise                object\n",
       "Sunset                 object\n",
       "CodeSum                object\n",
       "Depth                  object\n",
       "Water1                 object\n",
       "SnowFall               object\n",
       "PrecipTotal            object\n",
       "StnPressure            object\n",
       "SeaLevel               object\n",
       "ResultSpeed           float64\n",
       "ResultDir               int64\n",
       "AvgSpeed               object\n",
       "dtype: object"
      ]
     },
     "execution_count": 28,
     "metadata": {},
     "output_type": "execute_result"
    }
   ],
   "source": [
    "weather.dtypes"
   ]
  },
  {
   "cell_type": "code",
   "execution_count": 209,
   "metadata": {},
   "outputs": [],
   "source": [
    "# Let's make Tavg and integer.\n",
    "train_weath['Tavg_int'] = train_weath['Tavg'].map(lambda x: int(x))"
   ]
  },
  {
   "cell_type": "markdown",
   "metadata": {},
   "source": [
    "Many of the weather data have 'M's instead of NaNs ('M' for \"missing\"). Since NaNs are easier to work with, let's replace them, at least where they aren't so numerous as to make the feature irrelevant."
   ]
  },
  {
   "cell_type": "code",
   "execution_count": 23,
   "metadata": {},
   "outputs": [
    {
     "data": {
      "text/plain": [
       "5933"
      ]
     },
     "execution_count": 23,
     "metadata": {},
     "output_type": "execute_result"
    }
   ],
   "source": [
    "(train_weath['Depart'] == 'M').sum()"
   ]
  },
  {
   "cell_type": "code",
   "execution_count": 210,
   "metadata": {},
   "outputs": [
    {
     "data": {
      "text/plain": [
       "49"
      ]
     },
     "execution_count": 210,
     "metadata": {},
     "output_type": "execute_result"
    }
   ],
   "source": [
    "(train_weath['WetBulb'] == 'M').sum()"
   ]
  },
  {
   "cell_type": "code",
   "execution_count": 211,
   "metadata": {},
   "outputs": [],
   "source": [
    "train_weath['WetBulb'].replace('M', np.nan, inplace = True)"
   ]
  },
  {
   "cell_type": "code",
   "execution_count": 26,
   "metadata": {},
   "outputs": [
    {
     "data": {
      "text/plain": [
       "49"
      ]
     },
     "execution_count": 26,
     "metadata": {},
     "output_type": "execute_result"
    }
   ],
   "source": [
    "train_weath['WetBulb'].isnull().sum()"
   ]
  },
  {
   "cell_type": "code",
   "execution_count": 212,
   "metadata": {},
   "outputs": [],
   "source": [
    "train_weath['WetBulb'] = train_weath['WetBulb'].map(lambda x: int(x), na_action = 'ignore')"
   ]
  },
  {
   "cell_type": "code",
   "execution_count": 28,
   "metadata": {},
   "outputs": [
    {
     "data": {
      "text/plain": [
       "0"
      ]
     },
     "execution_count": 28,
     "metadata": {},
     "output_type": "execute_result"
    }
   ],
   "source": [
    "(train_weath['Heat'] == 'M').sum()"
   ]
  },
  {
   "cell_type": "code",
   "execution_count": 21,
   "metadata": {},
   "outputs": [],
   "source": [
    "train_weath['Heat'] = train_weath['Heat'].map(lambda x: int(x))"
   ]
  },
  {
   "cell_type": "code",
   "execution_count": 30,
   "metadata": {},
   "outputs": [
    {
     "data": {
      "text/plain": [
       "0"
      ]
     },
     "execution_count": 30,
     "metadata": {},
     "output_type": "execute_result"
    }
   ],
   "source": [
    "(train_weath['Cool'] == 'M').sum()"
   ]
  },
  {
   "cell_type": "code",
   "execution_count": 22,
   "metadata": {},
   "outputs": [],
   "source": [
    "train_weath['Cool'] = train_weath['Cool'].map(lambda x: int(x))"
   ]
  },
  {
   "cell_type": "code",
   "execution_count": 32,
   "metadata": {
    "scrolled": true
   },
   "outputs": [
    {
     "data": {
      "text/plain": [
       "-       5933\n",
       "0416     332\n",
       "0445     265\n",
       "0417     201\n",
       "0459     200\n",
       "0528     185\n",
       "0438     165\n",
       "0419     159\n",
       "0418     150\n",
       "0451     146\n",
       "0426     143\n",
       "0440      90\n",
       "0433      89\n",
       "0505      85\n",
       "0429      85\n",
       "0506      82\n",
       "0427      81\n",
       "0552      81\n",
       "0514      79\n",
       "0509      78\n",
       "0431      78\n",
       "0452      76\n",
       "0442      74\n",
       "0522      74\n",
       "0432      71\n",
       "0541      70\n",
       "0535      70\n",
       "0542      69\n",
       "0533      68\n",
       "0444      65\n",
       "0449      63\n",
       "0520      63\n",
       "0536      60\n",
       "0456      60\n",
       "0532      58\n",
       "0424      58\n",
       "0503      57\n",
       "0437      57\n",
       "0530      57\n",
       "0540      57\n",
       "0423      55\n",
       "0510      53\n",
       "0425      50\n",
       "0457      49\n",
       "0511      46\n",
       "0420      46\n",
       "0421      39\n",
       "0547      39\n",
       "0517      38\n",
       "0543      37\n",
       "0548      27\n",
       "0512      25\n",
       "0518      25\n",
       "0428      20\n",
       "0519      15\n",
       "0453       3\n",
       "0446       3\n",
       "0557       1\n",
       "0521       1\n",
       "Name: Sunrise, dtype: int64"
      ]
     },
     "execution_count": 32,
     "metadata": {},
     "output_type": "execute_result"
    }
   ],
   "source": [
    "train_weath['Sunrise'].value_counts()"
   ]
  },
  {
   "cell_type": "code",
   "execution_count": 40,
   "metadata": {},
   "outputs": [
    {
     "data": {
      "text/plain": [
       "-       5933\n",
       "1931     397\n",
       "1928     308\n",
       "1911     265\n",
       "1854     200\n",
       "1809     185\n",
       "1929     165\n",
       "1918     165\n",
       "1923     159\n",
       "1930     153\n",
       "1904     146\n",
       "1926     130\n",
       "1917     106\n",
       "1924     106\n",
       "1845      85\n",
       "1843      82\n",
       "1729      81\n",
       "1832      79\n",
       "1925      78\n",
       "1840      78\n",
       "1903      76\n",
       "1819      74\n",
       "1915      74\n",
       "1756      70\n",
       "1746      70\n",
       "1744      69\n",
       "1758      68\n",
       "1927      68\n",
       "1913      65\n",
       "1907      63\n",
       "1822      63\n",
       "1755      60\n",
       "1858      60\n",
       "1760      58\n",
       "1848      57\n",
       "1748      57\n",
       "1919      57\n",
       "1805      57\n",
       "1839      53\n",
       "1856      49\n",
       "1837      46\n",
       "1920      40\n",
       "1735      39\n",
       "1827      38\n",
       "1742      37\n",
       "1734      27\n",
       "1835      25\n",
       "1826      25\n",
       "1916      23\n",
       "1824      15\n",
       "1921      14\n",
       "1910       3\n",
       "1902       3\n",
       "1821       1\n",
       "1720       1\n",
       "Name: Sunset, dtype: int64"
      ]
     },
     "execution_count": 40,
     "metadata": {},
     "output_type": "execute_result"
    }
   ],
   "source": [
    "train_weath['Sunset'].value_counts()"
   ]
  },
  {
   "cell_type": "code",
   "execution_count": 41,
   "metadata": {},
   "outputs": [
    {
     "data": {
      "text/plain": [
       "                         5834\n",
       "RA                        695\n",
       "RA BR                     615\n",
       "BR                        387\n",
       "HZ                        365\n",
       "TSRA RA BR                346\n",
       "TS TSRA RA BR             319\n",
       "BR HZ                     277\n",
       "RA BR HZ                  227\n",
       "TSRA RA                   224\n",
       "TSRA BR                   134\n",
       "RA DZ BR                  125\n",
       "VCTS                       98\n",
       "TS                         95\n",
       "TSRA RA DZ BR HZ           93\n",
       "TSRA                       88\n",
       "TS BR                      87\n",
       "TSRA RA BR VCTS            71\n",
       "FG BR HZ                   64\n",
       "TS TSRA RA VCTS            64\n",
       "TS TSRA RA BR HZ VCTS      58\n",
       "TS TSRA RA FG BR HZ        56\n",
       "TSRA HZ                    50\n",
       "TSRA BR HZ VCTS            45\n",
       "TS TSRA BR                 45\n",
       "TSRA BR HZ                 23\n",
       "TS TSRA BR HZ              17\n",
       "DZ BR                       2\n",
       "TS TSRA RA                  2\n",
       "Name: CodeSum, dtype: int64"
      ]
     },
     "execution_count": 41,
     "metadata": {},
     "output_type": "execute_result"
    }
   ],
   "source": [
    "train_weath['CodeSum'].value_counts()"
   ]
  },
  {
   "cell_type": "code",
   "execution_count": 42,
   "metadata": {},
   "outputs": [
    {
     "data": {
      "text/plain": [
       "M    5933\n",
       "0    4573\n",
       "Name: Depth, dtype: int64"
      ]
     },
     "execution_count": 42,
     "metadata": {},
     "output_type": "execute_result"
    }
   ],
   "source": [
    "train_weath['Depth'].value_counts()"
   ]
  },
  {
   "cell_type": "code",
   "execution_count": 43,
   "metadata": {},
   "outputs": [
    {
     "data": {
      "text/plain": [
       "M    10506\n",
       "Name: Water1, dtype: int64"
      ]
     },
     "execution_count": 43,
     "metadata": {},
     "output_type": "execute_result"
    }
   ],
   "source": [
    "train_weath['Water1'].value_counts()"
   ]
  },
  {
   "cell_type": "code",
   "execution_count": 44,
   "metadata": {},
   "outputs": [
    {
     "data": {
      "text/plain": [
       "M      5933\n",
       "0.0    4478\n",
       "  T      95\n",
       "Name: SnowFall, dtype: int64"
      ]
     },
     "execution_count": 44,
     "metadata": {},
     "output_type": "execute_result"
    }
   ],
   "source": [
    "train_weath['SnowFall'].value_counts()"
   ]
  },
  {
   "cell_type": "code",
   "execution_count": 45,
   "metadata": {},
   "outputs": [
    {
     "data": {
      "text/plain": [
       "0.00    5962\n",
       "  T      867\n",
       "0.23     264\n",
       "0.01     259\n",
       "0.06     218\n",
       "0.09     182\n",
       "0.16     166\n",
       "0.83     163\n",
       "0.36     151\n",
       "0.02     141\n",
       "0.88     137\n",
       "0.84     117\n",
       "0.03     114\n",
       "0.20     108\n",
       "0.08     100\n",
       "0.92     100\n",
       "0.58      87\n",
       "1.31      86\n",
       "0.12      83\n",
       "0.17      79\n",
       "0.24      78\n",
       "0.39      76\n",
       "0.70      74\n",
       "1.55      71\n",
       "0.13      70\n",
       "0.11      63\n",
       "0.33      60\n",
       "0.59      58\n",
       "0.50      58\n",
       "0.14      57\n",
       "0.79      53\n",
       "0.87      48\n",
       "3.97      45\n",
       "0.52      45\n",
       "0.42      38\n",
       "0.19      36\n",
       "1.19      29\n",
       "0.89      27\n",
       "0.04      26\n",
       "0.95      25\n",
       "0.46      23\n",
       "0.27      22\n",
       "M         18\n",
       "0.44      17\n",
       "0.05       3\n",
       "0.37       2\n",
       "Name: PrecipTotal, dtype: int64"
      ]
     },
     "execution_count": 45,
     "metadata": {},
     "output_type": "execute_result"
    }
   ],
   "source": [
    "train_weath['PrecipTotal'].value_counts()"
   ]
  },
  {
   "cell_type": "code",
   "execution_count": 46,
   "metadata": {},
   "outputs": [
    {
     "data": {
      "text/plain": [
       "49"
      ]
     },
     "execution_count": 46,
     "metadata": {},
     "output_type": "execute_result"
    }
   ],
   "source": [
    "(train_weath['StnPressure'] == 'M').sum()"
   ]
  },
  {
   "cell_type": "code",
   "execution_count": 23,
   "metadata": {},
   "outputs": [],
   "source": [
    "train_weath['StnPressure'].replace('M', np.nan, inplace = True)"
   ]
  },
  {
   "cell_type": "code",
   "execution_count": 24,
   "metadata": {},
   "outputs": [],
   "source": [
    "train_weath['StnPressure'] = train_weath['StnPressure'].map(lambda x: float(x))"
   ]
  },
  {
   "cell_type": "code",
   "execution_count": 49,
   "metadata": {},
   "outputs": [
    {
     "data": {
      "text/plain": [
       "0"
      ]
     },
     "execution_count": 49,
     "metadata": {},
     "output_type": "execute_result"
    }
   ],
   "source": [
    "(train_weath['SeaLevel'] == 'M').sum()"
   ]
  },
  {
   "cell_type": "code",
   "execution_count": 25,
   "metadata": {},
   "outputs": [],
   "source": [
    "train_weath['SeaLevel'] = train_weath['SeaLevel'].map(lambda x: float(x))"
   ]
  },
  {
   "cell_type": "code",
   "execution_count": 51,
   "metadata": {},
   "outputs": [
    {
     "data": {
      "text/plain": [
       "0"
      ]
     },
     "execution_count": 51,
     "metadata": {},
     "output_type": "execute_result"
    }
   ],
   "source": [
    "(train_weath['AvgSpeed'] == 'M').sum()"
   ]
  },
  {
   "cell_type": "code",
   "execution_count": 26,
   "metadata": {},
   "outputs": [],
   "source": [
    "train_weath['AvgSpeed'] = train_weath['AvgSpeed'].map(lambda x: float(x))"
   ]
  },
  {
   "cell_type": "code",
   "execution_count": 53,
   "metadata": {
    "scrolled": true
   },
   "outputs": [
    {
     "data": {
      "text/plain": [
       "Block               0.004877\n",
       "Latitude            0.028697\n",
       "Longitude          -0.060345\n",
       "AddressAccuracy     0.008064\n",
       "NumMosquitos        0.196820\n",
       "WnvPresent          1.000000\n",
       "CULEX ERRATICUS    -0.002295\n",
       "CULEX SALINARIUS   -0.021373\n",
       "CULEX TARSALIS     -0.005624\n",
       "CULEX TERRITANS    -0.034566\n",
       "new_pip             0.104574\n",
       "new_rest           -0.077339\n",
       "T001               -0.008896\n",
       "T002                0.026936\n",
       "T003                0.030296\n",
       "T004               -0.007956\n",
       "T005                0.014815\n",
       "T006                0.024517\n",
       "T007               -0.011020\n",
       "T008                0.010127\n",
       "T009                0.013273\n",
       "T011                0.015371\n",
       "T012               -0.006468\n",
       "T013                0.019605\n",
       "T014                0.019417\n",
       "T015                0.016038\n",
       "T016                0.019122\n",
       "T017               -0.020347\n",
       "T018               -0.018273\n",
       "T019               -0.011020\n",
       "                      ...   \n",
       "T223                0.020906\n",
       "T224               -0.010939\n",
       "T225                0.024259\n",
       "T226               -0.000192\n",
       "T227               -0.000452\n",
       "T228                0.015321\n",
       "T229               -0.006495\n",
       "T230                0.019554\n",
       "T231                0.012161\n",
       "T232               -0.003861\n",
       "T233                0.027159\n",
       "T235                0.020895\n",
       "T236               -0.005576\n",
       "T237               -0.003976\n",
       "T238               -0.006075\n",
       "T900                0.044220\n",
       "T903                0.009896\n",
       "Station            -0.040617\n",
       "Tmax                0.048352\n",
       "Tmin                0.067305\n",
       "DewPoint            0.086935\n",
       "WetBulb             0.080664\n",
       "Heat               -0.054331\n",
       "Cool                0.054443\n",
       "StnPressure        -0.001695\n",
       "SeaLevel            0.008048\n",
       "ResultSpeed        -0.045420\n",
       "ResultDir           0.001707\n",
       "AvgSpeed           -0.031648\n",
       "Tavg_int            0.061432\n",
       "Name: WnvPresent, Length: 161, dtype: float64"
      ]
     },
     "execution_count": 53,
     "metadata": {},
     "output_type": "execute_result"
    }
   ],
   "source": [
    "train_weath.corr()['WnvPresent']"
   ]
  },
  {
   "cell_type": "code",
   "execution_count": 54,
   "metadata": {},
   "outputs": [
    {
     "data": {
      "text/plain": [
       "WnvPresent      1.000000\n",
       "NumMosquitos    0.196820\n",
       "new_pip         0.104574\n",
       "DewPoint        0.086935\n",
       "WetBulb         0.080664\n",
       "Tmin            0.067305\n",
       "Tavg_int        0.061432\n",
       "Cool            0.054443\n",
       "Tmax            0.048352\n",
       "T900            0.044220\n",
       "Name: WnvPresent, dtype: float64"
      ]
     },
     "execution_count": 54,
     "metadata": {},
     "output_type": "execute_result"
    }
   ],
   "source": [
    "train_weath.corr()['WnvPresent'].nlargest(10)"
   ]
  },
  {
   "cell_type": "markdown",
   "metadata": {},
   "source": [
    "#### Maybe include DewPoint, WetBulb."
   ]
  },
  {
   "cell_type": "markdown",
   "metadata": {},
   "source": [
    "### A closer look at the traps of pipiens"
   ]
  },
  {
   "cell_type": "code",
   "execution_count": 58,
   "metadata": {},
   "outputs": [],
   "source": [
    "pip_df = train_weath.loc[(train_weath['new_pip'] == 1) & (train_weath['WnvPresent'] == 1)]"
   ]
  },
  {
   "cell_type": "code",
   "execution_count": 76,
   "metadata": {
    "scrolled": true
   },
   "outputs": [
    {
     "data": {
      "text/html": [
       "<div>\n",
       "<style scoped>\n",
       "    .dataframe tbody tr th:only-of-type {\n",
       "        vertical-align: middle;\n",
       "    }\n",
       "\n",
       "    .dataframe tbody tr th {\n",
       "        vertical-align: top;\n",
       "    }\n",
       "\n",
       "    .dataframe thead th {\n",
       "        text-align: right;\n",
       "    }\n",
       "</style>\n",
       "<table border=\"1\" class=\"dataframe\">\n",
       "  <thead>\n",
       "    <tr style=\"text-align: right;\">\n",
       "      <th></th>\n",
       "      <th>Date</th>\n",
       "      <th>Address</th>\n",
       "      <th>Block</th>\n",
       "      <th>Street</th>\n",
       "      <th>Trap</th>\n",
       "      <th>AddressNumberAndStreet</th>\n",
       "      <th>Latitude</th>\n",
       "      <th>Longitude</th>\n",
       "      <th>AddressAccuracy</th>\n",
       "      <th>NumMosquitos</th>\n",
       "      <th>...</th>\n",
       "      <th>Depth</th>\n",
       "      <th>Water1</th>\n",
       "      <th>SnowFall</th>\n",
       "      <th>PrecipTotal</th>\n",
       "      <th>StnPressure</th>\n",
       "      <th>SeaLevel</th>\n",
       "      <th>ResultSpeed</th>\n",
       "      <th>ResultDir</th>\n",
       "      <th>AvgSpeed</th>\n",
       "      <th>Tavg_int</th>\n",
       "    </tr>\n",
       "  </thead>\n",
       "  <tbody>\n",
       "    <tr>\n",
       "      <th>553</th>\n",
       "      <td>2007-07-18</td>\n",
       "      <td>3800 East 115th Street, Chicago, IL 60617, USA</td>\n",
       "      <td>38</td>\n",
       "      <td>E 115TH ST</td>\n",
       "      <td>T215</td>\n",
       "      <td>3800  E 115TH ST, Chicago, IL</td>\n",
       "      <td>41.686398</td>\n",
       "      <td>-87.531635</td>\n",
       "      <td>8</td>\n",
       "      <td>50</td>\n",
       "      <td>...</td>\n",
       "      <td>M</td>\n",
       "      <td>M</td>\n",
       "      <td>M</td>\n",
       "      <td>0.92</td>\n",
       "      <td>29.18</td>\n",
       "      <td>29.83</td>\n",
       "      <td>10.3</td>\n",
       "      <td>24</td>\n",
       "      <td>10.6</td>\n",
       "      <td>77</td>\n",
       "    </tr>\n",
       "    <tr>\n",
       "      <th>3039</th>\n",
       "      <td>2007-09-06</td>\n",
       "      <td>South Stony Island Avenue, Chicago, IL, USA</td>\n",
       "      <td>10</td>\n",
       "      <td>S STONY ISLAND AVE</td>\n",
       "      <td>T138</td>\n",
       "      <td>1000  S STONY ISLAND AVE, Chicago, IL</td>\n",
       "      <td>41.726465</td>\n",
       "      <td>-87.585413</td>\n",
       "      <td>5</td>\n",
       "      <td>50</td>\n",
       "      <td>...</td>\n",
       "      <td>M</td>\n",
       "      <td>M</td>\n",
       "      <td>M</td>\n",
       "      <td>0.08</td>\n",
       "      <td>29.27</td>\n",
       "      <td>29.91</td>\n",
       "      <td>12.8</td>\n",
       "      <td>20</td>\n",
       "      <td>13.0</td>\n",
       "      <td>79</td>\n",
       "    </tr>\n",
       "    <tr>\n",
       "      <th>7308</th>\n",
       "      <td>2011-08-12</td>\n",
       "      <td>ORD Terminal 5, O'Hare International Airport, ...</td>\n",
       "      <td>10</td>\n",
       "      <td>W OHARE AIRPORT</td>\n",
       "      <td>T900</td>\n",
       "      <td>1000  W OHARE AIRPORT, Chicago, IL</td>\n",
       "      <td>41.974689</td>\n",
       "      <td>-87.890615</td>\n",
       "      <td>9</td>\n",
       "      <td>50</td>\n",
       "      <td>...</td>\n",
       "      <td>0</td>\n",
       "      <td>M</td>\n",
       "      <td>0.0</td>\n",
       "      <td>0.00</td>\n",
       "      <td>29.22</td>\n",
       "      <td>29.94</td>\n",
       "      <td>8.3</td>\n",
       "      <td>19</td>\n",
       "      <td>8.5</td>\n",
       "      <td>71</td>\n",
       "    </tr>\n",
       "    <tr>\n",
       "      <th>603</th>\n",
       "      <td>2007-07-25</td>\n",
       "      <td>South Doty Avenue, Chicago, IL, USA</td>\n",
       "      <td>12</td>\n",
       "      <td>S DOTY AVE</td>\n",
       "      <td>T115</td>\n",
       "      <td>1200  S DOTY AVE, Chicago, IL</td>\n",
       "      <td>41.673408</td>\n",
       "      <td>-87.599862</td>\n",
       "      <td>5</td>\n",
       "      <td>50</td>\n",
       "      <td>...</td>\n",
       "      <td>M</td>\n",
       "      <td>M</td>\n",
       "      <td>M</td>\n",
       "      <td>0.00</td>\n",
       "      <td>29.35</td>\n",
       "      <td>29.99</td>\n",
       "      <td>6.4</td>\n",
       "      <td>23</td>\n",
       "      <td>7.0</td>\n",
       "      <td>77</td>\n",
       "    </tr>\n",
       "    <tr>\n",
       "      <th>10124</th>\n",
       "      <td>2013-09-06</td>\n",
       "      <td>ORD Terminal 5, O'Hare International Airport, ...</td>\n",
       "      <td>10</td>\n",
       "      <td>W OHARE AIRPORT</td>\n",
       "      <td>T900</td>\n",
       "      <td>1000  W OHARE AIRPORT, Chicago, IL</td>\n",
       "      <td>41.974689</td>\n",
       "      <td>-87.890615</td>\n",
       "      <td>9</td>\n",
       "      <td>50</td>\n",
       "      <td>...</td>\n",
       "      <td>0</td>\n",
       "      <td>M</td>\n",
       "      <td>0.0</td>\n",
       "      <td>0.00</td>\n",
       "      <td>29.38</td>\n",
       "      <td>30.11</td>\n",
       "      <td>4.7</td>\n",
       "      <td>20</td>\n",
       "      <td>6.0</td>\n",
       "      <td>72</td>\n",
       "    </tr>\n",
       "    <tr>\n",
       "      <th>7062</th>\n",
       "      <td>2011-07-29</td>\n",
       "      <td>5100 North Mont Clare Avenue, Chicago, IL 6065...</td>\n",
       "      <td>51</td>\n",
       "      <td>N MONT CLARE AVE</td>\n",
       "      <td>T223</td>\n",
       "      <td>5100  N MONT CLARE AVE, Chicago, IL</td>\n",
       "      <td>41.973845</td>\n",
       "      <td>-87.805059</td>\n",
       "      <td>9</td>\n",
       "      <td>50</td>\n",
       "      <td>...</td>\n",
       "      <td>0</td>\n",
       "      <td>M</td>\n",
       "      <td>0.0</td>\n",
       "      <td>0.70</td>\n",
       "      <td>29.28</td>\n",
       "      <td>29.98</td>\n",
       "      <td>4.3</td>\n",
       "      <td>4</td>\n",
       "      <td>5.9</td>\n",
       "      <td>79</td>\n",
       "    </tr>\n",
       "    <tr>\n",
       "      <th>10122</th>\n",
       "      <td>2013-09-06</td>\n",
       "      <td>ORD Terminal 5, O'Hare International Airport, ...</td>\n",
       "      <td>10</td>\n",
       "      <td>W OHARE AIRPORT</td>\n",
       "      <td>T900</td>\n",
       "      <td>1000  W OHARE AIRPORT, Chicago, IL</td>\n",
       "      <td>41.974689</td>\n",
       "      <td>-87.890615</td>\n",
       "      <td>9</td>\n",
       "      <td>50</td>\n",
       "      <td>...</td>\n",
       "      <td>0</td>\n",
       "      <td>M</td>\n",
       "      <td>0.0</td>\n",
       "      <td>0.00</td>\n",
       "      <td>29.38</td>\n",
       "      <td>30.11</td>\n",
       "      <td>4.7</td>\n",
       "      <td>20</td>\n",
       "      <td>6.0</td>\n",
       "      <td>72</td>\n",
       "    </tr>\n",
       "    <tr>\n",
       "      <th>6961</th>\n",
       "      <td>2011-07-29</td>\n",
       "      <td>5000 South Central Avenue, Chicago, IL 60638, USA</td>\n",
       "      <td>50</td>\n",
       "      <td>S CENTRAL AVE</td>\n",
       "      <td>T031</td>\n",
       "      <td>5000  S CENTRAL AVE, Chicago, IL</td>\n",
       "      <td>41.801498</td>\n",
       "      <td>-87.763416</td>\n",
       "      <td>9</td>\n",
       "      <td>50</td>\n",
       "      <td>...</td>\n",
       "      <td>M</td>\n",
       "      <td>M</td>\n",
       "      <td>M</td>\n",
       "      <td>0.36</td>\n",
       "      <td>29.34</td>\n",
       "      <td>29.96</td>\n",
       "      <td>3.5</td>\n",
       "      <td>4</td>\n",
       "      <td>5.6</td>\n",
       "      <td>80</td>\n",
       "    </tr>\n",
       "    <tr>\n",
       "      <th>5509</th>\n",
       "      <td>2009-08-25</td>\n",
       "      <td>Ohare Court, Bensenville, IL 60106, USA</td>\n",
       "      <td>10</td>\n",
       "      <td>W OHARE</td>\n",
       "      <td>T903</td>\n",
       "      <td>1000  W OHARE, Chicago, IL</td>\n",
       "      <td>41.957799</td>\n",
       "      <td>-87.930995</td>\n",
       "      <td>5</td>\n",
       "      <td>50</td>\n",
       "      <td>...</td>\n",
       "      <td>0</td>\n",
       "      <td>M</td>\n",
       "      <td>0.0</td>\n",
       "      <td>0.00</td>\n",
       "      <td>29.33</td>\n",
       "      <td>30.05</td>\n",
       "      <td>9.1</td>\n",
       "      <td>21</td>\n",
       "      <td>9.2</td>\n",
       "      <td>71</td>\n",
       "    </tr>\n",
       "    <tr>\n",
       "      <th>5497</th>\n",
       "      <td>2009-08-25</td>\n",
       "      <td>ORD Terminal 5, O'Hare International Airport, ...</td>\n",
       "      <td>10</td>\n",
       "      <td>W OHARE AIRPORT</td>\n",
       "      <td>T900</td>\n",
       "      <td>1000  W OHARE AIRPORT, Chicago, IL</td>\n",
       "      <td>41.974689</td>\n",
       "      <td>-87.890615</td>\n",
       "      <td>9</td>\n",
       "      <td>50</td>\n",
       "      <td>...</td>\n",
       "      <td>0</td>\n",
       "      <td>M</td>\n",
       "      <td>0.0</td>\n",
       "      <td>0.00</td>\n",
       "      <td>29.33</td>\n",
       "      <td>30.05</td>\n",
       "      <td>9.1</td>\n",
       "      <td>21</td>\n",
       "      <td>9.2</td>\n",
       "      <td>71</td>\n",
       "    </tr>\n",
       "    <tr>\n",
       "      <th>5191</th>\n",
       "      <td>2009-07-31</td>\n",
       "      <td>8200 South Kostner Avenue, Chicago, IL 60652, USA</td>\n",
       "      <td>82</td>\n",
       "      <td>S KOSTNER AVE</td>\n",
       "      <td>T225</td>\n",
       "      <td>8200  S KOSTNER AVE, Chicago, IL</td>\n",
       "      <td>41.743402</td>\n",
       "      <td>-87.731435</td>\n",
       "      <td>8</td>\n",
       "      <td>50</td>\n",
       "      <td>...</td>\n",
       "      <td>M</td>\n",
       "      <td>M</td>\n",
       "      <td>M</td>\n",
       "      <td>0.00</td>\n",
       "      <td>29.29</td>\n",
       "      <td>29.92</td>\n",
       "      <td>5.9</td>\n",
       "      <td>27</td>\n",
       "      <td>6.7</td>\n",
       "      <td>72</td>\n",
       "    </tr>\n",
       "    <tr>\n",
       "      <th>4890</th>\n",
       "      <td>2009-07-24</td>\n",
       "      <td>4100 North Oak Park Avenue, Chicago, IL 60634,...</td>\n",
       "      <td>41</td>\n",
       "      <td>N OAK PARK AVE</td>\n",
       "      <td>T002</td>\n",
       "      <td>4100  N OAK PARK AVE, Chicago, IL</td>\n",
       "      <td>41.954690</td>\n",
       "      <td>-87.800991</td>\n",
       "      <td>9</td>\n",
       "      <td>50</td>\n",
       "      <td>...</td>\n",
       "      <td>0</td>\n",
       "      <td>M</td>\n",
       "      <td>0.0</td>\n",
       "      <td>0.14</td>\n",
       "      <td>29.08</td>\n",
       "      <td>29.83</td>\n",
       "      <td>8.9</td>\n",
       "      <td>23</td>\n",
       "      <td>9.8</td>\n",
       "      <td>72</td>\n",
       "    </tr>\n",
       "    <tr>\n",
       "      <th>3552</th>\n",
       "      <td>2007-09-24</td>\n",
       "      <td>South Doty Avenue, Chicago, IL, USA</td>\n",
       "      <td>12</td>\n",
       "      <td>S DOTY AVE</td>\n",
       "      <td>T115</td>\n",
       "      <td>1200  S DOTY AVE, Chicago, IL</td>\n",
       "      <td>41.673408</td>\n",
       "      <td>-87.599862</td>\n",
       "      <td>5</td>\n",
       "      <td>50</td>\n",
       "      <td>...</td>\n",
       "      <td>M</td>\n",
       "      <td>M</td>\n",
       "      <td>M</td>\n",
       "      <td>0.00</td>\n",
       "      <td>29.34</td>\n",
       "      <td>29.98</td>\n",
       "      <td>10.0</td>\n",
       "      <td>19</td>\n",
       "      <td>10.5</td>\n",
       "      <td>81</td>\n",
       "    </tr>\n",
       "    <tr>\n",
       "      <th>10058</th>\n",
       "      <td>2013-09-06</td>\n",
       "      <td>4500 North Campbell Avenue, Chicago, IL 60625,...</td>\n",
       "      <td>45</td>\n",
       "      <td>N CAMPBELL AVE</td>\n",
       "      <td>T220</td>\n",
       "      <td>4500  N CAMPBELL AVE, Chicago, IL</td>\n",
       "      <td>41.963976</td>\n",
       "      <td>-87.691810</td>\n",
       "      <td>9</td>\n",
       "      <td>50</td>\n",
       "      <td>...</td>\n",
       "      <td>0</td>\n",
       "      <td>M</td>\n",
       "      <td>0.0</td>\n",
       "      <td>0.00</td>\n",
       "      <td>29.38</td>\n",
       "      <td>30.11</td>\n",
       "      <td>4.7</td>\n",
       "      <td>20</td>\n",
       "      <td>6.0</td>\n",
       "      <td>72</td>\n",
       "    </tr>\n",
       "    <tr>\n",
       "      <th>3551</th>\n",
       "      <td>2007-09-24</td>\n",
       "      <td>South Doty Avenue, Chicago, IL, USA</td>\n",
       "      <td>12</td>\n",
       "      <td>S DOTY AVE</td>\n",
       "      <td>T115</td>\n",
       "      <td>1200  S DOTY AVE, Chicago, IL</td>\n",
       "      <td>41.673408</td>\n",
       "      <td>-87.599862</td>\n",
       "      <td>5</td>\n",
       "      <td>50</td>\n",
       "      <td>...</td>\n",
       "      <td>M</td>\n",
       "      <td>M</td>\n",
       "      <td>M</td>\n",
       "      <td>0.00</td>\n",
       "      <td>29.34</td>\n",
       "      <td>29.98</td>\n",
       "      <td>10.0</td>\n",
       "      <td>19</td>\n",
       "      <td>10.5</td>\n",
       "      <td>81</td>\n",
       "    </tr>\n",
       "    <tr>\n",
       "      <th>2388</th>\n",
       "      <td>2007-08-22</td>\n",
       "      <td>2200 West 89th Street, Chicago, IL 60643, USA</td>\n",
       "      <td>22</td>\n",
       "      <td>W 89TH ST</td>\n",
       "      <td>T096</td>\n",
       "      <td>2200  W 89TH ST, Chicago, IL</td>\n",
       "      <td>41.731922</td>\n",
       "      <td>-87.677512</td>\n",
       "      <td>8</td>\n",
       "      <td>50</td>\n",
       "      <td>...</td>\n",
       "      <td>M</td>\n",
       "      <td>M</td>\n",
       "      <td>M</td>\n",
       "      <td>0.88</td>\n",
       "      <td>29.29</td>\n",
       "      <td>29.93</td>\n",
       "      <td>5.1</td>\n",
       "      <td>21</td>\n",
       "      <td>8.4</td>\n",
       "      <td>80</td>\n",
       "    </tr>\n",
       "    <tr>\n",
       "      <th>2394</th>\n",
       "      <td>2007-08-22</td>\n",
       "      <td>4200 West 127th Street, Alsip, IL 60803, USA</td>\n",
       "      <td>42</td>\n",
       "      <td>W 127TH PL</td>\n",
       "      <td>T135</td>\n",
       "      <td>4200  W 127TH PL, Chicago, IL</td>\n",
       "      <td>41.662014</td>\n",
       "      <td>-87.724608</td>\n",
       "      <td>8</td>\n",
       "      <td>50</td>\n",
       "      <td>...</td>\n",
       "      <td>M</td>\n",
       "      <td>M</td>\n",
       "      <td>M</td>\n",
       "      <td>0.88</td>\n",
       "      <td>29.29</td>\n",
       "      <td>29.93</td>\n",
       "      <td>5.1</td>\n",
       "      <td>21</td>\n",
       "      <td>8.4</td>\n",
       "      <td>80</td>\n",
       "    </tr>\n",
       "    <tr>\n",
       "      <th>2216</th>\n",
       "      <td>2007-08-21</td>\n",
       "      <td>2200 West 113th Street, Chicago, IL 60643, USA</td>\n",
       "      <td>22</td>\n",
       "      <td>W 113TH ST</td>\n",
       "      <td>T086</td>\n",
       "      <td>2200  W 113TH ST, Chicago, IL</td>\n",
       "      <td>41.688324</td>\n",
       "      <td>-87.676709</td>\n",
       "      <td>8</td>\n",
       "      <td>50</td>\n",
       "      <td>...</td>\n",
       "      <td>M</td>\n",
       "      <td>M</td>\n",
       "      <td>M</td>\n",
       "      <td>0.01</td>\n",
       "      <td>29.26</td>\n",
       "      <td>29.89</td>\n",
       "      <td>3.5</td>\n",
       "      <td>17</td>\n",
       "      <td>6.0</td>\n",
       "      <td>77</td>\n",
       "    </tr>\n",
       "    <tr>\n",
       "      <th>7311</th>\n",
       "      <td>2011-08-12</td>\n",
       "      <td>ORD Terminal 5, O'Hare International Airport, ...</td>\n",
       "      <td>10</td>\n",
       "      <td>W OHARE AIRPORT</td>\n",
       "      <td>T900</td>\n",
       "      <td>1000  W OHARE AIRPORT, Chicago, IL</td>\n",
       "      <td>41.974689</td>\n",
       "      <td>-87.890615</td>\n",
       "      <td>9</td>\n",
       "      <td>50</td>\n",
       "      <td>...</td>\n",
       "      <td>0</td>\n",
       "      <td>M</td>\n",
       "      <td>0.0</td>\n",
       "      <td>0.00</td>\n",
       "      <td>29.22</td>\n",
       "      <td>29.94</td>\n",
       "      <td>8.3</td>\n",
       "      <td>19</td>\n",
       "      <td>8.5</td>\n",
       "      <td>71</td>\n",
       "    </tr>\n",
       "    <tr>\n",
       "      <th>7325</th>\n",
       "      <td>2011-08-12</td>\n",
       "      <td>Ohare Court, Bensenville, IL 60106, USA</td>\n",
       "      <td>10</td>\n",
       "      <td>W OHARE</td>\n",
       "      <td>T903</td>\n",
       "      <td>1000  W OHARE, Chicago, IL</td>\n",
       "      <td>41.957799</td>\n",
       "      <td>-87.930995</td>\n",
       "      <td>5</td>\n",
       "      <td>50</td>\n",
       "      <td>...</td>\n",
       "      <td>0</td>\n",
       "      <td>M</td>\n",
       "      <td>0.0</td>\n",
       "      <td>0.00</td>\n",
       "      <td>29.22</td>\n",
       "      <td>29.94</td>\n",
       "      <td>8.3</td>\n",
       "      <td>19</td>\n",
       "      <td>8.5</td>\n",
       "      <td>71</td>\n",
       "    </tr>\n",
       "    <tr>\n",
       "      <th>2100</th>\n",
       "      <td>2007-08-16</td>\n",
       "      <td>South Doty Avenue, Chicago, IL, USA</td>\n",
       "      <td>12</td>\n",
       "      <td>S DOTY AVE</td>\n",
       "      <td>T115</td>\n",
       "      <td>1200  S DOTY AVE, Chicago, IL</td>\n",
       "      <td>41.673408</td>\n",
       "      <td>-87.599862</td>\n",
       "      <td>5</td>\n",
       "      <td>50</td>\n",
       "      <td>...</td>\n",
       "      <td>M</td>\n",
       "      <td>M</td>\n",
       "      <td>M</td>\n",
       "      <td>0.00</td>\n",
       "      <td>29.33</td>\n",
       "      <td>29.95</td>\n",
       "      <td>3.5</td>\n",
       "      <td>1</td>\n",
       "      <td>5.7</td>\n",
       "      <td>72</td>\n",
       "    </tr>\n",
       "    <tr>\n",
       "      <th>2063</th>\n",
       "      <td>2007-08-16</td>\n",
       "      <td>South Doty Avenue, Chicago, IL, USA</td>\n",
       "      <td>12</td>\n",
       "      <td>S DOTY AVE</td>\n",
       "      <td>T115</td>\n",
       "      <td>1200  S DOTY AVE, Chicago, IL</td>\n",
       "      <td>41.673408</td>\n",
       "      <td>-87.599862</td>\n",
       "      <td>5</td>\n",
       "      <td>50</td>\n",
       "      <td>...</td>\n",
       "      <td>M</td>\n",
       "      <td>M</td>\n",
       "      <td>M</td>\n",
       "      <td>0.00</td>\n",
       "      <td>29.33</td>\n",
       "      <td>29.95</td>\n",
       "      <td>3.5</td>\n",
       "      <td>1</td>\n",
       "      <td>5.7</td>\n",
       "      <td>72</td>\n",
       "    </tr>\n",
       "    <tr>\n",
       "      <th>2069</th>\n",
       "      <td>2007-08-16</td>\n",
       "      <td>South Doty Avenue, Chicago, IL, USA</td>\n",
       "      <td>12</td>\n",
       "      <td>S DOTY AVE</td>\n",
       "      <td>T115</td>\n",
       "      <td>1200  S DOTY AVE, Chicago, IL</td>\n",
       "      <td>41.673408</td>\n",
       "      <td>-87.599862</td>\n",
       "      <td>5</td>\n",
       "      <td>50</td>\n",
       "      <td>...</td>\n",
       "      <td>M</td>\n",
       "      <td>M</td>\n",
       "      <td>M</td>\n",
       "      <td>0.00</td>\n",
       "      <td>29.33</td>\n",
       "      <td>29.95</td>\n",
       "      <td>3.5</td>\n",
       "      <td>1</td>\n",
       "      <td>5.7</td>\n",
       "      <td>72</td>\n",
       "    </tr>\n",
       "    <tr>\n",
       "      <th>2072</th>\n",
       "      <td>2007-08-16</td>\n",
       "      <td>South Doty Avenue, Chicago, IL, USA</td>\n",
       "      <td>12</td>\n",
       "      <td>S DOTY AVE</td>\n",
       "      <td>T115</td>\n",
       "      <td>1200  S DOTY AVE, Chicago, IL</td>\n",
       "      <td>41.673408</td>\n",
       "      <td>-87.599862</td>\n",
       "      <td>5</td>\n",
       "      <td>50</td>\n",
       "      <td>...</td>\n",
       "      <td>M</td>\n",
       "      <td>M</td>\n",
       "      <td>M</td>\n",
       "      <td>0.00</td>\n",
       "      <td>29.33</td>\n",
       "      <td>29.95</td>\n",
       "      <td>3.5</td>\n",
       "      <td>1</td>\n",
       "      <td>5.7</td>\n",
       "      <td>72</td>\n",
       "    </tr>\n",
       "    <tr>\n",
       "      <th>2076</th>\n",
       "      <td>2007-08-16</td>\n",
       "      <td>South Doty Avenue, Chicago, IL, USA</td>\n",
       "      <td>12</td>\n",
       "      <td>S DOTY AVE</td>\n",
       "      <td>T115</td>\n",
       "      <td>1200  S DOTY AVE, Chicago, IL</td>\n",
       "      <td>41.673408</td>\n",
       "      <td>-87.599862</td>\n",
       "      <td>5</td>\n",
       "      <td>50</td>\n",
       "      <td>...</td>\n",
       "      <td>M</td>\n",
       "      <td>M</td>\n",
       "      <td>M</td>\n",
       "      <td>0.00</td>\n",
       "      <td>29.33</td>\n",
       "      <td>29.95</td>\n",
       "      <td>3.5</td>\n",
       "      <td>1</td>\n",
       "      <td>5.7</td>\n",
       "      <td>72</td>\n",
       "    </tr>\n",
       "    <tr>\n",
       "      <th>2078</th>\n",
       "      <td>2007-08-16</td>\n",
       "      <td>South Doty Avenue, Chicago, IL, USA</td>\n",
       "      <td>12</td>\n",
       "      <td>S DOTY AVE</td>\n",
       "      <td>T115</td>\n",
       "      <td>1200  S DOTY AVE, Chicago, IL</td>\n",
       "      <td>41.673408</td>\n",
       "      <td>-87.599862</td>\n",
       "      <td>5</td>\n",
       "      <td>50</td>\n",
       "      <td>...</td>\n",
       "      <td>M</td>\n",
       "      <td>M</td>\n",
       "      <td>M</td>\n",
       "      <td>0.00</td>\n",
       "      <td>29.33</td>\n",
       "      <td>29.95</td>\n",
       "      <td>3.5</td>\n",
       "      <td>1</td>\n",
       "      <td>5.7</td>\n",
       "      <td>72</td>\n",
       "    </tr>\n",
       "    <tr>\n",
       "      <th>2095</th>\n",
       "      <td>2007-08-16</td>\n",
       "      <td>South Doty Avenue, Chicago, IL, USA</td>\n",
       "      <td>12</td>\n",
       "      <td>S DOTY AVE</td>\n",
       "      <td>T115</td>\n",
       "      <td>1200  S DOTY AVE, Chicago, IL</td>\n",
       "      <td>41.673408</td>\n",
       "      <td>-87.599862</td>\n",
       "      <td>5</td>\n",
       "      <td>50</td>\n",
       "      <td>...</td>\n",
       "      <td>M</td>\n",
       "      <td>M</td>\n",
       "      <td>M</td>\n",
       "      <td>0.00</td>\n",
       "      <td>29.33</td>\n",
       "      <td>29.95</td>\n",
       "      <td>3.5</td>\n",
       "      <td>1</td>\n",
       "      <td>5.7</td>\n",
       "      <td>72</td>\n",
       "    </tr>\n",
       "    <tr>\n",
       "      <th>2105</th>\n",
       "      <td>2007-08-16</td>\n",
       "      <td>South Stony Island Avenue, Chicago, IL, USA</td>\n",
       "      <td>10</td>\n",
       "      <td>S STONY ISLAND AVE</td>\n",
       "      <td>T138</td>\n",
       "      <td>1000  S STONY ISLAND AVE, Chicago, IL</td>\n",
       "      <td>41.726465</td>\n",
       "      <td>-87.585413</td>\n",
       "      <td>5</td>\n",
       "      <td>50</td>\n",
       "      <td>...</td>\n",
       "      <td>M</td>\n",
       "      <td>M</td>\n",
       "      <td>M</td>\n",
       "      <td>0.00</td>\n",
       "      <td>29.33</td>\n",
       "      <td>29.95</td>\n",
       "      <td>3.5</td>\n",
       "      <td>1</td>\n",
       "      <td>5.7</td>\n",
       "      <td>72</td>\n",
       "    </tr>\n",
       "    <tr>\n",
       "      <th>2192</th>\n",
       "      <td>2007-08-17</td>\n",
       "      <td>4000 East 130th Street, Chicago, IL 60633, USA</td>\n",
       "      <td>40</td>\n",
       "      <td>E 130TH ST</td>\n",
       "      <td>T221</td>\n",
       "      <td>4000  E 130TH ST, Chicago, IL</td>\n",
       "      <td>41.659112</td>\n",
       "      <td>-87.538693</td>\n",
       "      <td>8</td>\n",
       "      <td>50</td>\n",
       "      <td>...</td>\n",
       "      <td>M</td>\n",
       "      <td>M</td>\n",
       "      <td>M</td>\n",
       "      <td>0.00</td>\n",
       "      <td>29.46</td>\n",
       "      <td>30.08</td>\n",
       "      <td>6.1</td>\n",
       "      <td>31</td>\n",
       "      <td>7.4</td>\n",
       "      <td>73</td>\n",
       "    </tr>\n",
       "    <tr>\n",
       "      <th>2108</th>\n",
       "      <td>2007-08-16</td>\n",
       "      <td>South Stony Island Avenue, Chicago, IL, USA</td>\n",
       "      <td>10</td>\n",
       "      <td>S STONY ISLAND AVE</td>\n",
       "      <td>T138</td>\n",
       "      <td>1000  S STONY ISLAND AVE, Chicago, IL</td>\n",
       "      <td>41.726465</td>\n",
       "      <td>-87.585413</td>\n",
       "      <td>5</td>\n",
       "      <td>50</td>\n",
       "      <td>...</td>\n",
       "      <td>M</td>\n",
       "      <td>M</td>\n",
       "      <td>M</td>\n",
       "      <td>0.00</td>\n",
       "      <td>29.33</td>\n",
       "      <td>29.95</td>\n",
       "      <td>3.5</td>\n",
       "      <td>1</td>\n",
       "      <td>5.7</td>\n",
       "      <td>72</td>\n",
       "    </tr>\n",
       "    <tr>\n",
       "      <th>...</th>\n",
       "      <td>...</td>\n",
       "      <td>...</td>\n",
       "      <td>...</td>\n",
       "      <td>...</td>\n",
       "      <td>...</td>\n",
       "      <td>...</td>\n",
       "      <td>...</td>\n",
       "      <td>...</td>\n",
       "      <td>...</td>\n",
       "      <td>...</td>\n",
       "      <td>...</td>\n",
       "      <td>...</td>\n",
       "      <td>...</td>\n",
       "      <td>...</td>\n",
       "      <td>...</td>\n",
       "      <td>...</td>\n",
       "      <td>...</td>\n",
       "      <td>...</td>\n",
       "      <td>...</td>\n",
       "      <td>...</td>\n",
       "      <td>...</td>\n",
       "    </tr>\n",
       "    <tr>\n",
       "      <th>7357</th>\n",
       "      <td>2011-08-19</td>\n",
       "      <td>5800 North Western Avenue, Chicago, IL 60659, USA</td>\n",
       "      <td>58</td>\n",
       "      <td>N WESTERN AVE</td>\n",
       "      <td>T028</td>\n",
       "      <td>5800  N WESTERN AVE, Chicago, IL</td>\n",
       "      <td>41.986921</td>\n",
       "      <td>-87.689778</td>\n",
       "      <td>9</td>\n",
       "      <td>4</td>\n",
       "      <td>...</td>\n",
       "      <td>0</td>\n",
       "      <td>M</td>\n",
       "      <td>0.0</td>\n",
       "      <td>0.00</td>\n",
       "      <td>29.18</td>\n",
       "      <td>29.89</td>\n",
       "      <td>3.3</td>\n",
       "      <td>14</td>\n",
       "      <td>5.2</td>\n",
       "      <td>76</td>\n",
       "    </tr>\n",
       "    <tr>\n",
       "      <th>2228</th>\n",
       "      <td>2007-08-21</td>\n",
       "      <td>7200 North Oketo Avenue, Chicago, IL 60631, USA</td>\n",
       "      <td>72</td>\n",
       "      <td>N OKETO AVE</td>\n",
       "      <td>T016</td>\n",
       "      <td>7200  N OKETO AVE, Chicago, IL</td>\n",
       "      <td>42.011601</td>\n",
       "      <td>-87.811506</td>\n",
       "      <td>8</td>\n",
       "      <td>4</td>\n",
       "      <td>...</td>\n",
       "      <td>0</td>\n",
       "      <td>M</td>\n",
       "      <td>0.0</td>\n",
       "      <td>T</td>\n",
       "      <td>29.21</td>\n",
       "      <td>29.91</td>\n",
       "      <td>3.8</td>\n",
       "      <td>18</td>\n",
       "      <td>6.0</td>\n",
       "      <td>78</td>\n",
       "    </tr>\n",
       "    <tr>\n",
       "      <th>2793</th>\n",
       "      <td>2007-08-28</td>\n",
       "      <td>East 91st Street, Chicago, IL, USA</td>\n",
       "      <td>81</td>\n",
       "      <td>E 91ST ST</td>\n",
       "      <td>T107</td>\n",
       "      <td>8100  E 91ST ST, Chicago, IL</td>\n",
       "      <td>41.729669</td>\n",
       "      <td>-87.582699</td>\n",
       "      <td>5</td>\n",
       "      <td>4</td>\n",
       "      <td>...</td>\n",
       "      <td>M</td>\n",
       "      <td>M</td>\n",
       "      <td>M</td>\n",
       "      <td>0.00</td>\n",
       "      <td>29.34</td>\n",
       "      <td>29.98</td>\n",
       "      <td>7.8</td>\n",
       "      <td>21</td>\n",
       "      <td>8.3</td>\n",
       "      <td>80</td>\n",
       "    </tr>\n",
       "    <tr>\n",
       "      <th>9867</th>\n",
       "      <td>2013-08-22</td>\n",
       "      <td>1700 North Ashland Avenue, Chicago, IL 60622, USA</td>\n",
       "      <td>17</td>\n",
       "      <td>N ASHLAND AVE</td>\n",
       "      <td>T232</td>\n",
       "      <td>1700  N ASHLAND AVE, Chicago, IL</td>\n",
       "      <td>41.912563</td>\n",
       "      <td>-87.668055</td>\n",
       "      <td>9</td>\n",
       "      <td>3</td>\n",
       "      <td>...</td>\n",
       "      <td>0</td>\n",
       "      <td>M</td>\n",
       "      <td>0.0</td>\n",
       "      <td>0.23</td>\n",
       "      <td>29.36</td>\n",
       "      <td>30.05</td>\n",
       "      <td>1.5</td>\n",
       "      <td>23</td>\n",
       "      <td>7.0</td>\n",
       "      <td>73</td>\n",
       "    </tr>\n",
       "    <tr>\n",
       "      <th>1166</th>\n",
       "      <td>2007-08-01</td>\n",
       "      <td>5000 South Union Avenue, Chicago, IL 60609, USA</td>\n",
       "      <td>50</td>\n",
       "      <td>S UNION AVE</td>\n",
       "      <td>T082</td>\n",
       "      <td>5000  S UNION AVE, Chicago, IL</td>\n",
       "      <td>41.803423</td>\n",
       "      <td>-87.642984</td>\n",
       "      <td>8</td>\n",
       "      <td>3</td>\n",
       "      <td>...</td>\n",
       "      <td>M</td>\n",
       "      <td>M</td>\n",
       "      <td>M</td>\n",
       "      <td>0.00</td>\n",
       "      <td>29.34</td>\n",
       "      <td>29.98</td>\n",
       "      <td>2.1</td>\n",
       "      <td>13</td>\n",
       "      <td>3.7</td>\n",
       "      <td>80</td>\n",
       "    </tr>\n",
       "    <tr>\n",
       "      <th>2488</th>\n",
       "      <td>2007-08-22</td>\n",
       "      <td>East 91st Street, Chicago, IL, USA</td>\n",
       "      <td>81</td>\n",
       "      <td>E 91ST ST</td>\n",
       "      <td>T107</td>\n",
       "      <td>8100  E 91ST ST, Chicago, IL</td>\n",
       "      <td>41.729669</td>\n",
       "      <td>-87.582699</td>\n",
       "      <td>5</td>\n",
       "      <td>3</td>\n",
       "      <td>...</td>\n",
       "      <td>M</td>\n",
       "      <td>M</td>\n",
       "      <td>M</td>\n",
       "      <td>0.88</td>\n",
       "      <td>29.29</td>\n",
       "      <td>29.93</td>\n",
       "      <td>5.1</td>\n",
       "      <td>21</td>\n",
       "      <td>8.4</td>\n",
       "      <td>80</td>\n",
       "    </tr>\n",
       "    <tr>\n",
       "      <th>10439</th>\n",
       "      <td>2013-09-26</td>\n",
       "      <td>4600 Milwaukee Avenue, Chicago, IL 60630, USA</td>\n",
       "      <td>46</td>\n",
       "      <td>N MILWAUKEE AVE</td>\n",
       "      <td>T003</td>\n",
       "      <td>4600  N MILWAUKEE AVE, Chicago, IL</td>\n",
       "      <td>41.964242</td>\n",
       "      <td>-87.757639</td>\n",
       "      <td>8</td>\n",
       "      <td>3</td>\n",
       "      <td>...</td>\n",
       "      <td>0</td>\n",
       "      <td>M</td>\n",
       "      <td>0.0</td>\n",
       "      <td>0.00</td>\n",
       "      <td>29.34</td>\n",
       "      <td>30.04</td>\n",
       "      <td>3.8</td>\n",
       "      <td>8</td>\n",
       "      <td>4.2</td>\n",
       "      <td>63</td>\n",
       "    </tr>\n",
       "    <tr>\n",
       "      <th>7559</th>\n",
       "      <td>2011-08-26</td>\n",
       "      <td>8200 South Kostner Avenue, Chicago, IL 60652, USA</td>\n",
       "      <td>82</td>\n",
       "      <td>S KOSTNER AVE</td>\n",
       "      <td>T225</td>\n",
       "      <td>8200  S KOSTNER AVE, Chicago, IL</td>\n",
       "      <td>41.743402</td>\n",
       "      <td>-87.731435</td>\n",
       "      <td>8</td>\n",
       "      <td>3</td>\n",
       "      <td>...</td>\n",
       "      <td>M</td>\n",
       "      <td>M</td>\n",
       "      <td>M</td>\n",
       "      <td>0.00</td>\n",
       "      <td>29.32</td>\n",
       "      <td>29.97</td>\n",
       "      <td>1.2</td>\n",
       "      <td>20</td>\n",
       "      <td>3.4</td>\n",
       "      <td>72</td>\n",
       "    </tr>\n",
       "    <tr>\n",
       "      <th>2642</th>\n",
       "      <td>2007-08-24</td>\n",
       "      <td>1100 North Artesian Avenue, Chicago, IL 60622,...</td>\n",
       "      <td>11</td>\n",
       "      <td>S ARTESIAN AVE</td>\n",
       "      <td>T160</td>\n",
       "      <td>1100  S ARTESIAN AVE, Chicago, IL</td>\n",
       "      <td>41.903002</td>\n",
       "      <td>-87.688267</td>\n",
       "      <td>8</td>\n",
       "      <td>3</td>\n",
       "      <td>...</td>\n",
       "      <td>0</td>\n",
       "      <td>M</td>\n",
       "      <td>0.0</td>\n",
       "      <td>0.24</td>\n",
       "      <td>29.11</td>\n",
       "      <td>29.82</td>\n",
       "      <td>5.8</td>\n",
       "      <td>25</td>\n",
       "      <td>7.1</td>\n",
       "      <td>75</td>\n",
       "    </tr>\n",
       "    <tr>\n",
       "      <th>7309</th>\n",
       "      <td>2011-08-12</td>\n",
       "      <td>ORD Terminal 5, O'Hare International Airport, ...</td>\n",
       "      <td>10</td>\n",
       "      <td>W OHARE AIRPORT</td>\n",
       "      <td>T900</td>\n",
       "      <td>1000  W OHARE AIRPORT, Chicago, IL</td>\n",
       "      <td>41.974689</td>\n",
       "      <td>-87.890615</td>\n",
       "      <td>9</td>\n",
       "      <td>3</td>\n",
       "      <td>...</td>\n",
       "      <td>0</td>\n",
       "      <td>M</td>\n",
       "      <td>0.0</td>\n",
       "      <td>0.00</td>\n",
       "      <td>29.22</td>\n",
       "      <td>29.94</td>\n",
       "      <td>8.3</td>\n",
       "      <td>19</td>\n",
       "      <td>8.5</td>\n",
       "      <td>71</td>\n",
       "    </tr>\n",
       "    <tr>\n",
       "      <th>1789</th>\n",
       "      <td>2007-08-15</td>\n",
       "      <td>1100 Roosevelt Road, Chicago, IL 60608, USA</td>\n",
       "      <td>11</td>\n",
       "      <td>W ROOSEVELT</td>\n",
       "      <td>T048</td>\n",
       "      <td>1100  W ROOSEVELT, Chicago, IL</td>\n",
       "      <td>41.867108</td>\n",
       "      <td>-87.654224</td>\n",
       "      <td>8</td>\n",
       "      <td>3</td>\n",
       "      <td>...</td>\n",
       "      <td>M</td>\n",
       "      <td>M</td>\n",
       "      <td>M</td>\n",
       "      <td>0.83</td>\n",
       "      <td>29.23</td>\n",
       "      <td>29.87</td>\n",
       "      <td>4.9</td>\n",
       "      <td>6</td>\n",
       "      <td>7.1</td>\n",
       "      <td>77</td>\n",
       "    </tr>\n",
       "    <tr>\n",
       "      <th>9949</th>\n",
       "      <td>2013-08-29</td>\n",
       "      <td>6300 West 64th Street, Chicago, IL 60638, USA</td>\n",
       "      <td>63</td>\n",
       "      <td>W 64TH ST</td>\n",
       "      <td>T155</td>\n",
       "      <td>6300  W 64TH ST, Chicago, IL</td>\n",
       "      <td>41.776156</td>\n",
       "      <td>-87.778927</td>\n",
       "      <td>9</td>\n",
       "      <td>3</td>\n",
       "      <td>...</td>\n",
       "      <td>M</td>\n",
       "      <td>M</td>\n",
       "      <td>M</td>\n",
       "      <td>0.00</td>\n",
       "      <td>29.36</td>\n",
       "      <td>30.00</td>\n",
       "      <td>4.2</td>\n",
       "      <td>10</td>\n",
       "      <td>4.6</td>\n",
       "      <td>78</td>\n",
       "    </tr>\n",
       "    <tr>\n",
       "      <th>7743</th>\n",
       "      <td>2011-09-12</td>\n",
       "      <td>1700 North Pulaski Road, Chicago, IL 60639, USA</td>\n",
       "      <td>17</td>\n",
       "      <td>N PULASKI RD</td>\n",
       "      <td>T039</td>\n",
       "      <td>1700  N PULASKI RD, Chicago, IL</td>\n",
       "      <td>41.911824</td>\n",
       "      <td>-87.726737</td>\n",
       "      <td>9</td>\n",
       "      <td>3</td>\n",
       "      <td>...</td>\n",
       "      <td>0</td>\n",
       "      <td>M</td>\n",
       "      <td>0.0</td>\n",
       "      <td>0.00</td>\n",
       "      <td>29.18</td>\n",
       "      <td>29.91</td>\n",
       "      <td>10.5</td>\n",
       "      <td>23</td>\n",
       "      <td>10.9</td>\n",
       "      <td>75</td>\n",
       "    </tr>\n",
       "    <tr>\n",
       "      <th>2873</th>\n",
       "      <td>2007-09-04</td>\n",
       "      <td>6800 West Belden Avenue, Chicago, IL 60707, USA</td>\n",
       "      <td>68</td>\n",
       "      <td>W BELDEN AVE</td>\n",
       "      <td>T037</td>\n",
       "      <td>6800  W BELDEN AVE, Chicago, IL</td>\n",
       "      <td>41.921177</td>\n",
       "      <td>-87.795180</td>\n",
       "      <td>8</td>\n",
       "      <td>3</td>\n",
       "      <td>...</td>\n",
       "      <td>0</td>\n",
       "      <td>M</td>\n",
       "      <td>0.0</td>\n",
       "      <td>0.00</td>\n",
       "      <td>29.28</td>\n",
       "      <td>30.00</td>\n",
       "      <td>2.8</td>\n",
       "      <td>22</td>\n",
       "      <td>4.3</td>\n",
       "      <td>76</td>\n",
       "    </tr>\n",
       "    <tr>\n",
       "      <th>2944</th>\n",
       "      <td>2007-09-05</td>\n",
       "      <td>3900 South Ashland Avenue, Chicago, IL 60609, USA</td>\n",
       "      <td>39</td>\n",
       "      <td>S ASHLAND AVE</td>\n",
       "      <td>T074</td>\n",
       "      <td>3900  S ASHLAND AVE, Chicago, IL</td>\n",
       "      <td>41.822536</td>\n",
       "      <td>-87.666343</td>\n",
       "      <td>9</td>\n",
       "      <td>3</td>\n",
       "      <td>...</td>\n",
       "      <td>M</td>\n",
       "      <td>M</td>\n",
       "      <td>M</td>\n",
       "      <td>0.00</td>\n",
       "      <td>29.31</td>\n",
       "      <td>29.94</td>\n",
       "      <td>6.4</td>\n",
       "      <td>19</td>\n",
       "      <td>6.7</td>\n",
       "      <td>82</td>\n",
       "    </tr>\n",
       "    <tr>\n",
       "      <th>970</th>\n",
       "      <td>2007-08-01</td>\n",
       "      <td>4500 North Campbell Avenue, Chicago, IL 60625,...</td>\n",
       "      <td>45</td>\n",
       "      <td>N CAMPBELL AVE</td>\n",
       "      <td>T220</td>\n",
       "      <td>4500  N CAMPBELL AVE, Chicago, IL</td>\n",
       "      <td>41.963976</td>\n",
       "      <td>-87.691810</td>\n",
       "      <td>9</td>\n",
       "      <td>2</td>\n",
       "      <td>...</td>\n",
       "      <td>0</td>\n",
       "      <td>M</td>\n",
       "      <td>0.0</td>\n",
       "      <td>0.00</td>\n",
       "      <td>29.29</td>\n",
       "      <td>30.00</td>\n",
       "      <td>3.5</td>\n",
       "      <td>9</td>\n",
       "      <td>4.1</td>\n",
       "      <td>81</td>\n",
       "    </tr>\n",
       "    <tr>\n",
       "      <th>2540</th>\n",
       "      <td>2007-08-24</td>\n",
       "      <td>2200 West 113th Street, Chicago, IL 60643, USA</td>\n",
       "      <td>22</td>\n",
       "      <td>W 113TH ST</td>\n",
       "      <td>T086</td>\n",
       "      <td>2200  W 113TH ST, Chicago, IL</td>\n",
       "      <td>41.688324</td>\n",
       "      <td>-87.676709</td>\n",
       "      <td>8</td>\n",
       "      <td>2</td>\n",
       "      <td>...</td>\n",
       "      <td>M</td>\n",
       "      <td>M</td>\n",
       "      <td>M</td>\n",
       "      <td>0.20</td>\n",
       "      <td>29.16</td>\n",
       "      <td>29.81</td>\n",
       "      <td>5.5</td>\n",
       "      <td>25</td>\n",
       "      <td>7.3</td>\n",
       "      <td>75</td>\n",
       "    </tr>\n",
       "    <tr>\n",
       "      <th>2915</th>\n",
       "      <td>2007-09-04</td>\n",
       "      <td>3700 South Pulaski Road, Chicago, IL 60623, USA</td>\n",
       "      <td>37</td>\n",
       "      <td>S PULASKI RD</td>\n",
       "      <td>T063</td>\n",
       "      <td>3700  S PULASKI RD, Chicago, IL</td>\n",
       "      <td>41.825610</td>\n",
       "      <td>-87.726549</td>\n",
       "      <td>9</td>\n",
       "      <td>2</td>\n",
       "      <td>...</td>\n",
       "      <td>M</td>\n",
       "      <td>M</td>\n",
       "      <td>M</td>\n",
       "      <td>0.00</td>\n",
       "      <td>29.34</td>\n",
       "      <td>29.99</td>\n",
       "      <td>2.2</td>\n",
       "      <td>24</td>\n",
       "      <td>5.0</td>\n",
       "      <td>79</td>\n",
       "    </tr>\n",
       "    <tr>\n",
       "      <th>9473</th>\n",
       "      <td>2013-08-08</td>\n",
       "      <td>5000 South Union Avenue, Chicago, IL 60609, USA</td>\n",
       "      <td>50</td>\n",
       "      <td>S UNION AVE</td>\n",
       "      <td>T082</td>\n",
       "      <td>5000  S UNION AVE, Chicago, IL</td>\n",
       "      <td>41.803423</td>\n",
       "      <td>-87.642984</td>\n",
       "      <td>8</td>\n",
       "      <td>2</td>\n",
       "      <td>...</td>\n",
       "      <td>M</td>\n",
       "      <td>M</td>\n",
       "      <td>M</td>\n",
       "      <td>0.00</td>\n",
       "      <td>29.33</td>\n",
       "      <td>29.96</td>\n",
       "      <td>10.5</td>\n",
       "      <td>5</td>\n",
       "      <td>10.8</td>\n",
       "      <td>74</td>\n",
       "    </tr>\n",
       "    <tr>\n",
       "      <th>10295</th>\n",
       "      <td>2013-09-12</td>\n",
       "      <td>1700 North Ashland Avenue, Chicago, IL 60622, USA</td>\n",
       "      <td>17</td>\n",
       "      <td>N ASHLAND AVE</td>\n",
       "      <td>T232</td>\n",
       "      <td>1700  N ASHLAND AVE, Chicago, IL</td>\n",
       "      <td>41.912563</td>\n",
       "      <td>-87.668055</td>\n",
       "      <td>9</td>\n",
       "      <td>2</td>\n",
       "      <td>...</td>\n",
       "      <td>0</td>\n",
       "      <td>M</td>\n",
       "      <td>0.0</td>\n",
       "      <td>T</td>\n",
       "      <td>29.28</td>\n",
       "      <td>29.98</td>\n",
       "      <td>7.0</td>\n",
       "      <td>35</td>\n",
       "      <td>9.4</td>\n",
       "      <td>72</td>\n",
       "    </tr>\n",
       "    <tr>\n",
       "      <th>2272</th>\n",
       "      <td>2007-08-21</td>\n",
       "      <td>6000 North Avondale Avenue, Chicago, IL 60631,...</td>\n",
       "      <td>60</td>\n",
       "      <td>N AVONDALE AVE</td>\n",
       "      <td>T006</td>\n",
       "      <td>6000  N AVONDALE AVE, Chicago, IL</td>\n",
       "      <td>41.990284</td>\n",
       "      <td>-87.797127</td>\n",
       "      <td>8</td>\n",
       "      <td>1</td>\n",
       "      <td>...</td>\n",
       "      <td>0</td>\n",
       "      <td>M</td>\n",
       "      <td>0.0</td>\n",
       "      <td>T</td>\n",
       "      <td>29.21</td>\n",
       "      <td>29.91</td>\n",
       "      <td>3.8</td>\n",
       "      <td>18</td>\n",
       "      <td>6.0</td>\n",
       "      <td>78</td>\n",
       "    </tr>\n",
       "    <tr>\n",
       "      <th>9984</th>\n",
       "      <td>2013-08-29</td>\n",
       "      <td>ORD Terminal 5, O'Hare International Airport, ...</td>\n",
       "      <td>10</td>\n",
       "      <td>W OHARE AIRPORT</td>\n",
       "      <td>T900</td>\n",
       "      <td>1000  W OHARE AIRPORT, Chicago, IL</td>\n",
       "      <td>41.974689</td>\n",
       "      <td>-87.890615</td>\n",
       "      <td>9</td>\n",
       "      <td>1</td>\n",
       "      <td>...</td>\n",
       "      <td>0</td>\n",
       "      <td>M</td>\n",
       "      <td>0.0</td>\n",
       "      <td>0.00</td>\n",
       "      <td>29.29</td>\n",
       "      <td>30.01</td>\n",
       "      <td>3.9</td>\n",
       "      <td>10</td>\n",
       "      <td>4.7</td>\n",
       "      <td>78</td>\n",
       "    </tr>\n",
       "    <tr>\n",
       "      <th>2854</th>\n",
       "      <td>2007-09-04</td>\n",
       "      <td>5800 North Western Avenue, Chicago, IL 60659, USA</td>\n",
       "      <td>58</td>\n",
       "      <td>N WESTERN AVE</td>\n",
       "      <td>T028</td>\n",
       "      <td>5800  N WESTERN AVE, Chicago, IL</td>\n",
       "      <td>41.986921</td>\n",
       "      <td>-87.689778</td>\n",
       "      <td>9</td>\n",
       "      <td>1</td>\n",
       "      <td>...</td>\n",
       "      <td>0</td>\n",
       "      <td>M</td>\n",
       "      <td>0.0</td>\n",
       "      <td>0.00</td>\n",
       "      <td>29.28</td>\n",
       "      <td>30.00</td>\n",
       "      <td>2.8</td>\n",
       "      <td>22</td>\n",
       "      <td>4.3</td>\n",
       "      <td>76</td>\n",
       "    </tr>\n",
       "    <tr>\n",
       "      <th>10090</th>\n",
       "      <td>2013-09-06</td>\n",
       "      <td>6400 South Stony Island Avenue, Chicago, IL 60...</td>\n",
       "      <td>64</td>\n",
       "      <td>S STONY ISLAND AVE</td>\n",
       "      <td>T077</td>\n",
       "      <td>6400  S STONY ISLAND AVE, Chicago, IL</td>\n",
       "      <td>41.778748</td>\n",
       "      <td>-87.586427</td>\n",
       "      <td>8</td>\n",
       "      <td>1</td>\n",
       "      <td>...</td>\n",
       "      <td>M</td>\n",
       "      <td>M</td>\n",
       "      <td>M</td>\n",
       "      <td>0.00</td>\n",
       "      <td>29.44</td>\n",
       "      <td>30.11</td>\n",
       "      <td>4.3</td>\n",
       "      <td>17</td>\n",
       "      <td>6.0</td>\n",
       "      <td>74</td>\n",
       "    </tr>\n",
       "    <tr>\n",
       "      <th>9452</th>\n",
       "      <td>2013-08-08</td>\n",
       "      <td>Chicago Midway International Airport (MDW), 52...</td>\n",
       "      <td>52</td>\n",
       "      <td>W 63RD ST</td>\n",
       "      <td>T065</td>\n",
       "      <td>5200  W 63RD ST, Chicago, IL</td>\n",
       "      <td>41.778297</td>\n",
       "      <td>-87.752411</td>\n",
       "      <td>9</td>\n",
       "      <td>1</td>\n",
       "      <td>...</td>\n",
       "      <td>M</td>\n",
       "      <td>M</td>\n",
       "      <td>M</td>\n",
       "      <td>0.00</td>\n",
       "      <td>29.33</td>\n",
       "      <td>29.96</td>\n",
       "      <td>10.5</td>\n",
       "      <td>5</td>\n",
       "      <td>10.8</td>\n",
       "      <td>74</td>\n",
       "    </tr>\n",
       "    <tr>\n",
       "      <th>5486</th>\n",
       "      <td>2009-08-25</td>\n",
       "      <td>South Cottage Grove Avenue, Chicago, IL, USA</td>\n",
       "      <td>10</td>\n",
       "      <td>S COTTAGE GROVE</td>\n",
       "      <td>T102</td>\n",
       "      <td>1000  S COTTAGE GROVE, Chicago, IL</td>\n",
       "      <td>41.750498</td>\n",
       "      <td>-87.605294</td>\n",
       "      <td>5</td>\n",
       "      <td>1</td>\n",
       "      <td>...</td>\n",
       "      <td>M</td>\n",
       "      <td>M</td>\n",
       "      <td>M</td>\n",
       "      <td>0.00</td>\n",
       "      <td>29.39</td>\n",
       "      <td>30.04</td>\n",
       "      <td>8.3</td>\n",
       "      <td>21</td>\n",
       "      <td>8.6</td>\n",
       "      <td>72</td>\n",
       "    </tr>\n",
       "    <tr>\n",
       "      <th>3149</th>\n",
       "      <td>2007-09-12</td>\n",
       "      <td>1000 East 67th Street, Chicago, IL 60637, USA</td>\n",
       "      <td>10</td>\n",
       "      <td>E 67TH ST</td>\n",
       "      <td>T073</td>\n",
       "      <td>1000  E 67TH ST, Chicago, IL</td>\n",
       "      <td>41.773215</td>\n",
       "      <td>-87.600880</td>\n",
       "      <td>8</td>\n",
       "      <td>1</td>\n",
       "      <td>...</td>\n",
       "      <td>M</td>\n",
       "      <td>M</td>\n",
       "      <td>M</td>\n",
       "      <td>0.00</td>\n",
       "      <td>29.46</td>\n",
       "      <td>30.11</td>\n",
       "      <td>1.9</td>\n",
       "      <td>5</td>\n",
       "      <td>6.0</td>\n",
       "      <td>56</td>\n",
       "    </tr>\n",
       "    <tr>\n",
       "      <th>2865</th>\n",
       "      <td>2007-09-04</td>\n",
       "      <td>4500 North Campbell Avenue, Chicago, IL 60625,...</td>\n",
       "      <td>45</td>\n",
       "      <td>N CAMPBELL AVE</td>\n",
       "      <td>T220</td>\n",
       "      <td>4500  N CAMPBELL AVE, Chicago, IL</td>\n",
       "      <td>41.963976</td>\n",
       "      <td>-87.691810</td>\n",
       "      <td>9</td>\n",
       "      <td>1</td>\n",
       "      <td>...</td>\n",
       "      <td>0</td>\n",
       "      <td>M</td>\n",
       "      <td>0.0</td>\n",
       "      <td>0.00</td>\n",
       "      <td>29.28</td>\n",
       "      <td>30.00</td>\n",
       "      <td>2.8</td>\n",
       "      <td>22</td>\n",
       "      <td>4.3</td>\n",
       "      <td>76</td>\n",
       "    </tr>\n",
       "    <tr>\n",
       "      <th>7280</th>\n",
       "      <td>2011-08-12</td>\n",
       "      <td>4000 South Dearborn Street, Chicago, IL 60609,...</td>\n",
       "      <td>40</td>\n",
       "      <td>S DEARBORN ST</td>\n",
       "      <td>T081</td>\n",
       "      <td>4000  S DEARBORN ST, Chicago, IL</td>\n",
       "      <td>41.821582</td>\n",
       "      <td>-87.627796</td>\n",
       "      <td>9</td>\n",
       "      <td>1</td>\n",
       "      <td>...</td>\n",
       "      <td>M</td>\n",
       "      <td>M</td>\n",
       "      <td>M</td>\n",
       "      <td>0.00</td>\n",
       "      <td>29.28</td>\n",
       "      <td>29.93</td>\n",
       "      <td>8.2</td>\n",
       "      <td>19</td>\n",
       "      <td>8.4</td>\n",
       "      <td>74</td>\n",
       "    </tr>\n",
       "    <tr>\n",
       "      <th>2219</th>\n",
       "      <td>2007-08-21</td>\n",
       "      <td>6500 North Oak Park Avenue, Chicago, IL 60631,...</td>\n",
       "      <td>65</td>\n",
       "      <td>N OAK PARK AVE</td>\n",
       "      <td>T143</td>\n",
       "      <td>6500  N OAK PARK AVE, Chicago, IL</td>\n",
       "      <td>41.999129</td>\n",
       "      <td>-87.795585</td>\n",
       "      <td>8</td>\n",
       "      <td>1</td>\n",
       "      <td>...</td>\n",
       "      <td>0</td>\n",
       "      <td>M</td>\n",
       "      <td>0.0</td>\n",
       "      <td>T</td>\n",
       "      <td>29.21</td>\n",
       "      <td>29.91</td>\n",
       "      <td>3.8</td>\n",
       "      <td>18</td>\n",
       "      <td>6.0</td>\n",
       "      <td>78</td>\n",
       "    </tr>\n",
       "  </tbody>\n",
       "</table>\n",
       "<p>502 rows × 175 columns</p>\n",
       "</div>"
      ],
      "text/plain": [
       "            Date                                            Address  Block  \\\n",
       "553   2007-07-18     3800 East 115th Street, Chicago, IL 60617, USA     38   \n",
       "3039  2007-09-06        South Stony Island Avenue, Chicago, IL, USA     10   \n",
       "7308  2011-08-12  ORD Terminal 5, O'Hare International Airport, ...     10   \n",
       "603   2007-07-25                South Doty Avenue, Chicago, IL, USA     12   \n",
       "10124 2013-09-06  ORD Terminal 5, O'Hare International Airport, ...     10   \n",
       "7062  2011-07-29  5100 North Mont Clare Avenue, Chicago, IL 6065...     51   \n",
       "10122 2013-09-06  ORD Terminal 5, O'Hare International Airport, ...     10   \n",
       "6961  2011-07-29  5000 South Central Avenue, Chicago, IL 60638, USA     50   \n",
       "5509  2009-08-25            Ohare Court, Bensenville, IL 60106, USA     10   \n",
       "5497  2009-08-25  ORD Terminal 5, O'Hare International Airport, ...     10   \n",
       "5191  2009-07-31  8200 South Kostner Avenue, Chicago, IL 60652, USA     82   \n",
       "4890  2009-07-24  4100 North Oak Park Avenue, Chicago, IL 60634,...     41   \n",
       "3552  2007-09-24                South Doty Avenue, Chicago, IL, USA     12   \n",
       "10058 2013-09-06  4500 North Campbell Avenue, Chicago, IL 60625,...     45   \n",
       "3551  2007-09-24                South Doty Avenue, Chicago, IL, USA     12   \n",
       "2388  2007-08-22      2200 West 89th Street, Chicago, IL 60643, USA     22   \n",
       "2394  2007-08-22       4200 West 127th Street, Alsip, IL 60803, USA     42   \n",
       "2216  2007-08-21     2200 West 113th Street, Chicago, IL 60643, USA     22   \n",
       "7311  2011-08-12  ORD Terminal 5, O'Hare International Airport, ...     10   \n",
       "7325  2011-08-12            Ohare Court, Bensenville, IL 60106, USA     10   \n",
       "2100  2007-08-16                South Doty Avenue, Chicago, IL, USA     12   \n",
       "2063  2007-08-16                South Doty Avenue, Chicago, IL, USA     12   \n",
       "2069  2007-08-16                South Doty Avenue, Chicago, IL, USA     12   \n",
       "2072  2007-08-16                South Doty Avenue, Chicago, IL, USA     12   \n",
       "2076  2007-08-16                South Doty Avenue, Chicago, IL, USA     12   \n",
       "2078  2007-08-16                South Doty Avenue, Chicago, IL, USA     12   \n",
       "2095  2007-08-16                South Doty Avenue, Chicago, IL, USA     12   \n",
       "2105  2007-08-16        South Stony Island Avenue, Chicago, IL, USA     10   \n",
       "2192  2007-08-17     4000 East 130th Street, Chicago, IL 60633, USA     40   \n",
       "2108  2007-08-16        South Stony Island Avenue, Chicago, IL, USA     10   \n",
       "...          ...                                                ...    ...   \n",
       "7357  2011-08-19  5800 North Western Avenue, Chicago, IL 60659, USA     58   \n",
       "2228  2007-08-21    7200 North Oketo Avenue, Chicago, IL 60631, USA     72   \n",
       "2793  2007-08-28                 East 91st Street, Chicago, IL, USA     81   \n",
       "9867  2013-08-22  1700 North Ashland Avenue, Chicago, IL 60622, USA     17   \n",
       "1166  2007-08-01    5000 South Union Avenue, Chicago, IL 60609, USA     50   \n",
       "2488  2007-08-22                 East 91st Street, Chicago, IL, USA     81   \n",
       "10439 2013-09-26      4600 Milwaukee Avenue, Chicago, IL 60630, USA     46   \n",
       "7559  2011-08-26  8200 South Kostner Avenue, Chicago, IL 60652, USA     82   \n",
       "2642  2007-08-24  1100 North Artesian Avenue, Chicago, IL 60622,...     11   \n",
       "7309  2011-08-12  ORD Terminal 5, O'Hare International Airport, ...     10   \n",
       "1789  2007-08-15        1100 Roosevelt Road, Chicago, IL 60608, USA     11   \n",
       "9949  2013-08-29      6300 West 64th Street, Chicago, IL 60638, USA     63   \n",
       "7743  2011-09-12    1700 North Pulaski Road, Chicago, IL 60639, USA     17   \n",
       "2873  2007-09-04    6800 West Belden Avenue, Chicago, IL 60707, USA     68   \n",
       "2944  2007-09-05  3900 South Ashland Avenue, Chicago, IL 60609, USA     39   \n",
       "970   2007-08-01  4500 North Campbell Avenue, Chicago, IL 60625,...     45   \n",
       "2540  2007-08-24     2200 West 113th Street, Chicago, IL 60643, USA     22   \n",
       "2915  2007-09-04    3700 South Pulaski Road, Chicago, IL 60623, USA     37   \n",
       "9473  2013-08-08    5000 South Union Avenue, Chicago, IL 60609, USA     50   \n",
       "10295 2013-09-12  1700 North Ashland Avenue, Chicago, IL 60622, USA     17   \n",
       "2272  2007-08-21  6000 North Avondale Avenue, Chicago, IL 60631,...     60   \n",
       "9984  2013-08-29  ORD Terminal 5, O'Hare International Airport, ...     10   \n",
       "2854  2007-09-04  5800 North Western Avenue, Chicago, IL 60659, USA     58   \n",
       "10090 2013-09-06  6400 South Stony Island Avenue, Chicago, IL 60...     64   \n",
       "9452  2013-08-08  Chicago Midway International Airport (MDW), 52...     52   \n",
       "5486  2009-08-25       South Cottage Grove Avenue, Chicago, IL, USA     10   \n",
       "3149  2007-09-12      1000 East 67th Street, Chicago, IL 60637, USA     10   \n",
       "2865  2007-09-04  4500 North Campbell Avenue, Chicago, IL 60625,...     45   \n",
       "7280  2011-08-12  4000 South Dearborn Street, Chicago, IL 60609,...     40   \n",
       "2219  2007-08-21  6500 North Oak Park Avenue, Chicago, IL 60631,...     65   \n",
       "\n",
       "                    Street  Trap                 AddressNumberAndStreet  \\\n",
       "553             E 115TH ST  T215          3800  E 115TH ST, Chicago, IL   \n",
       "3039    S STONY ISLAND AVE  T138  1000  S STONY ISLAND AVE, Chicago, IL   \n",
       "7308       W OHARE AIRPORT  T900     1000  W OHARE AIRPORT, Chicago, IL   \n",
       "603             S DOTY AVE  T115          1200  S DOTY AVE, Chicago, IL   \n",
       "10124      W OHARE AIRPORT  T900     1000  W OHARE AIRPORT, Chicago, IL   \n",
       "7062      N MONT CLARE AVE  T223    5100  N MONT CLARE AVE, Chicago, IL   \n",
       "10122      W OHARE AIRPORT  T900     1000  W OHARE AIRPORT, Chicago, IL   \n",
       "6961         S CENTRAL AVE  T031       5000  S CENTRAL AVE, Chicago, IL   \n",
       "5509               W OHARE  T903             1000  W OHARE, Chicago, IL   \n",
       "5497       W OHARE AIRPORT  T900     1000  W OHARE AIRPORT, Chicago, IL   \n",
       "5191         S KOSTNER AVE  T225       8200  S KOSTNER AVE, Chicago, IL   \n",
       "4890        N OAK PARK AVE  T002      4100  N OAK PARK AVE, Chicago, IL   \n",
       "3552            S DOTY AVE  T115          1200  S DOTY AVE, Chicago, IL   \n",
       "10058       N CAMPBELL AVE  T220      4500  N CAMPBELL AVE, Chicago, IL   \n",
       "3551            S DOTY AVE  T115          1200  S DOTY AVE, Chicago, IL   \n",
       "2388             W 89TH ST  T096           2200  W 89TH ST, Chicago, IL   \n",
       "2394            W 127TH PL  T135          4200  W 127TH PL, Chicago, IL   \n",
       "2216            W 113TH ST  T086          2200  W 113TH ST, Chicago, IL   \n",
       "7311       W OHARE AIRPORT  T900     1000  W OHARE AIRPORT, Chicago, IL   \n",
       "7325               W OHARE  T903             1000  W OHARE, Chicago, IL   \n",
       "2100            S DOTY AVE  T115          1200  S DOTY AVE, Chicago, IL   \n",
       "2063            S DOTY AVE  T115          1200  S DOTY AVE, Chicago, IL   \n",
       "2069            S DOTY AVE  T115          1200  S DOTY AVE, Chicago, IL   \n",
       "2072            S DOTY AVE  T115          1200  S DOTY AVE, Chicago, IL   \n",
       "2076            S DOTY AVE  T115          1200  S DOTY AVE, Chicago, IL   \n",
       "2078            S DOTY AVE  T115          1200  S DOTY AVE, Chicago, IL   \n",
       "2095            S DOTY AVE  T115          1200  S DOTY AVE, Chicago, IL   \n",
       "2105    S STONY ISLAND AVE  T138  1000  S STONY ISLAND AVE, Chicago, IL   \n",
       "2192            E 130TH ST  T221          4000  E 130TH ST, Chicago, IL   \n",
       "2108    S STONY ISLAND AVE  T138  1000  S STONY ISLAND AVE, Chicago, IL   \n",
       "...                    ...   ...                                    ...   \n",
       "7357         N WESTERN AVE  T028       5800  N WESTERN AVE, Chicago, IL   \n",
       "2228           N OKETO AVE  T016         7200  N OKETO AVE, Chicago, IL   \n",
       "2793             E 91ST ST  T107           8100  E 91ST ST, Chicago, IL   \n",
       "9867         N ASHLAND AVE  T232       1700  N ASHLAND AVE, Chicago, IL   \n",
       "1166           S UNION AVE  T082         5000  S UNION AVE, Chicago, IL   \n",
       "2488             E 91ST ST  T107           8100  E 91ST ST, Chicago, IL   \n",
       "10439      N MILWAUKEE AVE  T003     4600  N MILWAUKEE AVE, Chicago, IL   \n",
       "7559         S KOSTNER AVE  T225       8200  S KOSTNER AVE, Chicago, IL   \n",
       "2642        S ARTESIAN AVE  T160      1100  S ARTESIAN AVE, Chicago, IL   \n",
       "7309       W OHARE AIRPORT  T900     1000  W OHARE AIRPORT, Chicago, IL   \n",
       "1789           W ROOSEVELT  T048         1100  W ROOSEVELT, Chicago, IL   \n",
       "9949             W 64TH ST  T155           6300  W 64TH ST, Chicago, IL   \n",
       "7743          N PULASKI RD  T039        1700  N PULASKI RD, Chicago, IL   \n",
       "2873          W BELDEN AVE  T037        6800  W BELDEN AVE, Chicago, IL   \n",
       "2944         S ASHLAND AVE  T074       3900  S ASHLAND AVE, Chicago, IL   \n",
       "970         N CAMPBELL AVE  T220      4500  N CAMPBELL AVE, Chicago, IL   \n",
       "2540            W 113TH ST  T086          2200  W 113TH ST, Chicago, IL   \n",
       "2915          S PULASKI RD  T063        3700  S PULASKI RD, Chicago, IL   \n",
       "9473           S UNION AVE  T082         5000  S UNION AVE, Chicago, IL   \n",
       "10295        N ASHLAND AVE  T232       1700  N ASHLAND AVE, Chicago, IL   \n",
       "2272        N AVONDALE AVE  T006      6000  N AVONDALE AVE, Chicago, IL   \n",
       "9984       W OHARE AIRPORT  T900     1000  W OHARE AIRPORT, Chicago, IL   \n",
       "2854         N WESTERN AVE  T028       5800  N WESTERN AVE, Chicago, IL   \n",
       "10090   S STONY ISLAND AVE  T077  6400  S STONY ISLAND AVE, Chicago, IL   \n",
       "9452             W 63RD ST  T065           5200  W 63RD ST, Chicago, IL   \n",
       "5486       S COTTAGE GROVE  T102     1000  S COTTAGE GROVE, Chicago, IL   \n",
       "3149             E 67TH ST  T073           1000  E 67TH ST, Chicago, IL   \n",
       "2865        N CAMPBELL AVE  T220      4500  N CAMPBELL AVE, Chicago, IL   \n",
       "7280         S DEARBORN ST  T081       4000  S DEARBORN ST, Chicago, IL   \n",
       "2219        N OAK PARK AVE  T143      6500  N OAK PARK AVE, Chicago, IL   \n",
       "\n",
       "        Latitude  Longitude  AddressAccuracy  NumMosquitos    ...     Depth  \\\n",
       "553    41.686398 -87.531635                8            50    ...         M   \n",
       "3039   41.726465 -87.585413                5            50    ...         M   \n",
       "7308   41.974689 -87.890615                9            50    ...         0   \n",
       "603    41.673408 -87.599862                5            50    ...         M   \n",
       "10124  41.974689 -87.890615                9            50    ...         0   \n",
       "7062   41.973845 -87.805059                9            50    ...         0   \n",
       "10122  41.974689 -87.890615                9            50    ...         0   \n",
       "6961   41.801498 -87.763416                9            50    ...         M   \n",
       "5509   41.957799 -87.930995                5            50    ...         0   \n",
       "5497   41.974689 -87.890615                9            50    ...         0   \n",
       "5191   41.743402 -87.731435                8            50    ...         M   \n",
       "4890   41.954690 -87.800991                9            50    ...         0   \n",
       "3552   41.673408 -87.599862                5            50    ...         M   \n",
       "10058  41.963976 -87.691810                9            50    ...         0   \n",
       "3551   41.673408 -87.599862                5            50    ...         M   \n",
       "2388   41.731922 -87.677512                8            50    ...         M   \n",
       "2394   41.662014 -87.724608                8            50    ...         M   \n",
       "2216   41.688324 -87.676709                8            50    ...         M   \n",
       "7311   41.974689 -87.890615                9            50    ...         0   \n",
       "7325   41.957799 -87.930995                5            50    ...         0   \n",
       "2100   41.673408 -87.599862                5            50    ...         M   \n",
       "2063   41.673408 -87.599862                5            50    ...         M   \n",
       "2069   41.673408 -87.599862                5            50    ...         M   \n",
       "2072   41.673408 -87.599862                5            50    ...         M   \n",
       "2076   41.673408 -87.599862                5            50    ...         M   \n",
       "2078   41.673408 -87.599862                5            50    ...         M   \n",
       "2095   41.673408 -87.599862                5            50    ...         M   \n",
       "2105   41.726465 -87.585413                5            50    ...         M   \n",
       "2192   41.659112 -87.538693                8            50    ...         M   \n",
       "2108   41.726465 -87.585413                5            50    ...         M   \n",
       "...          ...        ...              ...           ...    ...       ...   \n",
       "7357   41.986921 -87.689778                9             4    ...         0   \n",
       "2228   42.011601 -87.811506                8             4    ...         0   \n",
       "2793   41.729669 -87.582699                5             4    ...         M   \n",
       "9867   41.912563 -87.668055                9             3    ...         0   \n",
       "1166   41.803423 -87.642984                8             3    ...         M   \n",
       "2488   41.729669 -87.582699                5             3    ...         M   \n",
       "10439  41.964242 -87.757639                8             3    ...         0   \n",
       "7559   41.743402 -87.731435                8             3    ...         M   \n",
       "2642   41.903002 -87.688267                8             3    ...         0   \n",
       "7309   41.974689 -87.890615                9             3    ...         0   \n",
       "1789   41.867108 -87.654224                8             3    ...         M   \n",
       "9949   41.776156 -87.778927                9             3    ...         M   \n",
       "7743   41.911824 -87.726737                9             3    ...         0   \n",
       "2873   41.921177 -87.795180                8             3    ...         0   \n",
       "2944   41.822536 -87.666343                9             3    ...         M   \n",
       "970    41.963976 -87.691810                9             2    ...         0   \n",
       "2540   41.688324 -87.676709                8             2    ...         M   \n",
       "2915   41.825610 -87.726549                9             2    ...         M   \n",
       "9473   41.803423 -87.642984                8             2    ...         M   \n",
       "10295  41.912563 -87.668055                9             2    ...         0   \n",
       "2272   41.990284 -87.797127                8             1    ...         0   \n",
       "9984   41.974689 -87.890615                9             1    ...         0   \n",
       "2854   41.986921 -87.689778                9             1    ...         0   \n",
       "10090  41.778748 -87.586427                8             1    ...         M   \n",
       "9452   41.778297 -87.752411                9             1    ...         M   \n",
       "5486   41.750498 -87.605294                5             1    ...         M   \n",
       "3149   41.773215 -87.600880                8             1    ...         M   \n",
       "2865   41.963976 -87.691810                9             1    ...         0   \n",
       "7280   41.821582 -87.627796                9             1    ...         M   \n",
       "2219   41.999129 -87.795585                8             1    ...         0   \n",
       "\n",
       "       Water1  SnowFall  PrecipTotal  StnPressure  SeaLevel  ResultSpeed  \\\n",
       "553         M         M         0.92        29.18     29.83         10.3   \n",
       "3039        M         M         0.08        29.27     29.91         12.8   \n",
       "7308        M       0.0         0.00        29.22     29.94          8.3   \n",
       "603         M         M         0.00        29.35     29.99          6.4   \n",
       "10124       M       0.0         0.00        29.38     30.11          4.7   \n",
       "7062        M       0.0         0.70        29.28     29.98          4.3   \n",
       "10122       M       0.0         0.00        29.38     30.11          4.7   \n",
       "6961        M         M         0.36        29.34     29.96          3.5   \n",
       "5509        M       0.0         0.00        29.33     30.05          9.1   \n",
       "5497        M       0.0         0.00        29.33     30.05          9.1   \n",
       "5191        M         M         0.00        29.29     29.92          5.9   \n",
       "4890        M       0.0         0.14        29.08     29.83          8.9   \n",
       "3552        M         M         0.00        29.34     29.98         10.0   \n",
       "10058       M       0.0         0.00        29.38     30.11          4.7   \n",
       "3551        M         M         0.00        29.34     29.98         10.0   \n",
       "2388        M         M         0.88        29.29     29.93          5.1   \n",
       "2394        M         M         0.88        29.29     29.93          5.1   \n",
       "2216        M         M         0.01        29.26     29.89          3.5   \n",
       "7311        M       0.0         0.00        29.22     29.94          8.3   \n",
       "7325        M       0.0         0.00        29.22     29.94          8.3   \n",
       "2100        M         M         0.00        29.33     29.95          3.5   \n",
       "2063        M         M         0.00        29.33     29.95          3.5   \n",
       "2069        M         M         0.00        29.33     29.95          3.5   \n",
       "2072        M         M         0.00        29.33     29.95          3.5   \n",
       "2076        M         M         0.00        29.33     29.95          3.5   \n",
       "2078        M         M         0.00        29.33     29.95          3.5   \n",
       "2095        M         M         0.00        29.33     29.95          3.5   \n",
       "2105        M         M         0.00        29.33     29.95          3.5   \n",
       "2192        M         M         0.00        29.46     30.08          6.1   \n",
       "2108        M         M         0.00        29.33     29.95          3.5   \n",
       "...       ...       ...          ...          ...       ...          ...   \n",
       "7357        M       0.0         0.00        29.18     29.89          3.3   \n",
       "2228        M       0.0            T        29.21     29.91          3.8   \n",
       "2793        M         M         0.00        29.34     29.98          7.8   \n",
       "9867        M       0.0         0.23        29.36     30.05          1.5   \n",
       "1166        M         M         0.00        29.34     29.98          2.1   \n",
       "2488        M         M         0.88        29.29     29.93          5.1   \n",
       "10439       M       0.0         0.00        29.34     30.04          3.8   \n",
       "7559        M         M         0.00        29.32     29.97          1.2   \n",
       "2642        M       0.0         0.24        29.11     29.82          5.8   \n",
       "7309        M       0.0         0.00        29.22     29.94          8.3   \n",
       "1789        M         M         0.83        29.23     29.87          4.9   \n",
       "9949        M         M         0.00        29.36     30.00          4.2   \n",
       "7743        M       0.0         0.00        29.18     29.91         10.5   \n",
       "2873        M       0.0         0.00        29.28     30.00          2.8   \n",
       "2944        M         M         0.00        29.31     29.94          6.4   \n",
       "970         M       0.0         0.00        29.29     30.00          3.5   \n",
       "2540        M         M         0.20        29.16     29.81          5.5   \n",
       "2915        M         M         0.00        29.34     29.99          2.2   \n",
       "9473        M         M         0.00        29.33     29.96         10.5   \n",
       "10295       M       0.0            T        29.28     29.98          7.0   \n",
       "2272        M       0.0            T        29.21     29.91          3.8   \n",
       "9984        M       0.0         0.00        29.29     30.01          3.9   \n",
       "2854        M       0.0         0.00        29.28     30.00          2.8   \n",
       "10090       M         M         0.00        29.44     30.11          4.3   \n",
       "9452        M         M         0.00        29.33     29.96         10.5   \n",
       "5486        M         M         0.00        29.39     30.04          8.3   \n",
       "3149        M         M         0.00        29.46     30.11          1.9   \n",
       "2865        M       0.0         0.00        29.28     30.00          2.8   \n",
       "7280        M         M         0.00        29.28     29.93          8.2   \n",
       "2219        M       0.0            T        29.21     29.91          3.8   \n",
       "\n",
       "       ResultDir  AvgSpeed  Tavg_int  \n",
       "553           24      10.6        77  \n",
       "3039          20      13.0        79  \n",
       "7308          19       8.5        71  \n",
       "603           23       7.0        77  \n",
       "10124         20       6.0        72  \n",
       "7062           4       5.9        79  \n",
       "10122         20       6.0        72  \n",
       "6961           4       5.6        80  \n",
       "5509          21       9.2        71  \n",
       "5497          21       9.2        71  \n",
       "5191          27       6.7        72  \n",
       "4890          23       9.8        72  \n",
       "3552          19      10.5        81  \n",
       "10058         20       6.0        72  \n",
       "3551          19      10.5        81  \n",
       "2388          21       8.4        80  \n",
       "2394          21       8.4        80  \n",
       "2216          17       6.0        77  \n",
       "7311          19       8.5        71  \n",
       "7325          19       8.5        71  \n",
       "2100           1       5.7        72  \n",
       "2063           1       5.7        72  \n",
       "2069           1       5.7        72  \n",
       "2072           1       5.7        72  \n",
       "2076           1       5.7        72  \n",
       "2078           1       5.7        72  \n",
       "2095           1       5.7        72  \n",
       "2105           1       5.7        72  \n",
       "2192          31       7.4        73  \n",
       "2108           1       5.7        72  \n",
       "...          ...       ...       ...  \n",
       "7357          14       5.2        76  \n",
       "2228          18       6.0        78  \n",
       "2793          21       8.3        80  \n",
       "9867          23       7.0        73  \n",
       "1166          13       3.7        80  \n",
       "2488          21       8.4        80  \n",
       "10439          8       4.2        63  \n",
       "7559          20       3.4        72  \n",
       "2642          25       7.1        75  \n",
       "7309          19       8.5        71  \n",
       "1789           6       7.1        77  \n",
       "9949          10       4.6        78  \n",
       "7743          23      10.9        75  \n",
       "2873          22       4.3        76  \n",
       "2944          19       6.7        82  \n",
       "970            9       4.1        81  \n",
       "2540          25       7.3        75  \n",
       "2915          24       5.0        79  \n",
       "9473           5      10.8        74  \n",
       "10295         35       9.4        72  \n",
       "2272          18       6.0        78  \n",
       "9984          10       4.7        78  \n",
       "2854          22       4.3        76  \n",
       "10090         17       6.0        74  \n",
       "9452           5      10.8        74  \n",
       "5486          21       8.6        72  \n",
       "3149           5       6.0        56  \n",
       "2865          22       4.3        76  \n",
       "7280          19       8.4        74  \n",
       "2219          18       6.0        78  \n",
       "\n",
       "[502 rows x 175 columns]"
      ]
     },
     "execution_count": 76,
     "metadata": {},
     "output_type": "execute_result"
    }
   ],
   "source": [
    "pip_df.sort_values(by ='NumMosquitos', ascending = False)"
   ]
  },
  {
   "cell_type": "code",
   "execution_count": 78,
   "metadata": {},
   "outputs": [
    {
     "data": {
      "text/plain": [
       "107"
      ]
     },
     "execution_count": 78,
     "metadata": {},
     "output_type": "execute_result"
    }
   ],
   "source": [
    "pip_df.loc[pip_df['NumMosquitos'] >= 50, :].shape[0]"
   ]
  },
  {
   "cell_type": "code",
   "execution_count": 82,
   "metadata": {
    "scrolled": true
   },
   "outputs": [
    {
     "data": {
      "text/plain": [
       "T115    31\n",
       "T900    16\n",
       "T138    14\n",
       "T128     7\n",
       "T135     5\n",
       "T103     5\n",
       "T233     4\n",
       "T008     3\n",
       "T002     3\n",
       "T221     3\n",
       "T054     2\n",
       "T030     2\n",
       "T903     2\n",
       "T016     2\n",
       "T158     1\n",
       "T220     1\n",
       "T086     1\n",
       "T215     1\n",
       "T223     1\n",
       "T225     1\n",
       "T096     1\n",
       "T031     1\n",
       "Name: Trap, dtype: int64"
      ]
     },
     "execution_count": 82,
     "metadata": {},
     "output_type": "execute_result"
    }
   ],
   "source": [
    "pip_df.loc[pip_df['NumMosquitos'] >= 50, :]['Trap'].value_counts()"
   ]
  },
  {
   "cell_type": "markdown",
   "metadata": {},
   "source": [
    "#### Certain traps to monitor? T115, T900, and T138 stand out. Let's plan to throw those into our models."
   ]
  },
  {
   "cell_type": "markdown",
   "metadata": {},
   "source": [
    "## Combining Spray and Train"
   ]
  },
  {
   "cell_type": "code",
   "execution_count": 60,
   "metadata": {},
   "outputs": [
    {
     "data": {
      "text/html": [
       "<div>\n",
       "<style scoped>\n",
       "    .dataframe tbody tr th:only-of-type {\n",
       "        vertical-align: middle;\n",
       "    }\n",
       "\n",
       "    .dataframe tbody tr th {\n",
       "        vertical-align: top;\n",
       "    }\n",
       "\n",
       "    .dataframe thead th {\n",
       "        text-align: right;\n",
       "    }\n",
       "</style>\n",
       "<table border=\"1\" class=\"dataframe\">\n",
       "  <thead>\n",
       "    <tr style=\"text-align: right;\">\n",
       "      <th></th>\n",
       "      <th>Date</th>\n",
       "      <th>Time</th>\n",
       "      <th>Latitude</th>\n",
       "      <th>Longitude</th>\n",
       "    </tr>\n",
       "  </thead>\n",
       "  <tbody>\n",
       "    <tr>\n",
       "      <th>0</th>\n",
       "      <td>2011-08-29</td>\n",
       "      <td>6:56:58 PM</td>\n",
       "      <td>42.391623</td>\n",
       "      <td>-88.089163</td>\n",
       "    </tr>\n",
       "    <tr>\n",
       "      <th>1</th>\n",
       "      <td>2011-08-29</td>\n",
       "      <td>6:57:08 PM</td>\n",
       "      <td>42.391348</td>\n",
       "      <td>-88.089163</td>\n",
       "    </tr>\n",
       "    <tr>\n",
       "      <th>2</th>\n",
       "      <td>2011-08-29</td>\n",
       "      <td>6:57:18 PM</td>\n",
       "      <td>42.391022</td>\n",
       "      <td>-88.089157</td>\n",
       "    </tr>\n",
       "    <tr>\n",
       "      <th>3</th>\n",
       "      <td>2011-08-29</td>\n",
       "      <td>6:57:28 PM</td>\n",
       "      <td>42.390637</td>\n",
       "      <td>-88.089158</td>\n",
       "    </tr>\n",
       "    <tr>\n",
       "      <th>4</th>\n",
       "      <td>2011-08-29</td>\n",
       "      <td>6:57:38 PM</td>\n",
       "      <td>42.390410</td>\n",
       "      <td>-88.088858</td>\n",
       "    </tr>\n",
       "  </tbody>\n",
       "</table>\n",
       "</div>"
      ],
      "text/plain": [
       "         Date        Time   Latitude  Longitude\n",
       "0  2011-08-29  6:56:58 PM  42.391623 -88.089163\n",
       "1  2011-08-29  6:57:08 PM  42.391348 -88.089163\n",
       "2  2011-08-29  6:57:18 PM  42.391022 -88.089157\n",
       "3  2011-08-29  6:57:28 PM  42.390637 -88.089158\n",
       "4  2011-08-29  6:57:38 PM  42.390410 -88.088858"
      ]
     },
     "execution_count": 60,
     "metadata": {},
     "output_type": "execute_result"
    }
   ],
   "source": [
    "spray.head()"
   ]
  },
  {
   "cell_type": "code",
   "execution_count": 21,
   "metadata": {},
   "outputs": [],
   "source": [
    "train_weath['Spray?'] = 0"
   ]
  },
  {
   "cell_type": "code",
   "execution_count": 565,
   "metadata": {},
   "outputs": [],
   "source": [
    "# What follows here was a good idea in theory but not in practice,\n",
    "# because of the high computation time required. The idea was to round\n",
    "# latitudes and longitudes and then run through those categories in each\n",
    "# set looking for intersections, checking also to see that the trap date\n",
    "# was earlier than the spray date.\n",
    "\n",
    "# A less complex (but successful) version of this was employed later."
   ]
  },
  {
   "cell_type": "code",
   "execution_count": 22,
   "metadata": {},
   "outputs": [],
   "source": [
    "# train_weath['LatitudeRounded'] = round(train_weath['Latitude'], 3)"
   ]
  },
  {
   "cell_type": "code",
   "execution_count": 23,
   "metadata": {},
   "outputs": [],
   "source": [
    "# train_weath['LongitudeRounded'] = round(train_weath['Longitude'], 3)"
   ]
  },
  {
   "cell_type": "code",
   "execution_count": 24,
   "metadata": {},
   "outputs": [],
   "source": [
    "# spray['LatitudeRounded'] = round(spray['Latitude'], 3)"
   ]
  },
  {
   "cell_type": "code",
   "execution_count": 25,
   "metadata": {},
   "outputs": [],
   "source": [
    "# spray['LongitudeRounded'] = round(spray['Longitude'], 3)"
   ]
  },
  {
   "cell_type": "code",
   "execution_count": 26,
   "metadata": {},
   "outputs": [],
   "source": [
    "# train_spray = pd.merge(train_weath, spray, how = 'left', on = ['LatitudeRounded', 'LongitudeRounded'])\n",
    "\n",
    "# train_spray.shape\n",
    "\n",
    "# train_spray['Spray?'] = np.where(train_spray['Date_x'] > pd.to_datetime(train_spray['Date_y']), 1, 0)\n",
    "\n",
    "# train_spray['Spray?'].sum()\n",
    "\n",
    "# train_spray.loc[train_spray['Spray?'] == 1, 'WnvPresent'].sum()"
   ]
  },
  {
   "cell_type": "code",
   "execution_count": null,
   "metadata": {},
   "outputs": [],
   "source": []
  },
  {
   "cell_type": "code",
   "execution_count": 21,
   "metadata": {},
   "outputs": [],
   "source": [
    "# string_dates = [str(date) for date in train_weath['Date']]"
   ]
  },
  {
   "cell_type": "code",
   "execution_count": 2,
   "metadata": {},
   "outputs": [],
   "source": [
    "# train_weath['StringDate'] = string_dates"
   ]
  },
  {
   "cell_type": "code",
   "execution_count": 3,
   "metadata": {},
   "outputs": [],
   "source": [
    "# train_weath_2011 = train_weath.loc[(train_weath['StringDate'] >= '2011') & (train_weath['StringDate'] < '2013')]"
   ]
  },
  {
   "cell_type": "code",
   "execution_count": 30,
   "metadata": {},
   "outputs": [
    {
     "data": {
      "text/plain": [
       "6060    2011-06-10 00:00:00\n",
       "6061    2011-06-10 00:00:00\n",
       "6062    2011-06-10 00:00:00\n",
       "6063    2011-06-10 00:00:00\n",
       "6064    2011-06-10 00:00:00\n",
       "6065    2011-06-10 00:00:00\n",
       "6066    2011-06-10 00:00:00\n",
       "6067    2011-06-10 00:00:00\n",
       "6068    2011-06-10 00:00:00\n",
       "6069    2011-06-10 00:00:00\n",
       "6070    2011-06-10 00:00:00\n",
       "6071    2011-06-10 00:00:00\n",
       "6072    2011-06-10 00:00:00\n",
       "6073    2011-06-10 00:00:00\n",
       "6074    2011-06-10 00:00:00\n",
       "6075    2011-06-10 00:00:00\n",
       "6076    2011-06-10 00:00:00\n",
       "6077    2011-06-10 00:00:00\n",
       "6078    2011-06-10 00:00:00\n",
       "6079    2011-06-10 00:00:00\n",
       "6080    2011-06-10 00:00:00\n",
       "6081    2011-06-10 00:00:00\n",
       "6082    2011-06-10 00:00:00\n",
       "6083    2011-06-10 00:00:00\n",
       "6084    2011-06-10 00:00:00\n",
       "6085    2011-06-10 00:00:00\n",
       "6086    2011-06-10 00:00:00\n",
       "6087    2011-06-10 00:00:00\n",
       "6088    2011-06-10 00:00:00\n",
       "6089    2011-06-10 00:00:00\n",
       "               ...         \n",
       "8084    2011-09-30 00:00:00\n",
       "8085    2011-09-30 00:00:00\n",
       "8086    2011-09-30 00:00:00\n",
       "8087    2011-09-30 00:00:00\n",
       "8088    2011-09-30 00:00:00\n",
       "8089    2011-09-30 00:00:00\n",
       "8090    2011-09-30 00:00:00\n",
       "8091    2011-09-30 00:00:00\n",
       "8092    2011-09-30 00:00:00\n",
       "8093    2011-09-30 00:00:00\n",
       "8094    2011-09-30 00:00:00\n",
       "8095    2011-09-30 00:00:00\n",
       "8096    2011-09-30 00:00:00\n",
       "8097    2011-09-30 00:00:00\n",
       "8098    2011-09-30 00:00:00\n",
       "8099    2011-09-30 00:00:00\n",
       "8100    2011-09-30 00:00:00\n",
       "8101    2011-09-30 00:00:00\n",
       "8102    2011-09-30 00:00:00\n",
       "8103    2011-09-30 00:00:00\n",
       "8104    2011-09-30 00:00:00\n",
       "8105    2011-09-30 00:00:00\n",
       "8106    2011-09-30 00:00:00\n",
       "8107    2011-09-30 00:00:00\n",
       "8108    2011-09-30 00:00:00\n",
       "8109    2011-09-30 00:00:00\n",
       "8110    2011-09-30 00:00:00\n",
       "8111    2011-09-30 00:00:00\n",
       "8112    2011-09-30 00:00:00\n",
       "8113    2011-09-30 00:00:00\n",
       "Name: StringDate, Length: 2054, dtype: object"
      ]
     },
     "execution_count": 30,
     "metadata": {},
     "output_type": "execute_result"
    }
   ],
   "source": [
    "# train_weath_2011['StringDate']"
   ]
  },
  {
   "cell_type": "code",
   "execution_count": 24,
   "metadata": {},
   "outputs": [],
   "source": [
    "# train_weath_2013 = train_weath.loc[(train_weath['StringDate'] >= '2013') & (train_weath['StringDate'] < '2014')]"
   ]
  },
  {
   "cell_type": "code",
   "execution_count": 25,
   "metadata": {},
   "outputs": [],
   "source": [
    "# train_weath_pre = train_weath.loc[train_weath['StringDate'] < '2011']"
   ]
  },
  {
   "cell_type": "code",
   "execution_count": 26,
   "metadata": {},
   "outputs": [],
   "source": [
    "# spray_2011 = spray.loc[(spray['Date'] > '2010') & (spray['Date'] < '2012')]"
   ]
  },
  {
   "cell_type": "code",
   "execution_count": 33,
   "metadata": {},
   "outputs": [
    {
     "data": {
      "text/plain": [
       "2209"
      ]
     },
     "execution_count": 33,
     "metadata": {},
     "output_type": "execute_result"
    }
   ],
   "source": [
    "# spray_2011.shape[0]"
   ]
  },
  {
   "cell_type": "code",
   "execution_count": 27,
   "metadata": {},
   "outputs": [],
   "source": [
    "# spray_2013 = spray.loc[(spray['Date'] > '2012') & (spray['Date'] < '2014')]"
   ]
  },
  {
   "cell_type": "code",
   "execution_count": 35,
   "metadata": {},
   "outputs": [
    {
     "data": {
      "text/plain": [
       "12626"
      ]
     },
     "execution_count": 35,
     "metadata": {},
     "output_type": "execute_result"
    }
   ],
   "source": [
    "# spray_2013.shape[0]"
   ]
  },
  {
   "cell_type": "code",
   "execution_count": 36,
   "metadata": {
    "scrolled": true
   },
   "outputs": [
    {
     "data": {
      "text/html": [
       "<div>\n",
       "<style scoped>\n",
       "    .dataframe tbody tr th:only-of-type {\n",
       "        vertical-align: middle;\n",
       "    }\n",
       "\n",
       "    .dataframe tbody tr th {\n",
       "        vertical-align: top;\n",
       "    }\n",
       "\n",
       "    .dataframe thead th {\n",
       "        text-align: right;\n",
       "    }\n",
       "</style>\n",
       "<table border=\"1\" class=\"dataframe\">\n",
       "  <thead>\n",
       "    <tr style=\"text-align: right;\">\n",
       "      <th></th>\n",
       "      <th>Date</th>\n",
       "      <th>Address</th>\n",
       "      <th>Block</th>\n",
       "      <th>Street</th>\n",
       "      <th>Trap</th>\n",
       "      <th>AddressNumberAndStreet</th>\n",
       "      <th>Latitude</th>\n",
       "      <th>Longitude</th>\n",
       "      <th>AddressAccuracy</th>\n",
       "      <th>NumMosquitos</th>\n",
       "      <th>...</th>\n",
       "      <th>SnowFall</th>\n",
       "      <th>PrecipTotal</th>\n",
       "      <th>StnPressure</th>\n",
       "      <th>SeaLevel</th>\n",
       "      <th>ResultSpeed</th>\n",
       "      <th>ResultDir</th>\n",
       "      <th>AvgSpeed</th>\n",
       "      <th>Tavg_int</th>\n",
       "      <th>Spray?</th>\n",
       "      <th>StringDate</th>\n",
       "    </tr>\n",
       "  </thead>\n",
       "  <tbody>\n",
       "    <tr>\n",
       "      <th>6060</th>\n",
       "      <td>2011-06-10</td>\n",
       "      <td>1100 West Chicago Avenue, Chicago, IL 60642, USA</td>\n",
       "      <td>11</td>\n",
       "      <td>W CHICAGO</td>\n",
       "      <td>T049</td>\n",
       "      <td>1100  W CHICAGO, Chicago, IL</td>\n",
       "      <td>41.896282</td>\n",
       "      <td>-87.655232</td>\n",
       "      <td>8</td>\n",
       "      <td>1</td>\n",
       "      <td>...</td>\n",
       "      <td>0.0</td>\n",
       "      <td>0.52</td>\n",
       "      <td>29.21</td>\n",
       "      <td>29.94</td>\n",
       "      <td>6.4</td>\n",
       "      <td>3</td>\n",
       "      <td>8.0</td>\n",
       "      <td>60</td>\n",
       "      <td>0</td>\n",
       "      <td>2011-06-10 00:00:00</td>\n",
       "    </tr>\n",
       "  </tbody>\n",
       "</table>\n",
       "<p>1 rows × 177 columns</p>\n",
       "</div>"
      ],
      "text/plain": [
       "           Date                                           Address  Block  \\\n",
       "6060 2011-06-10  1100 West Chicago Avenue, Chicago, IL 60642, USA     11   \n",
       "\n",
       "          Street  Trap        AddressNumberAndStreet   Latitude  Longitude  \\\n",
       "6060   W CHICAGO  T049  1100  W CHICAGO, Chicago, IL  41.896282 -87.655232   \n",
       "\n",
       "      AddressAccuracy  NumMosquitos         ...           SnowFall  \\\n",
       "6060                8             1         ...                0.0   \n",
       "\n",
       "      PrecipTotal  StnPressure  SeaLevel  ResultSpeed  ResultDir  AvgSpeed  \\\n",
       "6060         0.52        29.21     29.94          6.4          3       8.0   \n",
       "\n",
       "      Tavg_int  Spray?           StringDate  \n",
       "6060        60       0  2011-06-10 00:00:00  \n",
       "\n",
       "[1 rows x 177 columns]"
      ]
     },
     "execution_count": 36,
     "metadata": {},
     "output_type": "execute_result"
    }
   ],
   "source": [
    "# train_weath_2011.head(1)"
   ]
  },
  {
   "cell_type": "code",
   "execution_count": 37,
   "metadata": {},
   "outputs": [
    {
     "name": "stderr",
     "output_type": "stream",
     "text": [
      "/Users/gadamico/anaconda3/lib/python3.6/site-packages/ipykernel/__main__.py:4: SettingWithCopyWarning: \n",
      "A value is trying to be set on a copy of a slice from a DataFrame\n",
      "\n",
      "See the caveats in the documentation: http://pandas.pydata.org/pandas-docs/stable/indexing.html#indexing-view-versus-copy\n",
      "/Users/gadamico/anaconda3/lib/python3.6/site-packages/IPython/core/interactiveshell.py:2910: SettingWithCopyWarning: \n",
      "A value is trying to be set on a copy of a slice from a DataFrame\n",
      "\n",
      "See the caveats in the documentation: http://pandas.pydata.org/pandas-docs/stable/indexing.html#indexing-view-versus-copy\n",
      "  exec(code_obj, self.user_global_ns, self.user_ns)\n"
     ]
    }
   ],
   "source": [
    "# for i in range(spray_2011.shape[0]):\n",
    " #   for j in range(6060, 6060 + train_weath_2011.shape[0]):\n",
    "  #     if (round(train_weath_2011['Latitude'][j], 2) == round(spray_2011['Latitude'][i], 2)) and (round(train_weath_2011['Longitude'][j], 2) == round(spray_2011['Longitude'][i], 2)) and (train_weath_2011['Date'][j] < pd.to_datetime(spray_2011['Date'][i])):\n",
    "      #      train_weath_2011['Spray?'][j] = 1"
   ]
  },
  {
   "cell_type": "code",
   "execution_count": 38,
   "metadata": {
    "scrolled": true
   },
   "outputs": [
    {
     "data": {
      "text/html": [
       "<div>\n",
       "<style scoped>\n",
       "    .dataframe tbody tr th:only-of-type {\n",
       "        vertical-align: middle;\n",
       "    }\n",
       "\n",
       "    .dataframe tbody tr th {\n",
       "        vertical-align: top;\n",
       "    }\n",
       "\n",
       "    .dataframe thead th {\n",
       "        text-align: right;\n",
       "    }\n",
       "</style>\n",
       "<table border=\"1\" class=\"dataframe\">\n",
       "  <thead>\n",
       "    <tr style=\"text-align: right;\">\n",
       "      <th></th>\n",
       "      <th>Date</th>\n",
       "      <th>Address</th>\n",
       "      <th>Block</th>\n",
       "      <th>Street</th>\n",
       "      <th>Trap</th>\n",
       "      <th>AddressNumberAndStreet</th>\n",
       "      <th>Latitude</th>\n",
       "      <th>Longitude</th>\n",
       "      <th>AddressAccuracy</th>\n",
       "      <th>NumMosquitos</th>\n",
       "      <th>...</th>\n",
       "      <th>SnowFall</th>\n",
       "      <th>PrecipTotal</th>\n",
       "      <th>StnPressure</th>\n",
       "      <th>SeaLevel</th>\n",
       "      <th>ResultSpeed</th>\n",
       "      <th>ResultDir</th>\n",
       "      <th>AvgSpeed</th>\n",
       "      <th>Tavg_int</th>\n",
       "      <th>Spray?</th>\n",
       "      <th>StringDate</th>\n",
       "    </tr>\n",
       "  </thead>\n",
       "  <tbody>\n",
       "    <tr>\n",
       "      <th>8114</th>\n",
       "      <td>2013-06-07</td>\n",
       "      <td>4100 North Oak Park Avenue, Chicago, IL 60634,...</td>\n",
       "      <td>41</td>\n",
       "      <td>N OAK PARK AVE</td>\n",
       "      <td>T002</td>\n",
       "      <td>4100  N OAK PARK AVE, Chicago, IL</td>\n",
       "      <td>41.95469</td>\n",
       "      <td>-87.800991</td>\n",
       "      <td>9</td>\n",
       "      <td>19</td>\n",
       "      <td>...</td>\n",
       "      <td>0.0</td>\n",
       "      <td>T</td>\n",
       "      <td>29.20</td>\n",
       "      <td>29.92</td>\n",
       "      <td>9.5</td>\n",
       "      <td>3</td>\n",
       "      <td>9.9</td>\n",
       "      <td>60</td>\n",
       "      <td>0</td>\n",
       "      <td>2013-06-07 00:00:00</td>\n",
       "    </tr>\n",
       "  </tbody>\n",
       "</table>\n",
       "<p>1 rows × 177 columns</p>\n",
       "</div>"
      ],
      "text/plain": [
       "           Date                                            Address  Block  \\\n",
       "8114 2013-06-07  4100 North Oak Park Avenue, Chicago, IL 60634,...     41   \n",
       "\n",
       "               Street  Trap             AddressNumberAndStreet  Latitude  \\\n",
       "8114   N OAK PARK AVE  T002  4100  N OAK PARK AVE, Chicago, IL  41.95469   \n",
       "\n",
       "      Longitude  AddressAccuracy  NumMosquitos         ...           SnowFall  \\\n",
       "8114 -87.800991                9            19         ...                0.0   \n",
       "\n",
       "      PrecipTotal  StnPressure  SeaLevel  ResultSpeed  ResultDir  AvgSpeed  \\\n",
       "8114            T        29.20     29.92          9.5          3       9.9   \n",
       "\n",
       "      Tavg_int  Spray?           StringDate  \n",
       "8114        60       0  2013-06-07 00:00:00  \n",
       "\n",
       "[1 rows x 177 columns]"
      ]
     },
     "execution_count": 38,
     "metadata": {},
     "output_type": "execute_result"
    }
   ],
   "source": [
    "# train_weath_2013.head(1)"
   ]
  },
  {
   "cell_type": "code",
   "execution_count": 39,
   "metadata": {},
   "outputs": [
    {
     "data": {
      "text/html": [
       "<div>\n",
       "<style scoped>\n",
       "    .dataframe tbody tr th:only-of-type {\n",
       "        vertical-align: middle;\n",
       "    }\n",
       "\n",
       "    .dataframe tbody tr th {\n",
       "        vertical-align: top;\n",
       "    }\n",
       "\n",
       "    .dataframe thead th {\n",
       "        text-align: right;\n",
       "    }\n",
       "</style>\n",
       "<table border=\"1\" class=\"dataframe\">\n",
       "  <thead>\n",
       "    <tr style=\"text-align: right;\">\n",
       "      <th></th>\n",
       "      <th>Date</th>\n",
       "      <th>Time</th>\n",
       "      <th>Latitude</th>\n",
       "      <th>Longitude</th>\n",
       "    </tr>\n",
       "  </thead>\n",
       "  <tbody>\n",
       "    <tr>\n",
       "      <th>2209</th>\n",
       "      <td>2013-07-17</td>\n",
       "      <td>7:45:45 PM</td>\n",
       "      <td>41.997728</td>\n",
       "      <td>-87.767532</td>\n",
       "    </tr>\n",
       "  </tbody>\n",
       "</table>\n",
       "</div>"
      ],
      "text/plain": [
       "            Date        Time   Latitude  Longitude\n",
       "2209  2013-07-17  7:45:45 PM  41.997728 -87.767532"
      ]
     },
     "execution_count": 39,
     "metadata": {},
     "output_type": "execute_result"
    }
   ],
   "source": [
    "# spray_2013.head(1)"
   ]
  },
  {
   "cell_type": "code",
   "execution_count": 41,
   "metadata": {
    "scrolled": true
   },
   "outputs": [
    {
     "name": "stderr",
     "output_type": "stream",
     "text": [
      "/Users/gadamico/anaconda3/lib/python3.6/site-packages/ipykernel/__main__.py:4: SettingWithCopyWarning: \n",
      "A value is trying to be set on a copy of a slice from a DataFrame\n",
      "\n",
      "See the caveats in the documentation: http://pandas.pydata.org/pandas-docs/stable/indexing.html#indexing-view-versus-copy\n",
      "/Users/gadamico/anaconda3/lib/python3.6/site-packages/IPython/core/interactiveshell.py:2910: SettingWithCopyWarning: \n",
      "A value is trying to be set on a copy of a slice from a DataFrame\n",
      "\n",
      "See the caveats in the documentation: http://pandas.pydata.org/pandas-docs/stable/indexing.html#indexing-view-versus-copy\n",
      "  exec(code_obj, self.user_global_ns, self.user_ns)\n"
     ]
    }
   ],
   "source": [
    "# for i in range(2209, 2209 + int(spray_2013.shape[0] / 4)):\n",
    "#    for j in range(8114, 8114 + train_weath_2013.shape[0]):\n",
    " #       if (round(train_weath_2013['Latitude'][j], 2) == round(spray_2013['Latitude'][i], 2)) and (round(train_weath_2013['Longitude'][j], 2) == round(spray_2013['Longitude'][i], 2)) and (train_weath_2013['Date'][j] < pd.to_datetime(spray_2013['Date'][i])):\n",
    "  #          train_weath_2013['Spray?'][j] = 1"
   ]
  },
  {
   "cell_type": "code",
   "execution_count": 42,
   "metadata": {},
   "outputs": [
    {
     "name": "stderr",
     "output_type": "stream",
     "text": [
      "/Users/gadamico/anaconda3/lib/python3.6/site-packages/ipykernel/__main__.py:4: SettingWithCopyWarning: \n",
      "A value is trying to be set on a copy of a slice from a DataFrame\n",
      "\n",
      "See the caveats in the documentation: http://pandas.pydata.org/pandas-docs/stable/indexing.html#indexing-view-versus-copy\n",
      "/Users/gadamico/anaconda3/lib/python3.6/site-packages/IPython/core/interactiveshell.py:2910: SettingWithCopyWarning: \n",
      "A value is trying to be set on a copy of a slice from a DataFrame\n",
      "\n",
      "See the caveats in the documentation: http://pandas.pydata.org/pandas-docs/stable/indexing.html#indexing-view-versus-copy\n",
      "  exec(code_obj, self.user_global_ns, self.user_ns)\n"
     ]
    }
   ],
   "source": [
    "# for i in range(2209 + int(spray_2013.shape[0] / 4), 2209 + int(spray_2013.shape[0] / 2)):\n",
    "  #  for j in range(8114, 8114 + train_weath_2013.shape[0]):\n",
    "   #     if (round(train_weath_2013['Latitude'][j], 2) == round(spray_2013['Latitude'][i], 2)) and (round(train_weath_2013['Longitude'][j], 2) == round(spray_2013['Longitude'][i], 2)) and (train_weath_2013['Date'][j] < pd.to_datetime(spray_2013['Date'][i])):\n",
    "    #        train_weath_2013['Spray?'][j] = 1"
   ]
  },
  {
   "cell_type": "code",
   "execution_count": 43,
   "metadata": {},
   "outputs": [
    {
     "name": "stderr",
     "output_type": "stream",
     "text": [
      "/Users/gadamico/anaconda3/lib/python3.6/site-packages/ipykernel/__main__.py:4: SettingWithCopyWarning: \n",
      "A value is trying to be set on a copy of a slice from a DataFrame\n",
      "\n",
      "See the caveats in the documentation: http://pandas.pydata.org/pandas-docs/stable/indexing.html#indexing-view-versus-copy\n",
      "/Users/gadamico/anaconda3/lib/python3.6/site-packages/IPython/core/interactiveshell.py:2910: SettingWithCopyWarning: \n",
      "A value is trying to be set on a copy of a slice from a DataFrame\n",
      "\n",
      "See the caveats in the documentation: http://pandas.pydata.org/pandas-docs/stable/indexing.html#indexing-view-versus-copy\n",
      "  exec(code_obj, self.user_global_ns, self.user_ns)\n"
     ]
    }
   ],
   "source": [
    "# for i in range(2209 + int(spray_2013.shape[0] / 2), 2209 + int(spray_2013.shape[0] * 3 / 4)):\n",
    "  #  for j in range(8114, 8114 + train_weath_2013.shape[0]):\n",
    "   #     if (round(train_weath_2013['Latitude'][j], 2) == round(spray_2013['Latitude'][i], 2)) and (round(train_weath_2013['Longitude'][j], 2) == round(spray_2013['Longitude'][i], 2)) and (train_weath_2013['Date'][j] < pd.to_datetime(spray_2013['Date'][i])):\n",
    "    #        train_weath_2013['Spray?'][j] = 1"
   ]
  },
  {
   "cell_type": "code",
   "execution_count": 44,
   "metadata": {},
   "outputs": [
    {
     "name": "stderr",
     "output_type": "stream",
     "text": [
      "/Users/gadamico/anaconda3/lib/python3.6/site-packages/ipykernel/__main__.py:4: SettingWithCopyWarning: \n",
      "A value is trying to be set on a copy of a slice from a DataFrame\n",
      "\n",
      "See the caveats in the documentation: http://pandas.pydata.org/pandas-docs/stable/indexing.html#indexing-view-versus-copy\n",
      "/Users/gadamico/anaconda3/lib/python3.6/site-packages/IPython/core/interactiveshell.py:2910: SettingWithCopyWarning: \n",
      "A value is trying to be set on a copy of a slice from a DataFrame\n",
      "\n",
      "See the caveats in the documentation: http://pandas.pydata.org/pandas-docs/stable/indexing.html#indexing-view-versus-copy\n",
      "  exec(code_obj, self.user_global_ns, self.user_ns)\n"
     ]
    }
   ],
   "source": [
    "# for i in range(2209 + int(spray_2013.shape[0] * 3 / 4), 2209 + int(spray_2013.shape[0])):\n",
    "  #  for j in range(8114, 8114 + train_weath_2013.shape[0]):\n",
    "   #     if (round(train_weath_2013['Latitude'][j], 2) == round(spray_2013['Latitude'][i], 2)) and (round(train_weath_2013['Longitude'][j], 2) == round(spray_2013['Longitude'][i], 2)) and (train_weath_2013['Date'][j] < pd.to_datetime(spray_2013['Date'][i])):\n",
    "    #        train_weath_2013['Spray?'][j] = 1"
   ]
  },
  {
   "cell_type": "code",
   "execution_count": 30,
   "metadata": {},
   "outputs": [
    {
     "data": {
      "text/plain": [
       "0    10396\n",
       "1      110\n",
       "Name: Spray?, dtype: int64"
      ]
     },
     "execution_count": 30,
     "metadata": {},
     "output_type": "execute_result"
    }
   ],
   "source": [
    "# train_weath['Spray?'].value_counts()"
   ]
  },
  {
   "cell_type": "code",
   "execution_count": 66,
   "metadata": {},
   "outputs": [
    {
     "data": {
      "text/plain": [
       "551"
      ]
     },
     "execution_count": 66,
     "metadata": {},
     "output_type": "execute_result"
    }
   ],
   "source": [
    "train_weath['WnvPresent'].sum()"
   ]
  },
  {
   "cell_type": "code",
   "execution_count": 65,
   "metadata": {},
   "outputs": [
    {
     "data": {
      "text/plain": [
       "11"
      ]
     },
     "execution_count": 65,
     "metadata": {},
     "output_type": "execute_result"
    }
   ],
   "source": [
    "train_weath.loc[train_weath['Spray?'] == 1, 'WnvPresent'].sum()"
   ]
  },
  {
   "cell_type": "code",
   "execution_count": 28,
   "metadata": {},
   "outputs": [],
   "source": [
    "# new_train_weath = pd.concat([train_weath_pre, train_weath_2011, train_weath_2013])"
   ]
  },
  {
   "cell_type": "code",
   "execution_count": 98,
   "metadata": {},
   "outputs": [
    {
     "data": {
      "text/plain": [
       "10506"
      ]
     },
     "execution_count": 98,
     "metadata": {},
     "output_type": "execute_result"
    }
   ],
   "source": [
    "# new_train_weath.shape[0]"
   ]
  },
  {
   "cell_type": "markdown",
   "metadata": {},
   "source": [
    "### ZIP Codes"
   ]
  },
  {
   "cell_type": "code",
   "execution_count": 61,
   "metadata": {},
   "outputs": [],
   "source": [
    "# Let's isolate Zip codes for further analysis.\n",
    "\n",
    "# add_list = [add.split(' ') for add in new_train_weath['Address']]"
   ]
  },
  {
   "cell_type": "code",
   "execution_count": 213,
   "metadata": {},
   "outputs": [],
   "source": [
    "add_list = [add.split(' ') for add in train_weath['Address']]"
   ]
  },
  {
   "cell_type": "code",
   "execution_count": 32,
   "metadata": {},
   "outputs": [
    {
     "data": {
      "text/plain": [
       "['4100', 'North', 'Oak', 'Park', 'Avenue,', 'Chicago,', 'IL', '60634,', 'USA']"
      ]
     },
     "execution_count": 32,
     "metadata": {},
     "output_type": "execute_result"
    }
   ],
   "source": [
    "add_list[0]"
   ]
  },
  {
   "cell_type": "code",
   "execution_count": 73,
   "metadata": {},
   "outputs": [
    {
     "data": {
      "text/plain": [
       "9450    Chicago Midway International Airport (MDW), 52...\n",
       "Name: Address, dtype: object"
      ]
     },
     "execution_count": 73,
     "metadata": {},
     "output_type": "execute_result"
    }
   ],
   "source": [
    "new_train_weath.iloc[new_train_weath.index == 9450]['Address']"
   ]
  },
  {
   "cell_type": "code",
   "execution_count": 77,
   "metadata": {},
   "outputs": [
    {
     "data": {
      "text/plain": [
       "'60638,'"
      ]
     },
     "execution_count": 77,
     "metadata": {},
     "output_type": "execute_result"
    }
   ],
   "source": [
    "add_list[9450][-2]"
   ]
  },
  {
   "cell_type": "code",
   "execution_count": 64,
   "metadata": {},
   "outputs": [],
   "source": [
    "# new_train_weath['ZIP'] = [item[-2] for item in add_list]"
   ]
  },
  {
   "cell_type": "code",
   "execution_count": 214,
   "metadata": {},
   "outputs": [],
   "source": [
    "train_weath['ZIP'] = [item[-2] for item in add_list]"
   ]
  },
  {
   "cell_type": "code",
   "execution_count": 204,
   "metadata": {},
   "outputs": [
    {
     "data": {
      "text/html": [
       "<div>\n",
       "<style scoped>\n",
       "    .dataframe tbody tr th:only-of-type {\n",
       "        vertical-align: middle;\n",
       "    }\n",
       "\n",
       "    .dataframe tbody tr th {\n",
       "        vertical-align: top;\n",
       "    }\n",
       "\n",
       "    .dataframe thead th {\n",
       "        text-align: right;\n",
       "    }\n",
       "</style>\n",
       "<table border=\"1\" class=\"dataframe\">\n",
       "  <thead>\n",
       "    <tr style=\"text-align: right;\">\n",
       "      <th></th>\n",
       "      <th>Address</th>\n",
       "      <th>AddressAccuracy</th>\n",
       "      <th>AddressNumberAndStreet</th>\n",
       "      <th>AvgSpeed</th>\n",
       "      <th>Block</th>\n",
       "      <th>CULEX ERRATICUS</th>\n",
       "      <th>CULEX SALINARIUS</th>\n",
       "      <th>CULEX TARSALIS</th>\n",
       "      <th>CULEX TERRITANS</th>\n",
       "      <th>CodeSum</th>\n",
       "      <th>...</th>\n",
       "      <th>Tavg_int</th>\n",
       "      <th>Tmax</th>\n",
       "      <th>Tmin</th>\n",
       "      <th>Trap</th>\n",
       "      <th>Water1</th>\n",
       "      <th>WetBulb</th>\n",
       "      <th>WnvPresent</th>\n",
       "      <th>ZIP</th>\n",
       "      <th>new_pip</th>\n",
       "      <th>new_rest</th>\n",
       "    </tr>\n",
       "  </thead>\n",
       "  <tbody>\n",
       "    <tr>\n",
       "      <th>58</th>\n",
       "      <td>South Vincennes Avenue, Chicago, IL, USA</td>\n",
       "      <td>5</td>\n",
       "      <td>1000  S VINCENNES, Chicago, IL</td>\n",
       "      <td>8.1</td>\n",
       "      <td>10</td>\n",
       "      <td>0</td>\n",
       "      <td>0</td>\n",
       "      <td>0</td>\n",
       "      <td>0</td>\n",
       "      <td>RA BR</td>\n",
       "      <td>...</td>\n",
       "      <td>57</td>\n",
       "      <td>63</td>\n",
       "      <td>51</td>\n",
       "      <td>T089</td>\n",
       "      <td>M</td>\n",
       "      <td>52.0</td>\n",
       "      <td>0</td>\n",
       "      <td>IL,</td>\n",
       "      <td>0</td>\n",
       "      <td>1</td>\n",
       "    </tr>\n",
       "    <tr>\n",
       "      <th>69</th>\n",
       "      <td>Chicago, IL, USA</td>\n",
       "      <td>3</td>\n",
       "      <td>4300  N ASHLAND AVE OVERPASS, Chicago, IL</td>\n",
       "      <td>8.1</td>\n",
       "      <td>43</td>\n",
       "      <td>0</td>\n",
       "      <td>0</td>\n",
       "      <td>0</td>\n",
       "      <td>0</td>\n",
       "      <td>RA BR</td>\n",
       "      <td>...</td>\n",
       "      <td>57</td>\n",
       "      <td>63</td>\n",
       "      <td>51</td>\n",
       "      <td>T145</td>\n",
       "      <td>M</td>\n",
       "      <td>52.0</td>\n",
       "      <td>0</td>\n",
       "      <td>IL,</td>\n",
       "      <td>0</td>\n",
       "      <td>1</td>\n",
       "    </tr>\n",
       "    <tr>\n",
       "      <th>127</th>\n",
       "      <td>Chicago, IL, USA</td>\n",
       "      <td>3</td>\n",
       "      <td>4300  N ASHLAND AVE OVERPASS, Chicago, IL</td>\n",
       "      <td>8.1</td>\n",
       "      <td>43</td>\n",
       "      <td>0</td>\n",
       "      <td>0</td>\n",
       "      <td>0</td>\n",
       "      <td>0</td>\n",
       "      <td>BR HZ</td>\n",
       "      <td>...</td>\n",
       "      <td>82</td>\n",
       "      <td>91</td>\n",
       "      <td>73</td>\n",
       "      <td>T145</td>\n",
       "      <td>M</td>\n",
       "      <td>72.0</td>\n",
       "      <td>0</td>\n",
       "      <td>IL,</td>\n",
       "      <td>0</td>\n",
       "      <td>1</td>\n",
       "    </tr>\n",
       "    <tr>\n",
       "      <th>172</th>\n",
       "      <td>South Vincennes Avenue, Chicago, IL, USA</td>\n",
       "      <td>5</td>\n",
       "      <td>1000  S VINCENNES, Chicago, IL</td>\n",
       "      <td>8.2</td>\n",
       "      <td>10</td>\n",
       "      <td>0</td>\n",
       "      <td>0</td>\n",
       "      <td>0</td>\n",
       "      <td>0</td>\n",
       "      <td></td>\n",
       "      <td>...</td>\n",
       "      <td>64</td>\n",
       "      <td>71</td>\n",
       "      <td>56</td>\n",
       "      <td>T089</td>\n",
       "      <td>M</td>\n",
       "      <td>60.0</td>\n",
       "      <td>0</td>\n",
       "      <td>IL,</td>\n",
       "      <td>0</td>\n",
       "      <td>1</td>\n",
       "    </tr>\n",
       "    <tr>\n",
       "      <th>179</th>\n",
       "      <td>Chicago, IL, USA</td>\n",
       "      <td>3</td>\n",
       "      <td>4300  N ASHLAND AVE OVERPASS, Chicago, IL</td>\n",
       "      <td>8.2</td>\n",
       "      <td>43</td>\n",
       "      <td>0</td>\n",
       "      <td>0</td>\n",
       "      <td>0</td>\n",
       "      <td>0</td>\n",
       "      <td></td>\n",
       "      <td>...</td>\n",
       "      <td>64</td>\n",
       "      <td>71</td>\n",
       "      <td>56</td>\n",
       "      <td>T145</td>\n",
       "      <td>M</td>\n",
       "      <td>60.0</td>\n",
       "      <td>0</td>\n",
       "      <td>IL,</td>\n",
       "      <td>0</td>\n",
       "      <td>1</td>\n",
       "    </tr>\n",
       "    <tr>\n",
       "      <th>193</th>\n",
       "      <td>6400 West Strong Street, Chicago, IL, USA</td>\n",
       "      <td>8</td>\n",
       "      <td>6400  W STRONG ST, Chicago, IL</td>\n",
       "      <td>8.3</td>\n",
       "      <td>64</td>\n",
       "      <td>0</td>\n",
       "      <td>0</td>\n",
       "      <td>0</td>\n",
       "      <td>0</td>\n",
       "      <td></td>\n",
       "      <td>...</td>\n",
       "      <td>63</td>\n",
       "      <td>70</td>\n",
       "      <td>56</td>\n",
       "      <td>T014</td>\n",
       "      <td>M</td>\n",
       "      <td>59.0</td>\n",
       "      <td>0</td>\n",
       "      <td>IL,</td>\n",
       "      <td>0</td>\n",
       "      <td>1</td>\n",
       "    </tr>\n",
       "    <tr>\n",
       "      <th>228</th>\n",
       "      <td>South Vincennes Avenue, Chicago, IL, USA</td>\n",
       "      <td>5</td>\n",
       "      <td>1000  S VINCENNES, Chicago, IL</td>\n",
       "      <td>8.5</td>\n",
       "      <td>10</td>\n",
       "      <td>0</td>\n",
       "      <td>0</td>\n",
       "      <td>0</td>\n",
       "      <td>0</td>\n",
       "      <td></td>\n",
       "      <td>...</td>\n",
       "      <td>68</td>\n",
       "      <td>77</td>\n",
       "      <td>58</td>\n",
       "      <td>T089</td>\n",
       "      <td>M</td>\n",
       "      <td>59.0</td>\n",
       "      <td>0</td>\n",
       "      <td>IL,</td>\n",
       "      <td>1</td>\n",
       "      <td>1</td>\n",
       "    </tr>\n",
       "    <tr>\n",
       "      <th>237</th>\n",
       "      <td>Chicago, IL, USA</td>\n",
       "      <td>3</td>\n",
       "      <td>4300  N ASHLAND AVE OVERPASS, Chicago, IL</td>\n",
       "      <td>8.5</td>\n",
       "      <td>43</td>\n",
       "      <td>0</td>\n",
       "      <td>1</td>\n",
       "      <td>0</td>\n",
       "      <td>0</td>\n",
       "      <td></td>\n",
       "      <td>...</td>\n",
       "      <td>68</td>\n",
       "      <td>77</td>\n",
       "      <td>58</td>\n",
       "      <td>T145</td>\n",
       "      <td>M</td>\n",
       "      <td>59.0</td>\n",
       "      <td>0</td>\n",
       "      <td>IL,</td>\n",
       "      <td>0</td>\n",
       "      <td>0</td>\n",
       "    </tr>\n",
       "    <tr>\n",
       "      <th>265</th>\n",
       "      <td>6400 West Strong Street, Chicago, IL, USA</td>\n",
       "      <td>8</td>\n",
       "      <td>6400  W STRONG ST, Chicago, IL</td>\n",
       "      <td>8.1</td>\n",
       "      <td>64</td>\n",
       "      <td>0</td>\n",
       "      <td>0</td>\n",
       "      <td>0</td>\n",
       "      <td>0</td>\n",
       "      <td></td>\n",
       "      <td>...</td>\n",
       "      <td>66</td>\n",
       "      <td>79</td>\n",
       "      <td>53</td>\n",
       "      <td>T014</td>\n",
       "      <td>M</td>\n",
       "      <td>58.0</td>\n",
       "      <td>0</td>\n",
       "      <td>IL,</td>\n",
       "      <td>1</td>\n",
       "      <td>1</td>\n",
       "    </tr>\n",
       "    <tr>\n",
       "      <th>266</th>\n",
       "      <td>6400 West Strong Street, Chicago, IL, USA</td>\n",
       "      <td>8</td>\n",
       "      <td>6400  W STRONG ST, Chicago, IL</td>\n",
       "      <td>8.1</td>\n",
       "      <td>64</td>\n",
       "      <td>0</td>\n",
       "      <td>0</td>\n",
       "      <td>0</td>\n",
       "      <td>0</td>\n",
       "      <td></td>\n",
       "      <td>...</td>\n",
       "      <td>66</td>\n",
       "      <td>79</td>\n",
       "      <td>53</td>\n",
       "      <td>T014</td>\n",
       "      <td>M</td>\n",
       "      <td>58.0</td>\n",
       "      <td>0</td>\n",
       "      <td>IL,</td>\n",
       "      <td>0</td>\n",
       "      <td>1</td>\n",
       "    </tr>\n",
       "    <tr>\n",
       "      <th>330</th>\n",
       "      <td>South Vincennes Avenue, Chicago, IL, USA</td>\n",
       "      <td>5</td>\n",
       "      <td>1000  S VINCENNES, Chicago, IL</td>\n",
       "      <td>11.2</td>\n",
       "      <td>10</td>\n",
       "      <td>0</td>\n",
       "      <td>0</td>\n",
       "      <td>0</td>\n",
       "      <td>0</td>\n",
       "      <td></td>\n",
       "      <td>...</td>\n",
       "      <td>70</td>\n",
       "      <td>77</td>\n",
       "      <td>63</td>\n",
       "      <td>T089</td>\n",
       "      <td>M</td>\n",
       "      <td>59.0</td>\n",
       "      <td>0</td>\n",
       "      <td>IL,</td>\n",
       "      <td>1</td>\n",
       "      <td>1</td>\n",
       "    </tr>\n",
       "    <tr>\n",
       "      <th>331</th>\n",
       "      <td>South Vincennes Avenue, Chicago, IL, USA</td>\n",
       "      <td>5</td>\n",
       "      <td>1000  S VINCENNES, Chicago, IL</td>\n",
       "      <td>11.2</td>\n",
       "      <td>10</td>\n",
       "      <td>0</td>\n",
       "      <td>0</td>\n",
       "      <td>0</td>\n",
       "      <td>0</td>\n",
       "      <td></td>\n",
       "      <td>...</td>\n",
       "      <td>70</td>\n",
       "      <td>77</td>\n",
       "      <td>63</td>\n",
       "      <td>T089</td>\n",
       "      <td>M</td>\n",
       "      <td>59.0</td>\n",
       "      <td>0</td>\n",
       "      <td>IL,</td>\n",
       "      <td>0</td>\n",
       "      <td>1</td>\n",
       "    </tr>\n",
       "    <tr>\n",
       "      <th>342</th>\n",
       "      <td>Chicago, IL, USA</td>\n",
       "      <td>3</td>\n",
       "      <td>4300  N ASHLAND AVE OVERPASS, Chicago, IL</td>\n",
       "      <td>11.2</td>\n",
       "      <td>43</td>\n",
       "      <td>0</td>\n",
       "      <td>0</td>\n",
       "      <td>0</td>\n",
       "      <td>0</td>\n",
       "      <td></td>\n",
       "      <td>...</td>\n",
       "      <td>70</td>\n",
       "      <td>77</td>\n",
       "      <td>63</td>\n",
       "      <td>T145</td>\n",
       "      <td>M</td>\n",
       "      <td>59.0</td>\n",
       "      <td>0</td>\n",
       "      <td>IL,</td>\n",
       "      <td>1</td>\n",
       "      <td>1</td>\n",
       "    </tr>\n",
       "    <tr>\n",
       "      <th>343</th>\n",
       "      <td>Chicago, IL, USA</td>\n",
       "      <td>3</td>\n",
       "      <td>4300  N ASHLAND AVE OVERPASS, Chicago, IL</td>\n",
       "      <td>11.2</td>\n",
       "      <td>43</td>\n",
       "      <td>0</td>\n",
       "      <td>0</td>\n",
       "      <td>0</td>\n",
       "      <td>0</td>\n",
       "      <td></td>\n",
       "      <td>...</td>\n",
       "      <td>70</td>\n",
       "      <td>77</td>\n",
       "      <td>63</td>\n",
       "      <td>T145</td>\n",
       "      <td>M</td>\n",
       "      <td>59.0</td>\n",
       "      <td>0</td>\n",
       "      <td>IL,</td>\n",
       "      <td>0</td>\n",
       "      <td>1</td>\n",
       "    </tr>\n",
       "    <tr>\n",
       "      <th>378</th>\n",
       "      <td>6400 West Strong Street, Chicago, IL, USA</td>\n",
       "      <td>8</td>\n",
       "      <td>6400  W STRONG ST, Chicago, IL</td>\n",
       "      <td>10.9</td>\n",
       "      <td>64</td>\n",
       "      <td>0</td>\n",
       "      <td>0</td>\n",
       "      <td>0</td>\n",
       "      <td>0</td>\n",
       "      <td></td>\n",
       "      <td>...</td>\n",
       "      <td>70</td>\n",
       "      <td>77</td>\n",
       "      <td>62</td>\n",
       "      <td>T014</td>\n",
       "      <td>M</td>\n",
       "      <td>59.0</td>\n",
       "      <td>0</td>\n",
       "      <td>IL,</td>\n",
       "      <td>1</td>\n",
       "      <td>1</td>\n",
       "    </tr>\n",
       "    <tr>\n",
       "      <th>379</th>\n",
       "      <td>6400 West Strong Street, Chicago, IL, USA</td>\n",
       "      <td>8</td>\n",
       "      <td>6400  W STRONG ST, Chicago, IL</td>\n",
       "      <td>10.9</td>\n",
       "      <td>64</td>\n",
       "      <td>0</td>\n",
       "      <td>0</td>\n",
       "      <td>0</td>\n",
       "      <td>0</td>\n",
       "      <td></td>\n",
       "      <td>...</td>\n",
       "      <td>70</td>\n",
       "      <td>77</td>\n",
       "      <td>62</td>\n",
       "      <td>T014</td>\n",
       "      <td>M</td>\n",
       "      <td>59.0</td>\n",
       "      <td>0</td>\n",
       "      <td>IL,</td>\n",
       "      <td>0</td>\n",
       "      <td>1</td>\n",
       "    </tr>\n",
       "    <tr>\n",
       "      <th>501</th>\n",
       "      <td>6400 West Strong Street, Chicago, IL, USA</td>\n",
       "      <td>8</td>\n",
       "      <td>6400  W STRONG ST, Chicago, IL</td>\n",
       "      <td>10.1</td>\n",
       "      <td>64</td>\n",
       "      <td>0</td>\n",
       "      <td>0</td>\n",
       "      <td>0</td>\n",
       "      <td>0</td>\n",
       "      <td>TSRA RA BR VCTS</td>\n",
       "      <td>...</td>\n",
       "      <td>77</td>\n",
       "      <td>85</td>\n",
       "      <td>69</td>\n",
       "      <td>T014</td>\n",
       "      <td>M</td>\n",
       "      <td>71.0</td>\n",
       "      <td>0</td>\n",
       "      <td>IL,</td>\n",
       "      <td>0</td>\n",
       "      <td>1</td>\n",
       "    </tr>\n",
       "    <tr>\n",
       "      <th>529</th>\n",
       "      <td>South Doty Avenue, Chicago, IL, USA</td>\n",
       "      <td>5</td>\n",
       "      <td>1200  S DOTY AVE, Chicago, IL</td>\n",
       "      <td>10.6</td>\n",
       "      <td>12</td>\n",
       "      <td>0</td>\n",
       "      <td>0</td>\n",
       "      <td>0</td>\n",
       "      <td>0</td>\n",
       "      <td>TS TSRA RA BR HZ VCTS</td>\n",
       "      <td>...</td>\n",
       "      <td>77</td>\n",
       "      <td>85</td>\n",
       "      <td>69</td>\n",
       "      <td>T115</td>\n",
       "      <td>M</td>\n",
       "      <td>71.0</td>\n",
       "      <td>0</td>\n",
       "      <td>IL,</td>\n",
       "      <td>1</td>\n",
       "      <td>1</td>\n",
       "    </tr>\n",
       "    <tr>\n",
       "      <th>530</th>\n",
       "      <td>South Stony Island Avenue, Chicago, IL, USA</td>\n",
       "      <td>5</td>\n",
       "      <td>1000  S STONY ISLAND AVE, Chicago, IL</td>\n",
       "      <td>10.6</td>\n",
       "      <td>10</td>\n",
       "      <td>0</td>\n",
       "      <td>0</td>\n",
       "      <td>0</td>\n",
       "      <td>0</td>\n",
       "      <td>TS TSRA RA BR HZ VCTS</td>\n",
       "      <td>...</td>\n",
       "      <td>77</td>\n",
       "      <td>85</td>\n",
       "      <td>69</td>\n",
       "      <td>T138</td>\n",
       "      <td>M</td>\n",
       "      <td>71.0</td>\n",
       "      <td>0</td>\n",
       "      <td>IL,</td>\n",
       "      <td>1</td>\n",
       "      <td>1</td>\n",
       "    </tr>\n",
       "    <tr>\n",
       "      <th>531</th>\n",
       "      <td>South Stony Island Avenue, Chicago, IL, USA</td>\n",
       "      <td>5</td>\n",
       "      <td>1000  S STONY ISLAND AVE, Chicago, IL</td>\n",
       "      <td>10.6</td>\n",
       "      <td>10</td>\n",
       "      <td>0</td>\n",
       "      <td>0</td>\n",
       "      <td>0</td>\n",
       "      <td>0</td>\n",
       "      <td>TS TSRA RA BR HZ VCTS</td>\n",
       "      <td>...</td>\n",
       "      <td>77</td>\n",
       "      <td>85</td>\n",
       "      <td>69</td>\n",
       "      <td>T138</td>\n",
       "      <td>M</td>\n",
       "      <td>71.0</td>\n",
       "      <td>0</td>\n",
       "      <td>IL,</td>\n",
       "      <td>1</td>\n",
       "      <td>1</td>\n",
       "    </tr>\n",
       "    <tr>\n",
       "      <th>532</th>\n",
       "      <td>South Stony Island Avenue, Chicago, IL, USA</td>\n",
       "      <td>5</td>\n",
       "      <td>1000  S STONY ISLAND AVE, Chicago, IL</td>\n",
       "      <td>10.6</td>\n",
       "      <td>10</td>\n",
       "      <td>0</td>\n",
       "      <td>0</td>\n",
       "      <td>0</td>\n",
       "      <td>0</td>\n",
       "      <td>TS TSRA RA BR HZ VCTS</td>\n",
       "      <td>...</td>\n",
       "      <td>77</td>\n",
       "      <td>85</td>\n",
       "      <td>69</td>\n",
       "      <td>T138</td>\n",
       "      <td>M</td>\n",
       "      <td>71.0</td>\n",
       "      <td>0</td>\n",
       "      <td>IL,</td>\n",
       "      <td>0</td>\n",
       "      <td>1</td>\n",
       "    </tr>\n",
       "    <tr>\n",
       "      <th>533</th>\n",
       "      <td>South Stony Island Avenue, Chicago, IL, USA</td>\n",
       "      <td>5</td>\n",
       "      <td>1000  S STONY ISLAND AVE, Chicago, IL</td>\n",
       "      <td>10.6</td>\n",
       "      <td>10</td>\n",
       "      <td>0</td>\n",
       "      <td>0</td>\n",
       "      <td>0</td>\n",
       "      <td>0</td>\n",
       "      <td>TS TSRA RA BR HZ VCTS</td>\n",
       "      <td>...</td>\n",
       "      <td>77</td>\n",
       "      <td>85</td>\n",
       "      <td>69</td>\n",
       "      <td>T138</td>\n",
       "      <td>M</td>\n",
       "      <td>71.0</td>\n",
       "      <td>0</td>\n",
       "      <td>IL,</td>\n",
       "      <td>0</td>\n",
       "      <td>1</td>\n",
       "    </tr>\n",
       "    <tr>\n",
       "      <th>534</th>\n",
       "      <td>South Stony Island Avenue, Chicago, IL, USA</td>\n",
       "      <td>5</td>\n",
       "      <td>1000  S STONY ISLAND AVE, Chicago, IL</td>\n",
       "      <td>10.6</td>\n",
       "      <td>10</td>\n",
       "      <td>0</td>\n",
       "      <td>1</td>\n",
       "      <td>0</td>\n",
       "      <td>0</td>\n",
       "      <td>TS TSRA RA BR HZ VCTS</td>\n",
       "      <td>...</td>\n",
       "      <td>77</td>\n",
       "      <td>85</td>\n",
       "      <td>69</td>\n",
       "      <td>T138</td>\n",
       "      <td>M</td>\n",
       "      <td>71.0</td>\n",
       "      <td>0</td>\n",
       "      <td>IL,</td>\n",
       "      <td>0</td>\n",
       "      <td>0</td>\n",
       "    </tr>\n",
       "    <tr>\n",
       "      <th>535</th>\n",
       "      <td>South Torrence Avenue, Chicago, IL, USA</td>\n",
       "      <td>5</td>\n",
       "      <td>1300  S TORRENCE AVE, Chicago, IL</td>\n",
       "      <td>10.6</td>\n",
       "      <td>13</td>\n",
       "      <td>0</td>\n",
       "      <td>0</td>\n",
       "      <td>0</td>\n",
       "      <td>0</td>\n",
       "      <td>TS TSRA RA BR HZ VCTS</td>\n",
       "      <td>...</td>\n",
       "      <td>77</td>\n",
       "      <td>85</td>\n",
       "      <td>69</td>\n",
       "      <td>T200</td>\n",
       "      <td>M</td>\n",
       "      <td>71.0</td>\n",
       "      <td>0</td>\n",
       "      <td>IL,</td>\n",
       "      <td>1</td>\n",
       "      <td>1</td>\n",
       "    </tr>\n",
       "    <tr>\n",
       "      <th>536</th>\n",
       "      <td>South Torrence Avenue, Chicago, IL, USA</td>\n",
       "      <td>5</td>\n",
       "      <td>1300  S TORRENCE AVE, Chicago, IL</td>\n",
       "      <td>10.6</td>\n",
       "      <td>13</td>\n",
       "      <td>0</td>\n",
       "      <td>0</td>\n",
       "      <td>0</td>\n",
       "      <td>0</td>\n",
       "      <td>TS TSRA RA BR HZ VCTS</td>\n",
       "      <td>...</td>\n",
       "      <td>77</td>\n",
       "      <td>85</td>\n",
       "      <td>69</td>\n",
       "      <td>T200</td>\n",
       "      <td>M</td>\n",
       "      <td>71.0</td>\n",
       "      <td>0</td>\n",
       "      <td>IL,</td>\n",
       "      <td>1</td>\n",
       "      <td>1</td>\n",
       "    </tr>\n",
       "    <tr>\n",
       "      <th>537</th>\n",
       "      <td>South Torrence Avenue, Chicago, IL, USA</td>\n",
       "      <td>5</td>\n",
       "      <td>1300  S TORRENCE AVE, Chicago, IL</td>\n",
       "      <td>10.6</td>\n",
       "      <td>13</td>\n",
       "      <td>0</td>\n",
       "      <td>0</td>\n",
       "      <td>0</td>\n",
       "      <td>0</td>\n",
       "      <td>TS TSRA RA BR HZ VCTS</td>\n",
       "      <td>...</td>\n",
       "      <td>77</td>\n",
       "      <td>85</td>\n",
       "      <td>69</td>\n",
       "      <td>T200</td>\n",
       "      <td>M</td>\n",
       "      <td>71.0</td>\n",
       "      <td>0</td>\n",
       "      <td>IL,</td>\n",
       "      <td>0</td>\n",
       "      <td>1</td>\n",
       "    </tr>\n",
       "    <tr>\n",
       "      <th>538</th>\n",
       "      <td>South Torrence Avenue, Chicago, IL, USA</td>\n",
       "      <td>5</td>\n",
       "      <td>1300  S TORRENCE AVE, Chicago, IL</td>\n",
       "      <td>10.6</td>\n",
       "      <td>13</td>\n",
       "      <td>0</td>\n",
       "      <td>0</td>\n",
       "      <td>0</td>\n",
       "      <td>0</td>\n",
       "      <td>TS TSRA RA BR HZ VCTS</td>\n",
       "      <td>...</td>\n",
       "      <td>77</td>\n",
       "      <td>85</td>\n",
       "      <td>69</td>\n",
       "      <td>T200</td>\n",
       "      <td>M</td>\n",
       "      <td>71.0</td>\n",
       "      <td>0</td>\n",
       "      <td>IL,</td>\n",
       "      <td>0</td>\n",
       "      <td>1</td>\n",
       "    </tr>\n",
       "    <tr>\n",
       "      <th>539</th>\n",
       "      <td>South Torrence Avenue, Chicago, IL, USA</td>\n",
       "      <td>5</td>\n",
       "      <td>1300  S TORRENCE AVE, Chicago, IL</td>\n",
       "      <td>10.6</td>\n",
       "      <td>13</td>\n",
       "      <td>0</td>\n",
       "      <td>0</td>\n",
       "      <td>0</td>\n",
       "      <td>0</td>\n",
       "      <td>TS TSRA RA BR HZ VCTS</td>\n",
       "      <td>...</td>\n",
       "      <td>77</td>\n",
       "      <td>85</td>\n",
       "      <td>69</td>\n",
       "      <td>T200</td>\n",
       "      <td>M</td>\n",
       "      <td>71.0</td>\n",
       "      <td>0</td>\n",
       "      <td>IL,</td>\n",
       "      <td>1</td>\n",
       "      <td>0</td>\n",
       "    </tr>\n",
       "    <tr>\n",
       "      <th>540</th>\n",
       "      <td>South Torrence Avenue, Chicago, IL, USA</td>\n",
       "      <td>5</td>\n",
       "      <td>1300  S TORRENCE AVE, Chicago, IL</td>\n",
       "      <td>10.6</td>\n",
       "      <td>13</td>\n",
       "      <td>0</td>\n",
       "      <td>0</td>\n",
       "      <td>0</td>\n",
       "      <td>1</td>\n",
       "      <td>TS TSRA RA BR HZ VCTS</td>\n",
       "      <td>...</td>\n",
       "      <td>77</td>\n",
       "      <td>85</td>\n",
       "      <td>69</td>\n",
       "      <td>T200</td>\n",
       "      <td>M</td>\n",
       "      <td>71.0</td>\n",
       "      <td>0</td>\n",
       "      <td>IL,</td>\n",
       "      <td>0</td>\n",
       "      <td>0</td>\n",
       "    </tr>\n",
       "    <tr>\n",
       "      <th>557</th>\n",
       "      <td>Chicago, IL, USA</td>\n",
       "      <td>3</td>\n",
       "      <td>4300  N ASHLAND AVE OVERPASS, Chicago, IL</td>\n",
       "      <td>14.4</td>\n",
       "      <td>43</td>\n",
       "      <td>0</td>\n",
       "      <td>0</td>\n",
       "      <td>0</td>\n",
       "      <td>0</td>\n",
       "      <td>BR HZ</td>\n",
       "      <td>...</td>\n",
       "      <td>73</td>\n",
       "      <td>82</td>\n",
       "      <td>63</td>\n",
       "      <td>T145</td>\n",
       "      <td>M</td>\n",
       "      <td>66.0</td>\n",
       "      <td>0</td>\n",
       "      <td>IL,</td>\n",
       "      <td>1</td>\n",
       "      <td>1</td>\n",
       "    </tr>\n",
       "    <tr>\n",
       "      <th>...</th>\n",
       "      <td>...</td>\n",
       "      <td>...</td>\n",
       "      <td>...</td>\n",
       "      <td>...</td>\n",
       "      <td>...</td>\n",
       "      <td>...</td>\n",
       "      <td>...</td>\n",
       "      <td>...</td>\n",
       "      <td>...</td>\n",
       "      <td>...</td>\n",
       "      <td>...</td>\n",
       "      <td>...</td>\n",
       "      <td>...</td>\n",
       "      <td>...</td>\n",
       "      <td>...</td>\n",
       "      <td>...</td>\n",
       "      <td>...</td>\n",
       "      <td>...</td>\n",
       "      <td>...</td>\n",
       "      <td>...</td>\n",
       "      <td>...</td>\n",
       "    </tr>\n",
       "    <tr>\n",
       "      <th>10243</th>\n",
       "      <td>South Doty Avenue, Chicago, IL, USA</td>\n",
       "      <td>5</td>\n",
       "      <td>1200  S DOTY AVE, Chicago, IL</td>\n",
       "      <td>9.8</td>\n",
       "      <td>12</td>\n",
       "      <td>0</td>\n",
       "      <td>0</td>\n",
       "      <td>0</td>\n",
       "      <td>0</td>\n",
       "      <td></td>\n",
       "      <td>...</td>\n",
       "      <td>73</td>\n",
       "      <td>83</td>\n",
       "      <td>63</td>\n",
       "      <td>T115</td>\n",
       "      <td>M</td>\n",
       "      <td>64.0</td>\n",
       "      <td>0</td>\n",
       "      <td>IL,</td>\n",
       "      <td>1</td>\n",
       "      <td>0</td>\n",
       "    </tr>\n",
       "    <tr>\n",
       "      <th>10244</th>\n",
       "      <td>South Stony Island Avenue, Chicago, IL, USA</td>\n",
       "      <td>5</td>\n",
       "      <td>1000  S STONY ISLAND AVE, Chicago, IL</td>\n",
       "      <td>9.8</td>\n",
       "      <td>10</td>\n",
       "      <td>0</td>\n",
       "      <td>0</td>\n",
       "      <td>0</td>\n",
       "      <td>0</td>\n",
       "      <td></td>\n",
       "      <td>...</td>\n",
       "      <td>73</td>\n",
       "      <td>83</td>\n",
       "      <td>63</td>\n",
       "      <td>T138</td>\n",
       "      <td>M</td>\n",
       "      <td>64.0</td>\n",
       "      <td>0</td>\n",
       "      <td>IL,</td>\n",
       "      <td>1</td>\n",
       "      <td>0</td>\n",
       "    </tr>\n",
       "    <tr>\n",
       "      <th>10249</th>\n",
       "      <td>South Cottage Grove Avenue, Chicago, IL, USA</td>\n",
       "      <td>5</td>\n",
       "      <td>1000  S COTTAGE GROVE, Chicago, IL</td>\n",
       "      <td>9.8</td>\n",
       "      <td>10</td>\n",
       "      <td>0</td>\n",
       "      <td>0</td>\n",
       "      <td>0</td>\n",
       "      <td>0</td>\n",
       "      <td></td>\n",
       "      <td>...</td>\n",
       "      <td>73</td>\n",
       "      <td>83</td>\n",
       "      <td>63</td>\n",
       "      <td>T102</td>\n",
       "      <td>M</td>\n",
       "      <td>64.0</td>\n",
       "      <td>1</td>\n",
       "      <td>IL,</td>\n",
       "      <td>1</td>\n",
       "      <td>1</td>\n",
       "    </tr>\n",
       "    <tr>\n",
       "      <th>10250</th>\n",
       "      <td>South Cottage Grove Avenue, Chicago, IL, USA</td>\n",
       "      <td>5</td>\n",
       "      <td>1000  S COTTAGE GROVE, Chicago, IL</td>\n",
       "      <td>9.8</td>\n",
       "      <td>10</td>\n",
       "      <td>0</td>\n",
       "      <td>0</td>\n",
       "      <td>0</td>\n",
       "      <td>0</td>\n",
       "      <td></td>\n",
       "      <td>...</td>\n",
       "      <td>73</td>\n",
       "      <td>83</td>\n",
       "      <td>63</td>\n",
       "      <td>T102</td>\n",
       "      <td>M</td>\n",
       "      <td>64.0</td>\n",
       "      <td>0</td>\n",
       "      <td>IL,</td>\n",
       "      <td>1</td>\n",
       "      <td>0</td>\n",
       "    </tr>\n",
       "    <tr>\n",
       "      <th>10277</th>\n",
       "      <td>East 91st Place, Chicago, IL, USA</td>\n",
       "      <td>5</td>\n",
       "      <td>6500  E 91ST PL, Chicago, IL</td>\n",
       "      <td>9.8</td>\n",
       "      <td>65</td>\n",
       "      <td>0</td>\n",
       "      <td>0</td>\n",
       "      <td>0</td>\n",
       "      <td>0</td>\n",
       "      <td></td>\n",
       "      <td>...</td>\n",
       "      <td>73</td>\n",
       "      <td>83</td>\n",
       "      <td>63</td>\n",
       "      <td>T227</td>\n",
       "      <td>M</td>\n",
       "      <td>64.0</td>\n",
       "      <td>0</td>\n",
       "      <td>IL,</td>\n",
       "      <td>1</td>\n",
       "      <td>0</td>\n",
       "    </tr>\n",
       "    <tr>\n",
       "      <th>10280</th>\n",
       "      <td>West Garfield Boulevard, Chicago, IL, USA</td>\n",
       "      <td>5</td>\n",
       "      <td>9000  W GARFIELD BLVD, Chicago, IL</td>\n",
       "      <td>9.8</td>\n",
       "      <td>90</td>\n",
       "      <td>0</td>\n",
       "      <td>0</td>\n",
       "      <td>0</td>\n",
       "      <td>0</td>\n",
       "      <td></td>\n",
       "      <td>...</td>\n",
       "      <td>73</td>\n",
       "      <td>83</td>\n",
       "      <td>63</td>\n",
       "      <td>T226</td>\n",
       "      <td>M</td>\n",
       "      <td>64.0</td>\n",
       "      <td>0</td>\n",
       "      <td>IL,</td>\n",
       "      <td>1</td>\n",
       "      <td>1</td>\n",
       "    </tr>\n",
       "    <tr>\n",
       "      <th>10281</th>\n",
       "      <td>West Garfield Boulevard, Chicago, IL, USA</td>\n",
       "      <td>5</td>\n",
       "      <td>9000  W GARFIELD BLVD, Chicago, IL</td>\n",
       "      <td>9.8</td>\n",
       "      <td>90</td>\n",
       "      <td>0</td>\n",
       "      <td>0</td>\n",
       "      <td>0</td>\n",
       "      <td>0</td>\n",
       "      <td></td>\n",
       "      <td>...</td>\n",
       "      <td>73</td>\n",
       "      <td>83</td>\n",
       "      <td>63</td>\n",
       "      <td>T226</td>\n",
       "      <td>M</td>\n",
       "      <td>64.0</td>\n",
       "      <td>0</td>\n",
       "      <td>IL,</td>\n",
       "      <td>1</td>\n",
       "      <td>0</td>\n",
       "    </tr>\n",
       "    <tr>\n",
       "      <th>10322</th>\n",
       "      <td>South Vincennes Avenue, Chicago, IL, USA</td>\n",
       "      <td>5</td>\n",
       "      <td>1000  S VINCENNES, Chicago, IL</td>\n",
       "      <td>10.0</td>\n",
       "      <td>10</td>\n",
       "      <td>0</td>\n",
       "      <td>0</td>\n",
       "      <td>0</td>\n",
       "      <td>0</td>\n",
       "      <td>RA BR HZ</td>\n",
       "      <td>...</td>\n",
       "      <td>77</td>\n",
       "      <td>84</td>\n",
       "      <td>70</td>\n",
       "      <td>T089</td>\n",
       "      <td>M</td>\n",
       "      <td>69.0</td>\n",
       "      <td>1</td>\n",
       "      <td>IL,</td>\n",
       "      <td>1</td>\n",
       "      <td>1</td>\n",
       "    </tr>\n",
       "    <tr>\n",
       "      <th>10326</th>\n",
       "      <td>Chicago, IL, USA</td>\n",
       "      <td>3</td>\n",
       "      <td>4300  N ASHLAND AVE OVERPASS, Chicago, IL</td>\n",
       "      <td>10.0</td>\n",
       "      <td>43</td>\n",
       "      <td>0</td>\n",
       "      <td>0</td>\n",
       "      <td>0</td>\n",
       "      <td>0</td>\n",
       "      <td>RA BR HZ</td>\n",
       "      <td>...</td>\n",
       "      <td>77</td>\n",
       "      <td>84</td>\n",
       "      <td>70</td>\n",
       "      <td>T145</td>\n",
       "      <td>M</td>\n",
       "      <td>69.0</td>\n",
       "      <td>0</td>\n",
       "      <td>IL,</td>\n",
       "      <td>1</td>\n",
       "      <td>0</td>\n",
       "    </tr>\n",
       "    <tr>\n",
       "      <th>10368</th>\n",
       "      <td>South Doty Avenue, Chicago, IL, USA</td>\n",
       "      <td>5</td>\n",
       "      <td>1200  S DOTY AVE, Chicago, IL</td>\n",
       "      <td>10.0</td>\n",
       "      <td>12</td>\n",
       "      <td>0</td>\n",
       "      <td>0</td>\n",
       "      <td>0</td>\n",
       "      <td>0</td>\n",
       "      <td>RA BR HZ</td>\n",
       "      <td>...</td>\n",
       "      <td>77</td>\n",
       "      <td>84</td>\n",
       "      <td>70</td>\n",
       "      <td>T115</td>\n",
       "      <td>M</td>\n",
       "      <td>69.0</td>\n",
       "      <td>0</td>\n",
       "      <td>IL,</td>\n",
       "      <td>1</td>\n",
       "      <td>1</td>\n",
       "    </tr>\n",
       "    <tr>\n",
       "      <th>10369</th>\n",
       "      <td>South Doty Avenue, Chicago, IL, USA</td>\n",
       "      <td>5</td>\n",
       "      <td>1200  S DOTY AVE, Chicago, IL</td>\n",
       "      <td>10.0</td>\n",
       "      <td>12</td>\n",
       "      <td>0</td>\n",
       "      <td>0</td>\n",
       "      <td>0</td>\n",
       "      <td>0</td>\n",
       "      <td>RA BR HZ</td>\n",
       "      <td>...</td>\n",
       "      <td>77</td>\n",
       "      <td>84</td>\n",
       "      <td>70</td>\n",
       "      <td>T115</td>\n",
       "      <td>M</td>\n",
       "      <td>69.0</td>\n",
       "      <td>0</td>\n",
       "      <td>IL,</td>\n",
       "      <td>1</td>\n",
       "      <td>0</td>\n",
       "    </tr>\n",
       "    <tr>\n",
       "      <th>10370</th>\n",
       "      <td>South Stony Island Avenue, Chicago, IL, USA</td>\n",
       "      <td>5</td>\n",
       "      <td>1000  S STONY ISLAND AVE, Chicago, IL</td>\n",
       "      <td>10.0</td>\n",
       "      <td>10</td>\n",
       "      <td>0</td>\n",
       "      <td>0</td>\n",
       "      <td>0</td>\n",
       "      <td>0</td>\n",
       "      <td>RA BR HZ</td>\n",
       "      <td>...</td>\n",
       "      <td>77</td>\n",
       "      <td>84</td>\n",
       "      <td>70</td>\n",
       "      <td>T138</td>\n",
       "      <td>M</td>\n",
       "      <td>69.0</td>\n",
       "      <td>0</td>\n",
       "      <td>IL,</td>\n",
       "      <td>1</td>\n",
       "      <td>1</td>\n",
       "    </tr>\n",
       "    <tr>\n",
       "      <th>10378</th>\n",
       "      <td>South Cottage Grove Avenue, Chicago, IL, USA</td>\n",
       "      <td>5</td>\n",
       "      <td>1000  S COTTAGE GROVE, Chicago, IL</td>\n",
       "      <td>10.0</td>\n",
       "      <td>10</td>\n",
       "      <td>0</td>\n",
       "      <td>0</td>\n",
       "      <td>0</td>\n",
       "      <td>0</td>\n",
       "      <td>RA BR HZ</td>\n",
       "      <td>...</td>\n",
       "      <td>77</td>\n",
       "      <td>84</td>\n",
       "      <td>70</td>\n",
       "      <td>T102</td>\n",
       "      <td>M</td>\n",
       "      <td>69.0</td>\n",
       "      <td>0</td>\n",
       "      <td>IL,</td>\n",
       "      <td>1</td>\n",
       "      <td>1</td>\n",
       "    </tr>\n",
       "    <tr>\n",
       "      <th>10379</th>\n",
       "      <td>South Cottage Grove Avenue, Chicago, IL, USA</td>\n",
       "      <td>5</td>\n",
       "      <td>1000  S COTTAGE GROVE, Chicago, IL</td>\n",
       "      <td>10.0</td>\n",
       "      <td>10</td>\n",
       "      <td>0</td>\n",
       "      <td>0</td>\n",
       "      <td>0</td>\n",
       "      <td>0</td>\n",
       "      <td>RA BR HZ</td>\n",
       "      <td>...</td>\n",
       "      <td>77</td>\n",
       "      <td>84</td>\n",
       "      <td>70</td>\n",
       "      <td>T102</td>\n",
       "      <td>M</td>\n",
       "      <td>69.0</td>\n",
       "      <td>0</td>\n",
       "      <td>IL,</td>\n",
       "      <td>1</td>\n",
       "      <td>0</td>\n",
       "    </tr>\n",
       "    <tr>\n",
       "      <th>10398</th>\n",
       "      <td>East 91st Place, Chicago, IL, USA</td>\n",
       "      <td>5</td>\n",
       "      <td>6500  E 91ST PL, Chicago, IL</td>\n",
       "      <td>10.0</td>\n",
       "      <td>65</td>\n",
       "      <td>0</td>\n",
       "      <td>0</td>\n",
       "      <td>0</td>\n",
       "      <td>0</td>\n",
       "      <td>RA BR HZ</td>\n",
       "      <td>...</td>\n",
       "      <td>77</td>\n",
       "      <td>84</td>\n",
       "      <td>70</td>\n",
       "      <td>T227</td>\n",
       "      <td>M</td>\n",
       "      <td>69.0</td>\n",
       "      <td>0</td>\n",
       "      <td>IL,</td>\n",
       "      <td>1</td>\n",
       "      <td>1</td>\n",
       "    </tr>\n",
       "    <tr>\n",
       "      <th>10399</th>\n",
       "      <td>East 91st Place, Chicago, IL, USA</td>\n",
       "      <td>5</td>\n",
       "      <td>6500  E 91ST PL, Chicago, IL</td>\n",
       "      <td>10.0</td>\n",
       "      <td>65</td>\n",
       "      <td>0</td>\n",
       "      <td>0</td>\n",
       "      <td>0</td>\n",
       "      <td>0</td>\n",
       "      <td>RA BR HZ</td>\n",
       "      <td>...</td>\n",
       "      <td>77</td>\n",
       "      <td>84</td>\n",
       "      <td>70</td>\n",
       "      <td>T227</td>\n",
       "      <td>M</td>\n",
       "      <td>69.0</td>\n",
       "      <td>0</td>\n",
       "      <td>IL,</td>\n",
       "      <td>1</td>\n",
       "      <td>0</td>\n",
       "    </tr>\n",
       "    <tr>\n",
       "      <th>10401</th>\n",
       "      <td>West Garfield Boulevard, Chicago, IL, USA</td>\n",
       "      <td>5</td>\n",
       "      <td>9000  W GARFIELD BLVD, Chicago, IL</td>\n",
       "      <td>10.0</td>\n",
       "      <td>90</td>\n",
       "      <td>0</td>\n",
       "      <td>0</td>\n",
       "      <td>0</td>\n",
       "      <td>0</td>\n",
       "      <td>RA BR HZ</td>\n",
       "      <td>...</td>\n",
       "      <td>77</td>\n",
       "      <td>84</td>\n",
       "      <td>70</td>\n",
       "      <td>T226</td>\n",
       "      <td>M</td>\n",
       "      <td>69.0</td>\n",
       "      <td>0</td>\n",
       "      <td>IL,</td>\n",
       "      <td>1</td>\n",
       "      <td>1</td>\n",
       "    </tr>\n",
       "    <tr>\n",
       "      <th>10402</th>\n",
       "      <td>West Garfield Boulevard, Chicago, IL, USA</td>\n",
       "      <td>5</td>\n",
       "      <td>9000  W GARFIELD BLVD, Chicago, IL</td>\n",
       "      <td>10.0</td>\n",
       "      <td>90</td>\n",
       "      <td>0</td>\n",
       "      <td>0</td>\n",
       "      <td>0</td>\n",
       "      <td>0</td>\n",
       "      <td>RA BR HZ</td>\n",
       "      <td>...</td>\n",
       "      <td>77</td>\n",
       "      <td>84</td>\n",
       "      <td>70</td>\n",
       "      <td>T226</td>\n",
       "      <td>M</td>\n",
       "      <td>69.0</td>\n",
       "      <td>0</td>\n",
       "      <td>IL,</td>\n",
       "      <td>0</td>\n",
       "      <td>1</td>\n",
       "    </tr>\n",
       "    <tr>\n",
       "      <th>10429</th>\n",
       "      <td>South Vincennes Avenue, Chicago, IL, USA</td>\n",
       "      <td>5</td>\n",
       "      <td>1000  S VINCENNES, Chicago, IL</td>\n",
       "      <td>4.6</td>\n",
       "      <td>10</td>\n",
       "      <td>0</td>\n",
       "      <td>0</td>\n",
       "      <td>0</td>\n",
       "      <td>0</td>\n",
       "      <td></td>\n",
       "      <td>...</td>\n",
       "      <td>65</td>\n",
       "      <td>75</td>\n",
       "      <td>55</td>\n",
       "      <td>T089</td>\n",
       "      <td>M</td>\n",
       "      <td>58.0</td>\n",
       "      <td>0</td>\n",
       "      <td>IL,</td>\n",
       "      <td>1</td>\n",
       "      <td>1</td>\n",
       "    </tr>\n",
       "    <tr>\n",
       "      <th>10433</th>\n",
       "      <td>Chicago, IL, USA</td>\n",
       "      <td>3</td>\n",
       "      <td>4300  N ASHLAND AVE OVERPASS, Chicago, IL</td>\n",
       "      <td>4.6</td>\n",
       "      <td>43</td>\n",
       "      <td>0</td>\n",
       "      <td>0</td>\n",
       "      <td>0</td>\n",
       "      <td>0</td>\n",
       "      <td></td>\n",
       "      <td>...</td>\n",
       "      <td>65</td>\n",
       "      <td>75</td>\n",
       "      <td>55</td>\n",
       "      <td>T145</td>\n",
       "      <td>M</td>\n",
       "      <td>58.0</td>\n",
       "      <td>0</td>\n",
       "      <td>IL,</td>\n",
       "      <td>1</td>\n",
       "      <td>0</td>\n",
       "    </tr>\n",
       "    <tr>\n",
       "      <th>10464</th>\n",
       "      <td>South Doty Avenue, Chicago, IL, USA</td>\n",
       "      <td>5</td>\n",
       "      <td>1200  S DOTY AVE, Chicago, IL</td>\n",
       "      <td>4.6</td>\n",
       "      <td>12</td>\n",
       "      <td>0</td>\n",
       "      <td>0</td>\n",
       "      <td>0</td>\n",
       "      <td>0</td>\n",
       "      <td></td>\n",
       "      <td>...</td>\n",
       "      <td>65</td>\n",
       "      <td>75</td>\n",
       "      <td>55</td>\n",
       "      <td>T115</td>\n",
       "      <td>M</td>\n",
       "      <td>58.0</td>\n",
       "      <td>0</td>\n",
       "      <td>IL,</td>\n",
       "      <td>1</td>\n",
       "      <td>1</td>\n",
       "    </tr>\n",
       "    <tr>\n",
       "      <th>10465</th>\n",
       "      <td>South Doty Avenue, Chicago, IL, USA</td>\n",
       "      <td>5</td>\n",
       "      <td>1200  S DOTY AVE, Chicago, IL</td>\n",
       "      <td>4.6</td>\n",
       "      <td>12</td>\n",
       "      <td>0</td>\n",
       "      <td>0</td>\n",
       "      <td>0</td>\n",
       "      <td>0</td>\n",
       "      <td></td>\n",
       "      <td>...</td>\n",
       "      <td>65</td>\n",
       "      <td>75</td>\n",
       "      <td>55</td>\n",
       "      <td>T115</td>\n",
       "      <td>M</td>\n",
       "      <td>58.0</td>\n",
       "      <td>0</td>\n",
       "      <td>IL,</td>\n",
       "      <td>1</td>\n",
       "      <td>0</td>\n",
       "    </tr>\n",
       "    <tr>\n",
       "      <th>10466</th>\n",
       "      <td>South Stony Island Avenue, Chicago, IL, USA</td>\n",
       "      <td>5</td>\n",
       "      <td>1000  S STONY ISLAND AVE, Chicago, IL</td>\n",
       "      <td>4.6</td>\n",
       "      <td>10</td>\n",
       "      <td>0</td>\n",
       "      <td>0</td>\n",
       "      <td>0</td>\n",
       "      <td>0</td>\n",
       "      <td></td>\n",
       "      <td>...</td>\n",
       "      <td>65</td>\n",
       "      <td>75</td>\n",
       "      <td>55</td>\n",
       "      <td>T138</td>\n",
       "      <td>M</td>\n",
       "      <td>58.0</td>\n",
       "      <td>0</td>\n",
       "      <td>IL,</td>\n",
       "      <td>1</td>\n",
       "      <td>1</td>\n",
       "    </tr>\n",
       "    <tr>\n",
       "      <th>10467</th>\n",
       "      <td>South Stony Island Avenue, Chicago, IL, USA</td>\n",
       "      <td>5</td>\n",
       "      <td>1000  S STONY ISLAND AVE, Chicago, IL</td>\n",
       "      <td>4.6</td>\n",
       "      <td>10</td>\n",
       "      <td>0</td>\n",
       "      <td>0</td>\n",
       "      <td>0</td>\n",
       "      <td>0</td>\n",
       "      <td></td>\n",
       "      <td>...</td>\n",
       "      <td>65</td>\n",
       "      <td>75</td>\n",
       "      <td>55</td>\n",
       "      <td>T138</td>\n",
       "      <td>M</td>\n",
       "      <td>58.0</td>\n",
       "      <td>0</td>\n",
       "      <td>IL,</td>\n",
       "      <td>1</td>\n",
       "      <td>0</td>\n",
       "    </tr>\n",
       "    <tr>\n",
       "      <th>10476</th>\n",
       "      <td>South Cottage Grove Avenue, Chicago, IL, USA</td>\n",
       "      <td>5</td>\n",
       "      <td>1000  S COTTAGE GROVE, Chicago, IL</td>\n",
       "      <td>4.6</td>\n",
       "      <td>10</td>\n",
       "      <td>0</td>\n",
       "      <td>0</td>\n",
       "      <td>0</td>\n",
       "      <td>0</td>\n",
       "      <td></td>\n",
       "      <td>...</td>\n",
       "      <td>65</td>\n",
       "      <td>75</td>\n",
       "      <td>55</td>\n",
       "      <td>T102</td>\n",
       "      <td>M</td>\n",
       "      <td>58.0</td>\n",
       "      <td>0</td>\n",
       "      <td>IL,</td>\n",
       "      <td>1</td>\n",
       "      <td>1</td>\n",
       "    </tr>\n",
       "    <tr>\n",
       "      <th>10477</th>\n",
       "      <td>South Cottage Grove Avenue, Chicago, IL, USA</td>\n",
       "      <td>5</td>\n",
       "      <td>1000  S COTTAGE GROVE, Chicago, IL</td>\n",
       "      <td>4.6</td>\n",
       "      <td>10</td>\n",
       "      <td>0</td>\n",
       "      <td>0</td>\n",
       "      <td>0</td>\n",
       "      <td>0</td>\n",
       "      <td></td>\n",
       "      <td>...</td>\n",
       "      <td>65</td>\n",
       "      <td>75</td>\n",
       "      <td>55</td>\n",
       "      <td>T102</td>\n",
       "      <td>M</td>\n",
       "      <td>58.0</td>\n",
       "      <td>0</td>\n",
       "      <td>IL,</td>\n",
       "      <td>0</td>\n",
       "      <td>1</td>\n",
       "    </tr>\n",
       "    <tr>\n",
       "      <th>10478</th>\n",
       "      <td>South Cottage Grove Avenue, Chicago, IL, USA</td>\n",
       "      <td>5</td>\n",
       "      <td>1000  S COTTAGE GROVE, Chicago, IL</td>\n",
       "      <td>4.6</td>\n",
       "      <td>10</td>\n",
       "      <td>0</td>\n",
       "      <td>0</td>\n",
       "      <td>0</td>\n",
       "      <td>0</td>\n",
       "      <td></td>\n",
       "      <td>...</td>\n",
       "      <td>65</td>\n",
       "      <td>75</td>\n",
       "      <td>55</td>\n",
       "      <td>T102</td>\n",
       "      <td>M</td>\n",
       "      <td>58.0</td>\n",
       "      <td>0</td>\n",
       "      <td>IL,</td>\n",
       "      <td>1</td>\n",
       "      <td>0</td>\n",
       "    </tr>\n",
       "    <tr>\n",
       "      <th>10494</th>\n",
       "      <td>East 91st Place, Chicago, IL, USA</td>\n",
       "      <td>5</td>\n",
       "      <td>6500  E 91ST PL, Chicago, IL</td>\n",
       "      <td>4.6</td>\n",
       "      <td>65</td>\n",
       "      <td>0</td>\n",
       "      <td>0</td>\n",
       "      <td>0</td>\n",
       "      <td>0</td>\n",
       "      <td></td>\n",
       "      <td>...</td>\n",
       "      <td>65</td>\n",
       "      <td>75</td>\n",
       "      <td>55</td>\n",
       "      <td>T227</td>\n",
       "      <td>M</td>\n",
       "      <td>58.0</td>\n",
       "      <td>0</td>\n",
       "      <td>IL,</td>\n",
       "      <td>1</td>\n",
       "      <td>1</td>\n",
       "    </tr>\n",
       "    <tr>\n",
       "      <th>10495</th>\n",
       "      <td>East 91st Place, Chicago, IL, USA</td>\n",
       "      <td>5</td>\n",
       "      <td>6500  E 91ST PL, Chicago, IL</td>\n",
       "      <td>4.6</td>\n",
       "      <td>65</td>\n",
       "      <td>0</td>\n",
       "      <td>0</td>\n",
       "      <td>0</td>\n",
       "      <td>0</td>\n",
       "      <td></td>\n",
       "      <td>...</td>\n",
       "      <td>65</td>\n",
       "      <td>75</td>\n",
       "      <td>55</td>\n",
       "      <td>T227</td>\n",
       "      <td>M</td>\n",
       "      <td>58.0</td>\n",
       "      <td>0</td>\n",
       "      <td>IL,</td>\n",
       "      <td>1</td>\n",
       "      <td>0</td>\n",
       "    </tr>\n",
       "    <tr>\n",
       "      <th>10497</th>\n",
       "      <td>West Garfield Boulevard, Chicago, IL, USA</td>\n",
       "      <td>5</td>\n",
       "      <td>9000  W GARFIELD BLVD, Chicago, IL</td>\n",
       "      <td>4.6</td>\n",
       "      <td>90</td>\n",
       "      <td>0</td>\n",
       "      <td>0</td>\n",
       "      <td>0</td>\n",
       "      <td>0</td>\n",
       "      <td></td>\n",
       "      <td>...</td>\n",
       "      <td>65</td>\n",
       "      <td>75</td>\n",
       "      <td>55</td>\n",
       "      <td>T226</td>\n",
       "      <td>M</td>\n",
       "      <td>58.0</td>\n",
       "      <td>0</td>\n",
       "      <td>IL,</td>\n",
       "      <td>1</td>\n",
       "      <td>1</td>\n",
       "    </tr>\n",
       "  </tbody>\n",
       "</table>\n",
       "<p>1508 rows × 178 columns</p>\n",
       "</div>"
      ],
      "text/plain": [
       "                                            Address  AddressAccuracy  \\\n",
       "58         South Vincennes Avenue, Chicago, IL, USA                5   \n",
       "69                                 Chicago, IL, USA                3   \n",
       "127                                Chicago, IL, USA                3   \n",
       "172        South Vincennes Avenue, Chicago, IL, USA                5   \n",
       "179                                Chicago, IL, USA                3   \n",
       "193       6400 West Strong Street, Chicago, IL, USA                8   \n",
       "228        South Vincennes Avenue, Chicago, IL, USA                5   \n",
       "237                                Chicago, IL, USA                3   \n",
       "265       6400 West Strong Street, Chicago, IL, USA                8   \n",
       "266       6400 West Strong Street, Chicago, IL, USA                8   \n",
       "330        South Vincennes Avenue, Chicago, IL, USA                5   \n",
       "331        South Vincennes Avenue, Chicago, IL, USA                5   \n",
       "342                                Chicago, IL, USA                3   \n",
       "343                                Chicago, IL, USA                3   \n",
       "378       6400 West Strong Street, Chicago, IL, USA                8   \n",
       "379       6400 West Strong Street, Chicago, IL, USA                8   \n",
       "501       6400 West Strong Street, Chicago, IL, USA                8   \n",
       "529             South Doty Avenue, Chicago, IL, USA                5   \n",
       "530     South Stony Island Avenue, Chicago, IL, USA                5   \n",
       "531     South Stony Island Avenue, Chicago, IL, USA                5   \n",
       "532     South Stony Island Avenue, Chicago, IL, USA                5   \n",
       "533     South Stony Island Avenue, Chicago, IL, USA                5   \n",
       "534     South Stony Island Avenue, Chicago, IL, USA                5   \n",
       "535         South Torrence Avenue, Chicago, IL, USA                5   \n",
       "536         South Torrence Avenue, Chicago, IL, USA                5   \n",
       "537         South Torrence Avenue, Chicago, IL, USA                5   \n",
       "538         South Torrence Avenue, Chicago, IL, USA                5   \n",
       "539         South Torrence Avenue, Chicago, IL, USA                5   \n",
       "540         South Torrence Avenue, Chicago, IL, USA                5   \n",
       "557                                Chicago, IL, USA                3   \n",
       "...                                             ...              ...   \n",
       "10243           South Doty Avenue, Chicago, IL, USA                5   \n",
       "10244   South Stony Island Avenue, Chicago, IL, USA                5   \n",
       "10249  South Cottage Grove Avenue, Chicago, IL, USA                5   \n",
       "10250  South Cottage Grove Avenue, Chicago, IL, USA                5   \n",
       "10277             East 91st Place, Chicago, IL, USA                5   \n",
       "10280     West Garfield Boulevard, Chicago, IL, USA                5   \n",
       "10281     West Garfield Boulevard, Chicago, IL, USA                5   \n",
       "10322      South Vincennes Avenue, Chicago, IL, USA                5   \n",
       "10326                              Chicago, IL, USA                3   \n",
       "10368           South Doty Avenue, Chicago, IL, USA                5   \n",
       "10369           South Doty Avenue, Chicago, IL, USA                5   \n",
       "10370   South Stony Island Avenue, Chicago, IL, USA                5   \n",
       "10378  South Cottage Grove Avenue, Chicago, IL, USA                5   \n",
       "10379  South Cottage Grove Avenue, Chicago, IL, USA                5   \n",
       "10398             East 91st Place, Chicago, IL, USA                5   \n",
       "10399             East 91st Place, Chicago, IL, USA                5   \n",
       "10401     West Garfield Boulevard, Chicago, IL, USA                5   \n",
       "10402     West Garfield Boulevard, Chicago, IL, USA                5   \n",
       "10429      South Vincennes Avenue, Chicago, IL, USA                5   \n",
       "10433                              Chicago, IL, USA                3   \n",
       "10464           South Doty Avenue, Chicago, IL, USA                5   \n",
       "10465           South Doty Avenue, Chicago, IL, USA                5   \n",
       "10466   South Stony Island Avenue, Chicago, IL, USA                5   \n",
       "10467   South Stony Island Avenue, Chicago, IL, USA                5   \n",
       "10476  South Cottage Grove Avenue, Chicago, IL, USA                5   \n",
       "10477  South Cottage Grove Avenue, Chicago, IL, USA                5   \n",
       "10478  South Cottage Grove Avenue, Chicago, IL, USA                5   \n",
       "10494             East 91st Place, Chicago, IL, USA                5   \n",
       "10495             East 91st Place, Chicago, IL, USA                5   \n",
       "10497     West Garfield Boulevard, Chicago, IL, USA                5   \n",
       "\n",
       "                          AddressNumberAndStreet AvgSpeed  Block  \\\n",
       "58                1000  S VINCENNES, Chicago, IL      8.1     10   \n",
       "69     4300  N ASHLAND AVE OVERPASS, Chicago, IL      8.1     43   \n",
       "127    4300  N ASHLAND AVE OVERPASS, Chicago, IL      8.1     43   \n",
       "172               1000  S VINCENNES, Chicago, IL      8.2     10   \n",
       "179    4300  N ASHLAND AVE OVERPASS, Chicago, IL      8.2     43   \n",
       "193               6400  W STRONG ST, Chicago, IL      8.3     64   \n",
       "228               1000  S VINCENNES, Chicago, IL      8.5     10   \n",
       "237    4300  N ASHLAND AVE OVERPASS, Chicago, IL      8.5     43   \n",
       "265               6400  W STRONG ST, Chicago, IL      8.1     64   \n",
       "266               6400  W STRONG ST, Chicago, IL      8.1     64   \n",
       "330               1000  S VINCENNES, Chicago, IL     11.2     10   \n",
       "331               1000  S VINCENNES, Chicago, IL     11.2     10   \n",
       "342    4300  N ASHLAND AVE OVERPASS, Chicago, IL     11.2     43   \n",
       "343    4300  N ASHLAND AVE OVERPASS, Chicago, IL     11.2     43   \n",
       "378               6400  W STRONG ST, Chicago, IL     10.9     64   \n",
       "379               6400  W STRONG ST, Chicago, IL     10.9     64   \n",
       "501               6400  W STRONG ST, Chicago, IL     10.1     64   \n",
       "529                1200  S DOTY AVE, Chicago, IL     10.6     12   \n",
       "530        1000  S STONY ISLAND AVE, Chicago, IL     10.6     10   \n",
       "531        1000  S STONY ISLAND AVE, Chicago, IL     10.6     10   \n",
       "532        1000  S STONY ISLAND AVE, Chicago, IL     10.6     10   \n",
       "533        1000  S STONY ISLAND AVE, Chicago, IL     10.6     10   \n",
       "534        1000  S STONY ISLAND AVE, Chicago, IL     10.6     10   \n",
       "535            1300  S TORRENCE AVE, Chicago, IL     10.6     13   \n",
       "536            1300  S TORRENCE AVE, Chicago, IL     10.6     13   \n",
       "537            1300  S TORRENCE AVE, Chicago, IL     10.6     13   \n",
       "538            1300  S TORRENCE AVE, Chicago, IL     10.6     13   \n",
       "539            1300  S TORRENCE AVE, Chicago, IL     10.6     13   \n",
       "540            1300  S TORRENCE AVE, Chicago, IL     10.6     13   \n",
       "557    4300  N ASHLAND AVE OVERPASS, Chicago, IL     14.4     43   \n",
       "...                                          ...      ...    ...   \n",
       "10243              1200  S DOTY AVE, Chicago, IL      9.8     12   \n",
       "10244      1000  S STONY ISLAND AVE, Chicago, IL      9.8     10   \n",
       "10249         1000  S COTTAGE GROVE, Chicago, IL      9.8     10   \n",
       "10250         1000  S COTTAGE GROVE, Chicago, IL      9.8     10   \n",
       "10277               6500  E 91ST PL, Chicago, IL      9.8     65   \n",
       "10280         9000  W GARFIELD BLVD, Chicago, IL      9.8     90   \n",
       "10281         9000  W GARFIELD BLVD, Chicago, IL      9.8     90   \n",
       "10322             1000  S VINCENNES, Chicago, IL     10.0     10   \n",
       "10326  4300  N ASHLAND AVE OVERPASS, Chicago, IL     10.0     43   \n",
       "10368              1200  S DOTY AVE, Chicago, IL     10.0     12   \n",
       "10369              1200  S DOTY AVE, Chicago, IL     10.0     12   \n",
       "10370      1000  S STONY ISLAND AVE, Chicago, IL     10.0     10   \n",
       "10378         1000  S COTTAGE GROVE, Chicago, IL     10.0     10   \n",
       "10379         1000  S COTTAGE GROVE, Chicago, IL     10.0     10   \n",
       "10398               6500  E 91ST PL, Chicago, IL     10.0     65   \n",
       "10399               6500  E 91ST PL, Chicago, IL     10.0     65   \n",
       "10401         9000  W GARFIELD BLVD, Chicago, IL     10.0     90   \n",
       "10402         9000  W GARFIELD BLVD, Chicago, IL     10.0     90   \n",
       "10429             1000  S VINCENNES, Chicago, IL      4.6     10   \n",
       "10433  4300  N ASHLAND AVE OVERPASS, Chicago, IL      4.6     43   \n",
       "10464              1200  S DOTY AVE, Chicago, IL      4.6     12   \n",
       "10465              1200  S DOTY AVE, Chicago, IL      4.6     12   \n",
       "10466      1000  S STONY ISLAND AVE, Chicago, IL      4.6     10   \n",
       "10467      1000  S STONY ISLAND AVE, Chicago, IL      4.6     10   \n",
       "10476         1000  S COTTAGE GROVE, Chicago, IL      4.6     10   \n",
       "10477         1000  S COTTAGE GROVE, Chicago, IL      4.6     10   \n",
       "10478         1000  S COTTAGE GROVE, Chicago, IL      4.6     10   \n",
       "10494               6500  E 91ST PL, Chicago, IL      4.6     65   \n",
       "10495               6500  E 91ST PL, Chicago, IL      4.6     65   \n",
       "10497         9000  W GARFIELD BLVD, Chicago, IL      4.6     90   \n",
       "\n",
       "       CULEX ERRATICUS  CULEX SALINARIUS  CULEX TARSALIS  CULEX TERRITANS  \\\n",
       "58                   0                 0               0                0   \n",
       "69                   0                 0               0                0   \n",
       "127                  0                 0               0                0   \n",
       "172                  0                 0               0                0   \n",
       "179                  0                 0               0                0   \n",
       "193                  0                 0               0                0   \n",
       "228                  0                 0               0                0   \n",
       "237                  0                 1               0                0   \n",
       "265                  0                 0               0                0   \n",
       "266                  0                 0               0                0   \n",
       "330                  0                 0               0                0   \n",
       "331                  0                 0               0                0   \n",
       "342                  0                 0               0                0   \n",
       "343                  0                 0               0                0   \n",
       "378                  0                 0               0                0   \n",
       "379                  0                 0               0                0   \n",
       "501                  0                 0               0                0   \n",
       "529                  0                 0               0                0   \n",
       "530                  0                 0               0                0   \n",
       "531                  0                 0               0                0   \n",
       "532                  0                 0               0                0   \n",
       "533                  0                 0               0                0   \n",
       "534                  0                 1               0                0   \n",
       "535                  0                 0               0                0   \n",
       "536                  0                 0               0                0   \n",
       "537                  0                 0               0                0   \n",
       "538                  0                 0               0                0   \n",
       "539                  0                 0               0                0   \n",
       "540                  0                 0               0                1   \n",
       "557                  0                 0               0                0   \n",
       "...                ...               ...             ...              ...   \n",
       "10243                0                 0               0                0   \n",
       "10244                0                 0               0                0   \n",
       "10249                0                 0               0                0   \n",
       "10250                0                 0               0                0   \n",
       "10277                0                 0               0                0   \n",
       "10280                0                 0               0                0   \n",
       "10281                0                 0               0                0   \n",
       "10322                0                 0               0                0   \n",
       "10326                0                 0               0                0   \n",
       "10368                0                 0               0                0   \n",
       "10369                0                 0               0                0   \n",
       "10370                0                 0               0                0   \n",
       "10378                0                 0               0                0   \n",
       "10379                0                 0               0                0   \n",
       "10398                0                 0               0                0   \n",
       "10399                0                 0               0                0   \n",
       "10401                0                 0               0                0   \n",
       "10402                0                 0               0                0   \n",
       "10429                0                 0               0                0   \n",
       "10433                0                 0               0                0   \n",
       "10464                0                 0               0                0   \n",
       "10465                0                 0               0                0   \n",
       "10466                0                 0               0                0   \n",
       "10467                0                 0               0                0   \n",
       "10476                0                 0               0                0   \n",
       "10477                0                 0               0                0   \n",
       "10478                0                 0               0                0   \n",
       "10494                0                 0               0                0   \n",
       "10495                0                 0               0                0   \n",
       "10497                0                 0               0                0   \n",
       "\n",
       "                     CodeSum   ...    Tavg_int Tmax Tmin  Trap  Water1  \\\n",
       "58                     RA BR   ...          57   63   51  T089       M   \n",
       "69                     RA BR   ...          57   63   51  T145       M   \n",
       "127                    BR HZ   ...          82   91   73  T145       M   \n",
       "172                            ...          64   71   56  T089       M   \n",
       "179                            ...          64   71   56  T145       M   \n",
       "193                            ...          63   70   56  T014       M   \n",
       "228                            ...          68   77   58  T089       M   \n",
       "237                            ...          68   77   58  T145       M   \n",
       "265                            ...          66   79   53  T014       M   \n",
       "266                            ...          66   79   53  T014       M   \n",
       "330                            ...          70   77   63  T089       M   \n",
       "331                            ...          70   77   63  T089       M   \n",
       "342                            ...          70   77   63  T145       M   \n",
       "343                            ...          70   77   63  T145       M   \n",
       "378                            ...          70   77   62  T014       M   \n",
       "379                            ...          70   77   62  T014       M   \n",
       "501          TSRA RA BR VCTS   ...          77   85   69  T014       M   \n",
       "529    TS TSRA RA BR HZ VCTS   ...          77   85   69  T115       M   \n",
       "530    TS TSRA RA BR HZ VCTS   ...          77   85   69  T138       M   \n",
       "531    TS TSRA RA BR HZ VCTS   ...          77   85   69  T138       M   \n",
       "532    TS TSRA RA BR HZ VCTS   ...          77   85   69  T138       M   \n",
       "533    TS TSRA RA BR HZ VCTS   ...          77   85   69  T138       M   \n",
       "534    TS TSRA RA BR HZ VCTS   ...          77   85   69  T138       M   \n",
       "535    TS TSRA RA BR HZ VCTS   ...          77   85   69  T200       M   \n",
       "536    TS TSRA RA BR HZ VCTS   ...          77   85   69  T200       M   \n",
       "537    TS TSRA RA BR HZ VCTS   ...          77   85   69  T200       M   \n",
       "538    TS TSRA RA BR HZ VCTS   ...          77   85   69  T200       M   \n",
       "539    TS TSRA RA BR HZ VCTS   ...          77   85   69  T200       M   \n",
       "540    TS TSRA RA BR HZ VCTS   ...          77   85   69  T200       M   \n",
       "557                    BR HZ   ...          73   82   63  T145       M   \n",
       "...                      ...   ...         ...  ...  ...   ...     ...   \n",
       "10243                          ...          73   83   63  T115       M   \n",
       "10244                          ...          73   83   63  T138       M   \n",
       "10249                          ...          73   83   63  T102       M   \n",
       "10250                          ...          73   83   63  T102       M   \n",
       "10277                          ...          73   83   63  T227       M   \n",
       "10280                          ...          73   83   63  T226       M   \n",
       "10281                          ...          73   83   63  T226       M   \n",
       "10322               RA BR HZ   ...          77   84   70  T089       M   \n",
       "10326               RA BR HZ   ...          77   84   70  T145       M   \n",
       "10368               RA BR HZ   ...          77   84   70  T115       M   \n",
       "10369               RA BR HZ   ...          77   84   70  T115       M   \n",
       "10370               RA BR HZ   ...          77   84   70  T138       M   \n",
       "10378               RA BR HZ   ...          77   84   70  T102       M   \n",
       "10379               RA BR HZ   ...          77   84   70  T102       M   \n",
       "10398               RA BR HZ   ...          77   84   70  T227       M   \n",
       "10399               RA BR HZ   ...          77   84   70  T227       M   \n",
       "10401               RA BR HZ   ...          77   84   70  T226       M   \n",
       "10402               RA BR HZ   ...          77   84   70  T226       M   \n",
       "10429                          ...          65   75   55  T089       M   \n",
       "10433                          ...          65   75   55  T145       M   \n",
       "10464                          ...          65   75   55  T115       M   \n",
       "10465                          ...          65   75   55  T115       M   \n",
       "10466                          ...          65   75   55  T138       M   \n",
       "10467                          ...          65   75   55  T138       M   \n",
       "10476                          ...          65   75   55  T102       M   \n",
       "10477                          ...          65   75   55  T102       M   \n",
       "10478                          ...          65   75   55  T102       M   \n",
       "10494                          ...          65   75   55  T227       M   \n",
       "10495                          ...          65   75   55  T227       M   \n",
       "10497                          ...          65   75   55  T226       M   \n",
       "\n",
       "      WetBulb  WnvPresent  ZIP  new_pip new_rest  \n",
       "58       52.0           0  IL,        0        1  \n",
       "69       52.0           0  IL,        0        1  \n",
       "127      72.0           0  IL,        0        1  \n",
       "172      60.0           0  IL,        0        1  \n",
       "179      60.0           0  IL,        0        1  \n",
       "193      59.0           0  IL,        0        1  \n",
       "228      59.0           0  IL,        1        1  \n",
       "237      59.0           0  IL,        0        0  \n",
       "265      58.0           0  IL,        1        1  \n",
       "266      58.0           0  IL,        0        1  \n",
       "330      59.0           0  IL,        1        1  \n",
       "331      59.0           0  IL,        0        1  \n",
       "342      59.0           0  IL,        1        1  \n",
       "343      59.0           0  IL,        0        1  \n",
       "378      59.0           0  IL,        1        1  \n",
       "379      59.0           0  IL,        0        1  \n",
       "501      71.0           0  IL,        0        1  \n",
       "529      71.0           0  IL,        1        1  \n",
       "530      71.0           0  IL,        1        1  \n",
       "531      71.0           0  IL,        1        1  \n",
       "532      71.0           0  IL,        0        1  \n",
       "533      71.0           0  IL,        0        1  \n",
       "534      71.0           0  IL,        0        0  \n",
       "535      71.0           0  IL,        1        1  \n",
       "536      71.0           0  IL,        1        1  \n",
       "537      71.0           0  IL,        0        1  \n",
       "538      71.0           0  IL,        0        1  \n",
       "539      71.0           0  IL,        1        0  \n",
       "540      71.0           0  IL,        0        0  \n",
       "557      66.0           0  IL,        1        1  \n",
       "...       ...         ...  ...      ...      ...  \n",
       "10243    64.0           0  IL,        1        0  \n",
       "10244    64.0           0  IL,        1        0  \n",
       "10249    64.0           1  IL,        1        1  \n",
       "10250    64.0           0  IL,        1        0  \n",
       "10277    64.0           0  IL,        1        0  \n",
       "10280    64.0           0  IL,        1        1  \n",
       "10281    64.0           0  IL,        1        0  \n",
       "10322    69.0           1  IL,        1        1  \n",
       "10326    69.0           0  IL,        1        0  \n",
       "10368    69.0           0  IL,        1        1  \n",
       "10369    69.0           0  IL,        1        0  \n",
       "10370    69.0           0  IL,        1        1  \n",
       "10378    69.0           0  IL,        1        1  \n",
       "10379    69.0           0  IL,        1        0  \n",
       "10398    69.0           0  IL,        1        1  \n",
       "10399    69.0           0  IL,        1        0  \n",
       "10401    69.0           0  IL,        1        1  \n",
       "10402    69.0           0  IL,        0        1  \n",
       "10429    58.0           0  IL,        1        1  \n",
       "10433    58.0           0  IL,        1        0  \n",
       "10464    58.0           0  IL,        1        1  \n",
       "10465    58.0           0  IL,        1        0  \n",
       "10466    58.0           0  IL,        1        1  \n",
       "10467    58.0           0  IL,        1        0  \n",
       "10476    58.0           0  IL,        1        1  \n",
       "10477    58.0           0  IL,        0        1  \n",
       "10478    58.0           0  IL,        1        0  \n",
       "10494    58.0           0  IL,        1        1  \n",
       "10495    58.0           0  IL,        1        0  \n",
       "10497    58.0           0  IL,        1        1  \n",
       "\n",
       "[1508 rows x 178 columns]"
      ]
     },
     "execution_count": 204,
     "metadata": {},
     "output_type": "execute_result"
    }
   ],
   "source": [
    "new_train_weath.loc[new_train_weath['ZIP'] == 'IL,']"
   ]
  },
  {
   "cell_type": "markdown",
   "metadata": {},
   "source": [
    "Ugh. Can we do anything about this, short of looking up a bunch of ZIP codes for these addresses? This may be connected with the address accuracy issue.\n",
    "\n",
    "N.B. I did fill in a few of these later, but it would be nice to finish this work."
   ]
  },
  {
   "cell_type": "markdown",
   "metadata": {},
   "source": [
    "#### Brief Look at Correlation of ZIP code with West Nile"
   ]
  },
  {
   "cell_type": "code",
   "execution_count": 215,
   "metadata": {},
   "outputs": [],
   "source": [
    "# zip_dums = pd.get_dummies(new_train_weath['ZIP'])\n",
    "zip_dums = pd.get_dummies(train_weath['ZIP'])"
   ]
  },
  {
   "cell_type": "code",
   "execution_count": 217,
   "metadata": {},
   "outputs": [],
   "source": [
    "# zip_wnv = pd.concat([zip_dums, new_train_weath['WnvPresent']], axis = 1)\n",
    "zip_wnv = pd.concat([zip_dums, train_weath['WnvPresent']], axis = 1)"
   ]
  },
  {
   "cell_type": "code",
   "execution_count": 103,
   "metadata": {},
   "outputs": [
    {
     "data": {
      "text/plain": [
       "WnvPresent    1.000000\n",
       "60631,        0.050722\n",
       "60666,        0.044220\n",
       "60656,        0.028427\n",
       "60621,        0.020895\n",
       "60652,        0.017227\n",
       "60634,        0.015357\n",
       "60630,        0.014368\n",
       "60633,        0.012997\n",
       "60659,        0.011652\n",
       "Name: WnvPresent, dtype: float64"
      ]
     },
     "execution_count": 103,
     "metadata": {},
     "output_type": "execute_result"
    }
   ],
   "source": [
    "zip_wnv.corr()['WnvPresent'].nlargest(10)"
   ]
  },
  {
   "cell_type": "code",
   "execution_count": 218,
   "metadata": {},
   "outputs": [],
   "source": [
    "# train_zip = pd.concat([new_train_weath, zip_dums], axis = 1)\n",
    "train_zip = pd.concat([train_weath, zip_dums], axis = 1)"
   ]
  },
  {
   "cell_type": "markdown",
   "metadata": {},
   "source": [
    "#### Brief Interlude to look for high-traffic ZIP codes"
   ]
  },
  {
   "cell_type": "code",
   "execution_count": 69,
   "metadata": {},
   "outputs": [],
   "source": [
    "pip_df = train_zip.loc[(train_zip['new_pip'] == 1) & (train_weath['WnvPresent'] == 1)]"
   ]
  },
  {
   "cell_type": "code",
   "execution_count": 70,
   "metadata": {},
   "outputs": [
    {
     "data": {
      "text/plain": [
       "IL,       45\n",
       "60666,    16\n",
       "60617,    13\n",
       "60631,     6\n",
       "60803,     5\n",
       "60633,     3\n",
       "60634,     3\n",
       "60646,     3\n",
       "60643,     2\n",
       "60614,     2\n",
       "60651,     2\n",
       "60106,     2\n",
       "60625,     1\n",
       "60652,     1\n",
       "60656,     1\n",
       "60655,     1\n",
       "60638,     1\n",
       "Name: ZIP, dtype: int64"
      ]
     },
     "execution_count": 70,
     "metadata": {},
     "output_type": "execute_result"
    }
   ],
   "source": [
    "pip_df.loc[pip_df['NumMosquitos'] == 50, :]['ZIP'].value_counts()"
   ]
  },
  {
   "cell_type": "markdown",
   "metadata": {},
   "source": [
    "#### Interlude over"
   ]
  },
  {
   "cell_type": "code",
   "execution_count": 105,
   "metadata": {},
   "outputs": [
    {
     "data": {
      "text/plain": [
       "AddressAccuracy     0.008064\n",
       "Block               0.004877\n",
       "CULEX ERRATICUS    -0.002295\n",
       "CULEX SALINARIUS   -0.021373\n",
       "CULEX TARSALIS     -0.005624\n",
       "CULEX TERRITANS    -0.034566\n",
       "DewPoint            0.086935\n",
       "Latitude            0.028697\n",
       "Longitude          -0.060345\n",
       "NumMosquitos        0.196820\n",
       "ResultDir           0.001707\n",
       "ResultSpeed        -0.045420\n",
       "Spray?              0.062404\n",
       "Station            -0.040617\n",
       "T001               -0.008896\n",
       "T002                0.026936\n",
       "T003                0.030296\n",
       "T004               -0.007956\n",
       "T005                0.014815\n",
       "T006                0.024517\n",
       "T007               -0.011020\n",
       "T008                0.010127\n",
       "T009                0.013273\n",
       "T011                0.015371\n",
       "T012               -0.006468\n",
       "T013                0.019605\n",
       "T014                0.019417\n",
       "T015                0.016038\n",
       "T016                0.019122\n",
       "T017               -0.020347\n",
       "                      ...   \n",
       "60629,             -0.000697\n",
       "60630,              0.014368\n",
       "60631,              0.050722\n",
       "60632,             -0.006018\n",
       "60633,              0.012997\n",
       "60634,              0.015357\n",
       "60636,             -0.017383\n",
       "60637,             -0.012689\n",
       "60638,             -0.006006\n",
       "60639,              0.008446\n",
       "60640,             -0.010529\n",
       "60641,             -0.012428\n",
       "60642,             -0.016481\n",
       "60643,              0.005371\n",
       "60645,             -0.019129\n",
       "60646,              0.003125\n",
       "60647,             -0.009471\n",
       "60649,             -0.016171\n",
       "60651,              0.008230\n",
       "60652,              0.017227\n",
       "60654,             -0.024200\n",
       "60655,             -0.004111\n",
       "60656,              0.028427\n",
       "60659,              0.011652\n",
       "60660,              0.006233\n",
       "60666,              0.044220\n",
       "60707,             -0.008773\n",
       "60803,             -0.005214\n",
       "60827,              0.001152\n",
       "IL,                -0.000108\n",
       "Name: WnvPresent, Length: 208, dtype: float64"
      ]
     },
     "execution_count": 105,
     "metadata": {},
     "output_type": "execute_result"
    }
   ],
   "source": [
    "train_zip.corr()['WnvPresent']"
   ]
  },
  {
   "cell_type": "code",
   "execution_count": 80,
   "metadata": {},
   "outputs": [
    {
     "data": {
      "text/plain": [
       "new_rest        1.000000\n",
       "ResultSpeed     0.124120\n",
       "NumMosquitos    0.096244\n",
       "Spray?          0.080112\n",
       "T232            0.030201\n",
       "T083            0.027376\n",
       "Block           0.026312\n",
       "T218            0.026162\n",
       "60641,          0.026162\n",
       "T144            0.025311\n",
       "Name: new_rest, dtype: float64"
      ]
     },
     "execution_count": 80,
     "metadata": {},
     "output_type": "execute_result"
    }
   ],
   "source": [
    "train_zip.corr()['new_rest'].nlargest(10)"
   ]
  },
  {
   "cell_type": "markdown",
   "metadata": {},
   "source": [
    "60631, 60666 (O'Hare) small correlations."
   ]
  },
  {
   "cell_type": "code",
   "execution_count": 106,
   "metadata": {},
   "outputs": [],
   "source": [
    "# This set may be worth preserving for future use.\n",
    "\n",
    "train_zip.to_csv('Inputs/pre_pro_train_mdl1.csv')"
   ]
  },
  {
   "cell_type": "code",
   "execution_count": 37,
   "metadata": {},
   "outputs": [],
   "source": [
    "# train_zip = pd.read_csv('Inputs/pre_pro_train_mdl1.csv')"
   ]
  },
  {
   "cell_type": "markdown",
   "metadata": {},
   "source": [
    "## Correlate WestNile ZIP Codes by Year"
   ]
  },
  {
   "cell_type": "markdown",
   "metadata": {},
   "source": [
    "Since there is quite a bit of variability by year, it may be worthwhile to construct a list of ZIP codes that were relevant in _any_ year."
   ]
  },
  {
   "cell_type": "code",
   "execution_count": 197,
   "metadata": {},
   "outputs": [],
   "source": [
    "train_weath_2007 = train_weath_pre.loc[train_weath_pre['Date'] < '2009']"
   ]
  },
  {
   "cell_type": "code",
   "execution_count": 198,
   "metadata": {},
   "outputs": [],
   "source": [
    "train_weath_2009 = train_weath_pre.loc[train_weath_pre['Date'] > '2008']"
   ]
  },
  {
   "cell_type": "code",
   "execution_count": 207,
   "metadata": {},
   "outputs": [
    {
     "data": {
      "text/plain": [
       "IL,       61\n",
       "60617,    25\n",
       "60634,    20\n",
       "60631,    17\n",
       "60643,    16\n",
       "60609,    14\n",
       "60638,     9\n",
       "60656,     7\n",
       "Name: ZIP, dtype: int64"
      ]
     },
     "execution_count": 207,
     "metadata": {},
     "output_type": "execute_result"
    }
   ],
   "source": [
    "train_weath_2007_wnv = train_weath_2007.loc[train_weath_2007['WnvPresent'] == 1]\n",
    "\n",
    "train_weath_2007_wnv['ZIP'].value_counts().nlargest(8)"
   ]
  },
  {
   "cell_type": "markdown",
   "metadata": {},
   "source": [
    "#### 2007: 60617, 60634, 60631, 60643, 60609"
   ]
  },
  {
   "cell_type": "code",
   "execution_count": 213,
   "metadata": {},
   "outputs": [
    {
     "data": {
      "text/plain": [
       "236"
      ]
     },
     "execution_count": 213,
     "metadata": {},
     "output_type": "execute_result"
    }
   ],
   "source": [
    "train_weath_2007_wnv.shape[0]"
   ]
  },
  {
   "cell_type": "code",
   "execution_count": 208,
   "metadata": {},
   "outputs": [
    {
     "data": {
      "text/plain": [
       "60655,    3\n",
       "60106,    2\n",
       "60666,    2\n",
       "60634,    2\n",
       "60633,    1\n",
       "60622,    1\n",
       "60639,    1\n",
       "60652,    1\n",
       "Name: ZIP, dtype: int64"
      ]
     },
     "execution_count": 208,
     "metadata": {},
     "output_type": "execute_result"
    }
   ],
   "source": [
    "train_weath_2009_wnv = train_weath_2009.loc[train_weath_2009['WnvPresent'] == 1]\n",
    "\n",
    "train_weath_2009_wnv['ZIP'].value_counts().nlargest(8)"
   ]
  },
  {
   "cell_type": "markdown",
   "metadata": {},
   "source": [
    "#### 2009: 60655, 60106, 60666, 60634"
   ]
  },
  {
   "cell_type": "code",
   "execution_count": 212,
   "metadata": {},
   "outputs": [
    {
     "data": {
      "text/plain": [
       "19"
      ]
     },
     "execution_count": 212,
     "metadata": {},
     "output_type": "execute_result"
    }
   ],
   "source": [
    "train_weath_2009_wnv.shape[0]"
   ]
  },
  {
   "cell_type": "code",
   "execution_count": 210,
   "metadata": {},
   "outputs": [
    {
     "name": "stderr",
     "output_type": "stream",
     "text": [
      "/Users/gadamico/anaconda3/lib/python3.6/site-packages/ipykernel/__main__.py:5: SettingWithCopyWarning: \n",
      "A value is trying to be set on a copy of a slice from a DataFrame.\n",
      "Try using .loc[row_indexer,col_indexer] = value instead\n",
      "\n",
      "See the caveats in the documentation: http://pandas.pydata.org/pandas-docs/stable/indexing.html#indexing-view-versus-copy\n"
     ]
    },
    {
     "data": {
      "text/plain": [
       "60666,    18\n",
       "60106,     8\n",
       "60656,     5\n",
       "60630,     3\n",
       "60632,     2\n",
       "60646,     2\n",
       "60639,     2\n",
       "60652,     2\n",
       "Name: ZIP, dtype: int64"
      ]
     },
     "execution_count": 210,
     "metadata": {},
     "output_type": "execute_result"
    }
   ],
   "source": [
    "train_weath_2011_wnv = train_weath_2011.loc[train_weath_2011['WnvPresent'] == 1]\n",
    "\n",
    "add_list = [add.split(' ') for add in train_weath_2011_wnv['Address']]\n",
    "\n",
    "train_weath_2011_wnv['ZIP'] = [item[-2] for item in add_list]\n",
    "\n",
    "train_weath_2011_wnv['ZIP'].value_counts().nlargest(8)"
   ]
  },
  {
   "cell_type": "markdown",
   "metadata": {},
   "source": [
    "#### 2011: 60666, 60106"
   ]
  },
  {
   "cell_type": "code",
   "execution_count": 214,
   "metadata": {},
   "outputs": [
    {
     "data": {
      "text/plain": [
       "57"
      ]
     },
     "execution_count": 214,
     "metadata": {},
     "output_type": "execute_result"
    }
   ],
   "source": [
    "train_weath_2011_wnv.shape[0]"
   ]
  },
  {
   "cell_type": "code",
   "execution_count": 216,
   "metadata": {},
   "outputs": [
    {
     "name": "stderr",
     "output_type": "stream",
     "text": [
      "/Users/gadamico/anaconda3/lib/python3.6/site-packages/ipykernel/__main__.py:5: SettingWithCopyWarning: \n",
      "A value is trying to be set on a copy of a slice from a DataFrame.\n",
      "Try using .loc[row_indexer,col_indexer] = value instead\n",
      "\n",
      "See the caveats in the documentation: http://pandas.pydata.org/pandas-docs/stable/indexing.html#indexing-view-versus-copy\n"
     ]
    },
    {
     "data": {
      "text/plain": [
       "60666,    46\n",
       "IL,       16\n",
       "60651,    13\n",
       "60646,    13\n",
       "60639,    11\n",
       "60634,    11\n",
       "60638,    10\n",
       "60618,     9\n",
       "60652,     8\n",
       "60621,     7\n",
       "Name: ZIP, dtype: int64"
      ]
     },
     "execution_count": 216,
     "metadata": {},
     "output_type": "execute_result"
    }
   ],
   "source": [
    "train_weath_2013_wnv = train_weath_2013.loc[train_weath_2013['WnvPresent'] == 1]\n",
    "\n",
    "add_list = [add.split(' ') for add in train_weath_2013_wnv['Address']]\n",
    "\n",
    "train_weath_2013_wnv['ZIP'] = [item[-2] for item in add_list]\n",
    "\n",
    "train_weath_2013_wnv['ZIP'].value_counts().nlargest(10)"
   ]
  },
  {
   "cell_type": "markdown",
   "metadata": {},
   "source": [
    "#### 2013: 60666"
   ]
  },
  {
   "cell_type": "code",
   "execution_count": 215,
   "metadata": {},
   "outputs": [
    {
     "data": {
      "text/plain": [
       "239"
      ]
     },
     "execution_count": 215,
     "metadata": {},
     "output_type": "execute_result"
    }
   ],
   "source": [
    "train_weath_2013_wnv.shape[0]"
   ]
  },
  {
   "cell_type": "code",
   "execution_count": null,
   "metadata": {},
   "outputs": [],
   "source": []
  },
  {
   "cell_type": "markdown",
   "metadata": {},
   "source": [
    "## Logistic Regression"
   ]
  },
  {
   "cell_type": "code",
   "execution_count": 219,
   "metadata": {},
   "outputs": [],
   "source": [
    "from sklearn.linear_model import LogisticRegression\n",
    "\n",
    "logreg = LogisticRegression()"
   ]
  },
  {
   "cell_type": "code",
   "execution_count": 220,
   "metadata": {},
   "outputs": [
    {
     "data": {
      "text/plain": [
       "Index(['Date', 'Address', 'Block', 'Street', 'Trap', 'AddressNumberAndStreet',\n",
       "       'Latitude', 'Longitude', 'AddressAccuracy', 'NumMosquitos',\n",
       "       ...\n",
       "       '60654,', '60655,', '60656,', '60659,', '60660,', '60666,', '60707,',\n",
       "       '60803,', '60827,', 'IL,'],\n",
       "      dtype='object', length=227)"
      ]
     },
     "execution_count": 220,
     "metadata": {},
     "output_type": "execute_result"
    }
   ],
   "source": [
    "train_zip.columns"
   ]
  },
  {
   "cell_type": "code",
   "execution_count": 221,
   "metadata": {},
   "outputs": [],
   "source": [
    "# First model.\n",
    "columns = ['new_pip', 'new_rest', 'T115', 'T138', 'T900', 'Station',\n",
    "          'Tavg_int', 'WetBulb', 'DewPoint', '60631,', '60666,']"
   ]
  },
  {
   "cell_type": "code",
   "execution_count": 222,
   "metadata": {},
   "outputs": [],
   "source": [
    "X = train_zip[columns]"
   ]
  },
  {
   "cell_type": "code",
   "execution_count": 223,
   "metadata": {},
   "outputs": [
    {
     "data": {
      "text/plain": [
       "new_pip      0\n",
       "new_rest     0\n",
       "T115         0\n",
       "T138         0\n",
       "T900         0\n",
       "Station      0\n",
       "Tavg_int     0\n",
       "WetBulb     49\n",
       "DewPoint     0\n",
       "60631,       0\n",
       "60666,       0\n",
       "dtype: int64"
      ]
     },
     "execution_count": 223,
     "metadata": {},
     "output_type": "execute_result"
    }
   ],
   "source": [
    "X.isnull().sum()"
   ]
  },
  {
   "cell_type": "code",
   "execution_count": 224,
   "metadata": {},
   "outputs": [
    {
     "name": "stderr",
     "output_type": "stream",
     "text": [
      "/Users/gadamico/anaconda3/lib/python3.6/site-packages/pandas/core/generic.py:4355: SettingWithCopyWarning: \n",
      "A value is trying to be set on a copy of a slice from a DataFrame\n",
      "\n",
      "See the caveats in the documentation: http://pandas.pydata.org/pandas-docs/stable/indexing.html#indexing-view-versus-copy\n",
      "  self._update_inplace(new_data)\n"
     ]
    }
   ],
   "source": [
    "X['WetBulb'].fillna(0, inplace = True)"
   ]
  },
  {
   "cell_type": "code",
   "execution_count": 225,
   "metadata": {},
   "outputs": [],
   "source": [
    "from sklearn.model_selection import train_test_split\n",
    "from sklearn.preprocessing import StandardScaler\n",
    "\n",
    "X_train, X_test, y_train, y_test = train_test_split(X, y, random_state = 42)\n",
    "\n",
    "ss = StandardScaler()\n",
    "X_train = ss.fit_transform(X_train)\n",
    "X_test = ss.transform(X_test)"
   ]
  },
  {
   "cell_type": "code",
   "execution_count": 226,
   "metadata": {},
   "outputs": [],
   "source": [
    "model1 = logreg.fit(X_train, y_train)"
   ]
  },
  {
   "cell_type": "code",
   "execution_count": 227,
   "metadata": {},
   "outputs": [
    {
     "data": {
      "text/plain": [
       "0.9489912447658927"
      ]
     },
     "execution_count": 227,
     "metadata": {},
     "output_type": "execute_result"
    }
   ],
   "source": [
    "logreg.score(X_test, y_test)"
   ]
  },
  {
   "cell_type": "markdown",
   "metadata": {},
   "source": [
    "#### Preparing the Test Set"
   ]
  },
  {
   "cell_type": "code",
   "execution_count": 145,
   "metadata": {},
   "outputs": [],
   "source": [
    "test = pd.read_csv('Inputs/test.csv')"
   ]
  },
  {
   "cell_type": "code",
   "execution_count": 66,
   "metadata": {
    "scrolled": true
   },
   "outputs": [
    {
     "data": {
      "text/html": [
       "<div>\n",
       "<style scoped>\n",
       "    .dataframe tbody tr th:only-of-type {\n",
       "        vertical-align: middle;\n",
       "    }\n",
       "\n",
       "    .dataframe tbody tr th {\n",
       "        vertical-align: top;\n",
       "    }\n",
       "\n",
       "    .dataframe thead th {\n",
       "        text-align: right;\n",
       "    }\n",
       "</style>\n",
       "<table border=\"1\" class=\"dataframe\">\n",
       "  <thead>\n",
       "    <tr style=\"text-align: right;\">\n",
       "      <th></th>\n",
       "      <th>Id</th>\n",
       "      <th>Date</th>\n",
       "      <th>Address</th>\n",
       "      <th>Species</th>\n",
       "      <th>Block</th>\n",
       "      <th>Street</th>\n",
       "      <th>Trap</th>\n",
       "      <th>AddressNumberAndStreet</th>\n",
       "      <th>Latitude</th>\n",
       "      <th>Longitude</th>\n",
       "      <th>AddressAccuracy</th>\n",
       "    </tr>\n",
       "  </thead>\n",
       "  <tbody>\n",
       "    <tr>\n",
       "      <th>67000</th>\n",
       "      <td>67001</td>\n",
       "      <td>2010-10-01</td>\n",
       "      <td>4200 West 65th Street, Chicago, IL 60621, USA</td>\n",
       "      <td>CULEX RESTUANS</td>\n",
       "      <td>42</td>\n",
       "      <td>W 65TH ST</td>\n",
       "      <td>T235</td>\n",
       "      <td>4200  W 65TH ST, Chicago, IL</td>\n",
       "      <td>41.776428</td>\n",
       "      <td>-87.627096</td>\n",
       "      <td>8</td>\n",
       "    </tr>\n",
       "  </tbody>\n",
       "</table>\n",
       "</div>"
      ],
      "text/plain": [
       "          Id        Date                                        Address  \\\n",
       "67000  67001  2010-10-01  4200 West 65th Street, Chicago, IL 60621, USA   \n",
       "\n",
       "              Species  Block      Street  Trap        AddressNumberAndStreet  \\\n",
       "67000  CULEX RESTUANS     42   W 65TH ST  T235  4200  W 65TH ST, Chicago, IL   \n",
       "\n",
       "        Latitude  Longitude  AddressAccuracy  \n",
       "67000  41.776428 -87.627096                8  "
      ]
     },
     "execution_count": 66,
     "metadata": {},
     "output_type": "execute_result"
    }
   ],
   "source": [
    "test.iloc[test.index == 67000]"
   ]
  },
  {
   "cell_type": "code",
   "execution_count": 228,
   "metadata": {},
   "outputs": [],
   "source": [
    "# Dummies for species, traps; merging weather\n",
    "spec_dums_t = pd.get_dummies(test['Species'])\n",
    "\n",
    "test_with_dums = pd.concat([test, spec_dums_t], axis = 1)\n",
    "\n",
    "test_with_dums['new_pip'] = test_with_dums['CULEX PIPIENS'] + test_with_dums['CULEX PIPIENS/RESTUANS']\n",
    "\n",
    "test_with_dums['new_rest'] = test_with_dums['CULEX RESTUANS'] + test_with_dums['CULEX PIPIENS/RESTUANS']\n",
    "\n",
    "test_dums_t = pd.get_dummies(test_with_dums['Trap'])\n",
    "\n",
    "test_traps = pd.concat([test_with_dums, test_dums_t], axis = 1)\n",
    "\n",
    "test_traps['Date'] = pd.to_datetime(test_traps['Date'])\n",
    "\n",
    "test_traps['Station'] = np.where((test_traps['Latitude'] - ord_lat) ** 2 + (np.cos(np.pi / 180 * test_traps['Latitude']) * (test_traps['Longitude'] - ord_long)) ** 2 < (test_traps['Latitude'] - mdw_lat) ** 2 + (np.cos(np.pi / 180 * test_traps['Latitude']) * (test_traps['Longitude'] - ord_long)) ** 2, 1, 2)\n",
    "\n",
    "test_weath = pd.merge(test_traps, weather, how = 'left', on = ['Date', 'Station'])\n",
    "\n",
    "test_weath['Tavg_int'] = test_weath['Tavg'].map(lambda x: int(x), na_action = 'ignore')\n",
    "\n",
    "test_weath['WetBulb'].replace('M', np.nan, inplace = True)\n",
    "\n",
    "test_weath['WetBulb'] = test_weath['WetBulb'].map(lambda x: int(x), na_action = 'ignore')\n",
    "\n",
    "test_weath['Spray?'] = 0"
   ]
  },
  {
   "cell_type": "code",
   "execution_count": 125,
   "metadata": {},
   "outputs": [
    {
     "data": {
      "text/html": [
       "<div>\n",
       "<style scoped>\n",
       "    .dataframe tbody tr th:only-of-type {\n",
       "        vertical-align: middle;\n",
       "    }\n",
       "\n",
       "    .dataframe tbody tr th {\n",
       "        vertical-align: top;\n",
       "    }\n",
       "\n",
       "    .dataframe thead th {\n",
       "        text-align: right;\n",
       "    }\n",
       "</style>\n",
       "<table border=\"1\" class=\"dataframe\">\n",
       "  <thead>\n",
       "    <tr style=\"text-align: right;\">\n",
       "      <th></th>\n",
       "      <th>Date</th>\n",
       "      <th>Time</th>\n",
       "      <th>Latitude</th>\n",
       "      <th>Longitude</th>\n",
       "    </tr>\n",
       "  </thead>\n",
       "  <tbody>\n",
       "    <tr>\n",
       "      <th>0</th>\n",
       "      <td>2011-08-29</td>\n",
       "      <td>6:56:58 PM</td>\n",
       "      <td>42.391623</td>\n",
       "      <td>-88.089163</td>\n",
       "    </tr>\n",
       "  </tbody>\n",
       "</table>\n",
       "</div>"
      ],
      "text/plain": [
       "         Date        Time   Latitude  Longitude\n",
       "0  2011-08-29  6:56:58 PM  42.391623 -88.089163"
      ]
     },
     "execution_count": 125,
     "metadata": {},
     "output_type": "execute_result"
    }
   ],
   "source": [
    "spray_2011.head(1)"
   ]
  },
  {
   "cell_type": "code",
   "execution_count": 126,
   "metadata": {},
   "outputs": [
    {
     "data": {
      "text/html": [
       "<div>\n",
       "<style scoped>\n",
       "    .dataframe tbody tr th:only-of-type {\n",
       "        vertical-align: middle;\n",
       "    }\n",
       "\n",
       "    .dataframe tbody tr th {\n",
       "        vertical-align: top;\n",
       "    }\n",
       "\n",
       "    .dataframe thead th {\n",
       "        text-align: right;\n",
       "    }\n",
       "</style>\n",
       "<table border=\"1\" class=\"dataframe\">\n",
       "  <thead>\n",
       "    <tr style=\"text-align: right;\">\n",
       "      <th></th>\n",
       "      <th>Date</th>\n",
       "      <th>Time</th>\n",
       "      <th>Latitude</th>\n",
       "      <th>Longitude</th>\n",
       "    </tr>\n",
       "  </thead>\n",
       "  <tbody>\n",
       "    <tr>\n",
       "      <th>2209</th>\n",
       "      <td>2013-07-17</td>\n",
       "      <td>7:45:45 PM</td>\n",
       "      <td>41.997728</td>\n",
       "      <td>-87.767532</td>\n",
       "    </tr>\n",
       "  </tbody>\n",
       "</table>\n",
       "</div>"
      ],
      "text/plain": [
       "            Date        Time   Latitude  Longitude\n",
       "2209  2013-07-17  7:45:45 PM  41.997728 -87.767532"
      ]
     },
     "execution_count": 126,
     "metadata": {},
     "output_type": "execute_result"
    }
   ],
   "source": [
    "spray_2013.head(1)"
   ]
  },
  {
   "cell_type": "markdown",
   "metadata": {},
   "source": [
    "This is where my first effort to encode spray data into my models really fell apart."
   ]
  },
  {
   "cell_type": "code",
   "execution_count": 45,
   "metadata": {},
   "outputs": [],
   "source": [
    "# test_weath_2008 = test_weath.loc[(test_weath['Date'] < '2009')]"
   ]
  },
  {
   "cell_type": "code",
   "execution_count": 46,
   "metadata": {},
   "outputs": [
    {
     "data": {
      "text/html": [
       "<div>\n",
       "<style scoped>\n",
       "    .dataframe tbody tr th:only-of-type {\n",
       "        vertical-align: middle;\n",
       "    }\n",
       "\n",
       "    .dataframe tbody tr th {\n",
       "        vertical-align: top;\n",
       "    }\n",
       "\n",
       "    .dataframe thead th {\n",
       "        text-align: right;\n",
       "    }\n",
       "</style>\n",
       "<table border=\"1\" class=\"dataframe\">\n",
       "  <thead>\n",
       "    <tr style=\"text-align: right;\">\n",
       "      <th></th>\n",
       "      <th>Id</th>\n",
       "      <th>Date</th>\n",
       "      <th>Address</th>\n",
       "      <th>Species</th>\n",
       "      <th>Block</th>\n",
       "      <th>Street</th>\n",
       "      <th>Trap</th>\n",
       "      <th>AddressNumberAndStreet</th>\n",
       "      <th>Latitude</th>\n",
       "      <th>Longitude</th>\n",
       "      <th>...</th>\n",
       "      <th>Water1</th>\n",
       "      <th>SnowFall</th>\n",
       "      <th>PrecipTotal</th>\n",
       "      <th>StnPressure</th>\n",
       "      <th>SeaLevel</th>\n",
       "      <th>ResultSpeed</th>\n",
       "      <th>ResultDir</th>\n",
       "      <th>AvgSpeed</th>\n",
       "      <th>Tavg_int</th>\n",
       "      <th>Spray?</th>\n",
       "    </tr>\n",
       "  </thead>\n",
       "  <tbody>\n",
       "    <tr>\n",
       "      <th>30498</th>\n",
       "      <td>30499</td>\n",
       "      <td>2010-06-02</td>\n",
       "      <td>4100 North Oak Park Avenue, Chicago, IL 60634,...</td>\n",
       "      <td>CULEX PIPIENS/RESTUANS</td>\n",
       "      <td>41</td>\n",
       "      <td>N OAK PARK AVE</td>\n",
       "      <td>T002</td>\n",
       "      <td>4100  N OAK PARK AVE, Chicago, IL</td>\n",
       "      <td>41.95469</td>\n",
       "      <td>-87.800991</td>\n",
       "      <td>...</td>\n",
       "      <td>M</td>\n",
       "      <td>0.0</td>\n",
       "      <td>1.02</td>\n",
       "      <td>29.00</td>\n",
       "      <td>29.71</td>\n",
       "      <td>3.6</td>\n",
       "      <td>34</td>\n",
       "      <td>8.7</td>\n",
       "      <td>67</td>\n",
       "      <td>0</td>\n",
       "    </tr>\n",
       "  </tbody>\n",
       "</table>\n",
       "<p>1 rows × 193 columns</p>\n",
       "</div>"
      ],
      "text/plain": [
       "          Id       Date                                            Address  \\\n",
       "30498  30499 2010-06-02  4100 North Oak Park Avenue, Chicago, IL 60634,...   \n",
       "\n",
       "                      Species  Block           Street  Trap  \\\n",
       "30498  CULEX PIPIENS/RESTUANS     41   N OAK PARK AVE  T002   \n",
       "\n",
       "                  AddressNumberAndStreet  Latitude  Longitude   ...    Water1  \\\n",
       "30498  4100  N OAK PARK AVE, Chicago, IL  41.95469 -87.800991   ...         M   \n",
       "\n",
       "       SnowFall  PrecipTotal  StnPressure  SeaLevel  ResultSpeed  ResultDir  \\\n",
       "30498       0.0         1.02        29.00     29.71          3.6         34   \n",
       "\n",
       "       AvgSpeed  Tavg_int  Spray?  \n",
       "30498       8.7        67       0  \n",
       "\n",
       "[1 rows x 193 columns]"
      ]
     },
     "execution_count": 46,
     "metadata": {},
     "output_type": "execute_result"
    }
   ],
   "source": [
    "# test_weath_2010 = test_weath.loc[(test_weath['Date'] < '2011') & (test_weath['Date'] > '2009')]\n",
    "# test_weath_2010.head(1)"
   ]
  },
  {
   "cell_type": "code",
   "execution_count": 47,
   "metadata": {},
   "outputs": [
    {
     "data": {
      "text/html": [
       "<div>\n",
       "<style scoped>\n",
       "    .dataframe tbody tr th:only-of-type {\n",
       "        vertical-align: middle;\n",
       "    }\n",
       "\n",
       "    .dataframe tbody tr th {\n",
       "        vertical-align: top;\n",
       "    }\n",
       "\n",
       "    .dataframe thead th {\n",
       "        text-align: right;\n",
       "    }\n",
       "</style>\n",
       "<table border=\"1\" class=\"dataframe\">\n",
       "  <thead>\n",
       "    <tr style=\"text-align: right;\">\n",
       "      <th></th>\n",
       "      <th>Id</th>\n",
       "      <th>Date</th>\n",
       "      <th>Address</th>\n",
       "      <th>Species</th>\n",
       "      <th>Block</th>\n",
       "      <th>Street</th>\n",
       "      <th>Trap</th>\n",
       "      <th>AddressNumberAndStreet</th>\n",
       "      <th>Latitude</th>\n",
       "      <th>Longitude</th>\n",
       "      <th>...</th>\n",
       "      <th>Water1</th>\n",
       "      <th>SnowFall</th>\n",
       "      <th>PrecipTotal</th>\n",
       "      <th>StnPressure</th>\n",
       "      <th>SeaLevel</th>\n",
       "      <th>ResultSpeed</th>\n",
       "      <th>ResultDir</th>\n",
       "      <th>AvgSpeed</th>\n",
       "      <th>Tavg_int</th>\n",
       "      <th>Spray?</th>\n",
       "    </tr>\n",
       "  </thead>\n",
       "  <tbody>\n",
       "    <tr>\n",
       "      <th>67055</th>\n",
       "      <td>67056</td>\n",
       "      <td>2012-06-08</td>\n",
       "      <td>4100 North Oak Park Avenue, Chicago, IL 60634,...</td>\n",
       "      <td>CULEX PIPIENS/RESTUANS</td>\n",
       "      <td>41</td>\n",
       "      <td>N OAK PARK AVE</td>\n",
       "      <td>T002</td>\n",
       "      <td>4100  N OAK PARK AVE, Chicago, IL</td>\n",
       "      <td>41.95469</td>\n",
       "      <td>-87.800991</td>\n",
       "      <td>...</td>\n",
       "      <td>M</td>\n",
       "      <td>0.0</td>\n",
       "      <td>0.00</td>\n",
       "      <td>29.26</td>\n",
       "      <td>29.99</td>\n",
       "      <td>7.2</td>\n",
       "      <td>25</td>\n",
       "      <td>7.7</td>\n",
       "      <td>71</td>\n",
       "      <td>0</td>\n",
       "    </tr>\n",
       "  </tbody>\n",
       "</table>\n",
       "<p>1 rows × 193 columns</p>\n",
       "</div>"
      ],
      "text/plain": [
       "          Id       Date                                            Address  \\\n",
       "67055  67056 2012-06-08  4100 North Oak Park Avenue, Chicago, IL 60634,...   \n",
       "\n",
       "                      Species  Block           Street  Trap  \\\n",
       "67055  CULEX PIPIENS/RESTUANS     41   N OAK PARK AVE  T002   \n",
       "\n",
       "                  AddressNumberAndStreet  Latitude  Longitude   ...    Water1  \\\n",
       "67055  4100  N OAK PARK AVE, Chicago, IL  41.95469 -87.800991   ...         M   \n",
       "\n",
       "       SnowFall  PrecipTotal  StnPressure  SeaLevel  ResultSpeed  ResultDir  \\\n",
       "67055       0.0         0.00        29.26     29.99          7.2         25   \n",
       "\n",
       "       AvgSpeed  Tavg_int  Spray?  \n",
       "67055       7.7        71       0  \n",
       "\n",
       "[1 rows x 193 columns]"
      ]
     },
     "execution_count": 47,
     "metadata": {},
     "output_type": "execute_result"
    }
   ],
   "source": [
    "# test_weath_2012 = test_weath.loc[(test_weath['Date'] < '2013') & (test_weath['Date'] > '2011')]\n",
    "# test_weath_2012.head(1)"
   ]
  },
  {
   "cell_type": "code",
   "execution_count": 48,
   "metadata": {},
   "outputs": [],
   "source": [
    "# test_weath_2014 = test_weath.loc[test_weath['Date'] > '2013']"
   ]
  },
  {
   "cell_type": "code",
   "execution_count": 4,
   "metadata": {},
   "outputs": [],
   "source": [
    "# for i in range(spray_2011.shape[0]):\n",
    "  #  for j in range(30498, 30498 + int(test_weath_2010.shape[0] / 4)):\n",
    "   #     if (round(test_weath_2010['Latitude'][j], 2) == round(spray_2011['Latitude'][i], 2)) and (round(test_weath_2010['Longitude'][j], 2) == round(spray_2011['Longitude'][i], 2)) and (test_weath_2010['Date'][j] < pd.to_datetime(spray_2011['Date'][i])):\n",
    "    #        test_weath_2010['Spray?'][j] = 1"
   ]
  },
  {
   "cell_type": "code",
   "execution_count": 5,
   "metadata": {
    "scrolled": true
   },
   "outputs": [],
   "source": [
    "# for i in range(67000, 67000 + int(spray_2013.shape[0] / 4)):\n",
    "  #  for j in range(spray.shape[0]):\n",
    "   #     if (round(test_weath['Latitude'][i], 2) == round(spray['Latitude'][j], 2)) and (round(test_weath['Longitude'][i], 2) == round(spray['Longitude'][j], 2)) and (test_weath['Date'][i] > pd.to_datetime(spray['Date'][j])):\n",
    "    #        test_weath['Spray?'][i] = 1"
   ]
  },
  {
   "cell_type": "code",
   "execution_count": 229,
   "metadata": {},
   "outputs": [],
   "source": [
    "add_list = [add.split(' ') for add in test_weath['Address']]\n",
    "\n",
    "test_weath['ZIP'] = [item[-2] for item in add_list]\n",
    "\n",
    "zip_dums = pd.get_dummies(test_weath['ZIP'])\n",
    "\n",
    "test_zip = pd.concat([test_weath, zip_dums], axis = 1)"
   ]
  },
  {
   "cell_type": "code",
   "execution_count": 230,
   "metadata": {},
   "outputs": [],
   "source": [
    "columns = ['Id', 'new_pip', 'new_rest', 'T115', 'T138', 'T900', 'Station',\n",
    "          'Tavg_int', 'WetBulb', 'DewPoint', '60631,', '60666,']"
   ]
  },
  {
   "cell_type": "code",
   "execution_count": 231,
   "metadata": {},
   "outputs": [],
   "source": [
    "test_preds = test_zip[columns]\n",
    "\n",
    "cols = [col for col in columns if col != 'Id']\n",
    "\n",
    "test_scaled = ss.transform(test_zip[cols])\n",
    "\n",
    "test_predict = logreg.predict(test_scaled)\n",
    "\n",
    "test_predict_df = pd.DataFrame(test_predict, columns = ['WnvPresent'])\n",
    "\n",
    "test_sub = pd.concat([test_zip, test_predict_df], axis = 1)\n",
    "\n",
    "test_cols = [col for col in test_sub.columns if (col == 'Id') | (col == 'WnvPresent')]"
   ]
  },
  {
   "cell_type": "code",
   "execution_count": 190,
   "metadata": {},
   "outputs": [],
   "source": [
    "test_submission = test_sub[test_cols]\n",
    "\n",
    "test_submission.to_csv('Outputs/ta-1.csv', index = False)"
   ]
  },
  {
   "cell_type": "code",
   "execution_count": 194,
   "metadata": {},
   "outputs": [
    {
     "data": {
      "text/html": [
       "<div>\n",
       "<style scoped>\n",
       "    .dataframe tbody tr th:only-of-type {\n",
       "        vertical-align: middle;\n",
       "    }\n",
       "\n",
       "    .dataframe tbody tr th {\n",
       "        vertical-align: top;\n",
       "    }\n",
       "\n",
       "    .dataframe thead th {\n",
       "        text-align: right;\n",
       "    }\n",
       "</style>\n",
       "<table border=\"1\" class=\"dataframe\">\n",
       "  <thead>\n",
       "    <tr style=\"text-align: right;\">\n",
       "      <th></th>\n",
       "      <th>Id</th>\n",
       "      <th>WnvPresent</th>\n",
       "    </tr>\n",
       "  </thead>\n",
       "  <tbody>\n",
       "    <tr>\n",
       "      <th>0</th>\n",
       "      <td>1</td>\n",
       "      <td>0</td>\n",
       "    </tr>\n",
       "    <tr>\n",
       "      <th>1</th>\n",
       "      <td>2</td>\n",
       "      <td>0</td>\n",
       "    </tr>\n",
       "    <tr>\n",
       "      <th>2</th>\n",
       "      <td>3</td>\n",
       "      <td>0</td>\n",
       "    </tr>\n",
       "    <tr>\n",
       "      <th>3</th>\n",
       "      <td>4</td>\n",
       "      <td>0</td>\n",
       "    </tr>\n",
       "    <tr>\n",
       "      <th>4</th>\n",
       "      <td>5</td>\n",
       "      <td>0</td>\n",
       "    </tr>\n",
       "  </tbody>\n",
       "</table>\n",
       "</div>"
      ],
      "text/plain": [
       "   Id  WnvPresent\n",
       "0   1           0\n",
       "1   2           0\n",
       "2   3           0\n",
       "3   4           0\n",
       "4   5           0"
      ]
     },
     "execution_count": 194,
     "metadata": {},
     "output_type": "execute_result"
    }
   ],
   "source": [
    "test_submission.head()"
   ]
  },
  {
   "cell_type": "markdown",
   "metadata": {},
   "source": [
    "This model predicted all 0's. Around this point Chris had the excellent idea of upsampling."
   ]
  },
  {
   "cell_type": "markdown",
   "metadata": {},
   "source": [
    "## Logistic Regression #2"
   ]
  },
  {
   "cell_type": "code",
   "execution_count": 232,
   "metadata": {},
   "outputs": [],
   "source": [
    "# Adding in more ZIP codes\n",
    "columns = ['new_pip', 'new_rest', 'T115', 'T138', 'T900', 'T220',\n",
    "           'WetBulb', 'DewPoint', '60106,', '60609,', '60617,', '60631,', '60634,',\n",
    "           '60643,', '60655,', '60656,', '60666,']"
   ]
  },
  {
   "cell_type": "code",
   "execution_count": 233,
   "metadata": {},
   "outputs": [],
   "source": [
    "X = train_zip[columns]"
   ]
  },
  {
   "cell_type": "code",
   "execution_count": 234,
   "metadata": {},
   "outputs": [
    {
     "data": {
      "text/plain": [
       "new_pip      0\n",
       "new_rest     0\n",
       "T115         0\n",
       "T138         0\n",
       "T900         0\n",
       "T220         0\n",
       "WetBulb     49\n",
       "DewPoint     0\n",
       "60106,       0\n",
       "60609,       0\n",
       "60617,       0\n",
       "60631,       0\n",
       "60634,       0\n",
       "60643,       0\n",
       "60655,       0\n",
       "60656,       0\n",
       "60666,       0\n",
       "dtype: int64"
      ]
     },
     "execution_count": 234,
     "metadata": {},
     "output_type": "execute_result"
    }
   ],
   "source": [
    "X.isnull().sum()"
   ]
  },
  {
   "cell_type": "code",
   "execution_count": 235,
   "metadata": {},
   "outputs": [
    {
     "name": "stderr",
     "output_type": "stream",
     "text": [
      "/Users/gadamico/anaconda3/lib/python3.6/site-packages/pandas/core/generic.py:4355: SettingWithCopyWarning: \n",
      "A value is trying to be set on a copy of a slice from a DataFrame\n",
      "\n",
      "See the caveats in the documentation: http://pandas.pydata.org/pandas-docs/stable/indexing.html#indexing-view-versus-copy\n",
      "  self._update_inplace(new_data)\n"
     ]
    }
   ],
   "source": [
    "X['WetBulb'].fillna(0, inplace = True)"
   ]
  },
  {
   "cell_type": "markdown",
   "metadata": {},
   "source": [
    "### Upsampling the Minority Class (West Nile present)"
   ]
  },
  {
   "cell_type": "code",
   "execution_count": 236,
   "metadata": {},
   "outputs": [],
   "source": [
    "from sklearn.utils import resample"
   ]
  },
  {
   "cell_type": "code",
   "execution_count": 237,
   "metadata": {},
   "outputs": [],
   "source": [
    "train_zip_maj = train_zip[train_zip['WnvPresent'] == 0]\n",
    "train_zip_min = train_zip[train_zip['WnvPresent'] == 1]\n",
    "\n",
    "min_upsampled = resample(train_zip_min, replace = True, n_samples = 9955, random_state = 42)"
   ]
  },
  {
   "cell_type": "code",
   "execution_count": 238,
   "metadata": {},
   "outputs": [],
   "source": [
    "X_new = pd.concat([train_zip_maj, min_upsampled])\n",
    "y_new = X_new['WnvPresent']"
   ]
  },
  {
   "cell_type": "code",
   "execution_count": 57,
   "metadata": {},
   "outputs": [],
   "source": [
    "# This df is worth preserving.\n",
    "X_new.to_csv('Inputs/balancedTrain.csv')"
   ]
  },
  {
   "cell_type": "code",
   "execution_count": 239,
   "metadata": {},
   "outputs": [],
   "source": [
    "X_new = X_new[columns]\n",
    "X_new['WetBulb'].fillna(0, inplace = True)"
   ]
  },
  {
   "cell_type": "code",
   "execution_count": 240,
   "metadata": {},
   "outputs": [],
   "source": [
    "X_train, X_test, y_train, y_test = train_test_split(X_new, y_new, stratify = y_new,\n",
    "                                                    random_state = 42)\n",
    "\n",
    "ss = StandardScaler()\n",
    "X_train = ss.fit_transform(X_train)\n",
    "X_test = ss.transform(X_test)"
   ]
  },
  {
   "cell_type": "code",
   "execution_count": 241,
   "metadata": {},
   "outputs": [],
   "source": [
    "logreg2 = LogisticRegression()"
   ]
  },
  {
   "cell_type": "code",
   "execution_count": 242,
   "metadata": {},
   "outputs": [],
   "source": [
    "model2 = logreg2.fit(X_train, y_train)"
   ]
  },
  {
   "cell_type": "code",
   "execution_count": 243,
   "metadata": {},
   "outputs": [
    {
     "data": {
      "text/plain": [
       "0.655082362394536"
      ]
     },
     "execution_count": 243,
     "metadata": {},
     "output_type": "execute_result"
    }
   ],
   "source": [
    "logreg2.score(X_test, y_test)"
   ]
  },
  {
   "cell_type": "code",
   "execution_count": 244,
   "metadata": {},
   "outputs": [],
   "source": [
    "test_columns = ['Id', 'new_pip', 'new_rest', 'T115', 'T138', 'T900', 'T220',\n",
    "           'WetBulb', 'DewPoint', '60106,', '60609,', '60617,', '60631,', '60634,',\n",
    "           '60643,', '60655,', '60656,', '60666,']"
   ]
  },
  {
   "cell_type": "code",
   "execution_count": 245,
   "metadata": {},
   "outputs": [],
   "source": [
    "test_preds = test_zip[test_columns]\n",
    "\n",
    "cols = [col for col in test_columns if col != 'Id']\n",
    "\n",
    "test_scaled = ss.transform(test_zip[cols])"
   ]
  },
  {
   "cell_type": "code",
   "execution_count": 246,
   "metadata": {},
   "outputs": [],
   "source": [
    "test_predict = logreg2.predict(test_scaled)\n",
    "\n",
    "test_predict_df = pd.DataFrame(test_predict, columns = ['WnvPresent'])\n",
    "\n",
    "test_sub = pd.concat([test_zip, test_predict_df], axis = 1)\n",
    "\n",
    "test_cols = [col for col in test_sub.columns if (col == 'Id') | (col == 'WnvPresent')]"
   ]
  },
  {
   "cell_type": "code",
   "execution_count": 271,
   "metadata": {},
   "outputs": [],
   "source": [
    "test_submission = test_sub[test_cols]\n",
    "\n",
    "test_submission.to_csv('Outputs/ta-2.csv', index = False)"
   ]
  },
  {
   "cell_type": "markdown",
   "metadata": {},
   "source": [
    "Let's try a tree-based model."
   ]
  },
  {
   "cell_type": "markdown",
   "metadata": {},
   "source": [
    "## Random Forest"
   ]
  },
  {
   "cell_type": "code",
   "execution_count": 248,
   "metadata": {},
   "outputs": [],
   "source": [
    "X_new = pd.concat([train_zip_maj, min_upsampled])\n",
    "X_new['WetBulb'].fillna(0, inplace = True)\n",
    "y_new = X_new['WnvPresent']\n",
    "X_new.drop(['WnvPresent', 'NumMosquitos', 'Spray?', 'IL,'], inplace = True, axis = 1)"
   ]
  },
  {
   "cell_type": "code",
   "execution_count": 249,
   "metadata": {},
   "outputs": [],
   "source": [
    "from sklearn.ensemble import RandomForestClassifier"
   ]
  },
  {
   "cell_type": "code",
   "execution_count": 250,
   "metadata": {},
   "outputs": [],
   "source": [
    "X_new.drop('Date', axis = 1, inplace = True)\n",
    "nums = [col for col in X_new.columns if X_new[col].dtype != object]"
   ]
  },
  {
   "cell_type": "code",
   "execution_count": 251,
   "metadata": {},
   "outputs": [],
   "source": [
    "X_train, X_test, y_train, y_test = train_test_split(X_new[nums], y_new, stratify = y_new,\n",
    "                                                   random_state = 42)\n",
    "\n",
    "rfc = RandomForestClassifier()\n",
    "model3 = rfc.fit(X_train, y_train)"
   ]
  },
  {
   "cell_type": "code",
   "execution_count": 252,
   "metadata": {},
   "outputs": [
    {
     "data": {
      "text/plain": [
       "204"
      ]
     },
     "execution_count": 252,
     "metadata": {},
     "output_type": "execute_result"
    }
   ],
   "source": [
    "X_train.shape[1]"
   ]
  },
  {
   "cell_type": "code",
   "execution_count": 253,
   "metadata": {},
   "outputs": [
    {
     "data": {
      "text/plain": [
       "0.9552028927280032"
      ]
     },
     "execution_count": 253,
     "metadata": {},
     "output_type": "execute_result"
    }
   ],
   "source": [
    "model3.score(X_test, y_test)"
   ]
  },
  {
   "cell_type": "code",
   "execution_count": 254,
   "metadata": {},
   "outputs": [
    {
     "data": {
      "text/plain": [
       "Index(['Id', 'Date', 'Address', 'Species', 'Block', 'Street', 'Trap',\n",
       "       'AddressNumberAndStreet', 'Latitude', 'Longitude',\n",
       "       ...\n",
       "       '60654,', '60655,', '60656,', '60659,', '60660,', '60666,', '60707,',\n",
       "       '60803,', '60827,', 'IL,'],\n",
       "      dtype='object', length=245)"
      ]
     },
     "execution_count": 254,
     "metadata": {},
     "output_type": "execute_result"
    }
   ],
   "source": [
    "test_zip.columns"
   ]
  },
  {
   "cell_type": "code",
   "execution_count": 255,
   "metadata": {},
   "outputs": [],
   "source": [
    "test_zip.drop(['Date', 'IL,'], axis = 1, inplace = True)\n",
    "nums = [col for col in test_zip.columns if test_zip[col].dtype != object]"
   ]
  },
  {
   "cell_type": "code",
   "execution_count": 467,
   "metadata": {},
   "outputs": [
    {
     "data": {
      "text/plain": [
       "(116293, 243)"
      ]
     },
     "execution_count": 467,
     "metadata": {},
     "output_type": "execute_result"
    }
   ],
   "source": [
    "test_zip.shape"
   ]
  },
  {
   "cell_type": "code",
   "execution_count": 468,
   "metadata": {},
   "outputs": [
    {
     "data": {
      "text/plain": [
       "Index(['Id', 'Block', 'Latitude', 'Longitude', 'AddressAccuracy',\n",
       "       'CULEX ERRATICUS', 'CULEX PIPIENS', 'CULEX PIPIENS/RESTUANS',\n",
       "       'CULEX RESTUANS', 'CULEX SALINARIUS',\n",
       "       ...\n",
       "       '60652,', '60654,', '60655,', '60656,', '60659,', '60660,', '60666,',\n",
       "       '60707,', '60803,', '60827,'],\n",
       "      dtype='object', length=223)"
      ]
     },
     "execution_count": 468,
     "metadata": {},
     "output_type": "execute_result"
    }
   ],
   "source": [
    "test_zip[nums].columns"
   ]
  },
  {
   "cell_type": "code",
   "execution_count": 256,
   "metadata": {},
   "outputs": [],
   "source": [
    "test_zip_n = test_zip[nums]"
   ]
  },
  {
   "cell_type": "code",
   "execution_count": 257,
   "metadata": {},
   "outputs": [
    {
     "data": {
      "text/plain": [
       "223"
      ]
     },
     "execution_count": 257,
     "metadata": {},
     "output_type": "execute_result"
    }
   ],
   "source": [
    "test_zip_n.shape[1]"
   ]
  },
  {
   "cell_type": "code",
   "execution_count": 258,
   "metadata": {},
   "outputs": [
    {
     "name": "stderr",
     "output_type": "stream",
     "text": [
      "/Users/gadamico/anaconda3/lib/python3.6/site-packages/ipykernel/__main__.py:1: SettingWithCopyWarning: \n",
      "A value is trying to be set on a copy of a slice from a DataFrame\n",
      "\n",
      "See the caveats in the documentation: http://pandas.pydata.org/pandas-docs/stable/indexing.html#indexing-view-versus-copy\n",
      "  if __name__ == '__main__':\n"
     ]
    }
   ],
   "source": [
    "test_zip_n.drop([col for col in test_zip_n.columns if (col not in X_train.columns) & (col != 'Id')], axis = 1, inplace = True)"
   ]
  },
  {
   "cell_type": "code",
   "execution_count": 259,
   "metadata": {},
   "outputs": [
    {
     "data": {
      "text/plain": [
       "(116293, 205)"
      ]
     },
     "execution_count": 259,
     "metadata": {},
     "output_type": "execute_result"
    }
   ],
   "source": [
    "test_zip_n.shape"
   ]
  },
  {
   "cell_type": "code",
   "execution_count": 260,
   "metadata": {},
   "outputs": [],
   "source": [
    "cols = [col for col in test_zip_n.columns if col != 'Id']"
   ]
  },
  {
   "cell_type": "code",
   "execution_count": 261,
   "metadata": {},
   "outputs": [],
   "source": [
    "test_zip_no = test_zip_n[cols]"
   ]
  },
  {
   "cell_type": "code",
   "execution_count": 475,
   "metadata": {},
   "outputs": [
    {
     "data": {
      "text/plain": [
       "Index(['AddressAccuracy', 'Block', 'CULEX ERRATICUS', 'CULEX SALINARIUS',\n",
       "       'CULEX TARSALIS', 'CULEX TERRITANS', 'DewPoint', 'Latitude',\n",
       "       'Longitude', 'ResultDir', 'ResultSpeed', 'Station', 'T001', 'T002',\n",
       "       'T003', 'T004', 'T005', 'T006', 'T007', 'T008'],\n",
       "      dtype='object')"
      ]
     },
     "execution_count": 475,
     "metadata": {},
     "output_type": "execute_result"
    }
   ],
   "source": [
    "X_train.columns[:20]"
   ]
  },
  {
   "cell_type": "code",
   "execution_count": 262,
   "metadata": {},
   "outputs": [],
   "source": [
    "feats = X_train.columns"
   ]
  },
  {
   "cell_type": "code",
   "execution_count": 476,
   "metadata": {},
   "outputs": [
    {
     "data": {
      "text/plain": [
       "Index(['Block', 'Latitude', 'Longitude', 'AddressAccuracy', 'CULEX ERRATICUS',\n",
       "       'CULEX SALINARIUS', 'CULEX TARSALIS', 'CULEX TERRITANS', 'new_pip',\n",
       "       'new_rest', 'T001', 'T002', 'T003', 'T004', 'T005', 'T006', 'T007',\n",
       "       'T008', 'T009', 'T011'],\n",
       "      dtype='object')"
      ]
     },
     "execution_count": 476,
     "metadata": {},
     "output_type": "execute_result"
    }
   ],
   "source": [
    "test_zip_n[cols].columns[:20]"
   ]
  },
  {
   "cell_type": "code",
   "execution_count": 263,
   "metadata": {},
   "outputs": [],
   "source": [
    "test_zip_no = test_zip_no[feats]"
   ]
  },
  {
   "cell_type": "code",
   "execution_count": 264,
   "metadata": {},
   "outputs": [],
   "source": [
    "test_predict = rfc.predict(test_zip_no)"
   ]
  },
  {
   "cell_type": "code",
   "execution_count": 265,
   "metadata": {},
   "outputs": [],
   "source": [
    "test_predict_df = pd.DataFrame(test_predict, columns = ['WnvPresent'])"
   ]
  },
  {
   "cell_type": "code",
   "execution_count": 266,
   "metadata": {},
   "outputs": [
    {
     "data": {
      "text/plain": [
       "0    115928\n",
       "1       365\n",
       "Name: WnvPresent, dtype: int64"
      ]
     },
     "execution_count": 266,
     "metadata": {},
     "output_type": "execute_result"
    }
   ],
   "source": [
    "test_predict_df['WnvPresent'].value_counts()"
   ]
  },
  {
   "cell_type": "code",
   "execution_count": 486,
   "metadata": {},
   "outputs": [],
   "source": [
    "test_sub = pd.concat([test_zip_n, test_predict_df], axis = 1)\n",
    "\n",
    "test_cols = [col for col in test_sub.columns if (col == 'Id') | (col == 'WnvPresent')]\n",
    "\n",
    "test_submission = test_sub[test_cols]\n",
    "\n",
    "test_submission.to_csv('Outputs/ta-3.csv', index = False)"
   ]
  },
  {
   "cell_type": "markdown",
   "metadata": {},
   "source": [
    "Perhaps this model is overfit (Kaggle score < 0.6)? Let's try Extra Trees."
   ]
  },
  {
   "cell_type": "markdown",
   "metadata": {},
   "source": [
    "## Extra Trees"
   ]
  },
  {
   "cell_type": "code",
   "execution_count": 267,
   "metadata": {},
   "outputs": [],
   "source": [
    "from sklearn.ensemble import ExtraTreesClassifier\n",
    "from sklearn.model_selection import GridSearchCV"
   ]
  },
  {
   "cell_type": "markdown",
   "metadata": {},
   "source": [
    "This is where I was able to bring in the spray data."
   ]
  },
  {
   "cell_type": "code",
   "execution_count": 268,
   "metadata": {},
   "outputs": [],
   "source": [
    "spray_coords = []\n",
    "for i in range(spray.shape[0]):\n",
    "    spray_coords.append((round(spray['Latitude'][i], 2), round(spray['Longitude'][i], 2)))"
   ]
  },
  {
   "cell_type": "code",
   "execution_count": 269,
   "metadata": {},
   "outputs": [],
   "source": [
    "spray_coords = set(spray_coords)"
   ]
  },
  {
   "cell_type": "code",
   "execution_count": 510,
   "metadata": {},
   "outputs": [
    {
     "data": {
      "text/plain": [
       "{(41.71, -87.66),\n",
       " (41.71, -87.65),\n",
       " (41.71, -87.62),\n",
       " (41.71, -87.6),\n",
       " (41.71, -87.59),\n",
       " (41.72, -87.66),\n",
       " (41.72, -87.65),\n",
       " (41.72, -87.64),\n",
       " (41.72, -87.63),\n",
       " (41.72, -87.62),\n",
       " (41.72, -87.61),\n",
       " (41.72, -87.6),\n",
       " (41.72, -87.59),\n",
       " (41.73, -87.67),\n",
       " (41.73, -87.66),\n",
       " (41.73, -87.65),\n",
       " (41.73, -87.64),\n",
       " (41.73, -87.63),\n",
       " (41.73, -87.62),\n",
       " (41.73, -87.61),\n",
       " (41.73, -87.6),\n",
       " (41.73, -87.59),\n",
       " (41.74, -87.67),\n",
       " (41.74, -87.66),\n",
       " (41.74, -87.65),\n",
       " (41.74, -87.64),\n",
       " (41.74, -87.62),\n",
       " (41.74, -87.61),\n",
       " (41.74, -87.6),\n",
       " (41.74, -87.59),\n",
       " (41.75, -87.62),\n",
       " (41.75, -87.61),\n",
       " (41.76, -87.72),\n",
       " (41.76, -87.71),\n",
       " (41.76, -87.7),\n",
       " (41.76, -87.69),\n",
       " (41.76, -87.62),\n",
       " (41.76, -87.61),\n",
       " (41.77, -87.74),\n",
       " (41.77, -87.73),\n",
       " (41.77, -87.72),\n",
       " (41.77, -87.71),\n",
       " (41.77, -87.7),\n",
       " (41.77, -87.69),\n",
       " (41.77, -87.62),\n",
       " (41.78, -87.74),\n",
       " (41.78, -87.73),\n",
       " (41.78, -87.72),\n",
       " (41.78, -87.71),\n",
       " (41.78, -87.7),\n",
       " (41.78, -87.69),\n",
       " (41.79, -87.74),\n",
       " (41.79, -87.73),\n",
       " (41.79, -87.72),\n",
       " (41.79, -87.71),\n",
       " (41.79, -87.7),\n",
       " (41.79, -87.69),\n",
       " (41.87, -87.73),\n",
       " (41.87, -87.72),\n",
       " (41.87, -87.71),\n",
       " (41.88, -87.73),\n",
       " (41.88, -87.72),\n",
       " (41.88, -87.71),\n",
       " (41.88, -87.7),\n",
       " (41.89, -87.77),\n",
       " (41.89, -87.76),\n",
       " (41.89, -87.75),\n",
       " (41.89, -87.73),\n",
       " (41.89, -87.72),\n",
       " (41.89, -87.71),\n",
       " (41.89, -87.7),\n",
       " (41.9, -87.77),\n",
       " (41.9, -87.76),\n",
       " (41.9, -87.75),\n",
       " (41.9, -87.72),\n",
       " (41.9, -87.71),\n",
       " (41.9, -87.7),\n",
       " (41.91, -87.81),\n",
       " (41.91, -87.8),\n",
       " (41.91, -87.79),\n",
       " (41.91, -87.78),\n",
       " (41.91, -87.77),\n",
       " (41.91, -87.76),\n",
       " (41.91, -87.75),\n",
       " (41.92, -87.8),\n",
       " (41.92, -87.79),\n",
       " (41.92, -87.78),\n",
       " (41.92, -87.77),\n",
       " (41.92, -87.72),\n",
       " (41.92, -87.71),\n",
       " (41.92, -87.7),\n",
       " (41.92, -87.69),\n",
       " (41.92, -87.68),\n",
       " (41.93, -87.81),\n",
       " (41.93, -87.8),\n",
       " (41.93, -87.79),\n",
       " (41.93, -87.78),\n",
       " (41.93, -87.77),\n",
       " (41.93, -87.72),\n",
       " (41.93, -87.71),\n",
       " (41.93, -87.7),\n",
       " (41.93, -87.69),\n",
       " (41.94, -87.82),\n",
       " (41.94, -87.81),\n",
       " (41.94, -87.8),\n",
       " (41.94, -87.79),\n",
       " (41.94, -87.78),\n",
       " (41.94, -87.77),\n",
       " (41.94, -87.74),\n",
       " (41.94, -87.73),\n",
       " (41.94, -87.72),\n",
       " (41.94, -87.71),\n",
       " (41.94, -87.7),\n",
       " (41.94, -87.69),\n",
       " (41.94, -87.68),\n",
       " (41.95, -87.82),\n",
       " (41.95, -87.81),\n",
       " (41.95, -87.8),\n",
       " (41.95, -87.79),\n",
       " (41.95, -87.78),\n",
       " (41.95, -87.74),\n",
       " (41.95, -87.73),\n",
       " (41.95, -87.72),\n",
       " (41.95, -87.71),\n",
       " (41.95, -87.7),\n",
       " (41.95, -87.69),\n",
       " (41.95, -87.68),\n",
       " (41.96, -87.79),\n",
       " (41.96, -87.78),\n",
       " (41.96, -87.74),\n",
       " (41.96, -87.73),\n",
       " (41.96, -87.72),\n",
       " (41.96, -87.71),\n",
       " (41.97, -87.87),\n",
       " (41.97, -87.83),\n",
       " (41.97, -87.82),\n",
       " (41.97, -87.81),\n",
       " (41.97, -87.8),\n",
       " (41.97, -87.79),\n",
       " (41.97, -87.78),\n",
       " (41.97, -87.74),\n",
       " (41.97, -87.73),\n",
       " (41.97, -87.72),\n",
       " (41.97, -87.71),\n",
       " (41.98, -87.85),\n",
       " (41.98, -87.84),\n",
       " (41.98, -87.83),\n",
       " (41.98, -87.82),\n",
       " (41.98, -87.81),\n",
       " (41.98, -87.8),\n",
       " (41.98, -87.79),\n",
       " (41.98, -87.7),\n",
       " (41.98, -87.69),\n",
       " (41.98, -87.68),\n",
       " (41.98, -87.67),\n",
       " (41.99, -87.82),\n",
       " (41.99, -87.81),\n",
       " (41.99, -87.8),\n",
       " (41.99, -87.79),\n",
       " (41.99, -87.7),\n",
       " (41.99, -87.69),\n",
       " (41.99, -87.68),\n",
       " (41.99, -87.67),\n",
       " (41.99, -87.66),\n",
       " (42.0, -87.82),\n",
       " (42.0, -87.81),\n",
       " (42.0, -87.8),\n",
       " (42.0, -87.79),\n",
       " (42.0, -87.78),\n",
       " (42.0, -87.77),\n",
       " (42.0, -87.76),\n",
       " (42.0, -87.7),\n",
       " (42.0, -87.69),\n",
       " (42.0, -87.68),\n",
       " (42.0, -87.67),\n",
       " (42.01, -87.82),\n",
       " (42.01, -87.81),\n",
       " (42.01, -87.79),\n",
       " (42.01, -87.78),\n",
       " (42.01, -87.77),\n",
       " (42.01, -87.76),\n",
       " (42.02, -87.82),\n",
       " (42.02, -87.81),\n",
       " (42.02, -87.78),\n",
       " (42.39, -88.1),\n",
       " (42.39, -88.09),\n",
       " (42.4, -88.1),\n",
       " (42.4, -88.09)}"
      ]
     },
     "execution_count": 510,
     "metadata": {},
     "output_type": "execute_result"
    }
   ],
   "source": [
    "spray_coords"
   ]
  },
  {
   "cell_type": "code",
   "execution_count": 270,
   "metadata": {},
   "outputs": [],
   "source": [
    "train_zip['LatRound'] = round(train_zip['Latitude'], 2)\n",
    "\n",
    "train_zip['LongRound'] = round(train_zip['Longitude'], 2)\n",
    "\n",
    "lat_dums = pd.get_dummies(train_zip['LatRound'])\n",
    "\n",
    "long_dums = pd.get_dummies(train_zip['LongRound'])\n",
    "\n",
    "train_new_coords = pd.concat([train_zip, lat_dums, long_dums], axis = 1)\n",
    "\n",
    "\n",
    "\n",
    "X_train_loc = []\n",
    "for i in range(train_new_coords.shape[0]):\n",
    "    X_train_loc.append((train_new_coords['LatRound'][i], train_new_coords['LongRound'][i]))\n",
    "\n",
    "train_new_coords['loc'] = X_train_loc\n",
    "\n",
    "X_train_loc = set(X_train_loc)\n",
    "\n",
    "intersect = X_train_loc.intersection(spray_coords)\n",
    "\n",
    "train_new_coords['Spray?'] = 0"
   ]
  },
  {
   "cell_type": "code",
   "execution_count": 271,
   "metadata": {},
   "outputs": [],
   "source": [
    "sprays = []\n",
    "for i in range(train_new_coords.shape[0]):\n",
    "    if (train_new_coords['LatRound'][i], train_new_coords['LongRound'][i]) in intersect:\n",
    "        sprays.append(1)\n",
    "    else:\n",
    "        sprays.append(0)\n",
    "\n",
    "train_new_coords['Spray?'] = sprays"
   ]
  },
  {
   "cell_type": "code",
   "execution_count": 272,
   "metadata": {},
   "outputs": [],
   "source": [
    "train_maj = train_new_coords[train_new_coords['WnvPresent'] == 0]\n",
    "train_min = train_new_coords[train_new_coords['WnvPresent'] == 1]\n",
    "\n",
    "min_upsampled = resample(train_min, replace = True, n_samples = 9955, random_state = 42)"
   ]
  },
  {
   "cell_type": "code",
   "execution_count": 273,
   "metadata": {},
   "outputs": [],
   "source": [
    "X_spray_new = pd.concat([train_maj, min_upsampled])\n",
    "y_spray_new = X_spray_new['WnvPresent']"
   ]
  },
  {
   "cell_type": "code",
   "execution_count": 575,
   "metadata": {},
   "outputs": [],
   "source": [
    "X_spray_new.to_csv('Inputs/balancedTrainWithSpray.csv')"
   ]
  },
  {
   "cell_type": "code",
   "execution_count": 445,
   "metadata": {},
   "outputs": [],
   "source": [
    "X_spray_new = pd.read_csv('Inputs/balancedTrainWithSpray.csv', low_memory = False)"
   ]
  },
  {
   "cell_type": "code",
   "execution_count": 274,
   "metadata": {},
   "outputs": [],
   "source": [
    "y_spray_new = X_spray_new['WnvPresent']"
   ]
  },
  {
   "cell_type": "code",
   "execution_count": 447,
   "metadata": {},
   "outputs": [],
   "source": [
    "# Let's have one also with the dependent variable included.\n",
    "Xy = pd.concat([X_spray_new, y_spray_new], axis = 1)"
   ]
  },
  {
   "cell_type": "code",
   "execution_count": 448,
   "metadata": {},
   "outputs": [],
   "source": [
    "Xy.to_csv('Inputs/balancedTrainSprayWnv.csv')"
   ]
  },
  {
   "cell_type": "code",
   "execution_count": 275,
   "metadata": {},
   "outputs": [],
   "source": [
    "X_spray_new['WetBulb'].fillna(0, inplace = True)\n",
    "X_spray_new.drop(['WnvPresent', 'NumMosquitos', 'IL,'], inplace = True, axis = 1)"
   ]
  },
  {
   "cell_type": "code",
   "execution_count": 276,
   "metadata": {},
   "outputs": [],
   "source": [
    "nums = [col for col in X_spray_new.columns if (X_spray_new[col].dtype != object) & (col != 'Date')]"
   ]
  },
  {
   "cell_type": "code",
   "execution_count": 277,
   "metadata": {},
   "outputs": [],
   "source": [
    "X_spray_nums = X_spray_new[nums]"
   ]
  },
  {
   "cell_type": "code",
   "execution_count": 278,
   "metadata": {},
   "outputs": [],
   "source": [
    "X_train, X_test, y_train, y_test = train_test_split(X_spray_nums, y_spray_new,\n",
    "                                                    stratify = y_spray_new,\n",
    "                                                   random_state = 42)\n",
    "\n",
    "et = ExtraTreesClassifier()\n",
    "model4 = et.fit(X_train, y_train)"
   ]
  },
  {
   "cell_type": "code",
   "execution_count": 279,
   "metadata": {},
   "outputs": [
    {
     "data": {
      "text/plain": [
       "0.9602249899558055"
      ]
     },
     "execution_count": 279,
     "metadata": {},
     "output_type": "execute_result"
    }
   ],
   "source": [
    "model4.score(X_test, y_test)"
   ]
  },
  {
   "cell_type": "markdown",
   "metadata": {},
   "source": [
    "#### Re-prepping the test set"
   ]
  },
  {
   "cell_type": "code",
   "execution_count": 280,
   "metadata": {},
   "outputs": [],
   "source": [
    "test_zip = pd.concat([test_weath, zip_dums], axis = 1)"
   ]
  },
  {
   "cell_type": "code",
   "execution_count": 281,
   "metadata": {},
   "outputs": [],
   "source": [
    "test_zip.drop(['Date', 'IL,'], axis = 1, inplace = True)"
   ]
  },
  {
   "cell_type": "code",
   "execution_count": 599,
   "metadata": {},
   "outputs": [
    {
     "data": {
      "text/plain": [
       "Index(['Id', 'Address', 'Species', 'Block', 'Street', 'Trap',\n",
       "       'AddressNumberAndStreet', 'Latitude', 'Longitude', 'AddressAccuracy',\n",
       "       ...\n",
       "       '60652,', '60654,', '60655,', '60656,', '60659,', '60660,', '60666,',\n",
       "       '60707,', '60803,', '60827,'],\n",
       "      dtype='object', length=243)"
      ]
     },
     "execution_count": 599,
     "metadata": {},
     "output_type": "execute_result"
    }
   ],
   "source": [
    "test_zip.columns"
   ]
  },
  {
   "cell_type": "code",
   "execution_count": 282,
   "metadata": {},
   "outputs": [],
   "source": [
    "test_zip_n = test_zip.drop([col for col in test_zip if test_zip[col].dtype == object], axis = 1)"
   ]
  },
  {
   "cell_type": "code",
   "execution_count": 283,
   "metadata": {},
   "outputs": [],
   "source": [
    "cols = [col for col in test_zip_n.columns if col != 'Id']"
   ]
  },
  {
   "cell_type": "code",
   "execution_count": 284,
   "metadata": {},
   "outputs": [],
   "source": [
    "test_zip['LatRound'] = round(test_zip['Latitude'], 2)\n",
    "\n",
    "test_zip['LongRound'] = round(test_zip['Longitude'], 2)\n",
    "\n",
    "lat_dums = pd.get_dummies(test_zip['LatRound'])\n",
    "\n",
    "long_dums = pd.get_dummies(test_zip['LongRound'])\n",
    "\n",
    "test_new_coords = pd.concat([test_zip, lat_dums, long_dums], axis = 1)\n",
    "\n",
    "\n",
    "test_loc = []\n",
    "for i in range(test_new_coords.shape[0]):\n",
    "    test_loc.append((test_new_coords['LatRound'][i], test_new_coords['LongRound'][i]))\n",
    "\n",
    "test_new_coords['loc'] = test_loc\n",
    "\n",
    "test_loc = set(test_loc)\n",
    "\n",
    "intersect = test_loc.intersection(spray_coords)\n",
    "\n",
    "test_new_coords['Spray?'] = 0"
   ]
  },
  {
   "cell_type": "code",
   "execution_count": 285,
   "metadata": {},
   "outputs": [],
   "source": [
    "sprays = []\n",
    "for i in range(test_new_coords.shape[0]):\n",
    "    if (test_new_coords['LatRound'][i], test_new_coords['LongRound'][i]) in intersect:\n",
    "        sprays.append(1)\n",
    "    else:\n",
    "        sprays.append(0)\n",
    "\n",
    "test_new_coords['Spray?'] = sprays"
   ]
  },
  {
   "cell_type": "code",
   "execution_count": 286,
   "metadata": {},
   "outputs": [],
   "source": [
    "test_new_coords_no = test_new_coords[cols]"
   ]
  },
  {
   "cell_type": "code",
   "execution_count": 287,
   "metadata": {},
   "outputs": [],
   "source": [
    "feats = X_train.columns\n",
    "test_new_coords_no = test_new_coords[feats]"
   ]
  },
  {
   "cell_type": "code",
   "execution_count": 288,
   "metadata": {},
   "outputs": [
    {
     "data": {
      "text/plain": [
       "(116293, 277)"
      ]
     },
     "execution_count": 288,
     "metadata": {},
     "output_type": "execute_result"
    }
   ],
   "source": [
    "test_new_coords_no.shape"
   ]
  },
  {
   "cell_type": "code",
   "execution_count": 289,
   "metadata": {},
   "outputs": [],
   "source": [
    "ex_tree_preds = et.predict(test_new_coords_no)"
   ]
  },
  {
   "cell_type": "code",
   "execution_count": 290,
   "metadata": {},
   "outputs": [],
   "source": [
    "ex_tree_predict_df = pd.DataFrame(ex_tree_preds, columns = ['WnvPresent'])"
   ]
  },
  {
   "cell_type": "code",
   "execution_count": 623,
   "metadata": {},
   "outputs": [],
   "source": [
    "test_sub = pd.concat([test_new_coords, ex_tree_predict_df], axis = 1)\n",
    "\n",
    "test_cols = [col for col in test_sub.columns if (col == 'Id') | (col == 'WnvPresent')]\n",
    "\n",
    "test_submission = test_sub[test_cols]\n",
    "\n",
    "test_submission.to_csv('Outputs/ta-4.csv', index = False)"
   ]
  },
  {
   "cell_type": "markdown",
   "metadata": {},
   "source": [
    "Time to try to trim the fat. There are too many columns!"
   ]
  },
  {
   "cell_type": "code",
   "execution_count": 626,
   "metadata": {},
   "outputs": [
    {
     "data": {
      "text/plain": [
       "Index([ 'AddressAccuracy',            'Block',  'CULEX ERRATICUS',\n",
       "       'CULEX SALINARIUS',   'CULEX TARSALIS',  'CULEX TERRITANS',\n",
       "               'DewPoint',         'Latitude',        'Longitude',\n",
       "              'ResultDir',\n",
       "       ...\n",
       "                   -87.62,             -87.61,              -87.6,\n",
       "                   -87.59,             -87.58,             -87.57,\n",
       "                   -87.56,             -87.55,             -87.54,\n",
       "                   -87.53],\n",
       "      dtype='object', length=277)"
      ]
     },
     "execution_count": 626,
     "metadata": {},
     "output_type": "execute_result"
    }
   ],
   "source": [
    "X_spray_nums.columns"
   ]
  },
  {
   "cell_type": "code",
   "execution_count": 291,
   "metadata": {},
   "outputs": [],
   "source": [
    "trim_cols = ['new_pip', 'new_rest', 'T115', 'T138', 'T900', 'T220',\n",
    "           'WetBulb', 'DewPoint', '60106,', '60609,', '60617,', '60631,', '60634,',\n",
    "           '60643,', '60655,', '60656,', '60666,', 'Spray?']"
   ]
  },
  {
   "cell_type": "code",
   "execution_count": 292,
   "metadata": {},
   "outputs": [],
   "source": [
    "X_spray_nums = X_spray_nums[trim_cols]\n",
    "test_new_coords_no = test_new_coords[trim_cols]"
   ]
  },
  {
   "cell_type": "code",
   "execution_count": 293,
   "metadata": {},
   "outputs": [],
   "source": [
    "X_train, X_test, y_train, y_test = train_test_split(X_spray_nums, y_spray_new,\n",
    "                                                    stratify = y_spray_new,\n",
    "                                                   random_state = 42)\n",
    "\n",
    "et = ExtraTreesClassifier()\n",
    "model4 = et.fit(X_train, y_train)"
   ]
  },
  {
   "cell_type": "code",
   "execution_count": 294,
   "metadata": {},
   "outputs": [
    {
     "data": {
      "text/plain": [
       "0.8523503415026115"
      ]
     },
     "execution_count": 294,
     "metadata": {},
     "output_type": "execute_result"
    }
   ],
   "source": [
    "et.score(X_test, y_test)"
   ]
  },
  {
   "cell_type": "code",
   "execution_count": 295,
   "metadata": {},
   "outputs": [],
   "source": [
    "ex_tree_2 = et.predict(test_new_coords_no)"
   ]
  },
  {
   "cell_type": "code",
   "execution_count": 296,
   "metadata": {},
   "outputs": [],
   "source": [
    "ex_tree_predict_df = pd.DataFrame(ex_tree_2, columns = ['WnvPresent'])"
   ]
  },
  {
   "cell_type": "code",
   "execution_count": 635,
   "metadata": {},
   "outputs": [],
   "source": [
    "test_sub = pd.concat([test_new_coords, ex_tree_predict_df], axis = 1)\n",
    "\n",
    "test_cols = [col for col in test_sub.columns if (col == 'Id') | (col == 'WnvPresent')]\n",
    "\n",
    "test_submission = test_sub[test_cols]\n",
    "\n",
    "test_submission.to_csv('Outputs/ta-5.csv', index = False)"
   ]
  },
  {
   "cell_type": "markdown",
   "metadata": {},
   "source": [
    "Having had more luck with the logistic regressions, I return to them here, starting with the same training set I just ran through the ET model."
   ]
  },
  {
   "cell_type": "markdown",
   "metadata": {},
   "source": [
    "## Logistic Regression #3"
   ]
  },
  {
   "cell_type": "code",
   "execution_count": 297,
   "metadata": {},
   "outputs": [],
   "source": [
    "model5 = logreg.fit(X_train, y_train)"
   ]
  },
  {
   "cell_type": "code",
   "execution_count": 298,
   "metadata": {},
   "outputs": [
    {
     "data": {
      "text/plain": [
       "0.6647247890719165"
      ]
     },
     "execution_count": 298,
     "metadata": {},
     "output_type": "execute_result"
    }
   ],
   "source": [
    "model5.score(X_test, y_test)"
   ]
  },
  {
   "cell_type": "code",
   "execution_count": 299,
   "metadata": {},
   "outputs": [],
   "source": [
    "log_3 = logreg.predict(test_new_coords_no)"
   ]
  },
  {
   "cell_type": "code",
   "execution_count": 300,
   "metadata": {},
   "outputs": [],
   "source": [
    "log_3_df = pd.DataFrame(log_3, columns = ['WnvPresent'])"
   ]
  },
  {
   "cell_type": "code",
   "execution_count": 641,
   "metadata": {},
   "outputs": [],
   "source": [
    "test_sub = pd.concat([test_new_coords, log_3_df], axis = 1)\n",
    "\n",
    "test_cols = [col for col in test_sub.columns if (col == 'Id') | (col == 'WnvPresent')]\n",
    "\n",
    "test_submission = test_sub[test_cols]\n",
    "\n",
    "test_submission.to_csv('Outputs/ta-6.csv', index = False)"
   ]
  },
  {
   "cell_type": "code",
   "execution_count": 301,
   "metadata": {},
   "outputs": [
    {
     "data": {
      "text/plain": [
       "array([[ 1.23808259, -0.43466051,  0.15267404, -0.56124891,  0.48048519,\n",
       "        -0.07490455,  0.03281463,  0.02455576,  0.81185252,  0.28094447,\n",
       "        -0.35610182,  0.62376555,  0.22780528,  0.20179581,  0.06522469,\n",
       "         0.57933483,  0.48048519,  0.35919175]])"
      ]
     },
     "execution_count": 301,
     "metadata": {},
     "output_type": "execute_result"
    }
   ],
   "source": [
    "model5.coef_"
   ]
  },
  {
   "cell_type": "code",
   "execution_count": 302,
   "metadata": {},
   "outputs": [
    {
     "data": {
      "text/plain": [
       "1.2380825921143346"
      ]
     },
     "execution_count": 302,
     "metadata": {},
     "output_type": "execute_result"
    }
   ],
   "source": [
    "model5.coef_[0][0]"
   ]
  },
  {
   "cell_type": "markdown",
   "metadata": {},
   "source": [
    "Let's make a plot of the coefficients for the sake of visualization."
   ]
  },
  {
   "cell_type": "code",
   "execution_count": 303,
   "metadata": {},
   "outputs": [],
   "source": [
    "coefs = dict(zip(trim_cols, list(model5.coef_[0])))"
   ]
  },
  {
   "cell_type": "code",
   "execution_count": 304,
   "metadata": {},
   "outputs": [],
   "source": [
    "import matplotlib.pyplot as plt\n",
    "import matplotlib"
   ]
  },
  {
   "cell_type": "code",
   "execution_count": 306,
   "metadata": {
    "scrolled": false
   },
   "outputs": [
    {
     "data": {
      "image/png": "[encoded data removed]",
      "text/plain": [
       "<matplotlib.figure.Figure at 0x11572ca20>"
      ]
     },
     "metadata": {},
     "output_type": "display_data"
    }
   ],
   "source": [
    "plt.figure(figsize = (14, 14))\n",
    "plt.xticks(rotation = 80)\n",
    "plt.xlabel('coefficients', fontsize = 16)\n",
    "plt.ylabel('value', fontsize = 16)\n",
    "plt.title('Log. Reg. #3 Coeff''s')\n",
    "\n",
    "plt.bar(coefs.keys(), coefs.values())\n",
    "\n",
    "font = {'weight' : 'bold',\n",
    "        'size'   : 28}\n",
    "\n",
    "matplotlib.rc('font', **font)"
   ]
  },
  {
   "cell_type": "markdown",
   "metadata": {},
   "source": [
    "## Logistic Regression #4"
   ]
  },
  {
   "cell_type": "markdown",
   "metadata": {},
   "source": [
    "One of the features most highly correlated with the presence of West Nile was the number of mosquitos, which, for some reason, is not present in the test set. But it might be worth trying to add that column into the test set, perhaps based on some sort of aggregation over trap identities. Let's see what we can do."
   ]
  },
  {
   "cell_type": "code",
   "execution_count": 307,
   "metadata": {},
   "outputs": [],
   "source": [
    "train_mosq = pd.read_csv('Inputs/balancedTrainWithSpray.csv', low_memory = False)"
   ]
  },
  {
   "cell_type": "code",
   "execution_count": 502,
   "metadata": {},
   "outputs": [],
   "source": [
    "corrs = train_mosq.drop('Unnamed: 0', axis = 1).corr()['WnvPresent']\n",
    "corrs = abs(corrs)"
   ]
  },
  {
   "cell_type": "code",
   "execution_count": 558,
   "metadata": {},
   "outputs": [
    {
     "data": {
      "text/plain": [
       "-0.12606289123339573"
      ]
     },
     "execution_count": 558,
     "metadata": {},
     "output_type": "execute_result"
    }
   ],
   "source": [
    "train_mosq.drop('Unnamed: 0', axis = 1).corr()['WnvPresent']['LongRound']"
   ]
  },
  {
   "cell_type": "code",
   "execution_count": 504,
   "metadata": {},
   "outputs": [
    {
     "data": {
      "text/plain": [
       "WnvPresent      1.000000\n",
       "NumMosquitos    0.388891\n",
       "new_pip         0.263631\n",
       "DewPoint        0.206022\n",
       "WetBulb         0.196818\n",
       "Tmin            0.167252\n",
       "new_rest        0.163835\n",
       "Tavg            0.156428\n",
       "Tavg_int        0.156428\n",
       "Heat            0.148063\n",
       "Cool            0.133545\n",
       "LongRound       0.126063\n",
       "Name: WnvPresent, dtype: float64"
      ]
     },
     "execution_count": 504,
     "metadata": {},
     "output_type": "execute_result"
    }
   ],
   "source": [
    "corrs.nlargest(12)"
   ]
  },
  {
   "cell_type": "code",
   "execution_count": 553,
   "metadata": {},
   "outputs": [
    {
     "data": {
      "text/html": [
       "<div>\n",
       "<style scoped>\n",
       "    .dataframe tbody tr th:only-of-type {\n",
       "        vertical-align: middle;\n",
       "    }\n",
       "\n",
       "    .dataframe tbody tr th {\n",
       "        vertical-align: top;\n",
       "    }\n",
       "\n",
       "    .dataframe thead th {\n",
       "        text-align: right;\n",
       "    }\n",
       "</style>\n",
       "<table border=\"1\" class=\"dataframe\">\n",
       "  <thead>\n",
       "    <tr style=\"text-align: right;\">\n",
       "      <th></th>\n",
       "      <th>WnvPresent</th>\n",
       "    </tr>\n",
       "  </thead>\n",
       "  <tbody>\n",
       "    <tr>\n",
       "      <th>NumMosquitos</th>\n",
       "      <td>0.388891</td>\n",
       "    </tr>\n",
       "    <tr>\n",
       "      <th>new_pip</th>\n",
       "      <td>0.263631</td>\n",
       "    </tr>\n",
       "    <tr>\n",
       "      <th>DewPoint</th>\n",
       "      <td>0.206022</td>\n",
       "    </tr>\n",
       "    <tr>\n",
       "      <th>WetBulb</th>\n",
       "      <td>0.196818</td>\n",
       "    </tr>\n",
       "    <tr>\n",
       "      <th>Tmin</th>\n",
       "      <td>0.167252</td>\n",
       "    </tr>\n",
       "    <tr>\n",
       "      <th>new_rest</th>\n",
       "      <td>0.163835</td>\n",
       "    </tr>\n",
       "    <tr>\n",
       "      <th>Tavg</th>\n",
       "      <td>0.156428</td>\n",
       "    </tr>\n",
       "    <tr>\n",
       "      <th>Heat</th>\n",
       "      <td>0.148063</td>\n",
       "    </tr>\n",
       "    <tr>\n",
       "      <th>Cool</th>\n",
       "      <td>0.133545</td>\n",
       "    </tr>\n",
       "    <tr>\n",
       "      <th>LongRound</th>\n",
       "      <td>0.126063</td>\n",
       "    </tr>\n",
       "  </tbody>\n",
       "</table>\n",
       "</div>"
      ],
      "text/plain": [
       "              WnvPresent\n",
       "NumMosquitos    0.388891\n",
       "new_pip         0.263631\n",
       "DewPoint        0.206022\n",
       "WetBulb         0.196818\n",
       "Tmin            0.167252\n",
       "new_rest        0.163835\n",
       "Tavg            0.156428\n",
       "Heat            0.148063\n",
       "Cool            0.133545\n",
       "LongRound       0.126063"
      ]
     },
     "execution_count": 553,
     "metadata": {},
     "output_type": "execute_result"
    }
   ],
   "source": [
    "corrsdf = pd.DataFrame(corrs.nlargest(12).drop(['WnvPresent', 'Tavg_int']))\n",
    "corrsdf"
   ]
  },
  {
   "cell_type": "code",
   "execution_count": 539,
   "metadata": {},
   "outputs": [],
   "source": [
    "# This model is performing even better. Let's make plots boh of Pearson\n",
    "# coefficients and of the new logistic regression coefficients.\n",
    "import matplotlib.pyplot as plt"
   ]
  },
  {
   "cell_type": "code",
   "execution_count": 554,
   "metadata": {},
   "outputs": [
    {
     "data": {
      "image/png": "[encoded data removed]",
      "text/plain": [
       "<matplotlib.figure.Figure at 0x1a282d6160>"
      ]
     },
     "metadata": {},
     "output_type": "display_data"
    }
   ],
   "source": [
    "plt.figure(figsize = (12, 12))\n",
    "\n",
    "plt.barh(corrsdf.index, corrsdf['WnvPresent'])\n",
    "\n",
    "font = {'weight' : 'bold',\n",
    "        'size'   : 24}\n",
    "\n",
    "matplotlib.rc('font', **font)"
   ]
  },
  {
   "cell_type": "markdown",
   "metadata": {},
   "source": [
    "Dmitry Efimov's highly successful team (https://www.kaggle.com/c/predict-west-nile-virus/discussion/14869) made use of the temperature stats, so let's add those in as well."
   ]
  },
  {
   "cell_type": "code",
   "execution_count": 308,
   "metadata": {},
   "outputs": [],
   "source": [
    "cols = ['60106,', '60609,', '60617,', '60631,', '60633,', '60634,', '60637,', '60643,',\n",
    "        '60656,', '60666,',\n",
    "       'Spray?', 'T115', 'T138', 'T900', 'new_pip', 'new_rest', 'Tmin', 'Tmax', 'Tavg',\n",
    "       'NumMosquitos']\n",
    "X = train_mosq[cols]\n",
    "y = train_mosq['WnvPresent']"
   ]
  },
  {
   "cell_type": "code",
   "execution_count": 309,
   "metadata": {},
   "outputs": [],
   "source": [
    "X_train, X_test, y_train, y_test = train_test_split(X, y, stratify = y, random_state = 42)"
   ]
  },
  {
   "cell_type": "code",
   "execution_count": 310,
   "metadata": {},
   "outputs": [],
   "source": [
    "model6 = logreg.fit(X_train, y_train)"
   ]
  },
  {
   "cell_type": "code",
   "execution_count": 311,
   "metadata": {},
   "outputs": [
    {
     "data": {
      "text/plain": [
       "0.7292085174768983"
      ]
     },
     "execution_count": 311,
     "metadata": {},
     "output_type": "execute_result"
    }
   ],
   "source": [
    "model6.score(X_test, y_test)"
   ]
  },
  {
   "cell_type": "code",
   "execution_count": 312,
   "metadata": {},
   "outputs": [],
   "source": [
    "coefs = dict(zip(cols, list(model6.coef_[0])))"
   ]
  },
  {
   "cell_type": "code",
   "execution_count": 313,
   "metadata": {},
   "outputs": [
    {
     "data": {
      "image/png": "[encoded data removed]",
      "text/plain": [
       "<matplotlib.figure.Figure at 0x115650630>"
      ]
     },
     "metadata": {},
     "output_type": "display_data"
    }
   ],
   "source": [
    "plt.figure(figsize = (14, 14))\n",
    "plt.xticks(rotation = 80)\n",
    "plt.xlabel('coefficients', fontsize = 16)\n",
    "plt.ylabel('value', fontsize = 16)\n",
    "plt.title('Log. Reg. #4 Coeff''s')\n",
    "\n",
    "plt.bar(coefs.keys(), coefs.values())\n",
    "\n",
    "font = {'weight' : 'bold',\n",
    "        'size'   : 28}\n",
    "\n",
    "matplotlib.rc('font', **font)"
   ]
  },
  {
   "cell_type": "code",
   "execution_count": 138,
   "metadata": {},
   "outputs": [
    {
     "data": {
      "text/plain": [
       "['Date',\n",
       " 'Address',\n",
       " 'Species',\n",
       " 'Block',\n",
       " 'Street',\n",
       " 'Trap',\n",
       " 'AddressNumberAndStreet',\n",
       " 'Latitude',\n",
       " 'Longitude',\n",
       " 'AddressAccuracy',\n",
       " 'CULEX ERRATICUS',\n",
       " 'CULEX PIPIENS',\n",
       " 'CULEX PIPIENS/RESTUANS',\n",
       " 'CULEX RESTUANS',\n",
       " 'CULEX SALINARIUS',\n",
       " 'CULEX TARSALIS',\n",
       " 'CULEX TERRITANS',\n",
       " 'UNSPECIFIED CULEX',\n",
       " 'new_pip',\n",
       " 'new_rest',\n",
       " 'T001',\n",
       " 'T002',\n",
       " 'T002A',\n",
       " 'T002B',\n",
       " 'T003',\n",
       " 'T004',\n",
       " 'T005',\n",
       " 'T006',\n",
       " 'T007',\n",
       " 'T008',\n",
       " 'T009',\n",
       " 'T011',\n",
       " 'T012',\n",
       " 'T013',\n",
       " 'T014',\n",
       " 'T015',\n",
       " 'T016',\n",
       " 'T017',\n",
       " 'T018',\n",
       " 'T019',\n",
       " 'T025',\n",
       " 'T027',\n",
       " 'T028',\n",
       " 'T030',\n",
       " 'T031',\n",
       " 'T033',\n",
       " 'T034',\n",
       " 'T035',\n",
       " 'T036',\n",
       " 'T037',\n",
       " 'T039',\n",
       " 'T040',\n",
       " 'T043',\n",
       " 'T044',\n",
       " 'T045',\n",
       " 'T046',\n",
       " 'T047',\n",
       " 'T048',\n",
       " 'T049',\n",
       " 'T050',\n",
       " 'T051',\n",
       " 'T054',\n",
       " 'T054C',\n",
       " 'T060',\n",
       " 'T061',\n",
       " 'T062',\n",
       " 'T063',\n",
       " 'T065',\n",
       " 'T065A',\n",
       " 'T066',\n",
       " 'T067',\n",
       " 'T069',\n",
       " 'T070',\n",
       " 'T071',\n",
       " 'T072',\n",
       " 'T073',\n",
       " 'T074',\n",
       " 'T075',\n",
       " 'T076',\n",
       " 'T077',\n",
       " 'T078',\n",
       " 'T079',\n",
       " 'T080',\n",
       " 'T081',\n",
       " 'T082',\n",
       " 'T083',\n",
       " 'T084',\n",
       " 'T085',\n",
       " 'T086',\n",
       " 'T088',\n",
       " 'T089',\n",
       " 'T090',\n",
       " 'T090A',\n",
       " 'T090B',\n",
       " 'T090C',\n",
       " 'T091',\n",
       " 'T092',\n",
       " 'T094',\n",
       " 'T094B',\n",
       " 'T095',\n",
       " 'T096',\n",
       " 'T097',\n",
       " 'T099',\n",
       " 'T100',\n",
       " 'T102',\n",
       " 'T103',\n",
       " 'T107',\n",
       " 'T114',\n",
       " 'T115',\n",
       " 'T128',\n",
       " 'T128A',\n",
       " 'T129',\n",
       " 'T135',\n",
       " 'T138',\n",
       " 'T141',\n",
       " 'T142',\n",
       " 'T143',\n",
       " 'T144',\n",
       " 'T145',\n",
       " 'T146',\n",
       " 'T147',\n",
       " 'T148',\n",
       " 'T149',\n",
       " 'T150',\n",
       " 'T151',\n",
       " 'T152',\n",
       " 'T153',\n",
       " 'T154',\n",
       " 'T155',\n",
       " 'T156',\n",
       " 'T157',\n",
       " 'T158',\n",
       " 'T159',\n",
       " 'T160',\n",
       " 'T161',\n",
       " 'T162',\n",
       " 'T200',\n",
       " 'T200A',\n",
       " 'T200B',\n",
       " 'T206',\n",
       " 'T209',\n",
       " 'T212',\n",
       " 'T215',\n",
       " 'T218',\n",
       " 'T218A',\n",
       " 'T218B',\n",
       " 'T218C',\n",
       " 'T219',\n",
       " 'T220',\n",
       " 'T221',\n",
       " 'T222',\n",
       " 'T223',\n",
       " 'T224',\n",
       " 'T225',\n",
       " 'T226',\n",
       " 'T227',\n",
       " 'T228',\n",
       " 'T229',\n",
       " 'T230',\n",
       " 'T231',\n",
       " 'T232',\n",
       " 'T233',\n",
       " 'T234',\n",
       " 'T235',\n",
       " 'T236',\n",
       " 'T237',\n",
       " 'T238',\n",
       " 'T900',\n",
       " 'T903',\n",
       " 'Station',\n",
       " 'Tmax',\n",
       " 'Tmin',\n",
       " 'Tavg',\n",
       " 'Depart',\n",
       " 'DewPoint',\n",
       " 'WetBulb',\n",
       " 'Heat',\n",
       " 'Cool',\n",
       " 'Sunrise',\n",
       " 'Sunset',\n",
       " 'CodeSum',\n",
       " 'Depth',\n",
       " 'Water1',\n",
       " 'SnowFall',\n",
       " 'PrecipTotal',\n",
       " 'StnPressure',\n",
       " 'SeaLevel',\n",
       " 'ResultSpeed',\n",
       " 'ResultDir',\n",
       " 'AvgSpeed',\n",
       " 'Tavg_int',\n",
       " 'ZIP',\n",
       " '60018,',\n",
       " '60106,',\n",
       " '60605,',\n",
       " '60607,',\n",
       " '60608,',\n",
       " '60609,',\n",
       " '60611,',\n",
       " '60612,',\n",
       " '60613,',\n",
       " '60614,',\n",
       " '60615,',\n",
       " '60617,',\n",
       " '60618,',\n",
       " '60619,',\n",
       " '60620,',\n",
       " '60621,',\n",
       " '60622,',\n",
       " '60623,',\n",
       " '60625,',\n",
       " '60626,',\n",
       " '60628,',\n",
       " '60629,',\n",
       " '60630,',\n",
       " '60631,',\n",
       " '60632,',\n",
       " '60633,',\n",
       " '60634,',\n",
       " '60636,',\n",
       " '60637,',\n",
       " '60638,',\n",
       " '60639,',\n",
       " '60640,',\n",
       " '60641,',\n",
       " '60642,',\n",
       " '60643,',\n",
       " '60645,',\n",
       " '60646,',\n",
       " '60647,',\n",
       " '60649,',\n",
       " '60651,',\n",
       " '60652,',\n",
       " '60654,',\n",
       " '60655,',\n",
       " '60656,',\n",
       " '60659,',\n",
       " '60660,',\n",
       " '60666,',\n",
       " '60707,',\n",
       " '60803,',\n",
       " '60827,',\n",
       " 'IL,',\n",
       " 'NumMosquitos']"
      ]
     },
     "execution_count": 138,
     "metadata": {},
     "output_type": "execute_result"
    }
   ],
   "source": [
    "cols"
   ]
  },
  {
   "cell_type": "code",
   "execution_count": 245,
   "metadata": {},
   "outputs": [
    {
     "data": {
      "text/plain": [
       "array([[ 0.54382588,  0.44495976, -1.07851489,  0.65393747,  0.40927958,\n",
       "         0.19432545,  0.19564955,  0.06314282,  0.76812558,  0.22039078,\n",
       "         0.24494628, -1.48306342, -1.92228924,  0.22039078,  0.82975441,\n",
       "        -0.55123725,  0.09933701,  0.03895466, -0.10177062,  0.05427302]])"
      ]
     },
     "execution_count": 245,
     "metadata": {},
     "output_type": "execute_result"
    }
   ],
   "source": [
    "model6.coef_"
   ]
  },
  {
   "cell_type": "markdown",
   "metadata": {},
   "source": [
    "### Collecting Data on NumMosquitos by Trap"
   ]
  },
  {
   "cell_type": "markdown",
   "metadata": {},
   "source": [
    "The idea here is to collect data on ```NumMosquitos``` that we can then use to make predictions on the same for the test set (where ```NumMosquitos``` is conspicuously absent)."
   ]
  },
  {
   "cell_type": "code",
   "execution_count": 142,
   "metadata": {},
   "outputs": [
    {
     "data": {
      "text/plain": [
       "T900    1868\n",
       "T115    1226\n",
       "T138     603\n",
       "T002     501\n",
       "T003     338\n",
       "T135     336\n",
       "T128     324\n",
       "T011     313\n",
       "T903     306\n",
       "T114     301\n",
       "Name: Trap, dtype: int64"
      ]
     },
     "execution_count": 142,
     "metadata": {},
     "output_type": "execute_result"
    }
   ],
   "source": [
    "train_mosq['Trap'].value_counts().nlargest(10)"
   ]
  },
  {
   "cell_type": "code",
   "execution_count": 210,
   "metadata": {},
   "outputs": [
    {
     "data": {
      "text/plain": [
       "12.853512278697886"
      ]
     },
     "execution_count": 210,
     "metadata": {},
     "output_type": "execute_result"
    }
   ],
   "source": [
    "train_with_dums['NumMosquitos'].mean()"
   ]
  },
  {
   "cell_type": "markdown",
   "metadata": {},
   "source": [
    "We recall here that the average number of mosquitos per observation in the original training set was 13. But we might like to know what the average was outside of our three favored traps."
   ]
  },
  {
   "cell_type": "code",
   "execution_count": 212,
   "metadata": {},
   "outputs": [
    {
     "data": {
      "text/plain": [
       "9.89314606741573"
      ]
     },
     "execution_count": 212,
     "metadata": {},
     "output_type": "execute_result"
    }
   ],
   "source": [
    "train_traps.loc[(train_traps['Trap'] != 'T900') & (train_traps['Trap'] != 'T115') & (train_traps['Trap'] != 'T138')]['NumMosquitos'].mean()"
   ]
  },
  {
   "cell_type": "markdown",
   "metadata": {},
   "source": [
    "#### Trap 900"
   ]
  },
  {
   "cell_type": "code",
   "execution_count": 145,
   "metadata": {},
   "outputs": [
    {
     "data": {
      "text/plain": [
       "49423"
      ]
     },
     "execution_count": 145,
     "metadata": {},
     "output_type": "execute_result"
    }
   ],
   "source": [
    "train_mosq.loc[train_mosq['Trap'] == 'T900', 'NumMosquitos'].sum()"
   ]
  },
  {
   "cell_type": "code",
   "execution_count": 146,
   "metadata": {},
   "outputs": [
    {
     "data": {
      "text/plain": [
       "1467"
      ]
     },
     "execution_count": 146,
     "metadata": {},
     "output_type": "execute_result"
    }
   ],
   "source": [
    "train_mosq.loc[train_mosq['Trap'] == 'T900', 'new_pip'].sum()"
   ]
  },
  {
   "cell_type": "code",
   "execution_count": 149,
   "metadata": {},
   "outputs": [
    {
     "data": {
      "text/plain": [
       "0"
      ]
     },
     "execution_count": 149,
     "metadata": {},
     "output_type": "execute_result"
    }
   ],
   "source": [
    "train_mosq.loc[(train_mosq['Trap'] == 'T900') & (train_mosq['Date'] < '2008'),\n",
    "               'NumMosquitos'].sum()"
   ]
  },
  {
   "cell_type": "markdown",
   "metadata": {},
   "source": [
    "T900 had 0 mosquitos in 2007."
   ]
  },
  {
   "cell_type": "code",
   "execution_count": 150,
   "metadata": {},
   "outputs": [
    {
     "data": {
      "text/plain": [
       "6318"
      ]
     },
     "execution_count": 150,
     "metadata": {},
     "output_type": "execute_result"
    }
   ],
   "source": [
    "train_mosq.loc[(train_mosq['Trap'] == 'T900') & (train_mosq['Date'] < '2010'),\n",
    "               'NumMosquitos'].sum()"
   ]
  },
  {
   "cell_type": "markdown",
   "metadata": {},
   "source": [
    "T900 had 6318 mosquitos in 2009. We might therefore guess that it had 6318 / 2 = 3159 mosquitos in 2008."
   ]
  },
  {
   "cell_type": "code",
   "execution_count": 151,
   "metadata": {},
   "outputs": [
    {
     "data": {
      "text/plain": [
       "17055"
      ]
     },
     "execution_count": 151,
     "metadata": {},
     "output_type": "execute_result"
    }
   ],
   "source": [
    "train_mosq.loc[(train_mosq['Trap'] == 'T900') & (train_mosq['Date'] < '2012'),\n",
    "               'NumMosquitos'].sum()"
   ]
  },
  {
   "cell_type": "markdown",
   "metadata": {},
   "source": [
    "T900 had 10737 mosquitos in 2011, and so 32368 mosquitos in 2013. We might therefore guess that it had (10737 + 6318) / 2 = 8527 mosquitos in 2010, that it had (32368 + 10737) / 2 = 21552 mosquitos in 2012, and that it had 32368 mosquitos in 2014."
   ]
  },
  {
   "cell_type": "code",
   "execution_count": 159,
   "metadata": {},
   "outputs": [
    {
     "data": {
      "text/plain": [
       "60666,    1868\n",
       "Name: ZIP, dtype: int64"
      ]
     },
     "execution_count": 159,
     "metadata": {},
     "output_type": "execute_result"
    }
   ],
   "source": [
    "train_mosq.loc[train_mosq['Trap'] == 'T900', 'ZIP'].value_counts()"
   ]
  },
  {
   "cell_type": "code",
   "execution_count": 348,
   "metadata": {},
   "outputs": [],
   "source": [
    "test_weath['NumMosquitos'] = 10"
   ]
  },
  {
   "cell_type": "code",
   "execution_count": 248,
   "metadata": {},
   "outputs": [
    {
     "data": {
      "text/plain": [
       "322"
      ]
     },
     "execution_count": 248,
     "metadata": {},
     "output_type": "execute_result"
    }
   ],
   "source": [
    "test_weath.loc[(test_weath['Trap'] == 'T900') & (test_weath['Date'] < '2009')].shape[0]"
   ]
  },
  {
   "cell_type": "code",
   "execution_count": 349,
   "metadata": {},
   "outputs": [],
   "source": [
    "test_weath['NumMosquitos'] = np.where((test_weath['Trap'] == 'T900') & (test_weath['Date'] < '2009'), 3159 / 322, 10)"
   ]
  },
  {
   "cell_type": "code",
   "execution_count": 250,
   "metadata": {},
   "outputs": [
    {
     "data": {
      "text/plain": [
       "464"
      ]
     },
     "execution_count": 250,
     "metadata": {},
     "output_type": "execute_result"
    }
   ],
   "source": [
    "test_weath.loc[(test_weath['Trap'] == 'T900') & (test_weath['Date'] < '2011') & (test_weath['Date'] > '2009')].shape[0]"
   ]
  },
  {
   "cell_type": "markdown",
   "metadata": {},
   "source": [
    "### Mistake!\n",
    "#### Begin Interlude"
   ]
  },
  {
   "cell_type": "markdown",
   "metadata": {},
   "source": [
    "I just realized (12 June) that I made a mistake in preparing the test set at this point. The next cell after this interlude overwrites the values of ```NumMosquitos``` that I just entered two cells above. I'm going to correct this here and now. Of course, the model may fare worse. (But I have to know.)"
   ]
  },
  {
   "cell_type": "code",
   "execution_count": 390,
   "metadata": {},
   "outputs": [],
   "source": [
    "test_2008 = test_weath.loc[test_weath['Date'] < '2009', :]"
   ]
  },
  {
   "cell_type": "code",
   "execution_count": 387,
   "metadata": {},
   "outputs": [],
   "source": [
    "test_2010 = test_weath.loc[(test_weath['Date'] < '2011') & (test_weath['Date'] > '2009'), :]"
   ]
  },
  {
   "cell_type": "code",
   "execution_count": 388,
   "metadata": {},
   "outputs": [],
   "source": [
    "test_2012 = test_weath.loc[(test_weath['Date'] < '2013') & (test_weath['Date'] > '2011'), :]"
   ]
  },
  {
   "cell_type": "code",
   "execution_count": 389,
   "metadata": {},
   "outputs": [],
   "source": [
    "test_2014 = test_weath.loc[test_weath['Date'] > '2013', :]"
   ]
  },
  {
   "cell_type": "code",
   "execution_count": 391,
   "metadata": {},
   "outputs": [],
   "source": [
    "dict_2008 = {'T900': 3159 / 322, 'T115': 23478 / 209, 'T138': 11546 / 203}"
   ]
  },
  {
   "cell_type": "code",
   "execution_count": 392,
   "metadata": {},
   "outputs": [],
   "source": [
    "dict_2010 = {'T900': 8527 / 464, 'T115': 1012 / 240, 'T138': 168 / 242}"
   ]
  },
  {
   "cell_type": "code",
   "execution_count": 393,
   "metadata": {},
   "outputs": [],
   "source": [
    "dict_2012 = {'T900': 21552 / 372, 'T115': 3035 / 177, 'T138': 260 / 176}"
   ]
  },
  {
   "cell_type": "code",
   "execution_count": 394,
   "metadata": {},
   "outputs": [],
   "source": [
    "dict_2014 = {'T900': 32368 / 310, 'T115': 4576 / 150, 'T138': 279 / 147}"
   ]
  },
  {
   "cell_type": "code",
   "execution_count": 396,
   "metadata": {},
   "outputs": [
    {
     "name": "stderr",
     "output_type": "stream",
     "text": [
      "/Users/gadamico/anaconda3/lib/python3.6/site-packages/pandas/core/generic.py:4619: SettingWithCopyWarning: \n",
      "A value is trying to be set on a copy of a slice from a DataFrame\n",
      "\n",
      "See the caveats in the documentation: http://pandas.pydata.org/pandas-docs/stable/indexing.html#indexing-view-versus-copy\n",
      "  self._update_inplace(new_data)\n"
     ]
    }
   ],
   "source": [
    "test_2008['Trap'].replace(dict_2008, inplace = True)"
   ]
  },
  {
   "cell_type": "code",
   "execution_count": 397,
   "metadata": {},
   "outputs": [
    {
     "name": "stderr",
     "output_type": "stream",
     "text": [
      "/Users/gadamico/anaconda3/lib/python3.6/site-packages/pandas/core/generic.py:4619: SettingWithCopyWarning: \n",
      "A value is trying to be set on a copy of a slice from a DataFrame\n",
      "\n",
      "See the caveats in the documentation: http://pandas.pydata.org/pandas-docs/stable/indexing.html#indexing-view-versus-copy\n",
      "  self._update_inplace(new_data)\n"
     ]
    }
   ],
   "source": [
    "test_2010['Trap'].replace(dict_2010, inplace = True)"
   ]
  },
  {
   "cell_type": "code",
   "execution_count": 398,
   "metadata": {},
   "outputs": [
    {
     "name": "stderr",
     "output_type": "stream",
     "text": [
      "/Users/gadamico/anaconda3/lib/python3.6/site-packages/pandas/core/generic.py:4619: SettingWithCopyWarning: \n",
      "A value is trying to be set on a copy of a slice from a DataFrame\n",
      "\n",
      "See the caveats in the documentation: http://pandas.pydata.org/pandas-docs/stable/indexing.html#indexing-view-versus-copy\n",
      "  self._update_inplace(new_data)\n"
     ]
    }
   ],
   "source": [
    "test_2012['Trap'].replace(dict_2012, inplace = True)"
   ]
  },
  {
   "cell_type": "code",
   "execution_count": 399,
   "metadata": {},
   "outputs": [
    {
     "name": "stderr",
     "output_type": "stream",
     "text": [
      "/Users/gadamico/anaconda3/lib/python3.6/site-packages/pandas/core/generic.py:4619: SettingWithCopyWarning: \n",
      "A value is trying to be set on a copy of a slice from a DataFrame\n",
      "\n",
      "See the caveats in the documentation: http://pandas.pydata.org/pandas-docs/stable/indexing.html#indexing-view-versus-copy\n",
      "  self._update_inplace(new_data)\n"
     ]
    }
   ],
   "source": [
    "test_2014['Trap'].replace(dict_2014, inplace = True)"
   ]
  },
  {
   "cell_type": "code",
   "execution_count": 400,
   "metadata": {},
   "outputs": [],
   "source": [
    "test_weath = pd.concat([test_2008, test_2010, test_2012, test_2014])"
   ]
  },
  {
   "cell_type": "markdown",
   "metadata": {},
   "source": [
    "#### End Interlude"
   ]
  },
  {
   "cell_type": "code",
   "execution_count": 350,
   "metadata": {},
   "outputs": [],
   "source": [
    "test_weath['NumMosquitos'] = np.where((test_weath['Trap'] == 'T900') & (test_weath['Date'] < '2011') & (test_weath['Date'] > '2009'), 8527 / 464, 10)"
   ]
  },
  {
   "cell_type": "code",
   "execution_count": 252,
   "metadata": {},
   "outputs": [
    {
     "data": {
      "text/plain": [
       "372"
      ]
     },
     "execution_count": 252,
     "metadata": {},
     "output_type": "execute_result"
    }
   ],
   "source": [
    "test_weath.loc[(test_weath['Trap'] == 'T900') & (test_weath['Date'] < '2013') & (test_weath['Date'] > '2011')].shape[0]"
   ]
  },
  {
   "cell_type": "code",
   "execution_count": 351,
   "metadata": {},
   "outputs": [],
   "source": [
    "test_weath['NumMosquitos'] = np.where((test_weath['Trap'] == 'T900') & (test_weath['Date'] < '2013') & (test_weath['Date'] > '2011'), 21552 / 372, 10)"
   ]
  },
  {
   "cell_type": "code",
   "execution_count": 254,
   "metadata": {},
   "outputs": [
    {
     "data": {
      "text/plain": [
       "310"
      ]
     },
     "execution_count": 254,
     "metadata": {},
     "output_type": "execute_result"
    }
   ],
   "source": [
    "test_weath.loc[(test_weath['Trap'] == 'T900') & (test_weath['Date'] > '2013')].shape[0]"
   ]
  },
  {
   "cell_type": "code",
   "execution_count": 352,
   "metadata": {},
   "outputs": [],
   "source": [
    "test_weath['NumMosquitos'] = np.where((test_weath['Trap'] == 'T900') & (test_weath['Date'] > '2013'), 32368 / 310, 10)"
   ]
  },
  {
   "cell_type": "markdown",
   "metadata": {},
   "source": [
    "#### Trap 115"
   ]
  },
  {
   "cell_type": "code",
   "execution_count": 147,
   "metadata": {},
   "outputs": [
    {
     "data": {
      "text/plain": [
       "53028"
      ]
     },
     "execution_count": 147,
     "metadata": {},
     "output_type": "execute_result"
    }
   ],
   "source": [
    "train_mosq.loc[train_mosq['Trap'] == 'T115', 'NumMosquitos'].sum()"
   ]
  },
  {
   "cell_type": "code",
   "execution_count": 148,
   "metadata": {},
   "outputs": [
    {
     "data": {
      "text/plain": [
       "1175"
      ]
     },
     "execution_count": 148,
     "metadata": {},
     "output_type": "execute_result"
    }
   ],
   "source": [
    "train_mosq.loc[train_mosq['Trap'] == 'T115', 'new_pip'].sum()"
   ]
  },
  {
   "cell_type": "code",
   "execution_count": 155,
   "metadata": {},
   "outputs": [
    {
     "data": {
      "text/plain": [
       "46428"
      ]
     },
     "execution_count": 155,
     "metadata": {},
     "output_type": "execute_result"
    }
   ],
   "source": [
    "train_mosq.loc[(train_mosq['Trap'] == 'T115') & (train_mosq['Date'] < '2008'),\n",
    "               'NumMosquitos'].sum()"
   ]
  },
  {
   "cell_type": "markdown",
   "metadata": {},
   "source": [
    "T115 had 46428 mosquitos in 2007."
   ]
  },
  {
   "cell_type": "code",
   "execution_count": 165,
   "metadata": {},
   "outputs": [
    {
     "data": {
      "text/plain": [
       "46957"
      ]
     },
     "execution_count": 165,
     "metadata": {},
     "output_type": "execute_result"
    }
   ],
   "source": [
    "train_mosq.loc[(train_mosq['Trap'] == 'T115') & (train_mosq['Date'] < '2010'),\n",
    "               'NumMosquitos'].sum()"
   ]
  },
  {
   "cell_type": "markdown",
   "metadata": {},
   "source": [
    "T115 had 529 mosquitos in 2009. We might therefore guess that it had (46428 + 529) / 2 = 23478 mosquitos in 2008."
   ]
  },
  {
   "cell_type": "code",
   "execution_count": 166,
   "metadata": {},
   "outputs": [
    {
     "data": {
      "text/plain": [
       "48452"
      ]
     },
     "execution_count": 166,
     "metadata": {},
     "output_type": "execute_result"
    }
   ],
   "source": [
    "train_mosq.loc[(train_mosq['Trap'] == 'T115') & (train_mosq['Date'] < '2012'),\n",
    "               'NumMosquitos'].sum()"
   ]
  },
  {
   "cell_type": "markdown",
   "metadata": {},
   "source": [
    "T115 had 1495 mosquitos in 2011, and so 4576 mosquitos in 2013. We might therefore guess that it had (529 + 1495) / 2 = 1012 mosquitos in 2010, that it had (1495 + 4576) / 2 = 3035 mosquitos in 2012, and that it had 4576 mosquitos in 2014."
   ]
  },
  {
   "cell_type": "code",
   "execution_count": 158,
   "metadata": {},
   "outputs": [
    {
     "data": {
      "text/plain": [
       "IL,    1226\n",
       "Name: ZIP, dtype: int64"
      ]
     },
     "execution_count": 158,
     "metadata": {},
     "output_type": "execute_result"
    }
   ],
   "source": [
    "train_mosq.loc[train_mosq['Trap'] == 'T115', 'ZIP'].value_counts()"
   ]
  },
  {
   "cell_type": "code",
   "execution_count": 164,
   "metadata": {},
   "outputs": [
    {
     "data": {
      "text/plain": [
       "1200  S DOTY AVE, Chicago, IL    1226\n",
       "Name: AddressNumberAndStreet, dtype: int64"
      ]
     },
     "execution_count": 164,
     "metadata": {},
     "output_type": "execute_result"
    }
   ],
   "source": [
    "train_mosq.loc[train_mosq['Trap'] == 'T115', 'AddressNumberAndStreet'].value_counts()"
   ]
  },
  {
   "cell_type": "markdown",
   "metadata": {},
   "source": [
    "Perhaps the ZIP code is missing here because this address doesn't seem to exist. A look online suggests that the proper ZIP code would be 60633."
   ]
  },
  {
   "cell_type": "code",
   "execution_count": 170,
   "metadata": {},
   "outputs": [
    {
     "data": {
      "text/plain": [
       "0.03044564161747478"
      ]
     },
     "execution_count": 170,
     "metadata": {},
     "output_type": "execute_result"
    }
   ],
   "source": [
    "train_mosq.corr()['WnvPresent']['60633,']"
   ]
  },
  {
   "cell_type": "code",
   "execution_count": 412,
   "metadata": {},
   "outputs": [],
   "source": [
    "train_mosq.loc[train_mosq['Trap'] == 'T115', 'ZIP'] = '60633,'\n",
    "\n",
    "test_weath.loc[test_weath['Trap'] == 'T115', 'ZIP'] = '60633,'"
   ]
  },
  {
   "cell_type": "code",
   "execution_count": 257,
   "metadata": {},
   "outputs": [
    {
     "data": {
      "text/plain": [
       "209"
      ]
     },
     "execution_count": 257,
     "metadata": {},
     "output_type": "execute_result"
    }
   ],
   "source": [
    "test_weath.loc[(test_weath['Trap'] == 'T115') & (test_weath['Date'] < '2009')].shape[0]"
   ]
  },
  {
   "cell_type": "code",
   "execution_count": 354,
   "metadata": {},
   "outputs": [],
   "source": [
    "test_weath['NumMosquitos'] = np.where((test_weath['Trap'] == 'T115') & (test_weath['Date'] < '2009'), 23478 / 209, 10)"
   ]
  },
  {
   "cell_type": "code",
   "execution_count": 259,
   "metadata": {},
   "outputs": [
    {
     "data": {
      "text/plain": [
       "240"
      ]
     },
     "execution_count": 259,
     "metadata": {},
     "output_type": "execute_result"
    }
   ],
   "source": [
    "test_weath.loc[(test_weath['Trap'] == 'T115') & (test_weath['Date'] < '2011') & (test_weath['Date'] > '2009')].shape[0]"
   ]
  },
  {
   "cell_type": "code",
   "execution_count": 355,
   "metadata": {},
   "outputs": [],
   "source": [
    "test_weath['NumMosquitos'] = np.where((test_weath['Trap'] == 'T115') & (test_weath['Date'] < '2011') & (test_weath['Date'] > '2009'), 1012 / 240, 10)"
   ]
  },
  {
   "cell_type": "code",
   "execution_count": 261,
   "metadata": {},
   "outputs": [
    {
     "data": {
      "text/plain": [
       "177"
      ]
     },
     "execution_count": 261,
     "metadata": {},
     "output_type": "execute_result"
    }
   ],
   "source": [
    "test_weath.loc[(test_weath['Trap'] == 'T115') & (test_weath['Date'] < '2013') & (test_weath['Date'] > '2011')].shape[0]"
   ]
  },
  {
   "cell_type": "code",
   "execution_count": 356,
   "metadata": {},
   "outputs": [],
   "source": [
    "test_weath['NumMosquitos'] = np.where((test_weath['Trap'] == 'T115') & (test_weath['Date'] < '2013') & (test_weath['Date'] > '2011'), 3035 / 177, 10)"
   ]
  },
  {
   "cell_type": "code",
   "execution_count": 263,
   "metadata": {},
   "outputs": [
    {
     "data": {
      "text/plain": [
       "150"
      ]
     },
     "execution_count": 263,
     "metadata": {},
     "output_type": "execute_result"
    }
   ],
   "source": [
    "test_weath.loc[(test_weath['Trap'] == 'T115') & (test_weath['Date'] > '2013')].shape[0]"
   ]
  },
  {
   "cell_type": "code",
   "execution_count": 357,
   "metadata": {},
   "outputs": [],
   "source": [
    "test_weath['NumMosquitos'] = np.where((test_weath['Trap'] == 'T115') & (test_weath['Date'] > '2013'), 4576 / 150, 10)"
   ]
  },
  {
   "cell_type": "markdown",
   "metadata": {},
   "source": [
    "#### Trap 138"
   ]
  },
  {
   "cell_type": "code",
   "execution_count": 179,
   "metadata": {},
   "outputs": [
    {
     "data": {
      "text/plain": [
       "23613"
      ]
     },
     "execution_count": 179,
     "metadata": {},
     "output_type": "execute_result"
    }
   ],
   "source": [
    "train_mosq.loc[train_mosq['Trap'] == 'T138', 'NumMosquitos'].sum()"
   ]
  },
  {
   "cell_type": "code",
   "execution_count": 180,
   "metadata": {},
   "outputs": [
    {
     "data": {
      "text/plain": [
       "550"
      ]
     },
     "execution_count": 180,
     "metadata": {},
     "output_type": "execute_result"
    }
   ],
   "source": [
    "train_mosq.loc[train_mosq['Trap'] == 'T138', 'new_pip'].sum()"
   ]
  },
  {
   "cell_type": "code",
   "execution_count": 181,
   "metadata": {},
   "outputs": [
    {
     "data": {
      "text/plain": [
       "22998"
      ]
     },
     "execution_count": 181,
     "metadata": {},
     "output_type": "execute_result"
    }
   ],
   "source": [
    "train_mosq.loc[(train_mosq['Trap'] == 'T138') & (train_mosq['Date'] < '2008'),\n",
    "               'NumMosquitos'].sum()"
   ]
  },
  {
   "cell_type": "markdown",
   "metadata": {},
   "source": [
    "T138 had 22998 mosquitos in 2007."
   ]
  },
  {
   "cell_type": "code",
   "execution_count": 182,
   "metadata": {},
   "outputs": [
    {
     "data": {
      "text/plain": [
       "23092"
      ]
     },
     "execution_count": 182,
     "metadata": {},
     "output_type": "execute_result"
    }
   ],
   "source": [
    "train_mosq.loc[(train_mosq['Trap'] == 'T138') & (train_mosq['Date'] < '2010'),\n",
    "               'NumMosquitos'].sum()"
   ]
  },
  {
   "cell_type": "markdown",
   "metadata": {},
   "source": [
    "T138 had 94 mosquitos in 2009. We might therefore guess that it had (22998 + 94) / 2 = 11546 mosquitos in 2008."
   ]
  },
  {
   "cell_type": "code",
   "execution_count": 229,
   "metadata": {},
   "outputs": [
    {
     "data": {
      "text/plain": [
       "23334"
      ]
     },
     "execution_count": 229,
     "metadata": {},
     "output_type": "execute_result"
    }
   ],
   "source": [
    "train_mosq.loc[(train_mosq['Trap'] == 'T138') & (train_mosq['Date'] < '2012'),\n",
    "               'NumMosquitos'].sum()"
   ]
  },
  {
   "cell_type": "markdown",
   "metadata": {},
   "source": [
    "T138 had 242 mosquitos in 2011, and so therefore 279 mosquitos in 2013. We might therefore guess that it had (94 + 242) / 2 = 168 mosquitos in 2010, that it had (242 + 279) / 2 = 260 mosquitos in 2012, and that it had 279 mosquitos in 2014."
   ]
  },
  {
   "cell_type": "code",
   "execution_count": 230,
   "metadata": {},
   "outputs": [
    {
     "data": {
      "text/plain": [
       "IL,    603\n",
       "Name: ZIP, dtype: int64"
      ]
     },
     "execution_count": 230,
     "metadata": {},
     "output_type": "execute_result"
    }
   ],
   "source": [
    "train_mosq.loc[train_mosq['Trap'] == 'T138', 'ZIP'].value_counts()"
   ]
  },
  {
   "cell_type": "code",
   "execution_count": 231,
   "metadata": {},
   "outputs": [
    {
     "data": {
      "text/plain": [
       "1000  S STONY ISLAND AVE, Chicago, IL    603\n",
       "Name: AddressNumberAndStreet, dtype: int64"
      ]
     },
     "execution_count": 231,
     "metadata": {},
     "output_type": "execute_result"
    }
   ],
   "source": [
    "train_mosq.loc[train_mosq['Trap'] == 'T138', 'AddressNumberAndStreet'].value_counts()"
   ]
  },
  {
   "cell_type": "markdown",
   "metadata": {},
   "source": [
    "Again this seems to be a nonexistent address. The proper ZIP code for this street, however, seems to be 60637."
   ]
  },
  {
   "cell_type": "code",
   "execution_count": 413,
   "metadata": {},
   "outputs": [],
   "source": [
    "train_mosq.loc[train_mosq['Trap'] == 'T138', 'ZIP'] = '60637,'\n",
    "\n",
    "test_weath.loc[test_zip['Trap'] == 'T138', 'ZIP'] = '60637,'"
   ]
  },
  {
   "cell_type": "code",
   "execution_count": 266,
   "metadata": {},
   "outputs": [
    {
     "data": {
      "text/plain": [
       "203"
      ]
     },
     "execution_count": 266,
     "metadata": {},
     "output_type": "execute_result"
    }
   ],
   "source": [
    "test_weath.loc[(test_weath['Trap'] == 'T138') & (test_weath['Date'] < '2009')].shape[0]"
   ]
  },
  {
   "cell_type": "code",
   "execution_count": 359,
   "metadata": {},
   "outputs": [],
   "source": [
    "test_weath['NumMosquitos'] = np.where((test_weath['Trap'] == 'T138') & (test_weath['Date'] < '2009'), 11546 / 203, 10)"
   ]
  },
  {
   "cell_type": "code",
   "execution_count": 268,
   "metadata": {},
   "outputs": [
    {
     "data": {
      "text/plain": [
       "242"
      ]
     },
     "execution_count": 268,
     "metadata": {},
     "output_type": "execute_result"
    }
   ],
   "source": [
    "test_weath.loc[(test_weath['Trap'] == 'T138') & (test_weath['Date'] < '2011') & (test_weath['Date'] > '2009')].shape[0]"
   ]
  },
  {
   "cell_type": "code",
   "execution_count": 360,
   "metadata": {},
   "outputs": [],
   "source": [
    "test_weath['NumMosquitos'] = np.where((test_weath['Trap'] == 'T138') & (test_weath['Date'] < '2011') & (test_weath['Date'] > '2009'), 168 / 242, 10)"
   ]
  },
  {
   "cell_type": "code",
   "execution_count": 270,
   "metadata": {},
   "outputs": [
    {
     "data": {
      "text/plain": [
       "176"
      ]
     },
     "execution_count": 270,
     "metadata": {},
     "output_type": "execute_result"
    }
   ],
   "source": [
    "test_weath.loc[(test_weath['Trap'] == 'T138') & (test_weath['Date'] < '2013') & (test_weath['Date'] > '2011')].shape[0]"
   ]
  },
  {
   "cell_type": "code",
   "execution_count": 361,
   "metadata": {},
   "outputs": [],
   "source": [
    "test_weath['NumMosquitos'] = np.where((test_weath['Trap'] == 'T138') & (test_weath['Date'] < '2013') & (test_weath['Date'] > '2011'), 260 / 176, 10)"
   ]
  },
  {
   "cell_type": "code",
   "execution_count": 272,
   "metadata": {},
   "outputs": [
    {
     "data": {
      "text/plain": [
       "147"
      ]
     },
     "execution_count": 272,
     "metadata": {},
     "output_type": "execute_result"
    }
   ],
   "source": [
    "test_weath.loc[(test_weath['Trap'] == 'T138') & (test_weath['Date'] > '2013')].shape[0]"
   ]
  },
  {
   "cell_type": "code",
   "execution_count": 362,
   "metadata": {},
   "outputs": [],
   "source": [
    "test_weath['NumMosquitos'] = np.where((test_weath['Trap'] == 'T138') & (test_weath['Date'] > '2013'), 279 / 147, 10)"
   ]
  },
  {
   "cell_type": "markdown",
   "metadata": {},
   "source": [
    "I added ZIP codes 60633 and 60637 to our model."
   ]
  },
  {
   "cell_type": "markdown",
   "metadata": {},
   "source": [
    "### Preparing the Test Set"
   ]
  },
  {
   "cell_type": "code",
   "execution_count": 414,
   "metadata": {},
   "outputs": [],
   "source": [
    "zip_dums_t = pd.get_dummies(test_weath['ZIP'])"
   ]
  },
  {
   "cell_type": "code",
   "execution_count": 415,
   "metadata": {},
   "outputs": [],
   "source": [
    "test_zip = pd.concat([test_weath, zip_dums], axis = 1)"
   ]
  },
  {
   "cell_type": "code",
   "execution_count": 416,
   "metadata": {},
   "outputs": [],
   "source": [
    "test_zip['LatRound'] = round(test_zip['Latitude'], 2)\n",
    "\n",
    "test_zip['LongRound'] = round(test_zip['Longitude'], 2)\n",
    "\n",
    "lat_dums = pd.get_dummies(test_zip['LatRound'])\n",
    "\n",
    "long_dums = pd.get_dummies(test_zip['LongRound'])\n",
    "\n",
    "test_new_coords = pd.concat([test_zip, lat_dums, long_dums], axis = 1)\n",
    "\n",
    "\n",
    "test_loc = []\n",
    "for i in range(test_new_coords.shape[0]):\n",
    "    test_loc.append((test_new_coords['LatRound'][i], test_new_coords['LongRound'][i]))\n",
    "\n",
    "test_new_coords['loc'] = test_loc\n",
    "\n",
    "test_loc = set(test_loc)\n",
    "\n",
    "intersect = test_loc.intersection(spray_coords)\n",
    "\n",
    "test_new_coords['Spray?'] = 0"
   ]
  },
  {
   "cell_type": "code",
   "execution_count": 417,
   "metadata": {},
   "outputs": [],
   "source": [
    "sprays = []\n",
    "for i in range(test_new_coords.shape[0]):\n",
    "    if (test_new_coords['LatRound'][i], test_new_coords['LongRound'][i]) in intersect:\n",
    "        sprays.append(1)\n",
    "    else:\n",
    "        sprays.append(0)\n",
    "\n",
    "test_new_coords['Spray?'] = sprays"
   ]
  },
  {
   "cell_type": "code",
   "execution_count": 418,
   "metadata": {},
   "outputs": [],
   "source": [
    "cols = ['60106,', '60609,', '60617,', '60631,', '60633,', '60634,', '60637,', '60643,', '60656,', '60666,',\n",
    "       'Spray?', 'T115', 'T138', 'T900', 'new_pip', 'new_rest', 'Tmin', 'Tmax', 'Tavg',\n",
    "       'NumMosquitos']"
   ]
  },
  {
   "cell_type": "code",
   "execution_count": 419,
   "metadata": {},
   "outputs": [],
   "source": [
    "test_new_mdl = test_new_coords[cols]"
   ]
  },
  {
   "cell_type": "code",
   "execution_count": 420,
   "metadata": {},
   "outputs": [],
   "source": [
    "mdl6_preds = model6.predict(test_new_mdl)"
   ]
  },
  {
   "cell_type": "code",
   "execution_count": 421,
   "metadata": {},
   "outputs": [],
   "source": [
    "log_4_df = pd.DataFrame(mdl6_preds, columns = ['WnvPresent'])"
   ]
  },
  {
   "cell_type": "code",
   "execution_count": 422,
   "metadata": {},
   "outputs": [],
   "source": [
    "test_sub = pd.concat([test_new_coords, log_4_df], axis = 1)"
   ]
  },
  {
   "cell_type": "code",
   "execution_count": 427,
   "metadata": {},
   "outputs": [
    {
     "data": {
      "text/plain": [
       "60631,    1570\n",
       "60656,    1416\n",
       "60609,     767\n",
       "60634,     757\n",
       "IL,        707\n",
       "60643,     514\n",
       "60638,     408\n",
       "60641,     354\n",
       "60666,     348\n",
       "60608,     306\n",
       "60633,     276\n",
       "60618,     253\n",
       "60637,     248\n",
       "60646,     220\n",
       "60651,     215\n",
       "60630,     211\n",
       "60652,     204\n",
       "60623,     204\n",
       "60612,     193\n",
       "60619,     184\n",
       "60629,     183\n",
       "60639,     177\n",
       "60106,     162\n",
       "60660,     146\n",
       "60707,     144\n",
       "60614,     105\n",
       "60622,     105\n",
       "60607,     103\n",
       "60632,     102\n",
       "60636,     102\n",
       "60655,     102\n",
       "60620,      95\n",
       "60659,      80\n",
       "60647,      71\n",
       "60626,      70\n",
       "60628,      51\n",
       "60605,      51\n",
       "60803,      51\n",
       "60827,      51\n",
       "60615,      51\n",
       "60649,      51\n",
       "60621,      51\n",
       "60613,      35\n",
       "60018,      35\n",
       "60625,      35\n",
       "60654,      35\n",
       "60645,      35\n",
       "60642,      35\n",
       "60611,      35\n",
       "60640,      35\n",
       "Name: ZIP, dtype: int64"
      ]
     },
     "execution_count": 427,
     "metadata": {},
     "output_type": "execute_result"
    }
   ],
   "source": [
    "test_sub.loc[test_sub['WnvPresent'] == 1, 'ZIP'].value_counts()"
   ]
  },
  {
   "cell_type": "code",
   "execution_count": 457,
   "metadata": {},
   "outputs": [],
   "source": [
    "mdlpreds = pd.DataFrame(test_sub.loc[test_sub['WnvPresent'] == 1, 'ZIP'].value_counts())"
   ]
  },
  {
   "cell_type": "code",
   "execution_count": 461,
   "metadata": {},
   "outputs": [],
   "source": [
    "mdlpreds.reset_index(inplace = True)"
   ]
  },
  {
   "cell_type": "code",
   "execution_count": 462,
   "metadata": {},
   "outputs": [],
   "source": [
    "mdlpreds.columns = ['ZIP', 'Cases']"
   ]
  },
  {
   "cell_type": "code",
   "execution_count": 467,
   "metadata": {},
   "outputs": [],
   "source": [
    "mdlpreds.drop(4, inplace = True)"
   ]
  },
  {
   "cell_type": "code",
   "execution_count": 472,
   "metadata": {},
   "outputs": [],
   "source": [
    "mdlpreds['ZIP'] = mdlpreds['ZIP'].map(lambda x: x.replace(',', ''))"
   ]
  },
  {
   "cell_type": "code",
   "execution_count": 473,
   "metadata": {},
   "outputs": [],
   "source": [
    "mdlpreds.to_csv('Inputs/modelPredictsAllZIP.csv')"
   ]
  },
  {
   "cell_type": "code",
   "execution_count": 423,
   "metadata": {},
   "outputs": [],
   "source": [
    "preds_zips = test_sub[['60106,', '60609,', '60617,', '60631,', '60633,', '60634,', '60637,',\n",
    "         '60643,', '60656,', '60666,', 'WnvPresent']]"
   ]
  },
  {
   "cell_type": "code",
   "execution_count": 375,
   "metadata": {},
   "outputs": [
    {
     "data": {
      "text/plain": [
       "60106,          162\n",
       "60609,          767\n",
       "60617,            0\n",
       "60631,         1570\n",
       "60633,          276\n",
       "60634,          757\n",
       "60637,          248\n",
       "60643,          514\n",
       "60656,         1416\n",
       "60666,          348\n",
       "WnvPresent    11739\n",
       "dtype: int64"
      ]
     },
     "execution_count": 375,
     "metadata": {},
     "output_type": "execute_result"
    }
   ],
   "source": [
    "preds_zips.loc[preds_zips['WnvPresent'] == 1].sum()"
   ]
  },
  {
   "cell_type": "code",
   "execution_count": 424,
   "metadata": {},
   "outputs": [
    {
     "data": {
      "text/plain": [
       "60106,          162\n",
       "60609,          767\n",
       "60617,            0\n",
       "60631,         1570\n",
       "60633,          276\n",
       "60634,          757\n",
       "60637,          248\n",
       "60643,          514\n",
       "60656,         1416\n",
       "60666,          348\n",
       "WnvPresent    11739\n",
       "dtype: int64"
      ]
     },
     "execution_count": 424,
     "metadata": {},
     "output_type": "execute_result"
    }
   ],
   "source": [
    "# second try\n",
    "preds_zips.loc[preds_zips['WnvPresent'] == 1].sum()"
   ]
  },
  {
   "cell_type": "code",
   "execution_count": 382,
   "metadata": {},
   "outputs": [
    {
     "data": {
      "text/html": [
       "<div>\n",
       "<style scoped>\n",
       "    .dataframe tbody tr th:only-of-type {\n",
       "        vertical-align: middle;\n",
       "    }\n",
       "\n",
       "    .dataframe tbody tr th {\n",
       "        vertical-align: top;\n",
       "    }\n",
       "\n",
       "    .dataframe thead th {\n",
       "        text-align: right;\n",
       "    }\n",
       "</style>\n",
       "<table border=\"1\" class=\"dataframe\">\n",
       "  <thead>\n",
       "    <tr style=\"text-align: right;\">\n",
       "      <th></th>\n",
       "      <th>ZIP</th>\n",
       "      <th>WN_Cases_Predicted</th>\n",
       "    </tr>\n",
       "  </thead>\n",
       "  <tbody>\n",
       "    <tr>\n",
       "      <th>0</th>\n",
       "      <td>60106</td>\n",
       "      <td>162</td>\n",
       "    </tr>\n",
       "    <tr>\n",
       "      <th>1</th>\n",
       "      <td>60609</td>\n",
       "      <td>767</td>\n",
       "    </tr>\n",
       "    <tr>\n",
       "      <th>2</th>\n",
       "      <td>60631</td>\n",
       "      <td>1570</td>\n",
       "    </tr>\n",
       "    <tr>\n",
       "      <th>3</th>\n",
       "      <td>60633</td>\n",
       "      <td>276</td>\n",
       "    </tr>\n",
       "    <tr>\n",
       "      <th>4</th>\n",
       "      <td>60634</td>\n",
       "      <td>757</td>\n",
       "    </tr>\n",
       "    <tr>\n",
       "      <th>5</th>\n",
       "      <td>60637</td>\n",
       "      <td>248</td>\n",
       "    </tr>\n",
       "    <tr>\n",
       "      <th>6</th>\n",
       "      <td>60643</td>\n",
       "      <td>514</td>\n",
       "    </tr>\n",
       "    <tr>\n",
       "      <th>7</th>\n",
       "      <td>60656</td>\n",
       "      <td>1416</td>\n",
       "    </tr>\n",
       "    <tr>\n",
       "      <th>8</th>\n",
       "      <td>60666</td>\n",
       "      <td>348</td>\n",
       "    </tr>\n",
       "  </tbody>\n",
       "</table>\n",
       "</div>"
      ],
      "text/plain": [
       "     ZIP  WN_Cases_Predicted\n",
       "0  60106                 162\n",
       "1  60609                 767\n",
       "2  60631                1570\n",
       "3  60633                 276\n",
       "4  60634                 757\n",
       "5  60637                 248\n",
       "6  60643                 514\n",
       "7  60656                1416\n",
       "8  60666                 348"
      ]
     },
     "execution_count": 382,
     "metadata": {},
     "output_type": "execute_result"
    }
   ],
   "source": [
    "predsByZIP = pd.DataFrame([[60106, 162], [60609, 767], [60631, 1570], [60633, 276],\n",
    "                          [60634, 757], [60637, 248], [60643, 514], [60656, 1416],\n",
    "                           [60666, 348]], columns = ['ZIP', 'WN_Cases_Predicted'])\n",
    "predsByZIP"
   ]
  },
  {
   "cell_type": "code",
   "execution_count": 383,
   "metadata": {},
   "outputs": [],
   "source": [
    "predsByZIP.to_csv('Inputs/modelPredictsByZIP.csv')"
   ]
  },
  {
   "cell_type": "code",
   "execution_count": 287,
   "metadata": {},
   "outputs": [],
   "source": [
    "test_cols = [col for col in test_sub.columns if (col == 'Id') | (col == 'WnvPresent')]\n",
    "\n",
    "test_submission = test_sub[test_cols]\n",
    "\n",
    "test_submission.to_csv('Outputs/ta-7.csv', index = False)"
   ]
  },
  {
   "cell_type": "markdown",
   "metadata": {},
   "source": [
    "This model scored significantly better on my homegrown test set but no better on Kaggle. (Admittedly, we're talking about two different metrics here, but I still think my conclusions are reasonable.) I'm inclined to believe that I did a poor job in estimating the number of mosquitos in the test set. And we only made adjustments to three traps, after all. Perhaps we can generalize our strategy from the previous model to all traps."
   ]
  },
  {
   "cell_type": "markdown",
   "metadata": {},
   "source": [
    "## Logistic Regression ##5-6"
   ]
  },
  {
   "cell_type": "code",
   "execution_count": 296,
   "metadata": {},
   "outputs": [
    {
     "data": {
      "text/plain": [
       "'T002'"
      ]
     },
     "execution_count": 296,
     "metadata": {},
     "output_type": "execute_result"
    }
   ],
   "source": [
    "train_mosq['Trap'].values[0]"
   ]
  },
  {
   "cell_type": "code",
   "execution_count": 304,
   "metadata": {},
   "outputs": [],
   "source": [
    "# Begin the fancy procedure to get a (reasonable) estimate of the number\n",
    "# of mosquitos into the test set. First I'm going to construct quadruples\n",
    "# of the numbers per year by trap (as we did before for the three traps\n",
    "# we singled out).\n",
    "\n",
    "train_mosqs = []\n",
    "for trap in train_mosq['Trap'].values:\n",
    "    train_mosqs.append((train_mosq.loc[(train_mosq['Trap'] == trap) &\n",
    "                (train_mosq['Date'] < '2008'), 'NumMosquitos'].sum(),\n",
    "                train_mosq.loc[(train_mosq['Trap'] == trap) & (train_mosq['Date'] < '2010')\n",
    "                               & (train_mosq['Date'] > '2008'), 'NumMosquitos'].sum(),\n",
    "                train_mosq.loc[(train_mosq['Trap'] == trap) & (train_mosq['Date'] < '2012')\n",
    "                               & (train_mosq['Date'] > '2010'), 'NumMosquitos'].sum(),\n",
    "                train_mosq.loc[(train_mosq['Trap'] == trap) &\n",
    "                               (train_mosq['Date'] > '2012'), 'NumMosquitos'].sum()))"
   ]
  },
  {
   "cell_type": "code",
   "execution_count": 307,
   "metadata": {},
   "outputs": [],
   "source": [
    "train_mosq_dict = dict(zip(train_mosq['Trap'].values, train_mosqs))"
   ]
  },
  {
   "cell_type": "code",
   "execution_count": 309,
   "metadata": {},
   "outputs": [],
   "source": [
    "# The next move is to use these to make estimates for the missing years:\n",
    "# 2008, 2010, 2012, and 2014.\n",
    "\n",
    "mosq_2008 = []\n",
    "for quad in train_mosqs:\n",
    "    mosq_2008.append((quad[0] + quad[1]) / 2)\n",
    "\n",
    "mosq_2010 = []\n",
    "for quad in train_mosqs:\n",
    "    mosq_2010.append((quad[1] + quad[2]) / 2)\n",
    "\n",
    "mosq_2012 = []\n",
    "for quad in train_mosqs:\n",
    "    mosq_2012.append((quad[2] + quad[3]) / 2)\n",
    "\n",
    "mosq_2014 = []\n",
    "for quad in train_mosqs:\n",
    "    mosq_2014.append(quad[3])"
   ]
  },
  {
   "cell_type": "code",
   "execution_count": 315,
   "metadata": {},
   "outputs": [],
   "source": [
    "# Then turn these into dictionaries.\n",
    "\n",
    "dict_2008 = dict(zip(train_mosq['Trap'].values, mosq_2008))\n",
    "\n",
    "dict_2010 = dict(zip(train_mosq['Trap'].values, mosq_2010))\n",
    "\n",
    "dict_2012 = dict(zip(train_mosq['Trap'].values, mosq_2012))\n",
    "\n",
    "dict_2014 = dict(zip(train_mosq['Trap'].values, mosq_2014))"
   ]
  },
  {
   "cell_type": "code",
   "execution_count": 323,
   "metadata": {},
   "outputs": [
    {
     "name": "stderr",
     "output_type": "stream",
     "text": [
      "/Users/gadamico/anaconda3/lib/python3.6/site-packages/pandas/core/generic.py:4619: SettingWithCopyWarning: \n",
      "A value is trying to be set on a copy of a slice from a DataFrame\n",
      "\n",
      "See the caveats in the documentation: http://pandas.pydata.org/pandas-docs/stable/indexing.html#indexing-view-versus-copy\n",
      "  self._update_inplace(new_data)\n"
     ]
    }
   ],
   "source": [
    "# Finally, use these dictionaries to replace the 'Trap' values in the\n",
    "# test set. (Of course, we've now got the number of mosquitos estimate\n",
    "# called 'Trap', but that doesn't really matter. Traps have already been\n",
    "# dummied out, so the 'Trap' column doesn't matter anyway.)\n",
    "\n",
    "test_new_coords_2008 = test_new_coords.loc[test_new_coords['Date'] < '2009']\n",
    "\n",
    "test_new_coords_2008['Trap'].replace(dict_2008, inplace = True)"
   ]
  },
  {
   "cell_type": "code",
   "execution_count": 324,
   "metadata": {},
   "outputs": [],
   "source": [
    "test_new_coords_2010 = test_new_coords.loc[(test_new_coords['Date'] < '2011') &\n",
    "                                          (test_new_coords['Date'] > '2009')]\n",
    "\n",
    "test_new_coords_2010['Trap'].replace(dict_2010, inplace = True)"
   ]
  },
  {
   "cell_type": "code",
   "execution_count": 326,
   "metadata": {},
   "outputs": [
    {
     "name": "stderr",
     "output_type": "stream",
     "text": [
      "/Users/gadamico/anaconda3/lib/python3.6/site-packages/pandas/core/generic.py:4619: SettingWithCopyWarning: \n",
      "A value is trying to be set on a copy of a slice from a DataFrame\n",
      "\n",
      "See the caveats in the documentation: http://pandas.pydata.org/pandas-docs/stable/indexing.html#indexing-view-versus-copy\n",
      "  self._update_inplace(new_data)\n"
     ]
    }
   ],
   "source": [
    "test_new_coords_2012 = test_new_coords.loc[(test_new_coords['Date'] < '2013') &\n",
    "                                          (test_new_coords['Date'] > '2011')]\n",
    "\n",
    "test_new_coords_2012['Trap'].replace(dict_2012, inplace = True)"
   ]
  },
  {
   "cell_type": "code",
   "execution_count": 327,
   "metadata": {},
   "outputs": [
    {
     "name": "stderr",
     "output_type": "stream",
     "text": [
      "/Users/gadamico/anaconda3/lib/python3.6/site-packages/pandas/core/generic.py:4619: SettingWithCopyWarning: \n",
      "A value is trying to be set on a copy of a slice from a DataFrame\n",
      "\n",
      "See the caveats in the documentation: http://pandas.pydata.org/pandas-docs/stable/indexing.html#indexing-view-versus-copy\n",
      "  self._update_inplace(new_data)\n"
     ]
    }
   ],
   "source": [
    "test_new_coords_2014 = test_new_coords.loc[test_new_coords['Date'] > '2013']\n",
    "\n",
    "test_new_coords_2014['Trap'].replace(dict_2014, inplace = True)"
   ]
  },
  {
   "cell_type": "code",
   "execution_count": 419,
   "metadata": {},
   "outputs": [],
   "source": [
    "test_new_coords = pd.concat([test_new_coords_2008, test_new_coords_2010, test_new_coords_2012,\n",
    "                            test_new_coords_2014])\n",
    "\n",
    "# Let's rename the 'Trap' column appropriately.\n",
    "\n",
    "test_new_coords.drop(columns = ['NumMosquitos'], inplace = True)\n",
    "\n",
    "test_new_coords['NumMosquitos'] = test_new_coords['Trap']"
   ]
  },
  {
   "cell_type": "code",
   "execution_count": 111,
   "metadata": {},
   "outputs": [],
   "source": [
    "# We'll write a function to give a baseline value for 'NumMosquitos' in\n",
    "# the test set.\n",
    "\n",
    "def zero(x):\n",
    "    if type(x) == str:\n",
    "        x = 0\n",
    "    return x"
   ]
  },
  {
   "cell_type": "markdown",
   "metadata": {},
   "source": [
    "Perhaps we should try setting the leftovers to 10 instead?"
   ]
  },
  {
   "cell_type": "code",
   "execution_count": 350,
   "metadata": {},
   "outputs": [],
   "source": [
    "test_new_coords['NumMosquitos'] = test_new_coords['NumMosquitos'].map(lambda x: zero(x))"
   ]
  },
  {
   "cell_type": "code",
   "execution_count": 352,
   "metadata": {},
   "outputs": [],
   "source": [
    "test_smarter = test_new_coords[cols]\n",
    "\n",
    "mdl7 = model6.predict(test_smarter)\n",
    "\n",
    "log_5_df = pd.DataFrame(mdl7, columns = ['WnvPresent'])"
   ]
  },
  {
   "cell_type": "code",
   "execution_count": 353,
   "metadata": {},
   "outputs": [],
   "source": [
    "log_5_df = pd.DataFrame(mdl7, columns = ['WnvPresent'])"
   ]
  },
  {
   "cell_type": "code",
   "execution_count": 354,
   "metadata": {},
   "outputs": [],
   "source": [
    "test_sub = pd.concat([test_new_coords, log_5_df], axis = 1)\n",
    "\n",
    "test_cols = [col for col in test_sub.columns if (col == 'Id') | (col == 'WnvPresent')]\n",
    "\n",
    "test_submission = test_sub[test_cols]\n",
    "\n",
    "test_submission.to_csv('Outputs/ta-7.csv', index = False)"
   ]
  },
  {
   "cell_type": "code",
   "execution_count": 355,
   "metadata": {},
   "outputs": [
    {
     "data": {
      "text/plain": [
       "1    67206\n",
       "0    49087\n",
       "Name: WnvPresent, dtype: int64"
      ]
     },
     "execution_count": 355,
     "metadata": {},
     "output_type": "execute_result"
    }
   ],
   "source": [
    "log_5_df['WnvPresent'].value_counts()"
   ]
  },
  {
   "cell_type": "markdown",
   "metadata": {},
   "source": [
    "This is almost certainly way too many predictions of West Nile. First let's make sure the problem is not with our ```zero``` function."
   ]
  },
  {
   "cell_type": "code",
   "execution_count": 356,
   "metadata": {},
   "outputs": [],
   "source": [
    "def mean(x):\n",
    "    if x == 10:\n",
    "        x = 0\n",
    "    return x"
   ]
  },
  {
   "cell_type": "code",
   "execution_count": 357,
   "metadata": {},
   "outputs": [],
   "source": [
    "test_new_coords['NumMosquitos'] = test_new_coords['NumMosquitos'].map(lambda x: mean(x))"
   ]
  },
  {
   "cell_type": "code",
   "execution_count": 358,
   "metadata": {},
   "outputs": [],
   "source": [
    "test_smarter = test_new_coords[cols]\n",
    "\n",
    "mdl8 = model6.predict(test_smarter)\n",
    "\n",
    "log_6_df = pd.DataFrame(mdl8, columns = ['WnvPresent'])"
   ]
  },
  {
   "cell_type": "code",
   "execution_count": 359,
   "metadata": {},
   "outputs": [],
   "source": [
    "test_sub = pd.concat([test_new_coords, log_6_df], axis = 1)\n",
    "\n",
    "test_cols = [col for col in test_sub.columns if (col == 'Id') | (col == 'WnvPresent')]\n",
    "\n",
    "test_submission = test_sub[test_cols]\n",
    "\n",
    "test_submission.to_csv('Outputs/ta-8.csv', index = False)"
   ]
  },
  {
   "cell_type": "markdown",
   "metadata": {},
   "source": [
    "Not so surprisingly, this was even worse. Probably we have too many mosquitos, rather than too few."
   ]
  },
  {
   "cell_type": "markdown",
   "metadata": {},
   "source": [
    "## Logistic Regression #7"
   ]
  },
  {
   "cell_type": "markdown",
   "metadata": {},
   "source": [
    "Let's reset our ```NumMosquitos``` column. Since we now have too _many_ predictions of West Nile, we probably need to include more features correlated with _lack_ of West Nile, like the species that don't seem to carry it and the less active ZIP codes."
   ]
  },
  {
   "cell_type": "code",
   "execution_count": 360,
   "metadata": {},
   "outputs": [],
   "source": [
    "test_new_coords['NumMosquitos'] = test_new_coords['Trap']"
   ]
  },
  {
   "cell_type": "code",
   "execution_count": 422,
   "metadata": {},
   "outputs": [],
   "source": [
    "test_new_coords['NumMosquitos'] = test_new_coords['NumMosquitos'].map(lambda x: zero(x))"
   ]
  },
  {
   "cell_type": "markdown",
   "metadata": {},
   "source": [
    "Let's now add in all the ZIP dummies."
   ]
  },
  {
   "cell_type": "code",
   "execution_count": 416,
   "metadata": {},
   "outputs": [],
   "source": [
    "zip_cols = [col for col in list(test_new_coords.columns) if ',' in str(col)]"
   ]
  },
  {
   "cell_type": "code",
   "execution_count": 417,
   "metadata": {},
   "outputs": [],
   "source": [
    "zip_cols.extend(['Spray?', 'T115', 'T138', 'T900', 'new_pip', 'new_rest',\n",
    "                        'CULEX ERRATICUS', 'CULEX TERRITANS', 'CULEX SALINARIUS',\n",
    "                        'CULEX TARSALIS', 'Tmin', 'Tmax', 'Tavg', 'NumMosquitos'])"
   ]
  },
  {
   "cell_type": "code",
   "execution_count": 412,
   "metadata": {},
   "outputs": [
    {
     "name": "stderr",
     "output_type": "stream",
     "text": [
      "/Users/gadamico/anaconda3/lib/python3.6/site-packages/ipykernel/__main__.py:2: SettingWithCopyWarning: \n",
      "A value is trying to be set on a copy of a slice from a DataFrame\n",
      "\n",
      "See the caveats in the documentation: http://pandas.pydata.org/pandas-docs/stable/indexing.html#indexing-view-versus-copy\n",
      "  from ipykernel import kernelapp as app\n"
     ]
    }
   ],
   "source": [
    "X = train_mosq[zip_cols]\n",
    "X.drop(columns = 'IL,', inplace = True)"
   ]
  },
  {
   "cell_type": "code",
   "execution_count": 413,
   "metadata": {},
   "outputs": [],
   "source": [
    "logreg = LogisticRegression()\n",
    "mdl9 = logreg.fit(X, y)"
   ]
  },
  {
   "cell_type": "code",
   "execution_count": 427,
   "metadata": {},
   "outputs": [
    {
     "name": "stderr",
     "output_type": "stream",
     "text": [
      "/Users/gadamico/anaconda3/lib/python3.6/site-packages/ipykernel/__main__.py:2: SettingWithCopyWarning: \n",
      "A value is trying to be set on a copy of a slice from a DataFrame\n",
      "\n",
      "See the caveats in the documentation: http://pandas.pydata.org/pandas-docs/stable/indexing.html#indexing-view-versus-copy\n",
      "  from ipykernel import kernelapp as app\n"
     ]
    }
   ],
   "source": [
    "test_9 = test_new_coords[zip_cols]\n",
    "test_9.drop(columns = 'IL,', inplace = True)"
   ]
  },
  {
   "cell_type": "code",
   "execution_count": 428,
   "metadata": {},
   "outputs": [],
   "source": [
    "mdl9 = logreg.predict(test_9)"
   ]
  },
  {
   "cell_type": "code",
   "execution_count": 429,
   "metadata": {},
   "outputs": [],
   "source": [
    "log_7_df = pd.DataFrame(mdl9, columns = ['WnvPresent'])"
   ]
  },
  {
   "cell_type": "code",
   "execution_count": 430,
   "metadata": {},
   "outputs": [],
   "source": [
    "test_sub = pd.concat([test_new_coords, log_7_df], axis = 1)\n",
    "\n",
    "test_cols = [col for col in test_sub.columns if (col == 'Id') | (col == 'WnvPresent')]\n",
    "\n",
    "test_submission = test_sub[test_cols]\n",
    "\n",
    "test_submission.to_csv('Outputs/ta-9.csv', index = False)"
   ]
  },
  {
   "cell_type": "markdown",
   "metadata": {},
   "source": [
    "Kaggle Score: 0.516."
   ]
  },
  {
   "cell_type": "markdown",
   "metadata": {},
   "source": [
    "## Logistic Regression #8"
   ]
  },
  {
   "cell_type": "markdown",
   "metadata": {},
   "source": [
    "Let's take the columns from our most successful model with the five largest coefficients in absolute value: ```60617,```, ```60656,```, ```T115```, ```T138```, and ```new_pip```."
   ]
  },
  {
   "cell_type": "code",
   "execution_count": 432,
   "metadata": {},
   "outputs": [],
   "source": [
    "small_cols = ['60617,', '60656,', 'T115', 'T138', 'new_pip']"
   ]
  },
  {
   "cell_type": "code",
   "execution_count": 433,
   "metadata": {},
   "outputs": [],
   "source": [
    "X = train_mosq[small_cols]\n",
    "mdl10 = logreg.fit(X, y)"
   ]
  },
  {
   "cell_type": "code",
   "execution_count": 435,
   "metadata": {},
   "outputs": [],
   "source": [
    "test10 = test_new_coords[small_cols]\n",
    "mdl10_pred = mdl10.predict(test10)"
   ]
  },
  {
   "cell_type": "code",
   "execution_count": 437,
   "metadata": {},
   "outputs": [],
   "source": [
    "log_8_df = pd.DataFrame(mdl10_pred, columns = ['WnvPresent'])"
   ]
  },
  {
   "cell_type": "code",
   "execution_count": 438,
   "metadata": {},
   "outputs": [],
   "source": [
    "test_sub = pd.concat([test_new_coords, log_8_df], axis = 1)\n",
    "\n",
    "test_cols = [col for col in test_sub.columns if (col == 'Id') | (col == 'WnvPresent')]\n",
    "\n",
    "test_submission = test_sub[test_cols]\n",
    "\n",
    "test_submission.to_csv('Outputs/ta-10.csv', index = False)"
   ]
  },
  {
   "cell_type": "markdown",
   "metadata": {},
   "source": [
    "Kaggle Score: 0.605."
   ]
  },
  {
   "cell_type": "markdown",
   "metadata": {},
   "source": [
    "## Logistic Regression #9"
   ]
  },
  {
   "cell_type": "code",
   "execution_count": 449,
   "metadata": {},
   "outputs": [],
   "source": [
    "less_small_cols = ['60617,', '60656,', 'T115', 'T138', 'new_pip', '60631,',\n",
    "                   'new_rest', '60106,']"
   ]
  },
  {
   "cell_type": "code",
   "execution_count": 450,
   "metadata": {},
   "outputs": [],
   "source": [
    "X = train_mosq[less_small_cols]\n",
    "mdl11 = logreg.fit(X, y)\n",
    "\n",
    "test11 = test_new_coords[less_small_cols]\n",
    "mdl11_pred = mdl11.predict(test11)\n",
    "\n",
    "log_9_df = pd.DataFrame(mdl11_pred, columns = ['WnvPresent'])"
   ]
  },
  {
   "cell_type": "code",
   "execution_count": 453,
   "metadata": {},
   "outputs": [],
   "source": [
    "test_sub = pd.concat([test_new_coords, log_9_df], axis = 1)\n",
    "\n",
    "test_cols = [col for col in test_sub.columns if (col == 'Id') | (col == 'WnvPresent')]\n",
    "\n",
    "test_submission = test_sub[test_cols]\n",
    "\n",
    "test_submission.to_csv('Outputs/ta-11.csv', index = False)"
   ]
  },
  {
   "cell_type": "markdown",
   "metadata": {},
   "source": [
    "Kaggle Score: 0.595."
   ]
  },
  {
   "cell_type": "markdown",
   "metadata": {},
   "source": [
    "## Logistic Regression #10"
   ]
  },
  {
   "cell_type": "markdown",
   "metadata": {},
   "source": [
    "Is less more?"
   ]
  },
  {
   "cell_type": "code",
   "execution_count": 455,
   "metadata": {},
   "outputs": [],
   "source": [
    "smaller_cols = ['60617,', 'T115', 'T138']"
   ]
  },
  {
   "cell_type": "code",
   "execution_count": 456,
   "metadata": {},
   "outputs": [],
   "source": [
    "X = train_mosq[smaller_cols]\n",
    "mdl12 = logreg.fit(X, y)\n",
    "\n",
    "test12 = test_new_coords[smaller_cols]\n",
    "mdl12_pred = mdl12.predict(test12)\n",
    "\n",
    "log_10_df = pd.DataFrame(mdl12_pred, columns = ['WnvPresent'])"
   ]
  },
  {
   "cell_type": "code",
   "execution_count": 457,
   "metadata": {},
   "outputs": [],
   "source": [
    "test_sub = pd.concat([test_new_coords, log_10_df], axis = 1)\n",
    "\n",
    "test_cols = [col for col in test_sub.columns if (col == 'Id') | (col == 'WnvPresent')]\n",
    "\n",
    "test_submission = test_sub[test_cols]\n",
    "\n",
    "test_submission.to_csv('Outputs/ta-12.csv', index = False)"
   ]
  },
  {
   "cell_type": "markdown",
   "metadata": {},
   "source": [
    "Kaggle Score: 0.490. (Or, I guess, 0.510, if we reverse the predictions.)"
   ]
  },
  {
   "cell_type": "markdown",
   "metadata": {},
   "source": [
    "## Logistic Regression #11"
   ]
  },
  {
   "cell_type": "markdown",
   "metadata": {},
   "source": [
    "I want to try to add in more weather data. I think I might also put back in ```NumMosquitos``` because (a) I worked really hard on getting this into the test set and (b) I'm stubborn."
   ]
  },
  {
   "cell_type": "code",
   "execution_count": 458,
   "metadata": {},
   "outputs": [
    {
     "data": {
      "text/plain": [
       "Index(['Unnamed: 0', 'Address', 'AddressAccuracy', 'AddressNumberAndStreet',\n",
       "       'AvgSpeed', 'Block', 'CULEX ERRATICUS', 'CULEX SALINARIUS',\n",
       "       'CULEX TARSALIS', 'CULEX TERRITANS',\n",
       "       ...\n",
       "       '-87.61', '-87.6', '-87.59', '-87.58', '-87.57', '-87.56', '-87.55',\n",
       "       '-87.54', '-87.53', 'loc'],\n",
       "      dtype='object', length=303)"
      ]
     },
     "execution_count": 458,
     "metadata": {},
     "output_type": "execute_result"
    }
   ],
   "source": [
    "train_mosq.columns"
   ]
  },
  {
   "cell_type": "markdown",
   "metadata": {},
   "source": [
    "A similar study (https://www.ncbi.nlm.nih.gov/pubmed/21485391) showed that the presence of WNV depended significantly on precipitation totals over the previous 35 days."
   ]
  },
  {
   "cell_type": "code",
   "execution_count": 467,
   "metadata": {},
   "outputs": [
    {
     "data": {
      "text/html": [
       "<div>\n",
       "<style scoped>\n",
       "    .dataframe tbody tr th:only-of-type {\n",
       "        vertical-align: middle;\n",
       "    }\n",
       "\n",
       "    .dataframe tbody tr th {\n",
       "        vertical-align: top;\n",
       "    }\n",
       "\n",
       "    .dataframe thead th {\n",
       "        text-align: right;\n",
       "    }\n",
       "</style>\n",
       "<table border=\"1\" class=\"dataframe\">\n",
       "  <thead>\n",
       "    <tr style=\"text-align: right;\">\n",
       "      <th></th>\n",
       "      <th>Station</th>\n",
       "      <th>Date</th>\n",
       "      <th>Tmax</th>\n",
       "      <th>Tmin</th>\n",
       "      <th>Tavg</th>\n",
       "      <th>Depart</th>\n",
       "      <th>DewPoint</th>\n",
       "      <th>WetBulb</th>\n",
       "      <th>Heat</th>\n",
       "      <th>Cool</th>\n",
       "      <th>...</th>\n",
       "      <th>CodeSum</th>\n",
       "      <th>Depth</th>\n",
       "      <th>Water1</th>\n",
       "      <th>SnowFall</th>\n",
       "      <th>PrecipTotal</th>\n",
       "      <th>StnPressure</th>\n",
       "      <th>SeaLevel</th>\n",
       "      <th>ResultSpeed</th>\n",
       "      <th>ResultDir</th>\n",
       "      <th>AvgSpeed</th>\n",
       "    </tr>\n",
       "  </thead>\n",
       "  <tbody>\n",
       "    <tr>\n",
       "      <th>2571</th>\n",
       "      <td>2</td>\n",
       "      <td>2013-10-29</td>\n",
       "      <td>57</td>\n",
       "      <td>43</td>\n",
       "      <td>50</td>\n",
       "      <td>M</td>\n",
       "      <td>39</td>\n",
       "      <td>45</td>\n",
       "      <td>15</td>\n",
       "      <td>0</td>\n",
       "      <td>...</td>\n",
       "      <td>RA HZ</td>\n",
       "      <td>M</td>\n",
       "      <td>M</td>\n",
       "      <td>M</td>\n",
       "      <td>T</td>\n",
       "      <td>29.57</td>\n",
       "      <td>30.26</td>\n",
       "      <td>5.9</td>\n",
       "      <td>11</td>\n",
       "      <td>6.6</td>\n",
       "    </tr>\n",
       "    <tr>\n",
       "      <th>2572</th>\n",
       "      <td>1</td>\n",
       "      <td>2013-10-30</td>\n",
       "      <td>63</td>\n",
       "      <td>43</td>\n",
       "      <td>53</td>\n",
       "      <td>7</td>\n",
       "      <td>52</td>\n",
       "      <td>53</td>\n",
       "      <td>12</td>\n",
       "      <td>0</td>\n",
       "      <td>...</td>\n",
       "      <td>RA BR HZ</td>\n",
       "      <td>0</td>\n",
       "      <td>M</td>\n",
       "      <td>0.0</td>\n",
       "      <td>0.55</td>\n",
       "      <td>29.22</td>\n",
       "      <td>30.00</td>\n",
       "      <td>6.6</td>\n",
       "      <td>15</td>\n",
       "      <td>7.5</td>\n",
       "    </tr>\n",
       "    <tr>\n",
       "      <th>2573</th>\n",
       "      <td>2</td>\n",
       "      <td>2013-10-30</td>\n",
       "      <td>64</td>\n",
       "      <td>47</td>\n",
       "      <td>56</td>\n",
       "      <td>M</td>\n",
       "      <td>52</td>\n",
       "      <td>53</td>\n",
       "      <td>9</td>\n",
       "      <td>0</td>\n",
       "      <td>...</td>\n",
       "      <td>RA BR HZ</td>\n",
       "      <td>M</td>\n",
       "      <td>M</td>\n",
       "      <td>M</td>\n",
       "      <td>1.16</td>\n",
       "      <td>29.29</td>\n",
       "      <td>30.01</td>\n",
       "      <td>5.3</td>\n",
       "      <td>14</td>\n",
       "      <td>6.2</td>\n",
       "    </tr>\n",
       "    <tr>\n",
       "      <th>2574</th>\n",
       "      <td>1</td>\n",
       "      <td>2013-10-31</td>\n",
       "      <td>64</td>\n",
       "      <td>46</td>\n",
       "      <td>55</td>\n",
       "      <td>9</td>\n",
       "      <td>56</td>\n",
       "      <td>57</td>\n",
       "      <td>10</td>\n",
       "      <td>0</td>\n",
       "      <td>...</td>\n",
       "      <td>RA BR</td>\n",
       "      <td>0</td>\n",
       "      <td>M</td>\n",
       "      <td>0.0</td>\n",
       "      <td>1.04</td>\n",
       "      <td>28.69</td>\n",
       "      <td>29.45</td>\n",
       "      <td>9.4</td>\n",
       "      <td>24</td>\n",
       "      <td>11.5</td>\n",
       "    </tr>\n",
       "    <tr>\n",
       "      <th>2575</th>\n",
       "      <td>2</td>\n",
       "      <td>2013-10-31</td>\n",
       "      <td>65</td>\n",
       "      <td>47</td>\n",
       "      <td>56</td>\n",
       "      <td>M</td>\n",
       "      <td>56</td>\n",
       "      <td>57</td>\n",
       "      <td>9</td>\n",
       "      <td>0</td>\n",
       "      <td>...</td>\n",
       "      <td>RA BR</td>\n",
       "      <td>M</td>\n",
       "      <td>M</td>\n",
       "      <td>M</td>\n",
       "      <td>2.03</td>\n",
       "      <td>28.77</td>\n",
       "      <td>29.47</td>\n",
       "      <td>9.5</td>\n",
       "      <td>23</td>\n",
       "      <td>11.4</td>\n",
       "    </tr>\n",
       "  </tbody>\n",
       "</table>\n",
       "<p>5 rows × 22 columns</p>\n",
       "</div>"
      ],
      "text/plain": [
       "      Station       Date  Tmax  Tmin Tavg Depart  DewPoint WetBulb Heat Cool  \\\n",
       "2571        2 2013-10-29    57    43   50      M        39      45   15    0   \n",
       "2572        1 2013-10-30    63    43   53      7        52      53   12    0   \n",
       "2573        2 2013-10-30    64    47   56      M        52      53    9    0   \n",
       "2574        1 2013-10-31    64    46   55      9        56      57   10    0   \n",
       "2575        2 2013-10-31    65    47   56      M        56      57    9    0   \n",
       "\n",
       "        ...      CodeSum Depth Water1 SnowFall PrecipTotal StnPressure  \\\n",
       "2571    ...        RA HZ     M      M        M           T       29.57   \n",
       "2572    ...     RA BR HZ     0      M      0.0        0.55       29.22   \n",
       "2573    ...     RA BR HZ     M      M        M        1.16       29.29   \n",
       "2574    ...        RA BR     0      M      0.0        1.04       28.69   \n",
       "2575    ...        RA BR     M      M        M        2.03       28.77   \n",
       "\n",
       "     SeaLevel ResultSpeed ResultDir  AvgSpeed  \n",
       "2571    30.26         5.9        11       6.6  \n",
       "2572    30.00         6.6        15       7.5  \n",
       "2573    30.01         5.3        14       6.2  \n",
       "2574    29.45         9.4        24      11.5  \n",
       "2575    29.47         9.5        23      11.4  \n",
       "\n",
       "[5 rows x 22 columns]"
      ]
     },
     "execution_count": 467,
     "metadata": {},
     "output_type": "execute_result"
    }
   ],
   "source": [
    "weather.loc[weather['Date'] < '2014', :].tail()"
   ]
  },
  {
   "cell_type": "code",
   "execution_count": 37,
   "metadata": {},
   "outputs": [],
   "source": [
    "weather['PrecipTotal'] = weather['PrecipTotal'].replace('  T', 0)"
   ]
  },
  {
   "cell_type": "code",
   "execution_count": 38,
   "metadata": {},
   "outputs": [],
   "source": [
    "weather['PrecipTotal'] = weather['PrecipTotal'].replace('M', 0)"
   ]
  },
  {
   "cell_type": "code",
   "execution_count": 39,
   "metadata": {},
   "outputs": [],
   "source": [
    "weather['PrecipTotal'] = weather['PrecipTotal'].astype(float)"
   ]
  },
  {
   "cell_type": "code",
   "execution_count": 26,
   "metadata": {},
   "outputs": [],
   "source": [
    "# weather['35d_precip'] = 0"
   ]
  },
  {
   "cell_type": "markdown",
   "metadata": {},
   "source": [
    "These ways to aggregate precipitation totals also required too much computation time. ```.rolling()``` to the rescue!"
   ]
  },
  {
   "cell_type": "code",
   "execution_count": 6,
   "metadata": {},
   "outputs": [],
   "source": [
    "# def precip_35(x):\n",
    "  #   for i in range(35, len(x)):\n",
    "    #     for j in range(36):\n",
    "      #       x[i] += x[35 + i - j]\n",
    "    # return x"
   ]
  },
  {
   "cell_type": "code",
   "execution_count": 7,
   "metadata": {},
   "outputs": [],
   "source": [
    "# precip_35(weather['PrecipTotal'])"
   ]
  },
  {
   "cell_type": "code",
   "execution_count": 8,
   "metadata": {},
   "outputs": [],
   "source": [
    "# for i in range(35, weather.shape[0]):\n",
    "  #   for j in range(36):\n",
    "    #     weather['30d_precip'][i] += weather['PrecipTotal'][35 + i - j]"
   ]
  },
  {
   "cell_type": "code",
   "execution_count": 41,
   "metadata": {},
   "outputs": [],
   "source": [
    "weather['PrecipTotal'] = weather.rolling(window = 36, on = 'PrecipTotal').sum()\n",
    "weather['Tmin'] = weather.rolling(window = 12, on = 'Tmin').mean()"
   ]
  },
  {
   "cell_type": "code",
   "execution_count": 56,
   "metadata": {},
   "outputs": [],
   "source": [
    "train_weath = pd.merge(train_traps, weather, how = 'left', on = ['Date', 'Station'])"
   ]
  },
  {
   "cell_type": "code",
   "execution_count": 71,
   "metadata": {},
   "outputs": [],
   "source": [
    "zip_dums = pd.get_dummies(train_weath['ZIP'])"
   ]
  },
  {
   "cell_type": "code",
   "execution_count": 72,
   "metadata": {},
   "outputs": [],
   "source": [
    "train_zip = pd.concat([train_weath, zip_dums], axis = 1)"
   ]
  },
  {
   "cell_type": "code",
   "execution_count": null,
   "metadata": {},
   "outputs": [],
   "source": []
  },
  {
   "cell_type": "code",
   "execution_count": 78,
   "metadata": {},
   "outputs": [],
   "source": [
    "from sklearn.utils import resample"
   ]
  },
  {
   "cell_type": "code",
   "execution_count": 79,
   "metadata": {},
   "outputs": [],
   "source": [
    "train_zip_maj = train_zip[train_zip['WnvPresent'] == 0]\n",
    "train_zip_min = train_zip[train_zip['WnvPresent'] == 1]\n",
    "\n",
    "min_upsampled = resample(train_zip_min, replace = True, n_samples = 9955, random_state = 42)"
   ]
  },
  {
   "cell_type": "code",
   "execution_count": 80,
   "metadata": {},
   "outputs": [],
   "source": [
    "X_new = pd.concat([train_zip_maj, min_upsampled])\n",
    "y_new = X_new['WnvPresent']"
   ]
  },
  {
   "cell_type": "code",
   "execution_count": 115,
   "metadata": {},
   "outputs": [],
   "source": [
    "trainAdjWeath = pd.concat([X_new, y_new], axis = 1)"
   ]
  },
  {
   "cell_type": "code",
   "execution_count": 116,
   "metadata": {},
   "outputs": [],
   "source": [
    "trainAdjWeath.to_csv('Inputs/trainBalancedAdjWeath.csv')"
   ]
  },
  {
   "cell_type": "code",
   "execution_count": 82,
   "metadata": {},
   "outputs": [],
   "source": [
    "from sklearn.model_selection import train_test_split\n",
    "from sklearn.preprocessing import StandardScaler"
   ]
  },
  {
   "cell_type": "code",
   "execution_count": 84,
   "metadata": {},
   "outputs": [],
   "source": [
    "eleven_cols = ['60617,', '60656,', '60666,', 'T115', 'T138', 'new_pip', 'NumMosquitos',\n",
    "               'PrecipTotal', 'Tmin']\n",
    "X = X_new[eleven_cols]"
   ]
  },
  {
   "cell_type": "code",
   "execution_count": 85,
   "metadata": {},
   "outputs": [],
   "source": [
    "X_train, X_test, y_train, y_test = train_test_split(X, y_new, stratify = y_new,\n",
    "                                                    random_state = 42)\n",
    "\n",
    "ss = StandardScaler()\n",
    "X_train = ss.fit_transform(X_train)\n",
    "X_test = ss.transform(X_test)"
   ]
  },
  {
   "cell_type": "code",
   "execution_count": 92,
   "metadata": {},
   "outputs": [],
   "source": [
    "from sklearn.linear_model import LogisticRegression\n",
    "logreg = LogisticRegression()\n",
    "mdl13 = logreg.fit(X_train, y_train)"
   ]
  },
  {
   "cell_type": "code",
   "execution_count": 93,
   "metadata": {},
   "outputs": [
    {
     "data": {
      "text/plain": [
       "0.7257934913619928"
      ]
     },
     "execution_count": 93,
     "metadata": {},
     "output_type": "execute_result"
    }
   ],
   "source": [
    "logreg.score(X_test, y_test)"
   ]
  },
  {
   "cell_type": "code",
   "execution_count": 94,
   "metadata": {},
   "outputs": [],
   "source": [
    "spec_dums_t = pd.get_dummies(test['Species'])\n",
    "\n",
    "test_with_dums = pd.concat([test, spec_dums_t], axis = 1)\n",
    "\n",
    "test_with_dums['new_pip'] = test_with_dums['CULEX PIPIENS'] + test_with_dums['CULEX PIPIENS/RESTUANS']\n",
    "\n",
    "test_with_dums['new_rest'] = test_with_dums['CULEX RESTUANS'] + test_with_dums['CULEX PIPIENS/RESTUANS']\n",
    "\n",
    "test_dums_t = pd.get_dummies(test_with_dums['Trap'])\n",
    "\n",
    "test_traps = pd.concat([test_with_dums, test_dums_t], axis = 1)\n",
    "\n",
    "test_traps['Date'] = pd.to_datetime(test_traps['Date'])\n",
    "\n",
    "test_traps['Station'] = np.where((test_traps['Latitude'] - ord_lat) ** 2 + (np.cos(np.pi / 180 * test_traps['Latitude']) * (test_traps['Longitude'] - ord_long)) ** 2 < (test_traps['Latitude'] - mdw_lat) ** 2 + (np.cos(np.pi / 180 * test_traps['Latitude']) * (test_traps['Longitude'] - ord_long)) ** 2, 1, 2)\n",
    "\n",
    "test_weath = pd.merge(test_traps, weather, how = 'left', on = ['Date', 'Station'])\n",
    "\n",
    "test_weath['Tavg_int'] = test_weath['Tavg'].map(lambda x: int(x), na_action = 'ignore')"
   ]
  },
  {
   "cell_type": "code",
   "execution_count": 95,
   "metadata": {},
   "outputs": [],
   "source": [
    "add_list = [add.split(' ') for add in test_weath['Address']]\n",
    "\n",
    "test_weath['ZIP'] = [item[-2] for item in add_list]\n",
    "\n",
    "zip_dums = pd.get_dummies(test_weath['ZIP'])\n",
    "\n",
    "test_zip = pd.concat([test_weath, zip_dums], axis = 1)"
   ]
  },
  {
   "cell_type": "code",
   "execution_count": 99,
   "metadata": {},
   "outputs": [],
   "source": [
    "train_mosqs = []\n",
    "for trap in X_new['Trap'].values:\n",
    "    train_mosqs.append((X_new.loc[(X_new['Trap'] == trap) & (X_new['Date'] < '2008'),\n",
    "                   'NumMosquitos'].sum(), X_new.loc[(X_new['Trap'] == trap) &\n",
    "                                                           (X_new['Date'] < '2010') &\n",
    "                                                           (X_new['Date'] > '2008'),\n",
    "                   'NumMosquitos'].sum(), X_new.loc[(X_new['Trap'] == trap) &\n",
    "                                                           (X_new['Date'] < '2012') &\n",
    "                                                           (X_new['Date'] > '2010'),\n",
    "                   'NumMosquitos'].sum(), X_new.loc[(X_new['Trap'] == trap) &\n",
    "                                                           (X_new['Date'] > '2012'),\n",
    "                   'NumMosquitos'].sum()))"
   ]
  },
  {
   "cell_type": "code",
   "execution_count": 101,
   "metadata": {},
   "outputs": [],
   "source": [
    "train_mosq_dict = dict(zip(X_new['Trap'].values, train_mosqs))"
   ]
  },
  {
   "cell_type": "code",
   "execution_count": 102,
   "metadata": {},
   "outputs": [],
   "source": [
    "mosq_2008 = []\n",
    "for quad in train_mosqs:\n",
    "    mosq_2008.append((quad[0] + quad[1]) / 2)\n",
    "\n",
    "mosq_2010 = []\n",
    "for quad in train_mosqs:\n",
    "    mosq_2010.append((quad[1] + quad[2]) / 2)\n",
    "\n",
    "mosq_2012 = []\n",
    "for quad in train_mosqs:\n",
    "    mosq_2012.append((quad[2] + quad[3]) / 2)\n",
    "\n",
    "mosq_2014 = []\n",
    "for quad in train_mosqs:\n",
    "    mosq_2014.append(quad[3])"
   ]
  },
  {
   "cell_type": "code",
   "execution_count": 103,
   "metadata": {},
   "outputs": [],
   "source": [
    "dict_2008 = dict(zip(X_new['Trap'].values, mosq_2008))\n",
    "\n",
    "dict_2010 = dict(zip(X_new['Trap'].values, mosq_2010))\n",
    "\n",
    "dict_2012 = dict(zip(X_new['Trap'].values, mosq_2012))\n",
    "\n",
    "dict_2014 = dict(zip(X_new['Trap'].values, mosq_2014))"
   ]
  },
  {
   "cell_type": "code",
   "execution_count": 104,
   "metadata": {},
   "outputs": [
    {
     "name": "stderr",
     "output_type": "stream",
     "text": [
      "/Users/gadamico/anaconda3/lib/python3.6/site-packages/pandas/core/generic.py:4619: SettingWithCopyWarning: \n",
      "A value is trying to be set on a copy of a slice from a DataFrame\n",
      "\n",
      "See the caveats in the documentation: http://pandas.pydata.org/pandas-docs/stable/indexing.html#indexing-view-versus-copy\n",
      "  self._update_inplace(new_data)\n"
     ]
    }
   ],
   "source": [
    "test_new_coords_2008 = test_zip.loc[test_zip['Date'] < '2009']\n",
    "\n",
    "test_new_coords_2008['Trap'].replace(dict_2008, inplace = True)"
   ]
  },
  {
   "cell_type": "code",
   "execution_count": 105,
   "metadata": {},
   "outputs": [
    {
     "name": "stderr",
     "output_type": "stream",
     "text": [
      "/Users/gadamico/anaconda3/lib/python3.6/site-packages/pandas/core/generic.py:4619: SettingWithCopyWarning: \n",
      "A value is trying to be set on a copy of a slice from a DataFrame\n",
      "\n",
      "See the caveats in the documentation: http://pandas.pydata.org/pandas-docs/stable/indexing.html#indexing-view-versus-copy\n",
      "  self._update_inplace(new_data)\n"
     ]
    }
   ],
   "source": [
    "test_new_coords_2010 = test_zip.loc[(test_zip['Date'] < '2011') &\n",
    "                                          (test_zip['Date'] > '2009')]\n",
    "\n",
    "test_new_coords_2010['Trap'].replace(dict_2010, inplace = True)"
   ]
  },
  {
   "cell_type": "code",
   "execution_count": 106,
   "metadata": {},
   "outputs": [
    {
     "name": "stderr",
     "output_type": "stream",
     "text": [
      "/Users/gadamico/anaconda3/lib/python3.6/site-packages/pandas/core/generic.py:4619: SettingWithCopyWarning: \n",
      "A value is trying to be set on a copy of a slice from a DataFrame\n",
      "\n",
      "See the caveats in the documentation: http://pandas.pydata.org/pandas-docs/stable/indexing.html#indexing-view-versus-copy\n",
      "  self._update_inplace(new_data)\n"
     ]
    }
   ],
   "source": [
    "test_new_coords_2012 = test_zip.loc[(test_zip['Date'] < '2013') &\n",
    "                                          (test_zip['Date'] > '2011')]\n",
    "\n",
    "test_new_coords_2012['Trap'].replace(dict_2012, inplace = True)"
   ]
  },
  {
   "cell_type": "code",
   "execution_count": 107,
   "metadata": {},
   "outputs": [
    {
     "name": "stderr",
     "output_type": "stream",
     "text": [
      "/Users/gadamico/anaconda3/lib/python3.6/site-packages/pandas/core/generic.py:4619: SettingWithCopyWarning: \n",
      "A value is trying to be set on a copy of a slice from a DataFrame\n",
      "\n",
      "See the caveats in the documentation: http://pandas.pydata.org/pandas-docs/stable/indexing.html#indexing-view-versus-copy\n",
      "  self._update_inplace(new_data)\n"
     ]
    }
   ],
   "source": [
    "test_new_coords_2014 = test_zip.loc[test_zip['Date'] > '2013']\n",
    "\n",
    "test_new_coords_2014['Trap'].replace(dict_2014, inplace = True)"
   ]
  },
  {
   "cell_type": "code",
   "execution_count": 109,
   "metadata": {},
   "outputs": [],
   "source": [
    "test_new_coords = pd.concat([test_new_coords_2008, test_new_coords_2010, test_new_coords_2012,\n",
    "                            test_new_coords_2014])\n",
    "\n",
    "test_new_coords['NumMosquitos'] = test_new_coords['Trap']\n",
    "\n",
    "test_new_coords['NumMosquitos'] = test_new_coords['NumMosquitos'].map(lambda x: zero(x))"
   ]
  },
  {
   "cell_type": "code",
   "execution_count": 114,
   "metadata": {},
   "outputs": [],
   "source": [
    "# Let's keep this for future use.\n",
    "test_new_coords.to_csv('Inputs/testAdjWeath.csv')"
   ]
  },
  {
   "cell_type": "code",
   "execution_count": 119,
   "metadata": {},
   "outputs": [],
   "source": [
    "test_mdl13 = ss.transform(test_new_coords[eleven_cols])"
   ]
  },
  {
   "cell_type": "code",
   "execution_count": 120,
   "metadata": {},
   "outputs": [],
   "source": [
    "mdl13_pred = mdl13.predict(test_mdl13)\n",
    "\n",
    "log_11_df = pd.DataFrame(mdl13_pred, columns = ['WnvPresent'])"
   ]
  },
  {
   "cell_type": "code",
   "execution_count": 121,
   "metadata": {},
   "outputs": [],
   "source": [
    "test_sub = pd.concat([test_new_coords, log_11_df], axis = 1)\n",
    "\n",
    "test_cols = [col for col in test_sub.columns if (col == 'Id') | (col == 'WnvPresent')]\n",
    "\n",
    "test_submission = test_sub[test_cols]\n",
    "\n",
    "test_submission.to_csv('Outputs/ta-13.csv', index = False)"
   ]
  },
  {
   "cell_type": "markdown",
   "metadata": {},
   "source": [
    "Kaggle Score: 0.512. Well, that's disappointing. Perhaps Chris's SVMs or DJ's CNNs will perform better."
   ]
  }
 ],
 "metadata": {
  "kernelspec": {
   "display_name": "Python [default]",
   "language": "python",
   "name": "python3"
  },
  "language_info": {
   "codemirror_mode": {
    "name": "ipython",
    "version": 3
   },
   "file_extension": ".py",
   "mimetype": "text/x-python",
   "name": "python",
   "nbconvert_exporter": "python",
   "pygments_lexer": "ipython3",
   "version": "3.6.4"
  }
 },
 "nbformat": 4,
 "nbformat_minor": 2
}
