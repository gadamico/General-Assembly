{
 "cells": [
  {
   "cell_type": "markdown",
   "metadata": {},
   "source": [
    "# Project 1"
   ]
  },
  {
   "cell_type": "markdown",
   "metadata": {},
   "source": [
    "## Step 1: Load the data and perform basic operations."
   ]
  },
  {
   "cell_type": "markdown",
   "metadata": {},
   "source": [
    "##### 1. Load the data in using pandas."
   ]
  },
  {
   "cell_type": "code",
   "execution_count": 1,
   "metadata": {},
   "outputs": [],
   "source": [
    "import pandas as pd\n",
    "act = pd.read_csv('/Users/gadamico/dsi/dsi_wk_1/project-1/data/act.csv')\n",
    "sat = pd.read_csv('/Users/gadamico/dsi/dsi_wk_1/project-1/data/sat.csv')"
   ]
  },
  {
   "cell_type": "markdown",
   "metadata": {},
   "source": [
    "##### 2. Print the first ten rows of each dataframe."
   ]
  },
  {
   "cell_type": "code",
   "execution_count": 3,
   "metadata": {},
   "outputs": [
    {
     "data": {
      "text/html": [
       "<div>\n",
       "<style scoped>\n",
       "    .dataframe tbody tr th:only-of-type {\n",
       "        vertical-align: middle;\n",
       "    }\n",
       "\n",
       "    .dataframe tbody tr th {\n",
       "        vertical-align: top;\n",
       "    }\n",
       "\n",
       "    .dataframe thead th {\n",
       "        text-align: right;\n",
       "    }\n",
       "</style>\n",
       "<table border=\"1\" class=\"dataframe\">\n",
       "  <thead>\n",
       "    <tr style=\"text-align: right;\">\n",
       "      <th></th>\n",
       "      <th>Unnamed: 0</th>\n",
       "      <th>State</th>\n",
       "      <th>Participation</th>\n",
       "      <th>English</th>\n",
       "      <th>Math</th>\n",
       "      <th>Reading</th>\n",
       "      <th>Science</th>\n",
       "      <th>Composite</th>\n",
       "    </tr>\n",
       "  </thead>\n",
       "  <tbody>\n",
       "    <tr>\n",
       "      <th>0</th>\n",
       "      <td>0</td>\n",
       "      <td>National</td>\n",
       "      <td>60%</td>\n",
       "      <td>20.3</td>\n",
       "      <td>20.7</td>\n",
       "      <td>21.4</td>\n",
       "      <td>21.0</td>\n",
       "      <td>21.0</td>\n",
       "    </tr>\n",
       "    <tr>\n",
       "      <th>1</th>\n",
       "      <td>1</td>\n",
       "      <td>Alabama</td>\n",
       "      <td>100%</td>\n",
       "      <td>18.9</td>\n",
       "      <td>18.4</td>\n",
       "      <td>19.7</td>\n",
       "      <td>19.4</td>\n",
       "      <td>19.2</td>\n",
       "    </tr>\n",
       "    <tr>\n",
       "      <th>2</th>\n",
       "      <td>2</td>\n",
       "      <td>Alaska</td>\n",
       "      <td>65%</td>\n",
       "      <td>18.7</td>\n",
       "      <td>19.8</td>\n",
       "      <td>20.4</td>\n",
       "      <td>19.9</td>\n",
       "      <td>19.8</td>\n",
       "    </tr>\n",
       "    <tr>\n",
       "      <th>3</th>\n",
       "      <td>3</td>\n",
       "      <td>Arizona</td>\n",
       "      <td>62%</td>\n",
       "      <td>18.6</td>\n",
       "      <td>19.8</td>\n",
       "      <td>20.1</td>\n",
       "      <td>19.8</td>\n",
       "      <td>19.7</td>\n",
       "    </tr>\n",
       "    <tr>\n",
       "      <th>4</th>\n",
       "      <td>4</td>\n",
       "      <td>Arkansas</td>\n",
       "      <td>100%</td>\n",
       "      <td>18.9</td>\n",
       "      <td>19.0</td>\n",
       "      <td>19.7</td>\n",
       "      <td>19.5</td>\n",
       "      <td>19.4</td>\n",
       "    </tr>\n",
       "    <tr>\n",
       "      <th>5</th>\n",
       "      <td>5</td>\n",
       "      <td>California</td>\n",
       "      <td>31%</td>\n",
       "      <td>22.5</td>\n",
       "      <td>22.7</td>\n",
       "      <td>23.1</td>\n",
       "      <td>22.2</td>\n",
       "      <td>22.8</td>\n",
       "    </tr>\n",
       "    <tr>\n",
       "      <th>6</th>\n",
       "      <td>6</td>\n",
       "      <td>Colorado</td>\n",
       "      <td>100%</td>\n",
       "      <td>20.1</td>\n",
       "      <td>20.3</td>\n",
       "      <td>21.2</td>\n",
       "      <td>20.9</td>\n",
       "      <td>20.8</td>\n",
       "    </tr>\n",
       "    <tr>\n",
       "      <th>7</th>\n",
       "      <td>7</td>\n",
       "      <td>Connecticut</td>\n",
       "      <td>31%</td>\n",
       "      <td>25.5</td>\n",
       "      <td>24.6</td>\n",
       "      <td>25.6</td>\n",
       "      <td>24.6</td>\n",
       "      <td>25.2</td>\n",
       "    </tr>\n",
       "    <tr>\n",
       "      <th>8</th>\n",
       "      <td>8</td>\n",
       "      <td>Delaware</td>\n",
       "      <td>18%</td>\n",
       "      <td>24.1</td>\n",
       "      <td>23.4</td>\n",
       "      <td>24.8</td>\n",
       "      <td>23.6</td>\n",
       "      <td>24.1</td>\n",
       "    </tr>\n",
       "    <tr>\n",
       "      <th>9</th>\n",
       "      <td>9</td>\n",
       "      <td>District of Columbia</td>\n",
       "      <td>32%</td>\n",
       "      <td>24.4</td>\n",
       "      <td>23.5</td>\n",
       "      <td>24.9</td>\n",
       "      <td>23.5</td>\n",
       "      <td>24.2</td>\n",
       "    </tr>\n",
       "  </tbody>\n",
       "</table>\n",
       "</div>"
      ],
      "text/plain": [
       "   Unnamed: 0                 State Participation  English  Math  Reading  \\\n",
       "0           0              National           60%     20.3  20.7     21.4   \n",
       "1           1               Alabama          100%     18.9  18.4     19.7   \n",
       "2           2                Alaska           65%     18.7  19.8     20.4   \n",
       "3           3               Arizona           62%     18.6  19.8     20.1   \n",
       "4           4              Arkansas          100%     18.9  19.0     19.7   \n",
       "5           5            California           31%     22.5  22.7     23.1   \n",
       "6           6              Colorado          100%     20.1  20.3     21.2   \n",
       "7           7           Connecticut           31%     25.5  24.6     25.6   \n",
       "8           8              Delaware           18%     24.1  23.4     24.8   \n",
       "9           9  District of Columbia           32%     24.4  23.5     24.9   \n",
       "\n",
       "   Science  Composite  \n",
       "0     21.0       21.0  \n",
       "1     19.4       19.2  \n",
       "2     19.9       19.8  \n",
       "3     19.8       19.7  \n",
       "4     19.5       19.4  \n",
       "5     22.2       22.8  \n",
       "6     20.9       20.8  \n",
       "7     24.6       25.2  \n",
       "8     23.6       24.1  \n",
       "9     23.5       24.2  "
      ]
     },
     "execution_count": 3,
     "metadata": {},
     "output_type": "execute_result"
    }
   ],
   "source": [
    "act[:10]"
   ]
  },
  {
   "cell_type": "code",
   "execution_count": 4,
   "metadata": {},
   "outputs": [
    {
     "data": {
      "text/html": [
       "<div>\n",
       "<style scoped>\n",
       "    .dataframe tbody tr th:only-of-type {\n",
       "        vertical-align: middle;\n",
       "    }\n",
       "\n",
       "    .dataframe tbody tr th {\n",
       "        vertical-align: top;\n",
       "    }\n",
       "\n",
       "    .dataframe thead th {\n",
       "        text-align: right;\n",
       "    }\n",
       "</style>\n",
       "<table border=\"1\" class=\"dataframe\">\n",
       "  <thead>\n",
       "    <tr style=\"text-align: right;\">\n",
       "      <th></th>\n",
       "      <th>Unnamed: 0</th>\n",
       "      <th>State</th>\n",
       "      <th>Participation</th>\n",
       "      <th>Evidence-Based Reading and Writing</th>\n",
       "      <th>Math</th>\n",
       "      <th>Total</th>\n",
       "    </tr>\n",
       "  </thead>\n",
       "  <tbody>\n",
       "    <tr>\n",
       "      <th>0</th>\n",
       "      <td>0</td>\n",
       "      <td>Alabama</td>\n",
       "      <td>5%</td>\n",
       "      <td>593</td>\n",
       "      <td>572</td>\n",
       "      <td>1165</td>\n",
       "    </tr>\n",
       "    <tr>\n",
       "      <th>1</th>\n",
       "      <td>1</td>\n",
       "      <td>Alaska</td>\n",
       "      <td>38%</td>\n",
       "      <td>547</td>\n",
       "      <td>533</td>\n",
       "      <td>1080</td>\n",
       "    </tr>\n",
       "    <tr>\n",
       "      <th>2</th>\n",
       "      <td>2</td>\n",
       "      <td>Arizona</td>\n",
       "      <td>30%</td>\n",
       "      <td>563</td>\n",
       "      <td>553</td>\n",
       "      <td>1116</td>\n",
       "    </tr>\n",
       "    <tr>\n",
       "      <th>3</th>\n",
       "      <td>3</td>\n",
       "      <td>Arkansas</td>\n",
       "      <td>3%</td>\n",
       "      <td>614</td>\n",
       "      <td>594</td>\n",
       "      <td>1208</td>\n",
       "    </tr>\n",
       "    <tr>\n",
       "      <th>4</th>\n",
       "      <td>4</td>\n",
       "      <td>California</td>\n",
       "      <td>53%</td>\n",
       "      <td>531</td>\n",
       "      <td>524</td>\n",
       "      <td>1055</td>\n",
       "    </tr>\n",
       "    <tr>\n",
       "      <th>5</th>\n",
       "      <td>5</td>\n",
       "      <td>Colorado</td>\n",
       "      <td>11%</td>\n",
       "      <td>606</td>\n",
       "      <td>595</td>\n",
       "      <td>1201</td>\n",
       "    </tr>\n",
       "    <tr>\n",
       "      <th>6</th>\n",
       "      <td>6</td>\n",
       "      <td>Connecticut</td>\n",
       "      <td>100%</td>\n",
       "      <td>530</td>\n",
       "      <td>512</td>\n",
       "      <td>1041</td>\n",
       "    </tr>\n",
       "    <tr>\n",
       "      <th>7</th>\n",
       "      <td>7</td>\n",
       "      <td>Delaware</td>\n",
       "      <td>100%</td>\n",
       "      <td>503</td>\n",
       "      <td>492</td>\n",
       "      <td>996</td>\n",
       "    </tr>\n",
       "    <tr>\n",
       "      <th>8</th>\n",
       "      <td>8</td>\n",
       "      <td>District of Columbia</td>\n",
       "      <td>100%</td>\n",
       "      <td>482</td>\n",
       "      <td>468</td>\n",
       "      <td>950</td>\n",
       "    </tr>\n",
       "    <tr>\n",
       "      <th>9</th>\n",
       "      <td>9</td>\n",
       "      <td>Florida</td>\n",
       "      <td>83%</td>\n",
       "      <td>520</td>\n",
       "      <td>497</td>\n",
       "      <td>1017</td>\n",
       "    </tr>\n",
       "  </tbody>\n",
       "</table>\n",
       "</div>"
      ],
      "text/plain": [
       "   Unnamed: 0                 State Participation  \\\n",
       "0           0               Alabama            5%   \n",
       "1           1                Alaska           38%   \n",
       "2           2               Arizona           30%   \n",
       "3           3              Arkansas            3%   \n",
       "4           4            California           53%   \n",
       "5           5              Colorado           11%   \n",
       "6           6           Connecticut          100%   \n",
       "7           7              Delaware          100%   \n",
       "8           8  District of Columbia          100%   \n",
       "9           9               Florida           83%   \n",
       "\n",
       "   Evidence-Based Reading and Writing  Math  Total  \n",
       "0                                 593   572   1165  \n",
       "1                                 547   533   1080  \n",
       "2                                 563   553   1116  \n",
       "3                                 614   594   1208  \n",
       "4                                 531   524   1055  \n",
       "5                                 606   595   1201  \n",
       "6                                 530   512   1041  \n",
       "7                                 503   492    996  \n",
       "8                                 482   468    950  \n",
       "9                                 520   497   1017  "
      ]
     },
     "execution_count": 4,
     "metadata": {},
     "output_type": "execute_result"
    }
   ],
   "source": [
    "sat[:10]"
   ]
  },
  {
   "cell_type": "markdown",
   "metadata": {},
   "source": [
    "##### 3. Describe in words what each variable (column) is."
   ]
  },
  {
   "cell_type": "markdown",
   "metadata": {
    "collapsed": true
   },
   "source": [
    "The first two columns in each table are the state (in the union) where the data were collected and the level of participation. Presumably this is something like the number of districts reporting. After that are the scores for the various sections of each test. The ACT has English, Math, Reading, and Science sections, whereas the SAT has an Evidence-Based Reading and Writing section and a Math section. The ACT includes a Composite score, which is something like an average, while the SAT includes also a Total score, which is simply the sum of the Reading and Math scores."
   ]
  },
  {
   "cell_type": "markdown",
   "metadata": {},
   "source": [
    "##### 4. Does the data look complete? Are there any obvious issues with the observations?"
   ]
  },
  {
   "cell_type": "code",
   "execution_count": 5,
   "metadata": {},
   "outputs": [
    {
     "data": {
      "text/plain": [
       "Unnamed: 0       0\n",
       "State            0\n",
       "Participation    0\n",
       "English          0\n",
       "Math             0\n",
       "Reading          0\n",
       "Science          0\n",
       "Composite        0\n",
       "dtype: int64"
      ]
     },
     "execution_count": 5,
     "metadata": {},
     "output_type": "execute_result"
    }
   ],
   "source": [
    "act.isnull().sum()"
   ]
  },
  {
   "cell_type": "code",
   "execution_count": 6,
   "metadata": {},
   "outputs": [
    {
     "data": {
      "text/plain": [
       "Unnamed: 0                            0\n",
       "State                                 0\n",
       "Participation                         0\n",
       "Evidence-Based Reading and Writing    0\n",
       "Math                                  0\n",
       "Total                                 0\n",
       "dtype: int64"
      ]
     },
     "execution_count": 6,
     "metadata": {},
     "output_type": "execute_result"
    }
   ],
   "source": [
    "sat.isnull().sum()"
   ]
  },
  {
   "cell_type": "markdown",
   "metadata": {},
   "source": [
    "No missing values. That's good!"
   ]
  },
  {
   "cell_type": "code",
   "execution_count": 7,
   "metadata": {
    "scrolled": true
   },
   "outputs": [
    {
     "data": {
      "text/html": [
       "<div>\n",
       "<style scoped>\n",
       "    .dataframe tbody tr th:only-of-type {\n",
       "        vertical-align: middle;\n",
       "    }\n",
       "\n",
       "    .dataframe tbody tr th {\n",
       "        vertical-align: top;\n",
       "    }\n",
       "\n",
       "    .dataframe thead th {\n",
       "        text-align: right;\n",
       "    }\n",
       "</style>\n",
       "<table border=\"1\" class=\"dataframe\">\n",
       "  <thead>\n",
       "    <tr style=\"text-align: right;\">\n",
       "      <th></th>\n",
       "      <th>Unnamed: 0</th>\n",
       "      <th>State</th>\n",
       "      <th>Participation</th>\n",
       "      <th>Evidence-Based Reading and Writing</th>\n",
       "      <th>Math</th>\n",
       "      <th>Total</th>\n",
       "    </tr>\n",
       "  </thead>\n",
       "  <tbody>\n",
       "    <tr>\n",
       "      <th>20</th>\n",
       "      <td>20</td>\n",
       "      <td>Maryland</td>\n",
       "      <td>69%</td>\n",
       "      <td>536</td>\n",
       "      <td>52</td>\n",
       "      <td>1060</td>\n",
       "    </tr>\n",
       "  </tbody>\n",
       "</table>\n",
       "</div>"
      ],
      "text/plain": [
       "    Unnamed: 0     State Participation  Evidence-Based Reading and Writing  \\\n",
       "20          20  Maryland           69%                                 536   \n",
       "\n",
       "    Math  Total  \n",
       "20    52   1060  "
      ]
     },
     "execution_count": 7,
     "metadata": {},
     "output_type": "execute_result"
    }
   ],
   "source": [
    "sat.loc[sat['Math'] < 200]"
   ]
  },
  {
   "cell_type": "markdown",
   "metadata": {},
   "source": [
    "A little funny business with Maryland here. The math score looks suspiciously, if not impossibly, low."
   ]
  },
  {
   "cell_type": "code",
   "execution_count": 8,
   "metadata": {},
   "outputs": [
    {
     "data": {
      "text/html": [
       "<div>\n",
       "<style scoped>\n",
       "    .dataframe tbody tr th:only-of-type {\n",
       "        vertical-align: middle;\n",
       "    }\n",
       "\n",
       "    .dataframe tbody tr th {\n",
       "        vertical-align: top;\n",
       "    }\n",
       "\n",
       "    .dataframe thead th {\n",
       "        text-align: right;\n",
       "    }\n",
       "</style>\n",
       "<table border=\"1\" class=\"dataframe\">\n",
       "  <thead>\n",
       "    <tr style=\"text-align: right;\">\n",
       "      <th></th>\n",
       "      <th>Unnamed: 0</th>\n",
       "      <th>State</th>\n",
       "      <th>Participation</th>\n",
       "      <th>Evidence-Based Reading and Writing</th>\n",
       "      <th>Math</th>\n",
       "      <th>Total</th>\n",
       "    </tr>\n",
       "  </thead>\n",
       "  <tbody>\n",
       "  </tbody>\n",
       "</table>\n",
       "</div>"
      ],
      "text/plain": [
       "Empty DataFrame\n",
       "Columns: [Unnamed: 0, State, Participation, Evidence-Based Reading and Writing, Math, Total]\n",
       "Index: []"
      ]
     },
     "execution_count": 8,
     "metadata": {},
     "output_type": "execute_result"
    }
   ],
   "source": [
    "sat.loc[sat['Evidence-Based Reading and Writing'] < 200]"
   ]
  },
  {
   "cell_type": "code",
   "execution_count": 9,
   "metadata": {},
   "outputs": [
    {
     "data": {
      "text/html": [
       "<div>\n",
       "<style scoped>\n",
       "    .dataframe tbody tr th:only-of-type {\n",
       "        vertical-align: middle;\n",
       "    }\n",
       "\n",
       "    .dataframe tbody tr th {\n",
       "        vertical-align: top;\n",
       "    }\n",
       "\n",
       "    .dataframe thead th {\n",
       "        text-align: right;\n",
       "    }\n",
       "</style>\n",
       "<table border=\"1\" class=\"dataframe\">\n",
       "  <thead>\n",
       "    <tr style=\"text-align: right;\">\n",
       "      <th></th>\n",
       "      <th>Unnamed: 0</th>\n",
       "      <th>State</th>\n",
       "      <th>Participation</th>\n",
       "      <th>English</th>\n",
       "      <th>Math</th>\n",
       "      <th>Reading</th>\n",
       "      <th>Science</th>\n",
       "      <th>Composite</th>\n",
       "    </tr>\n",
       "  </thead>\n",
       "  <tbody>\n",
       "  </tbody>\n",
       "</table>\n",
       "</div>"
      ],
      "text/plain": [
       "Empty DataFrame\n",
       "Columns: [Unnamed: 0, State, Participation, English, Math, Reading, Science, Composite]\n",
       "Index: []"
      ]
     },
     "execution_count": 9,
     "metadata": {},
     "output_type": "execute_result"
    }
   ],
   "source": [
    "act.loc[act['English'] < 15]"
   ]
  },
  {
   "cell_type": "code",
   "execution_count": 10,
   "metadata": {},
   "outputs": [
    {
     "data": {
      "text/html": [
       "<div>\n",
       "<style scoped>\n",
       "    .dataframe tbody tr th:only-of-type {\n",
       "        vertical-align: middle;\n",
       "    }\n",
       "\n",
       "    .dataframe tbody tr th {\n",
       "        vertical-align: top;\n",
       "    }\n",
       "\n",
       "    .dataframe thead th {\n",
       "        text-align: right;\n",
       "    }\n",
       "</style>\n",
       "<table border=\"1\" class=\"dataframe\">\n",
       "  <thead>\n",
       "    <tr style=\"text-align: right;\">\n",
       "      <th></th>\n",
       "      <th>Unnamed: 0</th>\n",
       "      <th>State</th>\n",
       "      <th>Participation</th>\n",
       "      <th>English</th>\n",
       "      <th>Math</th>\n",
       "      <th>Reading</th>\n",
       "      <th>Science</th>\n",
       "      <th>Composite</th>\n",
       "    </tr>\n",
       "  </thead>\n",
       "  <tbody>\n",
       "  </tbody>\n",
       "</table>\n",
       "</div>"
      ],
      "text/plain": [
       "Empty DataFrame\n",
       "Columns: [Unnamed: 0, State, Participation, English, Math, Reading, Science, Composite]\n",
       "Index: []"
      ]
     },
     "execution_count": 10,
     "metadata": {},
     "output_type": "execute_result"
    }
   ],
   "source": [
    "act.loc[act['Math'] < 15]"
   ]
  },
  {
   "cell_type": "code",
   "execution_count": 11,
   "metadata": {},
   "outputs": [
    {
     "data": {
      "text/html": [
       "<div>\n",
       "<style scoped>\n",
       "    .dataframe tbody tr th:only-of-type {\n",
       "        vertical-align: middle;\n",
       "    }\n",
       "\n",
       "    .dataframe tbody tr th {\n",
       "        vertical-align: top;\n",
       "    }\n",
       "\n",
       "    .dataframe thead th {\n",
       "        text-align: right;\n",
       "    }\n",
       "</style>\n",
       "<table border=\"1\" class=\"dataframe\">\n",
       "  <thead>\n",
       "    <tr style=\"text-align: right;\">\n",
       "      <th></th>\n",
       "      <th>Unnamed: 0</th>\n",
       "      <th>State</th>\n",
       "      <th>Participation</th>\n",
       "      <th>English</th>\n",
       "      <th>Math</th>\n",
       "      <th>Reading</th>\n",
       "      <th>Science</th>\n",
       "      <th>Composite</th>\n",
       "    </tr>\n",
       "  </thead>\n",
       "  <tbody>\n",
       "  </tbody>\n",
       "</table>\n",
       "</div>"
      ],
      "text/plain": [
       "Empty DataFrame\n",
       "Columns: [Unnamed: 0, State, Participation, English, Math, Reading, Science, Composite]\n",
       "Index: []"
      ]
     },
     "execution_count": 11,
     "metadata": {},
     "output_type": "execute_result"
    }
   ],
   "source": [
    "act.loc[act['Reading'] < 15]"
   ]
  },
  {
   "cell_type": "code",
   "execution_count": 12,
   "metadata": {
    "scrolled": true
   },
   "outputs": [
    {
     "data": {
      "text/html": [
       "<div>\n",
       "<style scoped>\n",
       "    .dataframe tbody tr th:only-of-type {\n",
       "        vertical-align: middle;\n",
       "    }\n",
       "\n",
       "    .dataframe tbody tr th {\n",
       "        vertical-align: top;\n",
       "    }\n",
       "\n",
       "    .dataframe thead th {\n",
       "        text-align: right;\n",
       "    }\n",
       "</style>\n",
       "<table border=\"1\" class=\"dataframe\">\n",
       "  <thead>\n",
       "    <tr style=\"text-align: right;\">\n",
       "      <th></th>\n",
       "      <th>Unnamed: 0</th>\n",
       "      <th>State</th>\n",
       "      <th>Participation</th>\n",
       "      <th>English</th>\n",
       "      <th>Math</th>\n",
       "      <th>Reading</th>\n",
       "      <th>Science</th>\n",
       "      <th>Composite</th>\n",
       "    </tr>\n",
       "  </thead>\n",
       "  <tbody>\n",
       "    <tr>\n",
       "      <th>21</th>\n",
       "      <td>21</td>\n",
       "      <td>Maryland</td>\n",
       "      <td>28%</td>\n",
       "      <td>23.3</td>\n",
       "      <td>23.1</td>\n",
       "      <td>24.2</td>\n",
       "      <td>2.3</td>\n",
       "      <td>23.6</td>\n",
       "    </tr>\n",
       "  </tbody>\n",
       "</table>\n",
       "</div>"
      ],
      "text/plain": [
       "    Unnamed: 0     State Participation  English  Math  Reading  Science  \\\n",
       "21          21  Maryland           28%     23.3  23.1     24.2      2.3   \n",
       "\n",
       "    Composite  \n",
       "21       23.6  "
      ]
     },
     "execution_count": 12,
     "metadata": {},
     "output_type": "execute_result"
    }
   ],
   "source": [
    "act.loc[act['Science'] < 15]"
   ]
  },
  {
   "cell_type": "markdown",
   "metadata": {},
   "source": [
    "Again: Something strange here. Presumably these are errors in data entry."
   ]
  },
  {
   "cell_type": "code",
   "execution_count": 13,
   "metadata": {},
   "outputs": [
    {
     "data": {
      "text/html": [
       "<div>\n",
       "<style scoped>\n",
       "    .dataframe tbody tr th:only-of-type {\n",
       "        vertical-align: middle;\n",
       "    }\n",
       "\n",
       "    .dataframe tbody tr th {\n",
       "        vertical-align: top;\n",
       "    }\n",
       "\n",
       "    .dataframe thead th {\n",
       "        text-align: right;\n",
       "    }\n",
       "</style>\n",
       "<table border=\"1\" class=\"dataframe\">\n",
       "  <thead>\n",
       "    <tr style=\"text-align: right;\">\n",
       "      <th></th>\n",
       "      <th>Unnamed: 0</th>\n",
       "      <th>State</th>\n",
       "      <th>Participation</th>\n",
       "      <th>English</th>\n",
       "      <th>Math</th>\n",
       "      <th>Reading</th>\n",
       "      <th>Science</th>\n",
       "      <th>Composite</th>\n",
       "    </tr>\n",
       "  </thead>\n",
       "  <tbody>\n",
       "  </tbody>\n",
       "</table>\n",
       "</div>"
      ],
      "text/plain": [
       "Empty DataFrame\n",
       "Columns: [Unnamed: 0, State, Participation, English, Math, Reading, Science, Composite]\n",
       "Index: []"
      ]
     },
     "execution_count": 13,
     "metadata": {},
     "output_type": "execute_result"
    }
   ],
   "source": [
    "act.loc[act['Composite'] < 15]"
   ]
  },
  {
   "cell_type": "markdown",
   "metadata": {},
   "source": [
    "##### 5. Print the types of each column."
   ]
  },
  {
   "cell_type": "code",
   "execution_count": 14,
   "metadata": {
    "scrolled": true
   },
   "outputs": [
    {
     "data": {
      "text/plain": [
       "Unnamed: 0         int64\n",
       "State             object\n",
       "Participation     object\n",
       "English          float64\n",
       "Math             float64\n",
       "Reading          float64\n",
       "Science          float64\n",
       "Composite        float64\n",
       "dtype: object"
      ]
     },
     "execution_count": 14,
     "metadata": {},
     "output_type": "execute_result"
    }
   ],
   "source": [
    "act.dtypes"
   ]
  },
  {
   "cell_type": "code",
   "execution_count": 15,
   "metadata": {},
   "outputs": [
    {
     "data": {
      "text/plain": [
       "Unnamed: 0                             int64\n",
       "State                                 object\n",
       "Participation                         object\n",
       "Evidence-Based Reading and Writing     int64\n",
       "Math                                   int64\n",
       "Total                                  int64\n",
       "dtype: object"
      ]
     },
     "execution_count": 15,
     "metadata": {},
     "output_type": "execute_result"
    }
   ],
   "source": [
    "sat.dtypes"
   ]
  },
  {
   "cell_type": "markdown",
   "metadata": {},
   "source": [
    "##### 6. Do any types need to be reassigned? If so, go ahead and do it."
   ]
  },
  {
   "cell_type": "markdown",
   "metadata": {},
   "source": [
    "It will prove useful to have our Particpation values as integers."
   ]
  },
  {
   "cell_type": "code",
   "execution_count": 2,
   "metadata": {},
   "outputs": [],
   "source": [
    "act['Participation'] = [string.replace('%', '') for string in act['Participation']]\n",
    "num_act_ptcpn = [int(string) for string in act['Participation']]\n",
    "act['Participation'] = num_act_ptcpn\n",
    "\n",
    "sat['Participation'] = [string.replace('%', '') for string in sat['Participation']]\n",
    "num_sat_ptcpn = [int(string) for string in sat['Participation']]\n",
    "sat['Participation'] = num_sat_ptcpn"
   ]
  },
  {
   "cell_type": "markdown",
   "metadata": {},
   "source": [
    "##### 7. Create a dictionary for each column mapping the State to its respective value for that column. (For example, you should have three SAT dictionaries.)"
   ]
  },
  {
   "cell_type": "code",
   "execution_count": 17,
   "metadata": {},
   "outputs": [],
   "source": [
    "sat_keys = sat['State']\n",
    "reading = sat['Evidence-Based Reading and Writing']\n",
    "sat_reading = dict(zip(sat_keys, reading))"
   ]
  },
  {
   "cell_type": "code",
   "execution_count": 18,
   "metadata": {},
   "outputs": [],
   "source": [
    "math = sat['Math']\n",
    "sat_math = dict(zip(sat_keys, math))"
   ]
  },
  {
   "cell_type": "code",
   "execution_count": 8,
   "metadata": {},
   "outputs": [],
   "source": [
    "total = sat['Total']\n",
    "sat_total = dict(zip(sat_keys, total))"
   ]
  },
  {
   "cell_type": "code",
   "execution_count": 9,
   "metadata": {},
   "outputs": [],
   "source": [
    "act_keys = act['State']\n",
    "english = act['English']\n",
    "act_reading = dict(zip(act_keys, english))"
   ]
  },
  {
   "cell_type": "code",
   "execution_count": 10,
   "metadata": {},
   "outputs": [],
   "source": [
    "math2 = act['Math']\n",
    "act_math = dict(zip(act_keys, math2))"
   ]
  },
  {
   "cell_type": "code",
   "execution_count": 11,
   "metadata": {},
   "outputs": [],
   "source": [
    "reading2 = act['Reading']\n",
    "act_reading = dict(zip(act_keys, reading2))"
   ]
  },
  {
   "cell_type": "code",
   "execution_count": 12,
   "metadata": {},
   "outputs": [],
   "source": [
    "science = act['Science']\n",
    "act_science = dict(zip(act_keys, science))"
   ]
  },
  {
   "cell_type": "code",
   "execution_count": 13,
   "metadata": {},
   "outputs": [],
   "source": [
    "composite = act['Composite']\n",
    "act_composite = dict(zip(act_keys, composite))"
   ]
  },
  {
   "cell_type": "markdown",
   "metadata": {},
   "source": [
    "##### 8. Create one dictionary where each key is the column name, and each value is an iterable (a list or a Pandas Series) of all the values in that column."
   ]
  },
  {
   "cell_type": "code",
   "execution_count": 14,
   "metadata": {},
   "outputs": [],
   "source": [
    "sat_dict = sat.to_dict()\n",
    "act_dict = act.to_dict()"
   ]
  },
  {
   "cell_type": "markdown",
   "metadata": {},
   "source": [
    "##### 9. Merge the dataframes on the state column."
   ]
  },
  {
   "cell_type": "code",
   "execution_count": 3,
   "metadata": {},
   "outputs": [],
   "source": [
    "act_sat_merge = act.merge(sat, 'outer', on = 'State')"
   ]
  },
  {
   "cell_type": "markdown",
   "metadata": {},
   "source": [
    "##### 10. Change the names of the columns so you can distinguish between the SAT columns and the ACT columns."
   ]
  },
  {
   "cell_type": "code",
   "execution_count": 4,
   "metadata": {},
   "outputs": [],
   "source": [
    "act_sat_merge.columns = ['ACT ID', 'State', 'ACT Ptcpn', 'ACT Eng', 'ACT Math', 'ACT Read', 'ACT Sci', 'ACT Comp', 'SAT ID', 'SAT Ptcpn', 'SAT Verbal', 'SAT Math', 'SAT Total']"
   ]
  },
  {
   "cell_type": "markdown",
   "metadata": {},
   "source": [
    "##### 11. Print the minimum and maximum of each numeric column in the data frame."
   ]
  },
  {
   "cell_type": "code",
   "execution_count": 6,
   "metadata": {},
   "outputs": [
    {
     "name": "stdout",
     "output_type": "stream",
     "text": [
      "The minimum state average for ACT English is: 16.3\n",
      "The maximum state average for ACT English is: 25.5\n",
      "The minimum state average for ACT Math is: 18.0\n",
      "The maximum state average for ACT Math is: 25.3\n",
      "The minimum state average for ACT Reading is: 18.1\n",
      "The maximum state average for ACT Reading is: 26.0\n",
      "The minimum state average for ACT Science is: 2.3\n",
      "The maximum state average for ACT Science is: 24.9\n",
      "The minimum state average for ACT Composite is: 17.8\n",
      "The maximum state average for ACT Composite is: 25.5\n",
      "The minimum state average for SAT Verbal is: 482.0\n",
      "The maximum state average for SAT Verbal is: 644.0\n",
      "The minimum state average for SAT Math is: 52.0\n",
      "The maximum state average for SAT Math is: 651.0\n",
      "The minimum state average for SAT Total is: 950.0\n",
      "The maximum state average for SAT Total is: 1295.0\n"
     ]
    }
   ],
   "source": [
    "print('The minimum state average for ACT English is:', act_sat_merge['ACT Eng'].min())\n",
    "print('The maximum state average for ACT English is:', act_sat_merge['ACT Eng'].max())\n",
    "print('The minimum state average for ACT Math is:', act_sat_merge['ACT Math'].min())\n",
    "print('The maximum state average for ACT Math is:', act_sat_merge['ACT Math'].max())\n",
    "print('The minimum state average for ACT Reading is:', act_sat_merge['ACT Read'].min())\n",
    "print('The maximum state average for ACT Reading is:' ,act_sat_merge['ACT Read'].max())\n",
    "print('The minimum state average for ACT Science is:', act_sat_merge['ACT Sci'].min())\n",
    "print('The maximum state average for ACT Science is:', act_sat_merge['ACT Sci'].max())\n",
    "print('The minimum state average for ACT Composite is:', act_sat_merge['ACT Comp'].min())\n",
    "print('The maximum state average for ACT Composite is:', act_sat_merge['ACT Comp'].max())\n",
    "print('The minimum state average for SAT Verbal is:', act_sat_merge['SAT Verbal'].min())\n",
    "print('The maximum state average for SAT Verbal is:', act_sat_merge['SAT Verbal'].max())\n",
    "print('The minimum state average for SAT Math is:', act_sat_merge['SAT Math'].min())\n",
    "print('The maximum state average for SAT Math is:', act_sat_merge['SAT Math'].max())\n",
    "print('The minimum state average for SAT Total is:', act_sat_merge['SAT Total'].min())\n",
    "print('The maximum state average for SAT Total is:', act_sat_merge['SAT Total'].max())"
   ]
  },
  {
   "cell_type": "markdown",
   "metadata": {},
   "source": [
    "##### 12. Write a function using only list comprehensions, no loops, to compute standard deviation. Using this function, calculate the standard deviation of each numeric column in both data sets. Add these to a list called `sd`.\n",
    "\n",
    "$$\\sigma = \\sqrt{\\frac{1}{n}\\sum_{i=1}^n(x_i - \\mu)^2}$$"
   ]
  },
  {
   "cell_type": "code",
   "execution_count": 8,
   "metadata": {},
   "outputs": [],
   "source": [
    "def st_dev(listin):\n",
    "    import numpy as np\n",
    "    list_mean = np.mean(listin)\n",
    "    err = [(num - list_mean) ** 2 for num in listin]\n",
    "    return np.sqrt(1 / len(listin) * sum(err))"
   ]
  },
  {
   "cell_type": "markdown",
   "metadata": {},
   "source": [
    "We'll create ```sd``` in two steps, the complication arising from the fact that the values in the first row of the SAT columns are ```NaN```s."
   ]
  },
  {
   "cell_type": "code",
   "execution_count": 9,
   "metadata": {},
   "outputs": [],
   "source": [
    "sd = []\n",
    "for col in ['ACT Eng', 'ACT Math', 'ACT Read', 'ACT Sci', 'ACT Comp']:\n",
    "    sd.append(st_dev(act_sat_merge[col]))\n",
    "for col in ['SAT Verbal', 'SAT Math', 'SAT Total']:\n",
    "    sd.append(st_dev(act_sat_merge[col][1:]))"
   ]
  },
  {
   "cell_type": "code",
   "execution_count": 10,
   "metadata": {},
   "outputs": [
    {
     "data": {
      "text/plain": [
       "[2.3095985716418723,\n",
       " 1.9446292295028094,\n",
       " 2.0288771415788838,\n",
       " 3.120666818250956,\n",
       " 1.9827389384951444,\n",
       " 45.21697020437866,\n",
       " 84.07255521608297,\n",
       " 91.58351056778743]"
      ]
     },
     "execution_count": 10,
     "metadata": {},
     "output_type": "execute_result"
    }
   ],
   "source": [
    "sd"
   ]
  },
  {
   "cell_type": "markdown",
   "metadata": {},
   "source": [
    "## Step 2: Manipulate the dataframe"
   ]
  },
  {
   "cell_type": "markdown",
   "metadata": {},
   "source": [
    "##### 13. Turn the list `sd` into a new observation in your dataset."
   ]
  },
  {
   "cell_type": "markdown",
   "metadata": {},
   "source": [
    "We'll begin by turning sd into a dictionary. Then we'll turn it into a data frame that can be appended to our existing ```act_sat_merge``` data frame. There is one extra step, which I'll explain below inline."
   ]
  },
  {
   "cell_type": "code",
   "execution_count": 17,
   "metadata": {},
   "outputs": [],
   "source": [
    "num_col = ['ACT Eng', 'ACT Math', 'ACT Read', 'ACT Sci', 'ACT Comp', 'SAT Verbal', 'SAT Math', 'SAT Total']\n",
    "sd_dict = dict(zip(num_col, [value for value in sd]))\n",
    "\n",
    "# The extra step is here. The .DataFrame command, when applied to a dictionary, expects lists as the dictionary's\n",
    "# values. Thus we must convert the scalars into (1-element) lists before proceeding.\n",
    "\n",
    "for key, value in sd_dict.items():\n",
    "    sd_dict[key] = list([value])\n",
    "sd_df = pd.DataFrame(sd_dict)\n",
    "act_sat_plus_stdev = act_sat_merge.append(sd_df)"
   ]
  },
  {
   "cell_type": "markdown",
   "metadata": {},
   "source": [
    "##### 14. Sort the dataframe by the values in a numeric column (e.g. observations descending by SAT participation rate)"
   ]
  },
  {
   "cell_type": "code",
   "execution_count": 23,
   "metadata": {},
   "outputs": [
    {
     "data": {
      "text/html": [
       "<div>\n",
       "<style scoped>\n",
       "    .dataframe tbody tr th:only-of-type {\n",
       "        vertical-align: middle;\n",
       "    }\n",
       "\n",
       "    .dataframe tbody tr th {\n",
       "        vertical-align: top;\n",
       "    }\n",
       "\n",
       "    .dataframe thead th {\n",
       "        text-align: right;\n",
       "    }\n",
       "</style>\n",
       "<table border=\"1\" class=\"dataframe\">\n",
       "  <thead>\n",
       "    <tr style=\"text-align: right;\">\n",
       "      <th></th>\n",
       "      <th>ACT Comp</th>\n",
       "      <th>ACT Eng</th>\n",
       "      <th>ACT ID</th>\n",
       "      <th>ACT Math</th>\n",
       "      <th>ACT Ptcpn</th>\n",
       "      <th>ACT Read</th>\n",
       "      <th>ACT Sci</th>\n",
       "      <th>SAT ID</th>\n",
       "      <th>SAT Math</th>\n",
       "      <th>SAT Ptcpn</th>\n",
       "      <th>SAT Total</th>\n",
       "      <th>SAT Verbal</th>\n",
       "      <th>State</th>\n",
       "    </tr>\n",
       "  </thead>\n",
       "  <tbody>\n",
       "    <tr>\n",
       "      <th>0</th>\n",
       "      <td>1.982739</td>\n",
       "      <td>2.309599</td>\n",
       "      <td>NaN</td>\n",
       "      <td>1.944629</td>\n",
       "      <td>NaN</td>\n",
       "      <td>2.028877</td>\n",
       "      <td>3.120667</td>\n",
       "      <td>NaN</td>\n",
       "      <td>84.072555</td>\n",
       "      <td>NaN</td>\n",
       "      <td>91.583511</td>\n",
       "      <td>45.21697</td>\n",
       "      <td>NaN</td>\n",
       "    </tr>\n",
       "    <tr>\n",
       "      <th>29</th>\n",
       "      <td>17.800000</td>\n",
       "      <td>16.300000</td>\n",
       "      <td>29.0</td>\n",
       "      <td>18.000000</td>\n",
       "      <td>100.0</td>\n",
       "      <td>18.100000</td>\n",
       "      <td>18.200000</td>\n",
       "      <td>28.0</td>\n",
       "      <td>553.000000</td>\n",
       "      <td>26.0</td>\n",
       "      <td>1116.000000</td>\n",
       "      <td>563.00000</td>\n",
       "      <td>Nevada</td>\n",
       "    </tr>\n",
       "    <tr>\n",
       "      <th>25</th>\n",
       "      <td>18.600000</td>\n",
       "      <td>18.200000</td>\n",
       "      <td>25.0</td>\n",
       "      <td>18.100000</td>\n",
       "      <td>100.0</td>\n",
       "      <td>18.800000</td>\n",
       "      <td>18.800000</td>\n",
       "      <td>24.0</td>\n",
       "      <td>607.000000</td>\n",
       "      <td>2.0</td>\n",
       "      <td>1242.000000</td>\n",
       "      <td>634.00000</td>\n",
       "      <td>Mississippi</td>\n",
       "    </tr>\n",
       "    <tr>\n",
       "      <th>41</th>\n",
       "      <td>18.700000</td>\n",
       "      <td>17.500000</td>\n",
       "      <td>41.0</td>\n",
       "      <td>18.600000</td>\n",
       "      <td>100.0</td>\n",
       "      <td>19.100000</td>\n",
       "      <td>18.900000</td>\n",
       "      <td>40.0</td>\n",
       "      <td>521.000000</td>\n",
       "      <td>50.0</td>\n",
       "      <td>1064.000000</td>\n",
       "      <td>543.00000</td>\n",
       "      <td>South Carolina</td>\n",
       "    </tr>\n",
       "    <tr>\n",
       "      <th>12</th>\n",
       "      <td>19.000000</td>\n",
       "      <td>17.800000</td>\n",
       "      <td>12.0</td>\n",
       "      <td>19.200000</td>\n",
       "      <td>90.0</td>\n",
       "      <td>19.200000</td>\n",
       "      <td>19.300000</td>\n",
       "      <td>11.0</td>\n",
       "      <td>541.000000</td>\n",
       "      <td>55.0</td>\n",
       "      <td>1085.000000</td>\n",
       "      <td>544.00000</td>\n",
       "      <td>Hawaii</td>\n",
       "    </tr>\n",
       "    <tr>\n",
       "      <th>34</th>\n",
       "      <td>19.100000</td>\n",
       "      <td>17.800000</td>\n",
       "      <td>34.0</td>\n",
       "      <td>19.300000</td>\n",
       "      <td>100.0</td>\n",
       "      <td>19.600000</td>\n",
       "      <td>19.300000</td>\n",
       "      <td>33.0</td>\n",
       "      <td>535.000000</td>\n",
       "      <td>49.0</td>\n",
       "      <td>1081.000000</td>\n",
       "      <td>546.00000</td>\n",
       "      <td>North Carolina</td>\n",
       "    </tr>\n",
       "    <tr>\n",
       "      <th>1</th>\n",
       "      <td>19.200000</td>\n",
       "      <td>18.900000</td>\n",
       "      <td>1.0</td>\n",
       "      <td>18.400000</td>\n",
       "      <td>100.0</td>\n",
       "      <td>19.700000</td>\n",
       "      <td>19.400000</td>\n",
       "      <td>0.0</td>\n",
       "      <td>572.000000</td>\n",
       "      <td>5.0</td>\n",
       "      <td>1165.000000</td>\n",
       "      <td>593.00000</td>\n",
       "      <td>Alabama</td>\n",
       "    </tr>\n",
       "    <tr>\n",
       "      <th>4</th>\n",
       "      <td>19.400000</td>\n",
       "      <td>18.900000</td>\n",
       "      <td>4.0</td>\n",
       "      <td>19.000000</td>\n",
       "      <td>100.0</td>\n",
       "      <td>19.700000</td>\n",
       "      <td>19.500000</td>\n",
       "      <td>3.0</td>\n",
       "      <td>594.000000</td>\n",
       "      <td>3.0</td>\n",
       "      <td>1208.000000</td>\n",
       "      <td>614.00000</td>\n",
       "      <td>Arkansas</td>\n",
       "    </tr>\n",
       "    <tr>\n",
       "      <th>37</th>\n",
       "      <td>19.400000</td>\n",
       "      <td>18.500000</td>\n",
       "      <td>37.0</td>\n",
       "      <td>18.800000</td>\n",
       "      <td>100.0</td>\n",
       "      <td>20.100000</td>\n",
       "      <td>19.600000</td>\n",
       "      <td>36.0</td>\n",
       "      <td>517.000000</td>\n",
       "      <td>7.0</td>\n",
       "      <td>1047.000000</td>\n",
       "      <td>530.00000</td>\n",
       "      <td>Oklahoma</td>\n",
       "    </tr>\n",
       "    <tr>\n",
       "      <th>19</th>\n",
       "      <td>19.500000</td>\n",
       "      <td>19.400000</td>\n",
       "      <td>19.0</td>\n",
       "      <td>18.800000</td>\n",
       "      <td>100.0</td>\n",
       "      <td>19.800000</td>\n",
       "      <td>19.600000</td>\n",
       "      <td>18.0</td>\n",
       "      <td>586.000000</td>\n",
       "      <td>4.0</td>\n",
       "      <td>1198.000000</td>\n",
       "      <td>611.00000</td>\n",
       "      <td>Louisiana</td>\n",
       "    </tr>\n",
       "    <tr>\n",
       "      <th>3</th>\n",
       "      <td>19.700000</td>\n",
       "      <td>18.600000</td>\n",
       "      <td>3.0</td>\n",
       "      <td>19.800000</td>\n",
       "      <td>62.0</td>\n",
       "      <td>20.100000</td>\n",
       "      <td>19.800000</td>\n",
       "      <td>2.0</td>\n",
       "      <td>553.000000</td>\n",
       "      <td>30.0</td>\n",
       "      <td>1116.000000</td>\n",
       "      <td>563.00000</td>\n",
       "      <td>Arizona</td>\n",
       "    </tr>\n",
       "    <tr>\n",
       "      <th>32</th>\n",
       "      <td>19.700000</td>\n",
       "      <td>18.600000</td>\n",
       "      <td>32.0</td>\n",
       "      <td>19.400000</td>\n",
       "      <td>66.0</td>\n",
       "      <td>20.400000</td>\n",
       "      <td>20.000000</td>\n",
       "      <td>31.0</td>\n",
       "      <td>561.000000</td>\n",
       "      <td>11.0</td>\n",
       "      <td>1138.000000</td>\n",
       "      <td>577.00000</td>\n",
       "      <td>New Mexico</td>\n",
       "    </tr>\n",
       "    <tr>\n",
       "      <th>10</th>\n",
       "      <td>19.800000</td>\n",
       "      <td>19.000000</td>\n",
       "      <td>10.0</td>\n",
       "      <td>19.400000</td>\n",
       "      <td>73.0</td>\n",
       "      <td>21.000000</td>\n",
       "      <td>19.400000</td>\n",
       "      <td>9.0</td>\n",
       "      <td>497.000000</td>\n",
       "      <td>83.0</td>\n",
       "      <td>1017.000000</td>\n",
       "      <td>520.00000</td>\n",
       "      <td>Florida</td>\n",
       "    </tr>\n",
       "    <tr>\n",
       "      <th>43</th>\n",
       "      <td>19.800000</td>\n",
       "      <td>19.500000</td>\n",
       "      <td>43.0</td>\n",
       "      <td>19.200000</td>\n",
       "      <td>100.0</td>\n",
       "      <td>20.100000</td>\n",
       "      <td>19.900000</td>\n",
       "      <td>42.0</td>\n",
       "      <td>604.000000</td>\n",
       "      <td>5.0</td>\n",
       "      <td>1228.000000</td>\n",
       "      <td>623.00000</td>\n",
       "      <td>Tennessee</td>\n",
       "    </tr>\n",
       "    <tr>\n",
       "      <th>2</th>\n",
       "      <td>19.800000</td>\n",
       "      <td>18.700000</td>\n",
       "      <td>2.0</td>\n",
       "      <td>19.800000</td>\n",
       "      <td>65.0</td>\n",
       "      <td>20.400000</td>\n",
       "      <td>19.900000</td>\n",
       "      <td>1.0</td>\n",
       "      <td>533.000000</td>\n",
       "      <td>38.0</td>\n",
       "      <td>1080.000000</td>\n",
       "      <td>547.00000</td>\n",
       "      <td>Alaska</td>\n",
       "    </tr>\n",
       "    <tr>\n",
       "      <th>18</th>\n",
       "      <td>20.000000</td>\n",
       "      <td>19.600000</td>\n",
       "      <td>18.0</td>\n",
       "      <td>19.400000</td>\n",
       "      <td>100.0</td>\n",
       "      <td>20.500000</td>\n",
       "      <td>20.100000</td>\n",
       "      <td>17.0</td>\n",
       "      <td>616.000000</td>\n",
       "      <td>4.0</td>\n",
       "      <td>1247.000000</td>\n",
       "      <td>631.00000</td>\n",
       "      <td>Kentucky</td>\n",
       "    </tr>\n",
       "    <tr>\n",
       "      <th>51</th>\n",
       "      <td>20.200000</td>\n",
       "      <td>19.400000</td>\n",
       "      <td>51.0</td>\n",
       "      <td>19.800000</td>\n",
       "      <td>100.0</td>\n",
       "      <td>20.800000</td>\n",
       "      <td>20.600000</td>\n",
       "      <td>50.0</td>\n",
       "      <td>604.000000</td>\n",
       "      <td>3.0</td>\n",
       "      <td>1230.000000</td>\n",
       "      <td>626.00000</td>\n",
       "      <td>Wyoming</td>\n",
       "    </tr>\n",
       "    <tr>\n",
       "      <th>45</th>\n",
       "      <td>20.300000</td>\n",
       "      <td>19.500000</td>\n",
       "      <td>45.0</td>\n",
       "      <td>19.900000</td>\n",
       "      <td>100.0</td>\n",
       "      <td>20.800000</td>\n",
       "      <td>20.600000</td>\n",
       "      <td>44.0</td>\n",
       "      <td>614.000000</td>\n",
       "      <td>3.0</td>\n",
       "      <td>1238.000000</td>\n",
       "      <td>624.00000</td>\n",
       "      <td>Utah</td>\n",
       "    </tr>\n",
       "    <tr>\n",
       "      <th>27</th>\n",
       "      <td>20.300000</td>\n",
       "      <td>19.000000</td>\n",
       "      <td>27.0</td>\n",
       "      <td>20.200000</td>\n",
       "      <td>100.0</td>\n",
       "      <td>21.000000</td>\n",
       "      <td>20.500000</td>\n",
       "      <td>26.0</td>\n",
       "      <td>591.000000</td>\n",
       "      <td>10.0</td>\n",
       "      <td>1196.000000</td>\n",
       "      <td>605.00000</td>\n",
       "      <td>Montana</td>\n",
       "    </tr>\n",
       "    <tr>\n",
       "      <th>35</th>\n",
       "      <td>20.300000</td>\n",
       "      <td>19.000000</td>\n",
       "      <td>35.0</td>\n",
       "      <td>20.400000</td>\n",
       "      <td>98.0</td>\n",
       "      <td>20.500000</td>\n",
       "      <td>20.600000</td>\n",
       "      <td>34.0</td>\n",
       "      <td>621.000000</td>\n",
       "      <td>2.0</td>\n",
       "      <td>1256.000000</td>\n",
       "      <td>635.00000</td>\n",
       "      <td>North Dakota</td>\n",
       "    </tr>\n",
       "    <tr>\n",
       "      <th>49</th>\n",
       "      <td>20.400000</td>\n",
       "      <td>20.000000</td>\n",
       "      <td>49.0</td>\n",
       "      <td>19.400000</td>\n",
       "      <td>69.0</td>\n",
       "      <td>21.200000</td>\n",
       "      <td>20.500000</td>\n",
       "      <td>48.0</td>\n",
       "      <td>528.000000</td>\n",
       "      <td>14.0</td>\n",
       "      <td>1086.000000</td>\n",
       "      <td>558.00000</td>\n",
       "      <td>West Virginia</td>\n",
       "    </tr>\n",
       "    <tr>\n",
       "      <th>26</th>\n",
       "      <td>20.400000</td>\n",
       "      <td>19.800000</td>\n",
       "      <td>26.0</td>\n",
       "      <td>19.900000</td>\n",
       "      <td>100.0</td>\n",
       "      <td>20.800000</td>\n",
       "      <td>20.500000</td>\n",
       "      <td>25.0</td>\n",
       "      <td>631.000000</td>\n",
       "      <td>3.0</td>\n",
       "      <td>1271.000000</td>\n",
       "      <td>640.00000</td>\n",
       "      <td>Missouri</td>\n",
       "    </tr>\n",
       "    <tr>\n",
       "      <th>50</th>\n",
       "      <td>20.500000</td>\n",
       "      <td>19.700000</td>\n",
       "      <td>50.0</td>\n",
       "      <td>20.400000</td>\n",
       "      <td>100.0</td>\n",
       "      <td>20.600000</td>\n",
       "      <td>20.900000</td>\n",
       "      <td>49.0</td>\n",
       "      <td>649.000000</td>\n",
       "      <td>3.0</td>\n",
       "      <td>1291.000000</td>\n",
       "      <td>642.00000</td>\n",
       "      <td>Wisconsin</td>\n",
       "    </tr>\n",
       "    <tr>\n",
       "      <th>44</th>\n",
       "      <td>20.700000</td>\n",
       "      <td>19.500000</td>\n",
       "      <td>44.0</td>\n",
       "      <td>20.700000</td>\n",
       "      <td>45.0</td>\n",
       "      <td>21.100000</td>\n",
       "      <td>20.900000</td>\n",
       "      <td>43.0</td>\n",
       "      <td>507.000000</td>\n",
       "      <td>62.0</td>\n",
       "      <td>1020.000000</td>\n",
       "      <td>513.00000</td>\n",
       "      <td>Texas</td>\n",
       "    </tr>\n",
       "    <tr>\n",
       "      <th>6</th>\n",
       "      <td>20.800000</td>\n",
       "      <td>20.100000</td>\n",
       "      <td>6.0</td>\n",
       "      <td>20.300000</td>\n",
       "      <td>100.0</td>\n",
       "      <td>21.200000</td>\n",
       "      <td>20.900000</td>\n",
       "      <td>5.0</td>\n",
       "      <td>595.000000</td>\n",
       "      <td>11.0</td>\n",
       "      <td>1201.000000</td>\n",
       "      <td>606.00000</td>\n",
       "      <td>Colorado</td>\n",
       "    </tr>\n",
       "    <tr>\n",
       "      <th>0</th>\n",
       "      <td>21.000000</td>\n",
       "      <td>20.300000</td>\n",
       "      <td>0.0</td>\n",
       "      <td>20.700000</td>\n",
       "      <td>60.0</td>\n",
       "      <td>21.400000</td>\n",
       "      <td>21.000000</td>\n",
       "      <td>NaN</td>\n",
       "      <td>NaN</td>\n",
       "      <td>NaN</td>\n",
       "      <td>NaN</td>\n",
       "      <td>NaN</td>\n",
       "      <td>National</td>\n",
       "    </tr>\n",
       "    <tr>\n",
       "      <th>28</th>\n",
       "      <td>21.400000</td>\n",
       "      <td>20.900000</td>\n",
       "      <td>28.0</td>\n",
       "      <td>20.900000</td>\n",
       "      <td>84.0</td>\n",
       "      <td>21.900000</td>\n",
       "      <td>21.500000</td>\n",
       "      <td>27.0</td>\n",
       "      <td>625.000000</td>\n",
       "      <td>3.0</td>\n",
       "      <td>1253.000000</td>\n",
       "      <td>629.00000</td>\n",
       "      <td>Nebraska</td>\n",
       "    </tr>\n",
       "    <tr>\n",
       "      <th>14</th>\n",
       "      <td>21.400000</td>\n",
       "      <td>21.000000</td>\n",
       "      <td>14.0</td>\n",
       "      <td>21.200000</td>\n",
       "      <td>93.0</td>\n",
       "      <td>21.600000</td>\n",
       "      <td>21.300000</td>\n",
       "      <td>13.0</td>\n",
       "      <td>556.000000</td>\n",
       "      <td>9.0</td>\n",
       "      <td>1115.000000</td>\n",
       "      <td>559.00000</td>\n",
       "      <td>Illinois</td>\n",
       "    </tr>\n",
       "    <tr>\n",
       "      <th>11</th>\n",
       "      <td>21.400000</td>\n",
       "      <td>21.000000</td>\n",
       "      <td>11.0</td>\n",
       "      <td>20.900000</td>\n",
       "      <td>55.0</td>\n",
       "      <td>22.000000</td>\n",
       "      <td>21.300000</td>\n",
       "      <td>10.0</td>\n",
       "      <td>515.000000</td>\n",
       "      <td>61.0</td>\n",
       "      <td>1050.000000</td>\n",
       "      <td>535.00000</td>\n",
       "      <td>Georgia</td>\n",
       "    </tr>\n",
       "    <tr>\n",
       "      <th>24</th>\n",
       "      <td>21.500000</td>\n",
       "      <td>20.400000</td>\n",
       "      <td>24.0</td>\n",
       "      <td>21.500000</td>\n",
       "      <td>100.0</td>\n",
       "      <td>21.800000</td>\n",
       "      <td>21.600000</td>\n",
       "      <td>23.0</td>\n",
       "      <td>651.000000</td>\n",
       "      <td>3.0</td>\n",
       "      <td>1295.000000</td>\n",
       "      <td>644.00000</td>\n",
       "      <td>Minnesota</td>\n",
       "    </tr>\n",
       "    <tr>\n",
       "      <th>17</th>\n",
       "      <td>21.700000</td>\n",
       "      <td>21.100000</td>\n",
       "      <td>17.0</td>\n",
       "      <td>21.300000</td>\n",
       "      <td>73.0</td>\n",
       "      <td>22.300000</td>\n",
       "      <td>21.700000</td>\n",
       "      <td>16.0</td>\n",
       "      <td>628.000000</td>\n",
       "      <td>4.0</td>\n",
       "      <td>1260.000000</td>\n",
       "      <td>632.00000</td>\n",
       "      <td>Kansas</td>\n",
       "    </tr>\n",
       "    <tr>\n",
       "      <th>42</th>\n",
       "      <td>21.800000</td>\n",
       "      <td>20.700000</td>\n",
       "      <td>42.0</td>\n",
       "      <td>21.500000</td>\n",
       "      <td>80.0</td>\n",
       "      <td>22.300000</td>\n",
       "      <td>22.000000</td>\n",
       "      <td>41.0</td>\n",
       "      <td>603.000000</td>\n",
       "      <td>3.0</td>\n",
       "      <td>1216.000000</td>\n",
       "      <td>612.00000</td>\n",
       "      <td>South Dakota</td>\n",
       "    </tr>\n",
       "    <tr>\n",
       "      <th>38</th>\n",
       "      <td>21.800000</td>\n",
       "      <td>21.200000</td>\n",
       "      <td>38.0</td>\n",
       "      <td>21.500000</td>\n",
       "      <td>40.0</td>\n",
       "      <td>22.400000</td>\n",
       "      <td>21.700000</td>\n",
       "      <td>37.0</td>\n",
       "      <td>548.000000</td>\n",
       "      <td>43.0</td>\n",
       "      <td>1108.000000</td>\n",
       "      <td>560.00000</td>\n",
       "      <td>Oregon</td>\n",
       "    </tr>\n",
       "    <tr>\n",
       "      <th>16</th>\n",
       "      <td>21.900000</td>\n",
       "      <td>21.200000</td>\n",
       "      <td>16.0</td>\n",
       "      <td>21.300000</td>\n",
       "      <td>67.0</td>\n",
       "      <td>22.600000</td>\n",
       "      <td>22.100000</td>\n",
       "      <td>15.0</td>\n",
       "      <td>635.000000</td>\n",
       "      <td>2.0</td>\n",
       "      <td>1275.000000</td>\n",
       "      <td>641.00000</td>\n",
       "      <td>Iowa</td>\n",
       "    </tr>\n",
       "    <tr>\n",
       "      <th>48</th>\n",
       "      <td>21.900000</td>\n",
       "      <td>20.900000</td>\n",
       "      <td>48.0</td>\n",
       "      <td>21.900000</td>\n",
       "      <td>29.0</td>\n",
       "      <td>22.100000</td>\n",
       "      <td>22.000000</td>\n",
       "      <td>47.0</td>\n",
       "      <td>534.000000</td>\n",
       "      <td>64.0</td>\n",
       "      <td>1075.000000</td>\n",
       "      <td>541.00000</td>\n",
       "      <td>Washington</td>\n",
       "    </tr>\n",
       "    <tr>\n",
       "      <th>36</th>\n",
       "      <td>22.000000</td>\n",
       "      <td>21.200000</td>\n",
       "      <td>36.0</td>\n",
       "      <td>21.600000</td>\n",
       "      <td>75.0</td>\n",
       "      <td>22.500000</td>\n",
       "      <td>22.000000</td>\n",
       "      <td>35.0</td>\n",
       "      <td>570.000000</td>\n",
       "      <td>12.0</td>\n",
       "      <td>1149.000000</td>\n",
       "      <td>578.00000</td>\n",
       "      <td>Ohio</td>\n",
       "    </tr>\n",
       "    <tr>\n",
       "      <th>13</th>\n",
       "      <td>22.300000</td>\n",
       "      <td>21.900000</td>\n",
       "      <td>13.0</td>\n",
       "      <td>21.800000</td>\n",
       "      <td>38.0</td>\n",
       "      <td>23.000000</td>\n",
       "      <td>22.100000</td>\n",
       "      <td>12.0</td>\n",
       "      <td>493.000000</td>\n",
       "      <td>93.0</td>\n",
       "      <td>1005.000000</td>\n",
       "      <td>513.00000</td>\n",
       "      <td>Idaho</td>\n",
       "    </tr>\n",
       "    <tr>\n",
       "      <th>15</th>\n",
       "      <td>22.600000</td>\n",
       "      <td>22.000000</td>\n",
       "      <td>15.0</td>\n",
       "      <td>22.400000</td>\n",
       "      <td>35.0</td>\n",
       "      <td>23.200000</td>\n",
       "      <td>22.300000</td>\n",
       "      <td>14.0</td>\n",
       "      <td>532.000000</td>\n",
       "      <td>63.0</td>\n",
       "      <td>1074.000000</td>\n",
       "      <td>542.00000</td>\n",
       "      <td>Indiana</td>\n",
       "    </tr>\n",
       "    <tr>\n",
       "      <th>5</th>\n",
       "      <td>22.800000</td>\n",
       "      <td>22.500000</td>\n",
       "      <td>5.0</td>\n",
       "      <td>22.700000</td>\n",
       "      <td>31.0</td>\n",
       "      <td>23.100000</td>\n",
       "      <td>22.200000</td>\n",
       "      <td>4.0</td>\n",
       "      <td>524.000000</td>\n",
       "      <td>53.0</td>\n",
       "      <td>1055.000000</td>\n",
       "      <td>531.00000</td>\n",
       "      <td>California</td>\n",
       "    </tr>\n",
       "    <tr>\n",
       "      <th>21</th>\n",
       "      <td>23.600000</td>\n",
       "      <td>23.300000</td>\n",
       "      <td>21.0</td>\n",
       "      <td>23.100000</td>\n",
       "      <td>28.0</td>\n",
       "      <td>24.200000</td>\n",
       "      <td>2.300000</td>\n",
       "      <td>20.0</td>\n",
       "      <td>52.000000</td>\n",
       "      <td>69.0</td>\n",
       "      <td>1060.000000</td>\n",
       "      <td>536.00000</td>\n",
       "      <td>Maryland</td>\n",
       "    </tr>\n",
       "    <tr>\n",
       "      <th>46</th>\n",
       "      <td>23.600000</td>\n",
       "      <td>23.300000</td>\n",
       "      <td>46.0</td>\n",
       "      <td>23.100000</td>\n",
       "      <td>29.0</td>\n",
       "      <td>24.400000</td>\n",
       "      <td>23.200000</td>\n",
       "      <td>45.0</td>\n",
       "      <td>551.000000</td>\n",
       "      <td>60.0</td>\n",
       "      <td>1114.000000</td>\n",
       "      <td>562.00000</td>\n",
       "      <td>Vermont</td>\n",
       "    </tr>\n",
       "    <tr>\n",
       "      <th>39</th>\n",
       "      <td>23.700000</td>\n",
       "      <td>23.400000</td>\n",
       "      <td>39.0</td>\n",
       "      <td>23.400000</td>\n",
       "      <td>23.0</td>\n",
       "      <td>24.200000</td>\n",
       "      <td>23.300000</td>\n",
       "      <td>38.0</td>\n",
       "      <td>531.000000</td>\n",
       "      <td>65.0</td>\n",
       "      <td>1071.000000</td>\n",
       "      <td>540.00000</td>\n",
       "      <td>Pennsylvania</td>\n",
       "    </tr>\n",
       "    <tr>\n",
       "      <th>47</th>\n",
       "      <td>23.800000</td>\n",
       "      <td>23.500000</td>\n",
       "      <td>47.0</td>\n",
       "      <td>23.300000</td>\n",
       "      <td>29.0</td>\n",
       "      <td>24.600000</td>\n",
       "      <td>23.500000</td>\n",
       "      <td>46.0</td>\n",
       "      <td>541.000000</td>\n",
       "      <td>65.0</td>\n",
       "      <td>1102.000000</td>\n",
       "      <td>561.00000</td>\n",
       "      <td>Virginia</td>\n",
       "    </tr>\n",
       "    <tr>\n",
       "      <th>31</th>\n",
       "      <td>23.900000</td>\n",
       "      <td>23.800000</td>\n",
       "      <td>31.0</td>\n",
       "      <td>23.800000</td>\n",
       "      <td>34.0</td>\n",
       "      <td>24.100000</td>\n",
       "      <td>23.200000</td>\n",
       "      <td>30.0</td>\n",
       "      <td>526.000000</td>\n",
       "      <td>70.0</td>\n",
       "      <td>1056.000000</td>\n",
       "      <td>530.00000</td>\n",
       "      <td>New Jersey</td>\n",
       "    </tr>\n",
       "    <tr>\n",
       "      <th>40</th>\n",
       "      <td>24.000000</td>\n",
       "      <td>24.000000</td>\n",
       "      <td>40.0</td>\n",
       "      <td>23.300000</td>\n",
       "      <td>21.0</td>\n",
       "      <td>24.700000</td>\n",
       "      <td>23.400000</td>\n",
       "      <td>39.0</td>\n",
       "      <td>524.000000</td>\n",
       "      <td>71.0</td>\n",
       "      <td>1062.000000</td>\n",
       "      <td>539.00000</td>\n",
       "      <td>Rhode Island</td>\n",
       "    </tr>\n",
       "    <tr>\n",
       "      <th>8</th>\n",
       "      <td>24.100000</td>\n",
       "      <td>24.100000</td>\n",
       "      <td>8.0</td>\n",
       "      <td>23.400000</td>\n",
       "      <td>18.0</td>\n",
       "      <td>24.800000</td>\n",
       "      <td>23.600000</td>\n",
       "      <td>7.0</td>\n",
       "      <td>492.000000</td>\n",
       "      <td>100.0</td>\n",
       "      <td>996.000000</td>\n",
       "      <td>503.00000</td>\n",
       "      <td>Delaware</td>\n",
       "    </tr>\n",
       "    <tr>\n",
       "      <th>23</th>\n",
       "      <td>24.100000</td>\n",
       "      <td>24.100000</td>\n",
       "      <td>23.0</td>\n",
       "      <td>23.700000</td>\n",
       "      <td>29.0</td>\n",
       "      <td>24.500000</td>\n",
       "      <td>23.800000</td>\n",
       "      <td>22.0</td>\n",
       "      <td>495.000000</td>\n",
       "      <td>100.0</td>\n",
       "      <td>1005.000000</td>\n",
       "      <td>509.00000</td>\n",
       "      <td>Michigan</td>\n",
       "    </tr>\n",
       "    <tr>\n",
       "      <th>9</th>\n",
       "      <td>24.200000</td>\n",
       "      <td>24.400000</td>\n",
       "      <td>9.0</td>\n",
       "      <td>23.500000</td>\n",
       "      <td>32.0</td>\n",
       "      <td>24.900000</td>\n",
       "      <td>23.500000</td>\n",
       "      <td>8.0</td>\n",
       "      <td>468.000000</td>\n",
       "      <td>100.0</td>\n",
       "      <td>950.000000</td>\n",
       "      <td>482.00000</td>\n",
       "      <td>District of Columbia</td>\n",
       "    </tr>\n",
       "    <tr>\n",
       "      <th>33</th>\n",
       "      <td>24.200000</td>\n",
       "      <td>23.800000</td>\n",
       "      <td>33.0</td>\n",
       "      <td>24.000000</td>\n",
       "      <td>31.0</td>\n",
       "      <td>24.600000</td>\n",
       "      <td>23.900000</td>\n",
       "      <td>32.0</td>\n",
       "      <td>523.000000</td>\n",
       "      <td>67.0</td>\n",
       "      <td>1052.000000</td>\n",
       "      <td>528.00000</td>\n",
       "      <td>New York</td>\n",
       "    </tr>\n",
       "    <tr>\n",
       "      <th>20</th>\n",
       "      <td>24.300000</td>\n",
       "      <td>24.200000</td>\n",
       "      <td>20.0</td>\n",
       "      <td>24.000000</td>\n",
       "      <td>8.0</td>\n",
       "      <td>24.800000</td>\n",
       "      <td>23.700000</td>\n",
       "      <td>19.0</td>\n",
       "      <td>499.000000</td>\n",
       "      <td>95.0</td>\n",
       "      <td>1012.000000</td>\n",
       "      <td>513.00000</td>\n",
       "      <td>Maine</td>\n",
       "    </tr>\n",
       "    <tr>\n",
       "      <th>7</th>\n",
       "      <td>25.200000</td>\n",
       "      <td>25.500000</td>\n",
       "      <td>7.0</td>\n",
       "      <td>24.600000</td>\n",
       "      <td>31.0</td>\n",
       "      <td>25.600000</td>\n",
       "      <td>24.600000</td>\n",
       "      <td>6.0</td>\n",
       "      <td>512.000000</td>\n",
       "      <td>100.0</td>\n",
       "      <td>1041.000000</td>\n",
       "      <td>530.00000</td>\n",
       "      <td>Connecticut</td>\n",
       "    </tr>\n",
       "    <tr>\n",
       "      <th>22</th>\n",
       "      <td>25.400000</td>\n",
       "      <td>25.400000</td>\n",
       "      <td>22.0</td>\n",
       "      <td>25.300000</td>\n",
       "      <td>29.0</td>\n",
       "      <td>25.900000</td>\n",
       "      <td>24.700000</td>\n",
       "      <td>21.0</td>\n",
       "      <td>551.000000</td>\n",
       "      <td>76.0</td>\n",
       "      <td>1107.000000</td>\n",
       "      <td>555.00000</td>\n",
       "      <td>Massachusetts</td>\n",
       "    </tr>\n",
       "    <tr>\n",
       "      <th>30</th>\n",
       "      <td>25.500000</td>\n",
       "      <td>25.400000</td>\n",
       "      <td>30.0</td>\n",
       "      <td>25.100000</td>\n",
       "      <td>18.0</td>\n",
       "      <td>26.000000</td>\n",
       "      <td>24.900000</td>\n",
       "      <td>29.0</td>\n",
       "      <td>520.000000</td>\n",
       "      <td>96.0</td>\n",
       "      <td>1052.000000</td>\n",
       "      <td>532.00000</td>\n",
       "      <td>New Hampshire</td>\n",
       "    </tr>\n",
       "  </tbody>\n",
       "</table>\n",
       "</div>"
      ],
      "text/plain": [
       "     ACT Comp    ACT Eng  ACT ID   ACT Math  ACT Ptcpn   ACT Read    ACT Sci  \\\n",
       "0    1.982739   2.309599     NaN   1.944629        NaN   2.028877   3.120667   \n",
       "29  17.800000  16.300000    29.0  18.000000      100.0  18.100000  18.200000   \n",
       "25  18.600000  18.200000    25.0  18.100000      100.0  18.800000  18.800000   \n",
       "41  18.700000  17.500000    41.0  18.600000      100.0  19.100000  18.900000   \n",
       "12  19.000000  17.800000    12.0  19.200000       90.0  19.200000  19.300000   \n",
       "34  19.100000  17.800000    34.0  19.300000      100.0  19.600000  19.300000   \n",
       "1   19.200000  18.900000     1.0  18.400000      100.0  19.700000  19.400000   \n",
       "4   19.400000  18.900000     4.0  19.000000      100.0  19.700000  19.500000   \n",
       "37  19.400000  18.500000    37.0  18.800000      100.0  20.100000  19.600000   \n",
       "19  19.500000  19.400000    19.0  18.800000      100.0  19.800000  19.600000   \n",
       "3   19.700000  18.600000     3.0  19.800000       62.0  20.100000  19.800000   \n",
       "32  19.700000  18.600000    32.0  19.400000       66.0  20.400000  20.000000   \n",
       "10  19.800000  19.000000    10.0  19.400000       73.0  21.000000  19.400000   \n",
       "43  19.800000  19.500000    43.0  19.200000      100.0  20.100000  19.900000   \n",
       "2   19.800000  18.700000     2.0  19.800000       65.0  20.400000  19.900000   \n",
       "18  20.000000  19.600000    18.0  19.400000      100.0  20.500000  20.100000   \n",
       "51  20.200000  19.400000    51.0  19.800000      100.0  20.800000  20.600000   \n",
       "45  20.300000  19.500000    45.0  19.900000      100.0  20.800000  20.600000   \n",
       "27  20.300000  19.000000    27.0  20.200000      100.0  21.000000  20.500000   \n",
       "35  20.300000  19.000000    35.0  20.400000       98.0  20.500000  20.600000   \n",
       "49  20.400000  20.000000    49.0  19.400000       69.0  21.200000  20.500000   \n",
       "26  20.400000  19.800000    26.0  19.900000      100.0  20.800000  20.500000   \n",
       "50  20.500000  19.700000    50.0  20.400000      100.0  20.600000  20.900000   \n",
       "44  20.700000  19.500000    44.0  20.700000       45.0  21.100000  20.900000   \n",
       "6   20.800000  20.100000     6.0  20.300000      100.0  21.200000  20.900000   \n",
       "0   21.000000  20.300000     0.0  20.700000       60.0  21.400000  21.000000   \n",
       "28  21.400000  20.900000    28.0  20.900000       84.0  21.900000  21.500000   \n",
       "14  21.400000  21.000000    14.0  21.200000       93.0  21.600000  21.300000   \n",
       "11  21.400000  21.000000    11.0  20.900000       55.0  22.000000  21.300000   \n",
       "24  21.500000  20.400000    24.0  21.500000      100.0  21.800000  21.600000   \n",
       "17  21.700000  21.100000    17.0  21.300000       73.0  22.300000  21.700000   \n",
       "42  21.800000  20.700000    42.0  21.500000       80.0  22.300000  22.000000   \n",
       "38  21.800000  21.200000    38.0  21.500000       40.0  22.400000  21.700000   \n",
       "16  21.900000  21.200000    16.0  21.300000       67.0  22.600000  22.100000   \n",
       "48  21.900000  20.900000    48.0  21.900000       29.0  22.100000  22.000000   \n",
       "36  22.000000  21.200000    36.0  21.600000       75.0  22.500000  22.000000   \n",
       "13  22.300000  21.900000    13.0  21.800000       38.0  23.000000  22.100000   \n",
       "15  22.600000  22.000000    15.0  22.400000       35.0  23.200000  22.300000   \n",
       "5   22.800000  22.500000     5.0  22.700000       31.0  23.100000  22.200000   \n",
       "21  23.600000  23.300000    21.0  23.100000       28.0  24.200000   2.300000   \n",
       "46  23.600000  23.300000    46.0  23.100000       29.0  24.400000  23.200000   \n",
       "39  23.700000  23.400000    39.0  23.400000       23.0  24.200000  23.300000   \n",
       "47  23.800000  23.500000    47.0  23.300000       29.0  24.600000  23.500000   \n",
       "31  23.900000  23.800000    31.0  23.800000       34.0  24.100000  23.200000   \n",
       "40  24.000000  24.000000    40.0  23.300000       21.0  24.700000  23.400000   \n",
       "8   24.100000  24.100000     8.0  23.400000       18.0  24.800000  23.600000   \n",
       "23  24.100000  24.100000    23.0  23.700000       29.0  24.500000  23.800000   \n",
       "9   24.200000  24.400000     9.0  23.500000       32.0  24.900000  23.500000   \n",
       "33  24.200000  23.800000    33.0  24.000000       31.0  24.600000  23.900000   \n",
       "20  24.300000  24.200000    20.0  24.000000        8.0  24.800000  23.700000   \n",
       "7   25.200000  25.500000     7.0  24.600000       31.0  25.600000  24.600000   \n",
       "22  25.400000  25.400000    22.0  25.300000       29.0  25.900000  24.700000   \n",
       "30  25.500000  25.400000    30.0  25.100000       18.0  26.000000  24.900000   \n",
       "\n",
       "    SAT ID    SAT Math  SAT Ptcpn    SAT Total  SAT Verbal  \\\n",
       "0      NaN   84.072555        NaN    91.583511    45.21697   \n",
       "29    28.0  553.000000       26.0  1116.000000   563.00000   \n",
       "25    24.0  607.000000        2.0  1242.000000   634.00000   \n",
       "41    40.0  521.000000       50.0  1064.000000   543.00000   \n",
       "12    11.0  541.000000       55.0  1085.000000   544.00000   \n",
       "34    33.0  535.000000       49.0  1081.000000   546.00000   \n",
       "1      0.0  572.000000        5.0  1165.000000   593.00000   \n",
       "4      3.0  594.000000        3.0  1208.000000   614.00000   \n",
       "37    36.0  517.000000        7.0  1047.000000   530.00000   \n",
       "19    18.0  586.000000        4.0  1198.000000   611.00000   \n",
       "3      2.0  553.000000       30.0  1116.000000   563.00000   \n",
       "32    31.0  561.000000       11.0  1138.000000   577.00000   \n",
       "10     9.0  497.000000       83.0  1017.000000   520.00000   \n",
       "43    42.0  604.000000        5.0  1228.000000   623.00000   \n",
       "2      1.0  533.000000       38.0  1080.000000   547.00000   \n",
       "18    17.0  616.000000        4.0  1247.000000   631.00000   \n",
       "51    50.0  604.000000        3.0  1230.000000   626.00000   \n",
       "45    44.0  614.000000        3.0  1238.000000   624.00000   \n",
       "27    26.0  591.000000       10.0  1196.000000   605.00000   \n",
       "35    34.0  621.000000        2.0  1256.000000   635.00000   \n",
       "49    48.0  528.000000       14.0  1086.000000   558.00000   \n",
       "26    25.0  631.000000        3.0  1271.000000   640.00000   \n",
       "50    49.0  649.000000        3.0  1291.000000   642.00000   \n",
       "44    43.0  507.000000       62.0  1020.000000   513.00000   \n",
       "6      5.0  595.000000       11.0  1201.000000   606.00000   \n",
       "0      NaN         NaN        NaN          NaN         NaN   \n",
       "28    27.0  625.000000        3.0  1253.000000   629.00000   \n",
       "14    13.0  556.000000        9.0  1115.000000   559.00000   \n",
       "11    10.0  515.000000       61.0  1050.000000   535.00000   \n",
       "24    23.0  651.000000        3.0  1295.000000   644.00000   \n",
       "17    16.0  628.000000        4.0  1260.000000   632.00000   \n",
       "42    41.0  603.000000        3.0  1216.000000   612.00000   \n",
       "38    37.0  548.000000       43.0  1108.000000   560.00000   \n",
       "16    15.0  635.000000        2.0  1275.000000   641.00000   \n",
       "48    47.0  534.000000       64.0  1075.000000   541.00000   \n",
       "36    35.0  570.000000       12.0  1149.000000   578.00000   \n",
       "13    12.0  493.000000       93.0  1005.000000   513.00000   \n",
       "15    14.0  532.000000       63.0  1074.000000   542.00000   \n",
       "5      4.0  524.000000       53.0  1055.000000   531.00000   \n",
       "21    20.0   52.000000       69.0  1060.000000   536.00000   \n",
       "46    45.0  551.000000       60.0  1114.000000   562.00000   \n",
       "39    38.0  531.000000       65.0  1071.000000   540.00000   \n",
       "47    46.0  541.000000       65.0  1102.000000   561.00000   \n",
       "31    30.0  526.000000       70.0  1056.000000   530.00000   \n",
       "40    39.0  524.000000       71.0  1062.000000   539.00000   \n",
       "8      7.0  492.000000      100.0   996.000000   503.00000   \n",
       "23    22.0  495.000000      100.0  1005.000000   509.00000   \n",
       "9      8.0  468.000000      100.0   950.000000   482.00000   \n",
       "33    32.0  523.000000       67.0  1052.000000   528.00000   \n",
       "20    19.0  499.000000       95.0  1012.000000   513.00000   \n",
       "7      6.0  512.000000      100.0  1041.000000   530.00000   \n",
       "22    21.0  551.000000       76.0  1107.000000   555.00000   \n",
       "30    29.0  520.000000       96.0  1052.000000   532.00000   \n",
       "\n",
       "                   State  \n",
       "0                    NaN  \n",
       "29                Nevada  \n",
       "25           Mississippi  \n",
       "41        South Carolina  \n",
       "12                Hawaii  \n",
       "34        North Carolina  \n",
       "1                Alabama  \n",
       "4               Arkansas  \n",
       "37              Oklahoma  \n",
       "19             Louisiana  \n",
       "3                Arizona  \n",
       "32            New Mexico  \n",
       "10               Florida  \n",
       "43             Tennessee  \n",
       "2                 Alaska  \n",
       "18              Kentucky  \n",
       "51               Wyoming  \n",
       "45                  Utah  \n",
       "27               Montana  \n",
       "35          North Dakota  \n",
       "49         West Virginia  \n",
       "26              Missouri  \n",
       "50             Wisconsin  \n",
       "44                 Texas  \n",
       "6               Colorado  \n",
       "0               National  \n",
       "28              Nebraska  \n",
       "14              Illinois  \n",
       "11               Georgia  \n",
       "24             Minnesota  \n",
       "17                Kansas  \n",
       "42          South Dakota  \n",
       "38                Oregon  \n",
       "16                  Iowa  \n",
       "48            Washington  \n",
       "36                  Ohio  \n",
       "13                 Idaho  \n",
       "15               Indiana  \n",
       "5             California  \n",
       "21              Maryland  \n",
       "46               Vermont  \n",
       "39          Pennsylvania  \n",
       "47              Virginia  \n",
       "31            New Jersey  \n",
       "40          Rhode Island  \n",
       "8               Delaware  \n",
       "23              Michigan  \n",
       "9   District of Columbia  \n",
       "33              New York  \n",
       "20                 Maine  \n",
       "7            Connecticut  \n",
       "22         Massachusetts  \n",
       "30         New Hampshire  "
      ]
     },
     "execution_count": 23,
     "metadata": {},
     "output_type": "execute_result"
    }
   ],
   "source": [
    "act_sat_plus_stdev.sort_values(by = 'ACT Comp')"
   ]
  },
  {
   "cell_type": "markdown",
   "metadata": {},
   "source": [
    "##### 15. Use a boolean filter to display only observations with a score above a certain threshold (e.g. only states with a participation rate above 50%)"
   ]
  },
  {
   "cell_type": "code",
   "execution_count": 31,
   "metadata": {
    "scrolled": false
   },
   "outputs": [
    {
     "data": {
      "text/html": [
       "<div>\n",
       "<style scoped>\n",
       "    .dataframe tbody tr th:only-of-type {\n",
       "        vertical-align: middle;\n",
       "    }\n",
       "\n",
       "    .dataframe tbody tr th {\n",
       "        vertical-align: top;\n",
       "    }\n",
       "\n",
       "    .dataframe thead th {\n",
       "        text-align: right;\n",
       "    }\n",
       "</style>\n",
       "<table border=\"1\" class=\"dataframe\">\n",
       "  <thead>\n",
       "    <tr style=\"text-align: right;\">\n",
       "      <th></th>\n",
       "      <th>ACT Comp</th>\n",
       "      <th>ACT Eng</th>\n",
       "      <th>ACT ID</th>\n",
       "      <th>ACT Math</th>\n",
       "      <th>ACT Ptcpn</th>\n",
       "      <th>ACT Read</th>\n",
       "      <th>ACT Sci</th>\n",
       "      <th>SAT ID</th>\n",
       "      <th>SAT Math</th>\n",
       "      <th>SAT Ptcpn</th>\n",
       "      <th>SAT Total</th>\n",
       "      <th>SAT Verbal</th>\n",
       "      <th>State</th>\n",
       "    </tr>\n",
       "  </thead>\n",
       "  <tbody>\n",
       "    <tr>\n",
       "      <th>24</th>\n",
       "      <td>21.5</td>\n",
       "      <td>20.4</td>\n",
       "      <td>24.0</td>\n",
       "      <td>21.5</td>\n",
       "      <td>100.0</td>\n",
       "      <td>21.8</td>\n",
       "      <td>21.6</td>\n",
       "      <td>23.0</td>\n",
       "      <td>651.0</td>\n",
       "      <td>3.0</td>\n",
       "      <td>1295.0</td>\n",
       "      <td>644.0</td>\n",
       "      <td>Minnesota</td>\n",
       "    </tr>\n",
       "  </tbody>\n",
       "</table>\n",
       "</div>"
      ],
      "text/plain": [
       "    ACT Comp  ACT Eng  ACT ID  ACT Math  ACT Ptcpn  ACT Read  ACT Sci  SAT ID  \\\n",
       "24      21.5     20.4    24.0      21.5      100.0      21.8     21.6    23.0   \n",
       "\n",
       "    SAT Math  SAT Ptcpn  SAT Total  SAT Verbal      State  \n",
       "24     651.0        3.0     1295.0       644.0  Minnesota  "
      ]
     },
     "execution_count": 31,
     "metadata": {},
     "output_type": "execute_result"
    }
   ],
   "source": [
    "act_sat_plus_stdev[act_sat_plus_stdev['SAT Math'] > 650]"
   ]
  },
  {
   "cell_type": "markdown",
   "metadata": {},
   "source": [
    "Well. Hooray for Minnesota."
   ]
  },
  {
   "cell_type": "markdown",
   "metadata": {},
   "source": [
    "## Step 3: Visualize the data"
   ]
  },
  {
   "cell_type": "markdown",
   "metadata": {
    "collapsed": true
   },
   "source": [
    "##### 16. Using MatPlotLib and PyPlot, plot the distribution of the Rate columns for both SAT and ACT using histograms. (You should have two histograms. You might find [this link](https://matplotlib.org/users/pyplot_tutorial.html#working-with-multiple-figures-and-axes) helpful in organizing one plot above the other.) "
   ]
  },
  {
   "cell_type": "code",
   "execution_count": 23,
   "metadata": {},
   "outputs": [
    {
     "data": {
      "image/png": "[encoded data removed]",
      "text/plain": [
       "<matplotlib.figure.Figure at 0x11999c3c8>"
      ]
     },
     "metadata": {},
     "output_type": "display_data"
    },
    {
     "data": {
      "image/png": "[encoded data removed]",
      "text/plain": [
       "<matplotlib.figure.Figure at 0x1166b6fd0>"
      ]
     },
     "metadata": {},
     "output_type": "display_data"
    }
   ],
   "source": [
    "import matplotlib.pyplot as plt\n",
    "pd.DataFrame.hist(act_sat_plus_stdev.iloc[0:51], column = 'ACT Ptcpn');\n",
    "pd.DataFrame.hist(act_sat_plus_stdev.iloc[0:51], column = 'SAT Ptcpn');"
   ]
  },
  {
   "cell_type": "markdown",
   "metadata": {},
   "source": [
    "##### 17. Plot the Math(s) distributions from both data sets."
   ]
  },
  {
   "cell_type": "code",
   "execution_count": 24,
   "metadata": {},
   "outputs": [
    {
     "data": {
      "image/png": "[encoded data removed]",
      "text/plain": [
       "<matplotlib.figure.Figure at 0x11a34e978>"
      ]
     },
     "metadata": {},
     "output_type": "display_data"
    },
    {
     "data": {
      "image/png": "[encoded data removed]",
      "text/plain": [
       "<matplotlib.figure.Figure at 0x11a34ef28>"
      ]
     },
     "metadata": {},
     "output_type": "display_data"
    }
   ],
   "source": [
    "pd.DataFrame.hist(act_sat_merge, column = 'ACT Math');\n",
    "pd.DataFrame.hist(act_sat_merge, column = 'SAT Math');"
   ]
  },
  {
   "cell_type": "markdown",
   "metadata": {},
   "source": [
    "##### 18. Plot the Verbal distributions from both data sets."
   ]
  },
  {
   "cell_type": "code",
   "execution_count": 25,
   "metadata": {},
   "outputs": [
    {
     "data": {
      "image/png": "[encoded data removed]",
      "text/plain": [
       "<matplotlib.figure.Figure at 0x119e58518>"
      ]
     },
     "metadata": {},
     "output_type": "display_data"
    },
    {
     "data": {
      "image/png": "[encoded data removed]",
      "text/plain": [
       "<matplotlib.figure.Figure at 0x11a487a20>"
      ]
     },
     "metadata": {},
     "output_type": "display_data"
    },
    {
     "data": {
      "image/png": "[encoded data removed]",
      "text/plain": [
       "<matplotlib.figure.Figure at 0x11a5dc748>"
      ]
     },
     "metadata": {},
     "output_type": "display_data"
    }
   ],
   "source": [
    "pd.DataFrame.hist(act_sat_merge, column = 'ACT Eng');\n",
    "pd.DataFrame.hist(act_sat_merge, column = 'ACT Read')\n",
    "pd.DataFrame.hist(act_sat_merge, column = 'SAT Verbal');"
   ]
  },
  {
   "cell_type": "markdown",
   "metadata": {},
   "source": [
    "##### 19. When we make assumptions about how data are distributed, what is the most common assumption?"
   ]
  },
  {
   "cell_type": "markdown",
   "metadata": {
    "collapsed": true
   },
   "source": [
    "The most common assumption is that data are normally distributed."
   ]
  },
  {
   "cell_type": "markdown",
   "metadata": {},
   "source": [
    "##### 20. Does this assumption hold true for any of our columns? Which?"
   ]
  },
  {
   "cell_type": "code",
   "execution_count": 5,
   "metadata": {},
   "outputs": [
    {
     "data": {
      "text/plain": [
       "NormaltestResult(statistic=5.9631894854929515, pvalue=0.050711896915479296)"
      ]
     },
     "execution_count": 5,
     "metadata": {},
     "output_type": "execute_result"
    }
   ],
   "source": [
    "import numpy as np\n",
    "import scipy.stats as stats\n",
    "stats.normaltest(act_sat_merge['ACT Comp'])"
   ]
  },
  {
   "cell_type": "code",
   "execution_count": 29,
   "metadata": {},
   "outputs": [
    {
     "data": {
      "text/plain": [
       "NormaltestResult(statistic=4.542884284806752, pvalue=0.10316329658882092)"
      ]
     },
     "execution_count": 29,
     "metadata": {},
     "output_type": "execute_result"
    }
   ],
   "source": [
    "stats.normaltest(act_sat_merge['ACT Eng'])"
   ]
  },
  {
   "cell_type": "code",
   "execution_count": 30,
   "metadata": {},
   "outputs": [
    {
     "data": {
      "text/plain": [
       "NormaltestResult(statistic=5.954266581476391, pvalue=0.050938651060063525)"
      ]
     },
     "execution_count": 30,
     "metadata": {},
     "output_type": "execute_result"
    }
   ],
   "source": [
    "stats.normaltest(act_sat_merge['ACT Math'])"
   ]
  },
  {
   "cell_type": "code",
   "execution_count": 31,
   "metadata": {},
   "outputs": [
    {
     "data": {
      "text/plain": [
       "NormaltestResult(statistic=5.683290135884425, pvalue=0.05832963078827297)"
      ]
     },
     "execution_count": 31,
     "metadata": {},
     "output_type": "execute_result"
    }
   ],
   "source": [
    "stats.normaltest(act_sat_merge['ACT Read'])"
   ]
  },
  {
   "cell_type": "code",
   "execution_count": 32,
   "metadata": {},
   "outputs": [
    {
     "data": {
      "text/plain": [
       "NormaltestResult(statistic=79.07419687716373, pvalue=6.7492624706744785e-18)"
      ]
     },
     "execution_count": 32,
     "metadata": {},
     "output_type": "execute_result"
    }
   ],
   "source": [
    "stats.normaltest(act_sat_merge['ACT Sci'])"
   ]
  },
  {
   "cell_type": "code",
   "execution_count": 41,
   "metadata": {},
   "outputs": [
    {
     "data": {
      "text/plain": [
       "NormaltestResult(statistic=66.13149515171078, pvalue=4.362428156877022e-15)"
      ]
     },
     "execution_count": 41,
     "metadata": {},
     "output_type": "execute_result"
    }
   ],
   "source": [
    "stats.normaltest(act_sat_merge['ACT Ptcpn'])"
   ]
  },
  {
   "cell_type": "markdown",
   "metadata": {},
   "source": [
    "The ACT scores themselves are plausibly normal. The science score gets a very low p-value, but we already know that there's a serious outlier there. The participation values, however, seem not to be normally distributed at all."
   ]
  },
  {
   "cell_type": "code",
   "execution_count": 43,
   "metadata": {},
   "outputs": [
    {
     "data": {
      "text/plain": [
       "NormaltestResult(statistic=9.607185954097002, pvalue=0.008200230814088539)"
      ]
     },
     "execution_count": 43,
     "metadata": {},
     "output_type": "execute_result"
    }
   ],
   "source": [
    "stats.normaltest(act_sat_merge['SAT Total'][1:])"
   ]
  },
  {
   "cell_type": "code",
   "execution_count": 44,
   "metadata": {},
   "outputs": [
    {
     "data": {
      "text/plain": [
       "NormaltestResult(statistic=13.81815328788405, pvalue=0.0009986795076584)"
      ]
     },
     "execution_count": 44,
     "metadata": {},
     "output_type": "execute_result"
    }
   ],
   "source": [
    "stats.normaltest(act_sat_merge['SAT Verbal'][1:])"
   ]
  },
  {
   "cell_type": "code",
   "execution_count": 45,
   "metadata": {},
   "outputs": [
    {
     "data": {
      "text/plain": [
       "NormaltestResult(statistic=75.69485703674906, pvalue=3.656542623320732e-17)"
      ]
     },
     "execution_count": 45,
     "metadata": {},
     "output_type": "execute_result"
    }
   ],
   "source": [
    "stats.normaltest(act_sat_merge['SAT Math'][1:])"
   ]
  },
  {
   "cell_type": "markdown",
   "metadata": {},
   "source": [
    "The SAT values, by contrast, seem not to obey a normal distribution. The p-value for the math score is very low, but again we know there is an outlier lurking there."
   ]
  },
  {
   "cell_type": "markdown",
   "metadata": {},
   "source": [
    "##### 21. Plot some scatterplots examining relationships between all variables."
   ]
  },
  {
   "cell_type": "code",
   "execution_count": 21,
   "metadata": {
    "scrolled": false
   },
   "outputs": [
    {
     "data": {
      "text/plain": [
       "<seaborn.axisgrid.PairGrid at 0x116fe3940>"
      ]
     },
     "execution_count": 21,
     "metadata": {},
     "output_type": "execute_result"
    },
    {
     "data": {
      "image/png": "[encoded data removed]",
      "text/plain": [
       "<matplotlib.figure.Figure at 0x110fb8278>"
      ]
     },
     "metadata": {},
     "output_type": "display_data"
    }
   ],
   "source": [
    "import seaborn as sns\n",
    "sns.pairplot(act_sat_merge[1:])"
   ]
  },
  {
   "cell_type": "code",
   "execution_count": 26,
   "metadata": {
    "scrolled": true
   },
   "outputs": [
    {
     "data": {
      "text/plain": [
       "<seaborn.axisgrid.JointGrid at 0x1a25cdac50>"
      ]
     },
     "execution_count": 26,
     "metadata": {},
     "output_type": "execute_result"
    },
    {
     "data": {
      "image/png": "[encoded data removed]",
      "text/plain": [
       "<matplotlib.figure.Figure at 0x1a25cf7e48>"
      ]
     },
     "metadata": {},
     "output_type": "display_data"
    }
   ],
   "source": [
    "sns.jointplot(x = act_sat_merge['ACT Math'], y = act_sat_merge['SAT Math'])"
   ]
  },
  {
   "cell_type": "markdown",
   "metadata": {},
   "source": [
    "Moderate negative correlation here."
   ]
  },
  {
   "cell_type": "code",
   "execution_count": 27,
   "metadata": {},
   "outputs": [
    {
     "data": {
      "text/plain": [
       "<seaborn.axisgrid.JointGrid at 0x1a26647b00>"
      ]
     },
     "execution_count": 27,
     "metadata": {},
     "output_type": "execute_result"
    },
    {
     "data": {
      "image/png": "[encoded data removed]",
      "text/plain": [
       "<matplotlib.figure.Figure at 0x1a263e9860>"
      ]
     },
     "metadata": {},
     "output_type": "display_data"
    }
   ],
   "source": [
    "sns.jointplot(x = act_sat_merge['ACT Eng'], y = act_sat_merge['SAT Verbal'])"
   ]
  },
  {
   "cell_type": "markdown",
   "metadata": {},
   "source": [
    "Moderate negative correlation here as well."
   ]
  },
  {
   "cell_type": "code",
   "execution_count": 28,
   "metadata": {},
   "outputs": [
    {
     "data": {
      "text/plain": [
       "<seaborn.axisgrid.JointGrid at 0x1a266a4cf8>"
      ]
     },
     "execution_count": 28,
     "metadata": {},
     "output_type": "execute_result"
    },
    {
     "data": {
      "image/png": "[encoded data removed]",
      "text/plain": [
       "<matplotlib.figure.Figure at 0x1a2690bf60>"
      ]
     },
     "metadata": {},
     "output_type": "display_data"
    }
   ],
   "source": [
    "sns.jointplot(x = act_sat_merge['ACT Ptcpn'], y = act_sat_merge['SAT Ptcpn'])"
   ]
  },
  {
   "cell_type": "markdown",
   "metadata": {},
   "source": [
    "Strong negative correlation here."
   ]
  },
  {
   "cell_type": "markdown",
   "metadata": {},
   "source": [
    "##### 22. Are there any interesting relationships to note?"
   ]
  },
  {
   "cell_type": "markdown",
   "metadata": {
    "collapsed": true
   },
   "source": [
    "It seems that ACT scores on the different sections are correlated and that SAT scores on the two sections are correlated. James Hampton has suggested to me, plausibly, that there is a significant effect from teachers teaching to the test, so that students who do well on one section tend to do well on all.\n",
    "\n",
    "Also, the participation rates are strongly negatively correlated. I comment on this below."
   ]
  },
  {
   "cell_type": "markdown",
   "metadata": {},
   "source": [
    "##### 23. Create box plots for each variable. "
   ]
  },
  {
   "cell_type": "code",
   "execution_count": 22,
   "metadata": {},
   "outputs": [
    {
     "data": {
      "image/png": "[encoded data removed]",
      "text/plain": [
       "<matplotlib.figure.Figure at 0x1a24833f98>"
      ]
     },
     "metadata": {},
     "output_type": "display_data"
    }
   ],
   "source": [
    "pd.DataFrame.boxplot(act_sat_merge,\n",
    "                     column = ['ACT Comp', 'ACT Eng', 'ACT Math', 'ACT Read', 'ACT Sci'],\n",
    "                     figsize = (12, 6));"
   ]
  },
  {
   "cell_type": "code",
   "execution_count": 23,
   "metadata": {},
   "outputs": [
    {
     "data": {
      "text/plain": [
       "<matplotlib.axes._subplots.AxesSubplot at 0x1a247e24e0>"
      ]
     },
     "execution_count": 23,
     "metadata": {},
     "output_type": "execute_result"
    },
    {
     "data": {
      "image/png": "[encoded data removed]",
      "text/plain": [
       "<matplotlib.figure.Figure at 0x1a249cc898>"
      ]
     },
     "metadata": {},
     "output_type": "display_data"
    }
   ],
   "source": [
    "pd.DataFrame.boxplot(act_sat_merge,\n",
    "                    column = 'ACT Ptcpn',\n",
    "                    figsize = (12, 6))"
   ]
  },
  {
   "cell_type": "code",
   "execution_count": 27,
   "metadata": {},
   "outputs": [
    {
     "data": {
      "image/png": "[encoded data removed]",
      "text/plain": [
       "<matplotlib.figure.Figure at 0x11a9a26d8>"
      ]
     },
     "metadata": {},
     "output_type": "display_data"
    }
   ],
   "source": [
    "pd.DataFrame.boxplot(act_sat_merge,\n",
    "                    column = ['SAT Total', 'SAT Verbal', 'SAT Math'],\n",
    "                    figsize = (12, 6));"
   ]
  },
  {
   "cell_type": "code",
   "execution_count": 28,
   "metadata": {},
   "outputs": [
    {
     "data": {
      "text/plain": [
       "<matplotlib.axes._subplots.AxesSubplot at 0x11aa02da0>"
      ]
     },
     "execution_count": 28,
     "metadata": {},
     "output_type": "execute_result"
    },
    {
     "data": {
      "image/png": "[encoded data removed]",
      "text/plain": [
       "<matplotlib.figure.Figure at 0x11a9e5898>"
      ]
     },
     "metadata": {},
     "output_type": "display_data"
    }
   ],
   "source": [
    "pd.DataFrame.boxplot(act_sat_merge,\n",
    "                    column = 'SAT Ptcpn',\n",
    "                    figsize = (12, 6))"
   ]
  },
  {
   "cell_type": "markdown",
   "metadata": {},
   "source": [
    "##### BONUS: Using Tableau, create a heat map for each variable using a map of the US. "
   ]
  },
  {
   "cell_type": "markdown",
   "metadata": {
    "collapsed": true
   },
   "source": [
    "I don't really know much about Tableau...."
   ]
  },
  {
   "cell_type": "markdown",
   "metadata": {},
   "source": [
    "## Step 4: Descriptive and Inferential Statistics"
   ]
  },
  {
   "cell_type": "markdown",
   "metadata": {},
   "source": [
    "##### 24. Summarize each distribution. As data scientists, be sure to back up these summaries with statistics. (Hint: What are the three things we care about when describing distributions?)"
   ]
  },
  {
   "cell_type": "markdown",
   "metadata": {
    "collapsed": true
   },
   "source": [
    "For each distribution we'll look at center, spread, and shape."
   ]
  },
  {
   "cell_type": "code",
   "execution_count": 7,
   "metadata": {
    "scrolled": true
   },
   "outputs": [
    {
     "data": {
      "text/html": [
       "<div>\n",
       "<style scoped>\n",
       "    .dataframe tbody tr th:only-of-type {\n",
       "        vertical-align: middle;\n",
       "    }\n",
       "\n",
       "    .dataframe tbody tr th {\n",
       "        vertical-align: top;\n",
       "    }\n",
       "\n",
       "    .dataframe thead th {\n",
       "        text-align: right;\n",
       "    }\n",
       "</style>\n",
       "<table border=\"1\" class=\"dataframe\">\n",
       "  <thead>\n",
       "    <tr style=\"text-align: right;\">\n",
       "      <th></th>\n",
       "      <th>count</th>\n",
       "      <th>mean</th>\n",
       "      <th>std</th>\n",
       "      <th>min</th>\n",
       "      <th>25%</th>\n",
       "      <th>50%</th>\n",
       "      <th>75%</th>\n",
       "      <th>max</th>\n",
       "    </tr>\n",
       "  </thead>\n",
       "  <tbody>\n",
       "    <tr>\n",
       "      <th>ACT ID</th>\n",
       "      <td>52.0</td>\n",
       "      <td>25.500000</td>\n",
       "      <td>15.154757</td>\n",
       "      <td>0.0</td>\n",
       "      <td>12.750</td>\n",
       "      <td>25.50</td>\n",
       "      <td>38.250</td>\n",
       "      <td>51.0</td>\n",
       "    </tr>\n",
       "    <tr>\n",
       "      <th>ACT Ptcpn</th>\n",
       "      <td>52.0</td>\n",
       "      <td>65.153846</td>\n",
       "      <td>31.832518</td>\n",
       "      <td>8.0</td>\n",
       "      <td>31.000</td>\n",
       "      <td>68.00</td>\n",
       "      <td>100.000</td>\n",
       "      <td>100.0</td>\n",
       "    </tr>\n",
       "    <tr>\n",
       "      <th>ACT Eng</th>\n",
       "      <td>52.0</td>\n",
       "      <td>20.919231</td>\n",
       "      <td>2.332132</td>\n",
       "      <td>16.3</td>\n",
       "      <td>19.000</td>\n",
       "      <td>20.55</td>\n",
       "      <td>23.300</td>\n",
       "      <td>25.5</td>\n",
       "    </tr>\n",
       "    <tr>\n",
       "      <th>ACT Math</th>\n",
       "      <td>52.0</td>\n",
       "      <td>21.173077</td>\n",
       "      <td>1.963602</td>\n",
       "      <td>18.0</td>\n",
       "      <td>19.400</td>\n",
       "      <td>20.90</td>\n",
       "      <td>23.100</td>\n",
       "      <td>25.3</td>\n",
       "    </tr>\n",
       "    <tr>\n",
       "      <th>ACT Read</th>\n",
       "      <td>52.0</td>\n",
       "      <td>22.001923</td>\n",
       "      <td>2.048672</td>\n",
       "      <td>18.1</td>\n",
       "      <td>20.475</td>\n",
       "      <td>21.70</td>\n",
       "      <td>24.125</td>\n",
       "      <td>26.0</td>\n",
       "    </tr>\n",
       "    <tr>\n",
       "      <th>ACT Sci</th>\n",
       "      <td>52.0</td>\n",
       "      <td>21.040385</td>\n",
       "      <td>3.151113</td>\n",
       "      <td>2.3</td>\n",
       "      <td>19.900</td>\n",
       "      <td>21.15</td>\n",
       "      <td>22.525</td>\n",
       "      <td>24.9</td>\n",
       "    </tr>\n",
       "    <tr>\n",
       "      <th>ACT Comp</th>\n",
       "      <td>52.0</td>\n",
       "      <td>21.509615</td>\n",
       "      <td>2.002083</td>\n",
       "      <td>17.8</td>\n",
       "      <td>19.800</td>\n",
       "      <td>21.40</td>\n",
       "      <td>23.600</td>\n",
       "      <td>25.5</td>\n",
       "    </tr>\n",
       "    <tr>\n",
       "      <th>SAT ID</th>\n",
       "      <td>51.0</td>\n",
       "      <td>25.000000</td>\n",
       "      <td>14.866069</td>\n",
       "      <td>0.0</td>\n",
       "      <td>12.500</td>\n",
       "      <td>25.00</td>\n",
       "      <td>37.500</td>\n",
       "      <td>50.0</td>\n",
       "    </tr>\n",
       "    <tr>\n",
       "      <th>SAT Ptcpn</th>\n",
       "      <td>51.0</td>\n",
       "      <td>39.803922</td>\n",
       "      <td>35.276632</td>\n",
       "      <td>2.0</td>\n",
       "      <td>4.000</td>\n",
       "      <td>38.00</td>\n",
       "      <td>66.000</td>\n",
       "      <td>100.0</td>\n",
       "    </tr>\n",
       "    <tr>\n",
       "      <th>SAT Verbal</th>\n",
       "      <td>51.0</td>\n",
       "      <td>569.117647</td>\n",
       "      <td>45.666901</td>\n",
       "      <td>482.0</td>\n",
       "      <td>533.500</td>\n",
       "      <td>559.00</td>\n",
       "      <td>613.000</td>\n",
       "      <td>644.0</td>\n",
       "    </tr>\n",
       "    <tr>\n",
       "      <th>SAT Math</th>\n",
       "      <td>51.0</td>\n",
       "      <td>547.627451</td>\n",
       "      <td>84.909119</td>\n",
       "      <td>52.0</td>\n",
       "      <td>522.000</td>\n",
       "      <td>548.00</td>\n",
       "      <td>599.000</td>\n",
       "      <td>651.0</td>\n",
       "    </tr>\n",
       "    <tr>\n",
       "      <th>SAT Total</th>\n",
       "      <td>51.0</td>\n",
       "      <td>1126.098039</td>\n",
       "      <td>92.494812</td>\n",
       "      <td>950.0</td>\n",
       "      <td>1055.500</td>\n",
       "      <td>1107.00</td>\n",
       "      <td>1212.000</td>\n",
       "      <td>1295.0</td>\n",
       "    </tr>\n",
       "  </tbody>\n",
       "</table>\n",
       "</div>"
      ],
      "text/plain": [
       "            count         mean        std    min       25%      50%       75%  \\\n",
       "ACT ID       52.0    25.500000  15.154757    0.0    12.750    25.50    38.250   \n",
       "ACT Ptcpn    52.0    65.153846  31.832518    8.0    31.000    68.00   100.000   \n",
       "ACT Eng      52.0    20.919231   2.332132   16.3    19.000    20.55    23.300   \n",
       "ACT Math     52.0    21.173077   1.963602   18.0    19.400    20.90    23.100   \n",
       "ACT Read     52.0    22.001923   2.048672   18.1    20.475    21.70    24.125   \n",
       "ACT Sci      52.0    21.040385   3.151113    2.3    19.900    21.15    22.525   \n",
       "ACT Comp     52.0    21.509615   2.002083   17.8    19.800    21.40    23.600   \n",
       "SAT ID       51.0    25.000000  14.866069    0.0    12.500    25.00    37.500   \n",
       "SAT Ptcpn    51.0    39.803922  35.276632    2.0     4.000    38.00    66.000   \n",
       "SAT Verbal   51.0   569.117647  45.666901  482.0   533.500   559.00   613.000   \n",
       "SAT Math     51.0   547.627451  84.909119   52.0   522.000   548.00   599.000   \n",
       "SAT Total    51.0  1126.098039  92.494812  950.0  1055.500  1107.00  1212.000   \n",
       "\n",
       "               max  \n",
       "ACT ID        51.0  \n",
       "ACT Ptcpn    100.0  \n",
       "ACT Eng       25.5  \n",
       "ACT Math      25.3  \n",
       "ACT Read      26.0  \n",
       "ACT Sci       24.9  \n",
       "ACT Comp      25.5  \n",
       "SAT ID        50.0  \n",
       "SAT Ptcpn    100.0  \n",
       "SAT Verbal   644.0  \n",
       "SAT Math     651.0  \n",
       "SAT Total   1295.0  "
      ]
     },
     "execution_count": 7,
     "metadata": {},
     "output_type": "execute_result"
    }
   ],
   "source": [
    "act_sat_merge.describe().T"
   ]
  },
  {
   "cell_type": "markdown",
   "metadata": {},
   "source": [
    "The first thing that stands out to me is that the participation rates are all over the place. The standard deviations are massive, and, in the case of the ACT, the third quartile is already at 100%.\n",
    "\n",
    "### ACT Scores:\n",
    "\n",
    "The ACT English score is centered at 21, with a standard deviation of 2.3. This distribution, as we noted above, is plausibly normal.\n",
    "\n",
    "Similar remarks apply to ACT Math (mean = 21, std = 2.0), ACT Reading (mean = 22, std = 2.0), and ACT Composite (mean = 22, std = 2.0). The ACT Science scores have a serious outlier (the minimum value of 2.3–is this an entry error?) and so their standard deviation is considerably larger (3.2).\n",
    "\n",
    "### SAT Scores:\n",
    "\n",
    "The SAT scores, by contrast, don't look so normal. The SAT Verbal distribution looks almost two-peaked. The Math distribution has a major outlier (min = 52), and also has a huge standard deviation of 84.9."
   ]
  },
  {
   "cell_type": "markdown",
   "metadata": {},
   "source": [
    "##### 25. Summarize each relationship. Be sure to back up these summaries with statistics."
   ]
  },
  {
   "cell_type": "code",
   "execution_count": 10,
   "metadata": {},
   "outputs": [
    {
     "data": {
      "text/html": [
       "<div>\n",
       "<style scoped>\n",
       "    .dataframe tbody tr th:only-of-type {\n",
       "        vertical-align: middle;\n",
       "    }\n",
       "\n",
       "    .dataframe tbody tr th {\n",
       "        vertical-align: top;\n",
       "    }\n",
       "\n",
       "    .dataframe thead th {\n",
       "        text-align: right;\n",
       "    }\n",
       "</style>\n",
       "<table border=\"1\" class=\"dataframe\">\n",
       "  <thead>\n",
       "    <tr style=\"text-align: right;\">\n",
       "      <th></th>\n",
       "      <th>ACT ID</th>\n",
       "      <th>ACT Ptcpn</th>\n",
       "      <th>ACT Eng</th>\n",
       "      <th>ACT Math</th>\n",
       "      <th>ACT Read</th>\n",
       "      <th>ACT Sci</th>\n",
       "      <th>ACT Comp</th>\n",
       "      <th>SAT ID</th>\n",
       "      <th>SAT Ptcpn</th>\n",
       "      <th>SAT Verbal</th>\n",
       "      <th>SAT Math</th>\n",
       "      <th>SAT Total</th>\n",
       "    </tr>\n",
       "  </thead>\n",
       "  <tbody>\n",
       "    <tr>\n",
       "      <th>ACT ID</th>\n",
       "      <td>1.000000</td>\n",
       "      <td>0.044954</td>\n",
       "      <td>-0.042497</td>\n",
       "      <td>0.003031</td>\n",
       "      <td>-0.004137</td>\n",
       "      <td>0.060748</td>\n",
       "      <td>-0.003651</td>\n",
       "      <td>1.000000</td>\n",
       "      <td>-0.166621</td>\n",
       "      <td>0.169424</td>\n",
       "      <td>0.132920</td>\n",
       "      <td>0.172258</td>\n",
       "    </tr>\n",
       "    <tr>\n",
       "      <th>ACT Ptcpn</th>\n",
       "      <td>0.044954</td>\n",
       "      <td>1.000000</td>\n",
       "      <td>-0.841826</td>\n",
       "      <td>-0.859609</td>\n",
       "      <td>-0.864694</td>\n",
       "      <td>-0.304870</td>\n",
       "      <td>-0.856530</td>\n",
       "      <td>0.040686</td>\n",
       "      <td>-0.841234</td>\n",
       "      <td>0.716153</td>\n",
       "      <td>0.507670</td>\n",
       "      <td>0.701477</td>\n",
       "    </tr>\n",
       "    <tr>\n",
       "      <th>ACT Eng</th>\n",
       "      <td>-0.042497</td>\n",
       "      <td>-0.841826</td>\n",
       "      <td>1.000000</td>\n",
       "      <td>0.967838</td>\n",
       "      <td>0.986012</td>\n",
       "      <td>0.403239</td>\n",
       "      <td>0.990867</td>\n",
       "      <td>-0.052987</td>\n",
       "      <td>0.686889</td>\n",
       "      <td>-0.461345</td>\n",
       "      <td>-0.345342</td>\n",
       "      <td>-0.441947</td>\n",
       "    </tr>\n",
       "    <tr>\n",
       "      <th>ACT Math</th>\n",
       "      <td>0.003031</td>\n",
       "      <td>-0.859609</td>\n",
       "      <td>0.967838</td>\n",
       "      <td>1.000000</td>\n",
       "      <td>0.979632</td>\n",
       "      <td>0.412140</td>\n",
       "      <td>0.990461</td>\n",
       "      <td>-0.005227</td>\n",
       "      <td>0.710697</td>\n",
       "      <td>-0.486126</td>\n",
       "      <td>-0.340906</td>\n",
       "      <td>-0.454116</td>\n",
       "    </tr>\n",
       "    <tr>\n",
       "      <th>ACT Read</th>\n",
       "      <td>-0.004137</td>\n",
       "      <td>-0.864694</td>\n",
       "      <td>0.986012</td>\n",
       "      <td>0.979632</td>\n",
       "      <td>1.000000</td>\n",
       "      <td>0.400826</td>\n",
       "      <td>0.995061</td>\n",
       "      <td>-0.014447</td>\n",
       "      <td>0.705352</td>\n",
       "      <td>-0.488441</td>\n",
       "      <td>-0.363099</td>\n",
       "      <td>-0.466558</td>\n",
       "    </tr>\n",
       "    <tr>\n",
       "      <th>ACT Sci</th>\n",
       "      <td>0.060748</td>\n",
       "      <td>-0.304870</td>\n",
       "      <td>0.403239</td>\n",
       "      <td>0.412140</td>\n",
       "      <td>0.400826</td>\n",
       "      <td>1.000000</td>\n",
       "      <td>0.408455</td>\n",
       "      <td>0.062100</td>\n",
       "      <td>0.248553</td>\n",
       "      <td>-0.135461</td>\n",
       "      <td>0.594714</td>\n",
       "      <td>-0.121783</td>\n",
       "    </tr>\n",
       "    <tr>\n",
       "      <th>ACT Comp</th>\n",
       "      <td>-0.003651</td>\n",
       "      <td>-0.856530</td>\n",
       "      <td>0.990867</td>\n",
       "      <td>0.990461</td>\n",
       "      <td>0.995061</td>\n",
       "      <td>0.408455</td>\n",
       "      <td>1.000000</td>\n",
       "      <td>-0.012583</td>\n",
       "      <td>0.694748</td>\n",
       "      <td>-0.470382</td>\n",
       "      <td>-0.346335</td>\n",
       "      <td>-0.445020</td>\n",
       "    </tr>\n",
       "    <tr>\n",
       "      <th>SAT ID</th>\n",
       "      <td>1.000000</td>\n",
       "      <td>0.040686</td>\n",
       "      <td>-0.052987</td>\n",
       "      <td>-0.005227</td>\n",
       "      <td>-0.014447</td>\n",
       "      <td>0.062100</td>\n",
       "      <td>-0.012583</td>\n",
       "      <td>1.000000</td>\n",
       "      <td>-0.166621</td>\n",
       "      <td>0.169424</td>\n",
       "      <td>0.132920</td>\n",
       "      <td>0.172258</td>\n",
       "    </tr>\n",
       "    <tr>\n",
       "      <th>SAT Ptcpn</th>\n",
       "      <td>-0.166621</td>\n",
       "      <td>-0.841234</td>\n",
       "      <td>0.686889</td>\n",
       "      <td>0.710697</td>\n",
       "      <td>0.705352</td>\n",
       "      <td>0.248553</td>\n",
       "      <td>0.694748</td>\n",
       "      <td>-0.166621</td>\n",
       "      <td>1.000000</td>\n",
       "      <td>-0.874326</td>\n",
       "      <td>-0.566558</td>\n",
       "      <td>-0.867540</td>\n",
       "    </tr>\n",
       "    <tr>\n",
       "      <th>SAT Verbal</th>\n",
       "      <td>0.169424</td>\n",
       "      <td>0.716153</td>\n",
       "      <td>-0.461345</td>\n",
       "      <td>-0.486126</td>\n",
       "      <td>-0.488441</td>\n",
       "      <td>-0.135461</td>\n",
       "      <td>-0.470382</td>\n",
       "      <td>0.169424</td>\n",
       "      <td>-0.874326</td>\n",
       "      <td>1.000000</td>\n",
       "      <td>0.628405</td>\n",
       "      <td>0.996661</td>\n",
       "    </tr>\n",
       "    <tr>\n",
       "      <th>SAT Math</th>\n",
       "      <td>0.132920</td>\n",
       "      <td>0.507670</td>\n",
       "      <td>-0.345342</td>\n",
       "      <td>-0.340906</td>\n",
       "      <td>-0.363099</td>\n",
       "      <td>0.594714</td>\n",
       "      <td>-0.346335</td>\n",
       "      <td>0.132920</td>\n",
       "      <td>-0.566558</td>\n",
       "      <td>0.628405</td>\n",
       "      <td>1.000000</td>\n",
       "      <td>0.632648</td>\n",
       "    </tr>\n",
       "    <tr>\n",
       "      <th>SAT Total</th>\n",
       "      <td>0.172258</td>\n",
       "      <td>0.701477</td>\n",
       "      <td>-0.441947</td>\n",
       "      <td>-0.454116</td>\n",
       "      <td>-0.466558</td>\n",
       "      <td>-0.121783</td>\n",
       "      <td>-0.445020</td>\n",
       "      <td>0.172258</td>\n",
       "      <td>-0.867540</td>\n",
       "      <td>0.996661</td>\n",
       "      <td>0.632648</td>\n",
       "      <td>1.000000</td>\n",
       "    </tr>\n",
       "  </tbody>\n",
       "</table>\n",
       "</div>"
      ],
      "text/plain": [
       "              ACT ID  ACT Ptcpn   ACT Eng  ACT Math  ACT Read   ACT Sci  \\\n",
       "ACT ID      1.000000   0.044954 -0.042497  0.003031 -0.004137  0.060748   \n",
       "ACT Ptcpn   0.044954   1.000000 -0.841826 -0.859609 -0.864694 -0.304870   \n",
       "ACT Eng    -0.042497  -0.841826  1.000000  0.967838  0.986012  0.403239   \n",
       "ACT Math    0.003031  -0.859609  0.967838  1.000000  0.979632  0.412140   \n",
       "ACT Read   -0.004137  -0.864694  0.986012  0.979632  1.000000  0.400826   \n",
       "ACT Sci     0.060748  -0.304870  0.403239  0.412140  0.400826  1.000000   \n",
       "ACT Comp   -0.003651  -0.856530  0.990867  0.990461  0.995061  0.408455   \n",
       "SAT ID      1.000000   0.040686 -0.052987 -0.005227 -0.014447  0.062100   \n",
       "SAT Ptcpn  -0.166621  -0.841234  0.686889  0.710697  0.705352  0.248553   \n",
       "SAT Verbal  0.169424   0.716153 -0.461345 -0.486126 -0.488441 -0.135461   \n",
       "SAT Math    0.132920   0.507670 -0.345342 -0.340906 -0.363099  0.594714   \n",
       "SAT Total   0.172258   0.701477 -0.441947 -0.454116 -0.466558 -0.121783   \n",
       "\n",
       "            ACT Comp    SAT ID  SAT Ptcpn  SAT Verbal  SAT Math  SAT Total  \n",
       "ACT ID     -0.003651  1.000000  -0.166621    0.169424  0.132920   0.172258  \n",
       "ACT Ptcpn  -0.856530  0.040686  -0.841234    0.716153  0.507670   0.701477  \n",
       "ACT Eng     0.990867 -0.052987   0.686889   -0.461345 -0.345342  -0.441947  \n",
       "ACT Math    0.990461 -0.005227   0.710697   -0.486126 -0.340906  -0.454116  \n",
       "ACT Read    0.995061 -0.014447   0.705352   -0.488441 -0.363099  -0.466558  \n",
       "ACT Sci     0.408455  0.062100   0.248553   -0.135461  0.594714  -0.121783  \n",
       "ACT Comp    1.000000 -0.012583   0.694748   -0.470382 -0.346335  -0.445020  \n",
       "SAT ID     -0.012583  1.000000  -0.166621    0.169424  0.132920   0.172258  \n",
       "SAT Ptcpn   0.694748 -0.166621   1.000000   -0.874326 -0.566558  -0.867540  \n",
       "SAT Verbal -0.470382  0.169424  -0.874326    1.000000  0.628405   0.996661  \n",
       "SAT Math   -0.346335  0.132920  -0.566558    0.628405  1.000000   0.632648  \n",
       "SAT Total  -0.445020  0.172258  -0.867540    0.996661  0.632648   1.000000  "
      ]
     },
     "execution_count": 10,
     "metadata": {},
     "output_type": "execute_result"
    }
   ],
   "source": [
    "act_sat_merge.corr()"
   ]
  },
  {
   "cell_type": "markdown",
   "metadata": {},
   "source": [
    "### Positive Correlations:\n",
    "There are very strong positive correlations between ACT Math and ACT English scores, between ACT Reading and ACT English scores (not surprising), between ACT Reading and ACT Math scores, and between ACT Composite scores and the individual section scores save Science. (But, again, the Science scores have a major outlier.)\n",
    "\n",
    "SAT Participation is also strongly correlated with ACT English, ACT Math, ACT Reading, and ACT Composite scores.\n",
    "SAT Verbal is strongly correlated with ACT Participation, as is SAT Math, which is also correlated with ACT Science and SAT Verbal. SAT Total is correlated with ACT Participation, SAT Verbal and SAT Math.\n",
    "\n",
    "(Obviously, it's no surprise that ACT Composites and SAT Totals are correlated positively with scores on the different sections of the respective tests.)\n",
    "\n",
    "### Negative Correlations:\n",
    "ACT Participation is strongly negatively correlated with ACT scores in general (!). Thus states with lower rates tend to have higher scores. Presumably this is a matter of selective reporting. The same phenomenon occurs with SAT scores and Participation.\n",
    "\n",
    "Also of note is that SAT Participation is strongly negatively correlated with ACT Participation. This is to say that few students take both exams. Speaking for myself, however, I took both."
   ]
  },
  {
   "cell_type": "markdown",
   "metadata": {},
   "source": [
    "##### 26. Execute a hypothesis test comparing the SAT and ACT participation rates. Use $\\alpha = 0.05$. Be sure to interpret your results."
   ]
  },
  {
   "cell_type": "markdown",
   "metadata": {
    "collapsed": true
   },
   "source": [
    "Our null hypothesis will be that there is no difference in partcipation rates between the SAT and the ACT. The alternative hypothesis will be that there is a difference.\n",
    "\n",
    "Our level of significance is $\\alpha = 0.05$.\n",
    "\n",
    "We need now to calculate our estimates."
   ]
  },
  {
   "cell_type": "code",
   "execution_count": 63,
   "metadata": {},
   "outputs": [],
   "source": [
    "import numpy as np"
   ]
  },
  {
   "cell_type": "code",
   "execution_count": 64,
   "metadata": {},
   "outputs": [
    {
     "name": "stdout",
     "output_type": "stream",
     "text": [
      "65.15384615384616\n",
      "39.80392156862745\n"
     ]
    }
   ],
   "source": [
    "print(np.mean(act_sat_merge['ACT Ptcpn']))\n",
    "print(np.mean(act_sat_merge['SAT Ptcpn']))"
   ]
  },
  {
   "cell_type": "code",
   "execution_count": 11,
   "metadata": {},
   "outputs": [
    {
     "data": {
      "text/plain": [
       "(3.8085778908170544, 0.00024134203698662353)"
      ]
     },
     "execution_count": 11,
     "metadata": {},
     "output_type": "execute_result"
    }
   ],
   "source": [
    "import scipy.stats as stats\n",
    "result = stats.ttest_ind(act_sat_merge['ACT Ptcpn'][1:], act_sat_merge['SAT Ptcpn'][1:])\n",
    "result.statistic, result.pvalue"
   ]
  },
  {
   "cell_type": "markdown",
   "metadata": {},
   "source": [
    "Our p-value here is 0.02%, far below our threshold of 5%. We are therefore justified in rejecting the null hypothesis and accepting that there is a statistically significant difference between the participation rates of the two tests."
   ]
  },
  {
   "cell_type": "markdown",
   "metadata": {},
   "source": [
    "##### 27. Generate and interpret 95% confidence intervals for SAT and ACT participation rates."
   ]
  },
  {
   "cell_type": "code",
   "execution_count": 66,
   "metadata": {},
   "outputs": [
    {
     "data": {
      "text/plain": [
       "(56.501828195869166, 73.80586411182315)"
      ]
     },
     "execution_count": 66,
     "metadata": {},
     "output_type": "execute_result"
    }
   ],
   "source": [
    "mean_act = np.mean(act_sat_merge['ACT Ptcpn'])\n",
    "mean_sat = np.mean(act_sat_merge['SAT Ptcpn'])\n",
    "sd_act = np.std(act_sat_merge['ACT Ptcpn'])\n",
    "sd_sat = np.std(act_sat_merge['SAT Ptcpn'])\n",
    "sdom_act = sd_act / np.sqrt(len(act_sat_merge['ACT Ptcpn']) - 1)\n",
    "sdom_sat = sd_sat / np.sqrt(len(act_sat_merge['SAT Ptcpn']))\n",
    "\n",
    "stats.norm.interval(0.95, mean_act, sdom_act)"
   ]
  },
  {
   "cell_type": "code",
   "execution_count": 67,
   "metadata": {},
   "outputs": [
    {
     "data": {
      "text/plain": [
       "(30.310266439944627, 49.29757669731028)"
      ]
     },
     "execution_count": 67,
     "metadata": {},
     "output_type": "execute_result"
    }
   ],
   "source": [
    "stats.norm.interval(0.95, mean_sat, sdom_sat)"
   ]
  },
  {
   "cell_type": "markdown",
   "metadata": {},
   "source": [
    "##### 28. Given your answer to 26, was your answer to 27 surprising? Why?"
   ]
  },
  {
   "cell_type": "markdown",
   "metadata": {
    "collapsed": true
   },
   "source": [
    "I'd say 'no'. The intervals don't overlap. We can be very confident that the true mean participation rates have a large difference.\n",
    "\n",
    "One complication here is that we are treating the participation rates of all states equally, whereas the true mean would need to weight the more populous states more heavily. Still, there is good reason to think that there is a significant difference between the two tests' rates."
   ]
  },
  {
   "cell_type": "markdown",
   "metadata": {},
   "source": [
    "##### 29. Is it appropriate to generate correlation between SAT and ACT math scores? Why?"
   ]
  },
  {
   "cell_type": "markdown",
   "metadata": {
    "collapsed": true
   },
   "source": [
    "Interestingly enough, there is a moderate negative correlation between the math scores on the two tests. But it's far from clear that it is after all appropriate to generate a correlation between the two since they are on different scales. Given also the fact that relatively few students took both exams, it seems problematic that we're comparing students' performances with different students' performances.\n",
    "\n",
    "One thing we might do is to standardize the scores by subtracting the (respective) mean from each score and then dividing by the (repsective) standard deviation.\n",
    "\n",
    "So we might try the following:"
   ]
  },
  {
   "cell_type": "code",
   "execution_count": 22,
   "metadata": {},
   "outputs": [],
   "source": [
    "act_math_stan = (act_sat_merge['ACT Math'][1:] - np.mean(act_sat_merge['ACT Math'][1:])) / np.std(act_sat_merge['ACT Math'][1:], ddof = 1)"
   ]
  },
  {
   "cell_type": "code",
   "execution_count": 23,
   "metadata": {},
   "outputs": [],
   "source": [
    "sat_math_stan = (act_sat_merge['SAT Math'] - np.mean(act_sat_merge['SAT Math'])) / np.std(act_sat_merge['SAT Math'], ddof = 1)"
   ]
  },
  {
   "cell_type": "code",
   "execution_count": 36,
   "metadata": {},
   "outputs": [],
   "source": [
    "keys = ['AL', 'AK', 'AZ', 'AR', 'CA', 'CO', 'CT', 'DE', 'DC', 'FL', 'GA', 'HI', 'ID', 'IL', 'IN', 'IA', 'KS', 'KY',\n",
    "       'LA', 'ME', 'MD', 'MA', 'MI', 'MN', 'MS', 'MO', 'MT', 'NE', 'NV', 'NH', 'NJ', 'NM', 'NY', 'NC', 'ND', 'OH', 'OK'\n",
    "       'OR', 'PA', 'RI', 'SC', 'SD', 'TN', 'TX', 'UT', 'VT', 'VA', 'WA', 'WV', 'WI', 'WY']\n",
    "act_math_dict = dict(zip(keys, act_math_stan))\n",
    "sat_math_dict = dict(zip(keys, sat_math_stan))"
   ]
  },
  {
   "cell_type": "code",
   "execution_count": 37,
   "metadata": {},
   "outputs": [],
   "source": [
    "for key, value in act_math_dict.items():\n",
    "    act_math_dict[key] = list([value])"
   ]
  },
  {
   "cell_type": "code",
   "execution_count": 38,
   "metadata": {},
   "outputs": [],
   "source": [
    "for key, value in sat_math_dict.items():\n",
    "    sat_math_dict[key] = list([value])"
   ]
  },
  {
   "cell_type": "code",
   "execution_count": 40,
   "metadata": {},
   "outputs": [],
   "source": [
    "act_df = pd.DataFrame(act_math_dict)"
   ]
  },
  {
   "cell_type": "code",
   "execution_count": 41,
   "metadata": {},
   "outputs": [],
   "source": [
    "sat_df = pd.DataFrame(sat_math_dict)"
   ]
  },
  {
   "cell_type": "code",
   "execution_count": 44,
   "metadata": {},
   "outputs": [],
   "source": [
    "math_df = pd.concat([act_df, sat_df])"
   ]
  },
  {
   "cell_type": "markdown",
   "metadata": {},
   "source": [
    "##### 30. Suppose we only seek to understand the relationship between SAT and ACT data in 2017. Does it make sense to conduct statistical inference given the data we have? Why?"
   ]
  },
  {
   "cell_type": "markdown",
   "metadata": {
    "collapsed": true
   },
   "source": [
    "I would say that our data are relatively limited.\n",
    "\n",
    "To begin, we don't have any evidence that testing conditions for the one were sufficiently similar to those for the other. If the goal is to test the idea that SAT and ACT data be \"similar\" by some metric or another, then we should want to know that the data are being generated by similar processes.\n",
    "\n",
    "Moreover, the data themselves we may suspect of being misleading. Given that our entries are state averages, for example, we are also sacrificing information about pure numbers. As noted above, states have (very) different populations, and so it seems perverse to treat, say, California's average as on a par with, say, Vermont's. We could make similar remarks about the divergence in particpation rates (which, at least, are included in our dataset). Namely, small states with low participation rates could constitute, from a number-of-exams-taken point of view, truly insiginificant sample sizes, whereas we are treating them here just like we treat large states with high participation rates.\n",
    "\n",
    "Finally, if 'statistical inference' is a matter of extending our results to unobserved cases or to the population at large, then the nature of this extension remains unclear. We have, after all, data for all 50 states and DC. Perhaps there is significant taking of SATs and ACTs by high school students in overseas territories like Guam and Puerto Rico?"
   ]
  },
  {
   "cell_type": "code",
   "execution_count": null,
   "metadata": {},
   "outputs": [],
   "source": []
  }
 ],
 "metadata": {
  "anaconda-cloud": {},
  "kernelspec": {
   "display_name": "Python [default]",
   "language": "python",
   "name": "python3"
  },
  "language_info": {
   "codemirror_mode": {
    "name": "ipython",
    "version": 3
   },
   "file_extension": ".py",
   "mimetype": "text/x-python",
   "name": "python",
   "nbconvert_exporter": "python",
   "pygments_lexer": "ipython3",
   "version": "3.6.4"
  }
 },
 "nbformat": 4,
 "nbformat_minor": 1
}
