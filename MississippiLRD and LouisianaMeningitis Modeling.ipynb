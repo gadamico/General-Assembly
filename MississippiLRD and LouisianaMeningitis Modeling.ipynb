{
 "cells": [
  {
   "cell_type": "code",
   "execution_count": 1,
   "metadata": {},
   "outputs": [
    {
     "name": "stderr",
     "output_type": "stream",
     "text": [
      "/Users/gadamico/anaconda3/lib/python3.6/site-packages/h5py/__init__.py:36: FutureWarning: Conversion of the second argument of issubdtype from `float` to `np.floating` is deprecated. In future, it will be treated as `np.float64 == np.dtype(float).type`.\n",
      "  from ._conv import register_converters as _register_converters\n",
      "Using TensorFlow backend.\n"
     ]
    }
   ],
   "source": [
    "import numpy as np\n",
    "import pandas as pd\n",
    "from sklearn.preprocessing import StandardScaler\n",
    "from sklearn.model_selection import train_test_split\n",
    "from sklearn.linear_model import LinearRegression\n",
    "from sklearn.ensemble import RandomForestRegressor\n",
    "import matplotlib.pyplot as plt\n",
    "from keras.models import Sequential\n",
    "from keras.layers import Dense"
   ]
  },
  {
   "cell_type": "code",
   "execution_count": 131,
   "metadata": {},
   "outputs": [],
   "source": [
    "ms = pd.read_csv('mississippi_raw.csv')\n",
    "la = pd.read_csv('louisiana_raw.csv')"
   ]
  },
  {
   "cell_type": "markdown",
   "metadata": {},
   "source": [
    "# Mississippian Lower Respiratory Disease"
   ]
  },
  {
   "cell_type": "code",
   "execution_count": 66,
   "metadata": {},
   "outputs": [],
   "source": [
    "y = ms['mx']"
   ]
  },
  {
   "cell_type": "code",
   "execution_count": 56,
   "metadata": {},
   "outputs": [
    {
     "data": {
      "text/plain": [
       "Index(['Unnamed: 0', 'location_name', 'sex', 'year_id', 'mx', 'lower', 'upper',\n",
       "       'Climate', 'Rank_x', 'County', 'Population', 'Rank_y',\n",
       "       'Per capita income', 'Median household income', 'Number of households',\n",
       "       'Adams', 'Alcorn', 'Amite', 'Attala', 'Benton', 'Bolivar', 'Calhoun',\n",
       "       'Carroll', 'Chickasaw', 'Choctaw', 'Claiborne', 'Clarke', 'Clay',\n",
       "       'Coahoma', 'Copiah', 'Covington', 'DeSoto', 'Forrest', 'Franklin',\n",
       "       'George', 'Greene', 'Grenada', 'Hancock', 'Harrison', 'Hinds', 'Holmes',\n",
       "       'Humphreys', 'Issaquena', 'Itawamba', 'Jackson', 'Jasper', 'Jefferson',\n",
       "       'JeffersonDavis', 'Jones', 'Kemper', 'Lafayette', 'Lamar', 'Lauderdale',\n",
       "       'Lawrence', 'Leake', 'Lee', 'Leflore', 'Lincoln', 'Lowndes', 'Madison',\n",
       "       'Marion', 'Marshall', 'Monroe', 'Montgomery', 'Neshoba', 'Newton',\n",
       "       'Noxubee', 'Oktibbeha', 'Panola', 'PearlRiver', 'Perry', 'Pike',\n",
       "       'Pontotoc', 'Prentiss', 'Quitman', 'Rankin', 'Scott', 'Sharkey',\n",
       "       'Simpson', 'Smith', 'Stone', 'Sunflower', 'Tallahatchie', 'Tate',\n",
       "       'Tippah', 'Tishomingo', 'Tunica', 'Union', 'Walthall', 'Warren',\n",
       "       'Washington', 'Wayne', 'Webster', 'Wilkinson', 'Winston', 'Yalobusha',\n",
       "       'Yazoo', 'Humid subtropical'],\n",
       "      dtype='object')"
      ]
     },
     "execution_count": 56,
     "metadata": {},
     "output_type": "execute_result"
    }
   ],
   "source": [
    "ms.columns"
   ]
  },
  {
   "cell_type": "code",
   "execution_count": 67,
   "metadata": {},
   "outputs": [],
   "source": [
    "ms = ms.drop(columns = ['Unnamed: 0', 'County'])"
   ]
  },
  {
   "cell_type": "code",
   "execution_count": 68,
   "metadata": {},
   "outputs": [],
   "source": [
    "# Let's be more specific about the 'Rank' column before we forget what it is!\n",
    "ms = ms.rename({'Rank_x': 'Pop_Rank'}, axis = 1)\n",
    "ms = ms.rename({'Rank_y': 'Per_Cap_Inc_Rank'}, axis = 1)"
   ]
  },
  {
   "cell_type": "code",
   "execution_count": 20,
   "metadata": {},
   "outputs": [
    {
     "name": "stdout",
     "output_type": "stream",
     "text": [
      "<class 'pandas.core.frame.DataFrame'>\n",
      "RangeIndex: 8610 entries, 0 to 8609\n",
      "Data columns (total 96 columns):\n",
      "location_name              8610 non-null object\n",
      "sex                        8610 non-null object\n",
      "year_id                    8610 non-null int64\n",
      "mx                         8610 non-null float64\n",
      "lower                      8610 non-null float64\n",
      "upper                      8610 non-null float64\n",
      "Climate                    8610 non-null object\n",
      "Pop_Rank                   8610 non-null int64\n",
      "Population                 8610 non-null object\n",
      "Per_Cap_Inc_Rank           8400 non-null float64\n",
      "Per capita income          8400 non-null object\n",
      "Median household income    8400 non-null object\n",
      "Number of households       8400 non-null object\n",
      "Adams                      8610 non-null int64\n",
      "Alcorn                     8610 non-null int64\n",
      "Amite                      8610 non-null int64\n",
      "Attala                     8610 non-null int64\n",
      "Benton                     8610 non-null int64\n",
      "Bolivar                    8610 non-null int64\n",
      "Calhoun                    8610 non-null int64\n",
      "Carroll                    8610 non-null int64\n",
      "Chickasaw                  8610 non-null int64\n",
      "Choctaw                    8610 non-null int64\n",
      "Claiborne                  8610 non-null int64\n",
      "Clarke                     8610 non-null int64\n",
      "Clay                       8610 non-null int64\n",
      "Coahoma                    8610 non-null int64\n",
      "Copiah                     8610 non-null int64\n",
      "Covington                  8610 non-null int64\n",
      "DeSoto                     8610 non-null int64\n",
      "Forrest                    8610 non-null int64\n",
      "Franklin                   8610 non-null int64\n",
      "George                     8610 non-null int64\n",
      "Greene                     8610 non-null int64\n",
      "Grenada                    8610 non-null int64\n",
      "Hancock                    8610 non-null int64\n",
      "Harrison                   8610 non-null int64\n",
      "Hinds                      8610 non-null int64\n",
      "Holmes                     8610 non-null int64\n",
      "Humphreys                  8610 non-null int64\n",
      "Issaquena                  8610 non-null int64\n",
      "Itawamba                   8610 non-null int64\n",
      "Jackson                    8610 non-null int64\n",
      "Jasper                     8610 non-null int64\n",
      "Jefferson                  8610 non-null int64\n",
      "JeffersonDavis             8610 non-null int64\n",
      "Jones                      8610 non-null int64\n",
      "Kemper                     8610 non-null int64\n",
      "Lafayette                  8610 non-null int64\n",
      "Lamar                      8610 non-null int64\n",
      "Lauderdale                 8610 non-null int64\n",
      "Lawrence                   8610 non-null int64\n",
      "Leake                      8610 non-null int64\n",
      "Lee                        8610 non-null int64\n",
      "Leflore                    8610 non-null int64\n",
      "Lincoln                    8610 non-null int64\n",
      "Lowndes                    8610 non-null int64\n",
      "Madison                    8610 non-null int64\n",
      "Marion                     8610 non-null int64\n",
      "Marshall                   8610 non-null int64\n",
      "Monroe                     8610 non-null int64\n",
      "Montgomery                 8610 non-null int64\n",
      "Neshoba                    8610 non-null int64\n",
      "Newton                     8610 non-null int64\n",
      "Noxubee                    8610 non-null int64\n",
      "Oktibbeha                  8610 non-null int64\n",
      "Panola                     8610 non-null int64\n",
      "PearlRiver                 8610 non-null int64\n",
      "Perry                      8610 non-null int64\n",
      "Pike                       8610 non-null int64\n",
      "Pontotoc                   8610 non-null int64\n",
      "Prentiss                   8610 non-null int64\n",
      "Quitman                    8610 non-null int64\n",
      "Rankin                     8610 non-null int64\n",
      "Scott                      8610 non-null int64\n",
      "Sharkey                    8610 non-null int64\n",
      "Simpson                    8610 non-null int64\n",
      "Smith                      8610 non-null int64\n",
      "Stone                      8610 non-null int64\n",
      "Sunflower                  8610 non-null int64\n",
      "Tallahatchie               8610 non-null int64\n",
      "Tate                       8610 non-null int64\n",
      "Tippah                     8610 non-null int64\n",
      "Tishomingo                 8610 non-null int64\n",
      "Tunica                     8610 non-null int64\n",
      "Union                      8610 non-null int64\n",
      "Walthall                   8610 non-null int64\n",
      "Warren                     8610 non-null int64\n",
      "Washington                 8610 non-null int64\n",
      "Wayne                      8610 non-null int64\n",
      "Webster                    8610 non-null int64\n",
      "Wilkinson                  8610 non-null int64\n",
      "Winston                    8610 non-null int64\n",
      "Yalobusha                  8610 non-null int64\n",
      "Yazoo                      8610 non-null int64\n",
      "Humid subtropical          8610 non-null int64\n",
      "dtypes: float64(4), int64(85), object(7)\n",
      "memory usage: 6.3+ MB\n"
     ]
    }
   ],
   "source": [
    "ms.info()"
   ]
  },
  {
   "cell_type": "code",
   "execution_count": 69,
   "metadata": {},
   "outputs": [],
   "source": [
    "ms['Per capita income'] = ms['Per capita income'].map(lambda x: int(str(x).replace('$', '').replace(',', '')))\n",
    "\n",
    "ms['Median household income'] = ms['Median household income'].map(lambda x: int(str(x).replace('$', '').replace(',', '')))\n",
    "\n",
    "ms['Number of households'] = ms['Number of households'].map(lambda x: int(str(x).replace(',', '')))\n",
    "\n",
    "ms['Population'] = ms['Population'].map(lambda x: int(str(x).replace(',', '')))"
   ]
  },
  {
   "cell_type": "code",
   "execution_count": 70,
   "metadata": {},
   "outputs": [],
   "source": [
    "sex_dums = pd.get_dummies(ms['sex'])\n",
    "ms = pd.concat([ms, sex_dums], axis = 1)\n",
    "\n",
    "ms = ms.drop(columns = ['sex'])"
   ]
  },
  {
   "cell_type": "code",
   "execution_count": 71,
   "metadata": {},
   "outputs": [],
   "source": [
    "indices = ms.loc[ms['year_id'] < 2006].index\n",
    "ms2 = ms.drop(indices)"
   ]
  },
  {
   "cell_type": "code",
   "execution_count": 73,
   "metadata": {},
   "outputs": [],
   "source": [
    "test_columns = [col for col in ms2.columns if (col not in ['location_name', 'lower', 'upper',\n",
    "                                                           'mx', 'Climate',\n",
    "                                                           'Humid subtropical'])]\n",
    "X = ms2[test_columns]\n",
    "y = ms2['mx']"
   ]
  },
  {
   "cell_type": "code",
   "execution_count": 116,
   "metadata": {},
   "outputs": [],
   "source": [
    "X_train, X_test, y_train, y_test = train_test_split(X, y)"
   ]
  },
  {
   "cell_type": "code",
   "execution_count": 117,
   "metadata": {},
   "outputs": [],
   "source": [
    "ss = StandardScaler()\n",
    "X_scaled = ss.fit_transform(X_train)\n",
    "X_test_scaled = ss.transform(X_test)"
   ]
  },
  {
   "cell_type": "code",
   "execution_count": 118,
   "metadata": {},
   "outputs": [],
   "source": [
    "lr = LinearRegression().fit(X_train, y_train)"
   ]
  },
  {
   "cell_type": "code",
   "execution_count": 119,
   "metadata": {},
   "outputs": [
    {
     "data": {
      "text/plain": [
       "0.9026251113118031"
      ]
     },
     "execution_count": 119,
     "metadata": {},
     "output_type": "execute_result"
    }
   ],
   "source": [
    "lr.score(X_test, y_test)"
   ]
  },
  {
   "cell_type": "code",
   "execution_count": 74,
   "metadata": {},
   "outputs": [
    {
     "data": {
      "text/plain": [
       "0.9728509892245284"
      ]
     },
     "execution_count": 74,
     "metadata": {},
     "output_type": "execute_result"
    }
   ],
   "source": [
    "X_train, X_test, y_train, y_test = train_test_split(X, y, random_state = 42)\n",
    "\n",
    "rf = RandomForestRegressor().fit(X_train, y_train)\n",
    "\n",
    "rf.score(X_test, y_test)"
   ]
  },
  {
   "cell_type": "code",
   "execution_count": 75,
   "metadata": {},
   "outputs": [
    {
     "data": {
      "text/plain": [
       "mx         1.000000\n",
       "upper      0.994122\n",
       "lower      0.993344\n",
       "Male       0.598151\n",
       "Stone      0.185500\n",
       "Jones      0.161914\n",
       "Bolivar    0.156361\n",
       "year_id    0.149122\n",
       "Sharkey    0.135843\n",
       "Marion     0.122895\n",
       "Name: mx, dtype: float64"
      ]
     },
     "execution_count": 75,
     "metadata": {},
     "output_type": "execute_result"
    }
   ],
   "source": [
    "ms.corr()['mx'].nlargest(10)"
   ]
  },
  {
   "cell_type": "code",
   "execution_count": 76,
   "metadata": {},
   "outputs": [
    {
     "data": {
      "text/plain": [
       "Female      -0.511724\n",
       "Amite       -0.116763\n",
       "Choctaw     -0.116341\n",
       "Carroll     -0.115626\n",
       "Calhoun     -0.114013\n",
       "Lafayette   -0.108705\n",
       "Both        -0.086426\n",
       "Newton      -0.086212\n",
       "Franklin    -0.085508\n",
       "Kemper      -0.076084\n",
       "Name: mx, dtype: float64"
      ]
     },
     "execution_count": 76,
     "metadata": {},
     "output_type": "execute_result"
    }
   ],
   "source": [
    "ms.corr()['mx'].nsmallest(10)"
   ]
  },
  {
   "cell_type": "markdown",
   "metadata": {},
   "source": [
    "What matters here is sex: Being male is positively correlated with lower respiratory mortality; being female is negatively correlated with mortality."
   ]
  },
  {
   "cell_type": "markdown",
   "metadata": {},
   "source": [
    "This extensive report (https://msdh.ms.gov/msdhsite/_static/resources/4775.pdf) from 2014 shows that the cardiovascular disease death rate is the highest in the nation. Also, obesity and smoking have very high rates."
   ]
  },
  {
   "cell_type": "markdown",
   "metadata": {},
   "source": [
    "## Neural Network"
   ]
  },
  {
   "cell_type": "code",
   "execution_count": 77,
   "metadata": {},
   "outputs": [],
   "source": [
    "ss = StandardScaler()\n",
    "X_scaled = ss.fit_transform(X_train)\n",
    "X_test = ss.transform(X_test)"
   ]
  },
  {
   "cell_type": "code",
   "execution_count": 108,
   "metadata": {},
   "outputs": [],
   "source": [
    "model = Sequential()\n",
    "model.add(Dense(80, activation = 'relu', input_dim = X_train.shape[1]))\n",
    "model.add(Dense(40, activation = 'relu'))\n",
    "model.add(Dense(10, activation = 'relu'))\n",
    "model.add(Dense(5, activation = 'relu'))\n",
    "model.add(Dense(1)) # default: activation = None"
   ]
  },
  {
   "cell_type": "code",
   "execution_count": 109,
   "metadata": {},
   "outputs": [],
   "source": [
    "model.compile(loss = 'mean_squared_error', optimizer = 'adam')"
   ]
  },
  {
   "cell_type": "code",
   "execution_count": 110,
   "metadata": {},
   "outputs": [
    {
     "name": "stdout",
     "output_type": "stream",
     "text": [
      "Train on 1660 samples, validate on 554 samples\n",
      "Epoch 1/20\n",
      "1660/1660 [==============================] - 1s 451us/step - loss: 271303.3104 - val_loss: 1653.6839\n",
      "Epoch 2/20\n",
      "1660/1660 [==============================] - 0s 131us/step - loss: 606.3611 - val_loss: 1653.3665\n",
      "Epoch 3/20\n",
      "1660/1660 [==============================] - 0s 135us/step - loss: 367.9425 - val_loss: 1652.9721\n",
      "Epoch 4/20\n",
      "1660/1660 [==============================] - 0s 148us/step - loss: 272.1107 - val_loss: 1652.4075\n",
      "Epoch 5/20\n",
      "1660/1660 [==============================] - 0s 138us/step - loss: 222.8554 - val_loss: 1651.7941\n",
      "Epoch 6/20\n",
      "1660/1660 [==============================] - 0s 133us/step - loss: 164.7050 - val_loss: 1650.9654\n",
      "Epoch 7/20\n",
      "1660/1660 [==============================] - 0s 131us/step - loss: 140.2223 - val_loss: 1649.9363\n",
      "Epoch 8/20\n",
      "1660/1660 [==============================] - 0s 132us/step - loss: 144.0724 - val_loss: 1648.8759\n",
      "Epoch 9/20\n",
      "1660/1660 [==============================] - 0s 154us/step - loss: 137.2263 - val_loss: 1647.7419\n",
      "Epoch 10/20\n",
      "1660/1660 [==============================] - 0s 147us/step - loss: 145.9705 - val_loss: 1646.5003\n",
      "Epoch 11/20\n",
      "1660/1660 [==============================] - 0s 129us/step - loss: 136.6799 - val_loss: 1645.2137\n",
      "Epoch 12/20\n",
      "1660/1660 [==============================] - 0s 131us/step - loss: 135.4560 - val_loss: 1643.9194\n",
      "Epoch 13/20\n",
      "1660/1660 [==============================] - 0s 130us/step - loss: 125.1338 - val_loss: 1642.4932\n",
      "Epoch 14/20\n",
      "1660/1660 [==============================] - 0s 137us/step - loss: 132.9948 - val_loss: 1641.1410\n",
      "Epoch 15/20\n",
      "1660/1660 [==============================] - 0s 149us/step - loss: 123.8644 - val_loss: 1639.5556\n",
      "Epoch 16/20\n",
      "1660/1660 [==============================] - 0s 158us/step - loss: 110.9407 - val_loss: 1638.0075\n",
      "Epoch 17/20\n",
      "1660/1660 [==============================] - 0s 135us/step - loss: 123.2802 - val_loss: 1636.2912\n",
      "Epoch 18/20\n",
      "1660/1660 [==============================] - 0s 133us/step - loss: 238.3517 - val_loss: 1634.6214\n",
      "Epoch 19/20\n",
      "1660/1660 [==============================] - 0s 154us/step - loss: 188.9730 - val_loss: 1633.1166\n",
      "Epoch 20/20\n",
      "1660/1660 [==============================] - 0s 153us/step - loss: 141.4805 - val_loss: 1631.3682\n"
     ]
    }
   ],
   "source": [
    "history = model.fit(X_train, y_train, validation_data = (X_test, y_test), epochs = 20, batch_size = 16)"
   ]
  },
  {
   "cell_type": "code",
   "execution_count": 111,
   "metadata": {},
   "outputs": [
    {
     "data": {
      "text/plain": [
       "<matplotlib.legend.Legend at 0x1a2f2405f8>"
      ]
     },
     "execution_count": 111,
     "metadata": {},
     "output_type": "execute_result"
    },
    {
     "data": {
      "image/png": "[encoded data removed]",
      "text/plain": [
       "<matplotlib.figure.Figure at 0x1a2f26a780>"
      ]
     },
     "metadata": {},
     "output_type": "display_data"
    }
   ],
   "source": [
    "plt.plot(history.history['loss'], label = 'Training Loss')\n",
    "plt.plot(history.history['val_loss'], label = 'Test Loss')\n",
    "plt.legend()"
   ]
  },
  {
   "cell_type": "markdown",
   "metadata": {},
   "source": [
    "# Louisianan Meningitis"
   ]
  },
  {
   "cell_type": "code",
   "execution_count": 132,
   "metadata": {},
   "outputs": [],
   "source": [
    "y = la['mx']"
   ]
  },
  {
   "cell_type": "code",
   "execution_count": 133,
   "metadata": {},
   "outputs": [
    {
     "data": {
      "text/plain": [
       "Index(['Unnamed: 0', 'location_name', 'sex', 'year_id', 'mx', 'lower', 'upper',\n",
       "       'Climate', 'Rank_x', 'County', 'Population', 'Rank_y', 'Parish',\n",
       "       'Per capita income', 'Median household income', 'Median family income',\n",
       "       'Number of households', 'Acadia', 'Allen', 'Ascension', 'Assumption',\n",
       "       'Avoyelles', 'Beauregard', 'Bienville', 'Bossier', 'Caddo', 'Calcasieu',\n",
       "       'Caldwell', 'Cameron', 'Catahoula', 'Claiborne', 'Concordia', 'DeSoto',\n",
       "       'EastBatonRouge', 'EastCarroll', 'EastFeliciana', 'Evangeline',\n",
       "       'Franklin', 'Grant', 'Iberia', 'Iberville', 'Jackson', 'Jefferson',\n",
       "       'JeffersonDavis', 'LaSalle', 'Lafayette', 'Lafourche', 'Lincoln',\n",
       "       'Livingston', 'Madison', 'Morehouse', 'Natchitoches', 'Orleans',\n",
       "       'Ouachita', 'Plaquemines', 'PointeCoupee', 'Rapides', 'RedRiver',\n",
       "       'Richland', 'Sabine', 'St.Bernard', 'St.Charles', 'St.Helena',\n",
       "       'St.James', 'St.JohntheBaptist', 'St.Landry', 'St.Martin', 'St.Mary',\n",
       "       'St.Tammany', 'Tangipahoa', 'Tensas', 'Terrebonne', 'Union',\n",
       "       'Vermilion', 'Vernon', 'Washington', 'Webster', 'WestBatonRouge',\n",
       "       'WestCarroll', 'WestFeliciana', 'Winn', 'Humid subtropical'],\n",
       "      dtype='object')"
      ]
     },
     "execution_count": 133,
     "metadata": {},
     "output_type": "execute_result"
    }
   ],
   "source": [
    "la.columns"
   ]
  },
  {
   "cell_type": "code",
   "execution_count": 134,
   "metadata": {},
   "outputs": [],
   "source": [
    "la = la.drop(columns = ['Unnamed: 0', 'Parish'])"
   ]
  },
  {
   "cell_type": "code",
   "execution_count": 138,
   "metadata": {},
   "outputs": [],
   "source": [
    "la['Per capita income'] = la['Per capita income'].map(lambda x: int(str(x).replace('$', '').replace(',', '')))\n",
    "\n",
    "la['Median household income'] = la['Median household income'].map(lambda x: int(str(x).replace('$', '').replace(',', '')))\n",
    "\n",
    "la['Median family income'] = la['Median family income'].map(lambda x: int(str(x).replace('$', '').replace(',', '')))\n",
    "\n",
    "la['Number of households'] = la['Number of households'].map(lambda x: int(str(x).replace(',', '')))"
   ]
  },
  {
   "cell_type": "code",
   "execution_count": 139,
   "metadata": {},
   "outputs": [],
   "source": [
    "la = la.rename({'Rank_x': 'Pop_Rank', 'Rank_y': 'Per_Cap_Inc_Rank'}, axis = 1)"
   ]
  },
  {
   "cell_type": "code",
   "execution_count": 141,
   "metadata": {},
   "outputs": [],
   "source": [
    "sex_dums = pd.get_dummies(la['sex'])\n",
    "la = pd.concat([la, sex_dums], axis = 1)\n",
    "\n",
    "la = la.drop(columns = ['sex'])"
   ]
  },
  {
   "cell_type": "code",
   "execution_count": 142,
   "metadata": {},
   "outputs": [
    {
     "name": "stdout",
     "output_type": "stream",
     "text": [
      "<class 'pandas.core.frame.DataFrame'>\n",
      "RangeIndex: 6720 entries, 0 to 6719\n",
      "Data columns (total 82 columns):\n",
      "location_name              6720 non-null object\n",
      "year_id                    6720 non-null int64\n",
      "mx                         6720 non-null float64\n",
      "lower                      6720 non-null float64\n",
      "upper                      6720 non-null float64\n",
      "Climate                    6720 non-null object\n",
      "Pop_Rank                   6720 non-null int64\n",
      "County                     6720 non-null object\n",
      "Population                 6720 non-null object\n",
      "Per_Cap_Inc_Rank           6720 non-null int64\n",
      "Per capita income          6720 non-null int64\n",
      "Median household income    6720 non-null int64\n",
      "Median family income       6720 non-null int64\n",
      "Number of households       6720 non-null int64\n",
      "Acadia                     6720 non-null int64\n",
      "Allen                      6720 non-null int64\n",
      "Ascension                  6720 non-null int64\n",
      "Assumption                 6720 non-null int64\n",
      "Avoyelles                  6720 non-null int64\n",
      "Beauregard                 6720 non-null int64\n",
      "Bienville                  6720 non-null int64\n",
      "Bossier                    6720 non-null int64\n",
      "Caddo                      6720 non-null int64\n",
      "Calcasieu                  6720 non-null int64\n",
      "Caldwell                   6720 non-null int64\n",
      "Cameron                    6720 non-null int64\n",
      "Catahoula                  6720 non-null int64\n",
      "Claiborne                  6720 non-null int64\n",
      "Concordia                  6720 non-null int64\n",
      "DeSoto                     6720 non-null int64\n",
      "EastBatonRouge             6720 non-null int64\n",
      "EastCarroll                6720 non-null int64\n",
      "EastFeliciana              6720 non-null int64\n",
      "Evangeline                 6720 non-null int64\n",
      "Franklin                   6720 non-null int64\n",
      "Grant                      6720 non-null int64\n",
      "Iberia                     6720 non-null int64\n",
      "Iberville                  6720 non-null int64\n",
      "Jackson                    6720 non-null int64\n",
      "Jefferson                  6720 non-null int64\n",
      "JeffersonDavis             6720 non-null int64\n",
      "LaSalle                    6720 non-null int64\n",
      "Lafayette                  6720 non-null int64\n",
      "Lafourche                  6720 non-null int64\n",
      "Lincoln                    6720 non-null int64\n",
      "Livingston                 6720 non-null int64\n",
      "Madison                    6720 non-null int64\n",
      "Morehouse                  6720 non-null int64\n",
      "Natchitoches               6720 non-null int64\n",
      "Orleans                    6720 non-null int64\n",
      "Ouachita                   6720 non-null int64\n",
      "Plaquemines                6720 non-null int64\n",
      "PointeCoupee               6720 non-null int64\n",
      "Rapides                    6720 non-null int64\n",
      "RedRiver                   6720 non-null int64\n",
      "Richland                   6720 non-null int64\n",
      "Sabine                     6720 non-null int64\n",
      "St.Bernard                 6720 non-null int64\n",
      "St.Charles                 6720 non-null int64\n",
      "St.Helena                  6720 non-null int64\n",
      "St.James                   6720 non-null int64\n",
      "St.JohntheBaptist          6720 non-null int64\n",
      "St.Landry                  6720 non-null int64\n",
      "St.Martin                  6720 non-null int64\n",
      "St.Mary                    6720 non-null int64\n",
      "St.Tammany                 6720 non-null int64\n",
      "Tangipahoa                 6720 non-null int64\n",
      "Tensas                     6720 non-null int64\n",
      "Terrebonne                 6720 non-null int64\n",
      "Union                      6720 non-null int64\n",
      "Vermilion                  6720 non-null int64\n",
      "Vernon                     6720 non-null int64\n",
      "Washington                 6720 non-null int64\n",
      "Webster                    6720 non-null int64\n",
      "WestBatonRouge             6720 non-null int64\n",
      "WestCarroll                6720 non-null int64\n",
      "WestFeliciana              6720 non-null int64\n",
      "Winn                       6720 non-null int64\n",
      "Humid subtropical          6720 non-null int64\n",
      "Both                       6720 non-null uint8\n",
      "Female                     6720 non-null uint8\n",
      "Male                       6720 non-null uint8\n",
      "dtypes: float64(3), int64(72), object(4), uint8(3)\n",
      "memory usage: 4.1+ MB\n"
     ]
    }
   ],
   "source": [
    "la.info()"
   ]
  },
  {
   "cell_type": "code",
   "execution_count": 143,
   "metadata": {},
   "outputs": [],
   "source": [
    "la['Population'] = la['Population'].map(lambda x: int(x.replace(',', '')))"
   ]
  },
  {
   "cell_type": "markdown",
   "metadata": {},
   "source": [
    "## Linear Regression"
   ]
  },
  {
   "cell_type": "code",
   "execution_count": 144,
   "metadata": {},
   "outputs": [],
   "source": [
    "indices = la.loc[la['year_id'] < 2006].index\n",
    "la2 = la.drop(indices)"
   ]
  },
  {
   "cell_type": "code",
   "execution_count": 145,
   "metadata": {},
   "outputs": [],
   "source": [
    "test_columns = [col for col in la2.columns if (col not in ['location_name', 'lower', 'upper',\n",
    "                                                           'mx', 'Climate', 'County'])]\n",
    "X = la2[test_columns]\n",
    "y = la2['mx']"
   ]
  },
  {
   "cell_type": "code",
   "execution_count": 146,
   "metadata": {},
   "outputs": [],
   "source": [
    "X_train, X_test, y_train, y_test = train_test_split(X, y, random_state = 42)"
   ]
  },
  {
   "cell_type": "code",
   "execution_count": 147,
   "metadata": {},
   "outputs": [],
   "source": [
    "ss = StandardScaler()\n",
    "X_train_scaled = ss.fit_transform(X_train)\n",
    "X_test_scaled = ss.transform(X_test)"
   ]
  },
  {
   "cell_type": "code",
   "execution_count": 148,
   "metadata": {},
   "outputs": [],
   "source": [
    "lr = LinearRegression().fit(X_train_scaled, y_train)"
   ]
  },
  {
   "cell_type": "code",
   "execution_count": 149,
   "metadata": {},
   "outputs": [
    {
     "data": {
      "text/plain": [
       "0.9078964675947296"
      ]
     },
     "execution_count": 149,
     "metadata": {},
     "output_type": "execute_result"
    }
   ],
   "source": [
    "lr.score(X_test_scaled, y_test)"
   ]
  },
  {
   "cell_type": "markdown",
   "metadata": {},
   "source": [
    "## Random Forest"
   ]
  },
  {
   "cell_type": "code",
   "execution_count": 150,
   "metadata": {},
   "outputs": [
    {
     "data": {
      "text/plain": [
       "0.9507386015090143"
      ]
     },
     "execution_count": 150,
     "metadata": {},
     "output_type": "execute_result"
    }
   ],
   "source": [
    "rf = RandomForestRegressor()\n",
    "rf.fit(X_train, y_train)\n",
    "rf.score(X_test, y_test)"
   ]
  },
  {
   "cell_type": "markdown",
   "metadata": {},
   "source": [
    "## Exploring Correlations"
   ]
  },
  {
   "cell_type": "code",
   "execution_count": 152,
   "metadata": {},
   "outputs": [
    {
     "data": {
      "text/plain": [
       "mx                  1.000000\n",
       "upper               0.997955\n",
       "lower               0.997843\n",
       "Male                0.271616\n",
       "Orleans             0.169952\n",
       "Per_Cap_Inc_Rank    0.155723\n",
       "EastCarroll         0.116157\n",
       "Madison             0.087350\n",
       "Tensas              0.079331\n",
       "Pop_Rank            0.068862\n",
       "Name: mx, dtype: float64"
      ]
     },
     "execution_count": 152,
     "metadata": {},
     "output_type": "execute_result"
    }
   ],
   "source": [
    "la.corr()['mx'].nlargest(10)"
   ]
  },
  {
   "cell_type": "code",
   "execution_count": 153,
   "metadata": {},
   "outputs": [
    {
     "data": {
      "text/plain": [
       "year_id                   -0.830463\n",
       "Female                    -0.255940\n",
       "Median household income   -0.213351\n",
       "Median family income      -0.202018\n",
       "Per capita income         -0.151198\n",
       "St.Tammany                -0.087181\n",
       "Cameron                   -0.082415\n",
       "Livingston                -0.073913\n",
       "Bossier                   -0.073152\n",
       "LaSalle                   -0.072265\n",
       "Name: mx, dtype: float64"
      ]
     },
     "execution_count": 153,
     "metadata": {},
     "output_type": "execute_result"
    }
   ],
   "source": [
    "la.corr()['mx'].nsmallest(10)"
   ]
  },
  {
   "cell_type": "markdown",
   "metadata": {},
   "source": [
    "Year is quite significant here. So things really have improved dramatically over the last 35 years. Wikipedia points out (https://en.wikipedia.org/wiki/Meningococcal_vaccine) that there were several meningococcal vaccines developed in the late 1970s and early 1980s. There are marginally relevant values for male/female (higher rates for men) and for the median income predictors."
   ]
  },
  {
   "cell_type": "markdown",
   "metadata": {},
   "source": [
    "## Neural Network"
   ]
  },
  {
   "cell_type": "code",
   "execution_count": 159,
   "metadata": {},
   "outputs": [],
   "source": [
    "model = Sequential()\n",
    "model.add(Dense(35, activation = 'relu', input_dim = X_train.shape[1]))\n",
    "model.add(Dense(20, activation = 'relu'))\n",
    "model.add(Dense(10, activation = 'relu'))\n",
    "model.add(Dense(5, activation = 'relu'))\n",
    "model.add(Dense(1))"
   ]
  },
  {
   "cell_type": "code",
   "execution_count": 160,
   "metadata": {},
   "outputs": [],
   "source": [
    "model.compile(loss = 'mean_squared_error', optimizer = 'adam')"
   ]
  },
  {
   "cell_type": "code",
   "execution_count": 161,
   "metadata": {},
   "outputs": [
    {
     "name": "stdout",
     "output_type": "stream",
     "text": [
      "Train on 1296 samples, validate on 432 samples\n",
      "Epoch 1/10\n",
      "1296/1296 [==============================] - 1s 565us/step - loss: 0.1066 - val_loss: 0.0254\n",
      "Epoch 2/10\n",
      "1296/1296 [==============================] - 0s 133us/step - loss: 0.0143 - val_loss: 0.0074\n",
      "Epoch 3/10\n",
      "1296/1296 [==============================] - 0s 134us/step - loss: 0.0057 - val_loss: 0.0039\n",
      "Epoch 4/10\n",
      "1296/1296 [==============================] - 0s 129us/step - loss: 0.0036 - val_loss: 0.0027\n",
      "Epoch 5/10\n",
      "1296/1296 [==============================] - 0s 141us/step - loss: 0.0028 - val_loss: 0.0022\n",
      "Epoch 6/10\n",
      "1296/1296 [==============================] - 0s 143us/step - loss: 0.0023 - val_loss: 0.0019\n",
      "Epoch 7/10\n",
      "1296/1296 [==============================] - 0s 127us/step - loss: 0.0019 - val_loss: 0.0016\n",
      "Epoch 8/10\n",
      "1296/1296 [==============================] - 0s 130us/step - loss: 0.0017 - val_loss: 0.0013\n",
      "Epoch 9/10\n",
      "1296/1296 [==============================] - 0s 132us/step - loss: 0.0015 - val_loss: 0.0011\n",
      "Epoch 10/10\n",
      "1296/1296 [==============================] - 0s 131us/step - loss: 0.0013 - val_loss: 0.0012\n"
     ]
    }
   ],
   "source": [
    "history = model.fit(X_train_scaled, y_train, validation_data = (X_test_scaled, y_test), epochs = 10, batch_size = 16)"
   ]
  },
  {
   "cell_type": "code",
   "execution_count": 162,
   "metadata": {},
   "outputs": [
    {
     "data": {
      "text/plain": [
       "<matplotlib.legend.Legend at 0x1a2180dcf8>"
      ]
     },
     "execution_count": 162,
     "metadata": {},
     "output_type": "execute_result"
    },
    {
     "data": {
      "image/png": "[encoded data removed]",
      "text/plain": [
       "<matplotlib.figure.Figure at 0x1a218af2b0>"
      ]
     },
     "metadata": {},
     "output_type": "display_data"
    }
   ],
   "source": [
    "plt.plot(history.history['loss'], label = 'Training Loss')\n",
    "plt.plot(history.history['val_loss'], label = 'Test Loss')\n",
    "plt.legend()"
   ]
  },
  {
   "cell_type": "markdown",
   "metadata": {},
   "source": [
    "An especially good neural network here."
   ]
  },
  {
   "cell_type": "code",
   "execution_count": null,
   "metadata": {},
   "outputs": [],
   "source": []
  }
 ],
 "metadata": {
  "kernelspec": {
   "display_name": "Python [default]",
   "language": "python",
   "name": "python3"
  },
  "language_info": {
   "codemirror_mode": {
    "name": "ipython",
    "version": 3
   },
   "file_extension": ".py",
   "mimetype": "text/x-python",
   "name": "python",
   "nbconvert_exporter": "python",
   "pygments_lexer": "ipython3",
   "version": "3.6.4"
  }
 },
 "nbformat": 4,
 "nbformat_minor": 2
}
