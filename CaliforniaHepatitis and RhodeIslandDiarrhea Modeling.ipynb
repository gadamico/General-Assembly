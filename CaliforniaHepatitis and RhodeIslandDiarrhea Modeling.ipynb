{
 "cells": [
  {
   "cell_type": "code",
   "execution_count": 1,
   "metadata": {},
   "outputs": [
    {
     "name": "stderr",
     "output_type": "stream",
     "text": [
      "/Users/gadamico/anaconda3/lib/python3.6/importlib/_bootstrap.py:219: RuntimeWarning: numpy.dtype size changed, may indicate binary incompatibility. Expected 96, got 88\n",
      "  return f(*args, **kwds)\n",
      "/Users/gadamico/anaconda3/lib/python3.6/importlib/_bootstrap.py:219: RuntimeWarning: numpy.dtype size changed, may indicate binary incompatibility. Expected 96, got 88\n",
      "  return f(*args, **kwds)\n",
      "/Users/gadamico/anaconda3/lib/python3.6/importlib/_bootstrap.py:219: RuntimeWarning: numpy.dtype size changed, may indicate binary incompatibility. Expected 96, got 88\n",
      "  return f(*args, **kwds)\n",
      "/Users/gadamico/anaconda3/lib/python3.6/site-packages/h5py/__init__.py:36: FutureWarning: Conversion of the second argument of issubdtype from `float` to `np.floating` is deprecated. In future, it will be treated as `np.float64 == np.dtype(float).type`.\n",
      "  from ._conv import register_converters as _register_converters\n",
      "Using TensorFlow backend.\n",
      "/Users/gadamico/anaconda3/lib/python3.6/importlib/_bootstrap.py:219: RuntimeWarning: numpy.dtype size changed, may indicate binary incompatibility. Expected 96, got 88\n",
      "  return f(*args, **kwds)\n"
     ]
    }
   ],
   "source": [
    "import numpy as np\n",
    "import pandas as pd\n",
    "from sklearn.preprocessing import StandardScaler\n",
    "from sklearn.model_selection import train_test_split, GridSearchCV\n",
    "from sklearn.linear_model import LinearRegression\n",
    "from sklearn.ensemble import RandomForestRegressor\n",
    "import matplotlib.pyplot as plt\n",
    "from keras.models import Sequential\n",
    "from keras.layers import Dense"
   ]
  },
  {
   "cell_type": "code",
   "execution_count": 87,
   "metadata": {},
   "outputs": [],
   "source": [
    "ca = pd.read_csv('california_raw.csv')\n",
    "ri = pd.read_csv('rhode_island_raw.csv')"
   ]
  },
  {
   "cell_type": "markdown",
   "metadata": {},
   "source": [
    "# Californian Hepatitis"
   ]
  },
  {
   "cell_type": "code",
   "execution_count": 31,
   "metadata": {},
   "outputs": [],
   "source": [
    "y = ca['mx']"
   ]
  },
  {
   "cell_type": "code",
   "execution_count": 88,
   "metadata": {},
   "outputs": [],
   "source": [
    "ca = ca.drop(columns = ['Unnamed: 0', 'County_x', 'County_y'])"
   ]
  },
  {
   "cell_type": "code",
   "execution_count": 89,
   "metadata": {},
   "outputs": [],
   "source": [
    "ca['Per capita income'] = ca['Per capita income'].map(lambda x: int(str(x).replace('$', '').replace(',', '')))\n",
    "\n",
    "ca['Median household income'] = ca['Median household income'].map(lambda x: int(str(x).replace('$', '').replace(',', '')))\n",
    "\n",
    "ca['Median family income'] = ca['Median family income'].map(lambda x: int(str(x).replace('$', '').replace(',', '')))"
   ]
  },
  {
   "cell_type": "code",
   "execution_count": 90,
   "metadata": {},
   "outputs": [],
   "source": [
    "ca = ca.rename({'Rank': 'Pop_Rank'}, axis = 1)"
   ]
  },
  {
   "cell_type": "code",
   "execution_count": 91,
   "metadata": {},
   "outputs": [],
   "source": [
    "sex_dums = pd.get_dummies(ca['sex'])\n",
    "ca = pd.concat([ca, sex_dums], axis = 1)\n",
    "\n",
    "ca = ca.drop(columns = ['sex'])"
   ]
  },
  {
   "cell_type": "code",
   "execution_count": 92,
   "metadata": {},
   "outputs": [],
   "source": [
    "ca['Population'] = ca['Population'].map(lambda x: int(x.replace(',', '')))"
   ]
  },
  {
   "cell_type": "code",
   "execution_count": 93,
   "metadata": {},
   "outputs": [],
   "source": [
    "ca = ca.rename({'Population density ': 'Population density'}, axis = 1)"
   ]
  },
  {
   "cell_type": "code",
   "execution_count": 94,
   "metadata": {},
   "outputs": [],
   "source": [
    "ca['Population density'] = ca['Population density'].map(lambda x: float(str(x).replace(',', '')))"
   ]
  },
  {
   "cell_type": "markdown",
   "metadata": {},
   "source": [
    "## Linear Regression"
   ]
  },
  {
   "cell_type": "code",
   "execution_count": 40,
   "metadata": {},
   "outputs": [],
   "source": [
    "indices = ca.loc[ca['year_id'] < 2006].index\n",
    "ca2 = ca.drop(indices)"
   ]
  },
  {
   "cell_type": "code",
   "execution_count": 41,
   "metadata": {},
   "outputs": [],
   "source": [
    "test_columns = [col for col in ca2.columns if (col not in ['location_name', 'lower', 'upper',\n",
    "                                                           'mx', 'Climate', 'County'])]\n",
    "X = ca2[test_columns]\n",
    "y = ca2['mx']"
   ]
  },
  {
   "cell_type": "code",
   "execution_count": 42,
   "metadata": {},
   "outputs": [],
   "source": [
    "X_train, X_test, y_train, y_test = train_test_split(X, y, random_state = 42)"
   ]
  },
  {
   "cell_type": "code",
   "execution_count": 43,
   "metadata": {},
   "outputs": [],
   "source": [
    "ss = StandardScaler()\n",
    "X_train_scaled = ss.fit_transform(X_train)\n",
    "X_test_scaled = ss.transform(X_test)"
   ]
  },
  {
   "cell_type": "code",
   "execution_count": 44,
   "metadata": {},
   "outputs": [],
   "source": [
    "lr = LinearRegression().fit(X_train_scaled, y_train)"
   ]
  },
  {
   "cell_type": "code",
   "execution_count": 45,
   "metadata": {},
   "outputs": [
    {
     "data": {
      "text/plain": [
       "0.7953014174137094"
      ]
     },
     "execution_count": 45,
     "metadata": {},
     "output_type": "execute_result"
    }
   ],
   "source": [
    "lr.score(X_test_scaled, y_test)"
   ]
  },
  {
   "cell_type": "markdown",
   "metadata": {},
   "source": [
    "## Random Forest"
   ]
  },
  {
   "cell_type": "code",
   "execution_count": 46,
   "metadata": {},
   "outputs": [
    {
     "data": {
      "text/plain": [
       "0.8904438487216854"
      ]
     },
     "execution_count": 46,
     "metadata": {},
     "output_type": "execute_result"
    }
   ],
   "source": [
    "rf = RandomForestRegressor()\n",
    "rf.fit(X_train, y_train)\n",
    "rf.score(X_test, y_test)"
   ]
  },
  {
   "cell_type": "markdown",
   "metadata": {},
   "source": [
    "### GridSearching\n",
    "Let's see if we can't bump this up a little bit."
   ]
  },
  {
   "cell_type": "code",
   "execution_count": 62,
   "metadata": {},
   "outputs": [
    {
     "name": "stdout",
     "output_type": "stream",
     "text": [
      "0.9115640927941838\n",
      "{'max_depth': None, 'min_samples_leaf': 1, 'min_samples_split': 4, 'n_estimators': 8}\n"
     ]
    }
   ],
   "source": [
    "forest_params = {\n",
    "    'n_estimators': [8, 6],\n",
    "    'max_depth': [None, 1, 2],\n",
    "    'min_samples_leaf': [1, 2],\n",
    "    'min_samples_split': [3, 4]\n",
    "}\n",
    "gs = GridSearchCV(estimator = rf, param_grid = forest_params)\n",
    "gs.fit(X_train, y_train)\n",
    "print(gs.best_score_)\n",
    "print(gs.best_params_)"
   ]
  },
  {
   "cell_type": "markdown",
   "metadata": {},
   "source": [
    "## Exploring Correlations"
   ]
  },
  {
   "cell_type": "code",
   "execution_count": 95,
   "metadata": {},
   "outputs": [
    {
     "data": {
      "text/plain": [
       "mx                          1.000000\n",
       "upper                       0.997140\n",
       "lower                       0.996790\n",
       "Male                        0.319587\n",
       "SanFrancisco                0.145026\n",
       "Population density          0.136621\n",
       "Stanislaus                  0.099362\n",
       "Cold semi-arid              0.090626\n",
       "Hot-summer mediterranean    0.079101\n",
       "Kings                       0.075531\n",
       "Name: mx, dtype: float64"
      ]
     },
     "execution_count": 95,
     "metadata": {},
     "output_type": "execute_result"
    }
   ],
   "source": [
    "ca.drop(columns = [col for col in ca.columns if ('County' in col) | ('.1' in col)]).corr()['mx'].nlargest(10)"
   ]
  },
  {
   "cell_type": "code",
   "execution_count": 96,
   "metadata": {},
   "outputs": [
    {
     "data": {
      "text/plain": [
       "Female                                           -0.313493\n",
       "Median family income                             -0.123207\n",
       "Median household income                          -0.106358\n",
       "Pop_Rank                                         -0.102566\n",
       "Per capita income                                -0.091923\n",
       "Mono                                             -0.078444\n",
       "Alpine                                           -0.076026\n",
       "Dry-summer subarctic/Cold-summer mediterranean   -0.076026\n",
       "Cold-summer mediterranean                        -0.070921\n",
       "Sierra                                           -0.059661\n",
       "Name: mx, dtype: float64"
      ]
     },
     "execution_count": 96,
     "metadata": {},
     "output_type": "execute_result"
    }
   ],
   "source": [
    "ca.drop(columns = [col for col in ca.columns if ('County' in col) | ('.1' in col)]).corr()['mx'].nsmallest(10)"
   ]
  },
  {
   "cell_type": "markdown",
   "metadata": {},
   "source": [
    "The biggest factor here seems to be sex. Being male is correlated positively and being female negatively with hepatitis mortality in California. The climatic zones show up marginally. It may be worth exploring these further."
   ]
  },
  {
   "cell_type": "code",
   "execution_count": 97,
   "metadata": {},
   "outputs": [],
   "source": [
    "# Let's look at all the counties any _part_ of which is in the relevant climatic zones.\n",
    "ca['SA'] = ca['Climate'].apply(lambda x: int('Cold semi-arid' in x))"
   ]
  },
  {
   "cell_type": "markdown",
   "metadata": {},
   "source": [
    "I've got some reduplication in my columns, so I'll remove that in the upcoming searches."
   ]
  },
  {
   "cell_type": "code",
   "execution_count": 99,
   "metadata": {},
   "outputs": [
    {
     "data": {
      "text/plain": [
       "mx                          1.000000\n",
       "upper                       0.997140\n",
       "lower                       0.996790\n",
       "Male                        0.319587\n",
       "SanFrancisco                0.145026\n",
       "Population density          0.136621\n",
       "Stanislaus                  0.099362\n",
       "Cold semi-arid              0.090626\n",
       "Hot-summer mediterranean    0.079101\n",
       "Kings                       0.075531\n",
       "Name: mx, dtype: float64"
      ]
     },
     "execution_count": 99,
     "metadata": {},
     "output_type": "execute_result"
    }
   ],
   "source": [
    "ca.drop(columns = [col for col in ca.columns if ('County' in col) | ('.1' in col)]).corr()['mx'].nlargest(10)"
   ]
  },
  {
   "cell_type": "code",
   "execution_count": 100,
   "metadata": {},
   "outputs": [],
   "source": [
    "ca['HSM'] = ca['Climate'].apply(lambda x: int('Hot-summer mediterranean' in x))"
   ]
  },
  {
   "cell_type": "code",
   "execution_count": 101,
   "metadata": {},
   "outputs": [
    {
     "data": {
      "text/plain": [
       "mx                          1.000000\n",
       "upper                       0.997140\n",
       "lower                       0.996790\n",
       "Male                        0.319587\n",
       "SanFrancisco                0.145026\n",
       "Population density          0.136621\n",
       "Stanislaus                  0.099362\n",
       "Cold semi-arid              0.090626\n",
       "Hot-summer mediterranean    0.079101\n",
       "Kings                       0.075531\n",
       "Name: mx, dtype: float64"
      ]
     },
     "execution_count": 101,
     "metadata": {},
     "output_type": "execute_result"
    }
   ],
   "source": [
    "ca.drop(columns = [col for col in ca.columns if ('County' in col) | ('.1' in col)]).corr()['mx'].nlargest(10)"
   ]
  },
  {
   "cell_type": "code",
   "execution_count": 102,
   "metadata": {},
   "outputs": [],
   "source": [
    "ca['DSS'] = ca['Climate'].apply(lambda x: int('Dry-summer subarctic' in x))"
   ]
  },
  {
   "cell_type": "code",
   "execution_count": 103,
   "metadata": {},
   "outputs": [
    {
     "data": {
      "text/plain": [
       "Female                                           -0.313493\n",
       "Median family income                             -0.123207\n",
       "Median household income                          -0.106358\n",
       "Pop_Rank                                         -0.102566\n",
       "Per capita income                                -0.091923\n",
       "Mono                                             -0.078444\n",
       "Alpine                                           -0.076026\n",
       "Dry-summer subarctic/Cold-summer mediterranean   -0.076026\n",
       "Cold-summer mediterranean                        -0.070921\n",
       "Sierra                                           -0.059661\n",
       "Name: mx, dtype: float64"
      ]
     },
     "execution_count": 103,
     "metadata": {},
     "output_type": "execute_result"
    }
   ],
   "source": [
    "ca.drop(columns = [col for col in ca.columns if ('County' in col) | ('.1' in col)]).corr()['mx'].nsmallest(10)"
   ]
  },
  {
   "cell_type": "code",
   "execution_count": 104,
   "metadata": {},
   "outputs": [],
   "source": [
    "ca['CSM'] = ca['Climate'].apply(lambda x: int('Cold-summer mediterranean' in x))"
   ]
  },
  {
   "cell_type": "code",
   "execution_count": 105,
   "metadata": {},
   "outputs": [
    {
     "data": {
      "text/plain": [
       "Female                                           -0.313493\n",
       "CSM                                              -0.136411\n",
       "Median family income                             -0.123207\n",
       "Median household income                          -0.106358\n",
       "Pop_Rank                                         -0.102566\n",
       "Per capita income                                -0.091923\n",
       "Mono                                             -0.078444\n",
       "MonoCounty                                       -0.078444\n",
       "Alpine                                           -0.076026\n",
       "Dry-summer subarctic/Cold-summer mediterranean   -0.076026\n",
       "Name: mx, dtype: float64"
      ]
     },
     "execution_count": 105,
     "metadata": {},
     "output_type": "execute_result"
    }
   ],
   "source": [
    "ca.corr()['mx'].nsmallest(10)"
   ]
  },
  {
   "cell_type": "markdown",
   "metadata": {},
   "source": [
    "The 'Cold-summer mediterranean' climate is of marginal interest; this area covers the Northern coast and Sierra foothills."
   ]
  },
  {
   "cell_type": "markdown",
   "metadata": {},
   "source": [
    "## Neural Network"
   ]
  },
  {
   "cell_type": "code",
   "execution_count": 106,
   "metadata": {},
   "outputs": [],
   "source": [
    "model = Sequential()\n",
    "model.add(Dense(25, activation = 'relu', input_dim = X_train.shape[1]))\n",
    "model.add(Dense(10, activation = 'relu'))\n",
    "model.add(Dense(5, activation = 'relu'))\n",
    "model.add(Dense(1))"
   ]
  },
  {
   "cell_type": "code",
   "execution_count": 107,
   "metadata": {},
   "outputs": [],
   "source": [
    "model.compile(loss = 'mean_squared_error', optimizer = 'adam')"
   ]
  },
  {
   "cell_type": "code",
   "execution_count": 108,
   "metadata": {},
   "outputs": [
    {
     "name": "stdout",
     "output_type": "stream",
     "text": [
      "Train on 1174 samples, validate on 392 samples\n",
      "Epoch 1/20\n",
      "1174/1174 [==============================] - 0s 414us/step - loss: 0.0943 - val_loss: 0.0720\n",
      "Epoch 2/20\n",
      "1174/1174 [==============================] - 0s 118us/step - loss: 0.0358 - val_loss: 0.0467\n",
      "Epoch 3/20\n",
      "1174/1174 [==============================] - 0s 114us/step - loss: 0.0231 - val_loss: 0.0337\n",
      "Epoch 4/20\n",
      "1174/1174 [==============================] - 0s 114us/step - loss: 0.0170 - val_loss: 0.0266\n",
      "Epoch 5/20\n",
      "1174/1174 [==============================] - 0s 131us/step - loss: 0.0139 - val_loss: 0.0235\n",
      "Epoch 6/20\n",
      "1174/1174 [==============================] - 0s 119us/step - loss: 0.0122 - val_loss: 0.0217\n",
      "Epoch 7/20\n",
      "1174/1174 [==============================] - 0s 118us/step - loss: 0.0121 - val_loss: 0.0218\n",
      "Epoch 8/20\n",
      "1174/1174 [==============================] - 0s 120us/step - loss: 0.0108 - val_loss: 0.0202\n",
      "Epoch 9/20\n",
      "1174/1174 [==============================] - 0s 143us/step - loss: 0.0105 - val_loss: 0.0199\n",
      "Epoch 10/20\n",
      "1174/1174 [==============================] - 0s 135us/step - loss: 0.0110 - val_loss: 0.0196\n",
      "Epoch 11/20\n",
      "1174/1174 [==============================] - 0s 117us/step - loss: 0.0096 - val_loss: 0.0185\n",
      "Epoch 12/20\n",
      "1174/1174 [==============================] - 0s 118us/step - loss: 0.0097 - val_loss: 0.0173\n",
      "Epoch 13/20\n",
      "1174/1174 [==============================] - 0s 117us/step - loss: 0.0088 - val_loss: 0.0171\n",
      "Epoch 14/20\n",
      "1174/1174 [==============================] - 0s 118us/step - loss: 0.0094 - val_loss: 0.0186\n",
      "Epoch 15/20\n",
      "1174/1174 [==============================] - 0s 130us/step - loss: 0.0082 - val_loss: 0.0165\n",
      "Epoch 16/20\n",
      "1174/1174 [==============================] - 0s 163us/step - loss: 0.0085 - val_loss: 0.0152\n",
      "Epoch 17/20\n",
      "1174/1174 [==============================] - 0s 123us/step - loss: 0.0081 - val_loss: 0.0168\n",
      "Epoch 18/20\n",
      "1174/1174 [==============================] - 0s 131us/step - loss: 0.0080 - val_loss: 0.0172\n",
      "Epoch 19/20\n",
      "1174/1174 [==============================] - 0s 137us/step - loss: 0.0083 - val_loss: 0.0139\n",
      "Epoch 20/20\n",
      "1174/1174 [==============================] - 0s 135us/step - loss: 0.0072 - val_loss: 0.0150\n"
     ]
    }
   ],
   "source": [
    "history = model.fit(X_train_scaled, y_train, validation_data = (X_test_scaled, y_test), epochs = 20, batch_size = 16)"
   ]
  },
  {
   "cell_type": "code",
   "execution_count": 109,
   "metadata": {},
   "outputs": [
    {
     "data": {
      "text/plain": [
       "<matplotlib.legend.Legend at 0x1a1bc72cc0>"
      ]
     },
     "execution_count": 109,
     "metadata": {},
     "output_type": "execute_result"
    },
    {
     "data": {
      "image/png": "[encoded data removed]",
      "text/plain": [
       "<matplotlib.figure.Figure at 0x1a1bc2e0f0>"
      ]
     },
     "metadata": {},
     "output_type": "display_data"
    }
   ],
   "source": [
    "plt.plot(history.history['loss'], label = 'Training Loss')\n",
    "plt.plot(history.history['val_loss'], label = 'Test Loss')\n",
    "plt.legend()"
   ]
  },
  {
   "cell_type": "markdown",
   "metadata": {},
   "source": [
    "# Rhode Islander Diarrhea"
   ]
  },
  {
   "cell_type": "code",
   "execution_count": 110,
   "metadata": {},
   "outputs": [],
   "source": [
    "y = ri['mx']"
   ]
  },
  {
   "cell_type": "code",
   "execution_count": 111,
   "metadata": {},
   "outputs": [
    {
     "data": {
      "text/plain": [
       "Index(['Unnamed: 0', 'location_name', 'sex', 'year_id', 'mx', 'lower', 'upper',\n",
       "       'Climate', 'Rank_x', 'County', 'Population', 'Rank_y',\n",
       "       'Per capita income', 'Median household income', 'Median family income',\n",
       "       'Number of households', 'Bristol', 'Kent', 'Newport', 'Providence',\n",
       "       'Washington',\n",
       "       'Hot-summer humid continental/Warm-summer humid continental/Oceanic/Humid subtropical',\n",
       "       'Humid subtropical', 'Oceanic/Humid subtropical',\n",
       "       'Warm-summer humid continental/Oceanic/Humid subtropical'],\n",
       "      dtype='object')"
      ]
     },
     "execution_count": 111,
     "metadata": {},
     "output_type": "execute_result"
    }
   ],
   "source": [
    "ri.columns"
   ]
  },
  {
   "cell_type": "code",
   "execution_count": 112,
   "metadata": {},
   "outputs": [],
   "source": [
    "ri = ri.drop(columns = ['Unnamed: 0', 'County'])"
   ]
  },
  {
   "cell_type": "code",
   "execution_count": 113,
   "metadata": {},
   "outputs": [],
   "source": [
    "ri['Per capita income'] = ri['Per capita income'].map(lambda x: int(str(x).replace('$', '').replace(',', '')))\n",
    "\n",
    "ri['Median household income'] = ri['Median household income'].map(lambda x: int(str(x).replace('$', '').replace(',', '')))\n",
    "\n",
    "ri['Median family income'] = ri['Median family income'].map(lambda x: int(str(x).replace('$', '').replace(',', '')))\n",
    "\n",
    "ri['Number of households'] = ri['Number of households'].map(lambda x: int(str(x).replace(',', '')))"
   ]
  },
  {
   "cell_type": "code",
   "execution_count": 114,
   "metadata": {},
   "outputs": [],
   "source": [
    "ri = ri.rename({'Rank_x': 'Pop_Rank', 'Rank_y': 'Per_Cap_Inc_Rank'}, axis = 1)"
   ]
  },
  {
   "cell_type": "code",
   "execution_count": 115,
   "metadata": {},
   "outputs": [],
   "source": [
    "sex_dums = pd.get_dummies(ri['sex'])\n",
    "ri = pd.concat([ri, sex_dums], axis = 1)\n",
    "\n",
    "ri = ri.drop(columns = ['sex'])"
   ]
  },
  {
   "cell_type": "code",
   "execution_count": 116,
   "metadata": {},
   "outputs": [
    {
     "name": "stdout",
     "output_type": "stream",
     "text": [
      "<class 'pandas.core.frame.DataFrame'>\n",
      "RangeIndex: 525 entries, 0 to 524\n",
      "Data columns (total 25 columns):\n",
      "location_name                                                                           525 non-null object\n",
      "year_id                                                                                 525 non-null int64\n",
      "mx                                                                                      525 non-null float64\n",
      "lower                                                                                   525 non-null float64\n",
      "upper                                                                                   525 non-null float64\n",
      "Climate                                                                                 525 non-null object\n",
      "Pop_Rank                                                                                525 non-null int64\n",
      "Population                                                                              525 non-null object\n",
      "Per_Cap_Inc_Rank                                                                        525 non-null int64\n",
      "Per capita income                                                                       525 non-null int64\n",
      "Median household income                                                                 525 non-null int64\n",
      "Median family income                                                                    525 non-null int64\n",
      "Number of households                                                                    525 non-null int64\n",
      "Bristol                                                                                 525 non-null int64\n",
      "Kent                                                                                    525 non-null int64\n",
      "Newport                                                                                 525 non-null int64\n",
      "Providence                                                                              525 non-null int64\n",
      "Washington                                                                              525 non-null int64\n",
      "Hot-summer humid continental/Warm-summer humid continental/Oceanic/Humid subtropical    525 non-null int64\n",
      "Humid subtropical                                                                       525 non-null int64\n",
      "Oceanic/Humid subtropical                                                               525 non-null int64\n",
      "Warm-summer humid continental/Oceanic/Humid subtropical                                 525 non-null int64\n",
      "Both                                                                                    525 non-null uint8\n",
      "Female                                                                                  525 non-null uint8\n",
      "Male                                                                                    525 non-null uint8\n",
      "dtypes: float64(3), int64(16), object(3), uint8(3)\n",
      "memory usage: 91.9+ KB\n"
     ]
    }
   ],
   "source": [
    "ri.info()"
   ]
  },
  {
   "cell_type": "code",
   "execution_count": 117,
   "metadata": {},
   "outputs": [],
   "source": [
    "ri['Population'] = ri['Population'].map(lambda x: int(x.replace(',', '')))"
   ]
  },
  {
   "cell_type": "markdown",
   "metadata": {},
   "source": [
    "## Linear Regression"
   ]
  },
  {
   "cell_type": "code",
   "execution_count": 118,
   "metadata": {},
   "outputs": [],
   "source": [
    "indices = ri.loc[ri['year_id'] < 2006].index\n",
    "ri2 = ri.drop(indices)"
   ]
  },
  {
   "cell_type": "code",
   "execution_count": 119,
   "metadata": {},
   "outputs": [],
   "source": [
    "test_columns = [col for col in ri2.columns if (col not in ['location_name', 'lower', 'upper',\n",
    "                                                           'mx', 'Climate'])]\n",
    "X = ri2[test_columns]\n",
    "y = ri2['mx']"
   ]
  },
  {
   "cell_type": "code",
   "execution_count": 120,
   "metadata": {},
   "outputs": [],
   "source": [
    "X_train, X_test, y_train, y_test = train_test_split(X, y, random_state = 42)"
   ]
  },
  {
   "cell_type": "code",
   "execution_count": 121,
   "metadata": {},
   "outputs": [],
   "source": [
    "ss = StandardScaler()\n",
    "X_train_scaled = ss.fit_transform(X_train)\n",
    "X_test_scaled = ss.transform(X_test)"
   ]
  },
  {
   "cell_type": "code",
   "execution_count": 122,
   "metadata": {},
   "outputs": [],
   "source": [
    "lr = LinearRegression().fit(X_train_scaled, y_train)"
   ]
  },
  {
   "cell_type": "code",
   "execution_count": 123,
   "metadata": {},
   "outputs": [
    {
     "data": {
      "text/plain": [
       "0.7487739519103789"
      ]
     },
     "execution_count": 123,
     "metadata": {},
     "output_type": "execute_result"
    }
   ],
   "source": [
    "lr.score(X_test_scaled, y_test)"
   ]
  },
  {
   "cell_type": "markdown",
   "metadata": {},
   "source": [
    "## Random Forest"
   ]
  },
  {
   "cell_type": "code",
   "execution_count": 124,
   "metadata": {},
   "outputs": [
    {
     "data": {
      "text/plain": [
       "0.9350132676709016"
      ]
     },
     "execution_count": 124,
     "metadata": {},
     "output_type": "execute_result"
    }
   ],
   "source": [
    "rf = RandomForestRegressor()\n",
    "rf.fit(X_train, y_train)\n",
    "rf.score(X_test, y_test)"
   ]
  },
  {
   "cell_type": "markdown",
   "metadata": {},
   "source": [
    "## Exploring Correlations"
   ]
  },
  {
   "cell_type": "code",
   "execution_count": 129,
   "metadata": {},
   "outputs": [
    {
     "data": {
      "text/plain": [
       "mx                                                         1.000000\n",
       "upper                                                      0.982193\n",
       "lower                                                      0.844211\n",
       "year_id                                                    0.814758\n",
       "Bristol                                                    0.163736\n",
       "Humid subtropical                                          0.163736\n",
       "Kent                                                       0.115715\n",
       "Warm-summer humid continental/Oceanic/Humid subtropical    0.115715\n",
       "Per_Cap_Inc_Rank                                           0.110213\n",
       "Providence                                                 0.076052\n",
       "Name: mx, dtype: float64"
      ]
     },
     "execution_count": 129,
     "metadata": {},
     "output_type": "execute_result"
    }
   ],
   "source": [
    "ri.corr()['mx'].nlargest(10)"
   ]
  },
  {
   "cell_type": "code",
   "execution_count": 130,
   "metadata": {},
   "outputs": [
    {
     "data": {
      "text/plain": [
       "Oceanic/Humid subtropical   -0.290267\n",
       "Washington                  -0.212714\n",
       "Newport                     -0.142790\n",
       "Median household income     -0.131661\n",
       "Per capita income           -0.124334\n",
       "Median family income        -0.102927\n",
       "Female                      -0.052644\n",
       "Pop_Rank                    -0.023515\n",
       "Both                        -0.008250\n",
       "Male                         0.060894\n",
       "Name: mx, dtype: float64"
      ]
     },
     "execution_count": 130,
     "metadata": {},
     "output_type": "execute_result"
    }
   ],
   "source": [
    "ri.corr()['mx'].nsmallest(10)"
   ]
  },
  {
   "cell_type": "markdown",
   "metadata": {},
   "source": [
    "Year is quite significant here: Rates have risen dramatically in recent years. Climate is moderately correlated here as well: The oceanic and humid subtropical climatic zones (in the southern and southeastern parts of the state) are negatively correlated with the mortality rate, as well as the Washington and Newport counties (which are in the southeast part of the state)."
   ]
  },
  {
   "cell_type": "code",
   "execution_count": 138,
   "metadata": {},
   "outputs": [],
   "source": [
    "# Let's look at all the counties any _part_ of which is in the relevant climatic zones.\n",
    "ri['O'] = ri['Climate'].apply(lambda x: int('Oceanic' in x))"
   ]
  },
  {
   "cell_type": "code",
   "execution_count": 139,
   "metadata": {},
   "outputs": [
    {
     "data": {
      "text/plain": [
       "-0.1637361460134629"
      ]
     },
     "execution_count": 139,
     "metadata": {},
     "output_type": "execute_result"
    }
   ],
   "source": [
    "ri.corr()['mx']['O']"
   ]
  },
  {
   "cell_type": "code",
   "execution_count": 140,
   "metadata": {},
   "outputs": [
    {
     "data": {
      "text/plain": [
       "nan"
      ]
     },
     "execution_count": 140,
     "metadata": {},
     "output_type": "execute_result"
    }
   ],
   "source": [
    "ri['HS'] = ri['Climate'].apply(lambda x: int('Humid subtropical' in x))\n",
    "ri.corr()['mx']['HS']"
   ]
  },
  {
   "cell_type": "markdown",
   "metadata": {},
   "source": [
    "_Every_ county has a humid subtropical region, so that's why this won't help us here."
   ]
  },
  {
   "cell_type": "markdown",
   "metadata": {},
   "source": [
    "## Spatial Correlation"
   ]
  },
  {
   "cell_type": "markdown",
   "metadata": {},
   "source": [
    "Let's test for spatial correlation among the counties with respect to our mortality rate."
   ]
  },
  {
   "cell_type": "markdown",
   "metadata": {},
   "source": [
    "We'll need to build our weight list. Rhode Island is small: The five counties are as follows:\n",
    "\n",
    "* Bristol borders Providence;\n",
    "\n",
    "* Kent borders Providence and Washington;\n",
    "\n",
    "* Newport borders no other county (it's an island);\n",
    "\n",
    "* Providence borders Bristol and Kent; and\n",
    "\n",
    "* Washington borders Kent.\n",
    "\n",
    "We'll again use the simple metric of bordering regions to construct our weights."
   ]
  },
  {
   "cell_type": "code",
   "execution_count": 153,
   "metadata": {},
   "outputs": [],
   "source": [
    "W = [('Bristol', {'Providence': 1}), ('Kent', {'Providence': 1, 'Washington': 1}),\n",
    "     ('Newport', {}), ('Providence', {'Bristol': 1, 'Kent': 1}), ('Washington', {'Kent': 1})]"
   ]
  },
  {
   "cell_type": "markdown",
   "metadata": {},
   "source": [
    "Let's calculate Moran's I-Statistic by hand. According to wikipedia (https://en.wikipedia.org/wiki/Moran%27s_I),\n",
    "\n",
    "$$\n",
    "I = \\frac{N}{W}\\frac{\\Sigma_i\\Sigma_jw_{ij}(x_i - \\bar{x})(x_j - \\bar{x})}{\\Sigma_i(x_i - \\bar{x})^2}\n",
    "$$"
   ]
  },
  {
   "cell_type": "markdown",
   "metadata": {},
   "source": [
    "In our case, we have N = 5, and W = 6. Our matrix looks like:\n",
    "\n",
    "$$\n",
    "\\begin{matrix}\n",
    "NA & Bristol & Kent & Newport & Providence & Washington \\\\\n",
    "Bristol & 0 & 0 & 0 & 1 & 0 \\\\\n",
    "Kent & 0 & 0 & 0 & 1 & 1 \\\\\n",
    "Newport & 0 & 0 & 0 & 0 & 0 \\\\\n",
    "Providence & 1 & 1 & 0 & 0 & 0 \\\\\n",
    "Washington & 0 & 1 & 0 & 0 & 0\n",
    "\\end{matrix}\n",
    "$$\n",
    "\n",
    "Let's figure out the other values."
   ]
  },
  {
   "cell_type": "code",
   "execution_count": 178,
   "metadata": {},
   "outputs": [
    {
     "data": {
      "text/plain": [
       "4.405754459081636"
      ]
     },
     "execution_count": 178,
     "metadata": {},
     "output_type": "execute_result"
    }
   ],
   "source": [
    "ri2['mx'].mean()"
   ]
  },
  {
   "cell_type": "code",
   "execution_count": 177,
   "metadata": {},
   "outputs": [
    {
     "data": {
      "text/html": [
       "<div>\n",
       "<style scoped>\n",
       "    .dataframe tbody tr th:only-of-type {\n",
       "        vertical-align: middle;\n",
       "    }\n",
       "\n",
       "    .dataframe tbody tr th {\n",
       "        vertical-align: top;\n",
       "    }\n",
       "\n",
       "    .dataframe thead th {\n",
       "        text-align: right;\n",
       "    }\n",
       "</style>\n",
       "<table border=\"1\" class=\"dataframe\">\n",
       "  <thead>\n",
       "    <tr style=\"text-align: right;\">\n",
       "      <th></th>\n",
       "      <th>year_id</th>\n",
       "      <th>mx</th>\n",
       "      <th>lower</th>\n",
       "      <th>upper</th>\n",
       "      <th>Pop_Rank</th>\n",
       "      <th>Population</th>\n",
       "      <th>Per_Cap_Inc_Rank</th>\n",
       "      <th>Per capita income</th>\n",
       "      <th>Median household income</th>\n",
       "      <th>Median family income</th>\n",
       "      <th>...</th>\n",
       "      <th>Newport</th>\n",
       "      <th>Providence</th>\n",
       "      <th>Washington</th>\n",
       "      <th>Hot-summer humid continental/Warm-summer humid continental/Oceanic/Humid subtropical</th>\n",
       "      <th>Humid subtropical</th>\n",
       "      <th>Oceanic/Humid subtropical</th>\n",
       "      <th>Warm-summer humid continental/Oceanic/Humid subtropical</th>\n",
       "      <th>Both</th>\n",
       "      <th>Female</th>\n",
       "      <th>Male</th>\n",
       "    </tr>\n",
       "    <tr>\n",
       "      <th>location_name</th>\n",
       "      <th></th>\n",
       "      <th></th>\n",
       "      <th></th>\n",
       "      <th></th>\n",
       "      <th></th>\n",
       "      <th></th>\n",
       "      <th></th>\n",
       "      <th></th>\n",
       "      <th></th>\n",
       "      <th></th>\n",
       "      <th></th>\n",
       "      <th></th>\n",
       "      <th></th>\n",
       "      <th></th>\n",
       "      <th></th>\n",
       "      <th></th>\n",
       "      <th></th>\n",
       "      <th></th>\n",
       "      <th></th>\n",
       "      <th></th>\n",
       "      <th></th>\n",
       "    </tr>\n",
       "  </thead>\n",
       "  <tbody>\n",
       "    <tr>\n",
       "      <th>BristolCounty</th>\n",
       "      <td>2010</td>\n",
       "      <td>5.708823</td>\n",
       "      <td>1.612003</td>\n",
       "      <td>7.784781</td>\n",
       "      <td>5</td>\n",
       "      <td>48912</td>\n",
       "      <td>2</td>\n",
       "      <td>35588</td>\n",
       "      <td>68333</td>\n",
       "      <td>87781</td>\n",
       "      <td>...</td>\n",
       "      <td>0</td>\n",
       "      <td>0</td>\n",
       "      <td>0</td>\n",
       "      <td>0</td>\n",
       "      <td>1</td>\n",
       "      <td>0</td>\n",
       "      <td>0</td>\n",
       "      <td>0.333333</td>\n",
       "      <td>0.333333</td>\n",
       "      <td>0.333333</td>\n",
       "    </tr>\n",
       "    <tr>\n",
       "      <th>KentCounty</th>\n",
       "      <td>2010</td>\n",
       "      <td>5.472608</td>\n",
       "      <td>1.651712</td>\n",
       "      <td>7.059320</td>\n",
       "      <td>2</td>\n",
       "      <td>163760</td>\n",
       "      <td>4</td>\n",
       "      <td>31221</td>\n",
       "      <td>61088</td>\n",
       "      <td>77100</td>\n",
       "      <td>...</td>\n",
       "      <td>0</td>\n",
       "      <td>0</td>\n",
       "      <td>0</td>\n",
       "      <td>0</td>\n",
       "      <td>0</td>\n",
       "      <td>0</td>\n",
       "      <td>1</td>\n",
       "      <td>0.333333</td>\n",
       "      <td>0.333333</td>\n",
       "      <td>0.333333</td>\n",
       "    </tr>\n",
       "    <tr>\n",
       "      <th>NewportCounty</th>\n",
       "      <td>2010</td>\n",
       "      <td>3.047632</td>\n",
       "      <td>0.898432</td>\n",
       "      <td>4.254748</td>\n",
       "      <td>4</td>\n",
       "      <td>83460</td>\n",
       "      <td>1</td>\n",
       "      <td>36994</td>\n",
       "      <td>67239</td>\n",
       "      <td>82477</td>\n",
       "      <td>...</td>\n",
       "      <td>1</td>\n",
       "      <td>0</td>\n",
       "      <td>0</td>\n",
       "      <td>0</td>\n",
       "      <td>0</td>\n",
       "      <td>1</td>\n",
       "      <td>0</td>\n",
       "      <td>0.333333</td>\n",
       "      <td>0.333333</td>\n",
       "      <td>0.333333</td>\n",
       "    </tr>\n",
       "    <tr>\n",
       "      <th>ProvidenceCounty</th>\n",
       "      <td>2010</td>\n",
       "      <td>5.286852</td>\n",
       "      <td>1.617396</td>\n",
       "      <td>6.510760</td>\n",
       "      <td>1</td>\n",
       "      <td>637357</td>\n",
       "      <td>5</td>\n",
       "      <td>25169</td>\n",
       "      <td>48500</td>\n",
       "      <td>61265</td>\n",
       "      <td>...</td>\n",
       "      <td>0</td>\n",
       "      <td>1</td>\n",
       "      <td>0</td>\n",
       "      <td>1</td>\n",
       "      <td>0</td>\n",
       "      <td>0</td>\n",
       "      <td>0</td>\n",
       "      <td>0.333333</td>\n",
       "      <td>0.333333</td>\n",
       "      <td>0.333333</td>\n",
       "    </tr>\n",
       "    <tr>\n",
       "      <th>WashingtonCounty</th>\n",
       "      <td>2010</td>\n",
       "      <td>2.512859</td>\n",
       "      <td>0.786261</td>\n",
       "      <td>3.488521</td>\n",
       "      <td>3</td>\n",
       "      <td>126150</td>\n",
       "      <td>3</td>\n",
       "      <td>34737</td>\n",
       "      <td>70285</td>\n",
       "      <td>87999</td>\n",
       "      <td>...</td>\n",
       "      <td>0</td>\n",
       "      <td>0</td>\n",
       "      <td>1</td>\n",
       "      <td>0</td>\n",
       "      <td>0</td>\n",
       "      <td>1</td>\n",
       "      <td>0</td>\n",
       "      <td>0.333333</td>\n",
       "      <td>0.333333</td>\n",
       "      <td>0.333333</td>\n",
       "    </tr>\n",
       "  </tbody>\n",
       "</table>\n",
       "<p>5 rows × 23 columns</p>\n",
       "</div>"
      ],
      "text/plain": [
       "                  year_id        mx     lower     upper  Pop_Rank  Population  \\\n",
       "location_name                                                                   \n",
       "BristolCounty        2010  5.708823  1.612003  7.784781         5       48912   \n",
       "KentCounty           2010  5.472608  1.651712  7.059320         2      163760   \n",
       "NewportCounty        2010  3.047632  0.898432  4.254748         4       83460   \n",
       "ProvidenceCounty     2010  5.286852  1.617396  6.510760         1      637357   \n",
       "WashingtonCounty     2010  2.512859  0.786261  3.488521         3      126150   \n",
       "\n",
       "                  Per_Cap_Inc_Rank  Per capita income  \\\n",
       "location_name                                           \n",
       "BristolCounty                    2              35588   \n",
       "KentCounty                       4              31221   \n",
       "NewportCounty                    1              36994   \n",
       "ProvidenceCounty                 5              25169   \n",
       "WashingtonCounty                 3              34737   \n",
       "\n",
       "                  Median household income  Median family income    ...     \\\n",
       "location_name                                                      ...      \n",
       "BristolCounty                       68333                 87781    ...      \n",
       "KentCounty                          61088                 77100    ...      \n",
       "NewportCounty                       67239                 82477    ...      \n",
       "ProvidenceCounty                    48500                 61265    ...      \n",
       "WashingtonCounty                    70285                 87999    ...      \n",
       "\n",
       "                  Newport  Providence  Washington  \\\n",
       "location_name                                       \n",
       "BristolCounty           0           0           0   \n",
       "KentCounty              0           0           0   \n",
       "NewportCounty           1           0           0   \n",
       "ProvidenceCounty        0           1           0   \n",
       "WashingtonCounty        0           0           1   \n",
       "\n",
       "                  Hot-summer humid continental/Warm-summer humid continental/Oceanic/Humid subtropical  \\\n",
       "location_name                                                                                            \n",
       "BristolCounty                                                     0                                      \n",
       "KentCounty                                                        0                                      \n",
       "NewportCounty                                                     0                                      \n",
       "ProvidenceCounty                                                  1                                      \n",
       "WashingtonCounty                                                  0                                      \n",
       "\n",
       "                  Humid subtropical  Oceanic/Humid subtropical  \\\n",
       "location_name                                                    \n",
       "BristolCounty                     1                          0   \n",
       "KentCounty                        0                          0   \n",
       "NewportCounty                     0                          1   \n",
       "ProvidenceCounty                  0                          0   \n",
       "WashingtonCounty                  0                          1   \n",
       "\n",
       "                  Warm-summer humid continental/Oceanic/Humid subtropical  \\\n",
       "location_name                                                               \n",
       "BristolCounty                                                     0         \n",
       "KentCounty                                                        1         \n",
       "NewportCounty                                                     0         \n",
       "ProvidenceCounty                                                  0         \n",
       "WashingtonCounty                                                  0         \n",
       "\n",
       "                      Both    Female      Male  \n",
       "location_name                                   \n",
       "BristolCounty     0.333333  0.333333  0.333333  \n",
       "KentCounty        0.333333  0.333333  0.333333  \n",
       "NewportCounty     0.333333  0.333333  0.333333  \n",
       "ProvidenceCounty  0.333333  0.333333  0.333333  \n",
       "WashingtonCounty  0.333333  0.333333  0.333333  \n",
       "\n",
       "[5 rows x 23 columns]"
      ]
     },
     "execution_count": 177,
     "metadata": {},
     "output_type": "execute_result"
    }
   ],
   "source": [
    "ri2.groupby('location_name').mean()"
   ]
  },
  {
   "cell_type": "markdown",
   "metadata": {},
   "source": [
    "So our calculation will be:\n",
    "\n",
    "$$\n",
    "I = \\frac{5}{6}\\frac{2(5.709 - 4.406)(5.287 - 4.406) + 2(5.473 - 4.406)(5.287 - 4.406) + 2(5.473 - 4.406)(2.513 - 4.406)}{(5.709 - 4.406)^2 + (5.473 - 4.406)^2 + (3.048 - 4.406)^2 + (5.287 - 4.406)^2 + (2.513 - 4.406)^2} \\\\\n",
    "= 0.01256\n",
    "$$"
   ]
  },
  {
   "cell_type": "markdown",
   "metadata": {},
   "source": [
    "Since this is near zero, there's no real correlation here."
   ]
  },
  {
   "cell_type": "markdown",
   "metadata": {},
   "source": [
    "## Neural Network"
   ]
  },
  {
   "cell_type": "code",
   "execution_count": 168,
   "metadata": {},
   "outputs": [],
   "source": [
    "model = Sequential()\n",
    "model.add(Dense(10, activation = 'relu', input_dim = X_train.shape[1]))\n",
    "model.add(Dense(5, activation = 'relu'))\n",
    "model.add(Dense(1))"
   ]
  },
  {
   "cell_type": "code",
   "execution_count": 172,
   "metadata": {},
   "outputs": [],
   "source": [
    "model.compile(loss = 'mean_squared_error', optimizer = 'adam')"
   ]
  },
  {
   "cell_type": "code",
   "execution_count": 173,
   "metadata": {},
   "outputs": [
    {
     "name": "stdout",
     "output_type": "stream",
     "text": [
      "Train on 101 samples, validate on 34 samples\n",
      "Epoch 1/50\n",
      "101/101 [==============================] - 0s 3ms/step - loss: 6.9699 - val_loss: 7.2959\n",
      "Epoch 2/50\n",
      "101/101 [==============================] - 0s 190us/step - loss: 6.7067 - val_loss: 7.0847\n",
      "Epoch 3/50\n",
      "101/101 [==============================] - 0s 151us/step - loss: 6.4515 - val_loss: 6.8812\n",
      "Epoch 4/50\n",
      "101/101 [==============================] - 0s 197us/step - loss: 6.2048 - val_loss: 6.6803\n",
      "Epoch 5/50\n",
      "101/101 [==============================] - 0s 192us/step - loss: 5.9592 - val_loss: 6.4824\n",
      "Epoch 6/50\n",
      "101/101 [==============================] - 0s 176us/step - loss: 5.7355 - val_loss: 6.2667\n",
      "Epoch 7/50\n",
      "101/101 [==============================] - 0s 189us/step - loss: 5.5054 - val_loss: 6.0123\n",
      "Epoch 8/50\n",
      "101/101 [==============================] - 0s 168us/step - loss: 5.2560 - val_loss: 5.7470\n",
      "Epoch 9/50\n",
      "101/101 [==============================] - 0s 192us/step - loss: 5.0149 - val_loss: 5.4955\n",
      "Epoch 10/50\n",
      "101/101 [==============================] - 0s 187us/step - loss: 4.7672 - val_loss: 5.2156\n",
      "Epoch 11/50\n",
      "101/101 [==============================] - 0s 151us/step - loss: 4.5207 - val_loss: 4.9375\n",
      "Epoch 12/50\n",
      "101/101 [==============================] - 0s 186us/step - loss: 4.2566 - val_loss: 4.6562\n",
      "Epoch 13/50\n",
      "101/101 [==============================] - 0s 186us/step - loss: 3.9785 - val_loss: 4.3612\n",
      "Epoch 14/50\n",
      "101/101 [==============================] - 0s 175us/step - loss: 3.7038 - val_loss: 4.0574\n",
      "Epoch 15/50\n",
      "101/101 [==============================] - 0s 196us/step - loss: 3.4419 - val_loss: 3.7329\n",
      "Epoch 16/50\n",
      "101/101 [==============================] - 0s 154us/step - loss: 3.1321 - val_loss: 3.4426\n",
      "Epoch 17/50\n",
      "101/101 [==============================] - 0s 192us/step - loss: 2.8664 - val_loss: 3.1308\n",
      "Epoch 18/50\n",
      "101/101 [==============================] - 0s 166us/step - loss: 2.5789 - val_loss: 2.8204\n",
      "Epoch 19/50\n",
      "101/101 [==============================] - 0s 144us/step - loss: 2.3639 - val_loss: 2.5052\n",
      "Epoch 20/50\n",
      "101/101 [==============================] - 0s 188us/step - loss: 2.0961 - val_loss: 2.2518\n",
      "Epoch 21/50\n",
      "101/101 [==============================] - 0s 202us/step - loss: 1.8847 - val_loss: 1.9926\n",
      "Epoch 22/50\n",
      "101/101 [==============================] - 0s 161us/step - loss: 1.6706 - val_loss: 1.7735\n",
      "Epoch 23/50\n",
      "101/101 [==============================] - 0s 189us/step - loss: 1.4779 - val_loss: 1.5590\n",
      "Epoch 24/50\n",
      "101/101 [==============================] - 0s 148us/step - loss: 1.3027 - val_loss: 1.3562\n",
      "Epoch 25/50\n",
      "101/101 [==============================] - 0s 206us/step - loss: 1.1493 - val_loss: 1.1750\n",
      "Epoch 26/50\n",
      "101/101 [==============================] - 0s 150us/step - loss: 1.0110 - val_loss: 1.0212\n",
      "Epoch 27/50\n",
      "101/101 [==============================] - 0s 140us/step - loss: 0.8955 - val_loss: 0.9015\n",
      "Epoch 28/50\n",
      "101/101 [==============================] - 0s 183us/step - loss: 0.8054 - val_loss: 0.8016\n",
      "Epoch 29/50\n",
      "101/101 [==============================] - 0s 152us/step - loss: 0.7203 - val_loss: 0.7174\n",
      "Epoch 30/50\n",
      "101/101 [==============================] - 0s 172us/step - loss: 0.6565 - val_loss: 0.6374\n",
      "Epoch 31/50\n",
      "101/101 [==============================] - 0s 183us/step - loss: 0.5871 - val_loss: 0.5801\n",
      "Epoch 32/50\n",
      "101/101 [==============================] - 0s 147us/step - loss: 0.5427 - val_loss: 0.5328\n",
      "Epoch 33/50\n",
      "101/101 [==============================] - 0s 164us/step - loss: 0.4983 - val_loss: 0.4971\n",
      "Epoch 34/50\n",
      "101/101 [==============================] - 0s 161us/step - loss: 0.4687 - val_loss: 0.4713\n",
      "Epoch 35/50\n",
      "101/101 [==============================] - 0s 143us/step - loss: 0.4452 - val_loss: 0.4483\n",
      "Epoch 36/50\n",
      "101/101 [==============================] - 0s 207us/step - loss: 0.4229 - val_loss: 0.4292\n",
      "Epoch 37/50\n",
      "101/101 [==============================] - 0s 166us/step - loss: 0.4054 - val_loss: 0.4127\n",
      "Epoch 38/50\n",
      "101/101 [==============================] - 0s 183us/step - loss: 0.3869 - val_loss: 0.4012\n",
      "Epoch 39/50\n",
      "101/101 [==============================] - 0s 167us/step - loss: 0.3782 - val_loss: 0.3943\n",
      "Epoch 40/50\n",
      "101/101 [==============================] - 0s 136us/step - loss: 0.3690 - val_loss: 0.3862\n",
      "Epoch 41/50\n",
      "101/101 [==============================] - 0s 181us/step - loss: 0.3610 - val_loss: 0.3780\n",
      "Epoch 42/50\n",
      "101/101 [==============================] - 0s 176us/step - loss: 0.3536 - val_loss: 0.3708\n",
      "Epoch 43/50\n",
      "101/101 [==============================] - 0s 143us/step - loss: 0.3460 - val_loss: 0.3678\n",
      "Epoch 44/50\n",
      "101/101 [==============================] - 0s 182us/step - loss: 0.3392 - val_loss: 0.3631\n",
      "Epoch 45/50\n",
      "101/101 [==============================] - 0s 158us/step - loss: 0.3336 - val_loss: 0.3587\n",
      "Epoch 46/50\n",
      "101/101 [==============================] - 0s 171us/step - loss: 0.3282 - val_loss: 0.3542\n",
      "Epoch 47/50\n",
      "101/101 [==============================] - 0s 169us/step - loss: 0.3247 - val_loss: 0.3493\n",
      "Epoch 48/50\n",
      "101/101 [==============================] - 0s 217us/step - loss: 0.3201 - val_loss: 0.3447\n",
      "Epoch 49/50\n",
      "101/101 [==============================] - 0s 162us/step - loss: 0.3170 - val_loss: 0.3432\n",
      "Epoch 50/50\n",
      "101/101 [==============================] - 0s 181us/step - loss: 0.3101 - val_loss: 0.3425\n"
     ]
    }
   ],
   "source": [
    "history = model.fit(X_train_scaled, y_train, validation_data = (X_test_scaled, y_test), epochs = 50, batch_size = 16)"
   ]
  },
  {
   "cell_type": "code",
   "execution_count": 174,
   "metadata": {},
   "outputs": [
    {
     "data": {
      "text/plain": [
       "<matplotlib.legend.Legend at 0x1a2e7784a8>"
      ]
     },
     "execution_count": 174,
     "metadata": {},
     "output_type": "execute_result"
    },
    {
     "data": {
      "image/png": "[encoded data removed]",
      "text/plain": [
       "<matplotlib.figure.Figure at 0x1a2e7032e8>"
      ]
     },
     "metadata": {},
     "output_type": "display_data"
    }
   ],
   "source": [
    "plt.plot(history.history['loss'], label = 'Training Loss')\n",
    "plt.plot(history.history['val_loss'], label = 'Test Loss')\n",
    "plt.legend()"
   ]
  },
  {
   "cell_type": "code",
   "execution_count": null,
   "metadata": {},
   "outputs": [],
   "source": []
  }
 ],
 "metadata": {
  "kernelspec": {
   "display_name": "Python [default]",
   "language": "python",
   "name": "python3"
  },
  "language_info": {
   "codemirror_mode": {
    "name": "ipython",
    "version": 3
   },
   "file_extension": ".py",
   "mimetype": "text/x-python",
   "name": "python",
   "nbconvert_exporter": "python",
   "pygments_lexer": "ipython3",
   "version": "3.6.4"
  }
 },
 "nbformat": 4,
 "nbformat_minor": 2
}
