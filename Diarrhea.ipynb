{
 "cells": [
  {
   "cell_type": "code",
   "execution_count": 1,
   "metadata": {},
   "outputs": [
    {
     "name": "stderr",
     "output_type": "stream",
     "text": [
      "/Users/gadamico/anaconda3/lib/python3.6/site-packages/statsmodels/compat/pandas.py:56: FutureWarning: The pandas.core.datetools module is deprecated and will be removed in a future version. Please use the pandas.tseries module instead.\n",
      "  from pandas.core import datetools\n"
     ]
    }
   ],
   "source": [
    "import pandas as pd\n",
    "import numpy as np\n",
    "import matplotlib.pyplot as plt\n",
    "import statsmodels.api as sm\n",
    "\n",
    "%matplotlib inline"
   ]
  },
  {
   "cell_type": "code",
   "execution_count": 2,
   "metadata": {},
   "outputs": [],
   "source": [
    "al = pd.read_csv('./IHME_USA_COUNTY_INFECT_DIS_MORT_1980_2014_STATES_A_TO_F_CSV/IHME_USA_COUNTY_INFECT_DIS_MORT_1980_2014_ALABAMA_Y2018M03D27.CSV')\n",
    "\n",
    "ak = pd.read_csv('IHME_USA_COUNTY_INFECT_DIS_MORT_1980_2014_STATES_A_TO_F_CSV/IHME_USA_COUNTY_INFECT_DIS_MORT_1980_2014_ALASKA_Y2018M03D27.CSV')\n",
    "\n",
    "az = pd.read_csv('IHME_USA_COUNTY_INFECT_DIS_MORT_1980_2014_STATES_A_TO_F_CSV/IHME_USA_COUNTY_INFECT_DIS_MORT_1980_2014_ARIZONA_Y2018M03D27.CSV')\n",
    "\n",
    "ar = pd.read_csv('IHME_USA_COUNTY_INFECT_DIS_MORT_1980_2014_STATES_A_TO_F_CSV/IHME_USA_COUNTY_INFECT_DIS_MORT_1980_2014_ARKANSAS_Y2018M03D27.CSV')\n",
    "\n",
    "ca = pd.read_csv('IHME_USA_COUNTY_INFECT_DIS_MORT_1980_2014_STATES_A_TO_F_CSV/IHME_USA_COUNTY_INFECT_DIS_MORT_1980_2014_CALIFORNIA_Y2018M03D27.CSV')\n",
    "\n",
    "co = pd.read_csv('IHME_USA_COUNTY_INFECT_DIS_MORT_1980_2014_STATES_A_TO_F_CSV/IHME_USA_COUNTY_INFECT_DIS_MORT_1980_2014_COLORADO_Y2018M03D27.CSV')\n",
    "\n",
    "ct = pd.read_csv('IHME_USA_COUNTY_INFECT_DIS_MORT_1980_2014_STATES_A_TO_F_CSV/IHME_USA_COUNTY_INFECT_DIS_MORT_1980_2014_CONNECTICUT_Y2018M03D27.CSV')\n",
    "\n",
    "de = pd.read_csv('IHME_USA_COUNTY_INFECT_DIS_MORT_1980_2014_STATES_A_TO_F_CSV/IHME_USA_COUNTY_INFECT_DIS_MORT_1980_2014_DELAWARE_Y2018M03D27.CSV')\n",
    "\n",
    "dc = pd.read_csv('IHME_USA_COUNTY_INFECT_DIS_MORT_1980_2014_STATES_A_TO_F_CSV/IHME_USA_COUNTY_INFECT_DIS_MORT_1980_2014_DISTRICT_OF_COLUMBIA_Y2018M03D27.CSV')\n",
    "\n",
    "fl = pd.read_csv('IHME_USA_COUNTY_INFECT_DIS_MORT_1980_2014_STATES_A_TO_F_CSV/IHME_USA_COUNTY_INFECT_DIS_MORT_1980_2014_FLORIDA_Y2018M03D27.CSV')"
   ]
  },
  {
   "cell_type": "code",
   "execution_count": 3,
   "metadata": {},
   "outputs": [],
   "source": [
    "ga = pd.read_csv('IHME_USA_COUNTY_INFECT_DIS_MORT_1980_2014_STATES_G_TO_L_CSV/IHME_USA_COUNTY_INFECT_DIS_MORT_1980_2014_GEORGIA_Y2018M03D27.CSV')\n",
    "\n",
    "hi = pd.read_csv('IHME_USA_COUNTY_INFECT_DIS_MORT_1980_2014_STATES_G_TO_L_CSV/IHME_USA_COUNTY_INFECT_DIS_MORT_1980_2014_HAWAII_Y2018M03D27.CSV')\n",
    "\n",
    "id_ = pd.read_csv('IHME_USA_COUNTY_INFECT_DIS_MORT_1980_2014_STATES_G_TO_L_CSV/IHME_USA_COUNTY_INFECT_DIS_MORT_1980_2014_IDAHO_Y2018M03D27.CSV')\n",
    "\n",
    "il = pd.read_csv('IHME_USA_COUNTY_INFECT_DIS_MORT_1980_2014_STATES_G_TO_L_CSV/IHME_USA_COUNTY_INFECT_DIS_MORT_1980_2014_ILLINOIS_Y2018M03D27.CSV')\n",
    "\n",
    "in_ = pd.read_csv('IHME_USA_COUNTY_INFECT_DIS_MORT_1980_2014_STATES_G_TO_L_CSV/IHME_USA_COUNTY_INFECT_DIS_MORT_1980_2014_INDIANA_Y2018M03D27.CSV')\n",
    "\n",
    "ia = pd.read_csv('IHME_USA_COUNTY_INFECT_DIS_MORT_1980_2014_STATES_G_TO_L_CSV/IHME_USA_COUNTY_INFECT_DIS_MORT_1980_2014_IOWA_Y2018M03D27.CSV')\n",
    "\n",
    "ks = pd.read_csv('IHME_USA_COUNTY_INFECT_DIS_MORT_1980_2014_STATES_G_TO_L_CSV/IHME_USA_COUNTY_INFECT_DIS_MORT_1980_2014_KANSAS_Y2018M03D27.CSV')\n",
    "\n",
    "ky = pd.read_csv('IHME_USA_COUNTY_INFECT_DIS_MORT_1980_2014_STATES_G_TO_L_CSV/IHME_USA_COUNTY_INFECT_DIS_MORT_1980_2014_KENTUCKY_Y2018M03D27.CSV')\n",
    "\n",
    "la = pd.read_csv('IHME_USA_COUNTY_INFECT_DIS_MORT_1980_2014_STATES_G_TO_L_CSV/IHME_USA_COUNTY_INFECT_DIS_MORT_1980_2014_LOUISIANA_Y2018M03D27.CSV')"
   ]
  },
  {
   "cell_type": "code",
   "execution_count": 4,
   "metadata": {},
   "outputs": [],
   "source": [
    "me = pd.read_csv('IHME_USA_COUNTY_INFECT_DIS_MORT_1980_2014_STATES_M_TO_N_CSV/IHME_USA_COUNTY_INFECT_DIS_MORT_1980_2014_MAINE_Y2018M03D27.CSV')\n",
    "md = pd.read_csv('IHME_USA_COUNTY_INFECT_DIS_MORT_1980_2014_STATES_M_TO_N_CSV/IHME_USA_COUNTY_INFECT_DIS_MORT_1980_2014_MARYLAND_Y2018M03D27.CSV')\n",
    "ma = pd.read_csv('IHME_USA_COUNTY_INFECT_DIS_MORT_1980_2014_STATES_M_TO_N_CSV/IHME_USA_COUNTY_INFECT_DIS_MORT_1980_2014_MASSACHUSETTS_Y2018M03D27.CSV')\n",
    "mi = pd.read_csv('IHME_USA_COUNTY_INFECT_DIS_MORT_1980_2014_STATES_M_TO_N_CSV/IHME_USA_COUNTY_INFECT_DIS_MORT_1980_2014_MICHIGAN_Y2018M03D27.CSV')\n",
    "mn = pd.read_csv('IHME_USA_COUNTY_INFECT_DIS_MORT_1980_2014_STATES_M_TO_N_CSV/IHME_USA_COUNTY_INFECT_DIS_MORT_1980_2014_MINNESOTA_Y2018M03D27.CSV')\n",
    "ms = pd.read_csv('IHME_USA_COUNTY_INFECT_DIS_MORT_1980_2014_STATES_M_TO_N_CSV/IHME_USA_COUNTY_INFECT_DIS_MORT_1980_2014_MISSISSIPPI_Y2018M03D27.CSV')\n",
    "mo = pd.read_csv('IHME_USA_COUNTY_INFECT_DIS_MORT_1980_2014_STATES_M_TO_N_CSV/IHME_USA_COUNTY_INFECT_DIS_MORT_1980_2014_MISSOURI_Y2018M03D27.CSV')\n",
    "mt = pd.read_csv('IHME_USA_COUNTY_INFECT_DIS_MORT_1980_2014_STATES_M_TO_N_CSV/IHME_USA_COUNTY_INFECT_DIS_MORT_1980_2014_MONTANA_Y2018M03D27.CSV')\n",
    "ne = pd.read_csv('IHME_USA_COUNTY_INFECT_DIS_MORT_1980_2014_STATES_M_TO_N_CSV/IHME_USA_COUNTY_INFECT_DIS_MORT_1980_2014_NEBRASKA_Y2018M03D27.CSV')\n",
    "nv = pd.read_csv('IHME_USA_COUNTY_INFECT_DIS_MORT_1980_2014_STATES_M_TO_N_CSV/IHME_USA_COUNTY_INFECT_DIS_MORT_1980_2014_NEVADA_Y2018M03D27.CSV')\n",
    "nh = pd.read_csv('IHME_USA_COUNTY_INFECT_DIS_MORT_1980_2014_STATES_M_TO_N_CSV/IHME_USA_COUNTY_INFECT_DIS_MORT_1980_2014_NEW_HAMPSHIRE_Y2018M03D27.CSV')\n",
    "nj = pd.read_csv('IHME_USA_COUNTY_INFECT_DIS_MORT_1980_2014_STATES_M_TO_N_CSV/IHME_USA_COUNTY_INFECT_DIS_MORT_1980_2014_NEW_JERSEY_Y2018M03D27.CSV')\n",
    "nm = pd.read_csv('IHME_USA_COUNTY_INFECT_DIS_MORT_1980_2014_STATES_M_TO_N_CSV/IHME_USA_COUNTY_INFECT_DIS_MORT_1980_2014_NEW_MEXICO_Y2018M03D27.CSV')\n",
    "ny = pd.read_csv('IHME_USA_COUNTY_INFECT_DIS_MORT_1980_2014_STATES_M_TO_N_CSV/IHME_USA_COUNTY_INFECT_DIS_MORT_1980_2014_NEW_YORK_Y2018M03D27.CSV')\n",
    "nc = pd.read_csv('IHME_USA_COUNTY_INFECT_DIS_MORT_1980_2014_STATES_M_TO_N_CSV/IHME_USA_COUNTY_INFECT_DIS_MORT_1980_2014_NORTH_CAROLINA_Y2018M03D27.CSV')\n",
    "nd = pd.read_csv('IHME_USA_COUNTY_INFECT_DIS_MORT_1980_2014_STATES_M_TO_N_CSV/IHME_USA_COUNTY_INFECT_DIS_MORT_1980_2014_NORTH_DAKOTA_Y2018M03D27.CSV')"
   ]
  },
  {
   "cell_type": "code",
   "execution_count": 5,
   "metadata": {},
   "outputs": [],
   "source": [
    "oh = pd.read_csv('IHME_USA_COUNTY_INFECT_DIS_MORT_1980_2014_STATES_O_TO_S_CSV/IHME_USA_COUNTY_INFECT_DIS_MORT_1980_2014_OHIO_Y2018M03D27.CSV')\n",
    "ok = pd.read_csv('IHME_USA_COUNTY_INFECT_DIS_MORT_1980_2014_STATES_O_TO_S_CSV/IHME_USA_COUNTY_INFECT_DIS_MORT_1980_2014_OKLAHOMA_Y2018M03D27.CSV')\n",
    "or_ = pd.read_csv('IHME_USA_COUNTY_INFECT_DIS_MORT_1980_2014_STATES_O_TO_S_CSV/IHME_USA_COUNTY_INFECT_DIS_MORT_1980_2014_OREGON_Y2018M03D27.CSV')\n",
    "pa = pd.read_csv('IHME_USA_COUNTY_INFECT_DIS_MORT_1980_2014_STATES_O_TO_S_CSV/IHME_USA_COUNTY_INFECT_DIS_MORT_1980_2014_PENNSYLVANIA_Y2018M03D27.CSV')\n",
    "ri = pd.read_csv('IHME_USA_COUNTY_INFECT_DIS_MORT_1980_2014_STATES_O_TO_S_CSV/IHME_USA_COUNTY_INFECT_DIS_MORT_1980_2014_RHODE_ISLAND_Y2018M03D27.CSV')\n",
    "sc = pd.read_csv('IHME_USA_COUNTY_INFECT_DIS_MORT_1980_2014_STATES_O_TO_S_CSV/IHME_USA_COUNTY_INFECT_DIS_MORT_1980_2014_SOUTH_CAROLINA_Y2018M03D27.CSV')\n",
    "sd = pd.read_csv('IHME_USA_COUNTY_INFECT_DIS_MORT_1980_2014_STATES_O_TO_S_CSV/IHME_USA_COUNTY_INFECT_DIS_MORT_1980_2014_SOUTH_DAKOTA_Y2018M03D27.CSV')"
   ]
  },
  {
   "cell_type": "code",
   "execution_count": 6,
   "metadata": {},
   "outputs": [],
   "source": [
    "tn = pd.read_csv('IHME_USA_COUNTY_INFECT_DIS_MORT_1980_2014_STATES_T_TO_W_CSV/IHME_USA_COUNTY_INFECT_DIS_MORT_1980_2014_TENNESSEE_Y2018M03D27.CSV')\n",
    "tx = pd.read_csv('IHME_USA_COUNTY_INFECT_DIS_MORT_1980_2014_STATES_T_TO_W_CSV/IHME_USA_COUNTY_INFECT_DIS_MORT_1980_2014_TEXAS_Y2018M03D27.CSV')\n",
    "ut = pd.read_csv('IHME_USA_COUNTY_INFECT_DIS_MORT_1980_2014_STATES_T_TO_W_CSV/IHME_USA_COUNTY_INFECT_DIS_MORT_1980_2014_UTAH_Y2018M03D27.CSV')\n",
    "vt = pd.read_csv('IHME_USA_COUNTY_INFECT_DIS_MORT_1980_2014_STATES_T_TO_W_CSV/IHME_USA_COUNTY_INFECT_DIS_MORT_1980_2014_VERMONT_Y2018M03D27.CSV')\n",
    "va = pd.read_csv('IHME_USA_COUNTY_INFECT_DIS_MORT_1980_2014_STATES_T_TO_W_CSV/IHME_USA_COUNTY_INFECT_DIS_MORT_1980_2014_VIRGINIA_Y2018M03D27.CSV')\n",
    "wa = pd.read_csv('IHME_USA_COUNTY_INFECT_DIS_MORT_1980_2014_STATES_T_TO_W_CSV/IHME_USA_COUNTY_INFECT_DIS_MORT_1980_2014_WASHINGTON_Y2018M03D27.CSV')\n",
    "wv = pd.read_csv('IHME_USA_COUNTY_INFECT_DIS_MORT_1980_2014_STATES_T_TO_W_CSV/IHME_USA_COUNTY_INFECT_DIS_MORT_1980_2014_WEST_VIRGINIA_Y2018M03D27.CSV')\n",
    "wi = pd.read_csv('IHME_USA_COUNTY_INFECT_DIS_MORT_1980_2014_STATES_T_TO_W_CSV/IHME_USA_COUNTY_INFECT_DIS_MORT_1980_2014_WISCONSIN_Y2018M03D27.CSV')\n",
    "wy = pd.read_csv('IHME_USA_COUNTY_INFECT_DIS_MORT_1980_2014_STATES_T_TO_W_CSV/IHME_USA_COUNTY_INFECT_DIS_MORT_1980_2014_WYOMING_Y2018M03D27.CSV')"
   ]
  },
  {
   "cell_type": "code",
   "execution_count": 7,
   "metadata": {},
   "outputs": [],
   "source": [
    "al = pd.DataFrame(al.loc[al['location_name'] == 'Alabama'])\n",
    "\n",
    "al['new_index'] = range(al.shape[0])\n",
    "\n",
    "al = al.set_index('new_index')\n",
    "\n",
    "ak = pd.DataFrame(ak.loc[ak['location_name'] == 'Alaska'])\n",
    "\n",
    "ak['new_index'] = range(630)\n",
    "\n",
    "ak = ak.set_index('new_index')\n",
    "\n",
    "az = pd.DataFrame(az.loc[az['location_name'] == 'Arizona'])\n",
    "\n",
    "az['new_index'] = range(630)\n",
    "\n",
    "az = az.set_index('new_index')"
   ]
  },
  {
   "cell_type": "code",
   "execution_count": 8,
   "metadata": {},
   "outputs": [],
   "source": [
    "ar = pd.DataFrame(ar.loc[ar['location_name'] == 'Arkansas'])\n",
    "ar['new_index'] = range(630)\n",
    "ar = ar.set_index('new_index')\n",
    "\n",
    "ca = pd.DataFrame(ca.loc[ca['location_name'] == 'California'])\n",
    "ca['new_index'] = range(630)\n",
    "ca = ca.set_index('new_index')\n",
    "\n",
    "co = pd.DataFrame(co.loc[co['location_name'] == 'Colorado'])\n",
    "co['new_index'] = range(630)\n",
    "co = co.set_index('new_index')\n",
    "\n",
    "ct = pd.DataFrame(ct.loc[ct['location_name'] == 'Connecticut'])\n",
    "ct['new_index'] = range(630)\n",
    "ct = ct.set_index('new_index')\n",
    "\n",
    "de = pd.DataFrame(de.loc[de['location_name'] == 'Delaware'])\n",
    "de['new_index'] = range(630)\n",
    "de = de.set_index('new_index')\n",
    "\n",
    "fl = pd.DataFrame(fl.loc[fl['location_name'] == 'Florida'])\n",
    "fl['new_index'] = range(630)\n",
    "fl = fl.set_index('new_index')\n",
    "\n",
    "ga = pd.DataFrame(ga.loc[ga['location_name'] == 'Georgia'])\n",
    "ga['new_index'] = range(630)\n",
    "ga = ga.set_index('new_index')\n",
    "\n",
    "hi = pd.DataFrame(hi.loc[hi['location_name'] == 'Hawaii'])\n",
    "hi['new_index'] = range(630)\n",
    "hi = hi.set_index('new_index')\n",
    "\n",
    "id_ = pd.DataFrame(id_.loc[id_['location_name'] == 'Idaho'])\n",
    "id_['new_index'] = range(630)\n",
    "id_ = id_.set_index('new_index')\n",
    "\n",
    "il = pd.DataFrame(il.loc[il['location_name'] == 'Illinois'])\n",
    "il['new_index'] = range(630)\n",
    "il = il.set_index('new_index')\n",
    "\n",
    "in_ = pd.DataFrame(in_.loc[in_['location_name'] == 'Indiana'])\n",
    "in_['new_index'] = range(630)\n",
    "in_ = in_.set_index('new_index')\n",
    "\n",
    "ia = pd.DataFrame(ia.loc[ia['location_name'] == 'Iowa'])\n",
    "ia['new_index'] = range(630)\n",
    "ia = ia.set_index('new_index')\n",
    "\n",
    "ks = pd.DataFrame(ks.loc[ks['location_name'] == 'Kansas'])\n",
    "ks['new_index'] = range(630)\n",
    "ks = ks.set_index('new_index')\n",
    "\n",
    "ky = pd.DataFrame(ky.loc[ky['location_name'] == 'Kentucky'])\n",
    "ky['new_index'] = range(630)\n",
    "ky = ky.set_index('new_index')"
   ]
  },
  {
   "cell_type": "code",
   "execution_count": 9,
   "metadata": {},
   "outputs": [],
   "source": [
    "la = pd.DataFrame(la.loc[la['location_name'] == 'Louisiana'])\n",
    "la['new_index'] = range(630)\n",
    "la = la.set_index('new_index')\n",
    "\n",
    "me = pd.DataFrame(me.loc[me['location_name'] == 'Maine'])\n",
    "me['new_index'] = range(630)\n",
    "me = me.set_index('new_index')\n",
    "\n",
    "md = pd.DataFrame(md.loc[md['location_name'] == 'Maryland'])\n",
    "md['new_index'] = range(630)\n",
    "md = md.set_index('new_index')\n",
    "\n",
    "ma = pd.DataFrame(ma.loc[ma['location_name'] == 'Massachusetts'])\n",
    "ma['new_index'] = range(630)\n",
    "ma = ma.set_index('new_index')\n",
    "\n",
    "mi = pd.DataFrame(mi.loc[mi['location_name'] == 'Michigan'])\n",
    "mi['new_index'] = range(630)\n",
    "mi = mi.set_index('new_index')\n",
    "\n",
    "mn = pd.DataFrame(mn.loc[mn['location_name'] == 'Minnesota'])\n",
    "mn['new_index'] = range(630)\n",
    "mn = mn.set_index('new_index')\n",
    "\n",
    "ms = pd.DataFrame(ms.loc[ms['location_name'] == 'Mississippi'])\n",
    "ms['new_index'] = range(630)\n",
    "ms = ms.set_index('new_index')\n",
    "\n",
    "mo = pd.DataFrame(mo.loc[mo['location_name'] == 'Missouri'])\n",
    "mo['new_index'] = range(630)\n",
    "mo = mo.set_index('new_index')\n",
    "\n",
    "mt = pd.DataFrame(mt.loc[mt['location_name'] == 'Montana'])\n",
    "mt['new_index'] = range(630)\n",
    "mt = mt.set_index('new_index')\n",
    "\n",
    "ne = pd.DataFrame(ne.loc[ne['location_name'] == 'Nebraska'])\n",
    "ne['new_index'] = range(630)\n",
    "ne = ne.set_index('new_index')\n",
    "\n",
    "nv = pd.DataFrame(nv.loc[nv['location_name'] == 'Nevada'])\n",
    "nv['new_index'] = range(630)\n",
    "nv = nv.set_index('new_index')\n",
    "\n",
    "nh = pd.DataFrame(nh.loc[nh['location_name'] == 'New Hampshire'])\n",
    "nh['new_index'] = range(630)\n",
    "nh = nh.set_index('new_index')\n",
    "\n",
    "nj = pd.DataFrame(nj.loc[nj['location_name'] == 'New Jersey'])\n",
    "nj['new_index'] = range(630)\n",
    "nj = nj.set_index('new_index')\n",
    "\n",
    "nm = pd.DataFrame(nm.loc[nm['location_name'] == 'New Mexico'])\n",
    "nm['new_index'] = range(630)\n",
    "nm = nm.set_index('new_index')\n",
    "\n",
    "ny = pd.DataFrame(ny.loc[ny['location_name'] == 'New York'])\n",
    "ny['new_index'] = range(630)\n",
    "ny = ny.set_index('new_index')\n",
    "\n",
    "nc = pd.DataFrame(nc.loc[nc['location_name'] == 'North Carolina'])\n",
    "nc['new_index'] = range(630)\n",
    "nc = nc.set_index('new_index')"
   ]
  },
  {
   "cell_type": "code",
   "execution_count": 10,
   "metadata": {},
   "outputs": [],
   "source": [
    "nd = pd.DataFrame(nd.loc[nd['location_name'] == 'North Dakota'])\n",
    "nd['new_index'] = range(630)\n",
    "nd = nd.set_index('new_index')\n",
    "\n",
    "oh = pd.DataFrame(oh.loc[oh['location_name'] == 'Ohio'])\n",
    "oh['new_index'] = range(630)\n",
    "oh = oh.set_index('new_index')\n",
    "\n",
    "ok = pd.DataFrame(ok.loc[ok['location_name'] == 'Oklahoma'])\n",
    "ok['new_index'] = range(630)\n",
    "ok = ok.set_index('new_index')\n",
    "\n",
    "or_ = pd.DataFrame(or_.loc[or_['location_name'] == 'Oregon'])\n",
    "or_['new_index'] = range(630)\n",
    "or_ = or_.set_index('new_index')\n",
    "\n",
    "pa = pd.DataFrame(pa.loc[pa['location_name'] == 'Pennsylvania'])\n",
    "pa['new_index'] = range(630)\n",
    "pa = pa.set_index('new_index')\n",
    "\n",
    "ri = pd.DataFrame(ri.loc[ri['location_name'] == 'Rhode Island'])\n",
    "ri['new_index'] = range(630)\n",
    "ri = ri.set_index('new_index')\n",
    "\n",
    "sc = pd.DataFrame(sc.loc[sc['location_name'] == 'South Carolina'])\n",
    "sc['new_index'] = range(630)\n",
    "sc = sc.set_index('new_index')\n",
    "\n",
    "sd = pd.DataFrame(sd.loc[sd['location_name'] == 'South Dakota'])\n",
    "sd['new_index'] = range(630)\n",
    "sd = sd.set_index('new_index')\n",
    "\n",
    "tn = pd.DataFrame(tn.loc[tn['location_name'] == 'Tennessee'])\n",
    "tn['new_index'] = range(630)\n",
    "tn = tn.set_index('new_index')\n",
    "\n",
    "tx = pd.DataFrame(tx.loc[tx['location_name'] == 'Texas'])\n",
    "tx['new_index'] = range(630)\n",
    "tx = tx.set_index('new_index')\n",
    "\n",
    "ut = pd.DataFrame(ut.loc[ut['location_name'] == 'Utah'])\n",
    "ut['new_index'] = range(630)\n",
    "ut = ut.set_index('new_index')\n",
    "\n",
    "vt = pd.DataFrame(vt.loc[vt['location_name'] == 'Vermont'])\n",
    "vt['new_index'] = range(630)\n",
    "vt = vt.set_index('new_index')\n",
    "\n",
    "va = pd.DataFrame(va.loc[va['location_name'] == 'Virginia'])\n",
    "va['new_index'] = range(630)\n",
    "va = va.set_index('new_index')\n",
    "\n",
    "wa = pd.DataFrame(wa.loc[wa['location_name'] == 'Washington'])\n",
    "wa['new_index'] = range(630)\n",
    "wa = wa.set_index('new_index')\n",
    "\n",
    "wv = pd.DataFrame(wv.loc[wv['location_name'] == 'West Virginia'])\n",
    "wv['new_index'] = range(630)\n",
    "wv = wv.set_index('new_index')\n",
    "\n",
    "wi = pd.DataFrame(wi.loc[wi['location_name'] == 'Wisconsin'])\n",
    "wi['new_index'] = range(630)\n",
    "wi = wi.set_index('new_index')\n",
    "\n",
    "wy = pd.DataFrame(wy.loc[wy['location_name'] == 'Wyoming'])\n",
    "wy['new_index'] = range(630)\n",
    "wy = wy.set_index('new_index')"
   ]
  },
  {
   "cell_type": "code",
   "execution_count": 11,
   "metadata": {},
   "outputs": [
    {
     "data": {
      "text/html": [
       "<div>\n",
       "<style scoped>\n",
       "    .dataframe tbody tr th:only-of-type {\n",
       "        vertical-align: middle;\n",
       "    }\n",
       "\n",
       "    .dataframe tbody tr th {\n",
       "        vertical-align: top;\n",
       "    }\n",
       "\n",
       "    .dataframe thead th {\n",
       "        text-align: right;\n",
       "    }\n",
       "</style>\n",
       "<table border=\"1\" class=\"dataframe\">\n",
       "  <thead>\n",
       "    <tr style=\"text-align: right;\">\n",
       "      <th></th>\n",
       "      <th>measure_id</th>\n",
       "      <th>measure_name</th>\n",
       "      <th>location_id</th>\n",
       "      <th>location_name</th>\n",
       "      <th>FIPS</th>\n",
       "      <th>cause_id</th>\n",
       "      <th>cause_name</th>\n",
       "      <th>sex_id</th>\n",
       "      <th>sex</th>\n",
       "      <th>age_id</th>\n",
       "      <th>age_name</th>\n",
       "      <th>year_id</th>\n",
       "      <th>metric</th>\n",
       "      <th>mx</th>\n",
       "      <th>lower</th>\n",
       "      <th>upper</th>\n",
       "    </tr>\n",
       "    <tr>\n",
       "      <th>new_index</th>\n",
       "      <th></th>\n",
       "      <th></th>\n",
       "      <th></th>\n",
       "      <th></th>\n",
       "      <th></th>\n",
       "      <th></th>\n",
       "      <th></th>\n",
       "      <th></th>\n",
       "      <th></th>\n",
       "      <th></th>\n",
       "      <th></th>\n",
       "      <th></th>\n",
       "      <th></th>\n",
       "      <th></th>\n",
       "      <th></th>\n",
       "      <th></th>\n",
       "    </tr>\n",
       "  </thead>\n",
       "  <tbody>\n",
       "    <tr>\n",
       "      <th>280</th>\n",
       "      <td>1</td>\n",
       "      <td>Deaths</td>\n",
       "      <td>523</td>\n",
       "      <td>Alabama</td>\n",
       "      <td>1</td>\n",
       "      <td>302</td>\n",
       "      <td>Diarrheal diseases</td>\n",
       "      <td>3</td>\n",
       "      <td>Both</td>\n",
       "      <td>27</td>\n",
       "      <td>Age-standardized</td>\n",
       "      <td>1980</td>\n",
       "      <td>Rate</td>\n",
       "      <td>0.449973</td>\n",
       "      <td>0.373935</td>\n",
       "      <td>0.833611</td>\n",
       "    </tr>\n",
       "    <tr>\n",
       "      <th>281</th>\n",
       "      <td>1</td>\n",
       "      <td>Deaths</td>\n",
       "      <td>523</td>\n",
       "      <td>Alabama</td>\n",
       "      <td>1</td>\n",
       "      <td>302</td>\n",
       "      <td>Diarrheal diseases</td>\n",
       "      <td>3</td>\n",
       "      <td>Both</td>\n",
       "      <td>27</td>\n",
       "      <td>Age-standardized</td>\n",
       "      <td>1981</td>\n",
       "      <td>Rate</td>\n",
       "      <td>0.444671</td>\n",
       "      <td>0.373058</td>\n",
       "      <td>0.828510</td>\n",
       "    </tr>\n",
       "    <tr>\n",
       "      <th>282</th>\n",
       "      <td>1</td>\n",
       "      <td>Deaths</td>\n",
       "      <td>523</td>\n",
       "      <td>Alabama</td>\n",
       "      <td>1</td>\n",
       "      <td>302</td>\n",
       "      <td>Diarrheal diseases</td>\n",
       "      <td>3</td>\n",
       "      <td>Both</td>\n",
       "      <td>27</td>\n",
       "      <td>Age-standardized</td>\n",
       "      <td>1982</td>\n",
       "      <td>Rate</td>\n",
       "      <td>0.427563</td>\n",
       "      <td>0.354910</td>\n",
       "      <td>0.812697</td>\n",
       "    </tr>\n",
       "    <tr>\n",
       "      <th>283</th>\n",
       "      <td>1</td>\n",
       "      <td>Deaths</td>\n",
       "      <td>523</td>\n",
       "      <td>Alabama</td>\n",
       "      <td>1</td>\n",
       "      <td>302</td>\n",
       "      <td>Diarrheal diseases</td>\n",
       "      <td>3</td>\n",
       "      <td>Both</td>\n",
       "      <td>27</td>\n",
       "      <td>Age-standardized</td>\n",
       "      <td>1983</td>\n",
       "      <td>Rate</td>\n",
       "      <td>0.414360</td>\n",
       "      <td>0.345257</td>\n",
       "      <td>0.787047</td>\n",
       "    </tr>\n",
       "    <tr>\n",
       "      <th>284</th>\n",
       "      <td>1</td>\n",
       "      <td>Deaths</td>\n",
       "      <td>523</td>\n",
       "      <td>Alabama</td>\n",
       "      <td>1</td>\n",
       "      <td>302</td>\n",
       "      <td>Diarrheal diseases</td>\n",
       "      <td>3</td>\n",
       "      <td>Both</td>\n",
       "      <td>27</td>\n",
       "      <td>Age-standardized</td>\n",
       "      <td>1984</td>\n",
       "      <td>Rate</td>\n",
       "      <td>0.401412</td>\n",
       "      <td>0.335563</td>\n",
       "      <td>0.772402</td>\n",
       "    </tr>\n",
       "    <tr>\n",
       "      <th>285</th>\n",
       "      <td>1</td>\n",
       "      <td>Deaths</td>\n",
       "      <td>523</td>\n",
       "      <td>Alabama</td>\n",
       "      <td>1</td>\n",
       "      <td>302</td>\n",
       "      <td>Diarrheal diseases</td>\n",
       "      <td>3</td>\n",
       "      <td>Both</td>\n",
       "      <td>27</td>\n",
       "      <td>Age-standardized</td>\n",
       "      <td>1985</td>\n",
       "      <td>Rate</td>\n",
       "      <td>0.395381</td>\n",
       "      <td>0.331653</td>\n",
       "      <td>0.755534</td>\n",
       "    </tr>\n",
       "    <tr>\n",
       "      <th>286</th>\n",
       "      <td>1</td>\n",
       "      <td>Deaths</td>\n",
       "      <td>523</td>\n",
       "      <td>Alabama</td>\n",
       "      <td>1</td>\n",
       "      <td>302</td>\n",
       "      <td>Diarrheal diseases</td>\n",
       "      <td>3</td>\n",
       "      <td>Both</td>\n",
       "      <td>27</td>\n",
       "      <td>Age-standardized</td>\n",
       "      <td>1986</td>\n",
       "      <td>Rate</td>\n",
       "      <td>0.396371</td>\n",
       "      <td>0.331912</td>\n",
       "      <td>0.748849</td>\n",
       "    </tr>\n",
       "    <tr>\n",
       "      <th>287</th>\n",
       "      <td>1</td>\n",
       "      <td>Deaths</td>\n",
       "      <td>523</td>\n",
       "      <td>Alabama</td>\n",
       "      <td>1</td>\n",
       "      <td>302</td>\n",
       "      <td>Diarrheal diseases</td>\n",
       "      <td>3</td>\n",
       "      <td>Both</td>\n",
       "      <td>27</td>\n",
       "      <td>Age-standardized</td>\n",
       "      <td>1987</td>\n",
       "      <td>Rate</td>\n",
       "      <td>0.393013</td>\n",
       "      <td>0.329931</td>\n",
       "      <td>0.749418</td>\n",
       "    </tr>\n",
       "    <tr>\n",
       "      <th>288</th>\n",
       "      <td>1</td>\n",
       "      <td>Deaths</td>\n",
       "      <td>523</td>\n",
       "      <td>Alabama</td>\n",
       "      <td>1</td>\n",
       "      <td>302</td>\n",
       "      <td>Diarrheal diseases</td>\n",
       "      <td>3</td>\n",
       "      <td>Both</td>\n",
       "      <td>27</td>\n",
       "      <td>Age-standardized</td>\n",
       "      <td>1988</td>\n",
       "      <td>Rate</td>\n",
       "      <td>0.397763</td>\n",
       "      <td>0.334237</td>\n",
       "      <td>0.736565</td>\n",
       "    </tr>\n",
       "    <tr>\n",
       "      <th>289</th>\n",
       "      <td>1</td>\n",
       "      <td>Deaths</td>\n",
       "      <td>523</td>\n",
       "      <td>Alabama</td>\n",
       "      <td>1</td>\n",
       "      <td>302</td>\n",
       "      <td>Diarrheal diseases</td>\n",
       "      <td>3</td>\n",
       "      <td>Both</td>\n",
       "      <td>27</td>\n",
       "      <td>Age-standardized</td>\n",
       "      <td>1989</td>\n",
       "      <td>Rate</td>\n",
       "      <td>0.399980</td>\n",
       "      <td>0.339744</td>\n",
       "      <td>0.719178</td>\n",
       "    </tr>\n",
       "    <tr>\n",
       "      <th>290</th>\n",
       "      <td>1</td>\n",
       "      <td>Deaths</td>\n",
       "      <td>523</td>\n",
       "      <td>Alabama</td>\n",
       "      <td>1</td>\n",
       "      <td>302</td>\n",
       "      <td>Diarrheal diseases</td>\n",
       "      <td>3</td>\n",
       "      <td>Both</td>\n",
       "      <td>27</td>\n",
       "      <td>Age-standardized</td>\n",
       "      <td>1990</td>\n",
       "      <td>Rate</td>\n",
       "      <td>0.405230</td>\n",
       "      <td>0.346783</td>\n",
       "      <td>0.723252</td>\n",
       "    </tr>\n",
       "    <tr>\n",
       "      <th>291</th>\n",
       "      <td>1</td>\n",
       "      <td>Deaths</td>\n",
       "      <td>523</td>\n",
       "      <td>Alabama</td>\n",
       "      <td>1</td>\n",
       "      <td>302</td>\n",
       "      <td>Diarrheal diseases</td>\n",
       "      <td>3</td>\n",
       "      <td>Both</td>\n",
       "      <td>27</td>\n",
       "      <td>Age-standardized</td>\n",
       "      <td>1991</td>\n",
       "      <td>Rate</td>\n",
       "      <td>0.422306</td>\n",
       "      <td>0.363563</td>\n",
       "      <td>0.722977</td>\n",
       "    </tr>\n",
       "    <tr>\n",
       "      <th>292</th>\n",
       "      <td>1</td>\n",
       "      <td>Deaths</td>\n",
       "      <td>523</td>\n",
       "      <td>Alabama</td>\n",
       "      <td>1</td>\n",
       "      <td>302</td>\n",
       "      <td>Diarrheal diseases</td>\n",
       "      <td>3</td>\n",
       "      <td>Both</td>\n",
       "      <td>27</td>\n",
       "      <td>Age-standardized</td>\n",
       "      <td>1992</td>\n",
       "      <td>Rate</td>\n",
       "      <td>0.429196</td>\n",
       "      <td>0.369749</td>\n",
       "      <td>0.731766</td>\n",
       "    </tr>\n",
       "    <tr>\n",
       "      <th>293</th>\n",
       "      <td>1</td>\n",
       "      <td>Deaths</td>\n",
       "      <td>523</td>\n",
       "      <td>Alabama</td>\n",
       "      <td>1</td>\n",
       "      <td>302</td>\n",
       "      <td>Diarrheal diseases</td>\n",
       "      <td>3</td>\n",
       "      <td>Both</td>\n",
       "      <td>27</td>\n",
       "      <td>Age-standardized</td>\n",
       "      <td>1993</td>\n",
       "      <td>Rate</td>\n",
       "      <td>0.465513</td>\n",
       "      <td>0.402542</td>\n",
       "      <td>0.782106</td>\n",
       "    </tr>\n",
       "    <tr>\n",
       "      <th>294</th>\n",
       "      <td>1</td>\n",
       "      <td>Deaths</td>\n",
       "      <td>523</td>\n",
       "      <td>Alabama</td>\n",
       "      <td>1</td>\n",
       "      <td>302</td>\n",
       "      <td>Diarrheal diseases</td>\n",
       "      <td>3</td>\n",
       "      <td>Both</td>\n",
       "      <td>27</td>\n",
       "      <td>Age-standardized</td>\n",
       "      <td>1994</td>\n",
       "      <td>Rate</td>\n",
       "      <td>0.493320</td>\n",
       "      <td>0.430188</td>\n",
       "      <td>0.773969</td>\n",
       "    </tr>\n",
       "    <tr>\n",
       "      <th>295</th>\n",
       "      <td>1</td>\n",
       "      <td>Deaths</td>\n",
       "      <td>523</td>\n",
       "      <td>Alabama</td>\n",
       "      <td>1</td>\n",
       "      <td>302</td>\n",
       "      <td>Diarrheal diseases</td>\n",
       "      <td>3</td>\n",
       "      <td>Both</td>\n",
       "      <td>27</td>\n",
       "      <td>Age-standardized</td>\n",
       "      <td>1995</td>\n",
       "      <td>Rate</td>\n",
       "      <td>0.529432</td>\n",
       "      <td>0.467115</td>\n",
       "      <td>0.786922</td>\n",
       "    </tr>\n",
       "    <tr>\n",
       "      <th>296</th>\n",
       "      <td>1</td>\n",
       "      <td>Deaths</td>\n",
       "      <td>523</td>\n",
       "      <td>Alabama</td>\n",
       "      <td>1</td>\n",
       "      <td>302</td>\n",
       "      <td>Diarrheal diseases</td>\n",
       "      <td>3</td>\n",
       "      <td>Both</td>\n",
       "      <td>27</td>\n",
       "      <td>Age-standardized</td>\n",
       "      <td>1996</td>\n",
       "      <td>Rate</td>\n",
       "      <td>0.575758</td>\n",
       "      <td>0.511090</td>\n",
       "      <td>0.806850</td>\n",
       "    </tr>\n",
       "    <tr>\n",
       "      <th>297</th>\n",
       "      <td>1</td>\n",
       "      <td>Deaths</td>\n",
       "      <td>523</td>\n",
       "      <td>Alabama</td>\n",
       "      <td>1</td>\n",
       "      <td>302</td>\n",
       "      <td>Diarrheal diseases</td>\n",
       "      <td>3</td>\n",
       "      <td>Both</td>\n",
       "      <td>27</td>\n",
       "      <td>Age-standardized</td>\n",
       "      <td>1997</td>\n",
       "      <td>Rate</td>\n",
       "      <td>0.637761</td>\n",
       "      <td>0.571319</td>\n",
       "      <td>0.828664</td>\n",
       "    </tr>\n",
       "    <tr>\n",
       "      <th>298</th>\n",
       "      <td>1</td>\n",
       "      <td>Deaths</td>\n",
       "      <td>523</td>\n",
       "      <td>Alabama</td>\n",
       "      <td>1</td>\n",
       "      <td>302</td>\n",
       "      <td>Diarrheal diseases</td>\n",
       "      <td>3</td>\n",
       "      <td>Both</td>\n",
       "      <td>27</td>\n",
       "      <td>Age-standardized</td>\n",
       "      <td>1998</td>\n",
       "      <td>Rate</td>\n",
       "      <td>0.735774</td>\n",
       "      <td>0.648521</td>\n",
       "      <td>0.895328</td>\n",
       "    </tr>\n",
       "    <tr>\n",
       "      <th>299</th>\n",
       "      <td>1</td>\n",
       "      <td>Deaths</td>\n",
       "      <td>523</td>\n",
       "      <td>Alabama</td>\n",
       "      <td>1</td>\n",
       "      <td>302</td>\n",
       "      <td>Diarrheal diseases</td>\n",
       "      <td>3</td>\n",
       "      <td>Both</td>\n",
       "      <td>27</td>\n",
       "      <td>Age-standardized</td>\n",
       "      <td>1999</td>\n",
       "      <td>Rate</td>\n",
       "      <td>0.910742</td>\n",
       "      <td>0.773553</td>\n",
       "      <td>1.009108</td>\n",
       "    </tr>\n",
       "    <tr>\n",
       "      <th>300</th>\n",
       "      <td>1</td>\n",
       "      <td>Deaths</td>\n",
       "      <td>523</td>\n",
       "      <td>Alabama</td>\n",
       "      <td>1</td>\n",
       "      <td>302</td>\n",
       "      <td>Diarrheal diseases</td>\n",
       "      <td>3</td>\n",
       "      <td>Both</td>\n",
       "      <td>27</td>\n",
       "      <td>Age-standardized</td>\n",
       "      <td>2000</td>\n",
       "      <td>Rate</td>\n",
       "      <td>1.048872</td>\n",
       "      <td>0.854448</td>\n",
       "      <td>1.158665</td>\n",
       "    </tr>\n",
       "    <tr>\n",
       "      <th>301</th>\n",
       "      <td>1</td>\n",
       "      <td>Deaths</td>\n",
       "      <td>523</td>\n",
       "      <td>Alabama</td>\n",
       "      <td>1</td>\n",
       "      <td>302</td>\n",
       "      <td>Diarrheal diseases</td>\n",
       "      <td>3</td>\n",
       "      <td>Both</td>\n",
       "      <td>27</td>\n",
       "      <td>Age-standardized</td>\n",
       "      <td>2001</td>\n",
       "      <td>Rate</td>\n",
       "      <td>1.222952</td>\n",
       "      <td>0.957882</td>\n",
       "      <td>1.344938</td>\n",
       "    </tr>\n",
       "    <tr>\n",
       "      <th>302</th>\n",
       "      <td>1</td>\n",
       "      <td>Deaths</td>\n",
       "      <td>523</td>\n",
       "      <td>Alabama</td>\n",
       "      <td>1</td>\n",
       "      <td>302</td>\n",
       "      <td>Diarrheal diseases</td>\n",
       "      <td>3</td>\n",
       "      <td>Both</td>\n",
       "      <td>27</td>\n",
       "      <td>Age-standardized</td>\n",
       "      <td>2002</td>\n",
       "      <td>Rate</td>\n",
       "      <td>1.434464</td>\n",
       "      <td>1.040198</td>\n",
       "      <td>1.589129</td>\n",
       "    </tr>\n",
       "    <tr>\n",
       "      <th>303</th>\n",
       "      <td>1</td>\n",
       "      <td>Deaths</td>\n",
       "      <td>523</td>\n",
       "      <td>Alabama</td>\n",
       "      <td>1</td>\n",
       "      <td>302</td>\n",
       "      <td>Diarrheal diseases</td>\n",
       "      <td>3</td>\n",
       "      <td>Both</td>\n",
       "      <td>27</td>\n",
       "      <td>Age-standardized</td>\n",
       "      <td>2003</td>\n",
       "      <td>Rate</td>\n",
       "      <td>1.676383</td>\n",
       "      <td>1.069559</td>\n",
       "      <td>1.853433</td>\n",
       "    </tr>\n",
       "    <tr>\n",
       "      <th>304</th>\n",
       "      <td>1</td>\n",
       "      <td>Deaths</td>\n",
       "      <td>523</td>\n",
       "      <td>Alabama</td>\n",
       "      <td>1</td>\n",
       "      <td>302</td>\n",
       "      <td>Diarrheal diseases</td>\n",
       "      <td>3</td>\n",
       "      <td>Both</td>\n",
       "      <td>27</td>\n",
       "      <td>Age-standardized</td>\n",
       "      <td>2004</td>\n",
       "      <td>Rate</td>\n",
       "      <td>1.834692</td>\n",
       "      <td>1.018586</td>\n",
       "      <td>2.030289</td>\n",
       "    </tr>\n",
       "    <tr>\n",
       "      <th>305</th>\n",
       "      <td>1</td>\n",
       "      <td>Deaths</td>\n",
       "      <td>523</td>\n",
       "      <td>Alabama</td>\n",
       "      <td>1</td>\n",
       "      <td>302</td>\n",
       "      <td>Diarrheal diseases</td>\n",
       "      <td>3</td>\n",
       "      <td>Both</td>\n",
       "      <td>27</td>\n",
       "      <td>Age-standardized</td>\n",
       "      <td>2005</td>\n",
       "      <td>Rate</td>\n",
       "      <td>2.016712</td>\n",
       "      <td>0.975636</td>\n",
       "      <td>2.238461</td>\n",
       "    </tr>\n",
       "    <tr>\n",
       "      <th>306</th>\n",
       "      <td>1</td>\n",
       "      <td>Deaths</td>\n",
       "      <td>523</td>\n",
       "      <td>Alabama</td>\n",
       "      <td>1</td>\n",
       "      <td>302</td>\n",
       "      <td>Diarrheal diseases</td>\n",
       "      <td>3</td>\n",
       "      <td>Both</td>\n",
       "      <td>27</td>\n",
       "      <td>Age-standardized</td>\n",
       "      <td>2006</td>\n",
       "      <td>Rate</td>\n",
       "      <td>2.179854</td>\n",
       "      <td>0.973374</td>\n",
       "      <td>2.429178</td>\n",
       "    </tr>\n",
       "    <tr>\n",
       "      <th>307</th>\n",
       "      <td>1</td>\n",
       "      <td>Deaths</td>\n",
       "      <td>523</td>\n",
       "      <td>Alabama</td>\n",
       "      <td>1</td>\n",
       "      <td>302</td>\n",
       "      <td>Diarrheal diseases</td>\n",
       "      <td>3</td>\n",
       "      <td>Both</td>\n",
       "      <td>27</td>\n",
       "      <td>Age-standardized</td>\n",
       "      <td>2007</td>\n",
       "      <td>Rate</td>\n",
       "      <td>2.252070</td>\n",
       "      <td>0.973305</td>\n",
       "      <td>2.511362</td>\n",
       "    </tr>\n",
       "    <tr>\n",
       "      <th>308</th>\n",
       "      <td>1</td>\n",
       "      <td>Deaths</td>\n",
       "      <td>523</td>\n",
       "      <td>Alabama</td>\n",
       "      <td>1</td>\n",
       "      <td>302</td>\n",
       "      <td>Diarrheal diseases</td>\n",
       "      <td>3</td>\n",
       "      <td>Both</td>\n",
       "      <td>27</td>\n",
       "      <td>Age-standardized</td>\n",
       "      <td>2008</td>\n",
       "      <td>Rate</td>\n",
       "      <td>2.391949</td>\n",
       "      <td>0.960006</td>\n",
       "      <td>2.681632</td>\n",
       "    </tr>\n",
       "    <tr>\n",
       "      <th>309</th>\n",
       "      <td>1</td>\n",
       "      <td>Deaths</td>\n",
       "      <td>523</td>\n",
       "      <td>Alabama</td>\n",
       "      <td>1</td>\n",
       "      <td>302</td>\n",
       "      <td>Diarrheal diseases</td>\n",
       "      <td>3</td>\n",
       "      <td>Both</td>\n",
       "      <td>27</td>\n",
       "      <td>Age-standardized</td>\n",
       "      <td>2009</td>\n",
       "      <td>Rate</td>\n",
       "      <td>2.401160</td>\n",
       "      <td>0.902732</td>\n",
       "      <td>2.683696</td>\n",
       "    </tr>\n",
       "    <tr>\n",
       "      <th>310</th>\n",
       "      <td>1</td>\n",
       "      <td>Deaths</td>\n",
       "      <td>523</td>\n",
       "      <td>Alabama</td>\n",
       "      <td>1</td>\n",
       "      <td>302</td>\n",
       "      <td>Diarrheal diseases</td>\n",
       "      <td>3</td>\n",
       "      <td>Both</td>\n",
       "      <td>27</td>\n",
       "      <td>Age-standardized</td>\n",
       "      <td>2010</td>\n",
       "      <td>Rate</td>\n",
       "      <td>2.444439</td>\n",
       "      <td>0.881949</td>\n",
       "      <td>2.735027</td>\n",
       "    </tr>\n",
       "    <tr>\n",
       "      <th>311</th>\n",
       "      <td>1</td>\n",
       "      <td>Deaths</td>\n",
       "      <td>523</td>\n",
       "      <td>Alabama</td>\n",
       "      <td>1</td>\n",
       "      <td>302</td>\n",
       "      <td>Diarrheal diseases</td>\n",
       "      <td>3</td>\n",
       "      <td>Both</td>\n",
       "      <td>27</td>\n",
       "      <td>Age-standardized</td>\n",
       "      <td>2011</td>\n",
       "      <td>Rate</td>\n",
       "      <td>2.464168</td>\n",
       "      <td>0.852859</td>\n",
       "      <td>2.771376</td>\n",
       "    </tr>\n",
       "    <tr>\n",
       "      <th>312</th>\n",
       "      <td>1</td>\n",
       "      <td>Deaths</td>\n",
       "      <td>523</td>\n",
       "      <td>Alabama</td>\n",
       "      <td>1</td>\n",
       "      <td>302</td>\n",
       "      <td>Diarrheal diseases</td>\n",
       "      <td>3</td>\n",
       "      <td>Both</td>\n",
       "      <td>27</td>\n",
       "      <td>Age-standardized</td>\n",
       "      <td>2012</td>\n",
       "      <td>Rate</td>\n",
       "      <td>2.494452</td>\n",
       "      <td>0.884156</td>\n",
       "      <td>2.807375</td>\n",
       "    </tr>\n",
       "    <tr>\n",
       "      <th>313</th>\n",
       "      <td>1</td>\n",
       "      <td>Deaths</td>\n",
       "      <td>523</td>\n",
       "      <td>Alabama</td>\n",
       "      <td>1</td>\n",
       "      <td>302</td>\n",
       "      <td>Diarrheal diseases</td>\n",
       "      <td>3</td>\n",
       "      <td>Both</td>\n",
       "      <td>27</td>\n",
       "      <td>Age-standardized</td>\n",
       "      <td>2013</td>\n",
       "      <td>Rate</td>\n",
       "      <td>2.524320</td>\n",
       "      <td>0.889544</td>\n",
       "      <td>2.837233</td>\n",
       "    </tr>\n",
       "    <tr>\n",
       "      <th>314</th>\n",
       "      <td>1</td>\n",
       "      <td>Deaths</td>\n",
       "      <td>523</td>\n",
       "      <td>Alabama</td>\n",
       "      <td>1</td>\n",
       "      <td>302</td>\n",
       "      <td>Diarrheal diseases</td>\n",
       "      <td>3</td>\n",
       "      <td>Both</td>\n",
       "      <td>27</td>\n",
       "      <td>Age-standardized</td>\n",
       "      <td>2014</td>\n",
       "      <td>Rate</td>\n",
       "      <td>2.406220</td>\n",
       "      <td>0.891999</td>\n",
       "      <td>2.703369</td>\n",
       "    </tr>\n",
       "  </tbody>\n",
       "</table>\n",
       "</div>"
      ],
      "text/plain": [
       "           measure_id measure_name  location_id location_name  FIPS  cause_id  \\\n",
       "new_index                                                                       \n",
       "280                 1       Deaths          523       Alabama     1       302   \n",
       "281                 1       Deaths          523       Alabama     1       302   \n",
       "282                 1       Deaths          523       Alabama     1       302   \n",
       "283                 1       Deaths          523       Alabama     1       302   \n",
       "284                 1       Deaths          523       Alabama     1       302   \n",
       "285                 1       Deaths          523       Alabama     1       302   \n",
       "286                 1       Deaths          523       Alabama     1       302   \n",
       "287                 1       Deaths          523       Alabama     1       302   \n",
       "288                 1       Deaths          523       Alabama     1       302   \n",
       "289                 1       Deaths          523       Alabama     1       302   \n",
       "290                 1       Deaths          523       Alabama     1       302   \n",
       "291                 1       Deaths          523       Alabama     1       302   \n",
       "292                 1       Deaths          523       Alabama     1       302   \n",
       "293                 1       Deaths          523       Alabama     1       302   \n",
       "294                 1       Deaths          523       Alabama     1       302   \n",
       "295                 1       Deaths          523       Alabama     1       302   \n",
       "296                 1       Deaths          523       Alabama     1       302   \n",
       "297                 1       Deaths          523       Alabama     1       302   \n",
       "298                 1       Deaths          523       Alabama     1       302   \n",
       "299                 1       Deaths          523       Alabama     1       302   \n",
       "300                 1       Deaths          523       Alabama     1       302   \n",
       "301                 1       Deaths          523       Alabama     1       302   \n",
       "302                 1       Deaths          523       Alabama     1       302   \n",
       "303                 1       Deaths          523       Alabama     1       302   \n",
       "304                 1       Deaths          523       Alabama     1       302   \n",
       "305                 1       Deaths          523       Alabama     1       302   \n",
       "306                 1       Deaths          523       Alabama     1       302   \n",
       "307                 1       Deaths          523       Alabama     1       302   \n",
       "308                 1       Deaths          523       Alabama     1       302   \n",
       "309                 1       Deaths          523       Alabama     1       302   \n",
       "310                 1       Deaths          523       Alabama     1       302   \n",
       "311                 1       Deaths          523       Alabama     1       302   \n",
       "312                 1       Deaths          523       Alabama     1       302   \n",
       "313                 1       Deaths          523       Alabama     1       302   \n",
       "314                 1       Deaths          523       Alabama     1       302   \n",
       "\n",
       "                   cause_name  sex_id   sex  age_id          age_name  \\\n",
       "new_index                                                               \n",
       "280        Diarrheal diseases       3  Both      27  Age-standardized   \n",
       "281        Diarrheal diseases       3  Both      27  Age-standardized   \n",
       "282        Diarrheal diseases       3  Both      27  Age-standardized   \n",
       "283        Diarrheal diseases       3  Both      27  Age-standardized   \n",
       "284        Diarrheal diseases       3  Both      27  Age-standardized   \n",
       "285        Diarrheal diseases       3  Both      27  Age-standardized   \n",
       "286        Diarrheal diseases       3  Both      27  Age-standardized   \n",
       "287        Diarrheal diseases       3  Both      27  Age-standardized   \n",
       "288        Diarrheal diseases       3  Both      27  Age-standardized   \n",
       "289        Diarrheal diseases       3  Both      27  Age-standardized   \n",
       "290        Diarrheal diseases       3  Both      27  Age-standardized   \n",
       "291        Diarrheal diseases       3  Both      27  Age-standardized   \n",
       "292        Diarrheal diseases       3  Both      27  Age-standardized   \n",
       "293        Diarrheal diseases       3  Both      27  Age-standardized   \n",
       "294        Diarrheal diseases       3  Both      27  Age-standardized   \n",
       "295        Diarrheal diseases       3  Both      27  Age-standardized   \n",
       "296        Diarrheal diseases       3  Both      27  Age-standardized   \n",
       "297        Diarrheal diseases       3  Both      27  Age-standardized   \n",
       "298        Diarrheal diseases       3  Both      27  Age-standardized   \n",
       "299        Diarrheal diseases       3  Both      27  Age-standardized   \n",
       "300        Diarrheal diseases       3  Both      27  Age-standardized   \n",
       "301        Diarrheal diseases       3  Both      27  Age-standardized   \n",
       "302        Diarrheal diseases       3  Both      27  Age-standardized   \n",
       "303        Diarrheal diseases       3  Both      27  Age-standardized   \n",
       "304        Diarrheal diseases       3  Both      27  Age-standardized   \n",
       "305        Diarrheal diseases       3  Both      27  Age-standardized   \n",
       "306        Diarrheal diseases       3  Both      27  Age-standardized   \n",
       "307        Diarrheal diseases       3  Both      27  Age-standardized   \n",
       "308        Diarrheal diseases       3  Both      27  Age-standardized   \n",
       "309        Diarrheal diseases       3  Both      27  Age-standardized   \n",
       "310        Diarrheal diseases       3  Both      27  Age-standardized   \n",
       "311        Diarrheal diseases       3  Both      27  Age-standardized   \n",
       "312        Diarrheal diseases       3  Both      27  Age-standardized   \n",
       "313        Diarrheal diseases       3  Both      27  Age-standardized   \n",
       "314        Diarrheal diseases       3  Both      27  Age-standardized   \n",
       "\n",
       "           year_id metric        mx     lower     upper  \n",
       "new_index                                                \n",
       "280           1980   Rate  0.449973  0.373935  0.833611  \n",
       "281           1981   Rate  0.444671  0.373058  0.828510  \n",
       "282           1982   Rate  0.427563  0.354910  0.812697  \n",
       "283           1983   Rate  0.414360  0.345257  0.787047  \n",
       "284           1984   Rate  0.401412  0.335563  0.772402  \n",
       "285           1985   Rate  0.395381  0.331653  0.755534  \n",
       "286           1986   Rate  0.396371  0.331912  0.748849  \n",
       "287           1987   Rate  0.393013  0.329931  0.749418  \n",
       "288           1988   Rate  0.397763  0.334237  0.736565  \n",
       "289           1989   Rate  0.399980  0.339744  0.719178  \n",
       "290           1990   Rate  0.405230  0.346783  0.723252  \n",
       "291           1991   Rate  0.422306  0.363563  0.722977  \n",
       "292           1992   Rate  0.429196  0.369749  0.731766  \n",
       "293           1993   Rate  0.465513  0.402542  0.782106  \n",
       "294           1994   Rate  0.493320  0.430188  0.773969  \n",
       "295           1995   Rate  0.529432  0.467115  0.786922  \n",
       "296           1996   Rate  0.575758  0.511090  0.806850  \n",
       "297           1997   Rate  0.637761  0.571319  0.828664  \n",
       "298           1998   Rate  0.735774  0.648521  0.895328  \n",
       "299           1999   Rate  0.910742  0.773553  1.009108  \n",
       "300           2000   Rate  1.048872  0.854448  1.158665  \n",
       "301           2001   Rate  1.222952  0.957882  1.344938  \n",
       "302           2002   Rate  1.434464  1.040198  1.589129  \n",
       "303           2003   Rate  1.676383  1.069559  1.853433  \n",
       "304           2004   Rate  1.834692  1.018586  2.030289  \n",
       "305           2005   Rate  2.016712  0.975636  2.238461  \n",
       "306           2006   Rate  2.179854  0.973374  2.429178  \n",
       "307           2007   Rate  2.252070  0.973305  2.511362  \n",
       "308           2008   Rate  2.391949  0.960006  2.681632  \n",
       "309           2009   Rate  2.401160  0.902732  2.683696  \n",
       "310           2010   Rate  2.444439  0.881949  2.735027  \n",
       "311           2011   Rate  2.464168  0.852859  2.771376  \n",
       "312           2012   Rate  2.494452  0.884156  2.807375  \n",
       "313           2013   Rate  2.524320  0.889544  2.837233  \n",
       "314           2014   Rate  2.406220  0.891999  2.703369  "
      ]
     },
     "execution_count": 11,
     "metadata": {},
     "output_type": "execute_result"
    }
   ],
   "source": [
    "al.loc[(al['cause_name'] == 'Diarrheal diseases') & (al['sex'] == 'Both'), :]"
   ]
  },
  {
   "cell_type": "code",
   "execution_count": 11,
   "metadata": {},
   "outputs": [],
   "source": [
    "def t_diarrhpred(X, y):\n",
    "\n",
    "    results = sm.GLM(y, sm.add_constant(X),\n",
    "                sm.families.Gamma(sm.families.links.log)).fit()\n",
    "    \n",
    "    X_test = pd.DataFrame([2015, 2016, 2017, 2018, 2019, 2020, 2021, 2022,\n",
    "                           2023, 2024],\n",
    "                      columns = ['future'])\n",
    "    preds = []\n",
    "    for i in range(10):\n",
    "        preds.append(y[314] * np.exp(results.params[1]) ** (i + 1))\n",
    "    print(results.params[1])\n",
    "    return pd.concat([X_test, pd.DataFrame(preds)], axis = 1)"
   ]
  },
  {
   "cell_type": "markdown",
   "metadata": {},
   "source": [
    "## National Diarrhea Trend"
   ]
  },
  {
   "cell_type": "code",
   "execution_count": 12,
   "metadata": {},
   "outputs": [],
   "source": [
    "national = pd.read_csv('IHME_USA_COUNTY_INFECT_DIS_MORT_1980_2014_STATES_T_TO_W_CSV/IHME_USA_COUNTY_INFECT_DIS_MORT_1980_2014_UNITED_STATES_Y2018M03D27.CSV')"
   ]
  },
  {
   "cell_type": "code",
   "execution_count": 13,
   "metadata": {},
   "outputs": [
    {
     "name": "stdout",
     "output_type": "stream",
     "text": [
      "0.07307902599971064\n"
     ]
    },
    {
     "data": {
      "text/html": [
       "<div>\n",
       "<style scoped>\n",
       "    .dataframe tbody tr th:only-of-type {\n",
       "        vertical-align: middle;\n",
       "    }\n",
       "\n",
       "    .dataframe tbody tr th {\n",
       "        vertical-align: top;\n",
       "    }\n",
       "\n",
       "    .dataframe thead th {\n",
       "        text-align: right;\n",
       "    }\n",
       "</style>\n",
       "<table border=\"1\" class=\"dataframe\">\n",
       "  <thead>\n",
       "    <tr style=\"text-align: right;\">\n",
       "      <th></th>\n",
       "      <th>future</th>\n",
       "      <th>0</th>\n",
       "    </tr>\n",
       "  </thead>\n",
       "  <tbody>\n",
       "    <tr>\n",
       "      <th>0</th>\n",
       "      <td>2015</td>\n",
       "      <td>2.594118</td>\n",
       "    </tr>\n",
       "    <tr>\n",
       "      <th>1</th>\n",
       "      <td>2016</td>\n",
       "      <td>2.790793</td>\n",
       "    </tr>\n",
       "    <tr>\n",
       "      <th>2</th>\n",
       "      <td>2017</td>\n",
       "      <td>3.002378</td>\n",
       "    </tr>\n",
       "    <tr>\n",
       "      <th>3</th>\n",
       "      <td>2018</td>\n",
       "      <td>3.230005</td>\n",
       "    </tr>\n",
       "    <tr>\n",
       "      <th>4</th>\n",
       "      <td>2019</td>\n",
       "      <td>3.474890</td>\n",
       "    </tr>\n",
       "    <tr>\n",
       "      <th>5</th>\n",
       "      <td>2020</td>\n",
       "      <td>3.738341</td>\n",
       "    </tr>\n",
       "    <tr>\n",
       "      <th>6</th>\n",
       "      <td>2021</td>\n",
       "      <td>4.021765</td>\n",
       "    </tr>\n",
       "    <tr>\n",
       "      <th>7</th>\n",
       "      <td>2022</td>\n",
       "      <td>4.326677</td>\n",
       "    </tr>\n",
       "    <tr>\n",
       "      <th>8</th>\n",
       "      <td>2023</td>\n",
       "      <td>4.654707</td>\n",
       "    </tr>\n",
       "    <tr>\n",
       "      <th>9</th>\n",
       "      <td>2024</td>\n",
       "      <td>5.007606</td>\n",
       "    </tr>\n",
       "  </tbody>\n",
       "</table>\n",
       "</div>"
      ],
      "text/plain": [
       "   future         0\n",
       "0    2015  2.594118\n",
       "1    2016  2.790793\n",
       "2    2017  3.002378\n",
       "3    2018  3.230005\n",
       "4    2019  3.474890\n",
       "5    2020  3.738341\n",
       "6    2021  4.021765\n",
       "7    2022  4.326677\n",
       "8    2023  4.654707\n",
       "9    2024  5.007606"
      ]
     },
     "execution_count": 13,
     "metadata": {},
     "output_type": "execute_result"
    }
   ],
   "source": [
    "nat_t_diarrh = t_diarrhpred(national.loc[(national.index < 315) & (national.index > 279), :]['year_id'],\n",
    "            national.loc[(national.index < 315) & (national.index > 279), :]['mx'])\n",
    "nat_t_diarrh"
   ]
  },
  {
   "cell_type": "code",
   "execution_count": 14,
   "metadata": {},
   "outputs": [],
   "source": [
    "import matplotlib"
   ]
  },
  {
   "cell_type": "code",
   "execution_count": 16,
   "metadata": {},
   "outputs": [
    {
     "data": {
      "text/plain": [
       "Text(0.5,0.98,'Diarrhea')"
      ]
     },
     "execution_count": 16,
     "metadata": {},
     "output_type": "execute_result"
    },
    {
     "data": {
      "image/png": "[encoded data removed]",
      "text/plain": [
       "<matplotlib.figure.Figure at 0x10a6a5208>"
      ]
     },
     "metadata": {},
     "output_type": "display_data"
    }
   ],
   "source": [
    "font = {'weight' : 'bold',\n",
    "        'size'   : 28}\n",
    "\n",
    "matplotlib.rc('font', **font)\n",
    "plt.subplots(figsize = (16, 11))\n",
    "\n",
    "plt.subplot(2, 2, 3)\n",
    "plt.subplots_adjust(wspace = 0, hspace = 0)\n",
    "plt.plot(national.loc[(national.index < 315) & (national.index > 279), :]['year_id'],\n",
    "         national.loc[(national.index < 315) & (national.index > 279), :]['mx'], 'k')\n",
    "plt.xlabel('Year', fontsize = 28)\n",
    "plt.ylabel('Deaths / 100,000 pop.', fontsize = 28)\n",
    "plt.title('National Mort. Rate', fontsize = 28)\n",
    "plt.subplot(2, 2, 2)\n",
    "plt.plot(nat_t_diarrh['future'], nat_t_diarrh[0], 'r')\n",
    "plt.ylabel('Deaths / 100,000 pop.', fontsize = 28)\n",
    "plt.xlabel('Year', fontsize = 28)\n",
    "plt.title('National Mort. Pred.', fontsize = 28)\n",
    "plt.suptitle('Diarrhea', fontsize = 40)"
   ]
  },
  {
   "cell_type": "markdown",
   "metadata": {},
   "source": [
    "This is the only one of the six diseases where mortality is projected to _increase_. One proposed explanation for the increased use of antibiotics (https://fivethirtyeight.com/features/more-americans-are-dying-from-suicide-drug-use-and-diarrhea/), which can have acute diarrhea as a side effect (https://www.mayoclinic.org/diseases-conditions/antibiotic-associated-diarrhea/symptoms-causes/syc-20352231)."
   ]
  },
  {
   "cell_type": "code",
   "execution_count": 13,
   "metadata": {},
   "outputs": [],
   "source": [
    "states = [al, ak, az, ar, ca, co, ct, de, fl, ga, hi, id_, il, in_, ia, ks, ky, la, me, md,\n",
    "          ma, mi, mn, ms, mo, mt, ne, nv, nh, nj, nm, ny, nc, nd, oh, ok, or_, pa, ri, sc,\n",
    "          sd, tn, tx, ut, vt, va, wa, wv, wi, wy]"
   ]
  },
  {
   "cell_type": "code",
   "execution_count": 16,
   "metadata": {},
   "outputs": [
    {
     "name": "stdout",
     "output_type": "stream",
     "text": [
      "0.06888687432555467\n",
      "   future         0\n",
      "0    2015  2.577820\n",
      "1    2016  2.761657\n",
      "2    2017  2.958605\n",
      "3    2018  3.169598\n",
      "4    2019  3.395638\n",
      "5    2020  3.637798\n",
      "6    2021  3.897227\n",
      "7    2022  4.175158\n",
      "8    2023  4.472910\n",
      "9    2024  4.791895\n",
      "0.05896831512195058\n",
      "   future         0\n",
      "0    2015  1.424732\n",
      "1    2016  1.511273\n",
      "2    2017  1.603070\n",
      "3    2018  1.700443\n",
      "4    2019  1.803731\n",
      "5    2020  1.913293\n",
      "6    2021  2.029509\n",
      "7    2022  2.152785\n",
      "8    2023  2.283548\n",
      "9    2024  2.422255\n",
      "0.08154324194071796\n",
      "   future         0\n",
      "0    2015  2.768699\n",
      "1    2016  3.003928\n",
      "2    2017  3.259142\n",
      "3    2018  3.536039\n",
      "4    2019  3.836462\n",
      "5    2020  4.162408\n",
      "6    2021  4.516047\n",
      "7    2022  4.899731\n",
      "8    2023  5.316013\n",
      "9    2024  5.767662\n",
      "0.06529145413924892\n",
      "   future         0\n",
      "0    2015  2.152994\n",
      "1    2016  2.298256\n",
      "2    2017  2.453320\n",
      "3    2018  2.618846\n",
      "4    2019  2.795539\n",
      "5    2020  2.984155\n",
      "6    2021  3.185496\n",
      "7    2022  3.400422\n",
      "8    2023  3.629848\n",
      "9    2024  3.874755\n",
      "0.0696096254081672\n",
      "   future         0\n",
      "0    2015  2.364152\n",
      "1    2016  2.534583\n",
      "2    2017  2.717300\n",
      "3    2018  2.913189\n",
      "4    2019  3.123199\n",
      "5    2020  3.348350\n",
      "6    2021  3.589731\n",
      "7    2022  3.848513\n",
      "8    2023  4.125951\n",
      "9    2024  4.423389\n",
      "0.07162908887671673\n",
      "   future         0\n",
      "0    2015  2.105967\n",
      "1    2016  2.262350\n",
      "2    2017  2.430345\n",
      "3    2018  2.610814\n",
      "4    2019  2.804685\n",
      "5    2020  3.012952\n",
      "6    2021  3.236684\n",
      "7    2022  3.477030\n",
      "8    2023  3.735224\n",
      "9    2024  4.012589\n",
      "0.07978495101045582\n",
      "   future         0\n",
      "0    2015  3.461106\n",
      "1    2016  3.748565\n",
      "2    2017  4.059899\n",
      "3    2018  4.397090\n",
      "4    2019  4.762287\n",
      "5    2020  5.157815\n",
      "6    2021  5.586192\n",
      "7    2022  6.050149\n",
      "8    2023  6.552639\n",
      "9    2024  7.096862\n",
      "0.0771330780524323\n",
      "   future         0\n",
      "0    2015  3.506906\n",
      "1    2016  3.788110\n",
      "2    2017  4.091862\n",
      "3    2018  4.419972\n",
      "4    2019  4.774391\n",
      "5    2020  5.157229\n",
      "6    2021  5.570766\n",
      "7    2022  6.017462\n",
      "8    2023  6.499977\n",
      "9    2024  7.021183\n",
      "0.07141216751952656\n",
      "   future         0\n",
      "0    2015  2.351105\n",
      "1    2016  2.525143\n",
      "2    2017  2.712064\n",
      "3    2018  2.912821\n",
      "4    2019  3.128439\n",
      "5    2020  3.360018\n",
      "6    2021  3.608740\n",
      "7    2022  3.875872\n",
      "8    2023  4.162779\n",
      "9    2024  4.470924\n",
      "0.06691120898606925\n",
      "   future         0\n",
      "0    2015  2.240058\n",
      "1    2016  2.395071\n",
      "2    2017  2.560811\n",
      "3    2018  2.738020\n",
      "4    2019  2.927493\n",
      "5    2020  3.130077\n",
      "6    2021  3.346680\n",
      "7    2022  3.578272\n",
      "8    2023  3.825890\n",
      "9    2024  4.090644\n",
      "0.023988125267989355\n",
      "   future         0\n",
      "0    2015  0.497540\n",
      "1    2016  0.509619\n",
      "2    2017  0.521991\n",
      "3    2018  0.534664\n",
      "4    2019  0.547645\n",
      "5    2020  0.560941\n",
      "6    2021  0.574560\n",
      "7    2022  0.588509\n",
      "8    2023  0.602797\n",
      "9    2024  0.617432\n",
      "0.07075856117292587\n",
      "   future         0\n",
      "0    2015  1.758484\n",
      "1    2016  1.887419\n",
      "2    2017  2.025809\n",
      "3    2018  2.174345\n",
      "4    2019  2.333773\n",
      "5    2020  2.504890\n",
      "6    2021  2.688553\n",
      "7    2022  2.885684\n",
      "8    2023  3.097268\n",
      "9    2024  3.324366\n",
      "0.0755763243636913\n",
      "   future         0\n",
      "0    2015  2.936297\n",
      "1    2016  3.166813\n",
      "2    2017  3.415425\n",
      "3    2018  3.683555\n",
      "4    2019  3.972735\n",
      "5    2020  4.284616\n",
      "6    2021  4.620982\n",
      "7    2022  4.983755\n",
      "8    2023  5.375007\n",
      "9    2024  5.796975\n",
      "0.08190036596524579\n",
      "   future         0\n",
      "0    2015  3.197787\n",
      "1    2016  3.470710\n",
      "2    2017  3.766927\n",
      "3    2018  4.088426\n",
      "4    2019  4.437363\n",
      "5    2020  4.816082\n",
      "6    2021  5.227123\n",
      "7    2022  5.673246\n",
      "8    2023  6.157444\n",
      "9    2024  6.682968\n",
      "0.0714874169010087\n",
      "   future         0\n",
      "0    2015  1.905364\n",
      "1    2016  2.046560\n",
      "2    2017  2.198220\n",
      "3    2018  2.361118\n",
      "4    2019  2.536088\n",
      "5    2020  2.724024\n",
      "6    2021  2.925887\n",
      "7    2022  3.142709\n",
      "8    2023  3.375598\n",
      "9    2024  3.625745\n",
      "0.07236719370308062\n",
      "   future         0\n",
      "0    2015  2.153861\n",
      "1    2016  2.315508\n",
      "2    2017  2.489287\n",
      "3    2018  2.676108\n",
      "4    2019  2.876950\n",
      "5    2020  3.092866\n",
      "6    2021  3.324985\n",
      "7    2022  3.574526\n",
      "8    2023  3.842794\n",
      "9    2024  4.131196\n",
      "0.07651071811887271\n",
      "   future         0\n",
      "0    2015  2.888047\n",
      "1    2016  3.117686\n",
      "2    2017  3.365585\n",
      "3    2018  3.633195\n",
      "4    2019  3.922084\n",
      "5    2020  4.233944\n",
      "6    2021  4.570601\n",
      "7    2022  4.934027\n",
      "8    2023  5.326350\n",
      "9    2024  5.749868\n",
      "0.06119780474662812\n",
      "   future         0\n",
      "0    2015  1.832162\n",
      "1    2016  1.947788\n",
      "2    2017  2.070712\n",
      "3    2018  2.201392\n",
      "4    2019  2.340321\n",
      "5    2020  2.488016\n",
      "6    2021  2.645033\n",
      "7    2022  2.811959\n",
      "8    2023  2.989419\n",
      "9    2024  3.178079\n",
      "0.07107405817199364\n",
      "   future         0\n",
      "0    2015  3.610822\n",
      "1    2016  3.876798\n",
      "2    2017  4.162366\n",
      "3    2018  4.468969\n",
      "4    2019  4.798156\n",
      "5    2020  5.151592\n",
      "6    2021  5.531062\n",
      "7    2022  5.938484\n",
      "8    2023  6.375918\n",
      "9    2024  6.845572\n",
      "0.07749488859642577\n",
      "   future         0\n",
      "0    2015  3.802369\n",
      "1    2016  4.108751\n",
      "2    2017  4.439821\n",
      "3    2018  4.797567\n",
      "4    2019  5.184139\n",
      "5    2020  5.601860\n",
      "6    2021  6.053240\n",
      "7    2022  6.540990\n",
      "8    2023  7.068041\n",
      "9    2024  7.637561\n",
      "0.07454989333461169\n",
      "   future         0\n",
      "0    2015  3.420660\n",
      "1    2016  3.685416\n",
      "2    2017  3.970664\n",
      "3    2018  4.277990\n",
      "4    2019  4.609102\n",
      "5    2020  4.965843\n",
      "6    2021  5.350194\n",
      "7    2022  5.764294\n",
      "8    2023  6.210446\n",
      "9    2024  6.691129\n",
      "0.07734405898547421\n",
      "   future         0\n",
      "0    2015  2.514860\n",
      "1    2016  2.717089\n",
      "2    2017  2.935580\n",
      "3    2018  3.171641\n",
      "4    2019  3.426685\n",
      "5    2020  3.702238\n",
      "6    2021  3.999948\n",
      "7    2022  4.321599\n",
      "8    2023  4.669115\n",
      "9    2024  5.044576\n",
      "0.06845116731341992\n",
      "   future         0\n",
      "0    2015  1.733603\n",
      "1    2016  1.856426\n",
      "2    2017  1.987951\n",
      "3    2018  2.128794\n",
      "4    2019  2.279615\n",
      "5    2020  2.441122\n",
      "6    2021  2.614071\n",
      "7    2022  2.799274\n",
      "8    2023  2.997598\n",
      "9    2024  3.209973\n",
      "0.05984359914747643\n",
      "   future         0\n",
      "0    2015  1.854416\n",
      "1    2016  1.968779\n",
      "2    2017  2.090195\n",
      "3    2018  2.219098\n",
      "4    2019  2.355951\n",
      "5    2020  2.501244\n",
      "6    2021  2.655496\n",
      "7    2022  2.819262\n",
      "8    2023  2.993128\n",
      "9    2024  3.177715\n",
      "0.07810804025219863\n",
      "   future         0\n",
      "0    2015  3.472108\n",
      "1    2016  3.754180\n",
      "2    2017  4.059167\n",
      "3    2018  4.388932\n",
      "4    2019  4.745486\n",
      "5    2020  5.131007\n",
      "6    2021  5.547848\n",
      "7    2022  5.998552\n",
      "8    2023  6.485871\n",
      "9    2024  7.012780\n",
      "0.06692405094425219\n",
      "   future         0\n",
      "0    2015  1.574735\n",
      "1    2016  1.683729\n",
      "2    2017  1.800267\n",
      "3    2018  1.924871\n",
      "4    2019  2.058100\n",
      "5    2020  2.200550\n",
      "6    2021  2.352859\n",
      "7    2022  2.515711\n",
      "8    2023  2.689834\n",
      "9    2024  2.876009\n",
      "0.07022278614335076\n",
      "   future         0\n",
      "0    2015  1.814249\n",
      "1    2016  1.946230\n",
      "2    2017  2.087813\n",
      "3    2018  2.239695\n",
      "4    2019  2.402627\n",
      "5    2020  2.577411\n",
      "6    2021  2.764910\n",
      "7    2022  2.966049\n",
      "8    2023  3.181821\n",
      "9    2024  3.413289\n",
      "0.07363023756263956\n",
      "   future         0\n",
      "0    2015  2.481345\n",
      "1    2016  2.670942\n",
      "2    2017  2.875025\n",
      "3    2018  3.094702\n",
      "4    2019  3.331164\n",
      "5    2020  3.585694\n",
      "6    2021  3.859672\n",
      "7    2022  4.154585\n",
      "8    2023  4.472031\n",
      "9    2024  4.813734\n",
      "0.07385777260685501\n",
      "   future         0\n",
      "0    2015  3.575700\n",
      "1    2016  3.849791\n",
      "2    2017  4.144891\n",
      "3    2018  4.462612\n",
      "4    2019  4.804688\n",
      "5    2020  5.172985\n",
      "6    2021  5.569513\n",
      "7    2022  5.996437\n",
      "8    2023  6.456086\n",
      "9    2024  6.950968\n",
      "0.07339541086117785\n",
      "   future         0\n",
      "0    2015  2.716169\n",
      "1    2016  2.923022\n",
      "2    2017  3.145628\n",
      "3    2018  3.385186\n",
      "4    2019  3.642988\n",
      "5    2020  3.920423\n",
      "6    2021  4.218987\n",
      "7    2022  4.540288\n",
      "8    2023  4.886058\n",
      "9    2024  5.258161\n",
      "0.07662058098766546\n",
      "   future         0\n",
      "0    2015  2.653741\n",
      "1    2016  2.865065\n",
      "2    2017  3.093217\n",
      "3    2018  3.339537\n",
      "4    2019  3.605472\n",
      "5    2020  3.892584\n",
      "6    2021  4.202560\n",
      "7    2022  4.537220\n",
      "8    2023  4.898529\n",
      "9    2024  5.288611\n",
      "0.07265209978929664\n",
      "   future         0\n",
      "0    2015  2.374782\n",
      "1    2016  2.553737\n",
      "2    2017  2.746178\n",
      "3    2018  2.953120\n",
      "4    2019  3.175656\n",
      "5    2020  3.414962\n",
      "6    2021  3.672301\n",
      "7    2022  3.949032\n",
      "8    2023  4.246617\n",
      "9    2024  4.566626\n",
      "0.07421020323455778\n",
      "   future         0\n",
      "0    2015  2.804775\n",
      "1    2016  3.020836\n",
      "2    2017  3.253540\n",
      "3    2018  3.504171\n",
      "4    2019  3.774108\n",
      "5    2020  4.064840\n",
      "6    2021  4.377968\n",
      "7    2022  4.715216\n",
      "8    2023  5.078444\n",
      "9    2024  5.469653\n",
      "0.06195719091480725\n",
      "   future         0\n",
      "0    2015  1.252862\n",
      "1    2016  1.332941\n",
      "2    2017  1.418138\n",
      "3    2018  1.508781\n",
      "4    2019  1.605217\n",
      "5    2020  1.707818\n",
      "6    2021  1.816976\n",
      "7    2022  1.933111\n",
      "8    2023  2.056669\n",
      "9    2024  2.188125\n",
      "0.08134516801124692\n",
      "   future         0\n",
      "0    2015  3.772534\n",
      "1    2016  4.092238\n",
      "2    2017  4.439036\n",
      "3    2018  4.815223\n",
      "4    2019  5.223291\n",
      "5    2020  5.665940\n",
      "6    2021  6.146101\n",
      "7    2022  6.666954\n",
      "8    2023  7.231947\n",
      "9    2024  7.844820\n"
     ]
    },
    {
     "name": "stdout",
     "output_type": "stream",
     "text": [
      "0.07762792320291234\n",
      "   future         0\n",
      "0    2015  2.714065\n",
      "1    2016  2.933145\n",
      "2    2017  3.169910\n",
      "3    2018  3.425787\n",
      "4    2019  3.702318\n",
      "5    2020  4.001171\n",
      "6    2021  4.324147\n",
      "7    2022  4.673195\n",
      "8    2023  5.050417\n",
      "9    2024  5.458089\n",
      "0.07468073589527174\n",
      "   future         0\n",
      "0    2015  2.010526\n",
      "1    2016  2.166422\n",
      "2    2017  2.334407\n",
      "3    2018  2.515417\n",
      "4    2019  2.710463\n",
      "5    2020  2.920632\n",
      "6    2021  3.147098\n",
      "7    2022  3.391124\n",
      "8    2023  3.654073\n",
      "9    2024  3.937410\n",
      "0.0755921238601531\n",
      "   future         0\n",
      "0    2015  3.116483\n",
      "1    2016  3.361198\n",
      "2    2017  3.625128\n",
      "3    2018  3.909782\n",
      "4    2019  4.216788\n",
      "5    2020  4.547901\n",
      "6    2021  4.905014\n",
      "7    2022  5.290169\n",
      "8    2023  5.705566\n",
      "9    2024  6.153582\n",
      "0.08657463542357904\n",
      "   future         0\n",
      "0    2015  4.452615\n",
      "1    2016  4.855277\n",
      "2    2017  5.294353\n",
      "3    2018  5.773136\n",
      "4    2019  6.295216\n",
      "5    2020  6.864510\n",
      "6    2021  7.485287\n",
      "7    2022  8.162202\n",
      "8    2023  8.900332\n",
      "9    2024  9.705213\n",
      "0.06677041178112941\n",
      "   future         0\n",
      "0    2015  2.316319\n",
      "1    2016  2.476261\n",
      "2    2017  2.647246\n",
      "3    2018  2.830039\n",
      "4    2019  3.025453\n",
      "5    2020  3.234361\n",
      "6    2021  3.457693\n",
      "7    2022  3.696447\n",
      "8    2023  3.951687\n",
      "9    2024  4.224551\n",
      "0.0678474930223243\n",
      "   future         0\n",
      "0    2015  1.942446\n",
      "1    2016  2.078810\n",
      "2    2017  2.224747\n",
      "3    2018  2.380928\n",
      "4    2019  2.548075\n",
      "5    2020  2.726955\n",
      "6    2021  2.918393\n",
      "7    2022  3.123270\n",
      "8    2023  3.342530\n",
      "9    2024  3.577182\n",
      "0.07560263064534242\n",
      "   future         0\n",
      "0    2015  2.876900\n",
      "1    2016  3.102834\n",
      "2    2017  3.346512\n",
      "3    2018  3.609326\n",
      "4    2019  3.892781\n",
      "5    2020  4.198496\n",
      "6    2021  4.528221\n",
      "7    2022  4.883839\n",
      "8    2023  5.267386\n",
      "9    2024  5.681055\n",
      "0.0649674360932649\n",
      "   future         0\n",
      "0    2015  1.917581\n",
      "1    2016  2.046297\n",
      "2    2017  2.183653\n",
      "3    2018  2.330229\n",
      "4    2019  2.486644\n",
      "5    2020  2.653558\n",
      "6    2021  2.831676\n",
      "7    2022  3.021751\n",
      "8    2023  3.224584\n",
      "9    2024  3.441031\n",
      "0.07030288158497434\n",
      "   future         0\n",
      "0    2015  1.767672\n",
      "1    2016  1.896417\n",
      "2    2017  2.034539\n",
      "3    2018  2.182721\n",
      "4    2019  2.341695\n",
      "5    2020  2.512248\n",
      "6    2021  2.695223\n",
      "7    2022  2.891524\n",
      "8    2023  3.102123\n",
      "9    2024  3.328060\n",
      "0.07835857538535461\n",
      "   future         0\n",
      "0    2015  3.581197\n",
      "1    2016  3.873102\n",
      "2    2017  4.188800\n",
      "3    2018  4.530231\n",
      "4    2019  4.899492\n",
      "5    2020  5.298851\n",
      "6    2021  5.730762\n",
      "7    2022  6.197879\n",
      "8    2023  6.703071\n",
      "9    2024  7.249441\n",
      "0.076404622482053\n",
      "   future         0\n",
      "0    2015  3.034931\n",
      "1    2016  3.275902\n",
      "2    2017  3.536006\n",
      "3    2018  3.816762\n",
      "4    2019  4.119810\n",
      "5    2020  4.446920\n",
      "6    2021  4.800002\n",
      "7    2022  5.181119\n",
      "8    2023  5.592496\n",
      "9    2024  6.036535\n",
      "0.08450355926064164\n",
      "   future         0\n",
      "0    2015  2.769869\n",
      "1    2016  3.014107\n",
      "2    2017  3.279881\n",
      "3    2018  3.569090\n",
      "4    2019  3.883801\n",
      "5    2020  4.226262\n",
      "6    2021  4.598919\n",
      "7    2022  5.004437\n",
      "8    2023  5.445712\n",
      "9    2024  5.925897\n",
      "0.0795770543862967\n",
      "   future         0\n",
      "0    2015  3.318678\n",
      "1    2016  3.593561\n",
      "2    2017  3.891212\n",
      "3    2018  4.213517\n",
      "4    2019  4.562519\n",
      "5    2020  4.940428\n",
      "6    2021  5.349638\n",
      "7    2022  5.792743\n",
      "8    2023  6.272550\n",
      "9    2024  6.792099\n",
      "0.06863894893110005\n",
      "   future         0\n",
      "0    2015  1.974652\n",
      "1    2016  2.114950\n",
      "2    2017  2.265216\n",
      "3    2018  2.426159\n",
      "4    2019  2.598536\n",
      "5    2020  2.783160\n",
      "6    2021  2.980902\n",
      "7    2022  3.192694\n",
      "8    2023  3.419533\n",
      "9    2024  3.662489\n",
      "0.06737942238756715\n",
      "   future         0\n",
      "0    2015  1.552625\n",
      "1    2016  1.660845\n",
      "2    2017  1.776608\n",
      "3    2018  1.900440\n",
      "4    2019  2.032903\n",
      "5    2020  2.174599\n",
      "6    2021  2.326171\n",
      "7    2022  2.488308\n",
      "8    2023  2.661746\n",
      "9    2024  2.847273\n"
     ]
    }
   ],
   "source": [
    "for st in states:\n",
    "    t_diarrhpred(st.loc[(st.index > 279) & (st.index < 315), :]['year_id'],\n",
    "              st.loc[(st.index > 279) & (st.index < 315), :]['mx'])"
   ]
  },
  {
   "cell_type": "code",
   "execution_count": 14,
   "metadata": {},
   "outputs": [
    {
     "name": "stdout",
     "output_type": "stream",
     "text": [
      "0.06888687432555467\n"
     ]
    },
    {
     "name": "stderr",
     "output_type": "stream",
     "text": [
      "/Users/gadamico/anaconda3/lib/python3.6/site-packages/ipykernel/__main__.py:6: SettingWithCopyWarning: \n",
      "A value is trying to be set on a copy of a slice from a DataFrame.\n",
      "Try using .loc[row_indexer,col_indexer] = value instead\n",
      "\n",
      "See the caveats in the documentation: http://pandas.pydata.org/pandas-docs/stable/indexing.html#indexing-view-versus-copy\n",
      "/Users/gadamico/anaconda3/lib/python3.6/site-packages/ipykernel/__main__.py:8: SettingWithCopyWarning: \n",
      "A value is trying to be set on a copy of a slice from a DataFrame.\n",
      "Try using .loc[row_indexer,col_indexer] = value instead\n",
      "\n",
      "See the caveats in the documentation: http://pandas.pydata.org/pandas-docs/stable/indexing.html#indexing-view-versus-copy\n"
     ]
    }
   ],
   "source": [
    "al_diarrh_df = t_diarrhpred(al.loc[(al.index > 279) & (al.index < 315), :]['year_id'],\n",
    "                      al.loc[(al.index > 279) & (al.index < 315), :]['mx'])\n",
    "\n",
    "al_diarrh = al_diarrh_df.loc[al_diarrh_df['future'] == 2019]\n",
    "\n",
    "al_diarrh['state'] = 'Alabama'\n",
    "\n",
    "al_diarrh['new_index'] = 0\n",
    "\n",
    "al_diarrh.set_index('new_index', inplace = True)"
   ]
  },
  {
   "cell_type": "code",
   "execution_count": 15,
   "metadata": {},
   "outputs": [
    {
     "name": "stdout",
     "output_type": "stream",
     "text": [
      "0.05896831512195058\n"
     ]
    },
    {
     "name": "stderr",
     "output_type": "stream",
     "text": [
      "/Users/gadamico/anaconda3/lib/python3.6/site-packages/ipykernel/__main__.py:6: SettingWithCopyWarning: \n",
      "A value is trying to be set on a copy of a slice from a DataFrame.\n",
      "Try using .loc[row_indexer,col_indexer] = value instead\n",
      "\n",
      "See the caveats in the documentation: http://pandas.pydata.org/pandas-docs/stable/indexing.html#indexing-view-versus-copy\n",
      "/Users/gadamico/anaconda3/lib/python3.6/site-packages/ipykernel/__main__.py:8: SettingWithCopyWarning: \n",
      "A value is trying to be set on a copy of a slice from a DataFrame.\n",
      "Try using .loc[row_indexer,col_indexer] = value instead\n",
      "\n",
      "See the caveats in the documentation: http://pandas.pydata.org/pandas-docs/stable/indexing.html#indexing-view-versus-copy\n"
     ]
    }
   ],
   "source": [
    "ak_diarrh_df = t_diarrhpred(ak.loc[(ak.index > 279) & (ak.index < 315), :]['year_id'],\n",
    "                      ak.loc[(ak.index > 279) & (ak.index < 315), :]['mx'])\n",
    "\n",
    "ak_diarrh = ak_diarrh_df.loc[ak_diarrh_df['future'] == 2019]\n",
    "\n",
    "ak_diarrh['state'] = 'Alaska'\n",
    "\n",
    "ak_diarrh['new_index'] = 1\n",
    "\n",
    "ak_diarrh.set_index('new_index', inplace = True)"
   ]
  },
  {
   "cell_type": "code",
   "execution_count": 16,
   "metadata": {},
   "outputs": [
    {
     "name": "stdout",
     "output_type": "stream",
     "text": [
      "0.08154324194071796\n"
     ]
    },
    {
     "name": "stderr",
     "output_type": "stream",
     "text": [
      "/Users/gadamico/anaconda3/lib/python3.6/site-packages/ipykernel/__main__.py:6: SettingWithCopyWarning: \n",
      "A value is trying to be set on a copy of a slice from a DataFrame.\n",
      "Try using .loc[row_indexer,col_indexer] = value instead\n",
      "\n",
      "See the caveats in the documentation: http://pandas.pydata.org/pandas-docs/stable/indexing.html#indexing-view-versus-copy\n",
      "/Users/gadamico/anaconda3/lib/python3.6/site-packages/ipykernel/__main__.py:8: SettingWithCopyWarning: \n",
      "A value is trying to be set on a copy of a slice from a DataFrame.\n",
      "Try using .loc[row_indexer,col_indexer] = value instead\n",
      "\n",
      "See the caveats in the documentation: http://pandas.pydata.org/pandas-docs/stable/indexing.html#indexing-view-versus-copy\n"
     ]
    }
   ],
   "source": [
    "az_diarrh_df = t_diarrhpred(az.loc[(az.index > 279) & (az.index < 315), :]['year_id'],\n",
    "                      az.loc[(az.index > 279) & (az.index < 315), :]['mx'])\n",
    "\n",
    "az_diarrh = az_diarrh_df.loc[az_diarrh_df['future'] == 2019]\n",
    "\n",
    "az_diarrh['state'] = 'Arizona'\n",
    "\n",
    "az_diarrh['new_index'] = 2\n",
    "\n",
    "az_diarrh.set_index('new_index', inplace = True)"
   ]
  },
  {
   "cell_type": "code",
   "execution_count": 17,
   "metadata": {},
   "outputs": [
    {
     "name": "stdout",
     "output_type": "stream",
     "text": [
      "0.06529145413924892\n"
     ]
    },
    {
     "name": "stderr",
     "output_type": "stream",
     "text": [
      "/Users/gadamico/anaconda3/lib/python3.6/site-packages/ipykernel/__main__.py:6: SettingWithCopyWarning: \n",
      "A value is trying to be set on a copy of a slice from a DataFrame.\n",
      "Try using .loc[row_indexer,col_indexer] = value instead\n",
      "\n",
      "See the caveats in the documentation: http://pandas.pydata.org/pandas-docs/stable/indexing.html#indexing-view-versus-copy\n",
      "/Users/gadamico/anaconda3/lib/python3.6/site-packages/ipykernel/__main__.py:8: SettingWithCopyWarning: \n",
      "A value is trying to be set on a copy of a slice from a DataFrame.\n",
      "Try using .loc[row_indexer,col_indexer] = value instead\n",
      "\n",
      "See the caveats in the documentation: http://pandas.pydata.org/pandas-docs/stable/indexing.html#indexing-view-versus-copy\n"
     ]
    }
   ],
   "source": [
    "ar_diarrh_df = t_diarrhpred(ar.loc[(ar.index > 279) & (ar.index < 315), :]['year_id'],\n",
    "                      ar.loc[(ar.index > 279) & (ar.index < 315), :]['mx'])\n",
    "\n",
    "ar_diarrh = ar_diarrh_df.loc[ar_diarrh_df['future'] == 2019]\n",
    "\n",
    "ar_diarrh['state'] = 'Arkansas'\n",
    "\n",
    "ar_diarrh['new_index'] = 3\n",
    "\n",
    "ar_diarrh.set_index('new_index', inplace = True)"
   ]
  },
  {
   "cell_type": "code",
   "execution_count": 18,
   "metadata": {},
   "outputs": [
    {
     "name": "stdout",
     "output_type": "stream",
     "text": [
      "0.0696096254081672\n"
     ]
    },
    {
     "name": "stderr",
     "output_type": "stream",
     "text": [
      "/Users/gadamico/anaconda3/lib/python3.6/site-packages/ipykernel/__main__.py:6: SettingWithCopyWarning: \n",
      "A value is trying to be set on a copy of a slice from a DataFrame.\n",
      "Try using .loc[row_indexer,col_indexer] = value instead\n",
      "\n",
      "See the caveats in the documentation: http://pandas.pydata.org/pandas-docs/stable/indexing.html#indexing-view-versus-copy\n",
      "/Users/gadamico/anaconda3/lib/python3.6/site-packages/ipykernel/__main__.py:8: SettingWithCopyWarning: \n",
      "A value is trying to be set on a copy of a slice from a DataFrame.\n",
      "Try using .loc[row_indexer,col_indexer] = value instead\n",
      "\n",
      "See the caveats in the documentation: http://pandas.pydata.org/pandas-docs/stable/indexing.html#indexing-view-versus-copy\n"
     ]
    }
   ],
   "source": [
    "ca_diarrh_df = t_diarrhpred(ca.loc[(ca.index > 279) & (ca.index < 315), :]['year_id'],\n",
    "                      ca.loc[(ca.index > 279) & (ca.index < 315), :]['mx'])\n",
    "\n",
    "ca_diarrh = ca_diarrh_df.loc[ca_diarrh_df['future'] == 2019]\n",
    "\n",
    "ca_diarrh['state'] = 'California'\n",
    "\n",
    "ca_diarrh['new_index'] = 4\n",
    "\n",
    "ca_diarrh.set_index('new_index', inplace = True)"
   ]
  },
  {
   "cell_type": "code",
   "execution_count": 19,
   "metadata": {},
   "outputs": [
    {
     "name": "stdout",
     "output_type": "stream",
     "text": [
      "0.07162908887671673\n"
     ]
    },
    {
     "name": "stderr",
     "output_type": "stream",
     "text": [
      "/Users/gadamico/anaconda3/lib/python3.6/site-packages/ipykernel/__main__.py:6: SettingWithCopyWarning: \n",
      "A value is trying to be set on a copy of a slice from a DataFrame.\n",
      "Try using .loc[row_indexer,col_indexer] = value instead\n",
      "\n",
      "See the caveats in the documentation: http://pandas.pydata.org/pandas-docs/stable/indexing.html#indexing-view-versus-copy\n",
      "/Users/gadamico/anaconda3/lib/python3.6/site-packages/ipykernel/__main__.py:8: SettingWithCopyWarning: \n",
      "A value is trying to be set on a copy of a slice from a DataFrame.\n",
      "Try using .loc[row_indexer,col_indexer] = value instead\n",
      "\n",
      "See the caveats in the documentation: http://pandas.pydata.org/pandas-docs/stable/indexing.html#indexing-view-versus-copy\n"
     ]
    }
   ],
   "source": [
    "co_diarrh_df = t_diarrhpred(co.loc[(co.index > 279) & (co.index < 315), :]['year_id'],\n",
    "                      co.loc[(co.index > 279) & (co.index < 315), :]['mx'])\n",
    "\n",
    "co_diarrh = co_diarrh_df.loc[co_diarrh_df['future'] == 2019]\n",
    "\n",
    "co_diarrh['state'] = 'Colorado'\n",
    "\n",
    "co_diarrh['new_index'] = 5\n",
    "\n",
    "co_diarrh.set_index('new_index', inplace = True)"
   ]
  },
  {
   "cell_type": "code",
   "execution_count": 20,
   "metadata": {},
   "outputs": [
    {
     "name": "stdout",
     "output_type": "stream",
     "text": [
      "0.07978495101045582\n"
     ]
    },
    {
     "name": "stderr",
     "output_type": "stream",
     "text": [
      "/Users/gadamico/anaconda3/lib/python3.6/site-packages/ipykernel/__main__.py:6: SettingWithCopyWarning: \n",
      "A value is trying to be set on a copy of a slice from a DataFrame.\n",
      "Try using .loc[row_indexer,col_indexer] = value instead\n",
      "\n",
      "See the caveats in the documentation: http://pandas.pydata.org/pandas-docs/stable/indexing.html#indexing-view-versus-copy\n",
      "/Users/gadamico/anaconda3/lib/python3.6/site-packages/ipykernel/__main__.py:8: SettingWithCopyWarning: \n",
      "A value is trying to be set on a copy of a slice from a DataFrame.\n",
      "Try using .loc[row_indexer,col_indexer] = value instead\n",
      "\n",
      "See the caveats in the documentation: http://pandas.pydata.org/pandas-docs/stable/indexing.html#indexing-view-versus-copy\n"
     ]
    }
   ],
   "source": [
    "ct_diarrh_df = t_diarrhpred(ct.loc[(ct.index > 279) & (ct.index < 315), :]['year_id'],\n",
    "                      ct.loc[(ct.index > 279) & (ct.index < 315), :]['mx'])\n",
    "\n",
    "ct_diarrh = ct_diarrh_df.loc[ct_diarrh_df['future'] == 2019]\n",
    "\n",
    "ct_diarrh['state'] = 'Connecticut'\n",
    "\n",
    "ct_diarrh['new_index'] = 6\n",
    "\n",
    "ct_diarrh.set_index('new_index', inplace = True)"
   ]
  },
  {
   "cell_type": "code",
   "execution_count": 21,
   "metadata": {},
   "outputs": [
    {
     "name": "stdout",
     "output_type": "stream",
     "text": [
      "0.0771330780524323\n"
     ]
    },
    {
     "name": "stderr",
     "output_type": "stream",
     "text": [
      "/Users/gadamico/anaconda3/lib/python3.6/site-packages/ipykernel/__main__.py:6: SettingWithCopyWarning: \n",
      "A value is trying to be set on a copy of a slice from a DataFrame.\n",
      "Try using .loc[row_indexer,col_indexer] = value instead\n",
      "\n",
      "See the caveats in the documentation: http://pandas.pydata.org/pandas-docs/stable/indexing.html#indexing-view-versus-copy\n",
      "/Users/gadamico/anaconda3/lib/python3.6/site-packages/ipykernel/__main__.py:8: SettingWithCopyWarning: \n",
      "A value is trying to be set on a copy of a slice from a DataFrame.\n",
      "Try using .loc[row_indexer,col_indexer] = value instead\n",
      "\n",
      "See the caveats in the documentation: http://pandas.pydata.org/pandas-docs/stable/indexing.html#indexing-view-versus-copy\n"
     ]
    }
   ],
   "source": [
    "de_diarrh_df = t_diarrhpred(de.loc[(de.index > 279) & (de.index < 315), :]['year_id'],\n",
    "                      de.loc[(de.index > 279) & (de.index < 315), :]['mx'])\n",
    "\n",
    "de_diarrh = de_diarrh_df.loc[de_diarrh_df['future'] == 2019]\n",
    "\n",
    "de_diarrh['state'] = 'Delaware'\n",
    "\n",
    "de_diarrh['new_index'] = 7\n",
    "\n",
    "de_diarrh.set_index('new_index', inplace = True)"
   ]
  },
  {
   "cell_type": "code",
   "execution_count": 22,
   "metadata": {},
   "outputs": [
    {
     "name": "stdout",
     "output_type": "stream",
     "text": [
      "0.07141216751952656\n"
     ]
    },
    {
     "name": "stderr",
     "output_type": "stream",
     "text": [
      "/Users/gadamico/anaconda3/lib/python3.6/site-packages/ipykernel/__main__.py:6: SettingWithCopyWarning: \n",
      "A value is trying to be set on a copy of a slice from a DataFrame.\n",
      "Try using .loc[row_indexer,col_indexer] = value instead\n",
      "\n",
      "See the caveats in the documentation: http://pandas.pydata.org/pandas-docs/stable/indexing.html#indexing-view-versus-copy\n",
      "/Users/gadamico/anaconda3/lib/python3.6/site-packages/ipykernel/__main__.py:8: SettingWithCopyWarning: \n",
      "A value is trying to be set on a copy of a slice from a DataFrame.\n",
      "Try using .loc[row_indexer,col_indexer] = value instead\n",
      "\n",
      "See the caveats in the documentation: http://pandas.pydata.org/pandas-docs/stable/indexing.html#indexing-view-versus-copy\n"
     ]
    }
   ],
   "source": [
    "fl_diarrh_df = t_diarrhpred(fl.loc[(fl.index > 279) & (fl.index < 315), :]['year_id'],\n",
    "                      fl.loc[(fl.index > 279) & (fl.index < 315), :]['mx'])\n",
    "\n",
    "fl_diarrh = fl_diarrh_df.loc[fl_diarrh_df['future'] == 2019]\n",
    "\n",
    "fl_diarrh['state'] = 'Florida'\n",
    "\n",
    "fl_diarrh['new_index'] = 8\n",
    "\n",
    "fl_diarrh.set_index('new_index', inplace = True)"
   ]
  },
  {
   "cell_type": "code",
   "execution_count": 23,
   "metadata": {},
   "outputs": [
    {
     "name": "stdout",
     "output_type": "stream",
     "text": [
      "0.06691120898606925\n"
     ]
    },
    {
     "name": "stderr",
     "output_type": "stream",
     "text": [
      "/Users/gadamico/anaconda3/lib/python3.6/site-packages/ipykernel/__main__.py:6: SettingWithCopyWarning: \n",
      "A value is trying to be set on a copy of a slice from a DataFrame.\n",
      "Try using .loc[row_indexer,col_indexer] = value instead\n",
      "\n",
      "See the caveats in the documentation: http://pandas.pydata.org/pandas-docs/stable/indexing.html#indexing-view-versus-copy\n",
      "/Users/gadamico/anaconda3/lib/python3.6/site-packages/ipykernel/__main__.py:8: SettingWithCopyWarning: \n",
      "A value is trying to be set on a copy of a slice from a DataFrame.\n",
      "Try using .loc[row_indexer,col_indexer] = value instead\n",
      "\n",
      "See the caveats in the documentation: http://pandas.pydata.org/pandas-docs/stable/indexing.html#indexing-view-versus-copy\n"
     ]
    }
   ],
   "source": [
    "ga_diarrh_df = t_diarrhpred(ga.loc[(ga.index > 279) & (ga.index < 315), :]['year_id'],\n",
    "                      ga.loc[(ga.index > 279) & (ga.index < 315), :]['mx'])\n",
    "\n",
    "ga_diarrh = ga_diarrh_df.loc[ga_diarrh_df['future'] == 2019]\n",
    "\n",
    "ga_diarrh['state'] = 'Georgia'\n",
    "\n",
    "ga_diarrh['new_index'] = 9\n",
    "\n",
    "ga_diarrh.set_index('new_index', inplace = True)"
   ]
  },
  {
   "cell_type": "code",
   "execution_count": 24,
   "metadata": {},
   "outputs": [
    {
     "name": "stdout",
     "output_type": "stream",
     "text": [
      "0.023988125267989355\n"
     ]
    },
    {
     "name": "stderr",
     "output_type": "stream",
     "text": [
      "/Users/gadamico/anaconda3/lib/python3.6/site-packages/ipykernel/__main__.py:6: SettingWithCopyWarning: \n",
      "A value is trying to be set on a copy of a slice from a DataFrame.\n",
      "Try using .loc[row_indexer,col_indexer] = value instead\n",
      "\n",
      "See the caveats in the documentation: http://pandas.pydata.org/pandas-docs/stable/indexing.html#indexing-view-versus-copy\n",
      "/Users/gadamico/anaconda3/lib/python3.6/site-packages/ipykernel/__main__.py:8: SettingWithCopyWarning: \n",
      "A value is trying to be set on a copy of a slice from a DataFrame.\n",
      "Try using .loc[row_indexer,col_indexer] = value instead\n",
      "\n",
      "See the caveats in the documentation: http://pandas.pydata.org/pandas-docs/stable/indexing.html#indexing-view-versus-copy\n"
     ]
    }
   ],
   "source": [
    "hi_diarrh_df = t_diarrhpred(hi.loc[(hi.index > 279) & (hi.index < 315), :]['year_id'],\n",
    "                      hi.loc[(hi.index > 279) & (hi.index < 315), :]['mx'])\n",
    "\n",
    "hi_diarrh = hi_diarrh_df.loc[hi_diarrh_df['future'] == 2019]\n",
    "\n",
    "hi_diarrh['state'] = 'Hawaii'\n",
    "\n",
    "hi_diarrh['new_index'] = 10\n",
    "\n",
    "hi_diarrh.set_index('new_index', inplace = True)"
   ]
  },
  {
   "cell_type": "code",
   "execution_count": 28,
   "metadata": {},
   "outputs": [
    {
     "name": "stdout",
     "output_type": "stream",
     "text": [
      "0.07075856117292587\n"
     ]
    },
    {
     "name": "stderr",
     "output_type": "stream",
     "text": [
      "/Users/gadamico/anaconda3/lib/python3.6/site-packages/ipykernel/__main__.py:6: SettingWithCopyWarning: \n",
      "A value is trying to be set on a copy of a slice from a DataFrame.\n",
      "Try using .loc[row_indexer,col_indexer] = value instead\n",
      "\n",
      "See the caveats in the documentation: http://pandas.pydata.org/pandas-docs/stable/indexing.html#indexing-view-versus-copy\n",
      "/Users/gadamico/anaconda3/lib/python3.6/site-packages/ipykernel/__main__.py:8: SettingWithCopyWarning: \n",
      "A value is trying to be set on a copy of a slice from a DataFrame.\n",
      "Try using .loc[row_indexer,col_indexer] = value instead\n",
      "\n",
      "See the caveats in the documentation: http://pandas.pydata.org/pandas-docs/stable/indexing.html#indexing-view-versus-copy\n"
     ]
    }
   ],
   "source": [
    "id_diarrh_df = t_diarrhpred(id_.loc[(id_.index > 279) & (id_.index < 315), :]['year_id'],\n",
    "                      id_.loc[(id_.index > 279) & (id_.index < 315), :]['mx'])\n",
    "\n",
    "id_diarrh = id_diarrh_df.loc[id_diarrh_df['future'] == 2019]\n",
    "\n",
    "id_diarrh['state'] = 'Idaho'\n",
    "\n",
    "id_diarrh['new_index'] = 11\n",
    "\n",
    "id_diarrh.set_index('new_index', inplace = True)"
   ]
  },
  {
   "cell_type": "code",
   "execution_count": 29,
   "metadata": {},
   "outputs": [
    {
     "name": "stdout",
     "output_type": "stream",
     "text": [
      "0.0755763243636913\n"
     ]
    },
    {
     "name": "stderr",
     "output_type": "stream",
     "text": [
      "/Users/gadamico/anaconda3/lib/python3.6/site-packages/ipykernel/__main__.py:6: SettingWithCopyWarning: \n",
      "A value is trying to be set on a copy of a slice from a DataFrame.\n",
      "Try using .loc[row_indexer,col_indexer] = value instead\n",
      "\n",
      "See the caveats in the documentation: http://pandas.pydata.org/pandas-docs/stable/indexing.html#indexing-view-versus-copy\n",
      "/Users/gadamico/anaconda3/lib/python3.6/site-packages/ipykernel/__main__.py:8: SettingWithCopyWarning: \n",
      "A value is trying to be set on a copy of a slice from a DataFrame.\n",
      "Try using .loc[row_indexer,col_indexer] = value instead\n",
      "\n",
      "See the caveats in the documentation: http://pandas.pydata.org/pandas-docs/stable/indexing.html#indexing-view-versus-copy\n"
     ]
    }
   ],
   "source": [
    "il_diarrh_df = t_diarrhpred(il.loc[(il.index > 279) & (il.index < 315), :]['year_id'],\n",
    "                      il.loc[(il.index > 279) & (il.index < 315), :]['mx'])\n",
    "\n",
    "il_diarrh = il_diarrh_df.loc[il_diarrh_df['future'] == 2019]\n",
    "\n",
    "il_diarrh['state'] = 'Illinois'\n",
    "\n",
    "il_diarrh['new_index'] = 12\n",
    "\n",
    "il_diarrh.set_index('new_index', inplace = True)"
   ]
  },
  {
   "cell_type": "code",
   "execution_count": 30,
   "metadata": {},
   "outputs": [
    {
     "name": "stdout",
     "output_type": "stream",
     "text": [
      "0.08190036596524579\n"
     ]
    },
    {
     "name": "stderr",
     "output_type": "stream",
     "text": [
      "/Users/gadamico/anaconda3/lib/python3.6/site-packages/ipykernel/__main__.py:6: SettingWithCopyWarning: \n",
      "A value is trying to be set on a copy of a slice from a DataFrame.\n",
      "Try using .loc[row_indexer,col_indexer] = value instead\n",
      "\n",
      "See the caveats in the documentation: http://pandas.pydata.org/pandas-docs/stable/indexing.html#indexing-view-versus-copy\n",
      "/Users/gadamico/anaconda3/lib/python3.6/site-packages/ipykernel/__main__.py:8: SettingWithCopyWarning: \n",
      "A value is trying to be set on a copy of a slice from a DataFrame.\n",
      "Try using .loc[row_indexer,col_indexer] = value instead\n",
      "\n",
      "See the caveats in the documentation: http://pandas.pydata.org/pandas-docs/stable/indexing.html#indexing-view-versus-copy\n"
     ]
    }
   ],
   "source": [
    "in_diarrh_df = t_diarrhpred(in_.loc[(in_.index > 279) & (in_.index < 315), :]['year_id'],\n",
    "                      in_.loc[(in_.index > 279) & (in_.index < 315), :]['mx'])\n",
    "\n",
    "in_diarrh = in_diarrh_df.loc[in_diarrh_df['future'] == 2019]\n",
    "\n",
    "in_diarrh['state'] = 'Indiana'\n",
    "\n",
    "in_diarrh['new_index'] = 13\n",
    "\n",
    "in_diarrh.set_index('new_index', inplace = True)"
   ]
  },
  {
   "cell_type": "code",
   "execution_count": 31,
   "metadata": {},
   "outputs": [
    {
     "name": "stdout",
     "output_type": "stream",
     "text": [
      "0.0714874169010087\n"
     ]
    },
    {
     "name": "stderr",
     "output_type": "stream",
     "text": [
      "/Users/gadamico/anaconda3/lib/python3.6/site-packages/ipykernel/__main__.py:6: SettingWithCopyWarning: \n",
      "A value is trying to be set on a copy of a slice from a DataFrame.\n",
      "Try using .loc[row_indexer,col_indexer] = value instead\n",
      "\n",
      "See the caveats in the documentation: http://pandas.pydata.org/pandas-docs/stable/indexing.html#indexing-view-versus-copy\n",
      "/Users/gadamico/anaconda3/lib/python3.6/site-packages/ipykernel/__main__.py:8: SettingWithCopyWarning: \n",
      "A value is trying to be set on a copy of a slice from a DataFrame.\n",
      "Try using .loc[row_indexer,col_indexer] = value instead\n",
      "\n",
      "See the caveats in the documentation: http://pandas.pydata.org/pandas-docs/stable/indexing.html#indexing-view-versus-copy\n"
     ]
    }
   ],
   "source": [
    "ia_diarrh_df = t_diarrhpred(ia.loc[(ia.index > 279) & (ia.index < 315), :]['year_id'],\n",
    "                      ia.loc[(ia.index > 279) & (ia.index < 315), :]['mx'])\n",
    "\n",
    "ia_diarrh = ia_diarrh_df.loc[ia_diarrh_df['future'] == 2019]\n",
    "\n",
    "ia_diarrh['state'] = 'Iowa'\n",
    "\n",
    "ia_diarrh['new_index'] = 14\n",
    "\n",
    "ia_diarrh.set_index('new_index', inplace = True)"
   ]
  },
  {
   "cell_type": "code",
   "execution_count": 32,
   "metadata": {},
   "outputs": [
    {
     "name": "stdout",
     "output_type": "stream",
     "text": [
      "0.07236719370308062\n"
     ]
    },
    {
     "name": "stderr",
     "output_type": "stream",
     "text": [
      "/Users/gadamico/anaconda3/lib/python3.6/site-packages/ipykernel/__main__.py:6: SettingWithCopyWarning: \n",
      "A value is trying to be set on a copy of a slice from a DataFrame.\n",
      "Try using .loc[row_indexer,col_indexer] = value instead\n",
      "\n",
      "See the caveats in the documentation: http://pandas.pydata.org/pandas-docs/stable/indexing.html#indexing-view-versus-copy\n",
      "/Users/gadamico/anaconda3/lib/python3.6/site-packages/ipykernel/__main__.py:8: SettingWithCopyWarning: \n",
      "A value is trying to be set on a copy of a slice from a DataFrame.\n",
      "Try using .loc[row_indexer,col_indexer] = value instead\n",
      "\n",
      "See the caveats in the documentation: http://pandas.pydata.org/pandas-docs/stable/indexing.html#indexing-view-versus-copy\n"
     ]
    }
   ],
   "source": [
    "ks_diarrh_df = t_diarrhpred(ks.loc[(ks.index > 279) & (ks.index < 315), :]['year_id'],\n",
    "                      ks.loc[(ks.index > 279) & (ks.index < 315), :]['mx'])\n",
    "\n",
    "ks_diarrh = ks_diarrh_df.loc[ks_diarrh_df['future'] == 2019]\n",
    "\n",
    "ks_diarrh['state'] = 'Kansas'\n",
    "\n",
    "ks_diarrh['new_index'] = 15\n",
    "\n",
    "ks_diarrh.set_index('new_index', inplace = True)"
   ]
  },
  {
   "cell_type": "code",
   "execution_count": 33,
   "metadata": {},
   "outputs": [
    {
     "name": "stdout",
     "output_type": "stream",
     "text": [
      "0.07651071811887271\n"
     ]
    },
    {
     "name": "stderr",
     "output_type": "stream",
     "text": [
      "/Users/gadamico/anaconda3/lib/python3.6/site-packages/ipykernel/__main__.py:6: SettingWithCopyWarning: \n",
      "A value is trying to be set on a copy of a slice from a DataFrame.\n",
      "Try using .loc[row_indexer,col_indexer] = value instead\n",
      "\n",
      "See the caveats in the documentation: http://pandas.pydata.org/pandas-docs/stable/indexing.html#indexing-view-versus-copy\n",
      "/Users/gadamico/anaconda3/lib/python3.6/site-packages/ipykernel/__main__.py:8: SettingWithCopyWarning: \n",
      "A value is trying to be set on a copy of a slice from a DataFrame.\n",
      "Try using .loc[row_indexer,col_indexer] = value instead\n",
      "\n",
      "See the caveats in the documentation: http://pandas.pydata.org/pandas-docs/stable/indexing.html#indexing-view-versus-copy\n"
     ]
    }
   ],
   "source": [
    "ky_diarrh_df = t_diarrhpred(ky.loc[(ky.index > 279) & (ky.index < 315), :]['year_id'],\n",
    "                      ky.loc[(ky.index > 279) & (ky.index < 315), :]['mx'])\n",
    "\n",
    "ky_diarrh = ky_diarrh_df.loc[ky_diarrh_df['future'] == 2019]\n",
    "\n",
    "ky_diarrh['state'] = 'Kentucky'\n",
    "\n",
    "ky_diarrh['new_index'] = 16\n",
    "\n",
    "ky_diarrh.set_index('new_index', inplace = True)"
   ]
  },
  {
   "cell_type": "code",
   "execution_count": 34,
   "metadata": {},
   "outputs": [
    {
     "name": "stdout",
     "output_type": "stream",
     "text": [
      "0.06119780474662812\n"
     ]
    },
    {
     "name": "stderr",
     "output_type": "stream",
     "text": [
      "/Users/gadamico/anaconda3/lib/python3.6/site-packages/ipykernel/__main__.py:6: SettingWithCopyWarning: \n",
      "A value is trying to be set on a copy of a slice from a DataFrame.\n",
      "Try using .loc[row_indexer,col_indexer] = value instead\n",
      "\n",
      "See the caveats in the documentation: http://pandas.pydata.org/pandas-docs/stable/indexing.html#indexing-view-versus-copy\n",
      "/Users/gadamico/anaconda3/lib/python3.6/site-packages/ipykernel/__main__.py:8: SettingWithCopyWarning: \n",
      "A value is trying to be set on a copy of a slice from a DataFrame.\n",
      "Try using .loc[row_indexer,col_indexer] = value instead\n",
      "\n",
      "See the caveats in the documentation: http://pandas.pydata.org/pandas-docs/stable/indexing.html#indexing-view-versus-copy\n"
     ]
    }
   ],
   "source": [
    "la_diarrh_df = t_diarrhpred(la.loc[(la.index > 279) & (la.index < 315), :]['year_id'],\n",
    "                      la.loc[(la.index > 279) & (la.index < 315), :]['mx'])\n",
    "\n",
    "la_diarrh = la_diarrh_df.loc[la_diarrh_df['future'] == 2019]\n",
    "\n",
    "la_diarrh['state'] = 'Louisiana'\n",
    "\n",
    "la_diarrh['new_index'] = 17\n",
    "\n",
    "la_diarrh.set_index('new_index', inplace = True)"
   ]
  },
  {
   "cell_type": "code",
   "execution_count": 35,
   "metadata": {},
   "outputs": [
    {
     "name": "stdout",
     "output_type": "stream",
     "text": [
      "0.07107405817199364\n"
     ]
    },
    {
     "name": "stderr",
     "output_type": "stream",
     "text": [
      "/Users/gadamico/anaconda3/lib/python3.6/site-packages/ipykernel/__main__.py:6: SettingWithCopyWarning: \n",
      "A value is trying to be set on a copy of a slice from a DataFrame.\n",
      "Try using .loc[row_indexer,col_indexer] = value instead\n",
      "\n",
      "See the caveats in the documentation: http://pandas.pydata.org/pandas-docs/stable/indexing.html#indexing-view-versus-copy\n",
      "/Users/gadamico/anaconda3/lib/python3.6/site-packages/ipykernel/__main__.py:8: SettingWithCopyWarning: \n",
      "A value is trying to be set on a copy of a slice from a DataFrame.\n",
      "Try using .loc[row_indexer,col_indexer] = value instead\n",
      "\n",
      "See the caveats in the documentation: http://pandas.pydata.org/pandas-docs/stable/indexing.html#indexing-view-versus-copy\n"
     ]
    }
   ],
   "source": [
    "me_diarrh_df = t_diarrhpred(me.loc[(me.index > 279) & (me.index < 315), :]['year_id'],\n",
    "                      me.loc[(me.index > 279) & (me.index < 315), :]['mx'])\n",
    "\n",
    "me_diarrh = me_diarrh_df.loc[me_diarrh_df['future'] == 2019]\n",
    "\n",
    "me_diarrh['state'] = 'Maine'\n",
    "\n",
    "me_diarrh['new_index'] = 18\n",
    "\n",
    "me_diarrh.set_index('new_index', inplace = True)"
   ]
  },
  {
   "cell_type": "code",
   "execution_count": 36,
   "metadata": {},
   "outputs": [
    {
     "name": "stdout",
     "output_type": "stream",
     "text": [
      "0.07749488859642577\n"
     ]
    },
    {
     "name": "stderr",
     "output_type": "stream",
     "text": [
      "/Users/gadamico/anaconda3/lib/python3.6/site-packages/ipykernel/__main__.py:6: SettingWithCopyWarning: \n",
      "A value is trying to be set on a copy of a slice from a DataFrame.\n",
      "Try using .loc[row_indexer,col_indexer] = value instead\n",
      "\n",
      "See the caveats in the documentation: http://pandas.pydata.org/pandas-docs/stable/indexing.html#indexing-view-versus-copy\n",
      "/Users/gadamico/anaconda3/lib/python3.6/site-packages/ipykernel/__main__.py:8: SettingWithCopyWarning: \n",
      "A value is trying to be set on a copy of a slice from a DataFrame.\n",
      "Try using .loc[row_indexer,col_indexer] = value instead\n",
      "\n",
      "See the caveats in the documentation: http://pandas.pydata.org/pandas-docs/stable/indexing.html#indexing-view-versus-copy\n"
     ]
    }
   ],
   "source": [
    "md_diarrh_df = t_diarrhpred(md.loc[(md.index > 279) & (md.index < 315), :]['year_id'],\n",
    "                      md.loc[(md.index > 279) & (md.index < 315), :]['mx'])\n",
    "\n",
    "md_diarrh = md_diarrh_df.loc[md_diarrh_df['future'] == 2019]\n",
    "\n",
    "md_diarrh['state'] = 'Maryland'\n",
    "\n",
    "md_diarrh['new_index'] = 19\n",
    "\n",
    "md_diarrh.set_index('new_index', inplace = True)"
   ]
  },
  {
   "cell_type": "code",
   "execution_count": 37,
   "metadata": {},
   "outputs": [
    {
     "name": "stdout",
     "output_type": "stream",
     "text": [
      "0.07454989333461169\n"
     ]
    },
    {
     "name": "stderr",
     "output_type": "stream",
     "text": [
      "/Users/gadamico/anaconda3/lib/python3.6/site-packages/ipykernel/__main__.py:6: SettingWithCopyWarning: \n",
      "A value is trying to be set on a copy of a slice from a DataFrame.\n",
      "Try using .loc[row_indexer,col_indexer] = value instead\n",
      "\n",
      "See the caveats in the documentation: http://pandas.pydata.org/pandas-docs/stable/indexing.html#indexing-view-versus-copy\n",
      "/Users/gadamico/anaconda3/lib/python3.6/site-packages/ipykernel/__main__.py:8: SettingWithCopyWarning: \n",
      "A value is trying to be set on a copy of a slice from a DataFrame.\n",
      "Try using .loc[row_indexer,col_indexer] = value instead\n",
      "\n",
      "See the caveats in the documentation: http://pandas.pydata.org/pandas-docs/stable/indexing.html#indexing-view-versus-copy\n"
     ]
    }
   ],
   "source": [
    "ma_diarrh_df = t_diarrhpred(ma.loc[(ma.index > 279) & (ma.index < 315), :]['year_id'],\n",
    "                      ma.loc[(ma.index > 279) & (ma.index < 315), :]['mx'])\n",
    "\n",
    "ma_diarrh = ma_diarrh_df.loc[ma_diarrh_df['future'] == 2019]\n",
    "\n",
    "ma_diarrh['state'] = 'Massachusetts'\n",
    "\n",
    "ma_diarrh['new_index'] = 20\n",
    "\n",
    "ma_diarrh.set_index('new_index', inplace = True)"
   ]
  },
  {
   "cell_type": "code",
   "execution_count": 38,
   "metadata": {},
   "outputs": [
    {
     "name": "stdout",
     "output_type": "stream",
     "text": [
      "0.07734405898547421\n"
     ]
    },
    {
     "name": "stderr",
     "output_type": "stream",
     "text": [
      "/Users/gadamico/anaconda3/lib/python3.6/site-packages/ipykernel/__main__.py:6: SettingWithCopyWarning: \n",
      "A value is trying to be set on a copy of a slice from a DataFrame.\n",
      "Try using .loc[row_indexer,col_indexer] = value instead\n",
      "\n",
      "See the caveats in the documentation: http://pandas.pydata.org/pandas-docs/stable/indexing.html#indexing-view-versus-copy\n",
      "/Users/gadamico/anaconda3/lib/python3.6/site-packages/ipykernel/__main__.py:8: SettingWithCopyWarning: \n",
      "A value is trying to be set on a copy of a slice from a DataFrame.\n",
      "Try using .loc[row_indexer,col_indexer] = value instead\n",
      "\n",
      "See the caveats in the documentation: http://pandas.pydata.org/pandas-docs/stable/indexing.html#indexing-view-versus-copy\n"
     ]
    }
   ],
   "source": [
    "mi_diarrh_df = t_diarrhpred(mi.loc[(mi.index > 279) & (mi.index < 315), :]['year_id'],\n",
    "                      mi.loc[(mi.index > 279) & (mi.index < 315), :]['mx'])\n",
    "\n",
    "mi_diarrh = mi_diarrh_df.loc[mi_diarrh_df['future'] == 2019]\n",
    "\n",
    "mi_diarrh['state'] = 'Michigan'\n",
    "\n",
    "mi_diarrh['new_index'] = 21\n",
    "\n",
    "mi_diarrh.set_index('new_index', inplace = True)"
   ]
  },
  {
   "cell_type": "code",
   "execution_count": 39,
   "metadata": {},
   "outputs": [
    {
     "name": "stdout",
     "output_type": "stream",
     "text": [
      "0.06845116731341992\n"
     ]
    },
    {
     "name": "stderr",
     "output_type": "stream",
     "text": [
      "/Users/gadamico/anaconda3/lib/python3.6/site-packages/ipykernel/__main__.py:6: SettingWithCopyWarning: \n",
      "A value is trying to be set on a copy of a slice from a DataFrame.\n",
      "Try using .loc[row_indexer,col_indexer] = value instead\n",
      "\n",
      "See the caveats in the documentation: http://pandas.pydata.org/pandas-docs/stable/indexing.html#indexing-view-versus-copy\n",
      "/Users/gadamico/anaconda3/lib/python3.6/site-packages/ipykernel/__main__.py:8: SettingWithCopyWarning: \n",
      "A value is trying to be set on a copy of a slice from a DataFrame.\n",
      "Try using .loc[row_indexer,col_indexer] = value instead\n",
      "\n",
      "See the caveats in the documentation: http://pandas.pydata.org/pandas-docs/stable/indexing.html#indexing-view-versus-copy\n"
     ]
    }
   ],
   "source": [
    "mn_diarrh_df = t_diarrhpred(mn.loc[(mn.index > 279) & (mn.index < 315), :]['year_id'],\n",
    "                      mn.loc[(mn.index > 279) & (mn.index < 315), :]['mx'])\n",
    "\n",
    "mn_diarrh = mn_diarrh_df.loc[mn_diarrh_df['future'] == 2019]\n",
    "\n",
    "mn_diarrh['state'] = 'Minnesota'\n",
    "\n",
    "mn_diarrh['new_index'] = 22\n",
    "\n",
    "mn_diarrh.set_index('new_index', inplace = True)"
   ]
  },
  {
   "cell_type": "code",
   "execution_count": 40,
   "metadata": {},
   "outputs": [
    {
     "name": "stdout",
     "output_type": "stream",
     "text": [
      "0.05984359914747643\n"
     ]
    },
    {
     "name": "stderr",
     "output_type": "stream",
     "text": [
      "/Users/gadamico/anaconda3/lib/python3.6/site-packages/ipykernel/__main__.py:6: SettingWithCopyWarning: \n",
      "A value is trying to be set on a copy of a slice from a DataFrame.\n",
      "Try using .loc[row_indexer,col_indexer] = value instead\n",
      "\n",
      "See the caveats in the documentation: http://pandas.pydata.org/pandas-docs/stable/indexing.html#indexing-view-versus-copy\n",
      "/Users/gadamico/anaconda3/lib/python3.6/site-packages/ipykernel/__main__.py:8: SettingWithCopyWarning: \n",
      "A value is trying to be set on a copy of a slice from a DataFrame.\n",
      "Try using .loc[row_indexer,col_indexer] = value instead\n",
      "\n",
      "See the caveats in the documentation: http://pandas.pydata.org/pandas-docs/stable/indexing.html#indexing-view-versus-copy\n"
     ]
    }
   ],
   "source": [
    "ms_diarrh_df = t_diarrhpred(ms.loc[(ms.index > 279) & (ms.index < 315), :]['year_id'],\n",
    "                      ms.loc[(ms.index > 279) & (ms.index < 315), :]['mx'])\n",
    "\n",
    "ms_diarrh = ms_diarrh_df.loc[ms_diarrh_df['future'] == 2019]\n",
    "\n",
    "ms_diarrh['state'] = 'Mississippi'\n",
    "\n",
    "ms_diarrh['new_index'] = 23\n",
    "\n",
    "ms_diarrh.set_index('new_index', inplace = True)"
   ]
  },
  {
   "cell_type": "code",
   "execution_count": 41,
   "metadata": {},
   "outputs": [
    {
     "name": "stdout",
     "output_type": "stream",
     "text": [
      "0.07810804025219863\n"
     ]
    },
    {
     "name": "stderr",
     "output_type": "stream",
     "text": [
      "/Users/gadamico/anaconda3/lib/python3.6/site-packages/ipykernel/__main__.py:6: SettingWithCopyWarning: \n",
      "A value is trying to be set on a copy of a slice from a DataFrame.\n",
      "Try using .loc[row_indexer,col_indexer] = value instead\n",
      "\n",
      "See the caveats in the documentation: http://pandas.pydata.org/pandas-docs/stable/indexing.html#indexing-view-versus-copy\n",
      "/Users/gadamico/anaconda3/lib/python3.6/site-packages/ipykernel/__main__.py:8: SettingWithCopyWarning: \n",
      "A value is trying to be set on a copy of a slice from a DataFrame.\n",
      "Try using .loc[row_indexer,col_indexer] = value instead\n",
      "\n",
      "See the caveats in the documentation: http://pandas.pydata.org/pandas-docs/stable/indexing.html#indexing-view-versus-copy\n"
     ]
    }
   ],
   "source": [
    "mo_diarrh_df = t_diarrhpred(mo.loc[(mo.index > 279) & (mo.index < 315), :]['year_id'],\n",
    "                      mo.loc[(mo.index > 279) & (mo.index < 315), :]['mx'])\n",
    "\n",
    "mo_diarrh = mo_diarrh_df.loc[mo_diarrh_df['future'] == 2019]\n",
    "\n",
    "mo_diarrh['state'] = 'Missouri'\n",
    "\n",
    "mo_diarrh['new_index'] = 24\n",
    "\n",
    "mo_diarrh.set_index('new_index', inplace = True)"
   ]
  },
  {
   "cell_type": "code",
   "execution_count": 42,
   "metadata": {},
   "outputs": [
    {
     "name": "stdout",
     "output_type": "stream",
     "text": [
      "0.06692405094425219\n"
     ]
    },
    {
     "name": "stderr",
     "output_type": "stream",
     "text": [
      "/Users/gadamico/anaconda3/lib/python3.6/site-packages/ipykernel/__main__.py:6: SettingWithCopyWarning: \n",
      "A value is trying to be set on a copy of a slice from a DataFrame.\n",
      "Try using .loc[row_indexer,col_indexer] = value instead\n",
      "\n",
      "See the caveats in the documentation: http://pandas.pydata.org/pandas-docs/stable/indexing.html#indexing-view-versus-copy\n",
      "/Users/gadamico/anaconda3/lib/python3.6/site-packages/ipykernel/__main__.py:8: SettingWithCopyWarning: \n",
      "A value is trying to be set on a copy of a slice from a DataFrame.\n",
      "Try using .loc[row_indexer,col_indexer] = value instead\n",
      "\n",
      "See the caveats in the documentation: http://pandas.pydata.org/pandas-docs/stable/indexing.html#indexing-view-versus-copy\n"
     ]
    }
   ],
   "source": [
    "mt_diarrh_df = t_diarrhpred(mt.loc[(mt.index > 279) & (mt.index < 315), :]['year_id'],\n",
    "                      mt.loc[(mt.index > 279) & (mt.index < 315), :]['mx'])\n",
    "\n",
    "mt_diarrh = mt_diarrh_df.loc[mt_diarrh_df['future'] == 2019]\n",
    "\n",
    "mt_diarrh['state'] = 'Montana'\n",
    "\n",
    "mt_diarrh['new_index'] = 25\n",
    "\n",
    "mt_diarrh.set_index('new_index', inplace = True)"
   ]
  },
  {
   "cell_type": "code",
   "execution_count": 43,
   "metadata": {},
   "outputs": [
    {
     "name": "stdout",
     "output_type": "stream",
     "text": [
      "0.07022278614335076\n"
     ]
    },
    {
     "name": "stderr",
     "output_type": "stream",
     "text": [
      "/Users/gadamico/anaconda3/lib/python3.6/site-packages/ipykernel/__main__.py:6: SettingWithCopyWarning: \n",
      "A value is trying to be set on a copy of a slice from a DataFrame.\n",
      "Try using .loc[row_indexer,col_indexer] = value instead\n",
      "\n",
      "See the caveats in the documentation: http://pandas.pydata.org/pandas-docs/stable/indexing.html#indexing-view-versus-copy\n",
      "/Users/gadamico/anaconda3/lib/python3.6/site-packages/ipykernel/__main__.py:8: SettingWithCopyWarning: \n",
      "A value is trying to be set on a copy of a slice from a DataFrame.\n",
      "Try using .loc[row_indexer,col_indexer] = value instead\n",
      "\n",
      "See the caveats in the documentation: http://pandas.pydata.org/pandas-docs/stable/indexing.html#indexing-view-versus-copy\n"
     ]
    }
   ],
   "source": [
    "ne_diarrh_df = t_diarrhpred(ne.loc[(ne.index > 279) & (ne.index < 315), :]['year_id'],\n",
    "                      ne.loc[(ne.index > 279) & (ne.index < 315), :]['mx'])\n",
    "\n",
    "ne_diarrh = ne_diarrh_df.loc[ne_diarrh_df['future'] == 2019]\n",
    "\n",
    "ne_diarrh['state'] = 'Nebraska'\n",
    "\n",
    "ne_diarrh['new_index'] = 26\n",
    "\n",
    "ne_diarrh.set_index('new_index', inplace = True)"
   ]
  },
  {
   "cell_type": "code",
   "execution_count": 44,
   "metadata": {},
   "outputs": [
    {
     "name": "stdout",
     "output_type": "stream",
     "text": [
      "0.07363023756263956\n"
     ]
    },
    {
     "name": "stderr",
     "output_type": "stream",
     "text": [
      "/Users/gadamico/anaconda3/lib/python3.6/site-packages/ipykernel/__main__.py:6: SettingWithCopyWarning: \n",
      "A value is trying to be set on a copy of a slice from a DataFrame.\n",
      "Try using .loc[row_indexer,col_indexer] = value instead\n",
      "\n",
      "See the caveats in the documentation: http://pandas.pydata.org/pandas-docs/stable/indexing.html#indexing-view-versus-copy\n",
      "/Users/gadamico/anaconda3/lib/python3.6/site-packages/ipykernel/__main__.py:8: SettingWithCopyWarning: \n",
      "A value is trying to be set on a copy of a slice from a DataFrame.\n",
      "Try using .loc[row_indexer,col_indexer] = value instead\n",
      "\n",
      "See the caveats in the documentation: http://pandas.pydata.org/pandas-docs/stable/indexing.html#indexing-view-versus-copy\n"
     ]
    }
   ],
   "source": [
    "nv_diarrh_df = t_diarrhpred(nv.loc[(nv.index > 279) & (nv.index < 315), :]['year_id'],\n",
    "                      nv.loc[(nv.index > 279) & (nv.index < 315), :]['mx'])\n",
    "\n",
    "nv_diarrh = nv_diarrh_df.loc[nv_diarrh_df['future'] == 2019]\n",
    "\n",
    "nv_diarrh['state'] = 'Nevada'\n",
    "\n",
    "nv_diarrh['new_index'] = 27\n",
    "\n",
    "nv_diarrh.set_index('new_index', inplace = True)"
   ]
  },
  {
   "cell_type": "code",
   "execution_count": 45,
   "metadata": {},
   "outputs": [
    {
     "name": "stdout",
     "output_type": "stream",
     "text": [
      "0.07385777260685501\n"
     ]
    },
    {
     "name": "stderr",
     "output_type": "stream",
     "text": [
      "/Users/gadamico/anaconda3/lib/python3.6/site-packages/ipykernel/__main__.py:6: SettingWithCopyWarning: \n",
      "A value is trying to be set on a copy of a slice from a DataFrame.\n",
      "Try using .loc[row_indexer,col_indexer] = value instead\n",
      "\n",
      "See the caveats in the documentation: http://pandas.pydata.org/pandas-docs/stable/indexing.html#indexing-view-versus-copy\n",
      "/Users/gadamico/anaconda3/lib/python3.6/site-packages/ipykernel/__main__.py:8: SettingWithCopyWarning: \n",
      "A value is trying to be set on a copy of a slice from a DataFrame.\n",
      "Try using .loc[row_indexer,col_indexer] = value instead\n",
      "\n",
      "See the caveats in the documentation: http://pandas.pydata.org/pandas-docs/stable/indexing.html#indexing-view-versus-copy\n"
     ]
    }
   ],
   "source": [
    "nh_diarrh_df = t_diarrhpred(nh.loc[(nh.index > 279) & (nh.index < 315), :]['year_id'],\n",
    "                      nh.loc[(nh.index > 279) & (nh.index < 315), :]['mx'])\n",
    "\n",
    "nh_diarrh = nh_diarrh_df.loc[nh_diarrh_df['future'] == 2019]\n",
    "\n",
    "nh_diarrh['state'] = 'New Hampshire'\n",
    "\n",
    "nh_diarrh['new_index'] = 28\n",
    "\n",
    "nh_diarrh.set_index('new_index', inplace = True)"
   ]
  },
  {
   "cell_type": "code",
   "execution_count": 46,
   "metadata": {},
   "outputs": [
    {
     "name": "stdout",
     "output_type": "stream",
     "text": [
      "0.07339541086117785\n"
     ]
    },
    {
     "name": "stderr",
     "output_type": "stream",
     "text": [
      "/Users/gadamico/anaconda3/lib/python3.6/site-packages/ipykernel/__main__.py:6: SettingWithCopyWarning: \n",
      "A value is trying to be set on a copy of a slice from a DataFrame.\n",
      "Try using .loc[row_indexer,col_indexer] = value instead\n",
      "\n",
      "See the caveats in the documentation: http://pandas.pydata.org/pandas-docs/stable/indexing.html#indexing-view-versus-copy\n",
      "/Users/gadamico/anaconda3/lib/python3.6/site-packages/ipykernel/__main__.py:8: SettingWithCopyWarning: \n",
      "A value is trying to be set on a copy of a slice from a DataFrame.\n",
      "Try using .loc[row_indexer,col_indexer] = value instead\n",
      "\n",
      "See the caveats in the documentation: http://pandas.pydata.org/pandas-docs/stable/indexing.html#indexing-view-versus-copy\n"
     ]
    }
   ],
   "source": [
    "nj_diarrh_df = t_diarrhpred(nj.loc[(nj.index > 279) & (nj.index < 315), :]['year_id'],\n",
    "                      nj.loc[(nj.index > 279) & (nj.index < 315), :]['mx'])\n",
    "\n",
    "nj_diarrh = nj_diarrh_df.loc[nj_diarrh_df['future'] == 2019]\n",
    "\n",
    "nj_diarrh['state'] = 'New Jersey'\n",
    "\n",
    "nj_diarrh['new_index'] = 29\n",
    "\n",
    "nj_diarrh.set_index('new_index', inplace = True)"
   ]
  },
  {
   "cell_type": "code",
   "execution_count": 47,
   "metadata": {},
   "outputs": [
    {
     "name": "stdout",
     "output_type": "stream",
     "text": [
      "0.07662058098766546\n"
     ]
    },
    {
     "name": "stderr",
     "output_type": "stream",
     "text": [
      "/Users/gadamico/anaconda3/lib/python3.6/site-packages/ipykernel/__main__.py:6: SettingWithCopyWarning: \n",
      "A value is trying to be set on a copy of a slice from a DataFrame.\n",
      "Try using .loc[row_indexer,col_indexer] = value instead\n",
      "\n",
      "See the caveats in the documentation: http://pandas.pydata.org/pandas-docs/stable/indexing.html#indexing-view-versus-copy\n",
      "/Users/gadamico/anaconda3/lib/python3.6/site-packages/ipykernel/__main__.py:8: SettingWithCopyWarning: \n",
      "A value is trying to be set on a copy of a slice from a DataFrame.\n",
      "Try using .loc[row_indexer,col_indexer] = value instead\n",
      "\n",
      "See the caveats in the documentation: http://pandas.pydata.org/pandas-docs/stable/indexing.html#indexing-view-versus-copy\n"
     ]
    }
   ],
   "source": [
    "nm_diarrh_df = t_diarrhpred(nm.loc[(nm.index > 279) & (nm.index < 315), :]['year_id'],\n",
    "                      nm.loc[(nm.index > 279) & (nm.index < 315), :]['mx'])\n",
    "\n",
    "nm_diarrh = nm_diarrh_df.loc[nm_diarrh_df['future'] == 2019]\n",
    "\n",
    "nm_diarrh['state'] = 'New Mexico'\n",
    "\n",
    "nm_diarrh['new_index'] = 30\n",
    "\n",
    "nm_diarrh.set_index('new_index', inplace = True)"
   ]
  },
  {
   "cell_type": "code",
   "execution_count": 48,
   "metadata": {},
   "outputs": [
    {
     "name": "stdout",
     "output_type": "stream",
     "text": [
      "0.07265209978929664\n"
     ]
    },
    {
     "name": "stderr",
     "output_type": "stream",
     "text": [
      "/Users/gadamico/anaconda3/lib/python3.6/site-packages/ipykernel/__main__.py:6: SettingWithCopyWarning: \n",
      "A value is trying to be set on a copy of a slice from a DataFrame.\n",
      "Try using .loc[row_indexer,col_indexer] = value instead\n",
      "\n",
      "See the caveats in the documentation: http://pandas.pydata.org/pandas-docs/stable/indexing.html#indexing-view-versus-copy\n",
      "/Users/gadamico/anaconda3/lib/python3.6/site-packages/ipykernel/__main__.py:8: SettingWithCopyWarning: \n",
      "A value is trying to be set on a copy of a slice from a DataFrame.\n",
      "Try using .loc[row_indexer,col_indexer] = value instead\n",
      "\n",
      "See the caveats in the documentation: http://pandas.pydata.org/pandas-docs/stable/indexing.html#indexing-view-versus-copy\n"
     ]
    }
   ],
   "source": [
    "ny_diarrh_df = t_diarrhpred(ny.loc[(ny.index > 279) & (ny.index < 315), :]['year_id'],\n",
    "                      ny.loc[(ny.index > 279) & (ny.index < 315), :]['mx'])\n",
    "\n",
    "ny_diarrh = ny_diarrh_df.loc[ny_diarrh_df['future'] == 2019]\n",
    "\n",
    "ny_diarrh['state'] = 'New York'\n",
    "\n",
    "ny_diarrh['new_index'] = 31\n",
    "\n",
    "ny_diarrh.set_index('new_index', inplace = True)"
   ]
  },
  {
   "cell_type": "code",
   "execution_count": 49,
   "metadata": {},
   "outputs": [
    {
     "name": "stdout",
     "output_type": "stream",
     "text": [
      "0.07421020323455778\n"
     ]
    },
    {
     "name": "stderr",
     "output_type": "stream",
     "text": [
      "/Users/gadamico/anaconda3/lib/python3.6/site-packages/ipykernel/__main__.py:6: SettingWithCopyWarning: \n",
      "A value is trying to be set on a copy of a slice from a DataFrame.\n",
      "Try using .loc[row_indexer,col_indexer] = value instead\n",
      "\n",
      "See the caveats in the documentation: http://pandas.pydata.org/pandas-docs/stable/indexing.html#indexing-view-versus-copy\n",
      "/Users/gadamico/anaconda3/lib/python3.6/site-packages/ipykernel/__main__.py:8: SettingWithCopyWarning: \n",
      "A value is trying to be set on a copy of a slice from a DataFrame.\n",
      "Try using .loc[row_indexer,col_indexer] = value instead\n",
      "\n",
      "See the caveats in the documentation: http://pandas.pydata.org/pandas-docs/stable/indexing.html#indexing-view-versus-copy\n"
     ]
    }
   ],
   "source": [
    "nc_diarrh_df = t_diarrhpred(nc.loc[(nc.index > 279) & (nc.index < 315), :]['year_id'],\n",
    "                      nc.loc[(nc.index > 279) & (nc.index < 315), :]['mx'])\n",
    "\n",
    "nc_diarrh = nc_diarrh_df.loc[nc_diarrh_df['future'] == 2019]\n",
    "\n",
    "nc_diarrh['state'] = 'North Carolina'\n",
    "\n",
    "nc_diarrh['new_index'] = 32\n",
    "\n",
    "nc_diarrh.set_index('new_index', inplace = True)"
   ]
  },
  {
   "cell_type": "code",
   "execution_count": 50,
   "metadata": {},
   "outputs": [
    {
     "name": "stdout",
     "output_type": "stream",
     "text": [
      "0.06195719091480725\n"
     ]
    },
    {
     "name": "stderr",
     "output_type": "stream",
     "text": [
      "/Users/gadamico/anaconda3/lib/python3.6/site-packages/ipykernel/__main__.py:6: SettingWithCopyWarning: \n",
      "A value is trying to be set on a copy of a slice from a DataFrame.\n",
      "Try using .loc[row_indexer,col_indexer] = value instead\n",
      "\n",
      "See the caveats in the documentation: http://pandas.pydata.org/pandas-docs/stable/indexing.html#indexing-view-versus-copy\n",
      "/Users/gadamico/anaconda3/lib/python3.6/site-packages/ipykernel/__main__.py:8: SettingWithCopyWarning: \n",
      "A value is trying to be set on a copy of a slice from a DataFrame.\n",
      "Try using .loc[row_indexer,col_indexer] = value instead\n",
      "\n",
      "See the caveats in the documentation: http://pandas.pydata.org/pandas-docs/stable/indexing.html#indexing-view-versus-copy\n"
     ]
    }
   ],
   "source": [
    "nd_diarrh_df = t_diarrhpred(nd.loc[(nd.index > 279) & (nd.index < 315), :]['year_id'],\n",
    "                      nd.loc[(nd.index > 279) & (nd.index < 315), :]['mx'])\n",
    "\n",
    "nd_diarrh = nd_diarrh_df.loc[nd_diarrh_df['future'] == 2019]\n",
    "\n",
    "nd_diarrh['state'] = 'North Dakota'\n",
    "\n",
    "nd_diarrh['new_index'] = 33\n",
    "\n",
    "nd_diarrh.set_index('new_index', inplace = True)"
   ]
  },
  {
   "cell_type": "code",
   "execution_count": 51,
   "metadata": {},
   "outputs": [
    {
     "name": "stdout",
     "output_type": "stream",
     "text": [
      "0.08134516801124692\n"
     ]
    },
    {
     "name": "stderr",
     "output_type": "stream",
     "text": [
      "/Users/gadamico/anaconda3/lib/python3.6/site-packages/ipykernel/__main__.py:6: SettingWithCopyWarning: \n",
      "A value is trying to be set on a copy of a slice from a DataFrame.\n",
      "Try using .loc[row_indexer,col_indexer] = value instead\n",
      "\n",
      "See the caveats in the documentation: http://pandas.pydata.org/pandas-docs/stable/indexing.html#indexing-view-versus-copy\n",
      "/Users/gadamico/anaconda3/lib/python3.6/site-packages/ipykernel/__main__.py:8: SettingWithCopyWarning: \n",
      "A value is trying to be set on a copy of a slice from a DataFrame.\n",
      "Try using .loc[row_indexer,col_indexer] = value instead\n",
      "\n",
      "See the caveats in the documentation: http://pandas.pydata.org/pandas-docs/stable/indexing.html#indexing-view-versus-copy\n"
     ]
    }
   ],
   "source": [
    "oh_diarrh_df = t_diarrhpred(oh.loc[(oh.index > 279) & (oh.index < 315), :]['year_id'],\n",
    "                      oh.loc[(oh.index > 279) & (oh.index < 315), :]['mx'])\n",
    "\n",
    "oh_diarrh = oh_diarrh_df.loc[oh_diarrh_df['future'] == 2019]\n",
    "\n",
    "oh_diarrh['state'] = 'Ohio'\n",
    "\n",
    "oh_diarrh['new_index'] = 34\n",
    "\n",
    "oh_diarrh.set_index('new_index', inplace = True)"
   ]
  },
  {
   "cell_type": "code",
   "execution_count": 52,
   "metadata": {},
   "outputs": [
    {
     "name": "stdout",
     "output_type": "stream",
     "text": [
      "0.07762792320291234\n"
     ]
    },
    {
     "name": "stderr",
     "output_type": "stream",
     "text": [
      "/Users/gadamico/anaconda3/lib/python3.6/site-packages/ipykernel/__main__.py:6: SettingWithCopyWarning: \n",
      "A value is trying to be set on a copy of a slice from a DataFrame.\n",
      "Try using .loc[row_indexer,col_indexer] = value instead\n",
      "\n",
      "See the caveats in the documentation: http://pandas.pydata.org/pandas-docs/stable/indexing.html#indexing-view-versus-copy\n",
      "/Users/gadamico/anaconda3/lib/python3.6/site-packages/ipykernel/__main__.py:8: SettingWithCopyWarning: \n",
      "A value is trying to be set on a copy of a slice from a DataFrame.\n",
      "Try using .loc[row_indexer,col_indexer] = value instead\n",
      "\n",
      "See the caveats in the documentation: http://pandas.pydata.org/pandas-docs/stable/indexing.html#indexing-view-versus-copy\n"
     ]
    }
   ],
   "source": [
    "ok_diarrh_df = t_diarrhpred(ok.loc[(ok.index > 279) & (ok.index < 315), :]['year_id'],\n",
    "                      ok.loc[(ok.index > 279) & (ok.index < 315), :]['mx'])\n",
    "\n",
    "ok_diarrh = ok_diarrh_df.loc[ok_diarrh_df['future'] == 2019]\n",
    "\n",
    "ok_diarrh['state'] = 'Oklahoma'\n",
    "\n",
    "ok_diarrh['new_index'] = 35\n",
    "\n",
    "ok_diarrh.set_index('new_index', inplace = True)"
   ]
  },
  {
   "cell_type": "code",
   "execution_count": 53,
   "metadata": {},
   "outputs": [
    {
     "name": "stdout",
     "output_type": "stream",
     "text": [
      "0.07468073589527174\n"
     ]
    },
    {
     "name": "stderr",
     "output_type": "stream",
     "text": [
      "/Users/gadamico/anaconda3/lib/python3.6/site-packages/ipykernel/__main__.py:6: SettingWithCopyWarning: \n",
      "A value is trying to be set on a copy of a slice from a DataFrame.\n",
      "Try using .loc[row_indexer,col_indexer] = value instead\n",
      "\n",
      "See the caveats in the documentation: http://pandas.pydata.org/pandas-docs/stable/indexing.html#indexing-view-versus-copy\n",
      "/Users/gadamico/anaconda3/lib/python3.6/site-packages/ipykernel/__main__.py:8: SettingWithCopyWarning: \n",
      "A value is trying to be set on a copy of a slice from a DataFrame.\n",
      "Try using .loc[row_indexer,col_indexer] = value instead\n",
      "\n",
      "See the caveats in the documentation: http://pandas.pydata.org/pandas-docs/stable/indexing.html#indexing-view-versus-copy\n"
     ]
    }
   ],
   "source": [
    "or_diarrh_df = t_diarrhpred(or_.loc[(or_.index > 279) & (or_.index < 315), :]['year_id'],\n",
    "                      or_.loc[(or_.index > 279) & (or_.index < 315), :]['mx'])\n",
    "\n",
    "or_diarrh = or_diarrh_df.loc[or_diarrh_df['future'] == 2019]\n",
    "\n",
    "or_diarrh['state'] = 'Oregon'\n",
    "\n",
    "or_diarrh['new_index'] = 36\n",
    "\n",
    "or_diarrh.set_index('new_index', inplace = True)"
   ]
  },
  {
   "cell_type": "code",
   "execution_count": 54,
   "metadata": {},
   "outputs": [
    {
     "name": "stdout",
     "output_type": "stream",
     "text": [
      "0.0755921238601531\n"
     ]
    },
    {
     "name": "stderr",
     "output_type": "stream",
     "text": [
      "/Users/gadamico/anaconda3/lib/python3.6/site-packages/ipykernel/__main__.py:6: SettingWithCopyWarning: \n",
      "A value is trying to be set on a copy of a slice from a DataFrame.\n",
      "Try using .loc[row_indexer,col_indexer] = value instead\n",
      "\n",
      "See the caveats in the documentation: http://pandas.pydata.org/pandas-docs/stable/indexing.html#indexing-view-versus-copy\n",
      "/Users/gadamico/anaconda3/lib/python3.6/site-packages/ipykernel/__main__.py:8: SettingWithCopyWarning: \n",
      "A value is trying to be set on a copy of a slice from a DataFrame.\n",
      "Try using .loc[row_indexer,col_indexer] = value instead\n",
      "\n",
      "See the caveats in the documentation: http://pandas.pydata.org/pandas-docs/stable/indexing.html#indexing-view-versus-copy\n"
     ]
    }
   ],
   "source": [
    "pa_diarrh_df = t_diarrhpred(pa.loc[(pa.index > 279) & (pa.index < 315), :]['year_id'],\n",
    "                      pa.loc[(pa.index > 279) & (pa.index < 315), :]['mx'])\n",
    "\n",
    "pa_diarrh = pa_diarrh_df.loc[pa_diarrh_df['future'] == 2019]\n",
    "\n",
    "pa_diarrh['state'] = 'Pennsylvania'\n",
    "\n",
    "pa_diarrh['new_index'] = 37\n",
    "\n",
    "pa_diarrh.set_index('new_index', inplace = True)"
   ]
  },
  {
   "cell_type": "code",
   "execution_count": 55,
   "metadata": {},
   "outputs": [
    {
     "name": "stdout",
     "output_type": "stream",
     "text": [
      "0.08657463542357904\n"
     ]
    },
    {
     "name": "stderr",
     "output_type": "stream",
     "text": [
      "/Users/gadamico/anaconda3/lib/python3.6/site-packages/ipykernel/__main__.py:6: SettingWithCopyWarning: \n",
      "A value is trying to be set on a copy of a slice from a DataFrame.\n",
      "Try using .loc[row_indexer,col_indexer] = value instead\n",
      "\n",
      "See the caveats in the documentation: http://pandas.pydata.org/pandas-docs/stable/indexing.html#indexing-view-versus-copy\n",
      "/Users/gadamico/anaconda3/lib/python3.6/site-packages/ipykernel/__main__.py:8: SettingWithCopyWarning: \n",
      "A value is trying to be set on a copy of a slice from a DataFrame.\n",
      "Try using .loc[row_indexer,col_indexer] = value instead\n",
      "\n",
      "See the caveats in the documentation: http://pandas.pydata.org/pandas-docs/stable/indexing.html#indexing-view-versus-copy\n"
     ]
    }
   ],
   "source": [
    "ri_diarrh_df = t_diarrhpred(ri.loc[(ri.index > 279) & (ri.index < 315), :]['year_id'],\n",
    "                      ri.loc[(ri.index > 279) & (ri.index < 315), :]['mx'])\n",
    "\n",
    "ri_diarrh = ri_diarrh_df.loc[ri_diarrh_df['future'] == 2019]\n",
    "\n",
    "ri_diarrh['state'] = 'Rhode Island'\n",
    "\n",
    "ri_diarrh['new_index'] = 38\n",
    "\n",
    "ri_diarrh.set_index('new_index', inplace = True)"
   ]
  },
  {
   "cell_type": "code",
   "execution_count": 56,
   "metadata": {},
   "outputs": [
    {
     "name": "stdout",
     "output_type": "stream",
     "text": [
      "0.06677041178112941\n"
     ]
    },
    {
     "name": "stderr",
     "output_type": "stream",
     "text": [
      "/Users/gadamico/anaconda3/lib/python3.6/site-packages/ipykernel/__main__.py:6: SettingWithCopyWarning: \n",
      "A value is trying to be set on a copy of a slice from a DataFrame.\n",
      "Try using .loc[row_indexer,col_indexer] = value instead\n",
      "\n",
      "See the caveats in the documentation: http://pandas.pydata.org/pandas-docs/stable/indexing.html#indexing-view-versus-copy\n",
      "/Users/gadamico/anaconda3/lib/python3.6/site-packages/ipykernel/__main__.py:8: SettingWithCopyWarning: \n",
      "A value is trying to be set on a copy of a slice from a DataFrame.\n",
      "Try using .loc[row_indexer,col_indexer] = value instead\n",
      "\n",
      "See the caveats in the documentation: http://pandas.pydata.org/pandas-docs/stable/indexing.html#indexing-view-versus-copy\n"
     ]
    }
   ],
   "source": [
    "sc_diarrh_df = t_diarrhpred(sc.loc[(sc.index > 279) & (sc.index < 315), :]['year_id'],\n",
    "                      sc.loc[(sc.index > 279) & (sc.index < 315), :]['mx'])\n",
    "\n",
    "sc_diarrh = sc_diarrh_df.loc[sc_diarrh_df['future'] == 2019]\n",
    "\n",
    "sc_diarrh['state'] = 'South Carolina'\n",
    "\n",
    "sc_diarrh['new_index'] = 39\n",
    "\n",
    "sc_diarrh.set_index('new_index', inplace = True)"
   ]
  },
  {
   "cell_type": "code",
   "execution_count": 57,
   "metadata": {},
   "outputs": [
    {
     "name": "stdout",
     "output_type": "stream",
     "text": [
      "0.0678474930223243\n"
     ]
    },
    {
     "name": "stderr",
     "output_type": "stream",
     "text": [
      "/Users/gadamico/anaconda3/lib/python3.6/site-packages/ipykernel/__main__.py:6: SettingWithCopyWarning: \n",
      "A value is trying to be set on a copy of a slice from a DataFrame.\n",
      "Try using .loc[row_indexer,col_indexer] = value instead\n",
      "\n",
      "See the caveats in the documentation: http://pandas.pydata.org/pandas-docs/stable/indexing.html#indexing-view-versus-copy\n",
      "/Users/gadamico/anaconda3/lib/python3.6/site-packages/ipykernel/__main__.py:8: SettingWithCopyWarning: \n",
      "A value is trying to be set on a copy of a slice from a DataFrame.\n",
      "Try using .loc[row_indexer,col_indexer] = value instead\n",
      "\n",
      "See the caveats in the documentation: http://pandas.pydata.org/pandas-docs/stable/indexing.html#indexing-view-versus-copy\n"
     ]
    }
   ],
   "source": [
    "sd_diarrh_df = t_diarrhpred(sd.loc[(sd.index > 279) & (sd.index < 315), :]['year_id'],\n",
    "                      sd.loc[(sd.index > 279) & (sd.index < 315), :]['mx'])\n",
    "\n",
    "sd_diarrh = sd_diarrh_df.loc[sd_diarrh_df['future'] == 2019]\n",
    "\n",
    "sd_diarrh['state'] = 'South Dakota'\n",
    "\n",
    "sd_diarrh['new_index'] = 40\n",
    "\n",
    "sd_diarrh.set_index('new_index', inplace = True)"
   ]
  },
  {
   "cell_type": "code",
   "execution_count": 58,
   "metadata": {},
   "outputs": [
    {
     "name": "stdout",
     "output_type": "stream",
     "text": [
      "0.07560263064534242\n"
     ]
    },
    {
     "name": "stderr",
     "output_type": "stream",
     "text": [
      "/Users/gadamico/anaconda3/lib/python3.6/site-packages/ipykernel/__main__.py:6: SettingWithCopyWarning: \n",
      "A value is trying to be set on a copy of a slice from a DataFrame.\n",
      "Try using .loc[row_indexer,col_indexer] = value instead\n",
      "\n",
      "See the caveats in the documentation: http://pandas.pydata.org/pandas-docs/stable/indexing.html#indexing-view-versus-copy\n",
      "/Users/gadamico/anaconda3/lib/python3.6/site-packages/ipykernel/__main__.py:8: SettingWithCopyWarning: \n",
      "A value is trying to be set on a copy of a slice from a DataFrame.\n",
      "Try using .loc[row_indexer,col_indexer] = value instead\n",
      "\n",
      "See the caveats in the documentation: http://pandas.pydata.org/pandas-docs/stable/indexing.html#indexing-view-versus-copy\n"
     ]
    }
   ],
   "source": [
    "tn_diarrh_df = t_diarrhpred(tn.loc[(tn.index > 279) & (tn.index < 315), :]['year_id'],\n",
    "                      tn.loc[(tn.index > 279) & (tn.index < 315), :]['mx'])\n",
    "\n",
    "tn_diarrh = tn_diarrh_df.loc[tn_diarrh_df['future'] == 2019]\n",
    "\n",
    "tn_diarrh['state'] = 'Tennesse'\n",
    "\n",
    "tn_diarrh['new_index'] = 41\n",
    "\n",
    "tn_diarrh.set_index('new_index', inplace = True)"
   ]
  },
  {
   "cell_type": "code",
   "execution_count": 59,
   "metadata": {},
   "outputs": [
    {
     "name": "stdout",
     "output_type": "stream",
     "text": [
      "0.0649674360932649\n"
     ]
    },
    {
     "name": "stderr",
     "output_type": "stream",
     "text": [
      "/Users/gadamico/anaconda3/lib/python3.6/site-packages/ipykernel/__main__.py:6: SettingWithCopyWarning: \n",
      "A value is trying to be set on a copy of a slice from a DataFrame.\n",
      "Try using .loc[row_indexer,col_indexer] = value instead\n",
      "\n",
      "See the caveats in the documentation: http://pandas.pydata.org/pandas-docs/stable/indexing.html#indexing-view-versus-copy\n",
      "/Users/gadamico/anaconda3/lib/python3.6/site-packages/ipykernel/__main__.py:8: SettingWithCopyWarning: \n",
      "A value is trying to be set on a copy of a slice from a DataFrame.\n",
      "Try using .loc[row_indexer,col_indexer] = value instead\n",
      "\n",
      "See the caveats in the documentation: http://pandas.pydata.org/pandas-docs/stable/indexing.html#indexing-view-versus-copy\n"
     ]
    }
   ],
   "source": [
    "tx_diarrh_df = t_diarrhpred(tx.loc[(tx.index > 279) & (tx.index < 315), :]['year_id'],\n",
    "                      tx.loc[(tx.index > 279) & (tx.index < 315), :]['mx'])\n",
    "\n",
    "tx_diarrh = tx_diarrh_df.loc[tx_diarrh_df['future'] == 2019]\n",
    "\n",
    "tx_diarrh['state'] = 'Texas'\n",
    "\n",
    "tx_diarrh['new_index'] = 42\n",
    "\n",
    "tx_diarrh.set_index('new_index', inplace = True)"
   ]
  },
  {
   "cell_type": "code",
   "execution_count": 60,
   "metadata": {},
   "outputs": [
    {
     "name": "stdout",
     "output_type": "stream",
     "text": [
      "0.07030288158497434\n"
     ]
    },
    {
     "name": "stderr",
     "output_type": "stream",
     "text": [
      "/Users/gadamico/anaconda3/lib/python3.6/site-packages/ipykernel/__main__.py:6: SettingWithCopyWarning: \n",
      "A value is trying to be set on a copy of a slice from a DataFrame.\n",
      "Try using .loc[row_indexer,col_indexer] = value instead\n",
      "\n",
      "See the caveats in the documentation: http://pandas.pydata.org/pandas-docs/stable/indexing.html#indexing-view-versus-copy\n",
      "/Users/gadamico/anaconda3/lib/python3.6/site-packages/ipykernel/__main__.py:8: SettingWithCopyWarning: \n",
      "A value is trying to be set on a copy of a slice from a DataFrame.\n",
      "Try using .loc[row_indexer,col_indexer] = value instead\n",
      "\n",
      "See the caveats in the documentation: http://pandas.pydata.org/pandas-docs/stable/indexing.html#indexing-view-versus-copy\n"
     ]
    }
   ],
   "source": [
    "ut_diarrh_df = t_diarrhpred(ut.loc[(ut.index > 279) & (ut.index < 315), :]['year_id'],\n",
    "                      ut.loc[(ut.index > 279) & (ut.index < 315), :]['mx'])\n",
    "\n",
    "ut_diarrh = ut_diarrh_df.loc[ut_diarrh_df['future'] == 2019]\n",
    "\n",
    "ut_diarrh['state'] = 'Utah'\n",
    "\n",
    "ut_diarrh['new_index'] = 43\n",
    "\n",
    "ut_diarrh.set_index('new_index', inplace = True)"
   ]
  },
  {
   "cell_type": "code",
   "execution_count": 61,
   "metadata": {},
   "outputs": [
    {
     "name": "stdout",
     "output_type": "stream",
     "text": [
      "0.07835857538535461\n"
     ]
    },
    {
     "name": "stderr",
     "output_type": "stream",
     "text": [
      "/Users/gadamico/anaconda3/lib/python3.6/site-packages/ipykernel/__main__.py:6: SettingWithCopyWarning: \n",
      "A value is trying to be set on a copy of a slice from a DataFrame.\n",
      "Try using .loc[row_indexer,col_indexer] = value instead\n",
      "\n",
      "See the caveats in the documentation: http://pandas.pydata.org/pandas-docs/stable/indexing.html#indexing-view-versus-copy\n",
      "/Users/gadamico/anaconda3/lib/python3.6/site-packages/ipykernel/__main__.py:8: SettingWithCopyWarning: \n",
      "A value is trying to be set on a copy of a slice from a DataFrame.\n",
      "Try using .loc[row_indexer,col_indexer] = value instead\n",
      "\n",
      "See the caveats in the documentation: http://pandas.pydata.org/pandas-docs/stable/indexing.html#indexing-view-versus-copy\n"
     ]
    }
   ],
   "source": [
    "vt_diarrh_df = t_diarrhpred(vt.loc[(vt.index > 279) & (vt.index < 315), :]['year_id'],\n",
    "                      vt.loc[(vt.index > 279) & (vt.index < 315), :]['mx'])\n",
    "\n",
    "vt_diarrh = vt_diarrh_df.loc[vt_diarrh_df['future'] == 2019]\n",
    "\n",
    "vt_diarrh['state'] = 'Vermont'\n",
    "\n",
    "vt_diarrh['new_index'] = 44\n",
    "\n",
    "vt_diarrh.set_index('new_index', inplace = True)"
   ]
  },
  {
   "cell_type": "code",
   "execution_count": 62,
   "metadata": {},
   "outputs": [
    {
     "name": "stdout",
     "output_type": "stream",
     "text": [
      "0.076404622482053\n"
     ]
    },
    {
     "name": "stderr",
     "output_type": "stream",
     "text": [
      "/Users/gadamico/anaconda3/lib/python3.6/site-packages/ipykernel/__main__.py:6: SettingWithCopyWarning: \n",
      "A value is trying to be set on a copy of a slice from a DataFrame.\n",
      "Try using .loc[row_indexer,col_indexer] = value instead\n",
      "\n",
      "See the caveats in the documentation: http://pandas.pydata.org/pandas-docs/stable/indexing.html#indexing-view-versus-copy\n",
      "/Users/gadamico/anaconda3/lib/python3.6/site-packages/ipykernel/__main__.py:8: SettingWithCopyWarning: \n",
      "A value is trying to be set on a copy of a slice from a DataFrame.\n",
      "Try using .loc[row_indexer,col_indexer] = value instead\n",
      "\n",
      "See the caveats in the documentation: http://pandas.pydata.org/pandas-docs/stable/indexing.html#indexing-view-versus-copy\n"
     ]
    }
   ],
   "source": [
    "va_diarrh_df = t_diarrhpred(va.loc[(va.index > 279) & (va.index < 315), :]['year_id'],\n",
    "                      va.loc[(va.index > 279) & (va.index < 315), :]['mx'])\n",
    "\n",
    "va_diarrh = va_diarrh_df.loc[va_diarrh_df['future'] == 2019]\n",
    "\n",
    "va_diarrh['state'] = 'Virginia'\n",
    "\n",
    "va_diarrh['new_index'] = 45\n",
    "\n",
    "va_diarrh.set_index('new_index', inplace = True)"
   ]
  },
  {
   "cell_type": "code",
   "execution_count": 63,
   "metadata": {},
   "outputs": [
    {
     "name": "stdout",
     "output_type": "stream",
     "text": [
      "0.08450355926064164\n"
     ]
    },
    {
     "name": "stderr",
     "output_type": "stream",
     "text": [
      "/Users/gadamico/anaconda3/lib/python3.6/site-packages/ipykernel/__main__.py:6: SettingWithCopyWarning: \n",
      "A value is trying to be set on a copy of a slice from a DataFrame.\n",
      "Try using .loc[row_indexer,col_indexer] = value instead\n",
      "\n",
      "See the caveats in the documentation: http://pandas.pydata.org/pandas-docs/stable/indexing.html#indexing-view-versus-copy\n",
      "/Users/gadamico/anaconda3/lib/python3.6/site-packages/ipykernel/__main__.py:8: SettingWithCopyWarning: \n",
      "A value is trying to be set on a copy of a slice from a DataFrame.\n",
      "Try using .loc[row_indexer,col_indexer] = value instead\n",
      "\n",
      "See the caveats in the documentation: http://pandas.pydata.org/pandas-docs/stable/indexing.html#indexing-view-versus-copy\n"
     ]
    }
   ],
   "source": [
    "wa_diarrh_df = t_diarrhpred(wa.loc[(wa.index > 279) & (wa.index < 315), :]['year_id'],\n",
    "                      wa.loc[(wa.index > 279) & (wa.index < 315), :]['mx'])\n",
    "\n",
    "wa_diarrh = wa_diarrh_df.loc[wa_diarrh_df['future'] == 2019]\n",
    "\n",
    "wa_diarrh['state'] = 'Washington'\n",
    "\n",
    "wa_diarrh['new_index'] = 46\n",
    "\n",
    "wa_diarrh.set_index('new_index', inplace = True)"
   ]
  },
  {
   "cell_type": "code",
   "execution_count": 64,
   "metadata": {},
   "outputs": [
    {
     "name": "stdout",
     "output_type": "stream",
     "text": [
      "0.0795770543862967\n"
     ]
    },
    {
     "name": "stderr",
     "output_type": "stream",
     "text": [
      "/Users/gadamico/anaconda3/lib/python3.6/site-packages/ipykernel/__main__.py:6: SettingWithCopyWarning: \n",
      "A value is trying to be set on a copy of a slice from a DataFrame.\n",
      "Try using .loc[row_indexer,col_indexer] = value instead\n",
      "\n",
      "See the caveats in the documentation: http://pandas.pydata.org/pandas-docs/stable/indexing.html#indexing-view-versus-copy\n",
      "/Users/gadamico/anaconda3/lib/python3.6/site-packages/ipykernel/__main__.py:8: SettingWithCopyWarning: \n",
      "A value is trying to be set on a copy of a slice from a DataFrame.\n",
      "Try using .loc[row_indexer,col_indexer] = value instead\n",
      "\n",
      "See the caveats in the documentation: http://pandas.pydata.org/pandas-docs/stable/indexing.html#indexing-view-versus-copy\n"
     ]
    }
   ],
   "source": [
    "wv_diarrh_df = t_diarrhpred(wv.loc[(wv.index > 279) & (wv.index < 315), :]['year_id'],\n",
    "                      wv.loc[(wv.index > 279) & (wv.index < 315), :]['mx'])\n",
    "\n",
    "wv_diarrh = wv_diarrh_df.loc[wv_diarrh_df['future'] == 2019]\n",
    "\n",
    "wv_diarrh['state'] = 'West Virginia'\n",
    "\n",
    "wv_diarrh['new_index'] = 47\n",
    "\n",
    "wv_diarrh.set_index('new_index', inplace = True)"
   ]
  },
  {
   "cell_type": "code",
   "execution_count": 65,
   "metadata": {},
   "outputs": [
    {
     "name": "stdout",
     "output_type": "stream",
     "text": [
      "0.06863894893110005\n"
     ]
    },
    {
     "name": "stderr",
     "output_type": "stream",
     "text": [
      "/Users/gadamico/anaconda3/lib/python3.6/site-packages/ipykernel/__main__.py:6: SettingWithCopyWarning: \n",
      "A value is trying to be set on a copy of a slice from a DataFrame.\n",
      "Try using .loc[row_indexer,col_indexer] = value instead\n",
      "\n",
      "See the caveats in the documentation: http://pandas.pydata.org/pandas-docs/stable/indexing.html#indexing-view-versus-copy\n",
      "/Users/gadamico/anaconda3/lib/python3.6/site-packages/ipykernel/__main__.py:8: SettingWithCopyWarning: \n",
      "A value is trying to be set on a copy of a slice from a DataFrame.\n",
      "Try using .loc[row_indexer,col_indexer] = value instead\n",
      "\n",
      "See the caveats in the documentation: http://pandas.pydata.org/pandas-docs/stable/indexing.html#indexing-view-versus-copy\n"
     ]
    }
   ],
   "source": [
    "wi_diarrh_df = t_diarrhpred(wi.loc[(wi.index > 279) & (wi.index < 315), :]['year_id'],\n",
    "                      wi.loc[(wi.index > 279) & (wi.index < 315), :]['mx'])\n",
    "\n",
    "wi_diarrh = wi_diarrh_df.loc[wi_diarrh_df['future'] == 2019]\n",
    "\n",
    "wi_diarrh['state'] = 'Wisconsin'\n",
    "\n",
    "wi_diarrh['new_index'] = 48\n",
    "\n",
    "wi_diarrh.set_index('new_index', inplace = True)"
   ]
  },
  {
   "cell_type": "code",
   "execution_count": 66,
   "metadata": {},
   "outputs": [
    {
     "name": "stdout",
     "output_type": "stream",
     "text": [
      "0.06737942238756715\n"
     ]
    },
    {
     "name": "stderr",
     "output_type": "stream",
     "text": [
      "/Users/gadamico/anaconda3/lib/python3.6/site-packages/ipykernel/__main__.py:6: SettingWithCopyWarning: \n",
      "A value is trying to be set on a copy of a slice from a DataFrame.\n",
      "Try using .loc[row_indexer,col_indexer] = value instead\n",
      "\n",
      "See the caveats in the documentation: http://pandas.pydata.org/pandas-docs/stable/indexing.html#indexing-view-versus-copy\n",
      "/Users/gadamico/anaconda3/lib/python3.6/site-packages/ipykernel/__main__.py:8: SettingWithCopyWarning: \n",
      "A value is trying to be set on a copy of a slice from a DataFrame.\n",
      "Try using .loc[row_indexer,col_indexer] = value instead\n",
      "\n",
      "See the caveats in the documentation: http://pandas.pydata.org/pandas-docs/stable/indexing.html#indexing-view-versus-copy\n"
     ]
    }
   ],
   "source": [
    "wy_diarrh_df = t_diarrhpred(wy.loc[(wy.index > 279) & (wy.index < 315), :]['year_id'],\n",
    "                      wy.loc[(wy.index > 279) & (wy.index < 315), :]['mx'])\n",
    "\n",
    "wy_diarrh = wy_diarrh_df.loc[wy_diarrh_df['future'] == 2019]\n",
    "\n",
    "wy_diarrh['state'] = 'Wyoming'\n",
    "\n",
    "wy_diarrh['new_index'] = 49\n",
    "\n",
    "wy_diarrh.set_index('new_index', inplace = True)"
   ]
  },
  {
   "cell_type": "code",
   "execution_count": 67,
   "metadata": {},
   "outputs": [],
   "source": [
    "state_diarrh = pd.concat([al_diarrh, ak_diarrh, az_diarrh, ar_diarrh, ca_diarrh, co_diarrh,\n",
    "                          ct_diarrh, de_diarrh, fl_diarrh, ga_diarrh, hi_diarrh, id_diarrh,\n",
    "                          il_diarrh, in_diarrh, ia_diarrh, ks_diarrh, ky_diarrh, la_diarrh,\n",
    "                          me_diarrh, md_diarrh, ma_diarrh, mi_diarrh, mn_diarrh, ms_diarrh,\n",
    "                          mo_diarrh, mt_diarrh, ne_diarrh, nv_diarrh, nh_diarrh, nj_diarrh,\n",
    "                          nm_diarrh, ny_diarrh, nc_diarrh, nd_diarrh, oh_diarrh, ok_diarrh,\n",
    "                          or_diarrh, pa_diarrh, ri_diarrh, sc_diarrh, sd_diarrh, tn_diarrh,\n",
    "                          tx_diarrh, ut_diarrh, vt_diarrh, va_diarrh, wa_diarrh, wv_diarrh,\n",
    "                          wi_diarrh, wy_diarrh])"
   ]
  },
  {
   "cell_type": "code",
   "execution_count": 68,
   "metadata": {},
   "outputs": [
    {
     "data": {
      "text/html": [
       "<div>\n",
       "<style scoped>\n",
       "    .dataframe tbody tr th:only-of-type {\n",
       "        vertical-align: middle;\n",
       "    }\n",
       "\n",
       "    .dataframe tbody tr th {\n",
       "        vertical-align: top;\n",
       "    }\n",
       "\n",
       "    .dataframe thead th {\n",
       "        text-align: right;\n",
       "    }\n",
       "</style>\n",
       "<table border=\"1\" class=\"dataframe\">\n",
       "  <thead>\n",
       "    <tr style=\"text-align: right;\">\n",
       "      <th></th>\n",
       "      <th>future</th>\n",
       "      <th>0</th>\n",
       "      <th>state</th>\n",
       "    </tr>\n",
       "    <tr>\n",
       "      <th>new_index</th>\n",
       "      <th></th>\n",
       "      <th></th>\n",
       "      <th></th>\n",
       "    </tr>\n",
       "  </thead>\n",
       "  <tbody>\n",
       "    <tr>\n",
       "      <th>38</th>\n",
       "      <td>2019</td>\n",
       "      <td>6.295216</td>\n",
       "      <td>Rhode Island</td>\n",
       "    </tr>\n",
       "  </tbody>\n",
       "</table>\n",
       "</div>"
      ],
      "text/plain": [
       "           future         0         state\n",
       "new_index                                \n",
       "38           2019  6.295216  Rhode Island"
      ]
     },
     "execution_count": 68,
     "metadata": {},
     "output_type": "execute_result"
    }
   ],
   "source": [
    "state_diarrh.to_csv('state_diarrh.csv')\n",
    "state_diarrh.loc[state_diarrh[0] == max(state_diarrh[0]), :]"
   ]
  },
  {
   "cell_type": "code",
   "execution_count": 69,
   "metadata": {},
   "outputs": [
    {
     "data": {
      "text/html": [
       "<div>\n",
       "<style scoped>\n",
       "    .dataframe tbody tr th:only-of-type {\n",
       "        vertical-align: middle;\n",
       "    }\n",
       "\n",
       "    .dataframe tbody tr th {\n",
       "        vertical-align: top;\n",
       "    }\n",
       "\n",
       "    .dataframe thead th {\n",
       "        text-align: right;\n",
       "    }\n",
       "</style>\n",
       "<table border=\"1\" class=\"dataframe\">\n",
       "  <thead>\n",
       "    <tr style=\"text-align: right;\">\n",
       "      <th></th>\n",
       "      <th>future</th>\n",
       "      <th>0</th>\n",
       "      <th>state</th>\n",
       "    </tr>\n",
       "    <tr>\n",
       "      <th>new_index</th>\n",
       "      <th></th>\n",
       "      <th></th>\n",
       "      <th></th>\n",
       "    </tr>\n",
       "  </thead>\n",
       "  <tbody>\n",
       "    <tr>\n",
       "      <th>10</th>\n",
       "      <td>2019</td>\n",
       "      <td>0.547645</td>\n",
       "      <td>Hawaii</td>\n",
       "    </tr>\n",
       "  </tbody>\n",
       "</table>\n",
       "</div>"
      ],
      "text/plain": [
       "           future         0   state\n",
       "new_index                          \n",
       "10           2019  0.547645  Hawaii"
      ]
     },
     "execution_count": 69,
     "metadata": {},
     "output_type": "execute_result"
    }
   ],
   "source": [
    "state_diarrh.loc[state_diarrh[0] == min(state_diarrh[0]), :]"
   ]
  },
  {
   "cell_type": "markdown",
   "metadata": {},
   "source": [
    "## Exploring Rhode Island"
   ]
  },
  {
   "cell_type": "code",
   "execution_count": 70,
   "metadata": {},
   "outputs": [
    {
     "data": {
      "text/plain": [
       "Newport County       105\n",
       "Washington County    105\n",
       "Kent County          105\n",
       "Bristol County       105\n",
       "Providence County    105\n",
       "Name: location_name, dtype: int64"
      ]
     },
     "execution_count": 70,
     "metadata": {},
     "output_type": "execute_result"
    }
   ],
   "source": [
    "rhode_island = pd.read_csv('IHME_USA_COUNTY_INFECT_DIS_MORT_1980_2014_STATES_O_TO_S_CSV/IHME_USA_COUNTY_INFECT_DIS_MORT_1980_2014_RHODE_ISLAND_Y2018M03D27.CSV')\n",
    "\n",
    "rhode_island = rhode_island.loc[(rhode_island['cause_name'] == 'Diarrheal diseases') & (rhode_island['location_name'] != 'Rhode Island'), :]\n",
    "\n",
    "rhode_island = rhode_island.drop(columns = ['measure_id', 'measure_name', 'location_id', 'FIPS',\n",
    "                                'cause_id', 'cause_name', 'sex_id', 'age_id', 'age_name',\n",
    "                                'metric'])\n",
    "\n",
    "rhode_island['location_name'].value_counts()"
   ]
  },
  {
   "cell_type": "markdown",
   "metadata": {},
   "source": [
    "### Climate Data"
   ]
  },
  {
   "cell_type": "markdown",
   "metadata": {},
   "source": [
    "Rhode Island climate data from https://upload.wikimedia.org/wikipedia/commons/f/f1/Rhode_Island_K%C3%B6ppen.png"
   ]
  },
  {
   "cell_type": "code",
   "execution_count": 71,
   "metadata": {},
   "outputs": [],
   "source": [
    "ri_clim_dict = {'Bristol County': 'Humid subtropical',\n",
    "                'Kent County': 'Warm-summer humid continental/Oceanic/Humid subtropical',\n",
    "               'Providence County': 'Hot-summer humid continental/Warm-summer humid continental/Oceanic/Humid subtropical'}"
   ]
  },
  {
   "cell_type": "code",
   "execution_count": 73,
   "metadata": {},
   "outputs": [
    {
     "data": {
      "text/plain": [
       "Oceanic/Humid subtropical                                                               210\n",
       "Hot-summer humid continental/Warm-summer humid continental/Oceanic/Humid subtropical    105\n",
       "Humid subtropical                                                                       105\n",
       "Warm-summer humid continental/Oceanic/Humid subtropical                                 105\n",
       "Name: Climate, dtype: int64"
      ]
     },
     "execution_count": 73,
     "metadata": {},
     "output_type": "execute_result"
    }
   ],
   "source": [
    "rhode_island['Climate'] = rhode_island['location_name'].map(ri_clim_dict)\n",
    "\n",
    "rhode_island['Climate'] = rhode_island['Climate'].fillna('Oceanic/Humid subtropical')\n",
    "\n",
    "rhode_island['Climate'].value_counts()"
   ]
  },
  {
   "cell_type": "markdown",
   "metadata": {},
   "source": [
    "### Population Data"
   ]
  },
  {
   "cell_type": "code",
   "execution_count": 74,
   "metadata": {},
   "outputs": [],
   "source": [
    "import requests\n",
    "from bs4 import BeautifulSoup"
   ]
  },
  {
   "cell_type": "code",
   "execution_count": 75,
   "metadata": {},
   "outputs": [],
   "source": [
    "url = 'https://www.rhodeisland-demographics.com/counties_by_population'"
   ]
  },
  {
   "cell_type": "code",
   "execution_count": 76,
   "metadata": {},
   "outputs": [
    {
     "data": {
      "text/plain": [
       "200"
      ]
     },
     "execution_count": 76,
     "metadata": {},
     "output_type": "execute_result"
    }
   ],
   "source": [
    "requests.get(url).status_code"
   ]
  },
  {
   "cell_type": "code",
   "execution_count": 77,
   "metadata": {},
   "outputs": [],
   "source": [
    "soup = BeautifulSoup(requests.get(url).content, 'lxml')\n",
    "\n",
    "headers = []\n",
    "table = soup.find('table')\n",
    "\n",
    "for th in table.findChildren('th'):\n",
    "    headers.append(th.text)"
   ]
  },
  {
   "cell_type": "code",
   "execution_count": 78,
   "metadata": {},
   "outputs": [
    {
     "data": {
      "text/plain": [
       "['Rank', 'County', 'Population']"
      ]
     },
     "execution_count": 78,
     "metadata": {},
     "output_type": "execute_result"
    }
   ],
   "source": [
    "headers"
   ]
  },
  {
   "cell_type": "code",
   "execution_count": 83,
   "metadata": {},
   "outputs": [],
   "source": [
    "populations = []\n",
    "table = soup.find('table')\n",
    "\n",
    "for td in table.findChildren('td'):\n",
    "    populations.append(td.text)"
   ]
  },
  {
   "cell_type": "code",
   "execution_count": 84,
   "metadata": {},
   "outputs": [
    {
     "data": {
      "text/plain": [
       "['\\n        1\\n      ',\n",
       " '\\nProvidence County\\n',\n",
       " '\\n        637,357\\n\\n      ',\n",
       " '\\n        2\\n      ',\n",
       " '\\nKent County\\n',\n",
       " '\\n        163,760\\n\\n      ',\n",
       " '\\n        3\\n      ',\n",
       " '\\nWashington County\\n',\n",
       " '\\n        126,150\\n\\n      ',\n",
       " '\\n        4\\n      ',\n",
       " '\\nNewport County\\n',\n",
       " '\\n        83,460\\n\\n      ',\n",
       " '\\n        5\\n      ',\n",
       " '\\nBristol County\\n',\n",
       " '\\n        48,912\\n\\n      ',\n",
       " '\\nUnited States Census Bureau / American FactFinder. \"Annual\\nEstimates of the Resident Population: April 1, 2010 to July 1, 2017\". 2017\\nPopulation Estimates Program. Web. March 2018. http://factfinder2.census.gov.\\n']"
      ]
     },
     "execution_count": 84,
     "metadata": {},
     "output_type": "execute_result"
    }
   ],
   "source": [
    "populations"
   ]
  },
  {
   "cell_type": "code",
   "execution_count": 85,
   "metadata": {},
   "outputs": [
    {
     "data": {
      "text/plain": [
       "['1',\n",
       " 'ProvidenceCounty',\n",
       " '637,357',\n",
       " '2',\n",
       " 'KentCounty',\n",
       " '163,760',\n",
       " '3',\n",
       " 'WashingtonCounty',\n",
       " '126,150',\n",
       " '4',\n",
       " 'NewportCounty',\n",
       " '83,460',\n",
       " '5',\n",
       " 'BristolCounty',\n",
       " '48,912',\n",
       " 'UnitedStatesCensusBureau/AmericanFactFinder.\"AnnualEstimatesoftheResidentPopulation:April1,2010toJuly1,2017\".2017PopulationEstimatesProgram.Web.March2018.http://factfinder2.census.gov.']"
      ]
     },
     "execution_count": 85,
     "metadata": {},
     "output_type": "execute_result"
    }
   ],
   "source": [
    "populations = [county.replace('\\n', '') for county in populations]\n",
    "populations = [county.replace(' ', '') for county in populations]\n",
    "populations"
   ]
  },
  {
   "cell_type": "code",
   "execution_count": 86,
   "metadata": {},
   "outputs": [],
   "source": [
    "populations = populations[:-1]"
   ]
  },
  {
   "cell_type": "code",
   "execution_count": 87,
   "metadata": {},
   "outputs": [
    {
     "data": {
      "text/html": [
       "<div>\n",
       "<style scoped>\n",
       "    .dataframe tbody tr th:only-of-type {\n",
       "        vertical-align: middle;\n",
       "    }\n",
       "\n",
       "    .dataframe tbody tr th {\n",
       "        vertical-align: top;\n",
       "    }\n",
       "\n",
       "    .dataframe thead th {\n",
       "        text-align: right;\n",
       "    }\n",
       "</style>\n",
       "<table border=\"1\" class=\"dataframe\">\n",
       "  <thead>\n",
       "    <tr style=\"text-align: right;\">\n",
       "      <th></th>\n",
       "      <th>Rank</th>\n",
       "      <th>County</th>\n",
       "      <th>Population</th>\n",
       "    </tr>\n",
       "  </thead>\n",
       "  <tbody>\n",
       "    <tr>\n",
       "      <th>0</th>\n",
       "      <td>1</td>\n",
       "      <td>ProvidenceCounty</td>\n",
       "      <td>637,357</td>\n",
       "    </tr>\n",
       "    <tr>\n",
       "      <th>1</th>\n",
       "      <td>2</td>\n",
       "      <td>KentCounty</td>\n",
       "      <td>163,760</td>\n",
       "    </tr>\n",
       "    <tr>\n",
       "      <th>2</th>\n",
       "      <td>3</td>\n",
       "      <td>WashingtonCounty</td>\n",
       "      <td>126,150</td>\n",
       "    </tr>\n",
       "    <tr>\n",
       "      <th>3</th>\n",
       "      <td>4</td>\n",
       "      <td>NewportCounty</td>\n",
       "      <td>83,460</td>\n",
       "    </tr>\n",
       "    <tr>\n",
       "      <th>4</th>\n",
       "      <td>5</td>\n",
       "      <td>BristolCounty</td>\n",
       "      <td>48,912</td>\n",
       "    </tr>\n",
       "  </tbody>\n",
       "</table>\n",
       "</div>"
      ],
      "text/plain": [
       "  Rank            County Population\n",
       "0    1  ProvidenceCounty    637,357\n",
       "1    2        KentCounty    163,760\n",
       "2    3  WashingtonCounty    126,150\n",
       "3    4     NewportCounty     83,460\n",
       "4    5     BristolCounty     48,912"
      ]
     },
     "execution_count": 87,
     "metadata": {},
     "output_type": "execute_result"
    }
   ],
   "source": [
    "peopledf = pd.DataFrame(np.reshape(populations, (5, 3)), columns = headers)\n",
    "peopledf"
   ]
  },
  {
   "cell_type": "code",
   "execution_count": 88,
   "metadata": {},
   "outputs": [],
   "source": [
    "counties = [county.replace(' ', '') for county in rhode_island['location_name']]\n",
    "\n",
    "rhode_island['location_name'] = counties"
   ]
  },
  {
   "cell_type": "code",
   "execution_count": 105,
   "metadata": {},
   "outputs": [],
   "source": [
    "rhode_island_pop = pd.merge(rhode_island, peopledf, how = 'left', left_on = 'location_name',\n",
    "                        right_on = 'County')"
   ]
  },
  {
   "cell_type": "markdown",
   "metadata": {},
   "source": [
    "### Economic Data"
   ]
  },
  {
   "cell_type": "code",
   "execution_count": 93,
   "metadata": {},
   "outputs": [
    {
     "data": {
      "text/plain": [
       "200"
      ]
     },
     "execution_count": 93,
     "metadata": {},
     "output_type": "execute_result"
    }
   ],
   "source": [
    "url2 = 'https://en.wikipedia.org/wiki/List_of_Rhode_Island_locations_by_per_capita_income'\n",
    "requests.get(url2).status_code"
   ]
  },
  {
   "cell_type": "code",
   "execution_count": 94,
   "metadata": {},
   "outputs": [],
   "source": [
    "soup = BeautifulSoup(requests.get(url2).content, 'lxml')\n",
    "\n",
    "headers = []\n",
    "table = soup.findAll('table')[2]\n",
    "\n",
    "for th in table.findChildren('th'):\n",
    "    headers.append(th.text)"
   ]
  },
  {
   "cell_type": "code",
   "execution_count": 95,
   "metadata": {},
   "outputs": [
    {
     "data": {
      "text/plain": [
       "['Rank',\n",
       " 'County',\n",
       " 'Per capita\\nincome',\n",
       " 'Median\\nhousehold\\nincome',\n",
       " 'Median\\nfamily\\nincome',\n",
       " 'Population',\n",
       " 'Number of\\nhouseholds']"
      ]
     },
     "execution_count": 95,
     "metadata": {},
     "output_type": "execute_result"
    }
   ],
   "source": [
    "headers"
   ]
  },
  {
   "cell_type": "code",
   "execution_count": 96,
   "metadata": {},
   "outputs": [
    {
     "data": {
      "text/plain": [
       "['Rank',\n",
       " 'County',\n",
       " 'Per capita income',\n",
       " 'Median household income',\n",
       " 'Median family income',\n",
       " 'Population',\n",
       " 'Number of households']"
      ]
     },
     "execution_count": 96,
     "metadata": {},
     "output_type": "execute_result"
    }
   ],
   "source": [
    "headers = [header.replace('\\n', ' ') for header in headers]\n",
    "headers"
   ]
  },
  {
   "cell_type": "code",
   "execution_count": 99,
   "metadata": {},
   "outputs": [],
   "source": [
    "ri_monies = []\n",
    "table = soup.findAll('table')[2]\n",
    "\n",
    "for td in table.findChildren('td'):\n",
    "    ri_monies.append(td.text)"
   ]
  },
  {
   "cell_type": "code",
   "execution_count": 101,
   "metadata": {},
   "outputs": [
    {
     "data": {
      "text/html": [
       "<div>\n",
       "<style scoped>\n",
       "    .dataframe tbody tr th:only-of-type {\n",
       "        vertical-align: middle;\n",
       "    }\n",
       "\n",
       "    .dataframe tbody tr th {\n",
       "        vertical-align: top;\n",
       "    }\n",
       "\n",
       "    .dataframe thead th {\n",
       "        text-align: right;\n",
       "    }\n",
       "</style>\n",
       "<table border=\"1\" class=\"dataframe\">\n",
       "  <thead>\n",
       "    <tr style=\"text-align: right;\">\n",
       "      <th></th>\n",
       "      <th>Rank</th>\n",
       "      <th>County</th>\n",
       "      <th>Per capita income</th>\n",
       "      <th>Median household income</th>\n",
       "      <th>Median family income</th>\n",
       "      <th>Population</th>\n",
       "      <th>Number of households</th>\n",
       "    </tr>\n",
       "  </thead>\n",
       "  <tbody>\n",
       "    <tr>\n",
       "      <th>0</th>\n",
       "      <td>1</td>\n",
       "      <td>Newport</td>\n",
       "      <td>$36,994</td>\n",
       "      <td>$67,239</td>\n",
       "      <td>$82,477</td>\n",
       "      <td>82,888</td>\n",
       "      <td>34,911</td>\n",
       "    </tr>\n",
       "    <tr>\n",
       "      <th>1</th>\n",
       "      <td>2</td>\n",
       "      <td>Bristol</td>\n",
       "      <td>$35,588</td>\n",
       "      <td>$68,333</td>\n",
       "      <td>$87,781</td>\n",
       "      <td>49,875</td>\n",
       "      <td>19,150</td>\n",
       "    </tr>\n",
       "    <tr>\n",
       "      <th>2</th>\n",
       "      <td>3</td>\n",
       "      <td>Washington</td>\n",
       "      <td>$34,737</td>\n",
       "      <td>$70,285</td>\n",
       "      <td>$87,999</td>\n",
       "      <td>126,979</td>\n",
       "      <td>49,177</td>\n",
       "    </tr>\n",
       "    <tr>\n",
       "      <th>3</th>\n",
       "      <td>4</td>\n",
       "      <td>Kent</td>\n",
       "      <td>$31,221</td>\n",
       "      <td>$61,088</td>\n",
       "      <td>$77,100</td>\n",
       "      <td>166,158</td>\n",
       "      <td>68,645</td>\n",
       "    </tr>\n",
       "    <tr>\n",
       "      <th>4</th>\n",
       "      <td>5</td>\n",
       "      <td>Providence</td>\n",
       "      <td>$25,169</td>\n",
       "      <td>$48,500</td>\n",
       "      <td>$61,265</td>\n",
       "      <td>626,667</td>\n",
       "      <td>241,717</td>\n",
       "    </tr>\n",
       "  </tbody>\n",
       "</table>\n",
       "</div>"
      ],
      "text/plain": [
       "  Rank      County Per capita income Median household income  \\\n",
       "0    1     Newport           $36,994                 $67,239   \n",
       "1    2     Bristol           $35,588                 $68,333   \n",
       "2    3  Washington           $34,737                 $70,285   \n",
       "3    4        Kent           $31,221                 $61,088   \n",
       "4    5  Providence           $25,169                 $48,500   \n",
       "\n",
       "  Median family income Population Number of households  \n",
       "0              $82,477     82,888               34,911  \n",
       "1              $87,781     49,875               19,150  \n",
       "2              $87,999    126,979               49,177  \n",
       "3              $77,100    166,158               68,645  \n",
       "4              $61,265    626,667              241,717  "
      ]
     },
     "execution_count": 101,
     "metadata": {},
     "output_type": "execute_result"
    }
   ],
   "source": [
    "ri_moniesdf = pd.DataFrame(np.reshape(ri_monies, (5, 7)), columns = headers)\n",
    "ri_moniesdf"
   ]
  },
  {
   "cell_type": "code",
   "execution_count": 102,
   "metadata": {},
   "outputs": [],
   "source": [
    "ri_moniesdf = ri_moniesdf.drop(columns = ['Population'])"
   ]
  },
  {
   "cell_type": "code",
   "execution_count": 106,
   "metadata": {},
   "outputs": [],
   "source": [
    "counties = [county.replace('County', '') for county in rhode_island_pop['County']]\n",
    "rhode_island_pop['County'] = counties"
   ]
  },
  {
   "cell_type": "code",
   "execution_count": 107,
   "metadata": {},
   "outputs": [],
   "source": [
    "rhode_island_monies = pd.merge(rhode_island_pop, ri_moniesdf, how = 'left', on = 'County')"
   ]
  },
  {
   "cell_type": "code",
   "execution_count": 109,
   "metadata": {},
   "outputs": [],
   "source": [
    "county_dums = pd.get_dummies(rhode_island_monies['County'])\n",
    "rhode_island_monies = pd.concat([rhode_island_monies, county_dums], axis = 1)\n",
    "\n",
    "climate_dums = pd.get_dummies(rhode_island_monies['Climate'])\n",
    "rhode_island_monies = pd.concat([rhode_island_monies, climate_dums], axis = 1)\n",
    "\n",
    "rhode_island_monies.to_csv('rhode_island_raw.csv')"
   ]
  },
  {
   "cell_type": "code",
   "execution_count": null,
   "metadata": {},
   "outputs": [],
   "source": []
  }
 ],
 "metadata": {
  "kernelspec": {
   "display_name": "Python [default]",
   "language": "python",
   "name": "python3"
  },
  "language_info": {
   "codemirror_mode": {
    "name": "ipython",
    "version": 3
   },
   "file_extension": ".py",
   "mimetype": "text/x-python",
   "name": "python",
   "nbconvert_exporter": "python",
   "pygments_lexer": "ipython3",
   "version": "3.6.4"
  }
 },
 "nbformat": 4,
 "nbformat_minor": 2
}
